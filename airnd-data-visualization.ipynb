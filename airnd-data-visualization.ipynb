{
 "cells": [
  {
   "cell_type": "code",
   "execution_count": 1,
   "id": "4927bea8",
   "metadata": {
    "_cell_guid": "b1076dfc-b9ad-4769-8c92-a6c4dae69d19",
    "_uuid": "8f2839f25d086af736a60e9eeb907d3b93b6e0e5",
    "execution": {
     "iopub.execute_input": "2024-07-15T09:48:54.681595Z",
     "iopub.status.busy": "2024-07-15T09:48:54.681136Z",
     "iopub.status.idle": "2024-07-15T09:48:55.735175Z",
     "shell.execute_reply": "2024-07-15T09:48:55.733797Z"
    },
    "papermill": {
     "duration": 1.093512,
     "end_time": "2024-07-15T09:48:55.738141",
     "exception": false,
     "start_time": "2024-07-15T09:48:54.644629",
     "status": "completed"
    },
    "tags": []
   },
   "outputs": [
    {
     "name": "stdout",
     "output_type": "stream",
     "text": [
      "/kaggle/input/airbnbopendata/Airbnb_Open_Data.csv\n"
     ]
    }
   ],
   "source": [
    "# This Python 3 environment comes with many helpful analytics libraries installed\n",
    "# It is defined by the kaggle/python Docker image: https://github.com/kaggle/docker-python\n",
    "# For example, here's several helpful packages to load\n",
    "\n",
    "import numpy as np # linear algebra\n",
    "import pandas as pd # data processing, CSV file I/O (e.g. pd.read_csv)\n",
    "\n",
    "# Input data files are available in the read-only \"../input/\" directory\n",
    "# For example, running this (by clicking run or pressing Shift+Enter) will list all files under the input directory\n",
    "\n",
    "import os\n",
    "for dirname, _, filenames in os.walk('/kaggle/input'):\n",
    "    for filename in filenames:\n",
    "        print(os.path.join(dirname, filename))\n",
    "\n",
    "# You can write up to 20GB to the current directory (/kaggle/working/) that gets preserved as output when you create a version using \"Save & Run All\" \n",
    "# You can also write temporary files to /kaggle/temp/, but they won't be saved outside of the current session"
   ]
  },
  {
   "cell_type": "markdown",
   "id": "672ac616",
   "metadata": {
    "papermill": {
     "duration": 0.033525,
     "end_time": "2024-07-15T09:48:55.806342",
     "exception": false,
     "start_time": "2024-07-15T09:48:55.772817",
     "status": "completed"
    },
    "tags": []
   },
   "source": [
    "**Reading the data**"
   ]
  },
  {
   "cell_type": "code",
   "execution_count": 2,
   "id": "1fa11def",
   "metadata": {
    "execution": {
     "iopub.execute_input": "2024-07-15T09:48:55.874776Z",
     "iopub.status.busy": "2024-07-15T09:48:55.874210Z",
     "iopub.status.idle": "2024-07-15T09:48:57.518768Z",
     "shell.execute_reply": "2024-07-15T09:48:57.517711Z"
    },
    "papermill": {
     "duration": 1.681939,
     "end_time": "2024-07-15T09:48:57.521703",
     "exception": false,
     "start_time": "2024-07-15T09:48:55.839764",
     "status": "completed"
    },
    "tags": []
   },
   "outputs": [
    {
     "name": "stderr",
     "output_type": "stream",
     "text": [
      "/tmp/ipykernel_18/2083687841.py:1: DtypeWarning: Columns (25) have mixed types. Specify dtype option on import or set low_memory=False.\n",
      "  airnd_df = pd.read_csv(\"/kaggle/input/airbnbopendata/Airbnb_Open_Data.csv\")\n"
     ]
    }
   ],
   "source": [
    "airnd_df = pd.read_csv(\"/kaggle/input/airbnbopendata/Airbnb_Open_Data.csv\")"
   ]
  },
  {
   "cell_type": "markdown",
   "id": "81f3860e",
   "metadata": {
    "papermill": {
     "duration": 0.036599,
     "end_time": "2024-07-15T09:48:57.591602",
     "exception": false,
     "start_time": "2024-07-15T09:48:57.555003",
     "status": "completed"
    },
    "tags": []
   },
   "source": [
    "One column has mixed types of data so Specify dtype option on import or set low_memory=False."
   ]
  },
  {
   "cell_type": "code",
   "execution_count": 3,
   "id": "588d3504",
   "metadata": {
    "execution": {
     "iopub.execute_input": "2024-07-15T09:48:57.661342Z",
     "iopub.status.busy": "2024-07-15T09:48:57.660971Z",
     "iopub.status.idle": "2024-07-15T09:48:57.679081Z",
     "shell.execute_reply": "2024-07-15T09:48:57.677821Z"
    },
    "papermill": {
     "duration": 0.055382,
     "end_time": "2024-07-15T09:48:57.681526",
     "exception": false,
     "start_time": "2024-07-15T09:48:57.626144",
     "status": "completed"
    },
    "tags": []
   },
   "outputs": [
    {
     "data": {
      "text/plain": [
       "id                                  int64\n",
       "NAME                               object\n",
       "host id                             int64\n",
       "host_identity_verified             object\n",
       "host name                          object\n",
       "neighbourhood group                object\n",
       "neighbourhood                      object\n",
       "lat                               float64\n",
       "long                              float64\n",
       "country                            object\n",
       "country code                       object\n",
       "instant_bookable                   object\n",
       "cancellation_policy                object\n",
       "room type                          object\n",
       "Construction year                 float64\n",
       "price                              object\n",
       "service fee                        object\n",
       "minimum nights                    float64\n",
       "number of reviews                 float64\n",
       "last review                        object\n",
       "reviews per month                 float64\n",
       "review rate number                float64\n",
       "calculated host listings count    float64\n",
       "availability 365                  float64\n",
       "house_rules                        object\n",
       "license                            object\n",
       "dtype: object"
      ]
     },
     "execution_count": 3,
     "metadata": {},
     "output_type": "execute_result"
    }
   ],
   "source": [
    "airnd_df.dtypes"
   ]
  },
  {
   "cell_type": "code",
   "execution_count": 4,
   "id": "cd6d8026",
   "metadata": {
    "execution": {
     "iopub.execute_input": "2024-07-15T09:48:57.749654Z",
     "iopub.status.busy": "2024-07-15T09:48:57.749297Z",
     "iopub.status.idle": "2024-07-15T09:48:58.794144Z",
     "shell.execute_reply": "2024-07-15T09:48:58.792841Z"
    },
    "papermill": {
     "duration": 1.082542,
     "end_time": "2024-07-15T09:48:58.797120",
     "exception": false,
     "start_time": "2024-07-15T09:48:57.714578",
     "status": "completed"
    },
    "tags": []
   },
   "outputs": [],
   "source": [
    "airnd_df = pd.read_csv(\"/kaggle/input/airbnbopendata/Airbnb_Open_Data.csv\",index_col = 'id',low_memory=False)"
   ]
  },
  {
   "cell_type": "code",
   "execution_count": 5,
   "id": "9fec1812",
   "metadata": {
    "execution": {
     "iopub.execute_input": "2024-07-15T09:48:58.868176Z",
     "iopub.status.busy": "2024-07-15T09:48:58.866860Z",
     "iopub.status.idle": "2024-07-15T09:48:58.875558Z",
     "shell.execute_reply": "2024-07-15T09:48:58.874008Z"
    },
    "papermill": {
     "duration": 0.046795,
     "end_time": "2024-07-15T09:48:58.878353",
     "exception": false,
     "start_time": "2024-07-15T09:48:58.831558",
     "status": "completed"
    },
    "tags": []
   },
   "outputs": [
    {
     "data": {
      "text/plain": [
       "(102599, 25)"
      ]
     },
     "execution_count": 5,
     "metadata": {},
     "output_type": "execute_result"
    }
   ],
   "source": [
    "airnd_df.shape"
   ]
  },
  {
   "cell_type": "markdown",
   "id": "582ddac1",
   "metadata": {
    "papermill": {
     "duration": 0.033096,
     "end_time": "2024-07-15T09:48:58.945306",
     "exception": false,
     "start_time": "2024-07-15T09:48:58.912210",
     "status": "completed"
    },
    "tags": []
   },
   "source": [
    "**Total 25 columns**"
   ]
  },
  {
   "cell_type": "markdown",
   "id": "c5bf7fcc",
   "metadata": {
    "papermill": {
     "duration": 0.033655,
     "end_time": "2024-07-15T09:48:59.013199",
     "exception": false,
     "start_time": "2024-07-15T09:48:58.979544",
     "status": "completed"
    },
    "tags": []
   },
   "source": [
    "**Check if any columns has missing values**"
   ]
  },
  {
   "cell_type": "code",
   "execution_count": 6,
   "id": "785370ac",
   "metadata": {
    "execution": {
     "iopub.execute_input": "2024-07-15T09:48:59.155080Z",
     "iopub.status.busy": "2024-07-15T09:48:59.153958Z",
     "iopub.status.idle": "2024-07-15T09:48:59.321337Z",
     "shell.execute_reply": "2024-07-15T09:48:59.320255Z"
    },
    "papermill": {
     "duration": 0.275354,
     "end_time": "2024-07-15T09:48:59.324613",
     "exception": false,
     "start_time": "2024-07-15T09:48:59.049259",
     "status": "completed"
    },
    "tags": []
   },
   "outputs": [
    {
     "data": {
      "text/plain": [
       "NAME                                 250\n",
       "host id                                0\n",
       "host_identity_verified               289\n",
       "host name                            406\n",
       "neighbourhood group                   29\n",
       "neighbourhood                         16\n",
       "lat                                    8\n",
       "long                                   8\n",
       "country                              532\n",
       "country code                         131\n",
       "instant_bookable                     105\n",
       "cancellation_policy                   76\n",
       "room type                              0\n",
       "Construction year                    214\n",
       "price                                247\n",
       "service fee                          273\n",
       "minimum nights                       409\n",
       "number of reviews                    183\n",
       "last review                        15893\n",
       "reviews per month                  15879\n",
       "review rate number                   326\n",
       "calculated host listings count       319\n",
       "availability 365                     448\n",
       "house_rules                        52131\n",
       "license                           102597\n",
       "dtype: int64"
      ]
     },
     "execution_count": 6,
     "metadata": {},
     "output_type": "execute_result"
    }
   ],
   "source": [
    "before_nulls = airnd_df.isna().sum()\n",
    "before_nulls"
   ]
  },
  {
   "cell_type": "markdown",
   "id": "dc51b12d",
   "metadata": {
    "papermill": {
     "duration": 0.035483,
     "end_time": "2024-07-15T09:48:59.396080",
     "exception": false,
     "start_time": "2024-07-15T09:48:59.360597",
     "status": "completed"
    },
    "tags": []
   },
   "source": [
    "**Handling name**\n",
    "1. Since all columns are lower case lets make it to lower case"
   ]
  },
  {
   "cell_type": "code",
   "execution_count": 7,
   "id": "03b963e7",
   "metadata": {
    "execution": {
     "iopub.execute_input": "2024-07-15T09:48:59.467772Z",
     "iopub.status.busy": "2024-07-15T09:48:59.466733Z",
     "iopub.status.idle": "2024-07-15T09:48:59.472853Z",
     "shell.execute_reply": "2024-07-15T09:48:59.471788Z"
    },
    "papermill": {
     "duration": 0.044906,
     "end_time": "2024-07-15T09:48:59.475487",
     "exception": false,
     "start_time": "2024-07-15T09:48:59.430581",
     "status": "completed"
    },
    "tags": []
   },
   "outputs": [],
   "source": [
    "airnd_df.rename(columns = {'NAME':'name'},inplace=True)"
   ]
  },
  {
   "cell_type": "code",
   "execution_count": 8,
   "id": "40f3b97c",
   "metadata": {
    "execution": {
     "iopub.execute_input": "2024-07-15T09:48:59.559795Z",
     "iopub.status.busy": "2024-07-15T09:48:59.559288Z",
     "iopub.status.idle": "2024-07-15T09:48:59.606182Z",
     "shell.execute_reply": "2024-07-15T09:48:59.604854Z"
    },
    "papermill": {
     "duration": 0.099505,
     "end_time": "2024-07-15T09:48:59.609084",
     "exception": false,
     "start_time": "2024-07-15T09:48:59.509579",
     "status": "completed"
    },
    "tags": []
   },
   "outputs": [
    {
     "data": {
      "text/html": [
       "<div>\n",
       "<style scoped>\n",
       "    .dataframe tbody tr th:only-of-type {\n",
       "        vertical-align: middle;\n",
       "    }\n",
       "\n",
       "    .dataframe tbody tr th {\n",
       "        vertical-align: top;\n",
       "    }\n",
       "\n",
       "    .dataframe thead th {\n",
       "        text-align: right;\n",
       "    }\n",
       "</style>\n",
       "<table border=\"1\" class=\"dataframe\">\n",
       "  <thead>\n",
       "    <tr style=\"text-align: right;\">\n",
       "      <th></th>\n",
       "      <th>name</th>\n",
       "      <th>host id</th>\n",
       "      <th>host_identity_verified</th>\n",
       "      <th>host name</th>\n",
       "      <th>neighbourhood group</th>\n",
       "      <th>neighbourhood</th>\n",
       "      <th>lat</th>\n",
       "      <th>long</th>\n",
       "      <th>country</th>\n",
       "      <th>country code</th>\n",
       "      <th>...</th>\n",
       "      <th>service fee</th>\n",
       "      <th>minimum nights</th>\n",
       "      <th>number of reviews</th>\n",
       "      <th>last review</th>\n",
       "      <th>reviews per month</th>\n",
       "      <th>review rate number</th>\n",
       "      <th>calculated host listings count</th>\n",
       "      <th>availability 365</th>\n",
       "      <th>house_rules</th>\n",
       "      <th>license</th>\n",
       "    </tr>\n",
       "    <tr>\n",
       "      <th>id</th>\n",
       "      <th></th>\n",
       "      <th></th>\n",
       "      <th></th>\n",
       "      <th></th>\n",
       "      <th></th>\n",
       "      <th></th>\n",
       "      <th></th>\n",
       "      <th></th>\n",
       "      <th></th>\n",
       "      <th></th>\n",
       "      <th></th>\n",
       "      <th></th>\n",
       "      <th></th>\n",
       "      <th></th>\n",
       "      <th></th>\n",
       "      <th></th>\n",
       "      <th></th>\n",
       "      <th></th>\n",
       "      <th></th>\n",
       "      <th></th>\n",
       "      <th></th>\n",
       "    </tr>\n",
       "  </thead>\n",
       "  <tbody>\n",
       "    <tr>\n",
       "      <th>1001254</th>\n",
       "      <td>Clean &amp; quiet apt home by the park</td>\n",
       "      <td>80014485718</td>\n",
       "      <td>unconfirmed</td>\n",
       "      <td>Madaline</td>\n",
       "      <td>Brooklyn</td>\n",
       "      <td>Kensington</td>\n",
       "      <td>40.64749</td>\n",
       "      <td>-73.97237</td>\n",
       "      <td>United States</td>\n",
       "      <td>US</td>\n",
       "      <td>...</td>\n",
       "      <td>$193</td>\n",
       "      <td>10.0</td>\n",
       "      <td>9.0</td>\n",
       "      <td>10/19/2021</td>\n",
       "      <td>0.21</td>\n",
       "      <td>4.0</td>\n",
       "      <td>6.0</td>\n",
       "      <td>286.0</td>\n",
       "      <td>Clean up and treat the home the way you'd like...</td>\n",
       "      <td>NaN</td>\n",
       "    </tr>\n",
       "    <tr>\n",
       "      <th>1002102</th>\n",
       "      <td>Skylit Midtown Castle</td>\n",
       "      <td>52335172823</td>\n",
       "      <td>verified</td>\n",
       "      <td>Jenna</td>\n",
       "      <td>Manhattan</td>\n",
       "      <td>Midtown</td>\n",
       "      <td>40.75362</td>\n",
       "      <td>-73.98377</td>\n",
       "      <td>United States</td>\n",
       "      <td>US</td>\n",
       "      <td>...</td>\n",
       "      <td>$28</td>\n",
       "      <td>30.0</td>\n",
       "      <td>45.0</td>\n",
       "      <td>5/21/2022</td>\n",
       "      <td>0.38</td>\n",
       "      <td>4.0</td>\n",
       "      <td>2.0</td>\n",
       "      <td>228.0</td>\n",
       "      <td>Pet friendly but please confirm with me if the...</td>\n",
       "      <td>NaN</td>\n",
       "    </tr>\n",
       "    <tr>\n",
       "      <th>1002403</th>\n",
       "      <td>THE VILLAGE OF HARLEM....NEW YORK !</td>\n",
       "      <td>78829239556</td>\n",
       "      <td>NaN</td>\n",
       "      <td>Elise</td>\n",
       "      <td>Manhattan</td>\n",
       "      <td>Harlem</td>\n",
       "      <td>40.80902</td>\n",
       "      <td>-73.94190</td>\n",
       "      <td>United States</td>\n",
       "      <td>US</td>\n",
       "      <td>...</td>\n",
       "      <td>$124</td>\n",
       "      <td>3.0</td>\n",
       "      <td>0.0</td>\n",
       "      <td>NaN</td>\n",
       "      <td>NaN</td>\n",
       "      <td>5.0</td>\n",
       "      <td>1.0</td>\n",
       "      <td>352.0</td>\n",
       "      <td>I encourage you to use my kitchen, cooking and...</td>\n",
       "      <td>NaN</td>\n",
       "    </tr>\n",
       "    <tr>\n",
       "      <th>1002755</th>\n",
       "      <td>NaN</td>\n",
       "      <td>85098326012</td>\n",
       "      <td>unconfirmed</td>\n",
       "      <td>Garry</td>\n",
       "      <td>Brooklyn</td>\n",
       "      <td>Clinton Hill</td>\n",
       "      <td>40.68514</td>\n",
       "      <td>-73.95976</td>\n",
       "      <td>United States</td>\n",
       "      <td>US</td>\n",
       "      <td>...</td>\n",
       "      <td>$74</td>\n",
       "      <td>30.0</td>\n",
       "      <td>270.0</td>\n",
       "      <td>7/5/2019</td>\n",
       "      <td>4.64</td>\n",
       "      <td>4.0</td>\n",
       "      <td>1.0</td>\n",
       "      <td>322.0</td>\n",
       "      <td>NaN</td>\n",
       "      <td>NaN</td>\n",
       "    </tr>\n",
       "    <tr>\n",
       "      <th>1003689</th>\n",
       "      <td>Entire Apt: Spacious Studio/Loft by central park</td>\n",
       "      <td>92037596077</td>\n",
       "      <td>verified</td>\n",
       "      <td>Lyndon</td>\n",
       "      <td>Manhattan</td>\n",
       "      <td>East Harlem</td>\n",
       "      <td>40.79851</td>\n",
       "      <td>-73.94399</td>\n",
       "      <td>United States</td>\n",
       "      <td>US</td>\n",
       "      <td>...</td>\n",
       "      <td>$41</td>\n",
       "      <td>10.0</td>\n",
       "      <td>9.0</td>\n",
       "      <td>11/19/2018</td>\n",
       "      <td>0.10</td>\n",
       "      <td>3.0</td>\n",
       "      <td>1.0</td>\n",
       "      <td>289.0</td>\n",
       "      <td>Please no smoking in the house, porch or on th...</td>\n",
       "      <td>NaN</td>\n",
       "    </tr>\n",
       "  </tbody>\n",
       "</table>\n",
       "<p>5 rows × 25 columns</p>\n",
       "</div>"
      ],
      "text/plain": [
       "                                                     name      host id  \\\n",
       "id                                                                       \n",
       "1001254                Clean & quiet apt home by the park  80014485718   \n",
       "1002102                             Skylit Midtown Castle  52335172823   \n",
       "1002403               THE VILLAGE OF HARLEM....NEW YORK !  78829239556   \n",
       "1002755                                               NaN  85098326012   \n",
       "1003689  Entire Apt: Spacious Studio/Loft by central park  92037596077   \n",
       "\n",
       "        host_identity_verified host name neighbourhood group neighbourhood  \\\n",
       "id                                                                           \n",
       "1001254            unconfirmed  Madaline            Brooklyn    Kensington   \n",
       "1002102               verified     Jenna           Manhattan       Midtown   \n",
       "1002403                    NaN     Elise           Manhattan        Harlem   \n",
       "1002755            unconfirmed     Garry            Brooklyn  Clinton Hill   \n",
       "1003689               verified    Lyndon           Manhattan   East Harlem   \n",
       "\n",
       "              lat      long        country country code  ... service fee  \\\n",
       "id                                                       ...               \n",
       "1001254  40.64749 -73.97237  United States           US  ...       $193    \n",
       "1002102  40.75362 -73.98377  United States           US  ...        $28    \n",
       "1002403  40.80902 -73.94190  United States           US  ...       $124    \n",
       "1002755  40.68514 -73.95976  United States           US  ...        $74    \n",
       "1003689  40.79851 -73.94399  United States           US  ...        $41    \n",
       "\n",
       "        minimum nights number of reviews  last review reviews per month  \\\n",
       "id                                                                        \n",
       "1001254           10.0               9.0   10/19/2021              0.21   \n",
       "1002102           30.0              45.0    5/21/2022              0.38   \n",
       "1002403            3.0               0.0          NaN               NaN   \n",
       "1002755           30.0             270.0     7/5/2019              4.64   \n",
       "1003689           10.0               9.0   11/19/2018              0.10   \n",
       "\n",
       "        review rate number  calculated host listings count  availability 365  \\\n",
       "id                                                                             \n",
       "1001254                4.0                             6.0             286.0   \n",
       "1002102                4.0                             2.0             228.0   \n",
       "1002403                5.0                             1.0             352.0   \n",
       "1002755                4.0                             1.0             322.0   \n",
       "1003689                3.0                             1.0             289.0   \n",
       "\n",
       "                                               house_rules  license  \n",
       "id                                                                   \n",
       "1001254  Clean up and treat the home the way you'd like...      NaN  \n",
       "1002102  Pet friendly but please confirm with me if the...      NaN  \n",
       "1002403  I encourage you to use my kitchen, cooking and...      NaN  \n",
       "1002755                                                NaN      NaN  \n",
       "1003689  Please no smoking in the house, porch or on th...      NaN  \n",
       "\n",
       "[5 rows x 25 columns]"
      ]
     },
     "execution_count": 8,
     "metadata": {},
     "output_type": "execute_result"
    }
   ],
   "source": [
    "airnd_df.head()"
   ]
  },
  {
   "cell_type": "markdown",
   "id": "46e5798c",
   "metadata": {
    "papermill": {
     "duration": 0.043602,
     "end_time": "2024-07-15T09:48:59.687277",
     "exception": false,
     "start_time": "2024-07-15T09:48:59.643675",
     "status": "completed"
    },
    "tags": []
   },
   "source": [
    "**Even though few names are null still we can find name if their lat and long matches with any other**"
   ]
  },
  {
   "cell_type": "code",
   "execution_count": 9,
   "id": "ddee315e",
   "metadata": {
    "execution": {
     "iopub.execute_input": "2024-07-15T09:48:59.792587Z",
     "iopub.status.busy": "2024-07-15T09:48:59.791110Z",
     "iopub.status.idle": "2024-07-15T09:48:59.849614Z",
     "shell.execute_reply": "2024-07-15T09:48:59.848294Z"
    },
    "papermill": {
     "duration": 0.115076,
     "end_time": "2024-07-15T09:48:59.852646",
     "exception": false,
     "start_time": "2024-07-15T09:48:59.737570",
     "status": "completed"
    },
    "tags": []
   },
   "outputs": [
    {
     "data": {
      "text/plain": [
       "lat       long     \n",
       "40.49979  -74.24084    1\n",
       "40.50456  -74.24984    1\n",
       "40.50641  -74.23059    1\n",
       "40.50708  -74.24285    2\n",
       "40.50863  -74.24135    1\n",
       "                      ..\n",
       "40.91248  -73.84885    1\n",
       "40.91306  -73.89389    1\n",
       "40.91310  -73.89518    1\n",
       "40.91685  -73.90136    1\n",
       "40.91697  -73.90125    1\n",
       "Name: name, Length: 67162, dtype: int64"
      ]
     },
     "execution_count": 9,
     "metadata": {},
     "output_type": "execute_result"
    }
   ],
   "source": [
    "airnd_df.groupby(['lat','long']).name.count()"
   ]
  },
  {
   "cell_type": "markdown",
   "id": "23cd9028",
   "metadata": {
    "papermill": {
     "duration": 0.041782,
     "end_time": "2024-07-15T09:48:59.936510",
     "exception": false,
     "start_time": "2024-07-15T09:48:59.894728",
     "status": "completed"
    },
    "tags": []
   },
   "source": [
    "**Based on above result we can assume that lat and long are repating so we can try to fix names** "
   ]
  },
  {
   "cell_type": "code",
   "execution_count": 10,
   "id": "b63a5e09",
   "metadata": {
    "execution": {
     "iopub.execute_input": "2024-07-15T09:49:00.012352Z",
     "iopub.status.busy": "2024-07-15T09:49:00.011985Z",
     "iopub.status.idle": "2024-07-15T09:49:00.017231Z",
     "shell.execute_reply": "2024-07-15T09:49:00.015972Z"
    },
    "papermill": {
     "duration": 0.045638,
     "end_time": "2024-07-15T09:49:00.020200",
     "exception": false,
     "start_time": "2024-07-15T09:48:59.974562",
     "status": "completed"
    },
    "tags": []
   },
   "outputs": [],
   "source": [
    "# new_name = airnd_df.loc[(airnd_df['lat'] == 40.50708) & (airnd_df['long'] == -74.24285) ,'name'].unique()[0]\n",
    "# new_name"
   ]
  },
  {
   "cell_type": "code",
   "execution_count": 11,
   "id": "8865ebfe",
   "metadata": {
    "execution": {
     "iopub.execute_input": "2024-07-15T09:49:00.092742Z",
     "iopub.status.busy": "2024-07-15T09:49:00.092299Z",
     "iopub.status.idle": "2024-07-15T09:49:00.099129Z",
     "shell.execute_reply": "2024-07-15T09:49:00.097774Z"
    },
    "papermill": {
     "duration": 0.047243,
     "end_time": "2024-07-15T09:49:00.102419",
     "exception": false,
     "start_time": "2024-07-15T09:49:00.055176",
     "status": "completed"
    },
    "tags": []
   },
   "outputs": [],
   "source": [
    "def fill_name(x):\n",
    "    if pd.isna(x.name):\n",
    "        new_name = airnd_df.loc[(airnd_df['lat'] == x.lat) & (airnd_df['long'] == x.long) ,'name'].unique()[0]\n",
    "        x.name = new_name \n",
    "    return x"
   ]
  },
  {
   "cell_type": "code",
   "execution_count": 12,
   "id": "4372ad6c",
   "metadata": {
    "execution": {
     "iopub.execute_input": "2024-07-15T09:49:00.174325Z",
     "iopub.status.busy": "2024-07-15T09:49:00.173891Z",
     "iopub.status.idle": "2024-07-15T09:49:07.572712Z",
     "shell.execute_reply": "2024-07-15T09:49:07.571151Z"
    },
    "papermill": {
     "duration": 7.438384,
     "end_time": "2024-07-15T09:49:07.575873",
     "exception": false,
     "start_time": "2024-07-15T09:49:00.137489",
     "status": "completed"
    },
    "tags": []
   },
   "outputs": [],
   "source": [
    "updated_df = airnd_df.apply(fill_name,axis = 1)"
   ]
  },
  {
   "cell_type": "code",
   "execution_count": 13,
   "id": "a234629e",
   "metadata": {
    "execution": {
     "iopub.execute_input": "2024-07-15T09:49:07.649674Z",
     "iopub.status.busy": "2024-07-15T09:49:07.649278Z",
     "iopub.status.idle": "2024-07-15T09:49:07.864707Z",
     "shell.execute_reply": "2024-07-15T09:49:07.863313Z"
    },
    "papermill": {
     "duration": 0.254403,
     "end_time": "2024-07-15T09:49:07.867499",
     "exception": false,
     "start_time": "2024-07-15T09:49:07.613096",
     "status": "completed"
    },
    "tags": []
   },
   "outputs": [
    {
     "data": {
      "text/plain": [
       "name                                 250\n",
       "host id                                0\n",
       "host_identity_verified               289\n",
       "host name                            406\n",
       "neighbourhood group                   29\n",
       "neighbourhood                         16\n",
       "lat                                    8\n",
       "long                                   8\n",
       "country                              532\n",
       "country code                         131\n",
       "instant_bookable                     105\n",
       "cancellation_policy                   76\n",
       "room type                              0\n",
       "Construction year                    214\n",
       "price                                247\n",
       "service fee                          273\n",
       "minimum nights                       409\n",
       "number of reviews                    183\n",
       "last review                        15893\n",
       "reviews per month                  15879\n",
       "review rate number                   326\n",
       "calculated host listings count       319\n",
       "availability 365                     448\n",
       "house_rules                        52131\n",
       "license                           102597\n",
       "dtype: int64"
      ]
     },
     "execution_count": 13,
     "metadata": {},
     "output_type": "execute_result"
    }
   ],
   "source": [
    "updated_df.isna().sum()"
   ]
  },
  {
   "cell_type": "markdown",
   "id": "f023edc1",
   "metadata": {
    "papermill": {
     "duration": 0.035607,
     "end_time": "2024-07-15T09:49:07.938934",
     "exception": false,
     "start_time": "2024-07-15T09:49:07.903327",
     "status": "completed"
    },
    "tags": []
   },
   "source": [
    "**No use none of them are matching**\n",
    "\n",
    "**Since we can get the name we need to drop columns with name = null**"
   ]
  },
  {
   "cell_type": "code",
   "execution_count": 14,
   "id": "1d7c930e",
   "metadata": {
    "execution": {
     "iopub.execute_input": "2024-07-15T09:49:08.010622Z",
     "iopub.status.busy": "2024-07-15T09:49:08.009759Z",
     "iopub.status.idle": "2024-07-15T09:49:08.186673Z",
     "shell.execute_reply": "2024-07-15T09:49:08.185185Z"
    },
    "papermill": {
     "duration": 0.215776,
     "end_time": "2024-07-15T09:49:08.189494",
     "exception": false,
     "start_time": "2024-07-15T09:49:07.973718",
     "status": "completed"
    },
    "tags": []
   },
   "outputs": [],
   "source": [
    "updated_df.dropna(subset=['name'],inplace = True)"
   ]
  },
  {
   "cell_type": "code",
   "execution_count": 15,
   "id": "810dd326",
   "metadata": {
    "execution": {
     "iopub.execute_input": "2024-07-15T09:49:08.260431Z",
     "iopub.status.busy": "2024-07-15T09:49:08.260047Z",
     "iopub.status.idle": "2024-07-15T09:49:08.425632Z",
     "shell.execute_reply": "2024-07-15T09:49:08.424492Z"
    },
    "papermill": {
     "duration": 0.204557,
     "end_time": "2024-07-15T09:49:08.428543",
     "exception": false,
     "start_time": "2024-07-15T09:49:08.223986",
     "status": "completed"
    },
    "tags": []
   },
   "outputs": [
    {
     "data": {
      "text/plain": [
       "name                                   0\n",
       "host id                                0\n",
       "host_identity_verified               277\n",
       "host name                            400\n",
       "neighbourhood group                   27\n",
       "neighbourhood                         16\n",
       "lat                                    8\n",
       "long                                   8\n",
       "country                              527\n",
       "country code                         123\n",
       "instant_bookable                      97\n",
       "cancellation_policy                   71\n",
       "room type                              0\n",
       "Construction year                    205\n",
       "price                                244\n",
       "service fee                          273\n",
       "minimum nights                       403\n",
       "number of reviews                    182\n",
       "last review                        15857\n",
       "reviews per month                  15843\n",
       "review rate number                   318\n",
       "calculated host listings count       318\n",
       "availability 365                     430\n",
       "house_rules                        52025\n",
       "license                           102347\n",
       "dtype: int64"
      ]
     },
     "execution_count": 15,
     "metadata": {},
     "output_type": "execute_result"
    }
   ],
   "source": [
    "updated_df.isna().sum()"
   ]
  },
  {
   "cell_type": "code",
   "execution_count": 16,
   "id": "a64dd1dd",
   "metadata": {
    "execution": {
     "iopub.execute_input": "2024-07-15T09:49:08.500684Z",
     "iopub.status.busy": "2024-07-15T09:49:08.500286Z",
     "iopub.status.idle": "2024-07-15T09:49:08.507543Z",
     "shell.execute_reply": "2024-07-15T09:49:08.506409Z"
    },
    "papermill": {
     "duration": 0.046196,
     "end_time": "2024-07-15T09:49:08.509941",
     "exception": false,
     "start_time": "2024-07-15T09:49:08.463745",
     "status": "completed"
    },
    "tags": []
   },
   "outputs": [
    {
     "data": {
      "text/plain": [
       "(102349, 25)"
      ]
     },
     "execution_count": 16,
     "metadata": {},
     "output_type": "execute_result"
    }
   ],
   "source": [
    "updated_df.shape"
   ]
  },
  {
   "cell_type": "markdown",
   "id": "bf78d41e",
   "metadata": {
    "papermill": {
     "duration": 0.035812,
     "end_time": "2024-07-15T09:49:08.581346",
     "exception": false,
     "start_time": "2024-07-15T09:49:08.545534",
     "status": "completed"
    },
    "tags": []
   },
   "source": [
    "**Making all null host_identity to unconfirmed**"
   ]
  },
  {
   "cell_type": "code",
   "execution_count": 17,
   "id": "5227a0c8",
   "metadata": {
    "execution": {
     "iopub.execute_input": "2024-07-15T09:49:08.657586Z",
     "iopub.status.busy": "2024-07-15T09:49:08.657168Z",
     "iopub.status.idle": "2024-07-15T09:49:08.676342Z",
     "shell.execute_reply": "2024-07-15T09:49:08.675158Z"
    },
    "papermill": {
     "duration": 0.059696,
     "end_time": "2024-07-15T09:49:08.679081",
     "exception": false,
     "start_time": "2024-07-15T09:49:08.619385",
     "status": "completed"
    },
    "tags": []
   },
   "outputs": [],
   "source": [
    "updated_host_identity = updated_df.host_identity_verified.fillna('unconfirmed')"
   ]
  },
  {
   "cell_type": "code",
   "execution_count": 18,
   "id": "f43fc7d0",
   "metadata": {
    "execution": {
     "iopub.execute_input": "2024-07-15T09:49:08.752432Z",
     "iopub.status.busy": "2024-07-15T09:49:08.752054Z",
     "iopub.status.idle": "2024-07-15T09:49:08.758894Z",
     "shell.execute_reply": "2024-07-15T09:49:08.757745Z"
    },
    "papermill": {
     "duration": 0.047335,
     "end_time": "2024-07-15T09:49:08.761593",
     "exception": false,
     "start_time": "2024-07-15T09:49:08.714258",
     "status": "completed"
    },
    "tags": []
   },
   "outputs": [],
   "source": [
    "updated_df['host_identity_verified'] = updated_host_identity"
   ]
  },
  {
   "cell_type": "code",
   "execution_count": 19,
   "id": "7d6813ea",
   "metadata": {
    "execution": {
     "iopub.execute_input": "2024-07-15T09:49:08.834096Z",
     "iopub.status.busy": "2024-07-15T09:49:08.833599Z",
     "iopub.status.idle": "2024-07-15T09:49:09.002619Z",
     "shell.execute_reply": "2024-07-15T09:49:09.001511Z"
    },
    "papermill": {
     "duration": 0.208865,
     "end_time": "2024-07-15T09:49:09.005726",
     "exception": false,
     "start_time": "2024-07-15T09:49:08.796861",
     "status": "completed"
    },
    "tags": []
   },
   "outputs": [
    {
     "data": {
      "text/plain": [
       "name                                   0\n",
       "host id                                0\n",
       "host_identity_verified                 0\n",
       "host name                            400\n",
       "neighbourhood group                   27\n",
       "neighbourhood                         16\n",
       "lat                                    8\n",
       "long                                   8\n",
       "country                              527\n",
       "country code                         123\n",
       "instant_bookable                      97\n",
       "cancellation_policy                   71\n",
       "room type                              0\n",
       "Construction year                    205\n",
       "price                                244\n",
       "service fee                          273\n",
       "minimum nights                       403\n",
       "number of reviews                    182\n",
       "last review                        15857\n",
       "reviews per month                  15843\n",
       "review rate number                   318\n",
       "calculated host listings count       318\n",
       "availability 365                     430\n",
       "house_rules                        52025\n",
       "license                           102347\n",
       "dtype: int64"
      ]
     },
     "execution_count": 19,
     "metadata": {},
     "output_type": "execute_result"
    }
   ],
   "source": [
    "updated_df.isna().sum()"
   ]
  },
  {
   "cell_type": "markdown",
   "id": "40ff37cf",
   "metadata": {
    "papermill": {
     "duration": 0.035029,
     "end_time": "2024-07-15T09:49:09.076237",
     "exception": false,
     "start_time": "2024-07-15T09:49:09.041208",
     "status": "completed"
    },
    "tags": []
   },
   "source": [
    "**Making all null host_names to unknown**"
   ]
  },
  {
   "cell_type": "code",
   "execution_count": 20,
   "id": "92c0d43c",
   "metadata": {
    "execution": {
     "iopub.execute_input": "2024-07-15T09:49:09.150062Z",
     "iopub.status.busy": "2024-07-15T09:49:09.149606Z",
     "iopub.status.idle": "2024-07-15T09:49:09.172001Z",
     "shell.execute_reply": "2024-07-15T09:49:09.170383Z"
    },
    "papermill": {
     "duration": 0.06279,
     "end_time": "2024-07-15T09:49:09.174935",
     "exception": false,
     "start_time": "2024-07-15T09:49:09.112145",
     "status": "completed"
    },
    "tags": []
   },
   "outputs": [],
   "source": [
    "updated_df['host name'] = updated_df['host name'].fillna('unknown')"
   ]
  },
  {
   "cell_type": "code",
   "execution_count": 21,
   "id": "4552771a",
   "metadata": {
    "execution": {
     "iopub.execute_input": "2024-07-15T09:49:09.248140Z",
     "iopub.status.busy": "2024-07-15T09:49:09.246899Z",
     "iopub.status.idle": "2024-07-15T09:49:09.415307Z",
     "shell.execute_reply": "2024-07-15T09:49:09.414126Z"
    },
    "papermill": {
     "duration": 0.207971,
     "end_time": "2024-07-15T09:49:09.418160",
     "exception": false,
     "start_time": "2024-07-15T09:49:09.210189",
     "status": "completed"
    },
    "tags": []
   },
   "outputs": [
    {
     "data": {
      "text/plain": [
       "name                                   0\n",
       "host id                                0\n",
       "host_identity_verified                 0\n",
       "host name                              0\n",
       "neighbourhood group                   27\n",
       "neighbourhood                         16\n",
       "lat                                    8\n",
       "long                                   8\n",
       "country                              527\n",
       "country code                         123\n",
       "instant_bookable                      97\n",
       "cancellation_policy                   71\n",
       "room type                              0\n",
       "Construction year                    205\n",
       "price                                244\n",
       "service fee                          273\n",
       "minimum nights                       403\n",
       "number of reviews                    182\n",
       "last review                        15857\n",
       "reviews per month                  15843\n",
       "review rate number                   318\n",
       "calculated host listings count       318\n",
       "availability 365                     430\n",
       "house_rules                        52025\n",
       "license                           102347\n",
       "dtype: int64"
      ]
     },
     "execution_count": 21,
     "metadata": {},
     "output_type": "execute_result"
    }
   ],
   "source": [
    "updated_df.isna().sum()"
   ]
  },
  {
   "cell_type": "code",
   "execution_count": 22,
   "id": "b4ef9d0a",
   "metadata": {
    "execution": {
     "iopub.execute_input": "2024-07-15T09:49:09.493008Z",
     "iopub.status.busy": "2024-07-15T09:49:09.492570Z",
     "iopub.status.idle": "2024-07-15T09:49:09.512355Z",
     "shell.execute_reply": "2024-07-15T09:49:09.511205Z"
    },
    "papermill": {
     "duration": 0.059996,
     "end_time": "2024-07-15T09:49:09.515182",
     "exception": false,
     "start_time": "2024-07-15T09:49:09.455186",
     "status": "completed"
    },
    "tags": []
   },
   "outputs": [
    {
     "data": {
      "text/html": [
       "<div>\n",
       "<style scoped>\n",
       "    .dataframe tbody tr th:only-of-type {\n",
       "        vertical-align: middle;\n",
       "    }\n",
       "\n",
       "    .dataframe tbody tr th {\n",
       "        vertical-align: top;\n",
       "    }\n",
       "\n",
       "    .dataframe thead th {\n",
       "        text-align: right;\n",
       "    }\n",
       "</style>\n",
       "<table border=\"1\" class=\"dataframe\">\n",
       "  <thead>\n",
       "    <tr style=\"text-align: right;\">\n",
       "      <th></th>\n",
       "      <th>neighbourhood group</th>\n",
       "      <th>neighbourhood</th>\n",
       "    </tr>\n",
       "    <tr>\n",
       "      <th>id</th>\n",
       "      <th></th>\n",
       "      <th></th>\n",
       "    </tr>\n",
       "  </thead>\n",
       "  <tbody>\n",
       "    <tr>\n",
       "      <th>1001254</th>\n",
       "      <td>Brooklyn</td>\n",
       "      <td>Kensington</td>\n",
       "    </tr>\n",
       "    <tr>\n",
       "      <th>1002102</th>\n",
       "      <td>Manhattan</td>\n",
       "      <td>Midtown</td>\n",
       "    </tr>\n",
       "    <tr>\n",
       "      <th>1002403</th>\n",
       "      <td>Manhattan</td>\n",
       "      <td>Harlem</td>\n",
       "    </tr>\n",
       "    <tr>\n",
       "      <th>1003689</th>\n",
       "      <td>Manhattan</td>\n",
       "      <td>East Harlem</td>\n",
       "    </tr>\n",
       "    <tr>\n",
       "      <th>1004098</th>\n",
       "      <td>Manhattan</td>\n",
       "      <td>Murray Hill</td>\n",
       "    </tr>\n",
       "    <tr>\n",
       "      <th>...</th>\n",
       "      <td>...</td>\n",
       "      <td>...</td>\n",
       "    </tr>\n",
       "    <tr>\n",
       "      <th>6092437</th>\n",
       "      <td>Brooklyn</td>\n",
       "      <td>Williamsburg</td>\n",
       "    </tr>\n",
       "    <tr>\n",
       "      <th>6092990</th>\n",
       "      <td>Manhattan</td>\n",
       "      <td>Morningside Heights</td>\n",
       "    </tr>\n",
       "    <tr>\n",
       "      <th>6093542</th>\n",
       "      <td>Brooklyn</td>\n",
       "      <td>Park Slope</td>\n",
       "    </tr>\n",
       "    <tr>\n",
       "      <th>6094094</th>\n",
       "      <td>Queens</td>\n",
       "      <td>Long Island City</td>\n",
       "    </tr>\n",
       "    <tr>\n",
       "      <th>6094647</th>\n",
       "      <td>Manhattan</td>\n",
       "      <td>Upper West Side</td>\n",
       "    </tr>\n",
       "  </tbody>\n",
       "</table>\n",
       "<p>102349 rows × 2 columns</p>\n",
       "</div>"
      ],
      "text/plain": [
       "        neighbourhood group        neighbourhood\n",
       "id                                              \n",
       "1001254            Brooklyn           Kensington\n",
       "1002102           Manhattan              Midtown\n",
       "1002403           Manhattan               Harlem\n",
       "1003689           Manhattan          East Harlem\n",
       "1004098           Manhattan          Murray Hill\n",
       "...                     ...                  ...\n",
       "6092437            Brooklyn         Williamsburg\n",
       "6092990           Manhattan  Morningside Heights\n",
       "6093542            Brooklyn           Park Slope\n",
       "6094094              Queens     Long Island City\n",
       "6094647           Manhattan      Upper West Side\n",
       "\n",
       "[102349 rows x 2 columns]"
      ]
     },
     "execution_count": 22,
     "metadata": {},
     "output_type": "execute_result"
    }
   ],
   "source": [
    "updated_df.loc[:,'neighbourhood group':'neighbourhood']"
   ]
  },
  {
   "cell_type": "code",
   "execution_count": 23,
   "id": "d482938a",
   "metadata": {
    "execution": {
     "iopub.execute_input": "2024-07-15T09:49:09.594009Z",
     "iopub.status.busy": "2024-07-15T09:49:09.593558Z",
     "iopub.status.idle": "2024-07-15T09:49:09.654313Z",
     "shell.execute_reply": "2024-07-15T09:49:09.652999Z"
    },
    "papermill": {
     "duration": 0.103243,
     "end_time": "2024-07-15T09:49:09.657527",
     "exception": false,
     "start_time": "2024-07-15T09:49:09.554284",
     "status": "completed"
    },
    "tags": []
   },
   "outputs": [
    {
     "data": {
      "text/plain": [
       "neighbourhood group  neighbourhood\n",
       "Bronx                Allerton         97\n",
       "                     Baychester       29\n",
       "                     Belmont          45\n",
       "                     Bronxdale        47\n",
       "                     Castle Hill      22\n",
       "                                      ..\n",
       "Staten Island        Westerleigh       5\n",
       "                     Willowbrook       3\n",
       "                     Woodrow           3\n",
       "brookln              South Slope       1\n",
       "manhatan             Chelsea           1\n",
       "Name: name, Length: 226, dtype: int64"
      ]
     },
     "execution_count": 23,
     "metadata": {},
     "output_type": "execute_result"
    }
   ],
   "source": [
    "updated_df.groupby(['neighbourhood group','neighbourhood']).name.count()"
   ]
  },
  {
   "cell_type": "code",
   "execution_count": 24,
   "id": "dafa3615",
   "metadata": {
    "execution": {
     "iopub.execute_input": "2024-07-15T09:49:09.740266Z",
     "iopub.status.busy": "2024-07-15T09:49:09.739742Z",
     "iopub.status.idle": "2024-07-15T09:49:09.826015Z",
     "shell.execute_reply": "2024-07-15T09:49:09.824842Z"
    },
    "papermill": {
     "duration": 0.134847,
     "end_time": "2024-07-15T09:49:09.828887",
     "exception": false,
     "start_time": "2024-07-15T09:49:09.694040",
     "status": "completed"
    },
    "tags": []
   },
   "outputs": [
    {
     "data": {
      "text/html": [
       "<div>\n",
       "<style scoped>\n",
       "    .dataframe tbody tr th:only-of-type {\n",
       "        vertical-align: middle;\n",
       "    }\n",
       "\n",
       "    .dataframe tbody tr th {\n",
       "        vertical-align: top;\n",
       "    }\n",
       "\n",
       "    .dataframe thead th {\n",
       "        text-align: right;\n",
       "    }\n",
       "</style>\n",
       "<table border=\"1\" class=\"dataframe\">\n",
       "  <thead>\n",
       "    <tr style=\"text-align: right;\">\n",
       "      <th></th>\n",
       "      <th>name</th>\n",
       "      <th>host id</th>\n",
       "      <th>host_identity_verified</th>\n",
       "      <th>host name</th>\n",
       "      <th>neighbourhood group</th>\n",
       "      <th>neighbourhood</th>\n",
       "      <th>lat</th>\n",
       "      <th>long</th>\n",
       "      <th>country</th>\n",
       "      <th>country code</th>\n",
       "      <th>...</th>\n",
       "      <th>service fee</th>\n",
       "      <th>minimum nights</th>\n",
       "      <th>number of reviews</th>\n",
       "      <th>last review</th>\n",
       "      <th>reviews per month</th>\n",
       "      <th>review rate number</th>\n",
       "      <th>calculated host listings count</th>\n",
       "      <th>availability 365</th>\n",
       "      <th>house_rules</th>\n",
       "      <th>license</th>\n",
       "    </tr>\n",
       "    <tr>\n",
       "      <th>id</th>\n",
       "      <th></th>\n",
       "      <th></th>\n",
       "      <th></th>\n",
       "      <th></th>\n",
       "      <th></th>\n",
       "      <th></th>\n",
       "      <th></th>\n",
       "      <th></th>\n",
       "      <th></th>\n",
       "      <th></th>\n",
       "      <th></th>\n",
       "      <th></th>\n",
       "      <th></th>\n",
       "      <th></th>\n",
       "      <th></th>\n",
       "      <th></th>\n",
       "      <th></th>\n",
       "      <th></th>\n",
       "      <th></th>\n",
       "      <th></th>\n",
       "      <th></th>\n",
       "    </tr>\n",
       "  </thead>\n",
       "  <tbody>\n",
       "    <tr>\n",
       "      <th>1283561</th>\n",
       "      <td>A PRIVATE FLAT / APARTMENT- $SPECIAL$</td>\n",
       "      <td>25554233693</td>\n",
       "      <td>unconfirmed</td>\n",
       "      <td>Alford</td>\n",
       "      <td>Bronx</td>\n",
       "      <td>Allerton</td>\n",
       "      <td>40.86466</td>\n",
       "      <td>-73.85709</td>\n",
       "      <td>United States</td>\n",
       "      <td>US</td>\n",
       "      <td>...</td>\n",
       "      <td>$15</td>\n",
       "      <td>2.0</td>\n",
       "      <td>271.0</td>\n",
       "      <td>6/20/2019</td>\n",
       "      <td>2.84</td>\n",
       "      <td>1.0</td>\n",
       "      <td>2.0</td>\n",
       "      <td>NaN</td>\n",
       "      <td>Please remember that this is a residential bui...</td>\n",
       "      <td>NaN</td>\n",
       "    </tr>\n",
       "    <tr>\n",
       "      <th>1646422</th>\n",
       "      <td>Hi Traveler.. welcome</td>\n",
       "      <td>39562464038</td>\n",
       "      <td>verified</td>\n",
       "      <td>Ellen</td>\n",
       "      <td>Bronx</td>\n",
       "      <td>Allerton</td>\n",
       "      <td>40.86870</td>\n",
       "      <td>-73.85240</td>\n",
       "      <td>United States</td>\n",
       "      <td>US</td>\n",
       "      <td>...</td>\n",
       "      <td>$20</td>\n",
       "      <td>7.0</td>\n",
       "      <td>2.0</td>\n",
       "      <td>7/23/2018</td>\n",
       "      <td>0.17</td>\n",
       "      <td>5.0</td>\n",
       "      <td>1.0</td>\n",
       "      <td>165.0</td>\n",
       "      <td>No Smoking No Pets</td>\n",
       "      <td>NaN</td>\n",
       "    </tr>\n",
       "    <tr>\n",
       "      <th>1873418</th>\n",
       "      <td>2 Beds/Queen &amp; Full Beautiful Room 40 minsT.Sq...</td>\n",
       "      <td>62351131714</td>\n",
       "      <td>unconfirmed</td>\n",
       "      <td>Enrique</td>\n",
       "      <td>Bronx</td>\n",
       "      <td>Allerton</td>\n",
       "      <td>40.85956</td>\n",
       "      <td>-73.87067</td>\n",
       "      <td>United States</td>\n",
       "      <td>US</td>\n",
       "      <td>...</td>\n",
       "      <td>$232</td>\n",
       "      <td>2.0</td>\n",
       "      <td>169.0</td>\n",
       "      <td>6/12/2019</td>\n",
       "      <td>2.07</td>\n",
       "      <td>1.0</td>\n",
       "      <td>4.0</td>\n",
       "      <td>359.0</td>\n",
       "      <td>- No Smoking In the House.  There is a back po...</td>\n",
       "      <td>NaN</td>\n",
       "    </tr>\n",
       "    <tr>\n",
       "      <th>1922020</th>\n",
       "      <td>PRIVATE BATH/TONS OF SUNLIGHT/SAFE</td>\n",
       "      <td>77129391486</td>\n",
       "      <td>unconfirmed</td>\n",
       "      <td>Enrique</td>\n",
       "      <td>Bronx</td>\n",
       "      <td>Allerton</td>\n",
       "      <td>40.85840</td>\n",
       "      <td>-73.86969</td>\n",
       "      <td>United States</td>\n",
       "      <td>US</td>\n",
       "      <td>...</td>\n",
       "      <td>$109</td>\n",
       "      <td>2.0</td>\n",
       "      <td>189.0</td>\n",
       "      <td>6/23/2019</td>\n",
       "      <td>2.32</td>\n",
       "      <td>2.0</td>\n",
       "      <td>4.0</td>\n",
       "      <td>393.0</td>\n",
       "      <td>Quiet hours are from midnight to 6 a.m.  We as...</td>\n",
       "      <td>NaN</td>\n",
       "    </tr>\n",
       "    <tr>\n",
       "      <th>1944112</th>\n",
       "      <td>Nice beautiful room In the Bronx</td>\n",
       "      <td>51589747151</td>\n",
       "      <td>unconfirmed</td>\n",
       "      <td>Enrique</td>\n",
       "      <td>Bronx</td>\n",
       "      <td>Allerton</td>\n",
       "      <td>40.85914</td>\n",
       "      <td>-73.86979</td>\n",
       "      <td>United States</td>\n",
       "      <td>US</td>\n",
       "      <td>...</td>\n",
       "      <td>$192</td>\n",
       "      <td>1.0</td>\n",
       "      <td>187.0</td>\n",
       "      <td>6/23/2019</td>\n",
       "      <td>2.34</td>\n",
       "      <td>4.0</td>\n",
       "      <td>4.0</td>\n",
       "      <td>313.0</td>\n",
       "      <td>NaN</td>\n",
       "      <td>NaN</td>\n",
       "    </tr>\n",
       "    <tr>\n",
       "      <th>...</th>\n",
       "      <td>...</td>\n",
       "      <td>...</td>\n",
       "      <td>...</td>\n",
       "      <td>...</td>\n",
       "      <td>...</td>\n",
       "      <td>...</td>\n",
       "      <td>...</td>\n",
       "      <td>...</td>\n",
       "      <td>...</td>\n",
       "      <td>...</td>\n",
       "      <td>...</td>\n",
       "      <td>...</td>\n",
       "      <td>...</td>\n",
       "      <td>...</td>\n",
       "      <td>...</td>\n",
       "      <td>...</td>\n",
       "      <td>...</td>\n",
       "      <td>...</td>\n",
       "      <td>...</td>\n",
       "      <td>...</td>\n",
       "      <td>...</td>\n",
       "    </tr>\n",
       "    <tr>\n",
       "      <th>54298838</th>\n",
       "      <td>#ERROR!</td>\n",
       "      <td>41841353089</td>\n",
       "      <td>verified</td>\n",
       "      <td>William</td>\n",
       "      <td>Bronx</td>\n",
       "      <td>Allerton</td>\n",
       "      <td>40.86014</td>\n",
       "      <td>-73.86301</td>\n",
       "      <td>United States</td>\n",
       "      <td>US</td>\n",
       "      <td>...</td>\n",
       "      <td>$173</td>\n",
       "      <td>1.0</td>\n",
       "      <td>30.0</td>\n",
       "      <td>7/2/2019</td>\n",
       "      <td>2.56</td>\n",
       "      <td>4.0</td>\n",
       "      <td>5.0</td>\n",
       "      <td>48.0</td>\n",
       "      <td>The apartment is non-smoking and pets are not ...</td>\n",
       "      <td>NaN</td>\n",
       "    </tr>\n",
       "    <tr>\n",
       "      <th>54299943</th>\n",
       "      <td>❤️ Beautiful, Bright Room - Late Self Check-In...</td>\n",
       "      <td>14682176495</td>\n",
       "      <td>unconfirmed</td>\n",
       "      <td>William</td>\n",
       "      <td>Bronx</td>\n",
       "      <td>Allerton</td>\n",
       "      <td>40.86013</td>\n",
       "      <td>-73.86339</td>\n",
       "      <td>United States</td>\n",
       "      <td>US</td>\n",
       "      <td>...</td>\n",
       "      <td>$115</td>\n",
       "      <td>1.0</td>\n",
       "      <td>30.0</td>\n",
       "      <td>7/2/2019</td>\n",
       "      <td>2.56</td>\n",
       "      <td>2.0</td>\n",
       "      <td>5.0</td>\n",
       "      <td>57.0</td>\n",
       "      <td>NaN</td>\n",
       "      <td>NaN</td>\n",
       "    </tr>\n",
       "    <tr>\n",
       "      <th>54394386</th>\n",
       "      <td>Private Room</td>\n",
       "      <td>56063277482</td>\n",
       "      <td>verified</td>\n",
       "      <td>Momo</td>\n",
       "      <td>Bronx</td>\n",
       "      <td>Allerton</td>\n",
       "      <td>40.86659</td>\n",
       "      <td>-73.86600</td>\n",
       "      <td>United States</td>\n",
       "      <td>US</td>\n",
       "      <td>...</td>\n",
       "      <td>$17</td>\n",
       "      <td>2.0</td>\n",
       "      <td>0.0</td>\n",
       "      <td>NaN</td>\n",
       "      <td>NaN</td>\n",
       "      <td>3.0</td>\n",
       "      <td>1.0</td>\n",
       "      <td>0.0</td>\n",
       "      <td>Please remember that this is a residential bui...</td>\n",
       "      <td>NaN</td>\n",
       "    </tr>\n",
       "    <tr>\n",
       "      <th>54797565</th>\n",
       "      <td>Jay's Studio Apartment</td>\n",
       "      <td>78419675640</td>\n",
       "      <td>unconfirmed</td>\n",
       "      <td>Jehan</td>\n",
       "      <td>Bronx</td>\n",
       "      <td>Allerton</td>\n",
       "      <td>40.87015</td>\n",
       "      <td>-73.85582</td>\n",
       "      <td>United States</td>\n",
       "      <td>US</td>\n",
       "      <td>...</td>\n",
       "      <td>$208</td>\n",
       "      <td>4.0</td>\n",
       "      <td>35.0</td>\n",
       "      <td>7/1/2019</td>\n",
       "      <td>3.13</td>\n",
       "      <td>4.0</td>\n",
       "      <td>1.0</td>\n",
       "      <td>169.0</td>\n",
       "      <td>#NAME?</td>\n",
       "      <td>NaN</td>\n",
       "    </tr>\n",
       "    <tr>\n",
       "      <th>35567584</th>\n",
       "      <td>Hiéroglyphe</td>\n",
       "      <td>97219387634</td>\n",
       "      <td>verified</td>\n",
       "      <td>Yero</td>\n",
       "      <td>Bronx</td>\n",
       "      <td>Allerton</td>\n",
       "      <td>40.86754</td>\n",
       "      <td>-73.85472</td>\n",
       "      <td>United States</td>\n",
       "      <td>US</td>\n",
       "      <td>...</td>\n",
       "      <td>$129</td>\n",
       "      <td>30.0</td>\n",
       "      <td>76.0</td>\n",
       "      <td>11/7/2021</td>\n",
       "      <td>1.64</td>\n",
       "      <td>2.0</td>\n",
       "      <td>1.0</td>\n",
       "      <td>82.0</td>\n",
       "      <td>NaN</td>\n",
       "      <td>NaN</td>\n",
       "    </tr>\n",
       "  </tbody>\n",
       "</table>\n",
       "<p>97 rows × 25 columns</p>\n",
       "</div>"
      ],
      "text/plain": [
       "                                                       name      host id  \\\n",
       "id                                                                         \n",
       "1283561               A PRIVATE FLAT / APARTMENT- $SPECIAL$  25554233693   \n",
       "1646422                               Hi Traveler.. welcome  39562464038   \n",
       "1873418   2 Beds/Queen & Full Beautiful Room 40 minsT.Sq...  62351131714   \n",
       "1922020                  PRIVATE BATH/TONS OF SUNLIGHT/SAFE  77129391486   \n",
       "1944112                    Nice beautiful room In the Bronx  51589747151   \n",
       "...                                                     ...          ...   \n",
       "54298838                                            #ERROR!  41841353089   \n",
       "54299943  ❤️ Beautiful, Bright Room - Late Self Check-In...  14682176495   \n",
       "54394386                                       Private Room  56063277482   \n",
       "54797565                             Jay's Studio Apartment  78419675640   \n",
       "35567584                                        Hiéroglyphe  97219387634   \n",
       "\n",
       "         host_identity_verified host name neighbourhood group neighbourhood  \\\n",
       "id                                                                            \n",
       "1283561             unconfirmed    Alford               Bronx      Allerton   \n",
       "1646422                verified     Ellen               Bronx      Allerton   \n",
       "1873418             unconfirmed   Enrique               Bronx      Allerton   \n",
       "1922020             unconfirmed   Enrique               Bronx      Allerton   \n",
       "1944112             unconfirmed   Enrique               Bronx      Allerton   \n",
       "...                         ...       ...                 ...           ...   \n",
       "54298838               verified   William               Bronx      Allerton   \n",
       "54299943            unconfirmed   William               Bronx      Allerton   \n",
       "54394386               verified      Momo               Bronx      Allerton   \n",
       "54797565            unconfirmed     Jehan               Bronx      Allerton   \n",
       "35567584               verified      Yero               Bronx      Allerton   \n",
       "\n",
       "               lat      long        country country code  ... service fee  \\\n",
       "id                                                        ...               \n",
       "1283561   40.86466 -73.85709  United States           US  ...        $15    \n",
       "1646422   40.86870 -73.85240  United States           US  ...        $20    \n",
       "1873418   40.85956 -73.87067  United States           US  ...       $232    \n",
       "1922020   40.85840 -73.86969  United States           US  ...       $109    \n",
       "1944112   40.85914 -73.86979  United States           US  ...       $192    \n",
       "...            ...       ...            ...          ...  ...         ...   \n",
       "54298838  40.86014 -73.86301  United States           US  ...       $173    \n",
       "54299943  40.86013 -73.86339  United States           US  ...       $115    \n",
       "54394386  40.86659 -73.86600  United States           US  ...        $17    \n",
       "54797565  40.87015 -73.85582  United States           US  ...       $208    \n",
       "35567584  40.86754 -73.85472  United States           US  ...       $129    \n",
       "\n",
       "         minimum nights number of reviews  last review reviews per month  \\\n",
       "id                                                                         \n",
       "1283561             2.0             271.0    6/20/2019              2.84   \n",
       "1646422             7.0               2.0    7/23/2018              0.17   \n",
       "1873418             2.0             169.0    6/12/2019              2.07   \n",
       "1922020             2.0             189.0    6/23/2019              2.32   \n",
       "1944112             1.0             187.0    6/23/2019              2.34   \n",
       "...                 ...               ...          ...               ...   \n",
       "54298838            1.0              30.0     7/2/2019              2.56   \n",
       "54299943            1.0              30.0     7/2/2019              2.56   \n",
       "54394386            2.0               0.0          NaN               NaN   \n",
       "54797565            4.0              35.0     7/1/2019              3.13   \n",
       "35567584           30.0              76.0    11/7/2021              1.64   \n",
       "\n",
       "         review rate number  calculated host listings count  availability 365  \\\n",
       "id                                                                              \n",
       "1283561                 1.0                             2.0               NaN   \n",
       "1646422                 5.0                             1.0             165.0   \n",
       "1873418                 1.0                             4.0             359.0   \n",
       "1922020                 2.0                             4.0             393.0   \n",
       "1944112                 4.0                             4.0             313.0   \n",
       "...                     ...                             ...               ...   \n",
       "54298838                4.0                             5.0              48.0   \n",
       "54299943                2.0                             5.0              57.0   \n",
       "54394386                3.0                             1.0               0.0   \n",
       "54797565                4.0                             1.0             169.0   \n",
       "35567584                2.0                             1.0              82.0   \n",
       "\n",
       "                                                house_rules  license  \n",
       "id                                                                    \n",
       "1283561   Please remember that this is a residential bui...      NaN  \n",
       "1646422                                  No Smoking No Pets      NaN  \n",
       "1873418   - No Smoking In the House.  There is a back po...      NaN  \n",
       "1922020   Quiet hours are from midnight to 6 a.m.  We as...      NaN  \n",
       "1944112                                                 NaN      NaN  \n",
       "...                                                     ...      ...  \n",
       "54298838  The apartment is non-smoking and pets are not ...      NaN  \n",
       "54299943                                                NaN      NaN  \n",
       "54394386  Please remember that this is a residential bui...      NaN  \n",
       "54797565                                             #NAME?      NaN  \n",
       "35567584                                                NaN      NaN  \n",
       "\n",
       "[97 rows x 25 columns]"
      ]
     },
     "execution_count": 24,
     "metadata": {},
     "output_type": "execute_result"
    }
   ],
   "source": [
    "updated_df.loc[(updated_df['neighbourhood group'] == 'Bronx') & (updated_df['neighbourhood'] == 'Allerton')]"
   ]
  },
  {
   "cell_type": "markdown",
   "id": "8c824c3f",
   "metadata": {
    "papermill": {
     "duration": 0.037416,
     "end_time": "2024-07-15T09:49:09.903690",
     "exception": false,
     "start_time": "2024-07-15T09:49:09.866274",
     "status": "completed"
    },
    "tags": []
   },
   "source": [
    "**We are combining both neighbourhood group and neighbourhood to make a single column area**"
   ]
  },
  {
   "cell_type": "code",
   "execution_count": 25,
   "id": "bed4b56c",
   "metadata": {
    "execution": {
     "iopub.execute_input": "2024-07-15T09:49:09.980022Z",
     "iopub.status.busy": "2024-07-15T09:49:09.979605Z",
     "iopub.status.idle": "2024-07-15T09:49:10.048793Z",
     "shell.execute_reply": "2024-07-15T09:49:10.047454Z"
    },
    "papermill": {
     "duration": 0.111148,
     "end_time": "2024-07-15T09:49:10.051871",
     "exception": false,
     "start_time": "2024-07-15T09:49:09.940723",
     "status": "completed"
    },
    "tags": []
   },
   "outputs": [],
   "source": [
    "updated_df['area'] = updated_df['neighbourhood group'] + ' '+ updated_df['neighbourhood']"
   ]
  },
  {
   "cell_type": "markdown",
   "id": "c9b85882",
   "metadata": {
    "papermill": {
     "duration": 0.036729,
     "end_time": "2024-07-15T09:49:10.126727",
     "exception": false,
     "start_time": "2024-07-15T09:49:10.089998",
     "status": "completed"
    },
    "tags": []
   },
   "source": [
    "**now we can drop neighbourhood group and neighbourhood and lat and long as well since location is already there and they don't add more value**"
   ]
  },
  {
   "cell_type": "code",
   "execution_count": 26,
   "id": "6e176d4f",
   "metadata": {
    "execution": {
     "iopub.execute_input": "2024-07-15T09:49:10.202598Z",
     "iopub.status.busy": "2024-07-15T09:49:10.202003Z",
     "iopub.status.idle": "2024-07-15T09:49:10.242820Z",
     "shell.execute_reply": "2024-07-15T09:49:10.241167Z"
    },
    "papermill": {
     "duration": 0.08251,
     "end_time": "2024-07-15T09:49:10.245933",
     "exception": false,
     "start_time": "2024-07-15T09:49:10.163423",
     "status": "completed"
    },
    "tags": []
   },
   "outputs": [],
   "source": [
    "updated_df.drop(columns = ['lat','long'],inplace = True)"
   ]
  },
  {
   "cell_type": "code",
   "execution_count": 27,
   "id": "570e000f",
   "metadata": {
    "execution": {
     "iopub.execute_input": "2024-07-15T09:49:10.326239Z",
     "iopub.status.busy": "2024-07-15T09:49:10.325010Z",
     "iopub.status.idle": "2024-07-15T09:49:10.504573Z",
     "shell.execute_reply": "2024-07-15T09:49:10.503363Z"
    },
    "papermill": {
     "duration": 0.222064,
     "end_time": "2024-07-15T09:49:10.507513",
     "exception": false,
     "start_time": "2024-07-15T09:49:10.285449",
     "status": "completed"
    },
    "tags": []
   },
   "outputs": [
    {
     "data": {
      "text/plain": [
       "name                                   0\n",
       "host id                                0\n",
       "host_identity_verified                 0\n",
       "host name                              0\n",
       "neighbourhood group                   27\n",
       "neighbourhood                         16\n",
       "country                              527\n",
       "country code                         123\n",
       "instant_bookable                      97\n",
       "cancellation_policy                   71\n",
       "room type                              0\n",
       "Construction year                    205\n",
       "price                                244\n",
       "service fee                          273\n",
       "minimum nights                       403\n",
       "number of reviews                    182\n",
       "last review                        15857\n",
       "reviews per month                  15843\n",
       "review rate number                   318\n",
       "calculated host listings count       318\n",
       "availability 365                     430\n",
       "house_rules                        52025\n",
       "license                           102347\n",
       "area                                  43\n",
       "dtype: int64"
      ]
     },
     "execution_count": 27,
     "metadata": {},
     "output_type": "execute_result"
    }
   ],
   "source": [
    "updated_df.isna().sum()"
   ]
  },
  {
   "cell_type": "code",
   "execution_count": 28,
   "id": "e1dc706d",
   "metadata": {
    "execution": {
     "iopub.execute_input": "2024-07-15T09:49:10.584343Z",
     "iopub.status.busy": "2024-07-15T09:49:10.583925Z",
     "iopub.status.idle": "2024-07-15T09:49:10.601794Z",
     "shell.execute_reply": "2024-07-15T09:49:10.600507Z"
    },
    "papermill": {
     "duration": 0.05926,
     "end_time": "2024-07-15T09:49:10.604584",
     "exception": false,
     "start_time": "2024-07-15T09:49:10.545324",
     "status": "completed"
    },
    "tags": []
   },
   "outputs": [
    {
     "data": {
      "text/html": [
       "<div>\n",
       "<style scoped>\n",
       "    .dataframe tbody tr th:only-of-type {\n",
       "        vertical-align: middle;\n",
       "    }\n",
       "\n",
       "    .dataframe tbody tr th {\n",
       "        vertical-align: top;\n",
       "    }\n",
       "\n",
       "    .dataframe thead th {\n",
       "        text-align: right;\n",
       "    }\n",
       "</style>\n",
       "<table border=\"1\" class=\"dataframe\">\n",
       "  <thead>\n",
       "    <tr style=\"text-align: right;\">\n",
       "      <th></th>\n",
       "      <th>country</th>\n",
       "      <th>country code</th>\n",
       "    </tr>\n",
       "    <tr>\n",
       "      <th>id</th>\n",
       "      <th></th>\n",
       "      <th></th>\n",
       "    </tr>\n",
       "  </thead>\n",
       "  <tbody>\n",
       "    <tr>\n",
       "      <th>1001254</th>\n",
       "      <td>United States</td>\n",
       "      <td>US</td>\n",
       "    </tr>\n",
       "    <tr>\n",
       "      <th>1002102</th>\n",
       "      <td>United States</td>\n",
       "      <td>US</td>\n",
       "    </tr>\n",
       "    <tr>\n",
       "      <th>1002403</th>\n",
       "      <td>United States</td>\n",
       "      <td>US</td>\n",
       "    </tr>\n",
       "    <tr>\n",
       "      <th>1003689</th>\n",
       "      <td>United States</td>\n",
       "      <td>US</td>\n",
       "    </tr>\n",
       "    <tr>\n",
       "      <th>1004098</th>\n",
       "      <td>United States</td>\n",
       "      <td>US</td>\n",
       "    </tr>\n",
       "    <tr>\n",
       "      <th>...</th>\n",
       "      <td>...</td>\n",
       "      <td>...</td>\n",
       "    </tr>\n",
       "    <tr>\n",
       "      <th>6092437</th>\n",
       "      <td>United States</td>\n",
       "      <td>US</td>\n",
       "    </tr>\n",
       "    <tr>\n",
       "      <th>6092990</th>\n",
       "      <td>United States</td>\n",
       "      <td>US</td>\n",
       "    </tr>\n",
       "    <tr>\n",
       "      <th>6093542</th>\n",
       "      <td>United States</td>\n",
       "      <td>US</td>\n",
       "    </tr>\n",
       "    <tr>\n",
       "      <th>6094094</th>\n",
       "      <td>United States</td>\n",
       "      <td>US</td>\n",
       "    </tr>\n",
       "    <tr>\n",
       "      <th>6094647</th>\n",
       "      <td>United States</td>\n",
       "      <td>US</td>\n",
       "    </tr>\n",
       "  </tbody>\n",
       "</table>\n",
       "<p>102349 rows × 2 columns</p>\n",
       "</div>"
      ],
      "text/plain": [
       "               country country code\n",
       "id                                 \n",
       "1001254  United States           US\n",
       "1002102  United States           US\n",
       "1002403  United States           US\n",
       "1003689  United States           US\n",
       "1004098  United States           US\n",
       "...                ...          ...\n",
       "6092437  United States           US\n",
       "6092990  United States           US\n",
       "6093542  United States           US\n",
       "6094094  United States           US\n",
       "6094647  United States           US\n",
       "\n",
       "[102349 rows x 2 columns]"
      ]
     },
     "execution_count": 28,
     "metadata": {},
     "output_type": "execute_result"
    }
   ],
   "source": [
    "updated_df.loc[:,'country':'country code']"
   ]
  },
  {
   "cell_type": "code",
   "execution_count": 29,
   "id": "9d44778b",
   "metadata": {
    "execution": {
     "iopub.execute_input": "2024-07-15T09:49:10.686589Z",
     "iopub.status.busy": "2024-07-15T09:49:10.686192Z",
     "iopub.status.idle": "2024-07-15T09:49:10.699528Z",
     "shell.execute_reply": "2024-07-15T09:49:10.698194Z"
    },
    "papermill": {
     "duration": 0.056063,
     "end_time": "2024-07-15T09:49:10.702193",
     "exception": false,
     "start_time": "2024-07-15T09:49:10.646130",
     "status": "completed"
    },
    "tags": []
   },
   "outputs": [
    {
     "data": {
      "text/plain": [
       "array(['United States', nan], dtype=object)"
      ]
     },
     "execution_count": 29,
     "metadata": {},
     "output_type": "execute_result"
    }
   ],
   "source": [
    "updated_df.country.unique()"
   ]
  },
  {
   "cell_type": "markdown",
   "id": "c0309339",
   "metadata": {
    "papermill": {
     "duration": 0.03721,
     "end_time": "2024-07-15T09:49:10.777005",
     "exception": false,
     "start_time": "2024-07-15T09:49:10.739795",
     "status": "completed"
    },
    "tags": []
   },
   "source": [
    "**whole dataset have only 1 country and 1 countrycode so we can drop both of them**"
   ]
  },
  {
   "cell_type": "code",
   "execution_count": 30,
   "id": "00c5a73f",
   "metadata": {
    "execution": {
     "iopub.execute_input": "2024-07-15T09:49:10.855020Z",
     "iopub.status.busy": "2024-07-15T09:49:10.854577Z",
     "iopub.status.idle": "2024-07-15T09:49:10.891462Z",
     "shell.execute_reply": "2024-07-15T09:49:10.890225Z"
    },
    "papermill": {
     "duration": 0.079309,
     "end_time": "2024-07-15T09:49:10.894449",
     "exception": false,
     "start_time": "2024-07-15T09:49:10.815140",
     "status": "completed"
    },
    "tags": []
   },
   "outputs": [],
   "source": [
    "updated_df.drop(columns = ['country','country code'],inplace = True)"
   ]
  },
  {
   "cell_type": "code",
   "execution_count": 31,
   "id": "11f5d995",
   "metadata": {
    "execution": {
     "iopub.execute_input": "2024-07-15T09:49:10.971959Z",
     "iopub.status.busy": "2024-07-15T09:49:10.971513Z",
     "iopub.status.idle": "2024-07-15T09:49:11.127180Z",
     "shell.execute_reply": "2024-07-15T09:49:11.126212Z"
    },
    "papermill": {
     "duration": 0.198278,
     "end_time": "2024-07-15T09:49:11.130117",
     "exception": false,
     "start_time": "2024-07-15T09:49:10.931839",
     "status": "completed"
    },
    "tags": []
   },
   "outputs": [
    {
     "data": {
      "text/plain": [
       "name                                   0\n",
       "host id                                0\n",
       "host_identity_verified                 0\n",
       "host name                              0\n",
       "neighbourhood group                   27\n",
       "neighbourhood                         16\n",
       "instant_bookable                      97\n",
       "cancellation_policy                   71\n",
       "room type                              0\n",
       "Construction year                    205\n",
       "price                                244\n",
       "service fee                          273\n",
       "minimum nights                       403\n",
       "number of reviews                    182\n",
       "last review                        15857\n",
       "reviews per month                  15843\n",
       "review rate number                   318\n",
       "calculated host listings count       318\n",
       "availability 365                     430\n",
       "house_rules                        52025\n",
       "license                           102347\n",
       "area                                  43\n",
       "dtype: int64"
      ]
     },
     "execution_count": 31,
     "metadata": {},
     "output_type": "execute_result"
    }
   ],
   "source": [
    "updated_df.isna().sum()"
   ]
  },
  {
   "cell_type": "code",
   "execution_count": 32,
   "id": "3c2ee3af",
   "metadata": {
    "execution": {
     "iopub.execute_input": "2024-07-15T09:49:11.207497Z",
     "iopub.status.busy": "2024-07-15T09:49:11.207102Z",
     "iopub.status.idle": "2024-07-15T09:49:11.220897Z",
     "shell.execute_reply": "2024-07-15T09:49:11.219583Z"
    },
    "papermill": {
     "duration": 0.055891,
     "end_time": "2024-07-15T09:49:11.223694",
     "exception": false,
     "start_time": "2024-07-15T09:49:11.167803",
     "status": "completed"
    },
    "tags": []
   },
   "outputs": [
    {
     "data": {
      "text/plain": [
       "array([False, True, nan], dtype=object)"
      ]
     },
     "execution_count": 32,
     "metadata": {},
     "output_type": "execute_result"
    }
   ],
   "source": [
    "updated_df['instant_bookable'].unique()"
   ]
  },
  {
   "cell_type": "markdown",
   "id": "291678cc",
   "metadata": {
    "papermill": {
     "duration": 0.039006,
     "end_time": "2024-07-15T09:49:11.301431",
     "exception": false,
     "start_time": "2024-07-15T09:49:11.262425",
     "status": "completed"
    },
    "tags": []
   },
   "source": [
    "**we will assign true or false based on the mode(of instant_bookable) of that area**"
   ]
  },
  {
   "cell_type": "code",
   "execution_count": 33,
   "id": "d3844126",
   "metadata": {
    "execution": {
     "iopub.execute_input": "2024-07-15T09:49:11.379679Z",
     "iopub.status.busy": "2024-07-15T09:49:11.379287Z",
     "iopub.status.idle": "2024-07-15T09:49:11.407406Z",
     "shell.execute_reply": "2024-07-15T09:49:11.406313Z"
    },
    "papermill": {
     "duration": 0.070667,
     "end_time": "2024-07-15T09:49:11.409936",
     "exception": false,
     "start_time": "2024-07-15T09:49:11.339269",
     "status": "completed"
    },
    "tags": []
   },
   "outputs": [
    {
     "data": {
      "text/plain": [
       "True"
      ]
     },
     "execution_count": 33,
     "metadata": {},
     "output_type": "execute_result"
    }
   ],
   "source": [
    "updated_df.loc[(updated_df['area'] == 'Brooklyn Kensington'),'instant_bookable'].mode()[0]"
   ]
  },
  {
   "cell_type": "code",
   "execution_count": 34,
   "id": "0b98b68e",
   "metadata": {
    "execution": {
     "iopub.execute_input": "2024-07-15T09:49:11.488535Z",
     "iopub.status.busy": "2024-07-15T09:49:11.488111Z",
     "iopub.status.idle": "2024-07-15T09:49:11.495240Z",
     "shell.execute_reply": "2024-07-15T09:49:11.493958Z"
    },
    "papermill": {
     "duration": 0.049593,
     "end_time": "2024-07-15T09:49:11.497727",
     "exception": false,
     "start_time": "2024-07-15T09:49:11.448134",
     "status": "completed"
    },
    "tags": []
   },
   "outputs": [],
   "source": [
    "def update_instant_bookable(x):\n",
    "    if pd.isna(x.instant_bookable):\n",
    "        m = updated_df.loc[(updated_df['area'] == x.area),'instant_bookable'].mode()\n",
    "        if len(m) == 0:\n",
    "            x['instant_bookable'] = 'False'\n",
    "        else:\n",
    "            x['instant_bookable'] = m[0]\n",
    "    return x"
   ]
  },
  {
   "cell_type": "code",
   "execution_count": 35,
   "id": "c5339f11",
   "metadata": {
    "execution": {
     "iopub.execute_input": "2024-07-15T09:49:11.577840Z",
     "iopub.status.busy": "2024-07-15T09:49:11.577474Z",
     "iopub.status.idle": "2024-07-15T09:49:21.663076Z",
     "shell.execute_reply": "2024-07-15T09:49:21.661691Z"
    },
    "papermill": {
     "duration": 10.128456,
     "end_time": "2024-07-15T09:49:21.665828",
     "exception": false,
     "start_time": "2024-07-15T09:49:11.537372",
     "status": "completed"
    },
    "tags": []
   },
   "outputs": [],
   "source": [
    "updated_df = updated_df.apply(update_instant_bookable,axis = 1)\n",
    "#updated_df.apply(update_instant_bookable,axis = 1)"
   ]
  },
  {
   "cell_type": "code",
   "execution_count": 36,
   "id": "7155bf21",
   "metadata": {
    "execution": {
     "iopub.execute_input": "2024-07-15T09:49:21.746024Z",
     "iopub.status.busy": "2024-07-15T09:49:21.744862Z",
     "iopub.status.idle": "2024-07-15T09:49:22.024286Z",
     "shell.execute_reply": "2024-07-15T09:49:22.023093Z"
    },
    "papermill": {
     "duration": 0.321437,
     "end_time": "2024-07-15T09:49:22.027068",
     "exception": false,
     "start_time": "2024-07-15T09:49:21.705631",
     "status": "completed"
    },
    "tags": []
   },
   "outputs": [
    {
     "data": {
      "text/html": [
       "<div>\n",
       "<style scoped>\n",
       "    .dataframe tbody tr th:only-of-type {\n",
       "        vertical-align: middle;\n",
       "    }\n",
       "\n",
       "    .dataframe tbody tr th {\n",
       "        vertical-align: top;\n",
       "    }\n",
       "\n",
       "    .dataframe thead th {\n",
       "        text-align: right;\n",
       "    }\n",
       "</style>\n",
       "<table border=\"1\" class=\"dataframe\">\n",
       "  <thead>\n",
       "    <tr style=\"text-align: right;\">\n",
       "      <th></th>\n",
       "      <th>name</th>\n",
       "      <th>host id</th>\n",
       "      <th>host_identity_verified</th>\n",
       "      <th>host name</th>\n",
       "      <th>neighbourhood group</th>\n",
       "      <th>neighbourhood</th>\n",
       "      <th>instant_bookable</th>\n",
       "      <th>cancellation_policy</th>\n",
       "      <th>room type</th>\n",
       "      <th>Construction year</th>\n",
       "      <th>...</th>\n",
       "      <th>minimum nights</th>\n",
       "      <th>number of reviews</th>\n",
       "      <th>last review</th>\n",
       "      <th>reviews per month</th>\n",
       "      <th>review rate number</th>\n",
       "      <th>calculated host listings count</th>\n",
       "      <th>availability 365</th>\n",
       "      <th>house_rules</th>\n",
       "      <th>license</th>\n",
       "      <th>area</th>\n",
       "    </tr>\n",
       "    <tr>\n",
       "      <th>id</th>\n",
       "      <th></th>\n",
       "      <th></th>\n",
       "      <th></th>\n",
       "      <th></th>\n",
       "      <th></th>\n",
       "      <th></th>\n",
       "      <th></th>\n",
       "      <th></th>\n",
       "      <th></th>\n",
       "      <th></th>\n",
       "      <th></th>\n",
       "      <th></th>\n",
       "      <th></th>\n",
       "      <th></th>\n",
       "      <th></th>\n",
       "      <th></th>\n",
       "      <th></th>\n",
       "      <th></th>\n",
       "      <th></th>\n",
       "      <th></th>\n",
       "      <th></th>\n",
       "    </tr>\n",
       "  </thead>\n",
       "  <tbody>\n",
       "    <tr>\n",
       "      <th>1001254</th>\n",
       "      <td>Clean &amp; quiet apt home by the park</td>\n",
       "      <td>80014485718</td>\n",
       "      <td>unconfirmed</td>\n",
       "      <td>Madaline</td>\n",
       "      <td>Brooklyn</td>\n",
       "      <td>Kensington</td>\n",
       "      <td>False</td>\n",
       "      <td>strict</td>\n",
       "      <td>Private room</td>\n",
       "      <td>2020.0</td>\n",
       "      <td>...</td>\n",
       "      <td>10.0</td>\n",
       "      <td>9.0</td>\n",
       "      <td>10/19/2021</td>\n",
       "      <td>0.21</td>\n",
       "      <td>4.0</td>\n",
       "      <td>6.0</td>\n",
       "      <td>286.0</td>\n",
       "      <td>Clean up and treat the home the way you'd like...</td>\n",
       "      <td>NaN</td>\n",
       "      <td>Brooklyn Kensington</td>\n",
       "    </tr>\n",
       "    <tr>\n",
       "      <th>1002102</th>\n",
       "      <td>Skylit Midtown Castle</td>\n",
       "      <td>52335172823</td>\n",
       "      <td>verified</td>\n",
       "      <td>Jenna</td>\n",
       "      <td>Manhattan</td>\n",
       "      <td>Midtown</td>\n",
       "      <td>False</td>\n",
       "      <td>moderate</td>\n",
       "      <td>Entire home/apt</td>\n",
       "      <td>2007.0</td>\n",
       "      <td>...</td>\n",
       "      <td>30.0</td>\n",
       "      <td>45.0</td>\n",
       "      <td>5/21/2022</td>\n",
       "      <td>0.38</td>\n",
       "      <td>4.0</td>\n",
       "      <td>2.0</td>\n",
       "      <td>228.0</td>\n",
       "      <td>Pet friendly but please confirm with me if the...</td>\n",
       "      <td>NaN</td>\n",
       "      <td>Manhattan Midtown</td>\n",
       "    </tr>\n",
       "    <tr>\n",
       "      <th>1002403</th>\n",
       "      <td>THE VILLAGE OF HARLEM....NEW YORK !</td>\n",
       "      <td>78829239556</td>\n",
       "      <td>unconfirmed</td>\n",
       "      <td>Elise</td>\n",
       "      <td>Manhattan</td>\n",
       "      <td>Harlem</td>\n",
       "      <td>True</td>\n",
       "      <td>flexible</td>\n",
       "      <td>Private room</td>\n",
       "      <td>2005.0</td>\n",
       "      <td>...</td>\n",
       "      <td>3.0</td>\n",
       "      <td>0.0</td>\n",
       "      <td>NaN</td>\n",
       "      <td>NaN</td>\n",
       "      <td>5.0</td>\n",
       "      <td>1.0</td>\n",
       "      <td>352.0</td>\n",
       "      <td>I encourage you to use my kitchen, cooking and...</td>\n",
       "      <td>NaN</td>\n",
       "      <td>Manhattan Harlem</td>\n",
       "    </tr>\n",
       "    <tr>\n",
       "      <th>1003689</th>\n",
       "      <td>Entire Apt: Spacious Studio/Loft by central park</td>\n",
       "      <td>92037596077</td>\n",
       "      <td>verified</td>\n",
       "      <td>Lyndon</td>\n",
       "      <td>Manhattan</td>\n",
       "      <td>East Harlem</td>\n",
       "      <td>False</td>\n",
       "      <td>moderate</td>\n",
       "      <td>Entire home/apt</td>\n",
       "      <td>2009.0</td>\n",
       "      <td>...</td>\n",
       "      <td>10.0</td>\n",
       "      <td>9.0</td>\n",
       "      <td>11/19/2018</td>\n",
       "      <td>0.10</td>\n",
       "      <td>3.0</td>\n",
       "      <td>1.0</td>\n",
       "      <td>289.0</td>\n",
       "      <td>Please no smoking in the house, porch or on th...</td>\n",
       "      <td>NaN</td>\n",
       "      <td>Manhattan East Harlem</td>\n",
       "    </tr>\n",
       "    <tr>\n",
       "      <th>1004098</th>\n",
       "      <td>Large Cozy 1 BR Apartment In Midtown East</td>\n",
       "      <td>45498551794</td>\n",
       "      <td>verified</td>\n",
       "      <td>Michelle</td>\n",
       "      <td>Manhattan</td>\n",
       "      <td>Murray Hill</td>\n",
       "      <td>True</td>\n",
       "      <td>flexible</td>\n",
       "      <td>Entire home/apt</td>\n",
       "      <td>2013.0</td>\n",
       "      <td>...</td>\n",
       "      <td>3.0</td>\n",
       "      <td>74.0</td>\n",
       "      <td>6/22/2019</td>\n",
       "      <td>0.59</td>\n",
       "      <td>3.0</td>\n",
       "      <td>1.0</td>\n",
       "      <td>374.0</td>\n",
       "      <td>No smoking, please, and no drugs.</td>\n",
       "      <td>NaN</td>\n",
       "      <td>Manhattan Murray Hill</td>\n",
       "    </tr>\n",
       "    <tr>\n",
       "      <th>...</th>\n",
       "      <td>...</td>\n",
       "      <td>...</td>\n",
       "      <td>...</td>\n",
       "      <td>...</td>\n",
       "      <td>...</td>\n",
       "      <td>...</td>\n",
       "      <td>...</td>\n",
       "      <td>...</td>\n",
       "      <td>...</td>\n",
       "      <td>...</td>\n",
       "      <td>...</td>\n",
       "      <td>...</td>\n",
       "      <td>...</td>\n",
       "      <td>...</td>\n",
       "      <td>...</td>\n",
       "      <td>...</td>\n",
       "      <td>...</td>\n",
       "      <td>...</td>\n",
       "      <td>...</td>\n",
       "      <td>...</td>\n",
       "      <td>...</td>\n",
       "    </tr>\n",
       "    <tr>\n",
       "      <th>6092437</th>\n",
       "      <td>Spare room in Williamsburg</td>\n",
       "      <td>12312296767</td>\n",
       "      <td>verified</td>\n",
       "      <td>Krik</td>\n",
       "      <td>Brooklyn</td>\n",
       "      <td>Williamsburg</td>\n",
       "      <td>False</td>\n",
       "      <td>flexible</td>\n",
       "      <td>Private room</td>\n",
       "      <td>2003.0</td>\n",
       "      <td>...</td>\n",
       "      <td>1.0</td>\n",
       "      <td>0.0</td>\n",
       "      <td>NaN</td>\n",
       "      <td>NaN</td>\n",
       "      <td>3.0</td>\n",
       "      <td>1.0</td>\n",
       "      <td>227.0</td>\n",
       "      <td>No Smoking No Parties or Events of any kind Pl...</td>\n",
       "      <td>NaN</td>\n",
       "      <td>Brooklyn Williamsburg</td>\n",
       "    </tr>\n",
       "    <tr>\n",
       "      <th>6092990</th>\n",
       "      <td>Best Location near Columbia U</td>\n",
       "      <td>77864383453</td>\n",
       "      <td>unconfirmed</td>\n",
       "      <td>Mifan</td>\n",
       "      <td>Manhattan</td>\n",
       "      <td>Morningside Heights</td>\n",
       "      <td>True</td>\n",
       "      <td>moderate</td>\n",
       "      <td>Private room</td>\n",
       "      <td>2016.0</td>\n",
       "      <td>...</td>\n",
       "      <td>1.0</td>\n",
       "      <td>1.0</td>\n",
       "      <td>7/6/2015</td>\n",
       "      <td>0.02</td>\n",
       "      <td>2.0</td>\n",
       "      <td>2.0</td>\n",
       "      <td>395.0</td>\n",
       "      <td>House rules: Guests agree to the following ter...</td>\n",
       "      <td>NaN</td>\n",
       "      <td>Manhattan Morningside Heights</td>\n",
       "    </tr>\n",
       "    <tr>\n",
       "      <th>6093542</th>\n",
       "      <td>Comfy, bright room in Brooklyn</td>\n",
       "      <td>69050334417</td>\n",
       "      <td>unconfirmed</td>\n",
       "      <td>Megan</td>\n",
       "      <td>Brooklyn</td>\n",
       "      <td>Park Slope</td>\n",
       "      <td>True</td>\n",
       "      <td>moderate</td>\n",
       "      <td>Private room</td>\n",
       "      <td>2009.0</td>\n",
       "      <td>...</td>\n",
       "      <td>3.0</td>\n",
       "      <td>0.0</td>\n",
       "      <td>NaN</td>\n",
       "      <td>NaN</td>\n",
       "      <td>5.0</td>\n",
       "      <td>1.0</td>\n",
       "      <td>342.0</td>\n",
       "      <td>NaN</td>\n",
       "      <td>NaN</td>\n",
       "      <td>Brooklyn Park Slope</td>\n",
       "    </tr>\n",
       "    <tr>\n",
       "      <th>6094094</th>\n",
       "      <td>Big Studio-One Stop from Midtown</td>\n",
       "      <td>11160591270</td>\n",
       "      <td>unconfirmed</td>\n",
       "      <td>Christopher</td>\n",
       "      <td>Queens</td>\n",
       "      <td>Long Island City</td>\n",
       "      <td>True</td>\n",
       "      <td>strict</td>\n",
       "      <td>Entire home/apt</td>\n",
       "      <td>2015.0</td>\n",
       "      <td>...</td>\n",
       "      <td>2.0</td>\n",
       "      <td>5.0</td>\n",
       "      <td>10/11/2015</td>\n",
       "      <td>0.10</td>\n",
       "      <td>3.0</td>\n",
       "      <td>1.0</td>\n",
       "      <td>386.0</td>\n",
       "      <td>NaN</td>\n",
       "      <td>NaN</td>\n",
       "      <td>Queens Long Island City</td>\n",
       "    </tr>\n",
       "    <tr>\n",
       "      <th>6094647</th>\n",
       "      <td>585 sf Luxury Studio</td>\n",
       "      <td>68170633372</td>\n",
       "      <td>unconfirmed</td>\n",
       "      <td>Rebecca</td>\n",
       "      <td>Manhattan</td>\n",
       "      <td>Upper West Side</td>\n",
       "      <td>False</td>\n",
       "      <td>flexible</td>\n",
       "      <td>Entire home/apt</td>\n",
       "      <td>2010.0</td>\n",
       "      <td>...</td>\n",
       "      <td>1.0</td>\n",
       "      <td>0.0</td>\n",
       "      <td>NaN</td>\n",
       "      <td>NaN</td>\n",
       "      <td>3.0</td>\n",
       "      <td>1.0</td>\n",
       "      <td>69.0</td>\n",
       "      <td>NaN</td>\n",
       "      <td>NaN</td>\n",
       "      <td>Manhattan Upper West Side</td>\n",
       "    </tr>\n",
       "  </tbody>\n",
       "</table>\n",
       "<p>102349 rows × 22 columns</p>\n",
       "</div>"
      ],
      "text/plain": [
       "                                                     name      host id  \\\n",
       "id                                                                       \n",
       "1001254                Clean & quiet apt home by the park  80014485718   \n",
       "1002102                             Skylit Midtown Castle  52335172823   \n",
       "1002403               THE VILLAGE OF HARLEM....NEW YORK !  78829239556   \n",
       "1003689  Entire Apt: Spacious Studio/Loft by central park  92037596077   \n",
       "1004098         Large Cozy 1 BR Apartment In Midtown East  45498551794   \n",
       "...                                                   ...          ...   \n",
       "6092437                        Spare room in Williamsburg  12312296767   \n",
       "6092990                     Best Location near Columbia U  77864383453   \n",
       "6093542                    Comfy, bright room in Brooklyn  69050334417   \n",
       "6094094                  Big Studio-One Stop from Midtown  11160591270   \n",
       "6094647                              585 sf Luxury Studio  68170633372   \n",
       "\n",
       "        host_identity_verified    host name neighbourhood group  \\\n",
       "id                                                                \n",
       "1001254            unconfirmed     Madaline            Brooklyn   \n",
       "1002102               verified        Jenna           Manhattan   \n",
       "1002403            unconfirmed        Elise           Manhattan   \n",
       "1003689               verified       Lyndon           Manhattan   \n",
       "1004098               verified     Michelle           Manhattan   \n",
       "...                        ...          ...                 ...   \n",
       "6092437               verified         Krik            Brooklyn   \n",
       "6092990            unconfirmed        Mifan           Manhattan   \n",
       "6093542            unconfirmed        Megan            Brooklyn   \n",
       "6094094            unconfirmed  Christopher              Queens   \n",
       "6094647            unconfirmed      Rebecca           Manhattan   \n",
       "\n",
       "               neighbourhood instant_bookable cancellation_policy  \\\n",
       "id                                                                  \n",
       "1001254           Kensington            False              strict   \n",
       "1002102              Midtown            False            moderate   \n",
       "1002403               Harlem             True            flexible   \n",
       "1003689          East Harlem            False            moderate   \n",
       "1004098          Murray Hill             True            flexible   \n",
       "...                      ...              ...                 ...   \n",
       "6092437         Williamsburg            False            flexible   \n",
       "6092990  Morningside Heights             True            moderate   \n",
       "6093542           Park Slope             True            moderate   \n",
       "6094094     Long Island City             True              strict   \n",
       "6094647      Upper West Side            False            flexible   \n",
       "\n",
       "               room type  Construction year  ... minimum nights  \\\n",
       "id                                           ...                  \n",
       "1001254     Private room             2020.0  ...           10.0   \n",
       "1002102  Entire home/apt             2007.0  ...           30.0   \n",
       "1002403     Private room             2005.0  ...            3.0   \n",
       "1003689  Entire home/apt             2009.0  ...           10.0   \n",
       "1004098  Entire home/apt             2013.0  ...            3.0   \n",
       "...                  ...                ...  ...            ...   \n",
       "6092437     Private room             2003.0  ...            1.0   \n",
       "6092990     Private room             2016.0  ...            1.0   \n",
       "6093542     Private room             2009.0  ...            3.0   \n",
       "6094094  Entire home/apt             2015.0  ...            2.0   \n",
       "6094647  Entire home/apt             2010.0  ...            1.0   \n",
       "\n",
       "        number of reviews  last review  reviews per month review rate number  \\\n",
       "id                                                                             \n",
       "1001254               9.0   10/19/2021               0.21                4.0   \n",
       "1002102              45.0    5/21/2022               0.38                4.0   \n",
       "1002403               0.0          NaN                NaN                5.0   \n",
       "1003689               9.0   11/19/2018               0.10                3.0   \n",
       "1004098              74.0    6/22/2019               0.59                3.0   \n",
       "...                   ...          ...                ...                ...   \n",
       "6092437               0.0          NaN                NaN                3.0   \n",
       "6092990               1.0     7/6/2015               0.02                2.0   \n",
       "6093542               0.0          NaN                NaN                5.0   \n",
       "6094094               5.0   10/11/2015               0.10                3.0   \n",
       "6094647               0.0          NaN                NaN                3.0   \n",
       "\n",
       "         calculated host listings count  availability 365  \\\n",
       "id                                                          \n",
       "1001254                             6.0             286.0   \n",
       "1002102                             2.0             228.0   \n",
       "1002403                             1.0             352.0   \n",
       "1003689                             1.0             289.0   \n",
       "1004098                             1.0             374.0   \n",
       "...                                 ...               ...   \n",
       "6092437                             1.0             227.0   \n",
       "6092990                             2.0             395.0   \n",
       "6093542                             1.0             342.0   \n",
       "6094094                             1.0             386.0   \n",
       "6094647                             1.0              69.0   \n",
       "\n",
       "                                               house_rules  license  \\\n",
       "id                                                                    \n",
       "1001254  Clean up and treat the home the way you'd like...      NaN   \n",
       "1002102  Pet friendly but please confirm with me if the...      NaN   \n",
       "1002403  I encourage you to use my kitchen, cooking and...      NaN   \n",
       "1003689  Please no smoking in the house, porch or on th...      NaN   \n",
       "1004098                  No smoking, please, and no drugs.      NaN   \n",
       "...                                                    ...      ...   \n",
       "6092437  No Smoking No Parties or Events of any kind Pl...      NaN   \n",
       "6092990  House rules: Guests agree to the following ter...      NaN   \n",
       "6093542                                                NaN      NaN   \n",
       "6094094                                                NaN      NaN   \n",
       "6094647                                                NaN      NaN   \n",
       "\n",
       "                                  area  \n",
       "id                                      \n",
       "1001254            Brooklyn Kensington  \n",
       "1002102              Manhattan Midtown  \n",
       "1002403               Manhattan Harlem  \n",
       "1003689          Manhattan East Harlem  \n",
       "1004098          Manhattan Murray Hill  \n",
       "...                                ...  \n",
       "6092437          Brooklyn Williamsburg  \n",
       "6092990  Manhattan Morningside Heights  \n",
       "6093542            Brooklyn Park Slope  \n",
       "6094094        Queens Long Island City  \n",
       "6094647      Manhattan Upper West Side  \n",
       "\n",
       "[102349 rows x 22 columns]"
      ]
     },
     "execution_count": 36,
     "metadata": {},
     "output_type": "execute_result"
    }
   ],
   "source": [
    "updated_df"
   ]
  },
  {
   "cell_type": "markdown",
   "id": "82c8e526",
   "metadata": {
    "papermill": {
     "duration": 0.039628,
     "end_time": "2024-07-15T09:49:22.107374",
     "exception": false,
     "start_time": "2024-07-15T09:49:22.067746",
     "status": "completed"
    },
    "tags": []
   },
   "source": [
    "**We need to handle cancelation policy**"
   ]
  },
  {
   "cell_type": "code",
   "execution_count": 37,
   "id": "48eed1b4",
   "metadata": {
    "execution": {
     "iopub.execute_input": "2024-07-15T09:49:22.187410Z",
     "iopub.status.busy": "2024-07-15T09:49:22.186990Z",
     "iopub.status.idle": "2024-07-15T09:49:22.203696Z",
     "shell.execute_reply": "2024-07-15T09:49:22.202246Z"
    },
    "papermill": {
     "duration": 0.059382,
     "end_time": "2024-07-15T09:49:22.206264",
     "exception": false,
     "start_time": "2024-07-15T09:49:22.146882",
     "status": "completed"
    },
    "tags": []
   },
   "outputs": [
    {
     "data": {
      "text/plain": [
       "array(['strict', 'moderate', 'flexible', nan], dtype=object)"
      ]
     },
     "execution_count": 37,
     "metadata": {},
     "output_type": "execute_result"
    }
   ],
   "source": [
    "updated_df['cancellation_policy'].unique()"
   ]
  },
  {
   "cell_type": "markdown",
   "id": "158d509a",
   "metadata": {
    "papermill": {
     "duration": 0.038854,
     "end_time": "2024-07-15T09:49:22.285503",
     "exception": false,
     "start_time": "2024-07-15T09:49:22.246649",
     "status": "completed"
    },
    "tags": []
   },
   "source": [
    "**we will make all nan values to flexible since they didn't mention it is not important**"
   ]
  },
  {
   "cell_type": "code",
   "execution_count": 38,
   "id": "dd477237",
   "metadata": {
    "execution": {
     "iopub.execute_input": "2024-07-15T09:49:22.367489Z",
     "iopub.status.busy": "2024-07-15T09:49:22.367093Z",
     "iopub.status.idle": "2024-07-15T09:49:22.394573Z",
     "shell.execute_reply": "2024-07-15T09:49:22.393281Z"
    },
    "papermill": {
     "duration": 0.073002,
     "end_time": "2024-07-15T09:49:22.397602",
     "exception": false,
     "start_time": "2024-07-15T09:49:22.324600",
     "status": "completed"
    },
    "tags": []
   },
   "outputs": [],
   "source": [
    "updated_df['cancellation_policy'] = updated_df['cancellation_policy'].fillna('flexible')"
   ]
  },
  {
   "cell_type": "code",
   "execution_count": 39,
   "id": "56dfc049",
   "metadata": {
    "execution": {
     "iopub.execute_input": "2024-07-15T09:49:22.478535Z",
     "iopub.status.busy": "2024-07-15T09:49:22.478141Z",
     "iopub.status.idle": "2024-07-15T09:49:22.668106Z",
     "shell.execute_reply": "2024-07-15T09:49:22.666944Z"
    },
    "papermill": {
     "duration": 0.233729,
     "end_time": "2024-07-15T09:49:22.670873",
     "exception": false,
     "start_time": "2024-07-15T09:49:22.437144",
     "status": "completed"
    },
    "tags": []
   },
   "outputs": [
    {
     "data": {
      "text/plain": [
       "name                                   0\n",
       "host id                                0\n",
       "host_identity_verified                 0\n",
       "host name                              0\n",
       "neighbourhood group                   27\n",
       "neighbourhood                         16\n",
       "instant_bookable                       0\n",
       "cancellation_policy                    0\n",
       "room type                              0\n",
       "Construction year                    205\n",
       "price                                244\n",
       "service fee                          273\n",
       "minimum nights                       403\n",
       "number of reviews                    182\n",
       "last review                        15857\n",
       "reviews per month                  15843\n",
       "review rate number                   318\n",
       "calculated host listings count       318\n",
       "availability 365                     430\n",
       "house_rules                        52025\n",
       "license                           102347\n",
       "area                                  43\n",
       "dtype: int64"
      ]
     },
     "execution_count": 39,
     "metadata": {},
     "output_type": "execute_result"
    }
   ],
   "source": [
    "updated_df.isna().sum()"
   ]
  },
  {
   "cell_type": "code",
   "execution_count": 40,
   "id": "5e91be2b",
   "metadata": {
    "execution": {
     "iopub.execute_input": "2024-07-15T09:49:22.751857Z",
     "iopub.status.busy": "2024-07-15T09:49:22.751445Z",
     "iopub.status.idle": "2024-07-15T09:49:22.757894Z",
     "shell.execute_reply": "2024-07-15T09:49:22.756727Z"
    },
    "papermill": {
     "duration": 0.048968,
     "end_time": "2024-07-15T09:49:22.760302",
     "exception": false,
     "start_time": "2024-07-15T09:49:22.711334",
     "status": "completed"
    },
    "tags": []
   },
   "outputs": [],
   "source": [
    "mean = updated_df['Construction year'].mean()"
   ]
  },
  {
   "cell_type": "code",
   "execution_count": 41,
   "id": "2a739203",
   "metadata": {
    "execution": {
     "iopub.execute_input": "2024-07-15T09:49:22.840614Z",
     "iopub.status.busy": "2024-07-15T09:49:22.840214Z",
     "iopub.status.idle": "2024-07-15T09:49:22.848268Z",
     "shell.execute_reply": "2024-07-15T09:49:22.847071Z"
    },
    "papermill": {
     "duration": 0.050865,
     "end_time": "2024-07-15T09:49:22.850745",
     "exception": false,
     "start_time": "2024-07-15T09:49:22.799880",
     "status": "completed"
    },
    "tags": []
   },
   "outputs": [
    {
     "data": {
      "text/plain": [
       "dtype('float64')"
      ]
     },
     "execution_count": 41,
     "metadata": {},
     "output_type": "execute_result"
    }
   ],
   "source": [
    "updated_df['Construction year'].dtype"
   ]
  },
  {
   "cell_type": "code",
   "execution_count": 42,
   "id": "069a54b4",
   "metadata": {
    "execution": {
     "iopub.execute_input": "2024-07-15T09:49:22.935350Z",
     "iopub.status.busy": "2024-07-15T09:49:22.934942Z",
     "iopub.status.idle": "2024-07-15T09:49:23.127690Z",
     "shell.execute_reply": "2024-07-15T09:49:23.126479Z"
    },
    "papermill": {
     "duration": 0.238897,
     "end_time": "2024-07-15T09:49:23.130444",
     "exception": false,
     "start_time": "2024-07-15T09:49:22.891547",
     "status": "completed"
    },
    "tags": []
   },
   "outputs": [
    {
     "data": {
      "text/plain": [
       "name                                   0\n",
       "host id                                0\n",
       "host_identity_verified                 0\n",
       "host name                              0\n",
       "neighbourhood group                   27\n",
       "neighbourhood                         16\n",
       "instant_bookable                       0\n",
       "cancellation_policy                    0\n",
       "room type                              0\n",
       "Construction year                      0\n",
       "price                                244\n",
       "service fee                          273\n",
       "minimum nights                       403\n",
       "number of reviews                    182\n",
       "last review                        15857\n",
       "reviews per month                  15843\n",
       "review rate number                   318\n",
       "calculated host listings count       318\n",
       "availability 365                     430\n",
       "house_rules                        52025\n",
       "license                           102347\n",
       "area                                  43\n",
       "dtype: int64"
      ]
     },
     "execution_count": 42,
     "metadata": {},
     "output_type": "execute_result"
    }
   ],
   "source": [
    "updated_df['Construction year'] = updated_df['Construction year'].fillna(2012.0)\n",
    "updated_df.isna().sum()"
   ]
  },
  {
   "cell_type": "code",
   "execution_count": 43,
   "id": "17a19535",
   "metadata": {
    "execution": {
     "iopub.execute_input": "2024-07-15T09:49:23.211775Z",
     "iopub.status.busy": "2024-07-15T09:49:23.211363Z",
     "iopub.status.idle": "2024-07-15T09:49:23.220843Z",
     "shell.execute_reply": "2024-07-15T09:49:23.219640Z"
    },
    "papermill": {
     "duration": 0.05328,
     "end_time": "2024-07-15T09:49:23.223328",
     "exception": false,
     "start_time": "2024-07-15T09:49:23.170048",
     "status": "completed"
    },
    "tags": []
   },
   "outputs": [
    {
     "data": {
      "text/plain": [
       "id\n",
       "1001254    $193 \n",
       "1002102     $28 \n",
       "1002403    $124 \n",
       "1003689     $41 \n",
       "1004098    $115 \n",
       "           ...  \n",
       "6092437    $169 \n",
       "6092990    $167 \n",
       "6093542    $198 \n",
       "6094094    $109 \n",
       "6094647    $206 \n",
       "Name: service fee, Length: 102349, dtype: object"
      ]
     },
     "execution_count": 43,
     "metadata": {},
     "output_type": "execute_result"
    }
   ],
   "source": [
    "updated_df['service fee']"
   ]
  },
  {
   "cell_type": "markdown",
   "id": "309023b6",
   "metadata": {
    "papermill": {
     "duration": 0.040892,
     "end_time": "2024-07-15T09:49:23.303798",
     "exception": false,
     "start_time": "2024-07-15T09:49:23.262906",
     "status": "completed"
    },
    "tags": []
   },
   "source": [
    "**Convert price and service fee to integer and null value to 0**"
   ]
  },
  {
   "cell_type": "code",
   "execution_count": 44,
   "id": "ae63ec68",
   "metadata": {
    "execution": {
     "iopub.execute_input": "2024-07-15T09:49:23.386567Z",
     "iopub.status.busy": "2024-07-15T09:49:23.386203Z",
     "iopub.status.idle": "2024-07-15T09:49:23.395179Z",
     "shell.execute_reply": "2024-07-15T09:49:23.393876Z"
    },
    "papermill": {
     "duration": 0.053941,
     "end_time": "2024-07-15T09:49:23.397756",
     "exception": false,
     "start_time": "2024-07-15T09:49:23.343815",
     "status": "completed"
    },
    "tags": []
   },
   "outputs": [],
   "source": [
    "def price_service_converstion(x):\n",
    "    #handling price\n",
    "    if not pd.isna(x['price']):\n",
    "        temp = x['price'][1:]\n",
    "        #to remove ','\n",
    "        ans = ''\n",
    "        for i in temp:\n",
    "            if i != ',':\n",
    "                ans = ans+i \n",
    "        x['price'] = int(ans)\n",
    "        \n",
    "    else:\n",
    "        x['price'] = 0\n",
    "        \n",
    "    #handling service fee\n",
    "    if not pd.isna(x['service fee']):\n",
    "        temp = x['service fee'][1:]\n",
    "        #to remove ','\n",
    "        ans = ''\n",
    "        for i in temp:\n",
    "            if i != ',':\n",
    "                ans = ans+i \n",
    "        x['service fee'] = int(ans)\n",
    "        \n",
    "    else:\n",
    "        x['service fee'] = 0\n",
    "    \n",
    "    return x\n",
    "    \n",
    "        "
   ]
  },
  {
   "cell_type": "code",
   "execution_count": 45,
   "id": "90c3afd0",
   "metadata": {
    "execution": {
     "iopub.execute_input": "2024-07-15T09:49:23.479751Z",
     "iopub.status.busy": "2024-07-15T09:49:23.479343Z",
     "iopub.status.idle": "2024-07-15T09:49:38.471457Z",
     "shell.execute_reply": "2024-07-15T09:49:38.470204Z"
    },
    "papermill": {
     "duration": 15.036616,
     "end_time": "2024-07-15T09:49:38.474408",
     "exception": false,
     "start_time": "2024-07-15T09:49:23.437792",
     "status": "completed"
    },
    "tags": []
   },
   "outputs": [],
   "source": [
    "updated_df = updated_df.apply(price_service_converstion,axis = 1)"
   ]
  },
  {
   "cell_type": "code",
   "execution_count": 46,
   "id": "1af0c514",
   "metadata": {
    "execution": {
     "iopub.execute_input": "2024-07-15T09:49:38.557483Z",
     "iopub.status.busy": "2024-07-15T09:49:38.557057Z",
     "iopub.status.idle": "2024-07-15T09:49:38.838849Z",
     "shell.execute_reply": "2024-07-15T09:49:38.837752Z"
    },
    "papermill": {
     "duration": 0.32656,
     "end_time": "2024-07-15T09:49:38.841308",
     "exception": false,
     "start_time": "2024-07-15T09:49:38.514748",
     "status": "completed"
    },
    "tags": []
   },
   "outputs": [
    {
     "data": {
      "text/html": [
       "<div>\n",
       "<style scoped>\n",
       "    .dataframe tbody tr th:only-of-type {\n",
       "        vertical-align: middle;\n",
       "    }\n",
       "\n",
       "    .dataframe tbody tr th {\n",
       "        vertical-align: top;\n",
       "    }\n",
       "\n",
       "    .dataframe thead th {\n",
       "        text-align: right;\n",
       "    }\n",
       "</style>\n",
       "<table border=\"1\" class=\"dataframe\">\n",
       "  <thead>\n",
       "    <tr style=\"text-align: right;\">\n",
       "      <th></th>\n",
       "      <th>name</th>\n",
       "      <th>host id</th>\n",
       "      <th>host_identity_verified</th>\n",
       "      <th>host name</th>\n",
       "      <th>neighbourhood group</th>\n",
       "      <th>neighbourhood</th>\n",
       "      <th>instant_bookable</th>\n",
       "      <th>cancellation_policy</th>\n",
       "      <th>room type</th>\n",
       "      <th>Construction year</th>\n",
       "      <th>...</th>\n",
       "      <th>minimum nights</th>\n",
       "      <th>number of reviews</th>\n",
       "      <th>last review</th>\n",
       "      <th>reviews per month</th>\n",
       "      <th>review rate number</th>\n",
       "      <th>calculated host listings count</th>\n",
       "      <th>availability 365</th>\n",
       "      <th>house_rules</th>\n",
       "      <th>license</th>\n",
       "      <th>area</th>\n",
       "    </tr>\n",
       "    <tr>\n",
       "      <th>id</th>\n",
       "      <th></th>\n",
       "      <th></th>\n",
       "      <th></th>\n",
       "      <th></th>\n",
       "      <th></th>\n",
       "      <th></th>\n",
       "      <th></th>\n",
       "      <th></th>\n",
       "      <th></th>\n",
       "      <th></th>\n",
       "      <th></th>\n",
       "      <th></th>\n",
       "      <th></th>\n",
       "      <th></th>\n",
       "      <th></th>\n",
       "      <th></th>\n",
       "      <th></th>\n",
       "      <th></th>\n",
       "      <th></th>\n",
       "      <th></th>\n",
       "      <th></th>\n",
       "    </tr>\n",
       "  </thead>\n",
       "  <tbody>\n",
       "    <tr>\n",
       "      <th>1001254</th>\n",
       "      <td>Clean &amp; quiet apt home by the park</td>\n",
       "      <td>80014485718</td>\n",
       "      <td>unconfirmed</td>\n",
       "      <td>Madaline</td>\n",
       "      <td>Brooklyn</td>\n",
       "      <td>Kensington</td>\n",
       "      <td>False</td>\n",
       "      <td>strict</td>\n",
       "      <td>Private room</td>\n",
       "      <td>2020.0</td>\n",
       "      <td>...</td>\n",
       "      <td>10.0</td>\n",
       "      <td>9.0</td>\n",
       "      <td>10/19/2021</td>\n",
       "      <td>0.21</td>\n",
       "      <td>4.0</td>\n",
       "      <td>6.0</td>\n",
       "      <td>286.0</td>\n",
       "      <td>Clean up and treat the home the way you'd like...</td>\n",
       "      <td>NaN</td>\n",
       "      <td>Brooklyn Kensington</td>\n",
       "    </tr>\n",
       "    <tr>\n",
       "      <th>1002102</th>\n",
       "      <td>Skylit Midtown Castle</td>\n",
       "      <td>52335172823</td>\n",
       "      <td>verified</td>\n",
       "      <td>Jenna</td>\n",
       "      <td>Manhattan</td>\n",
       "      <td>Midtown</td>\n",
       "      <td>False</td>\n",
       "      <td>moderate</td>\n",
       "      <td>Entire home/apt</td>\n",
       "      <td>2007.0</td>\n",
       "      <td>...</td>\n",
       "      <td>30.0</td>\n",
       "      <td>45.0</td>\n",
       "      <td>5/21/2022</td>\n",
       "      <td>0.38</td>\n",
       "      <td>4.0</td>\n",
       "      <td>2.0</td>\n",
       "      <td>228.0</td>\n",
       "      <td>Pet friendly but please confirm with me if the...</td>\n",
       "      <td>NaN</td>\n",
       "      <td>Manhattan Midtown</td>\n",
       "    </tr>\n",
       "    <tr>\n",
       "      <th>1002403</th>\n",
       "      <td>THE VILLAGE OF HARLEM....NEW YORK !</td>\n",
       "      <td>78829239556</td>\n",
       "      <td>unconfirmed</td>\n",
       "      <td>Elise</td>\n",
       "      <td>Manhattan</td>\n",
       "      <td>Harlem</td>\n",
       "      <td>True</td>\n",
       "      <td>flexible</td>\n",
       "      <td>Private room</td>\n",
       "      <td>2005.0</td>\n",
       "      <td>...</td>\n",
       "      <td>3.0</td>\n",
       "      <td>0.0</td>\n",
       "      <td>NaN</td>\n",
       "      <td>NaN</td>\n",
       "      <td>5.0</td>\n",
       "      <td>1.0</td>\n",
       "      <td>352.0</td>\n",
       "      <td>I encourage you to use my kitchen, cooking and...</td>\n",
       "      <td>NaN</td>\n",
       "      <td>Manhattan Harlem</td>\n",
       "    </tr>\n",
       "    <tr>\n",
       "      <th>1003689</th>\n",
       "      <td>Entire Apt: Spacious Studio/Loft by central park</td>\n",
       "      <td>92037596077</td>\n",
       "      <td>verified</td>\n",
       "      <td>Lyndon</td>\n",
       "      <td>Manhattan</td>\n",
       "      <td>East Harlem</td>\n",
       "      <td>False</td>\n",
       "      <td>moderate</td>\n",
       "      <td>Entire home/apt</td>\n",
       "      <td>2009.0</td>\n",
       "      <td>...</td>\n",
       "      <td>10.0</td>\n",
       "      <td>9.0</td>\n",
       "      <td>11/19/2018</td>\n",
       "      <td>0.10</td>\n",
       "      <td>3.0</td>\n",
       "      <td>1.0</td>\n",
       "      <td>289.0</td>\n",
       "      <td>Please no smoking in the house, porch or on th...</td>\n",
       "      <td>NaN</td>\n",
       "      <td>Manhattan East Harlem</td>\n",
       "    </tr>\n",
       "    <tr>\n",
       "      <th>1004098</th>\n",
       "      <td>Large Cozy 1 BR Apartment In Midtown East</td>\n",
       "      <td>45498551794</td>\n",
       "      <td>verified</td>\n",
       "      <td>Michelle</td>\n",
       "      <td>Manhattan</td>\n",
       "      <td>Murray Hill</td>\n",
       "      <td>True</td>\n",
       "      <td>flexible</td>\n",
       "      <td>Entire home/apt</td>\n",
       "      <td>2013.0</td>\n",
       "      <td>...</td>\n",
       "      <td>3.0</td>\n",
       "      <td>74.0</td>\n",
       "      <td>6/22/2019</td>\n",
       "      <td>0.59</td>\n",
       "      <td>3.0</td>\n",
       "      <td>1.0</td>\n",
       "      <td>374.0</td>\n",
       "      <td>No smoking, please, and no drugs.</td>\n",
       "      <td>NaN</td>\n",
       "      <td>Manhattan Murray Hill</td>\n",
       "    </tr>\n",
       "    <tr>\n",
       "      <th>...</th>\n",
       "      <td>...</td>\n",
       "      <td>...</td>\n",
       "      <td>...</td>\n",
       "      <td>...</td>\n",
       "      <td>...</td>\n",
       "      <td>...</td>\n",
       "      <td>...</td>\n",
       "      <td>...</td>\n",
       "      <td>...</td>\n",
       "      <td>...</td>\n",
       "      <td>...</td>\n",
       "      <td>...</td>\n",
       "      <td>...</td>\n",
       "      <td>...</td>\n",
       "      <td>...</td>\n",
       "      <td>...</td>\n",
       "      <td>...</td>\n",
       "      <td>...</td>\n",
       "      <td>...</td>\n",
       "      <td>...</td>\n",
       "      <td>...</td>\n",
       "    </tr>\n",
       "    <tr>\n",
       "      <th>6092437</th>\n",
       "      <td>Spare room in Williamsburg</td>\n",
       "      <td>12312296767</td>\n",
       "      <td>verified</td>\n",
       "      <td>Krik</td>\n",
       "      <td>Brooklyn</td>\n",
       "      <td>Williamsburg</td>\n",
       "      <td>False</td>\n",
       "      <td>flexible</td>\n",
       "      <td>Private room</td>\n",
       "      <td>2003.0</td>\n",
       "      <td>...</td>\n",
       "      <td>1.0</td>\n",
       "      <td>0.0</td>\n",
       "      <td>NaN</td>\n",
       "      <td>NaN</td>\n",
       "      <td>3.0</td>\n",
       "      <td>1.0</td>\n",
       "      <td>227.0</td>\n",
       "      <td>No Smoking No Parties or Events of any kind Pl...</td>\n",
       "      <td>NaN</td>\n",
       "      <td>Brooklyn Williamsburg</td>\n",
       "    </tr>\n",
       "    <tr>\n",
       "      <th>6092990</th>\n",
       "      <td>Best Location near Columbia U</td>\n",
       "      <td>77864383453</td>\n",
       "      <td>unconfirmed</td>\n",
       "      <td>Mifan</td>\n",
       "      <td>Manhattan</td>\n",
       "      <td>Morningside Heights</td>\n",
       "      <td>True</td>\n",
       "      <td>moderate</td>\n",
       "      <td>Private room</td>\n",
       "      <td>2016.0</td>\n",
       "      <td>...</td>\n",
       "      <td>1.0</td>\n",
       "      <td>1.0</td>\n",
       "      <td>7/6/2015</td>\n",
       "      <td>0.02</td>\n",
       "      <td>2.0</td>\n",
       "      <td>2.0</td>\n",
       "      <td>395.0</td>\n",
       "      <td>House rules: Guests agree to the following ter...</td>\n",
       "      <td>NaN</td>\n",
       "      <td>Manhattan Morningside Heights</td>\n",
       "    </tr>\n",
       "    <tr>\n",
       "      <th>6093542</th>\n",
       "      <td>Comfy, bright room in Brooklyn</td>\n",
       "      <td>69050334417</td>\n",
       "      <td>unconfirmed</td>\n",
       "      <td>Megan</td>\n",
       "      <td>Brooklyn</td>\n",
       "      <td>Park Slope</td>\n",
       "      <td>True</td>\n",
       "      <td>moderate</td>\n",
       "      <td>Private room</td>\n",
       "      <td>2009.0</td>\n",
       "      <td>...</td>\n",
       "      <td>3.0</td>\n",
       "      <td>0.0</td>\n",
       "      <td>NaN</td>\n",
       "      <td>NaN</td>\n",
       "      <td>5.0</td>\n",
       "      <td>1.0</td>\n",
       "      <td>342.0</td>\n",
       "      <td>NaN</td>\n",
       "      <td>NaN</td>\n",
       "      <td>Brooklyn Park Slope</td>\n",
       "    </tr>\n",
       "    <tr>\n",
       "      <th>6094094</th>\n",
       "      <td>Big Studio-One Stop from Midtown</td>\n",
       "      <td>11160591270</td>\n",
       "      <td>unconfirmed</td>\n",
       "      <td>Christopher</td>\n",
       "      <td>Queens</td>\n",
       "      <td>Long Island City</td>\n",
       "      <td>True</td>\n",
       "      <td>strict</td>\n",
       "      <td>Entire home/apt</td>\n",
       "      <td>2015.0</td>\n",
       "      <td>...</td>\n",
       "      <td>2.0</td>\n",
       "      <td>5.0</td>\n",
       "      <td>10/11/2015</td>\n",
       "      <td>0.10</td>\n",
       "      <td>3.0</td>\n",
       "      <td>1.0</td>\n",
       "      <td>386.0</td>\n",
       "      <td>NaN</td>\n",
       "      <td>NaN</td>\n",
       "      <td>Queens Long Island City</td>\n",
       "    </tr>\n",
       "    <tr>\n",
       "      <th>6094647</th>\n",
       "      <td>585 sf Luxury Studio</td>\n",
       "      <td>68170633372</td>\n",
       "      <td>unconfirmed</td>\n",
       "      <td>Rebecca</td>\n",
       "      <td>Manhattan</td>\n",
       "      <td>Upper West Side</td>\n",
       "      <td>False</td>\n",
       "      <td>flexible</td>\n",
       "      <td>Entire home/apt</td>\n",
       "      <td>2010.0</td>\n",
       "      <td>...</td>\n",
       "      <td>1.0</td>\n",
       "      <td>0.0</td>\n",
       "      <td>NaN</td>\n",
       "      <td>NaN</td>\n",
       "      <td>3.0</td>\n",
       "      <td>1.0</td>\n",
       "      <td>69.0</td>\n",
       "      <td>NaN</td>\n",
       "      <td>NaN</td>\n",
       "      <td>Manhattan Upper West Side</td>\n",
       "    </tr>\n",
       "  </tbody>\n",
       "</table>\n",
       "<p>102349 rows × 22 columns</p>\n",
       "</div>"
      ],
      "text/plain": [
       "                                                     name      host id  \\\n",
       "id                                                                       \n",
       "1001254                Clean & quiet apt home by the park  80014485718   \n",
       "1002102                             Skylit Midtown Castle  52335172823   \n",
       "1002403               THE VILLAGE OF HARLEM....NEW YORK !  78829239556   \n",
       "1003689  Entire Apt: Spacious Studio/Loft by central park  92037596077   \n",
       "1004098         Large Cozy 1 BR Apartment In Midtown East  45498551794   \n",
       "...                                                   ...          ...   \n",
       "6092437                        Spare room in Williamsburg  12312296767   \n",
       "6092990                     Best Location near Columbia U  77864383453   \n",
       "6093542                    Comfy, bright room in Brooklyn  69050334417   \n",
       "6094094                  Big Studio-One Stop from Midtown  11160591270   \n",
       "6094647                              585 sf Luxury Studio  68170633372   \n",
       "\n",
       "        host_identity_verified    host name neighbourhood group  \\\n",
       "id                                                                \n",
       "1001254            unconfirmed     Madaline            Brooklyn   \n",
       "1002102               verified        Jenna           Manhattan   \n",
       "1002403            unconfirmed        Elise           Manhattan   \n",
       "1003689               verified       Lyndon           Manhattan   \n",
       "1004098               verified     Michelle           Manhattan   \n",
       "...                        ...          ...                 ...   \n",
       "6092437               verified         Krik            Brooklyn   \n",
       "6092990            unconfirmed        Mifan           Manhattan   \n",
       "6093542            unconfirmed        Megan            Brooklyn   \n",
       "6094094            unconfirmed  Christopher              Queens   \n",
       "6094647            unconfirmed      Rebecca           Manhattan   \n",
       "\n",
       "               neighbourhood instant_bookable cancellation_policy  \\\n",
       "id                                                                  \n",
       "1001254           Kensington            False              strict   \n",
       "1002102              Midtown            False            moderate   \n",
       "1002403               Harlem             True            flexible   \n",
       "1003689          East Harlem            False            moderate   \n",
       "1004098          Murray Hill             True            flexible   \n",
       "...                      ...              ...                 ...   \n",
       "6092437         Williamsburg            False            flexible   \n",
       "6092990  Morningside Heights             True            moderate   \n",
       "6093542           Park Slope             True            moderate   \n",
       "6094094     Long Island City             True              strict   \n",
       "6094647      Upper West Side            False            flexible   \n",
       "\n",
       "               room type  Construction year  ...  minimum nights  \\\n",
       "id                                           ...                   \n",
       "1001254     Private room             2020.0  ...            10.0   \n",
       "1002102  Entire home/apt             2007.0  ...            30.0   \n",
       "1002403     Private room             2005.0  ...             3.0   \n",
       "1003689  Entire home/apt             2009.0  ...            10.0   \n",
       "1004098  Entire home/apt             2013.0  ...             3.0   \n",
       "...                  ...                ...  ...             ...   \n",
       "6092437     Private room             2003.0  ...             1.0   \n",
       "6092990     Private room             2016.0  ...             1.0   \n",
       "6093542     Private room             2009.0  ...             3.0   \n",
       "6094094  Entire home/apt             2015.0  ...             2.0   \n",
       "6094647  Entire home/apt             2010.0  ...             1.0   \n",
       "\n",
       "         number of reviews  last review  reviews per month review rate number  \\\n",
       "id                                                                              \n",
       "1001254                9.0   10/19/2021               0.21                4.0   \n",
       "1002102               45.0    5/21/2022               0.38                4.0   \n",
       "1002403                0.0          NaN                NaN                5.0   \n",
       "1003689                9.0   11/19/2018               0.10                3.0   \n",
       "1004098               74.0    6/22/2019               0.59                3.0   \n",
       "...                    ...          ...                ...                ...   \n",
       "6092437                0.0          NaN                NaN                3.0   \n",
       "6092990                1.0     7/6/2015               0.02                2.0   \n",
       "6093542                0.0          NaN                NaN                5.0   \n",
       "6094094                5.0   10/11/2015               0.10                3.0   \n",
       "6094647                0.0          NaN                NaN                3.0   \n",
       "\n",
       "         calculated host listings count  availability 365  \\\n",
       "id                                                          \n",
       "1001254                             6.0             286.0   \n",
       "1002102                             2.0             228.0   \n",
       "1002403                             1.0             352.0   \n",
       "1003689                             1.0             289.0   \n",
       "1004098                             1.0             374.0   \n",
       "...                                 ...               ...   \n",
       "6092437                             1.0             227.0   \n",
       "6092990                             2.0             395.0   \n",
       "6093542                             1.0             342.0   \n",
       "6094094                             1.0             386.0   \n",
       "6094647                             1.0              69.0   \n",
       "\n",
       "                                               house_rules  license  \\\n",
       "id                                                                    \n",
       "1001254  Clean up and treat the home the way you'd like...      NaN   \n",
       "1002102  Pet friendly but please confirm with me if the...      NaN   \n",
       "1002403  I encourage you to use my kitchen, cooking and...      NaN   \n",
       "1003689  Please no smoking in the house, porch or on th...      NaN   \n",
       "1004098                  No smoking, please, and no drugs.      NaN   \n",
       "...                                                    ...      ...   \n",
       "6092437  No Smoking No Parties or Events of any kind Pl...      NaN   \n",
       "6092990  House rules: Guests agree to the following ter...      NaN   \n",
       "6093542                                                NaN      NaN   \n",
       "6094094                                                NaN      NaN   \n",
       "6094647                                                NaN      NaN   \n",
       "\n",
       "                                  area  \n",
       "id                                      \n",
       "1001254            Brooklyn Kensington  \n",
       "1002102              Manhattan Midtown  \n",
       "1002403               Manhattan Harlem  \n",
       "1003689          Manhattan East Harlem  \n",
       "1004098          Manhattan Murray Hill  \n",
       "...                                ...  \n",
       "6092437          Brooklyn Williamsburg  \n",
       "6092990  Manhattan Morningside Heights  \n",
       "6093542            Brooklyn Park Slope  \n",
       "6094094        Queens Long Island City  \n",
       "6094647      Manhattan Upper West Side  \n",
       "\n",
       "[102349 rows x 22 columns]"
      ]
     },
     "execution_count": 46,
     "metadata": {},
     "output_type": "execute_result"
    }
   ],
   "source": [
    "updated_df"
   ]
  },
  {
   "cell_type": "markdown",
   "id": "07d5752f",
   "metadata": {
    "papermill": {
     "duration": 0.040277,
     "end_time": "2024-07-15T09:49:38.922382",
     "exception": false,
     "start_time": "2024-07-15T09:49:38.882105",
     "status": "completed"
    },
    "tags": []
   },
   "source": [
    "**After converting then filling the 0 with its mean**\n",
    "\n",
    "**Here we are filling mean based on the area**"
   ]
  },
  {
   "cell_type": "code",
   "execution_count": 47,
   "id": "68731e73",
   "metadata": {
    "execution": {
     "iopub.execute_input": "2024-07-15T09:49:39.007882Z",
     "iopub.status.busy": "2024-07-15T09:49:39.007442Z",
     "iopub.status.idle": "2024-07-15T09:49:39.017005Z",
     "shell.execute_reply": "2024-07-15T09:49:39.015456Z"
    },
    "papermill": {
     "duration": 0.056545,
     "end_time": "2024-07-15T09:49:39.019654",
     "exception": false,
     "start_time": "2024-07-15T09:49:38.963109",
     "status": "completed"
    },
    "tags": []
   },
   "outputs": [],
   "source": [
    "def update_prices(x):\n",
    "    if x['price'] == 0:\n",
    "        m = updated_df.loc[(updated_df['area'] == x.area),'price'].mean()\n",
    "        # If that area is present only once then we won't get value we get null\n",
    "        #in that case we will insert mean of price there\n",
    "        if not pd.isna(m):\n",
    "            x['price'] = int(m)\n",
    "        else:\n",
    "            x['price'] = updated_df['price'].mean()\n",
    "            \n",
    "    \n",
    "    if x['service fee'] == 0:\n",
    "        m = updated_df.loc[(updated_df['area'] == x.area),'service fee'].mean()\n",
    "        # If that area is present only once then we won't get value we get null\n",
    "        #in that case we will insert mean of price there\n",
    "        if not pd.isna(m):\n",
    "            x['service fee'] = int(m)\n",
    "        else:\n",
    "            x['service fee'] = updated_df['service fee'].mean()\n",
    "    return x\n",
    "        "
   ]
  },
  {
   "cell_type": "code",
   "execution_count": 48,
   "id": "7f922f08",
   "metadata": {
    "execution": {
     "iopub.execute_input": "2024-07-15T09:49:39.104374Z",
     "iopub.status.busy": "2024-07-15T09:49:39.103964Z",
     "iopub.status.idle": "2024-07-15T09:49:59.183277Z",
     "shell.execute_reply": "2024-07-15T09:49:59.181983Z"
    },
    "papermill": {
     "duration": 20.1252,
     "end_time": "2024-07-15T09:49:59.186286",
     "exception": false,
     "start_time": "2024-07-15T09:49:39.061086",
     "status": "completed"
    },
    "tags": []
   },
   "outputs": [],
   "source": [
    "updated_df = updated_df.apply(update_prices,axis = 1)"
   ]
  },
  {
   "cell_type": "code",
   "execution_count": 49,
   "id": "77286241",
   "metadata": {
    "execution": {
     "iopub.execute_input": "2024-07-15T09:49:59.273192Z",
     "iopub.status.busy": "2024-07-15T09:49:59.272525Z",
     "iopub.status.idle": "2024-07-15T09:49:59.440461Z",
     "shell.execute_reply": "2024-07-15T09:49:59.439087Z"
    },
    "papermill": {
     "duration": 0.216206,
     "end_time": "2024-07-15T09:49:59.443328",
     "exception": false,
     "start_time": "2024-07-15T09:49:59.227122",
     "status": "completed"
    },
    "tags": []
   },
   "outputs": [
    {
     "data": {
      "text/plain": [
       "name                                   0\n",
       "host id                                0\n",
       "host_identity_verified                 0\n",
       "host name                              0\n",
       "neighbourhood group                   27\n",
       "neighbourhood                         16\n",
       "instant_bookable                       0\n",
       "cancellation_policy                    0\n",
       "room type                              0\n",
       "Construction year                      0\n",
       "price                                  0\n",
       "service fee                            0\n",
       "minimum nights                       403\n",
       "number of reviews                    182\n",
       "last review                        15857\n",
       "reviews per month                  15843\n",
       "review rate number                   318\n",
       "calculated host listings count       318\n",
       "availability 365                     430\n",
       "house_rules                        52025\n",
       "license                           102347\n",
       "area                                  43\n",
       "dtype: int64"
      ]
     },
     "execution_count": 49,
     "metadata": {},
     "output_type": "execute_result"
    }
   ],
   "source": [
    "updated_df.isna().sum()"
   ]
  },
  {
   "cell_type": "markdown",
   "id": "a841a52a",
   "metadata": {
    "papermill": {
     "duration": 0.04776,
     "end_time": "2024-07-15T09:49:59.532443",
     "exception": false,
     "start_time": "2024-07-15T09:49:59.484683",
     "status": "completed"
    },
    "tags": []
   },
   "source": [
    "**To fill minimum nights we use mode on them**"
   ]
  },
  {
   "cell_type": "code",
   "execution_count": 50,
   "id": "4eda614c",
   "metadata": {
    "execution": {
     "iopub.execute_input": "2024-07-15T09:49:59.620109Z",
     "iopub.status.busy": "2024-07-15T09:49:59.619658Z",
     "iopub.status.idle": "2024-07-15T09:49:59.632509Z",
     "shell.execute_reply": "2024-07-15T09:49:59.630973Z"
    },
    "papermill": {
     "duration": 0.059394,
     "end_time": "2024-07-15T09:49:59.635142",
     "exception": false,
     "start_time": "2024-07-15T09:49:59.575748",
     "status": "completed"
    },
    "tags": []
   },
   "outputs": [
    {
     "data": {
      "text/plain": [
       "1.0"
      ]
     },
     "execution_count": 50,
     "metadata": {},
     "output_type": "execute_result"
    }
   ],
   "source": [
    "m = updated_df['minimum nights'].mode()[0]\n",
    "m"
   ]
  },
  {
   "cell_type": "code",
   "execution_count": 51,
   "id": "73211ab4",
   "metadata": {
    "execution": {
     "iopub.execute_input": "2024-07-15T09:49:59.731047Z",
     "iopub.status.busy": "2024-07-15T09:49:59.729752Z",
     "iopub.status.idle": "2024-07-15T09:49:59.737568Z",
     "shell.execute_reply": "2024-07-15T09:49:59.736175Z"
    },
    "papermill": {
     "duration": 0.062735,
     "end_time": "2024-07-15T09:49:59.740892",
     "exception": false,
     "start_time": "2024-07-15T09:49:59.678157",
     "status": "completed"
    },
    "tags": []
   },
   "outputs": [],
   "source": [
    "updated_df['minimum nights'] = updated_df['minimum nights'].fillna(m)"
   ]
  },
  {
   "cell_type": "code",
   "execution_count": 52,
   "id": "53fb1776",
   "metadata": {
    "execution": {
     "iopub.execute_input": "2024-07-15T09:49:59.843436Z",
     "iopub.status.busy": "2024-07-15T09:49:59.843035Z",
     "iopub.status.idle": "2024-07-15T09:50:00.010711Z",
     "shell.execute_reply": "2024-07-15T09:50:00.009253Z"
    },
    "papermill": {
     "duration": 0.216792,
     "end_time": "2024-07-15T09:50:00.013948",
     "exception": false,
     "start_time": "2024-07-15T09:49:59.797156",
     "status": "completed"
    },
    "tags": []
   },
   "outputs": [
    {
     "data": {
      "text/plain": [
       "name                                   0\n",
       "host id                                0\n",
       "host_identity_verified                 0\n",
       "host name                              0\n",
       "neighbourhood group                   27\n",
       "neighbourhood                         16\n",
       "instant_bookable                       0\n",
       "cancellation_policy                    0\n",
       "room type                              0\n",
       "Construction year                      0\n",
       "price                                  0\n",
       "service fee                            0\n",
       "minimum nights                         0\n",
       "number of reviews                    182\n",
       "last review                        15857\n",
       "reviews per month                  15843\n",
       "review rate number                   318\n",
       "calculated host listings count       318\n",
       "availability 365                     430\n",
       "house_rules                        52025\n",
       "license                           102347\n",
       "area                                  43\n",
       "dtype: int64"
      ]
     },
     "execution_count": 52,
     "metadata": {},
     "output_type": "execute_result"
    }
   ],
   "source": [
    "updated_df.isna().sum()"
   ]
  },
  {
   "cell_type": "markdown",
   "id": "5ecf3030",
   "metadata": {
    "papermill": {
     "duration": 0.046091,
     "end_time": "2024-07-15T09:50:00.103254",
     "exception": false,
     "start_time": "2024-07-15T09:50:00.057163",
     "status": "completed"
    },
    "tags": []
   },
   "source": [
    "**We will fill number of reviews null values with no review**"
   ]
  },
  {
   "cell_type": "code",
   "execution_count": 53,
   "id": "71ecb98f",
   "metadata": {
    "execution": {
     "iopub.execute_input": "2024-07-15T09:50:00.194543Z",
     "iopub.status.busy": "2024-07-15T09:50:00.194151Z",
     "iopub.status.idle": "2024-07-15T09:50:00.211304Z",
     "shell.execute_reply": "2024-07-15T09:50:00.209491Z"
    },
    "papermill": {
     "duration": 0.06679,
     "end_time": "2024-07-15T09:50:00.214843",
     "exception": false,
     "start_time": "2024-07-15T09:50:00.148053",
     "status": "completed"
    },
    "tags": []
   },
   "outputs": [],
   "source": [
    "updated_df['number of reviews'] = updated_df['number of reviews'].fillna('no reviews')"
   ]
  },
  {
   "cell_type": "code",
   "execution_count": 54,
   "id": "9294929d",
   "metadata": {
    "execution": {
     "iopub.execute_input": "2024-07-15T09:50:00.316867Z",
     "iopub.status.busy": "2024-07-15T09:50:00.316255Z",
     "iopub.status.idle": "2024-07-15T09:50:00.497326Z",
     "shell.execute_reply": "2024-07-15T09:50:00.495824Z"
    },
    "papermill": {
     "duration": 0.233706,
     "end_time": "2024-07-15T09:50:00.500126",
     "exception": false,
     "start_time": "2024-07-15T09:50:00.266420",
     "status": "completed"
    },
    "tags": []
   },
   "outputs": [
    {
     "data": {
      "text/plain": [
       "name                                   0\n",
       "host id                                0\n",
       "host_identity_verified                 0\n",
       "host name                              0\n",
       "neighbourhood group                   27\n",
       "neighbourhood                         16\n",
       "instant_bookable                       0\n",
       "cancellation_policy                    0\n",
       "room type                              0\n",
       "Construction year                      0\n",
       "price                                  0\n",
       "service fee                            0\n",
       "minimum nights                         0\n",
       "number of reviews                      0\n",
       "last review                        15857\n",
       "reviews per month                  15843\n",
       "review rate number                   318\n",
       "calculated host listings count       318\n",
       "availability 365                     430\n",
       "house_rules                        52025\n",
       "license                           102347\n",
       "area                                  43\n",
       "dtype: int64"
      ]
     },
     "execution_count": 54,
     "metadata": {},
     "output_type": "execute_result"
    }
   ],
   "source": [
    "updated_df.isna().sum()"
   ]
  },
  {
   "cell_type": "markdown",
   "id": "033ad54b",
   "metadata": {
    "papermill": {
     "duration": 0.047303,
     "end_time": "2024-07-15T09:50:00.593691",
     "exception": false,
     "start_time": "2024-07-15T09:50:00.546388",
     "status": "completed"
    },
    "tags": []
   },
   "source": [
    "**no need of last review,reviews per month**"
   ]
  },
  {
   "cell_type": "code",
   "execution_count": 55,
   "id": "e7372bf9",
   "metadata": {
    "execution": {
     "iopub.execute_input": "2024-07-15T09:50:00.687850Z",
     "iopub.status.busy": "2024-07-15T09:50:00.687448Z",
     "iopub.status.idle": "2024-07-15T09:50:00.814958Z",
     "shell.execute_reply": "2024-07-15T09:50:00.813819Z"
    },
    "papermill": {
     "duration": 0.17678,
     "end_time": "2024-07-15T09:50:00.818197",
     "exception": false,
     "start_time": "2024-07-15T09:50:00.641417",
     "status": "completed"
    },
    "tags": []
   },
   "outputs": [],
   "source": [
    "updated_df.drop(columns = ['last review','reviews per month'],inplace = True)"
   ]
  },
  {
   "cell_type": "code",
   "execution_count": 56,
   "id": "582e63d2",
   "metadata": {
    "execution": {
     "iopub.execute_input": "2024-07-15T09:50:00.906927Z",
     "iopub.status.busy": "2024-07-15T09:50:00.906454Z",
     "iopub.status.idle": "2024-07-15T09:50:01.037539Z",
     "shell.execute_reply": "2024-07-15T09:50:01.036333Z"
    },
    "papermill": {
     "duration": 0.177363,
     "end_time": "2024-07-15T09:50:01.040434",
     "exception": false,
     "start_time": "2024-07-15T09:50:00.863071",
     "status": "completed"
    },
    "tags": []
   },
   "outputs": [
    {
     "data": {
      "text/plain": [
       "name                                   0\n",
       "host id                                0\n",
       "host_identity_verified                 0\n",
       "host name                              0\n",
       "neighbourhood group                   27\n",
       "neighbourhood                         16\n",
       "instant_bookable                       0\n",
       "cancellation_policy                    0\n",
       "room type                              0\n",
       "Construction year                      0\n",
       "price                                  0\n",
       "service fee                            0\n",
       "minimum nights                         0\n",
       "number of reviews                      0\n",
       "review rate number                   318\n",
       "calculated host listings count       318\n",
       "availability 365                     430\n",
       "house_rules                        52025\n",
       "license                           102347\n",
       "area                                  43\n",
       "dtype: int64"
      ]
     },
     "execution_count": 56,
     "metadata": {},
     "output_type": "execute_result"
    }
   ],
   "source": [
    "updated_df.isna().sum()"
   ]
  },
  {
   "cell_type": "markdown",
   "id": "f18966c9",
   "metadata": {
    "papermill": {
     "duration": 0.045718,
     "end_time": "2024-07-15T09:50:01.132905",
     "exception": false,
     "start_time": "2024-07-15T09:50:01.087187",
     "status": "completed"
    },
    "tags": []
   },
   "source": [
    "**No need of review rate number so we will drop that columns as well**"
   ]
  },
  {
   "cell_type": "code",
   "execution_count": 57,
   "id": "16983599",
   "metadata": {
    "execution": {
     "iopub.execute_input": "2024-07-15T09:50:01.225636Z",
     "iopub.status.busy": "2024-07-15T09:50:01.225201Z",
     "iopub.status.idle": "2024-07-15T09:50:01.264426Z",
     "shell.execute_reply": "2024-07-15T09:50:01.263019Z"
    },
    "papermill": {
     "duration": 0.090276,
     "end_time": "2024-07-15T09:50:01.268096",
     "exception": false,
     "start_time": "2024-07-15T09:50:01.177820",
     "status": "completed"
    },
    "tags": []
   },
   "outputs": [],
   "source": [
    "updated_df.drop(columns = ['review rate number'],inplace = True)"
   ]
  },
  {
   "cell_type": "code",
   "execution_count": 58,
   "id": "5d2329e3",
   "metadata": {
    "execution": {
     "iopub.execute_input": "2024-07-15T09:50:01.361183Z",
     "iopub.status.busy": "2024-07-15T09:50:01.359897Z",
     "iopub.status.idle": "2024-07-15T09:50:01.496314Z",
     "shell.execute_reply": "2024-07-15T09:50:01.494654Z"
    },
    "papermill": {
     "duration": 0.18509,
     "end_time": "2024-07-15T09:50:01.499304",
     "exception": false,
     "start_time": "2024-07-15T09:50:01.314214",
     "status": "completed"
    },
    "tags": []
   },
   "outputs": [
    {
     "data": {
      "text/plain": [
       "name                                   0\n",
       "host id                                0\n",
       "host_identity_verified                 0\n",
       "host name                              0\n",
       "neighbourhood group                   27\n",
       "neighbourhood                         16\n",
       "instant_bookable                       0\n",
       "cancellation_policy                    0\n",
       "room type                              0\n",
       "Construction year                      0\n",
       "price                                  0\n",
       "service fee                            0\n",
       "minimum nights                         0\n",
       "number of reviews                      0\n",
       "calculated host listings count       318\n",
       "availability 365                     430\n",
       "house_rules                        52025\n",
       "license                           102347\n",
       "area                                  43\n",
       "dtype: int64"
      ]
     },
     "execution_count": 58,
     "metadata": {},
     "output_type": "execute_result"
    }
   ],
   "source": [
    "updated_df.isna().sum()"
   ]
  },
  {
   "cell_type": "markdown",
   "id": "17bdcb7f",
   "metadata": {
    "papermill": {
     "duration": 0.047306,
     "end_time": "2024-07-15T09:50:01.591654",
     "exception": false,
     "start_time": "2024-07-15T09:50:01.544348",
     "status": "completed"
    },
    "tags": []
   },
   "source": [
    "**No need of calculated host listings count**"
   ]
  },
  {
   "cell_type": "code",
   "execution_count": 59,
   "id": "9bb619dd",
   "metadata": {
    "execution": {
     "iopub.execute_input": "2024-07-15T09:50:01.682748Z",
     "iopub.status.busy": "2024-07-15T09:50:01.682338Z",
     "iopub.status.idle": "2024-07-15T09:50:01.718534Z",
     "shell.execute_reply": "2024-07-15T09:50:01.717281Z"
    },
    "papermill": {
     "duration": 0.086175,
     "end_time": "2024-07-15T09:50:01.721738",
     "exception": false,
     "start_time": "2024-07-15T09:50:01.635563",
     "status": "completed"
    },
    "tags": []
   },
   "outputs": [],
   "source": [
    "updated_df.drop(columns = ['calculated host listings count'],inplace = True)"
   ]
  },
  {
   "cell_type": "code",
   "execution_count": 60,
   "id": "68851ce4",
   "metadata": {
    "execution": {
     "iopub.execute_input": "2024-07-15T09:50:01.814538Z",
     "iopub.status.busy": "2024-07-15T09:50:01.814124Z",
     "iopub.status.idle": "2024-07-15T09:50:01.944830Z",
     "shell.execute_reply": "2024-07-15T09:50:01.943525Z"
    },
    "papermill": {
     "duration": 0.181366,
     "end_time": "2024-07-15T09:50:01.947945",
     "exception": false,
     "start_time": "2024-07-15T09:50:01.766579",
     "status": "completed"
    },
    "tags": []
   },
   "outputs": [
    {
     "data": {
      "text/plain": [
       "name                           0\n",
       "host id                        0\n",
       "host_identity_verified         0\n",
       "host name                      0\n",
       "neighbourhood group           27\n",
       "neighbourhood                 16\n",
       "instant_bookable               0\n",
       "cancellation_policy            0\n",
       "room type                      0\n",
       "Construction year              0\n",
       "price                          0\n",
       "service fee                    0\n",
       "minimum nights                 0\n",
       "number of reviews              0\n",
       "availability 365             430\n",
       "house_rules                52025\n",
       "license                   102347\n",
       "area                          43\n",
       "dtype: int64"
      ]
     },
     "execution_count": 60,
     "metadata": {},
     "output_type": "execute_result"
    }
   ],
   "source": [
    "updated_df.isna().sum()"
   ]
  },
  {
   "cell_type": "markdown",
   "id": "08fe4897",
   "metadata": {
    "papermill": {
     "duration": 0.045311,
     "end_time": "2024-07-15T09:50:02.036379",
     "exception": false,
     "start_time": "2024-07-15T09:50:01.991068",
     "status": "completed"
    },
    "tags": []
   },
   "source": [
    "**We will make availability 365 based on mean**"
   ]
  },
  {
   "cell_type": "code",
   "execution_count": 61,
   "id": "41268c6c",
   "metadata": {
    "execution": {
     "iopub.execute_input": "2024-07-15T09:50:02.132553Z",
     "iopub.status.busy": "2024-07-15T09:50:02.132156Z",
     "iopub.status.idle": "2024-07-15T09:50:02.139826Z",
     "shell.execute_reply": "2024-07-15T09:50:02.138486Z"
    },
    "papermill": {
     "duration": 0.058866,
     "end_time": "2024-07-15T09:50:02.143236",
     "exception": false,
     "start_time": "2024-07-15T09:50:02.084370",
     "status": "completed"
    },
    "tags": []
   },
   "outputs": [],
   "source": [
    "def update_availability(x):\n",
    "    if pd.isna(x['availability 365']):\n",
    "        m = updated_df.loc[(updated_df['area'] == x.area),'availability 365'].mean()\n",
    "        # If that area is present only once then we won't get value we get null\n",
    "        # in that case we will insert mean of price there\n",
    "        if not pd.isna(m):\n",
    "            x['availability 365'] = int(m)\n",
    "        else:\n",
    "            x['availability 365'] = updated_df['availability 365'].mean()\n",
    "    return x "
   ]
  },
  {
   "cell_type": "code",
   "execution_count": 62,
   "id": "acc34a92",
   "metadata": {
    "execution": {
     "iopub.execute_input": "2024-07-15T09:50:02.238343Z",
     "iopub.status.busy": "2024-07-15T09:50:02.237904Z",
     "iopub.status.idle": "2024-07-15T09:50:17.847531Z",
     "shell.execute_reply": "2024-07-15T09:50:17.846437Z"
    },
    "papermill": {
     "duration": 15.659107,
     "end_time": "2024-07-15T09:50:17.850307",
     "exception": false,
     "start_time": "2024-07-15T09:50:02.191200",
     "status": "completed"
    },
    "tags": []
   },
   "outputs": [],
   "source": [
    "updated_df = updated_df.apply(update_availability,axis = 1)"
   ]
  },
  {
   "cell_type": "code",
   "execution_count": 63,
   "id": "6ca2818d",
   "metadata": {
    "execution": {
     "iopub.execute_input": "2024-07-15T09:50:17.937110Z",
     "iopub.status.busy": "2024-07-15T09:50:17.936692Z",
     "iopub.status.idle": "2024-07-15T09:50:17.969145Z",
     "shell.execute_reply": "2024-07-15T09:50:17.967960Z"
    },
    "papermill": {
     "duration": 0.079635,
     "end_time": "2024-07-15T09:50:17.972048",
     "exception": false,
     "start_time": "2024-07-15T09:50:17.892413",
     "status": "completed"
    },
    "tags": []
   },
   "outputs": [
    {
     "data": {
      "text/html": [
       "<div>\n",
       "<style scoped>\n",
       "    .dataframe tbody tr th:only-of-type {\n",
       "        vertical-align: middle;\n",
       "    }\n",
       "\n",
       "    .dataframe tbody tr th {\n",
       "        vertical-align: top;\n",
       "    }\n",
       "\n",
       "    .dataframe thead th {\n",
       "        text-align: right;\n",
       "    }\n",
       "</style>\n",
       "<table border=\"1\" class=\"dataframe\">\n",
       "  <thead>\n",
       "    <tr style=\"text-align: right;\">\n",
       "      <th></th>\n",
       "      <th>name</th>\n",
       "      <th>host id</th>\n",
       "      <th>host_identity_verified</th>\n",
       "      <th>host name</th>\n",
       "      <th>neighbourhood group</th>\n",
       "      <th>neighbourhood</th>\n",
       "      <th>instant_bookable</th>\n",
       "      <th>cancellation_policy</th>\n",
       "      <th>room type</th>\n",
       "      <th>Construction year</th>\n",
       "      <th>price</th>\n",
       "      <th>service fee</th>\n",
       "      <th>minimum nights</th>\n",
       "      <th>number of reviews</th>\n",
       "      <th>availability 365</th>\n",
       "      <th>house_rules</th>\n",
       "      <th>license</th>\n",
       "      <th>area</th>\n",
       "    </tr>\n",
       "    <tr>\n",
       "      <th>id</th>\n",
       "      <th></th>\n",
       "      <th></th>\n",
       "      <th></th>\n",
       "      <th></th>\n",
       "      <th></th>\n",
       "      <th></th>\n",
       "      <th></th>\n",
       "      <th></th>\n",
       "      <th></th>\n",
       "      <th></th>\n",
       "      <th></th>\n",
       "      <th></th>\n",
       "      <th></th>\n",
       "      <th></th>\n",
       "      <th></th>\n",
       "      <th></th>\n",
       "      <th></th>\n",
       "      <th></th>\n",
       "    </tr>\n",
       "  </thead>\n",
       "  <tbody>\n",
       "    <tr>\n",
       "      <th>1001254</th>\n",
       "      <td>Clean &amp; quiet apt home by the park</td>\n",
       "      <td>80014485718</td>\n",
       "      <td>unconfirmed</td>\n",
       "      <td>Madaline</td>\n",
       "      <td>Brooklyn</td>\n",
       "      <td>Kensington</td>\n",
       "      <td>False</td>\n",
       "      <td>strict</td>\n",
       "      <td>Private room</td>\n",
       "      <td>2020.0</td>\n",
       "      <td>966.0</td>\n",
       "      <td>193</td>\n",
       "      <td>10.0</td>\n",
       "      <td>9.0</td>\n",
       "      <td>286.0</td>\n",
       "      <td>Clean up and treat the home the way you'd like...</td>\n",
       "      <td>NaN</td>\n",
       "      <td>Brooklyn Kensington</td>\n",
       "    </tr>\n",
       "    <tr>\n",
       "      <th>1002102</th>\n",
       "      <td>Skylit Midtown Castle</td>\n",
       "      <td>52335172823</td>\n",
       "      <td>verified</td>\n",
       "      <td>Jenna</td>\n",
       "      <td>Manhattan</td>\n",
       "      <td>Midtown</td>\n",
       "      <td>False</td>\n",
       "      <td>moderate</td>\n",
       "      <td>Entire home/apt</td>\n",
       "      <td>2007.0</td>\n",
       "      <td>142.0</td>\n",
       "      <td>28</td>\n",
       "      <td>30.0</td>\n",
       "      <td>45.0</td>\n",
       "      <td>228.0</td>\n",
       "      <td>Pet friendly but please confirm with me if the...</td>\n",
       "      <td>NaN</td>\n",
       "      <td>Manhattan Midtown</td>\n",
       "    </tr>\n",
       "    <tr>\n",
       "      <th>1002403</th>\n",
       "      <td>THE VILLAGE OF HARLEM....NEW YORK !</td>\n",
       "      <td>78829239556</td>\n",
       "      <td>unconfirmed</td>\n",
       "      <td>Elise</td>\n",
       "      <td>Manhattan</td>\n",
       "      <td>Harlem</td>\n",
       "      <td>True</td>\n",
       "      <td>flexible</td>\n",
       "      <td>Private room</td>\n",
       "      <td>2005.0</td>\n",
       "      <td>620.0</td>\n",
       "      <td>124</td>\n",
       "      <td>3.0</td>\n",
       "      <td>0.0</td>\n",
       "      <td>352.0</td>\n",
       "      <td>I encourage you to use my kitchen, cooking and...</td>\n",
       "      <td>NaN</td>\n",
       "      <td>Manhattan Harlem</td>\n",
       "    </tr>\n",
       "    <tr>\n",
       "      <th>1003689</th>\n",
       "      <td>Entire Apt: Spacious Studio/Loft by central park</td>\n",
       "      <td>92037596077</td>\n",
       "      <td>verified</td>\n",
       "      <td>Lyndon</td>\n",
       "      <td>Manhattan</td>\n",
       "      <td>East Harlem</td>\n",
       "      <td>False</td>\n",
       "      <td>moderate</td>\n",
       "      <td>Entire home/apt</td>\n",
       "      <td>2009.0</td>\n",
       "      <td>204.0</td>\n",
       "      <td>41</td>\n",
       "      <td>10.0</td>\n",
       "      <td>9.0</td>\n",
       "      <td>289.0</td>\n",
       "      <td>Please no smoking in the house, porch or on th...</td>\n",
       "      <td>NaN</td>\n",
       "      <td>Manhattan East Harlem</td>\n",
       "    </tr>\n",
       "    <tr>\n",
       "      <th>1004098</th>\n",
       "      <td>Large Cozy 1 BR Apartment In Midtown East</td>\n",
       "      <td>45498551794</td>\n",
       "      <td>verified</td>\n",
       "      <td>Michelle</td>\n",
       "      <td>Manhattan</td>\n",
       "      <td>Murray Hill</td>\n",
       "      <td>True</td>\n",
       "      <td>flexible</td>\n",
       "      <td>Entire home/apt</td>\n",
       "      <td>2013.0</td>\n",
       "      <td>577.0</td>\n",
       "      <td>115</td>\n",
       "      <td>3.0</td>\n",
       "      <td>74.0</td>\n",
       "      <td>374.0</td>\n",
       "      <td>No smoking, please, and no drugs.</td>\n",
       "      <td>NaN</td>\n",
       "      <td>Manhattan Murray Hill</td>\n",
       "    </tr>\n",
       "    <tr>\n",
       "      <th>...</th>\n",
       "      <td>...</td>\n",
       "      <td>...</td>\n",
       "      <td>...</td>\n",
       "      <td>...</td>\n",
       "      <td>...</td>\n",
       "      <td>...</td>\n",
       "      <td>...</td>\n",
       "      <td>...</td>\n",
       "      <td>...</td>\n",
       "      <td>...</td>\n",
       "      <td>...</td>\n",
       "      <td>...</td>\n",
       "      <td>...</td>\n",
       "      <td>...</td>\n",
       "      <td>...</td>\n",
       "      <td>...</td>\n",
       "      <td>...</td>\n",
       "      <td>...</td>\n",
       "    </tr>\n",
       "    <tr>\n",
       "      <th>6092437</th>\n",
       "      <td>Spare room in Williamsburg</td>\n",
       "      <td>12312296767</td>\n",
       "      <td>verified</td>\n",
       "      <td>Krik</td>\n",
       "      <td>Brooklyn</td>\n",
       "      <td>Williamsburg</td>\n",
       "      <td>False</td>\n",
       "      <td>flexible</td>\n",
       "      <td>Private room</td>\n",
       "      <td>2003.0</td>\n",
       "      <td>844.0</td>\n",
       "      <td>169</td>\n",
       "      <td>1.0</td>\n",
       "      <td>0.0</td>\n",
       "      <td>227.0</td>\n",
       "      <td>No Smoking No Parties or Events of any kind Pl...</td>\n",
       "      <td>NaN</td>\n",
       "      <td>Brooklyn Williamsburg</td>\n",
       "    </tr>\n",
       "    <tr>\n",
       "      <th>6092990</th>\n",
       "      <td>Best Location near Columbia U</td>\n",
       "      <td>77864383453</td>\n",
       "      <td>unconfirmed</td>\n",
       "      <td>Mifan</td>\n",
       "      <td>Manhattan</td>\n",
       "      <td>Morningside Heights</td>\n",
       "      <td>True</td>\n",
       "      <td>moderate</td>\n",
       "      <td>Private room</td>\n",
       "      <td>2016.0</td>\n",
       "      <td>837.0</td>\n",
       "      <td>167</td>\n",
       "      <td>1.0</td>\n",
       "      <td>1.0</td>\n",
       "      <td>395.0</td>\n",
       "      <td>House rules: Guests agree to the following ter...</td>\n",
       "      <td>NaN</td>\n",
       "      <td>Manhattan Morningside Heights</td>\n",
       "    </tr>\n",
       "    <tr>\n",
       "      <th>6093542</th>\n",
       "      <td>Comfy, bright room in Brooklyn</td>\n",
       "      <td>69050334417</td>\n",
       "      <td>unconfirmed</td>\n",
       "      <td>Megan</td>\n",
       "      <td>Brooklyn</td>\n",
       "      <td>Park Slope</td>\n",
       "      <td>True</td>\n",
       "      <td>moderate</td>\n",
       "      <td>Private room</td>\n",
       "      <td>2009.0</td>\n",
       "      <td>988.0</td>\n",
       "      <td>198</td>\n",
       "      <td>3.0</td>\n",
       "      <td>0.0</td>\n",
       "      <td>342.0</td>\n",
       "      <td>NaN</td>\n",
       "      <td>NaN</td>\n",
       "      <td>Brooklyn Park Slope</td>\n",
       "    </tr>\n",
       "    <tr>\n",
       "      <th>6094094</th>\n",
       "      <td>Big Studio-One Stop from Midtown</td>\n",
       "      <td>11160591270</td>\n",
       "      <td>unconfirmed</td>\n",
       "      <td>Christopher</td>\n",
       "      <td>Queens</td>\n",
       "      <td>Long Island City</td>\n",
       "      <td>True</td>\n",
       "      <td>strict</td>\n",
       "      <td>Entire home/apt</td>\n",
       "      <td>2015.0</td>\n",
       "      <td>546.0</td>\n",
       "      <td>109</td>\n",
       "      <td>2.0</td>\n",
       "      <td>5.0</td>\n",
       "      <td>386.0</td>\n",
       "      <td>NaN</td>\n",
       "      <td>NaN</td>\n",
       "      <td>Queens Long Island City</td>\n",
       "    </tr>\n",
       "    <tr>\n",
       "      <th>6094647</th>\n",
       "      <td>585 sf Luxury Studio</td>\n",
       "      <td>68170633372</td>\n",
       "      <td>unconfirmed</td>\n",
       "      <td>Rebecca</td>\n",
       "      <td>Manhattan</td>\n",
       "      <td>Upper West Side</td>\n",
       "      <td>False</td>\n",
       "      <td>flexible</td>\n",
       "      <td>Entire home/apt</td>\n",
       "      <td>2010.0</td>\n",
       "      <td>1032.0</td>\n",
       "      <td>206</td>\n",
       "      <td>1.0</td>\n",
       "      <td>0.0</td>\n",
       "      <td>69.0</td>\n",
       "      <td>NaN</td>\n",
       "      <td>NaN</td>\n",
       "      <td>Manhattan Upper West Side</td>\n",
       "    </tr>\n",
       "  </tbody>\n",
       "</table>\n",
       "<p>102349 rows × 18 columns</p>\n",
       "</div>"
      ],
      "text/plain": [
       "                                                     name      host id  \\\n",
       "id                                                                       \n",
       "1001254                Clean & quiet apt home by the park  80014485718   \n",
       "1002102                             Skylit Midtown Castle  52335172823   \n",
       "1002403               THE VILLAGE OF HARLEM....NEW YORK !  78829239556   \n",
       "1003689  Entire Apt: Spacious Studio/Loft by central park  92037596077   \n",
       "1004098         Large Cozy 1 BR Apartment In Midtown East  45498551794   \n",
       "...                                                   ...          ...   \n",
       "6092437                        Spare room in Williamsburg  12312296767   \n",
       "6092990                     Best Location near Columbia U  77864383453   \n",
       "6093542                    Comfy, bright room in Brooklyn  69050334417   \n",
       "6094094                  Big Studio-One Stop from Midtown  11160591270   \n",
       "6094647                              585 sf Luxury Studio  68170633372   \n",
       "\n",
       "        host_identity_verified    host name neighbourhood group  \\\n",
       "id                                                                \n",
       "1001254            unconfirmed     Madaline            Brooklyn   \n",
       "1002102               verified        Jenna           Manhattan   \n",
       "1002403            unconfirmed        Elise           Manhattan   \n",
       "1003689               verified       Lyndon           Manhattan   \n",
       "1004098               verified     Michelle           Manhattan   \n",
       "...                        ...          ...                 ...   \n",
       "6092437               verified         Krik            Brooklyn   \n",
       "6092990            unconfirmed        Mifan           Manhattan   \n",
       "6093542            unconfirmed        Megan            Brooklyn   \n",
       "6094094            unconfirmed  Christopher              Queens   \n",
       "6094647            unconfirmed      Rebecca           Manhattan   \n",
       "\n",
       "               neighbourhood instant_bookable cancellation_policy  \\\n",
       "id                                                                  \n",
       "1001254           Kensington            False              strict   \n",
       "1002102              Midtown            False            moderate   \n",
       "1002403               Harlem             True            flexible   \n",
       "1003689          East Harlem            False            moderate   \n",
       "1004098          Murray Hill             True            flexible   \n",
       "...                      ...              ...                 ...   \n",
       "6092437         Williamsburg            False            flexible   \n",
       "6092990  Morningside Heights             True            moderate   \n",
       "6093542           Park Slope             True            moderate   \n",
       "6094094     Long Island City             True              strict   \n",
       "6094647      Upper West Side            False            flexible   \n",
       "\n",
       "               room type  Construction year   price  service fee  \\\n",
       "id                                                                 \n",
       "1001254     Private room             2020.0   966.0          193   \n",
       "1002102  Entire home/apt             2007.0   142.0           28   \n",
       "1002403     Private room             2005.0   620.0          124   \n",
       "1003689  Entire home/apt             2009.0   204.0           41   \n",
       "1004098  Entire home/apt             2013.0   577.0          115   \n",
       "...                  ...                ...     ...          ...   \n",
       "6092437     Private room             2003.0   844.0          169   \n",
       "6092990     Private room             2016.0   837.0          167   \n",
       "6093542     Private room             2009.0   988.0          198   \n",
       "6094094  Entire home/apt             2015.0   546.0          109   \n",
       "6094647  Entire home/apt             2010.0  1032.0          206   \n",
       "\n",
       "         minimum nights number of reviews  availability 365  \\\n",
       "id                                                            \n",
       "1001254            10.0               9.0             286.0   \n",
       "1002102            30.0              45.0             228.0   \n",
       "1002403             3.0               0.0             352.0   \n",
       "1003689            10.0               9.0             289.0   \n",
       "1004098             3.0              74.0             374.0   \n",
       "...                 ...               ...               ...   \n",
       "6092437             1.0               0.0             227.0   \n",
       "6092990             1.0               1.0             395.0   \n",
       "6093542             3.0               0.0             342.0   \n",
       "6094094             2.0               5.0             386.0   \n",
       "6094647             1.0               0.0              69.0   \n",
       "\n",
       "                                               house_rules license  \\\n",
       "id                                                                   \n",
       "1001254  Clean up and treat the home the way you'd like...     NaN   \n",
       "1002102  Pet friendly but please confirm with me if the...     NaN   \n",
       "1002403  I encourage you to use my kitchen, cooking and...     NaN   \n",
       "1003689  Please no smoking in the house, porch or on th...     NaN   \n",
       "1004098                  No smoking, please, and no drugs.     NaN   \n",
       "...                                                    ...     ...   \n",
       "6092437  No Smoking No Parties or Events of any kind Pl...     NaN   \n",
       "6092990  House rules: Guests agree to the following ter...     NaN   \n",
       "6093542                                                NaN     NaN   \n",
       "6094094                                                NaN     NaN   \n",
       "6094647                                                NaN     NaN   \n",
       "\n",
       "                                  area  \n",
       "id                                      \n",
       "1001254            Brooklyn Kensington  \n",
       "1002102              Manhattan Midtown  \n",
       "1002403               Manhattan Harlem  \n",
       "1003689          Manhattan East Harlem  \n",
       "1004098          Manhattan Murray Hill  \n",
       "...                                ...  \n",
       "6092437          Brooklyn Williamsburg  \n",
       "6092990  Manhattan Morningside Heights  \n",
       "6093542            Brooklyn Park Slope  \n",
       "6094094        Queens Long Island City  \n",
       "6094647      Manhattan Upper West Side  \n",
       "\n",
       "[102349 rows x 18 columns]"
      ]
     },
     "execution_count": 63,
     "metadata": {},
     "output_type": "execute_result"
    }
   ],
   "source": [
    "updated_df"
   ]
  },
  {
   "cell_type": "markdown",
   "id": "cefce72f",
   "metadata": {
    "papermill": {
     "duration": 0.042497,
     "end_time": "2024-07-15T09:50:18.058056",
     "exception": false,
     "start_time": "2024-07-15T09:50:18.015559",
     "status": "completed"
    },
    "tags": []
   },
   "source": [
    "**If house rules is null we keep it as no rules**"
   ]
  },
  {
   "cell_type": "code",
   "execution_count": 64,
   "id": "77a77da2",
   "metadata": {
    "execution": {
     "iopub.execute_input": "2024-07-15T09:50:18.145208Z",
     "iopub.status.busy": "2024-07-15T09:50:18.144810Z",
     "iopub.status.idle": "2024-07-15T09:50:18.168432Z",
     "shell.execute_reply": "2024-07-15T09:50:18.167334Z"
    },
    "papermill": {
     "duration": 0.070378,
     "end_time": "2024-07-15T09:50:18.171208",
     "exception": false,
     "start_time": "2024-07-15T09:50:18.100830",
     "status": "completed"
    },
    "tags": []
   },
   "outputs": [],
   "source": [
    "updated_df['house_rules'] = updated_df['house_rules'].fillna('no rules')"
   ]
  },
  {
   "cell_type": "code",
   "execution_count": 65,
   "id": "56a3b8bd",
   "metadata": {
    "execution": {
     "iopub.execute_input": "2024-07-15T09:50:18.262893Z",
     "iopub.status.busy": "2024-07-15T09:50:18.262423Z",
     "iopub.status.idle": "2024-07-15T09:50:18.410273Z",
     "shell.execute_reply": "2024-07-15T09:50:18.408874Z"
    },
    "papermill": {
     "duration": 0.199074,
     "end_time": "2024-07-15T09:50:18.412956",
     "exception": false,
     "start_time": "2024-07-15T09:50:18.213882",
     "status": "completed"
    },
    "tags": []
   },
   "outputs": [
    {
     "data": {
      "text/plain": [
       "name                           0\n",
       "host id                        0\n",
       "host_identity_verified         0\n",
       "host name                      0\n",
       "neighbourhood group           27\n",
       "neighbourhood                 16\n",
       "instant_bookable               0\n",
       "cancellation_policy            0\n",
       "room type                      0\n",
       "Construction year              0\n",
       "price                          0\n",
       "service fee                    0\n",
       "minimum nights                 0\n",
       "number of reviews              0\n",
       "availability 365               0\n",
       "house_rules                    0\n",
       "license                   102347\n",
       "area                          43\n",
       "dtype: int64"
      ]
     },
     "execution_count": 65,
     "metadata": {},
     "output_type": "execute_result"
    }
   ],
   "source": [
    "updated_df.isna().sum()"
   ]
  },
  {
   "cell_type": "code",
   "execution_count": 66,
   "id": "d03d5077",
   "metadata": {
    "execution": {
     "iopub.execute_input": "2024-07-15T09:50:18.501484Z",
     "iopub.status.busy": "2024-07-15T09:50:18.501063Z",
     "iopub.status.idle": "2024-07-15T09:50:18.516721Z",
     "shell.execute_reply": "2024-07-15T09:50:18.515531Z"
    },
    "papermill": {
     "duration": 0.063266,
     "end_time": "2024-07-15T09:50:18.519383",
     "exception": false,
     "start_time": "2024-07-15T09:50:18.456117",
     "status": "completed"
    },
    "tags": []
   },
   "outputs": [
    {
     "data": {
      "text/plain": [
       "array([nan, '41662/AL'], dtype=object)"
      ]
     },
     "execution_count": 66,
     "metadata": {},
     "output_type": "execute_result"
    }
   ],
   "source": [
    "updated_df['license'].unique()"
   ]
  },
  {
   "cell_type": "markdown",
   "id": "2aae1c08",
   "metadata": {
    "papermill": {
     "duration": 0.043368,
     "end_time": "2024-07-15T09:50:18.606902",
     "exception": false,
     "start_time": "2024-07-15T09:50:18.563534",
     "status": "completed"
    },
    "tags": []
   },
   "source": [
    "**There is only 1 type of license and majority are null so we are droping this column**"
   ]
  },
  {
   "cell_type": "code",
   "execution_count": 67,
   "id": "d5cf8cb6",
   "metadata": {
    "execution": {
     "iopub.execute_input": "2024-07-15T09:50:18.694600Z",
     "iopub.status.busy": "2024-07-15T09:50:18.694249Z",
     "iopub.status.idle": "2024-07-15T09:50:18.776235Z",
     "shell.execute_reply": "2024-07-15T09:50:18.774999Z"
    },
    "papermill": {
     "duration": 0.129626,
     "end_time": "2024-07-15T09:50:18.779313",
     "exception": false,
     "start_time": "2024-07-15T09:50:18.649687",
     "status": "completed"
    },
    "tags": []
   },
   "outputs": [],
   "source": [
    "updated_df.drop(columns = ['license'],inplace = True)"
   ]
  },
  {
   "cell_type": "code",
   "execution_count": 68,
   "id": "81fe790d",
   "metadata": {
    "execution": {
     "iopub.execute_input": "2024-07-15T09:50:18.868820Z",
     "iopub.status.busy": "2024-07-15T09:50:18.868413Z",
     "iopub.status.idle": "2024-07-15T09:50:18.997537Z",
     "shell.execute_reply": "2024-07-15T09:50:18.996374Z"
    },
    "papermill": {
     "duration": 0.177056,
     "end_time": "2024-07-15T09:50:19.000444",
     "exception": false,
     "start_time": "2024-07-15T09:50:18.823388",
     "status": "completed"
    },
    "tags": []
   },
   "outputs": [
    {
     "data": {
      "text/plain": [
       "name                       0\n",
       "host id                    0\n",
       "host_identity_verified     0\n",
       "host name                  0\n",
       "neighbourhood group       27\n",
       "neighbourhood             16\n",
       "instant_bookable           0\n",
       "cancellation_policy        0\n",
       "room type                  0\n",
       "Construction year          0\n",
       "price                      0\n",
       "service fee                0\n",
       "minimum nights             0\n",
       "number of reviews          0\n",
       "availability 365           0\n",
       "house_rules                0\n",
       "area                      43\n",
       "dtype: int64"
      ]
     },
     "execution_count": 68,
     "metadata": {},
     "output_type": "execute_result"
    }
   ],
   "source": [
    "updated_df.isna().sum()"
   ]
  },
  {
   "cell_type": "markdown",
   "id": "d2fe9fb3",
   "metadata": {
    "papermill": {
     "duration": 0.043763,
     "end_time": "2024-07-15T09:50:19.088725",
     "exception": false,
     "start_time": "2024-07-15T09:50:19.044962",
     "status": "completed"
    },
    "tags": []
   },
   "source": [
    "**We keep null address as unknown**"
   ]
  },
  {
   "cell_type": "code",
   "execution_count": 69,
   "id": "df105000",
   "metadata": {
    "execution": {
     "iopub.execute_input": "2024-07-15T09:50:19.178265Z",
     "iopub.status.busy": "2024-07-15T09:50:19.177878Z",
     "iopub.status.idle": "2024-07-15T09:50:19.202080Z",
     "shell.execute_reply": "2024-07-15T09:50:19.200579Z"
    },
    "papermill": {
     "duration": 0.073131,
     "end_time": "2024-07-15T09:50:19.204986",
     "exception": false,
     "start_time": "2024-07-15T09:50:19.131855",
     "status": "completed"
    },
    "tags": []
   },
   "outputs": [],
   "source": [
    "updated_df['area'] = updated_df['area'].fillna('Unknown')"
   ]
  },
  {
   "cell_type": "code",
   "execution_count": 70,
   "id": "6e97ca1e",
   "metadata": {
    "execution": {
     "iopub.execute_input": "2024-07-15T09:50:19.295253Z",
     "iopub.status.busy": "2024-07-15T09:50:19.294798Z",
     "iopub.status.idle": "2024-07-15T09:50:19.423673Z",
     "shell.execute_reply": "2024-07-15T09:50:19.422468Z"
    },
    "papermill": {
     "duration": 0.176952,
     "end_time": "2024-07-15T09:50:19.426679",
     "exception": false,
     "start_time": "2024-07-15T09:50:19.249727",
     "status": "completed"
    },
    "tags": []
   },
   "outputs": [
    {
     "data": {
      "text/plain": [
       "name                       0\n",
       "host id                    0\n",
       "host_identity_verified     0\n",
       "host name                  0\n",
       "neighbourhood group       27\n",
       "neighbourhood             16\n",
       "instant_bookable           0\n",
       "cancellation_policy        0\n",
       "room type                  0\n",
       "Construction year          0\n",
       "price                      0\n",
       "service fee                0\n",
       "minimum nights             0\n",
       "number of reviews          0\n",
       "availability 365           0\n",
       "house_rules                0\n",
       "area                       0\n",
       "dtype: int64"
      ]
     },
     "execution_count": 70,
     "metadata": {},
     "output_type": "execute_result"
    }
   ],
   "source": [
    "updated_df.isna().sum()"
   ]
  },
  {
   "cell_type": "markdown",
   "id": "3540f139",
   "metadata": {
    "papermill": {
     "duration": 0.045926,
     "end_time": "2024-07-15T09:50:19.517010",
     "exception": false,
     "start_time": "2024-07-15T09:50:19.471084",
     "status": "completed"
    },
    "tags": []
   },
   "source": [
    "**Handling neighbourhood group and neighbourhood**"
   ]
  },
  {
   "cell_type": "code",
   "execution_count": 71,
   "id": "9eb7a099",
   "metadata": {
    "execution": {
     "iopub.execute_input": "2024-07-15T09:50:19.610344Z",
     "iopub.status.busy": "2024-07-15T09:50:19.609896Z",
     "iopub.status.idle": "2024-07-15T09:50:19.647166Z",
     "shell.execute_reply": "2024-07-15T09:50:19.645902Z"
    },
    "papermill": {
     "duration": 0.085744,
     "end_time": "2024-07-15T09:50:19.650138",
     "exception": false,
     "start_time": "2024-07-15T09:50:19.564394",
     "status": "completed"
    },
    "tags": []
   },
   "outputs": [],
   "source": [
    "updated_df['neighbourhood group'] = updated_df['neighbourhood group'].fillna('unknown')\n",
    "updated_df['neighbourhood'] = updated_df['neighbourhood'].fillna('unknown')"
   ]
  },
  {
   "cell_type": "code",
   "execution_count": 72,
   "id": "3e18c9f7",
   "metadata": {
    "execution": {
     "iopub.execute_input": "2024-07-15T09:50:19.753748Z",
     "iopub.status.busy": "2024-07-15T09:50:19.753196Z",
     "iopub.status.idle": "2024-07-15T09:50:19.886750Z",
     "shell.execute_reply": "2024-07-15T09:50:19.885589Z"
    },
    "papermill": {
     "duration": 0.195056,
     "end_time": "2024-07-15T09:50:19.889492",
     "exception": false,
     "start_time": "2024-07-15T09:50:19.694436",
     "status": "completed"
    },
    "tags": []
   },
   "outputs": [
    {
     "data": {
      "text/plain": [
       "name                      0\n",
       "host id                   0\n",
       "host_identity_verified    0\n",
       "host name                 0\n",
       "neighbourhood group       0\n",
       "neighbourhood             0\n",
       "instant_bookable          0\n",
       "cancellation_policy       0\n",
       "room type                 0\n",
       "Construction year         0\n",
       "price                     0\n",
       "service fee               0\n",
       "minimum nights            0\n",
       "number of reviews         0\n",
       "availability 365          0\n",
       "house_rules               0\n",
       "area                      0\n",
       "dtype: int64"
      ]
     },
     "execution_count": 72,
     "metadata": {},
     "output_type": "execute_result"
    }
   ],
   "source": [
    "updated_df.isna().sum()"
   ]
  },
  {
   "cell_type": "markdown",
   "id": "3b5e923d",
   "metadata": {
    "papermill": {
     "duration": 0.042852,
     "end_time": "2024-07-15T09:50:19.977059",
     "exception": false,
     "start_time": "2024-07-15T09:50:19.934207",
     "status": "completed"
    },
    "tags": []
   },
   "source": [
    "**Analysis on the cleaned data**"
   ]
  },
  {
   "cell_type": "markdown",
   "id": "eb33c17b",
   "metadata": {
    "papermill": {
     "duration": 0.043205,
     "end_time": "2024-07-15T09:50:20.064104",
     "exception": false,
     "start_time": "2024-07-15T09:50:20.020899",
     "status": "completed"
    },
    "tags": []
   },
   "source": [
    "**First we are ploting to see no of reviews count of hotel based on area**"
   ]
  },
  {
   "cell_type": "code",
   "execution_count": 73,
   "id": "8b0cd80a",
   "metadata": {
    "execution": {
     "iopub.execute_input": "2024-07-15T09:50:20.153845Z",
     "iopub.status.busy": "2024-07-15T09:50:20.153450Z",
     "iopub.status.idle": "2024-07-15T09:50:20.159134Z",
     "shell.execute_reply": "2024-07-15T09:50:20.157702Z"
    },
    "papermill": {
     "duration": 0.053549,
     "end_time": "2024-07-15T09:50:20.161703",
     "exception": false,
     "start_time": "2024-07-15T09:50:20.108154",
     "status": "completed"
    },
    "tags": []
   },
   "outputs": [],
   "source": [
    "import matplotlib.pyplot as plt"
   ]
  },
  {
   "cell_type": "markdown",
   "id": "d72fa4b3",
   "metadata": {
    "papermill": {
     "duration": 0.045819,
     "end_time": "2024-07-15T09:50:20.250903",
     "exception": false,
     "start_time": "2024-07-15T09:50:20.205084",
     "status": "completed"
    },
    "tags": []
   },
   "source": [
    "**Coverting no of reviews into float datatype**"
   ]
  },
  {
   "cell_type": "markdown",
   "id": "08f2ebea",
   "metadata": {
    "papermill": {
     "duration": 0.044826,
     "end_time": "2024-07-15T09:50:20.340869",
     "exception": false,
     "start_time": "2024-07-15T09:50:20.296043",
     "status": "completed"
    },
    "tags": []
   },
   "source": [
    "**Converting no reviews to 0**"
   ]
  },
  {
   "cell_type": "code",
   "execution_count": 74,
   "id": "5f6c03e7",
   "metadata": {
    "execution": {
     "iopub.execute_input": "2024-07-15T09:50:20.430068Z",
     "iopub.status.busy": "2024-07-15T09:50:20.429632Z",
     "iopub.status.idle": "2024-07-15T09:50:20.435941Z",
     "shell.execute_reply": "2024-07-15T09:50:20.434565Z"
    },
    "papermill": {
     "duration": 0.054467,
     "end_time": "2024-07-15T09:50:20.438800",
     "exception": false,
     "start_time": "2024-07-15T09:50:20.384333",
     "status": "completed"
    },
    "tags": []
   },
   "outputs": [],
   "source": [
    "def converting_reviews(x):\n",
    "    if x == 'no reviews':\n",
    "        return float(0)\n",
    "    else:\n",
    "        return float(x)"
   ]
  },
  {
   "cell_type": "code",
   "execution_count": 75,
   "id": "a592dab8",
   "metadata": {
    "execution": {
     "iopub.execute_input": "2024-07-15T09:50:20.528953Z",
     "iopub.status.busy": "2024-07-15T09:50:20.527948Z",
     "iopub.status.idle": "2024-07-15T09:50:20.584253Z",
     "shell.execute_reply": "2024-07-15T09:50:20.582815Z"
    },
    "papermill": {
     "duration": 0.104058,
     "end_time": "2024-07-15T09:50:20.587205",
     "exception": false,
     "start_time": "2024-07-15T09:50:20.483147",
     "status": "completed"
    },
    "tags": []
   },
   "outputs": [],
   "source": [
    "temp = updated_df['number of reviews'].map(converting_reviews)\n",
    "updated_df['number of reviews'] = temp"
   ]
  },
  {
   "cell_type": "code",
   "execution_count": 76,
   "id": "90a1a9af",
   "metadata": {
    "execution": {
     "iopub.execute_input": "2024-07-15T09:50:20.677631Z",
     "iopub.status.busy": "2024-07-15T09:50:20.677194Z",
     "iopub.status.idle": "2024-07-15T09:50:20.696250Z",
     "shell.execute_reply": "2024-07-15T09:50:20.695129Z"
    },
    "papermill": {
     "duration": 0.067873,
     "end_time": "2024-07-15T09:50:20.699242",
     "exception": false,
     "start_time": "2024-07-15T09:50:20.631369",
     "status": "completed"
    },
    "tags": []
   },
   "outputs": [],
   "source": [
    "temp = updated_df.groupby(['neighbourhood group'])['number of reviews'].count()"
   ]
  },
  {
   "cell_type": "code",
   "execution_count": 77,
   "id": "3a3e00a6",
   "metadata": {
    "execution": {
     "iopub.execute_input": "2024-07-15T09:50:20.854324Z",
     "iopub.status.busy": "2024-07-15T09:50:20.853841Z",
     "iopub.status.idle": "2024-07-15T09:50:20.862074Z",
     "shell.execute_reply": "2024-07-15T09:50:20.860937Z"
    },
    "papermill": {
     "duration": 0.121919,
     "end_time": "2024-07-15T09:50:20.864716",
     "exception": false,
     "start_time": "2024-07-15T09:50:20.742797",
     "status": "completed"
    },
    "tags": []
   },
   "outputs": [
    {
     "data": {
      "text/plain": [
       "neighbourhood group\n",
       "Bronx             2704\n",
       "Brooklyn         41734\n",
       "Manhattan        43689\n",
       "Queens           13239\n",
       "Staten Island      954\n",
       "brookln              1\n",
       "manhatan             1\n",
       "unknown             27\n",
       "Name: number of reviews, dtype: int64"
      ]
     },
     "execution_count": 77,
     "metadata": {},
     "output_type": "execute_result"
    }
   ],
   "source": [
    "temp"
   ]
  },
  {
   "cell_type": "code",
   "execution_count": 78,
   "id": "77e6023c",
   "metadata": {
    "execution": {
     "iopub.execute_input": "2024-07-15T09:50:20.957830Z",
     "iopub.status.busy": "2024-07-15T09:50:20.957333Z",
     "iopub.status.idle": "2024-07-15T09:50:20.982250Z",
     "shell.execute_reply": "2024-07-15T09:50:20.981053Z"
    },
    "papermill": {
     "duration": 0.075852,
     "end_time": "2024-07-15T09:50:20.984907",
     "exception": false,
     "start_time": "2024-07-15T09:50:20.909055",
     "status": "completed"
    },
    "tags": []
   },
   "outputs": [
    {
     "data": {
      "text/html": [
       "<div>\n",
       "<style scoped>\n",
       "    .dataframe tbody tr th:only-of-type {\n",
       "        vertical-align: middle;\n",
       "    }\n",
       "\n",
       "    .dataframe tbody tr th {\n",
       "        vertical-align: top;\n",
       "    }\n",
       "\n",
       "    .dataframe thead th {\n",
       "        text-align: right;\n",
       "    }\n",
       "</style>\n",
       "<table border=\"1\" class=\"dataframe\">\n",
       "  <thead>\n",
       "    <tr style=\"text-align: right;\">\n",
       "      <th></th>\n",
       "      <th>name</th>\n",
       "      <th>host id</th>\n",
       "      <th>host_identity_verified</th>\n",
       "      <th>host name</th>\n",
       "      <th>neighbourhood group</th>\n",
       "      <th>neighbourhood</th>\n",
       "      <th>instant_bookable</th>\n",
       "      <th>cancellation_policy</th>\n",
       "      <th>room type</th>\n",
       "      <th>Construction year</th>\n",
       "      <th>price</th>\n",
       "      <th>service fee</th>\n",
       "      <th>minimum nights</th>\n",
       "      <th>number of reviews</th>\n",
       "      <th>availability 365</th>\n",
       "      <th>house_rules</th>\n",
       "      <th>area</th>\n",
       "    </tr>\n",
       "    <tr>\n",
       "      <th>id</th>\n",
       "      <th></th>\n",
       "      <th></th>\n",
       "      <th></th>\n",
       "      <th></th>\n",
       "      <th></th>\n",
       "      <th></th>\n",
       "      <th></th>\n",
       "      <th></th>\n",
       "      <th></th>\n",
       "      <th></th>\n",
       "      <th></th>\n",
       "      <th></th>\n",
       "      <th></th>\n",
       "      <th></th>\n",
       "      <th></th>\n",
       "      <th></th>\n",
       "      <th></th>\n",
       "    </tr>\n",
       "  </thead>\n",
       "  <tbody>\n",
       "    <tr>\n",
       "      <th>1001254</th>\n",
       "      <td>Clean &amp; quiet apt home by the park</td>\n",
       "      <td>80014485718</td>\n",
       "      <td>unconfirmed</td>\n",
       "      <td>Madaline</td>\n",
       "      <td>Brooklyn</td>\n",
       "      <td>Kensington</td>\n",
       "      <td>False</td>\n",
       "      <td>strict</td>\n",
       "      <td>Private room</td>\n",
       "      <td>2020.0</td>\n",
       "      <td>966.0</td>\n",
       "      <td>193</td>\n",
       "      <td>10.0</td>\n",
       "      <td>9.0</td>\n",
       "      <td>286.0</td>\n",
       "      <td>Clean up and treat the home the way you'd like...</td>\n",
       "      <td>Brooklyn Kensington</td>\n",
       "    </tr>\n",
       "    <tr>\n",
       "      <th>1002102</th>\n",
       "      <td>Skylit Midtown Castle</td>\n",
       "      <td>52335172823</td>\n",
       "      <td>verified</td>\n",
       "      <td>Jenna</td>\n",
       "      <td>Manhattan</td>\n",
       "      <td>Midtown</td>\n",
       "      <td>False</td>\n",
       "      <td>moderate</td>\n",
       "      <td>Entire home/apt</td>\n",
       "      <td>2007.0</td>\n",
       "      <td>142.0</td>\n",
       "      <td>28</td>\n",
       "      <td>30.0</td>\n",
       "      <td>45.0</td>\n",
       "      <td>228.0</td>\n",
       "      <td>Pet friendly but please confirm with me if the...</td>\n",
       "      <td>Manhattan Midtown</td>\n",
       "    </tr>\n",
       "    <tr>\n",
       "      <th>1002403</th>\n",
       "      <td>THE VILLAGE OF HARLEM....NEW YORK !</td>\n",
       "      <td>78829239556</td>\n",
       "      <td>unconfirmed</td>\n",
       "      <td>Elise</td>\n",
       "      <td>Manhattan</td>\n",
       "      <td>Harlem</td>\n",
       "      <td>True</td>\n",
       "      <td>flexible</td>\n",
       "      <td>Private room</td>\n",
       "      <td>2005.0</td>\n",
       "      <td>620.0</td>\n",
       "      <td>124</td>\n",
       "      <td>3.0</td>\n",
       "      <td>0.0</td>\n",
       "      <td>352.0</td>\n",
       "      <td>I encourage you to use my kitchen, cooking and...</td>\n",
       "      <td>Manhattan Harlem</td>\n",
       "    </tr>\n",
       "    <tr>\n",
       "      <th>1003689</th>\n",
       "      <td>Entire Apt: Spacious Studio/Loft by central park</td>\n",
       "      <td>92037596077</td>\n",
       "      <td>verified</td>\n",
       "      <td>Lyndon</td>\n",
       "      <td>Manhattan</td>\n",
       "      <td>East Harlem</td>\n",
       "      <td>False</td>\n",
       "      <td>moderate</td>\n",
       "      <td>Entire home/apt</td>\n",
       "      <td>2009.0</td>\n",
       "      <td>204.0</td>\n",
       "      <td>41</td>\n",
       "      <td>10.0</td>\n",
       "      <td>9.0</td>\n",
       "      <td>289.0</td>\n",
       "      <td>Please no smoking in the house, porch or on th...</td>\n",
       "      <td>Manhattan East Harlem</td>\n",
       "    </tr>\n",
       "    <tr>\n",
       "      <th>1004098</th>\n",
       "      <td>Large Cozy 1 BR Apartment In Midtown East</td>\n",
       "      <td>45498551794</td>\n",
       "      <td>verified</td>\n",
       "      <td>Michelle</td>\n",
       "      <td>Manhattan</td>\n",
       "      <td>Murray Hill</td>\n",
       "      <td>True</td>\n",
       "      <td>flexible</td>\n",
       "      <td>Entire home/apt</td>\n",
       "      <td>2013.0</td>\n",
       "      <td>577.0</td>\n",
       "      <td>115</td>\n",
       "      <td>3.0</td>\n",
       "      <td>74.0</td>\n",
       "      <td>374.0</td>\n",
       "      <td>No smoking, please, and no drugs.</td>\n",
       "      <td>Manhattan Murray Hill</td>\n",
       "    </tr>\n",
       "  </tbody>\n",
       "</table>\n",
       "</div>"
      ],
      "text/plain": [
       "                                                     name      host id  \\\n",
       "id                                                                       \n",
       "1001254                Clean & quiet apt home by the park  80014485718   \n",
       "1002102                             Skylit Midtown Castle  52335172823   \n",
       "1002403               THE VILLAGE OF HARLEM....NEW YORK !  78829239556   \n",
       "1003689  Entire Apt: Spacious Studio/Loft by central park  92037596077   \n",
       "1004098         Large Cozy 1 BR Apartment In Midtown East  45498551794   \n",
       "\n",
       "        host_identity_verified host name neighbourhood group neighbourhood  \\\n",
       "id                                                                           \n",
       "1001254            unconfirmed  Madaline            Brooklyn    Kensington   \n",
       "1002102               verified     Jenna           Manhattan       Midtown   \n",
       "1002403            unconfirmed     Elise           Manhattan        Harlem   \n",
       "1003689               verified    Lyndon           Manhattan   East Harlem   \n",
       "1004098               verified  Michelle           Manhattan   Murray Hill   \n",
       "\n",
       "        instant_bookable cancellation_policy        room type  \\\n",
       "id                                                              \n",
       "1001254            False              strict     Private room   \n",
       "1002102            False            moderate  Entire home/apt   \n",
       "1002403             True            flexible     Private room   \n",
       "1003689            False            moderate  Entire home/apt   \n",
       "1004098             True            flexible  Entire home/apt   \n",
       "\n",
       "         Construction year  price  service fee  minimum nights  \\\n",
       "id                                                               \n",
       "1001254             2020.0  966.0          193            10.0   \n",
       "1002102             2007.0  142.0           28            30.0   \n",
       "1002403             2005.0  620.0          124             3.0   \n",
       "1003689             2009.0  204.0           41            10.0   \n",
       "1004098             2013.0  577.0          115             3.0   \n",
       "\n",
       "         number of reviews  availability 365  \\\n",
       "id                                             \n",
       "1001254                9.0             286.0   \n",
       "1002102               45.0             228.0   \n",
       "1002403                0.0             352.0   \n",
       "1003689                9.0             289.0   \n",
       "1004098               74.0             374.0   \n",
       "\n",
       "                                               house_rules  \\\n",
       "id                                                           \n",
       "1001254  Clean up and treat the home the way you'd like...   \n",
       "1002102  Pet friendly but please confirm with me if the...   \n",
       "1002403  I encourage you to use my kitchen, cooking and...   \n",
       "1003689  Please no smoking in the house, porch or on th...   \n",
       "1004098                  No smoking, please, and no drugs.   \n",
       "\n",
       "                          area  \n",
       "id                              \n",
       "1001254    Brooklyn Kensington  \n",
       "1002102      Manhattan Midtown  \n",
       "1002403       Manhattan Harlem  \n",
       "1003689  Manhattan East Harlem  \n",
       "1004098  Manhattan Murray Hill  "
      ]
     },
     "execution_count": 78,
     "metadata": {},
     "output_type": "execute_result"
    }
   ],
   "source": [
    "updated_df.head()"
   ]
  },
  {
   "cell_type": "code",
   "execution_count": 79,
   "id": "a009e0c9",
   "metadata": {
    "execution": {
     "iopub.execute_input": "2024-07-15T09:50:21.074833Z",
     "iopub.status.busy": "2024-07-15T09:50:21.074375Z",
     "iopub.status.idle": "2024-07-15T09:50:21.374422Z",
     "shell.execute_reply": "2024-07-15T09:50:21.373224Z"
    },
    "papermill": {
     "duration": 0.348301,
     "end_time": "2024-07-15T09:50:21.377267",
     "exception": false,
     "start_time": "2024-07-15T09:50:21.028966",
     "status": "completed"
    },
    "tags": []
   },
   "outputs": [
    {
     "data": {
      "text/plain": [
       "<Axes: xlabel='neighbourhood group'>"
      ]
     },
     "execution_count": 79,
     "metadata": {},
     "output_type": "execute_result"
    },
    {
     "data": {
      "image/png": "[encoded data removed]",
      "text/plain": [
       "<Figure size 640x480 with 1 Axes>"
      ]
     },
     "metadata": {},
     "output_type": "display_data"
    }
   ],
   "source": [
    "plt.tight_layout()\n",
    "temp.plot(kind = 'bar')"
   ]
  },
  {
   "cell_type": "markdown",
   "id": "0e44cef1",
   "metadata": {
    "papermill": {
     "duration": 0.046066,
     "end_time": "2024-07-15T09:50:21.469202",
     "exception": false,
     "start_time": "2024-07-15T09:50:21.423136",
     "status": "completed"
    },
    "tags": []
   },
   "source": [
    "**Most reviews are given to hotels in Brooklyn and Manhattan**"
   ]
  },
  {
   "cell_type": "code",
   "execution_count": 80,
   "id": "4ded3359",
   "metadata": {
    "execution": {
     "iopub.execute_input": "2024-07-15T09:50:21.564471Z",
     "iopub.status.busy": "2024-07-15T09:50:21.564035Z",
     "iopub.status.idle": "2024-07-15T09:50:21.601383Z",
     "shell.execute_reply": "2024-07-15T09:50:21.600020Z"
    },
    "papermill": {
     "duration": 0.089013,
     "end_time": "2024-07-15T09:50:21.604217",
     "exception": false,
     "start_time": "2024-07-15T09:50:21.515204",
     "status": "completed"
    },
    "tags": []
   },
   "outputs": [],
   "source": [
    "temp = updated_df.loc[(updated_df['neighbourhood group'] == 'Brooklyn')]"
   ]
  },
  {
   "cell_type": "code",
   "execution_count": 81,
   "id": "5f198239",
   "metadata": {
    "execution": {
     "iopub.execute_input": "2024-07-15T09:50:21.696159Z",
     "iopub.status.busy": "2024-07-15T09:50:21.695639Z",
     "iopub.status.idle": "2024-07-15T09:50:21.708796Z",
     "shell.execute_reply": "2024-07-15T09:50:21.707661Z"
    },
    "papermill": {
     "duration": 0.062911,
     "end_time": "2024-07-15T09:50:21.711797",
     "exception": false,
     "start_time": "2024-07-15T09:50:21.648886",
     "status": "completed"
    },
    "tags": []
   },
   "outputs": [],
   "source": [
    "temp = temp.groupby(['neighbourhood'])['number of reviews'].count()"
   ]
  },
  {
   "cell_type": "code",
   "execution_count": 82,
   "id": "fc629b79",
   "metadata": {
    "execution": {
     "iopub.execute_input": "2024-07-15T09:50:21.804951Z",
     "iopub.status.busy": "2024-07-15T09:50:21.803964Z",
     "iopub.status.idle": "2024-07-15T09:50:21.813369Z",
     "shell.execute_reply": "2024-07-15T09:50:21.812300Z"
    },
    "papermill": {
     "duration": 0.058465,
     "end_time": "2024-07-15T09:50:21.815868",
     "exception": false,
     "start_time": "2024-07-15T09:50:21.757403",
     "status": "completed"
    },
    "tags": []
   },
   "outputs": [
    {
     "data": {
      "text/plain": [
       "neighbourhood\n",
       "Bath Beach                     48\n",
       "Bay Ridge                     304\n",
       "Bedford-Stuyvesant           7912\n",
       "Bensonhurst                   156\n",
       "Bergen Beach                   30\n",
       "Boerum Hill                   354\n",
       "Borough Park                  268\n",
       "Brighton Beach                168\n",
       "Brooklyn Heights              306\n",
       "Brownsville                   153\n",
       "Bushwick                     4968\n",
       "Canarsie                      402\n",
       "Carroll Gardens               479\n",
       "Clinton Hill                 1137\n",
       "Cobble Hill                   199\n",
       "Columbia St                    89\n",
       "Coney Island                   50\n",
       "Crown Heights                3255\n",
       "Cypress Hills                 336\n",
       "DUMBO                          69\n",
       "Downtown Brooklyn             174\n",
       "Dyker Heights                  25\n",
       "East Flatbush                1211\n",
       "East New York                 606\n",
       "Flatbush                     1293\n",
       "Flatlands                     217\n",
       "Fort Greene                   946\n",
       "Fort Hamilton                 120\n",
       "Gerritsen Beach                 3\n",
       "Gowanus                       493\n",
       "Gravesend                     142\n",
       "Greenpoint                   2135\n",
       "Kensington                    367\n",
       "Manhattan Beach                22\n",
       "Midwood                       235\n",
       "Mill Basin                     14\n",
       "Navy Yard                      31\n",
       "Park Slope                   1005\n",
       "Prospect Heights              693\n",
       "Prospect-Lefferts Gardens    1165\n",
       "Red Hook                      178\n",
       "Sea Gate                       20\n",
       "Sheepshead Bay                367\n",
       "South Slope                   567\n",
       "Sunset Park                   868\n",
       "Vinegar Hill                   72\n",
       "Williamsburg                 7743\n",
       "Windsor Terrace               331\n",
       "unknown                         8\n",
       "Name: number of reviews, dtype: int64"
      ]
     },
     "execution_count": 82,
     "metadata": {},
     "output_type": "execute_result"
    }
   ],
   "source": [
    "temp"
   ]
  },
  {
   "cell_type": "code",
   "execution_count": 83,
   "id": "8dd9bd25",
   "metadata": {
    "execution": {
     "iopub.execute_input": "2024-07-15T09:50:21.908448Z",
     "iopub.status.busy": "2024-07-15T09:50:21.908042Z",
     "iopub.status.idle": "2024-07-15T09:50:22.737298Z",
     "shell.execute_reply": "2024-07-15T09:50:22.736099Z"
    },
    "papermill": {
     "duration": 0.879319,
     "end_time": "2024-07-15T09:50:22.740623",
     "exception": false,
     "start_time": "2024-07-15T09:50:21.861304",
     "status": "completed"
    },
    "tags": []
   },
   "outputs": [
    {
     "data": {
      "text/plain": [
       "<Axes: xlabel='neighbourhood'>"
      ]
     },
     "execution_count": 83,
     "metadata": {},
     "output_type": "execute_result"
    },
    {
     "data": {
      "image/png": "[encoded data removed]",
      "text/plain": [
       "<Figure size 1400x1200 with 1 Axes>"
      ]
     },
     "metadata": {},
     "output_type": "display_data"
    }
   ],
   "source": [
    "plt.figure(figsize = (14,12))\n",
    "plt.tight_layout()\n",
    "temp.plot(kind = 'bar')"
   ]
  },
  {
   "cell_type": "code",
   "execution_count": 84,
   "id": "88196e60",
   "metadata": {
    "execution": {
     "iopub.execute_input": "2024-07-15T09:50:22.835905Z",
     "iopub.status.busy": "2024-07-15T09:50:22.835495Z",
     "iopub.status.idle": "2024-07-15T09:50:22.873000Z",
     "shell.execute_reply": "2024-07-15T09:50:22.871712Z"
    },
    "papermill": {
     "duration": 0.088724,
     "end_time": "2024-07-15T09:50:22.876024",
     "exception": false,
     "start_time": "2024-07-15T09:50:22.787300",
     "status": "completed"
    },
    "tags": []
   },
   "outputs": [],
   "source": [
    "temp = updated_df.loc[(updated_df['neighbourhood group'] == 'Manhattan')]"
   ]
  },
  {
   "cell_type": "code",
   "execution_count": 85,
   "id": "f12fdf98",
   "metadata": {
    "execution": {
     "iopub.execute_input": "2024-07-15T09:50:22.980694Z",
     "iopub.status.busy": "2024-07-15T09:50:22.980268Z",
     "iopub.status.idle": "2024-07-15T09:50:22.994483Z",
     "shell.execute_reply": "2024-07-15T09:50:22.992999Z"
    },
    "papermill": {
     "duration": 0.07204,
     "end_time": "2024-07-15T09:50:22.997448",
     "exception": false,
     "start_time": "2024-07-15T09:50:22.925408",
     "status": "completed"
    },
    "tags": []
   },
   "outputs": [],
   "source": [
    "temp = temp.groupby(['neighbourhood'])['number of reviews'].count()"
   ]
  },
  {
   "cell_type": "code",
   "execution_count": 86,
   "id": "fc0f7be6",
   "metadata": {
    "execution": {
     "iopub.execute_input": "2024-07-15T09:50:23.095151Z",
     "iopub.status.busy": "2024-07-15T09:50:23.094731Z",
     "iopub.status.idle": "2024-07-15T09:50:23.722812Z",
     "shell.execute_reply": "2024-07-15T09:50:23.721205Z"
    },
    "papermill": {
     "duration": 0.680609,
     "end_time": "2024-07-15T09:50:23.725454",
     "exception": false,
     "start_time": "2024-07-15T09:50:23.044845",
     "status": "completed"
    },
    "tags": []
   },
   "outputs": [
    {
     "data": {
      "text/plain": [
       "<Axes: xlabel='neighbourhood'>"
      ]
     },
     "execution_count": 86,
     "metadata": {},
     "output_type": "execute_result"
    },
    {
     "data": {
      "image/png": "[encoded data removed]",
      "text/plain": [
       "<Figure size 1400x1200 with 1 Axes>"
      ]
     },
     "metadata": {},
     "output_type": "display_data"
    }
   ],
   "source": [
    "plt.figure(figsize = (14,12))\n",
    "plt.tight_layout()\n",
    "temp.plot(kind = 'bar')"
   ]
  },
  {
   "cell_type": "code",
   "execution_count": 87,
   "id": "baa8e0d4",
   "metadata": {
    "execution": {
     "iopub.execute_input": "2024-07-15T09:50:23.823397Z",
     "iopub.status.busy": "2024-07-15T09:50:23.822973Z",
     "iopub.status.idle": "2024-07-15T09:50:23.857365Z",
     "shell.execute_reply": "2024-07-15T09:50:23.856183Z"
    },
    "papermill": {
     "duration": 0.086701,
     "end_time": "2024-07-15T09:50:23.860207",
     "exception": false,
     "start_time": "2024-07-15T09:50:23.773506",
     "status": "completed"
    },
    "tags": []
   },
   "outputs": [
    {
     "data": {
      "text/html": [
       "<div>\n",
       "<style scoped>\n",
       "    .dataframe tbody tr th:only-of-type {\n",
       "        vertical-align: middle;\n",
       "    }\n",
       "\n",
       "    .dataframe tbody tr th {\n",
       "        vertical-align: top;\n",
       "    }\n",
       "\n",
       "    .dataframe thead th {\n",
       "        text-align: right;\n",
       "    }\n",
       "</style>\n",
       "<table border=\"1\" class=\"dataframe\">\n",
       "  <thead>\n",
       "    <tr style=\"text-align: right;\">\n",
       "      <th></th>\n",
       "      <th>name</th>\n",
       "      <th>host id</th>\n",
       "      <th>host_identity_verified</th>\n",
       "      <th>host name</th>\n",
       "      <th>neighbourhood group</th>\n",
       "      <th>neighbourhood</th>\n",
       "      <th>instant_bookable</th>\n",
       "      <th>cancellation_policy</th>\n",
       "      <th>room type</th>\n",
       "      <th>Construction year</th>\n",
       "      <th>price</th>\n",
       "      <th>service fee</th>\n",
       "      <th>minimum nights</th>\n",
       "      <th>number of reviews</th>\n",
       "      <th>availability 365</th>\n",
       "      <th>house_rules</th>\n",
       "      <th>area</th>\n",
       "    </tr>\n",
       "    <tr>\n",
       "      <th>id</th>\n",
       "      <th></th>\n",
       "      <th></th>\n",
       "      <th></th>\n",
       "      <th></th>\n",
       "      <th></th>\n",
       "      <th></th>\n",
       "      <th></th>\n",
       "      <th></th>\n",
       "      <th></th>\n",
       "      <th></th>\n",
       "      <th></th>\n",
       "      <th></th>\n",
       "      <th></th>\n",
       "      <th></th>\n",
       "      <th></th>\n",
       "      <th></th>\n",
       "      <th></th>\n",
       "    </tr>\n",
       "  </thead>\n",
       "  <tbody>\n",
       "    <tr>\n",
       "      <th>1001254</th>\n",
       "      <td>Clean &amp; quiet apt home by the park</td>\n",
       "      <td>80014485718</td>\n",
       "      <td>unconfirmed</td>\n",
       "      <td>Madaline</td>\n",
       "      <td>Brooklyn</td>\n",
       "      <td>Kensington</td>\n",
       "      <td>False</td>\n",
       "      <td>strict</td>\n",
       "      <td>Private room</td>\n",
       "      <td>2020.0</td>\n",
       "      <td>966.0</td>\n",
       "      <td>193</td>\n",
       "      <td>10.0</td>\n",
       "      <td>9.0</td>\n",
       "      <td>286.0</td>\n",
       "      <td>Clean up and treat the home the way you'd like...</td>\n",
       "      <td>Brooklyn Kensington</td>\n",
       "    </tr>\n",
       "    <tr>\n",
       "      <th>1002102</th>\n",
       "      <td>Skylit Midtown Castle</td>\n",
       "      <td>52335172823</td>\n",
       "      <td>verified</td>\n",
       "      <td>Jenna</td>\n",
       "      <td>Manhattan</td>\n",
       "      <td>Midtown</td>\n",
       "      <td>False</td>\n",
       "      <td>moderate</td>\n",
       "      <td>Entire home/apt</td>\n",
       "      <td>2007.0</td>\n",
       "      <td>142.0</td>\n",
       "      <td>28</td>\n",
       "      <td>30.0</td>\n",
       "      <td>45.0</td>\n",
       "      <td>228.0</td>\n",
       "      <td>Pet friendly but please confirm with me if the...</td>\n",
       "      <td>Manhattan Midtown</td>\n",
       "    </tr>\n",
       "    <tr>\n",
       "      <th>1002403</th>\n",
       "      <td>THE VILLAGE OF HARLEM....NEW YORK !</td>\n",
       "      <td>78829239556</td>\n",
       "      <td>unconfirmed</td>\n",
       "      <td>Elise</td>\n",
       "      <td>Manhattan</td>\n",
       "      <td>Harlem</td>\n",
       "      <td>True</td>\n",
       "      <td>flexible</td>\n",
       "      <td>Private room</td>\n",
       "      <td>2005.0</td>\n",
       "      <td>620.0</td>\n",
       "      <td>124</td>\n",
       "      <td>3.0</td>\n",
       "      <td>0.0</td>\n",
       "      <td>352.0</td>\n",
       "      <td>I encourage you to use my kitchen, cooking and...</td>\n",
       "      <td>Manhattan Harlem</td>\n",
       "    </tr>\n",
       "    <tr>\n",
       "      <th>1003689</th>\n",
       "      <td>Entire Apt: Spacious Studio/Loft by central park</td>\n",
       "      <td>92037596077</td>\n",
       "      <td>verified</td>\n",
       "      <td>Lyndon</td>\n",
       "      <td>Manhattan</td>\n",
       "      <td>East Harlem</td>\n",
       "      <td>False</td>\n",
       "      <td>moderate</td>\n",
       "      <td>Entire home/apt</td>\n",
       "      <td>2009.0</td>\n",
       "      <td>204.0</td>\n",
       "      <td>41</td>\n",
       "      <td>10.0</td>\n",
       "      <td>9.0</td>\n",
       "      <td>289.0</td>\n",
       "      <td>Please no smoking in the house, porch or on th...</td>\n",
       "      <td>Manhattan East Harlem</td>\n",
       "    </tr>\n",
       "    <tr>\n",
       "      <th>1004098</th>\n",
       "      <td>Large Cozy 1 BR Apartment In Midtown East</td>\n",
       "      <td>45498551794</td>\n",
       "      <td>verified</td>\n",
       "      <td>Michelle</td>\n",
       "      <td>Manhattan</td>\n",
       "      <td>Murray Hill</td>\n",
       "      <td>True</td>\n",
       "      <td>flexible</td>\n",
       "      <td>Entire home/apt</td>\n",
       "      <td>2013.0</td>\n",
       "      <td>577.0</td>\n",
       "      <td>115</td>\n",
       "      <td>3.0</td>\n",
       "      <td>74.0</td>\n",
       "      <td>374.0</td>\n",
       "      <td>No smoking, please, and no drugs.</td>\n",
       "      <td>Manhattan Murray Hill</td>\n",
       "    </tr>\n",
       "    <tr>\n",
       "      <th>...</th>\n",
       "      <td>...</td>\n",
       "      <td>...</td>\n",
       "      <td>...</td>\n",
       "      <td>...</td>\n",
       "      <td>...</td>\n",
       "      <td>...</td>\n",
       "      <td>...</td>\n",
       "      <td>...</td>\n",
       "      <td>...</td>\n",
       "      <td>...</td>\n",
       "      <td>...</td>\n",
       "      <td>...</td>\n",
       "      <td>...</td>\n",
       "      <td>...</td>\n",
       "      <td>...</td>\n",
       "      <td>...</td>\n",
       "      <td>...</td>\n",
       "    </tr>\n",
       "    <tr>\n",
       "      <th>6092437</th>\n",
       "      <td>Spare room in Williamsburg</td>\n",
       "      <td>12312296767</td>\n",
       "      <td>verified</td>\n",
       "      <td>Krik</td>\n",
       "      <td>Brooklyn</td>\n",
       "      <td>Williamsburg</td>\n",
       "      <td>False</td>\n",
       "      <td>flexible</td>\n",
       "      <td>Private room</td>\n",
       "      <td>2003.0</td>\n",
       "      <td>844.0</td>\n",
       "      <td>169</td>\n",
       "      <td>1.0</td>\n",
       "      <td>0.0</td>\n",
       "      <td>227.0</td>\n",
       "      <td>No Smoking No Parties or Events of any kind Pl...</td>\n",
       "      <td>Brooklyn Williamsburg</td>\n",
       "    </tr>\n",
       "    <tr>\n",
       "      <th>6092990</th>\n",
       "      <td>Best Location near Columbia U</td>\n",
       "      <td>77864383453</td>\n",
       "      <td>unconfirmed</td>\n",
       "      <td>Mifan</td>\n",
       "      <td>Manhattan</td>\n",
       "      <td>Morningside Heights</td>\n",
       "      <td>True</td>\n",
       "      <td>moderate</td>\n",
       "      <td>Private room</td>\n",
       "      <td>2016.0</td>\n",
       "      <td>837.0</td>\n",
       "      <td>167</td>\n",
       "      <td>1.0</td>\n",
       "      <td>1.0</td>\n",
       "      <td>395.0</td>\n",
       "      <td>House rules: Guests agree to the following ter...</td>\n",
       "      <td>Manhattan Morningside Heights</td>\n",
       "    </tr>\n",
       "    <tr>\n",
       "      <th>6093542</th>\n",
       "      <td>Comfy, bright room in Brooklyn</td>\n",
       "      <td>69050334417</td>\n",
       "      <td>unconfirmed</td>\n",
       "      <td>Megan</td>\n",
       "      <td>Brooklyn</td>\n",
       "      <td>Park Slope</td>\n",
       "      <td>True</td>\n",
       "      <td>moderate</td>\n",
       "      <td>Private room</td>\n",
       "      <td>2009.0</td>\n",
       "      <td>988.0</td>\n",
       "      <td>198</td>\n",
       "      <td>3.0</td>\n",
       "      <td>0.0</td>\n",
       "      <td>342.0</td>\n",
       "      <td>no rules</td>\n",
       "      <td>Brooklyn Park Slope</td>\n",
       "    </tr>\n",
       "    <tr>\n",
       "      <th>6094094</th>\n",
       "      <td>Big Studio-One Stop from Midtown</td>\n",
       "      <td>11160591270</td>\n",
       "      <td>unconfirmed</td>\n",
       "      <td>Christopher</td>\n",
       "      <td>Queens</td>\n",
       "      <td>Long Island City</td>\n",
       "      <td>True</td>\n",
       "      <td>strict</td>\n",
       "      <td>Entire home/apt</td>\n",
       "      <td>2015.0</td>\n",
       "      <td>546.0</td>\n",
       "      <td>109</td>\n",
       "      <td>2.0</td>\n",
       "      <td>5.0</td>\n",
       "      <td>386.0</td>\n",
       "      <td>no rules</td>\n",
       "      <td>Queens Long Island City</td>\n",
       "    </tr>\n",
       "    <tr>\n",
       "      <th>6094647</th>\n",
       "      <td>585 sf Luxury Studio</td>\n",
       "      <td>68170633372</td>\n",
       "      <td>unconfirmed</td>\n",
       "      <td>Rebecca</td>\n",
       "      <td>Manhattan</td>\n",
       "      <td>Upper West Side</td>\n",
       "      <td>False</td>\n",
       "      <td>flexible</td>\n",
       "      <td>Entire home/apt</td>\n",
       "      <td>2010.0</td>\n",
       "      <td>1032.0</td>\n",
       "      <td>206</td>\n",
       "      <td>1.0</td>\n",
       "      <td>0.0</td>\n",
       "      <td>69.0</td>\n",
       "      <td>no rules</td>\n",
       "      <td>Manhattan Upper West Side</td>\n",
       "    </tr>\n",
       "  </tbody>\n",
       "</table>\n",
       "<p>102349 rows × 17 columns</p>\n",
       "</div>"
      ],
      "text/plain": [
       "                                                     name      host id  \\\n",
       "id                                                                       \n",
       "1001254                Clean & quiet apt home by the park  80014485718   \n",
       "1002102                             Skylit Midtown Castle  52335172823   \n",
       "1002403               THE VILLAGE OF HARLEM....NEW YORK !  78829239556   \n",
       "1003689  Entire Apt: Spacious Studio/Loft by central park  92037596077   \n",
       "1004098         Large Cozy 1 BR Apartment In Midtown East  45498551794   \n",
       "...                                                   ...          ...   \n",
       "6092437                        Spare room in Williamsburg  12312296767   \n",
       "6092990                     Best Location near Columbia U  77864383453   \n",
       "6093542                    Comfy, bright room in Brooklyn  69050334417   \n",
       "6094094                  Big Studio-One Stop from Midtown  11160591270   \n",
       "6094647                              585 sf Luxury Studio  68170633372   \n",
       "\n",
       "        host_identity_verified    host name neighbourhood group  \\\n",
       "id                                                                \n",
       "1001254            unconfirmed     Madaline            Brooklyn   \n",
       "1002102               verified        Jenna           Manhattan   \n",
       "1002403            unconfirmed        Elise           Manhattan   \n",
       "1003689               verified       Lyndon           Manhattan   \n",
       "1004098               verified     Michelle           Manhattan   \n",
       "...                        ...          ...                 ...   \n",
       "6092437               verified         Krik            Brooklyn   \n",
       "6092990            unconfirmed        Mifan           Manhattan   \n",
       "6093542            unconfirmed        Megan            Brooklyn   \n",
       "6094094            unconfirmed  Christopher              Queens   \n",
       "6094647            unconfirmed      Rebecca           Manhattan   \n",
       "\n",
       "               neighbourhood instant_bookable cancellation_policy  \\\n",
       "id                                                                  \n",
       "1001254           Kensington            False              strict   \n",
       "1002102              Midtown            False            moderate   \n",
       "1002403               Harlem             True            flexible   \n",
       "1003689          East Harlem            False            moderate   \n",
       "1004098          Murray Hill             True            flexible   \n",
       "...                      ...              ...                 ...   \n",
       "6092437         Williamsburg            False            flexible   \n",
       "6092990  Morningside Heights             True            moderate   \n",
       "6093542           Park Slope             True            moderate   \n",
       "6094094     Long Island City             True              strict   \n",
       "6094647      Upper West Side            False            flexible   \n",
       "\n",
       "               room type  Construction year   price  service fee  \\\n",
       "id                                                                 \n",
       "1001254     Private room             2020.0   966.0          193   \n",
       "1002102  Entire home/apt             2007.0   142.0           28   \n",
       "1002403     Private room             2005.0   620.0          124   \n",
       "1003689  Entire home/apt             2009.0   204.0           41   \n",
       "1004098  Entire home/apt             2013.0   577.0          115   \n",
       "...                  ...                ...     ...          ...   \n",
       "6092437     Private room             2003.0   844.0          169   \n",
       "6092990     Private room             2016.0   837.0          167   \n",
       "6093542     Private room             2009.0   988.0          198   \n",
       "6094094  Entire home/apt             2015.0   546.0          109   \n",
       "6094647  Entire home/apt             2010.0  1032.0          206   \n",
       "\n",
       "         minimum nights  number of reviews  availability 365  \\\n",
       "id                                                             \n",
       "1001254            10.0                9.0             286.0   \n",
       "1002102            30.0               45.0             228.0   \n",
       "1002403             3.0                0.0             352.0   \n",
       "1003689            10.0                9.0             289.0   \n",
       "1004098             3.0               74.0             374.0   \n",
       "...                 ...                ...               ...   \n",
       "6092437             1.0                0.0             227.0   \n",
       "6092990             1.0                1.0             395.0   \n",
       "6093542             3.0                0.0             342.0   \n",
       "6094094             2.0                5.0             386.0   \n",
       "6094647             1.0                0.0              69.0   \n",
       "\n",
       "                                               house_rules  \\\n",
       "id                                                           \n",
       "1001254  Clean up and treat the home the way you'd like...   \n",
       "1002102  Pet friendly but please confirm with me if the...   \n",
       "1002403  I encourage you to use my kitchen, cooking and...   \n",
       "1003689  Please no smoking in the house, porch or on th...   \n",
       "1004098                  No smoking, please, and no drugs.   \n",
       "...                                                    ...   \n",
       "6092437  No Smoking No Parties or Events of any kind Pl...   \n",
       "6092990  House rules: Guests agree to the following ter...   \n",
       "6093542                                           no rules   \n",
       "6094094                                           no rules   \n",
       "6094647                                           no rules   \n",
       "\n",
       "                                  area  \n",
       "id                                      \n",
       "1001254            Brooklyn Kensington  \n",
       "1002102              Manhattan Midtown  \n",
       "1002403               Manhattan Harlem  \n",
       "1003689          Manhattan East Harlem  \n",
       "1004098          Manhattan Murray Hill  \n",
       "...                                ...  \n",
       "6092437          Brooklyn Williamsburg  \n",
       "6092990  Manhattan Morningside Heights  \n",
       "6093542            Brooklyn Park Slope  \n",
       "6094094        Queens Long Island City  \n",
       "6094647      Manhattan Upper West Side  \n",
       "\n",
       "[102349 rows x 17 columns]"
      ]
     },
     "execution_count": 87,
     "metadata": {},
     "output_type": "execute_result"
    }
   ],
   "source": [
    "updated_df"
   ]
  },
  {
   "cell_type": "code",
   "execution_count": 88,
   "id": "8c313232",
   "metadata": {
    "execution": {
     "iopub.execute_input": "2024-07-15T09:50:23.962218Z",
     "iopub.status.busy": "2024-07-15T09:50:23.961771Z",
     "iopub.status.idle": "2024-07-15T09:50:25.593895Z",
     "shell.execute_reply": "2024-07-15T09:50:25.592679Z"
    },
    "papermill": {
     "duration": 1.687997,
     "end_time": "2024-07-15T09:50:25.596842",
     "exception": false,
     "start_time": "2024-07-15T09:50:23.908845",
     "status": "completed"
    },
    "tags": []
   },
   "outputs": [],
   "source": [
    "import seaborn as sns"
   ]
  },
  {
   "cell_type": "code",
   "execution_count": 89,
   "id": "d643d75f",
   "metadata": {
    "execution": {
     "iopub.execute_input": "2024-07-15T09:50:25.696989Z",
     "iopub.status.busy": "2024-07-15T09:50:25.696546Z",
     "iopub.status.idle": "2024-07-15T09:50:27.775660Z",
     "shell.execute_reply": "2024-07-15T09:50:27.774366Z"
    },
    "papermill": {
     "duration": 2.132532,
     "end_time": "2024-07-15T09:50:27.778610",
     "exception": false,
     "start_time": "2024-07-15T09:50:25.646078",
     "status": "completed"
    },
    "tags": []
   },
   "outputs": [
    {
     "data": {
      "text/plain": [
       "(array([0, 1, 2, 3, 4, 5, 6, 7]),\n",
       " [Text(0, 0, 'Brooklyn'),\n",
       "  Text(1, 0, 'Manhattan'),\n",
       "  Text(2, 0, 'brookln'),\n",
       "  Text(3, 0, 'manhatan'),\n",
       "  Text(4, 0, 'Queens'),\n",
       "  Text(5, 0, 'unknown'),\n",
       "  Text(6, 0, 'Staten Island'),\n",
       "  Text(7, 0, 'Bronx')])"
      ]
     },
     "execution_count": 89,
     "metadata": {},
     "output_type": "execute_result"
    },
    {
     "data": {
      "image/png": "[encoded data removed]",
      "text/plain": [
       "<Figure size 640x480 with 1 Axes>"
      ]
     },
     "metadata": {},
     "output_type": "display_data"
    }
   ],
   "source": [
    "sns.barplot(data=updated_df, x='neighbourhood group', y='price', hue='room type')\n",
    "plt.xticks(rotation = 90)"
   ]
  },
  {
   "cell_type": "code",
   "execution_count": 90,
   "id": "8216316e",
   "metadata": {
    "execution": {
     "iopub.execute_input": "2024-07-15T09:50:27.882814Z",
     "iopub.status.busy": "2024-07-15T09:50:27.881960Z",
     "iopub.status.idle": "2024-07-15T09:50:30.150420Z",
     "shell.execute_reply": "2024-07-15T09:50:30.149195Z"
    },
    "papermill": {
     "duration": 2.325159,
     "end_time": "2024-07-15T09:50:30.153469",
     "exception": false,
     "start_time": "2024-07-15T09:50:27.828310",
     "status": "completed"
    },
    "tags": []
   },
   "outputs": [
    {
     "data": {
      "text/plain": [
       "(array([0, 1, 2, 3, 4, 5, 6, 7]),\n",
       " [Text(0, 0, 'Brooklyn'),\n",
       "  Text(1, 0, 'Manhattan'),\n",
       "  Text(2, 0, 'brookln'),\n",
       "  Text(3, 0, 'manhatan'),\n",
       "  Text(4, 0, 'Queens'),\n",
       "  Text(5, 0, 'unknown'),\n",
       "  Text(6, 0, 'Staten Island'),\n",
       "  Text(7, 0, 'Bronx')])"
      ]
     },
     "execution_count": 90,
     "metadata": {},
     "output_type": "execute_result"
    },
    {
     "data": {
      "image/png": "[encoded data removed]",
      "text/plain": [
       "<Figure size 640x480 with 1 Axes>"
      ]
     },
     "metadata": {},
     "output_type": "display_data"
    }
   ],
   "source": [
    "sns.barplot(data=updated_df, x='neighbourhood group', y='service fee', hue='room type')\n",
    "plt.xticks(rotation = 90)"
   ]
  },
  {
   "cell_type": "code",
   "execution_count": null,
   "id": "d4d290ba",
   "metadata": {
    "papermill": {
     "duration": 0.053774,
     "end_time": "2024-07-15T09:50:30.257879",
     "exception": false,
     "start_time": "2024-07-15T09:50:30.204105",
     "status": "completed"
    },
    "tags": []
   },
   "outputs": [],
   "source": []
  }
 ],
 "metadata": {
  "kaggle": {
   "accelerator": "none",
   "dataSources": [
    {
     "datasetId": 2380415,
     "sourceId": 4016336,
     "sourceType": "datasetVersion"
    }
   ],
   "dockerImageVersionId": 30746,
   "isGpuEnabled": false,
   "isInternetEnabled": false,
   "language": "python",
   "sourceType": "notebook"
  },
  "kernelspec": {
   "display_name": "Python 3",
   "language": "python",
   "name": "python3"
  },
  "language_info": {
   "codemirror_mode": {
    "name": "ipython",
    "version": 3
   },
   "file_extension": ".py",
   "mimetype": "text/x-python",
   "name": "python",
   "nbconvert_exporter": "python",
   "pygments_lexer": "ipython3",
   "version": "3.10.13"
  },
  "papermill": {
   "default_parameters": {},
   "duration": 99.765884,
   "end_time": "2024-07-15T09:50:31.133679",
   "environment_variables": {},
   "exception": null,
   "input_path": "__notebook__.ipynb",
   "output_path": "__notebook__.ipynb",
   "parameters": {},
   "start_time": "2024-07-15T09:48:51.367795",
   "version": "2.5.0"
  }
 },
 "nbformat": 4,
 "nbformat_minor": 5
}
