{
 "cells": [
  {
   "cell_type": "code",
   "execution_count": 1,
   "id": "3910efcf",
   "metadata": {
    "_cell_guid": "b1076dfc-b9ad-4769-8c92-a6c4dae69d19",
    "_uuid": "8f2839f25d086af736a60e9eeb907d3b93b6e0e5",
    "execution": {
     "iopub.execute_input": "2024-07-15T08:53:21.670877Z",
     "iopub.status.busy": "2024-07-15T08:53:21.669906Z",
     "iopub.status.idle": "2024-07-15T08:53:22.623321Z",
     "shell.execute_reply": "2024-07-15T08:53:22.621968Z"
    },
    "papermill": {
     "duration": 0.979932,
     "end_time": "2024-07-15T08:53:22.625943",
     "exception": false,
     "start_time": "2024-07-15T08:53:21.646011",
     "status": "completed"
    },
    "tags": []
   },
   "outputs": [
    {
     "name": "stdout",
     "output_type": "stream",
     "text": [
      "/kaggle/input/airbnbopendata/Airbnb_Open_Data.csv\n"
     ]
    }
   ],
   "source": [
    "# This Python 3 environment comes with many helpful analytics libraries installed\n",
    "# It is defined by the kaggle/python Docker image: https://github.com/kaggle/docker-python\n",
    "# For example, here's several helpful packages to load\n",
    "\n",
    "import numpy as np # linear algebra\n",
    "import pandas as pd # data processing, CSV file I/O (e.g. pd.read_csv)\n",
    "\n",
    "# Input data files are available in the read-only \"../input/\" directory\n",
    "# For example, running this (by clicking run or pressing Shift+Enter) will list all files under the input directory\n",
    "\n",
    "import os\n",
    "for dirname, _, filenames in os.walk('/kaggle/input'):\n",
    "    for filename in filenames:\n",
    "        print(os.path.join(dirname, filename))\n",
    "\n",
    "# You can write up to 20GB to the current directory (/kaggle/working/) that gets preserved as output when you create a version using \"Save & Run All\" \n",
    "# You can also write temporary files to /kaggle/temp/, but they won't be saved outside of the current session"
   ]
  },
  {
   "cell_type": "markdown",
   "id": "a3b9367e",
   "metadata": {
    "papermill": {
     "duration": 0.021743,
     "end_time": "2024-07-15T08:53:22.671907",
     "exception": false,
     "start_time": "2024-07-15T08:53:22.650164",
     "status": "completed"
    },
    "tags": []
   },
   "source": [
    "**Reading the data**"
   ]
  },
  {
   "cell_type": "code",
   "execution_count": 2,
   "id": "3f923d40",
   "metadata": {
    "execution": {
     "iopub.execute_input": "2024-07-15T08:53:22.717960Z",
     "iopub.status.busy": "2024-07-15T08:53:22.717398Z",
     "iopub.status.idle": "2024-07-15T08:53:24.003113Z",
     "shell.execute_reply": "2024-07-15T08:53:24.001900Z"
    },
    "papermill": {
     "duration": 1.311787,
     "end_time": "2024-07-15T08:53:24.005686",
     "exception": false,
     "start_time": "2024-07-15T08:53:22.693899",
     "status": "completed"
    },
    "tags": []
   },
   "outputs": [
    {
     "name": "stderr",
     "output_type": "stream",
     "text": [
      "/tmp/ipykernel_18/2083687841.py:1: DtypeWarning: Columns (25) have mixed types. Specify dtype option on import or set low_memory=False.\n",
      "  airnd_df = pd.read_csv(\"/kaggle/input/airbnbopendata/Airbnb_Open_Data.csv\")\n"
     ]
    }
   ],
   "source": [
    "airnd_df = pd.read_csv(\"/kaggle/input/airbnbopendata/Airbnb_Open_Data.csv\")"
   ]
  },
  {
   "cell_type": "markdown",
   "id": "de1f43a5",
   "metadata": {
    "papermill": {
     "duration": 0.022123,
     "end_time": "2024-07-15T08:53:24.050068",
     "exception": false,
     "start_time": "2024-07-15T08:53:24.027945",
     "status": "completed"
    },
    "tags": []
   },
   "source": [
    "One column has mixed types of data so Specify dtype option on import or set low_memory=False."
   ]
  },
  {
   "cell_type": "code",
   "execution_count": 3,
   "id": "ebf1f904",
   "metadata": {
    "execution": {
     "iopub.execute_input": "2024-07-15T08:53:24.096871Z",
     "iopub.status.busy": "2024-07-15T08:53:24.096432Z",
     "iopub.status.idle": "2024-07-15T08:53:24.113991Z",
     "shell.execute_reply": "2024-07-15T08:53:24.112785Z"
    },
    "papermill": {
     "duration": 0.043545,
     "end_time": "2024-07-15T08:53:24.116233",
     "exception": false,
     "start_time": "2024-07-15T08:53:24.072688",
     "status": "completed"
    },
    "tags": []
   },
   "outputs": [
    {
     "data": {
      "text/plain": [
       "id                                  int64\n",
       "NAME                               object\n",
       "host id                             int64\n",
       "host_identity_verified             object\n",
       "host name                          object\n",
       "neighbourhood group                object\n",
       "neighbourhood                      object\n",
       "lat                               float64\n",
       "long                              float64\n",
       "country                            object\n",
       "country code                       object\n",
       "instant_bookable                   object\n",
       "cancellation_policy                object\n",
       "room type                          object\n",
       "Construction year                 float64\n",
       "price                              object\n",
       "service fee                        object\n",
       "minimum nights                    float64\n",
       "number of reviews                 float64\n",
       "last review                        object\n",
       "reviews per month                 float64\n",
       "review rate number                float64\n",
       "calculated host listings count    float64\n",
       "availability 365                  float64\n",
       "house_rules                        object\n",
       "license                            object\n",
       "dtype: object"
      ]
     },
     "execution_count": 3,
     "metadata": {},
     "output_type": "execute_result"
    }
   ],
   "source": [
    "airnd_df.dtypes"
   ]
  },
  {
   "cell_type": "code",
   "execution_count": 4,
   "id": "a7656bec",
   "metadata": {
    "execution": {
     "iopub.execute_input": "2024-07-15T08:53:24.162881Z",
     "iopub.status.busy": "2024-07-15T08:53:24.162466Z",
     "iopub.status.idle": "2024-07-15T08:53:25.071972Z",
     "shell.execute_reply": "2024-07-15T08:53:25.070981Z"
    },
    "papermill": {
     "duration": 0.935985,
     "end_time": "2024-07-15T08:53:25.074722",
     "exception": false,
     "start_time": "2024-07-15T08:53:24.138737",
     "status": "completed"
    },
    "tags": []
   },
   "outputs": [],
   "source": [
    "airnd_df = pd.read_csv(\"/kaggle/input/airbnbopendata/Airbnb_Open_Data.csv\",index_col = 'id',low_memory=False)"
   ]
  },
  {
   "cell_type": "code",
   "execution_count": 5,
   "id": "89e950c9",
   "metadata": {
    "execution": {
     "iopub.execute_input": "2024-07-15T08:53:25.121894Z",
     "iopub.status.busy": "2024-07-15T08:53:25.121478Z",
     "iopub.status.idle": "2024-07-15T08:53:25.128978Z",
     "shell.execute_reply": "2024-07-15T08:53:25.127534Z"
    },
    "papermill": {
     "duration": 0.034412,
     "end_time": "2024-07-15T08:53:25.131637",
     "exception": false,
     "start_time": "2024-07-15T08:53:25.097225",
     "status": "completed"
    },
    "tags": []
   },
   "outputs": [
    {
     "data": {
      "text/plain": [
       "(102599, 25)"
      ]
     },
     "execution_count": 5,
     "metadata": {},
     "output_type": "execute_result"
    }
   ],
   "source": [
    "airnd_df.shape"
   ]
  },
  {
   "cell_type": "markdown",
   "id": "3cf2ae47",
   "metadata": {
    "papermill": {
     "duration": 0.022215,
     "end_time": "2024-07-15T08:53:25.177230",
     "exception": false,
     "start_time": "2024-07-15T08:53:25.155015",
     "status": "completed"
    },
    "tags": []
   },
   "source": [
    "**Total 25 columns**"
   ]
  },
  {
   "cell_type": "markdown",
   "id": "a05174b7",
   "metadata": {
    "papermill": {
     "duration": 0.022006,
     "end_time": "2024-07-15T08:53:25.222081",
     "exception": false,
     "start_time": "2024-07-15T08:53:25.200075",
     "status": "completed"
    },
    "tags": []
   },
   "source": [
    "**Check if any columns has missing values**"
   ]
  },
  {
   "cell_type": "code",
   "execution_count": 6,
   "id": "60b30bfa",
   "metadata": {
    "execution": {
     "iopub.execute_input": "2024-07-15T08:53:25.328702Z",
     "iopub.status.busy": "2024-07-15T08:53:25.327604Z",
     "iopub.status.idle": "2024-07-15T08:53:25.410701Z",
     "shell.execute_reply": "2024-07-15T08:53:25.409595Z"
    },
    "papermill": {
     "duration": 0.168806,
     "end_time": "2024-07-15T08:53:25.413175",
     "exception": false,
     "start_time": "2024-07-15T08:53:25.244369",
     "status": "completed"
    },
    "tags": []
   },
   "outputs": [
    {
     "data": {
      "text/plain": [
       "NAME                                 250\n",
       "host id                                0\n",
       "host_identity_verified               289\n",
       "host name                            406\n",
       "neighbourhood group                   29\n",
       "neighbourhood                         16\n",
       "lat                                    8\n",
       "long                                   8\n",
       "country                              532\n",
       "country code                         131\n",
       "instant_bookable                     105\n",
       "cancellation_policy                   76\n",
       "room type                              0\n",
       "Construction year                    214\n",
       "price                                247\n",
       "service fee                          273\n",
       "minimum nights                       409\n",
       "number of reviews                    183\n",
       "last review                        15893\n",
       "reviews per month                  15879\n",
       "review rate number                   326\n",
       "calculated host listings count       319\n",
       "availability 365                     448\n",
       "house_rules                        52131\n",
       "license                           102597\n",
       "dtype: int64"
      ]
     },
     "execution_count": 6,
     "metadata": {},
     "output_type": "execute_result"
    }
   ],
   "source": [
    "before_nulls = airnd_df.isna().sum()\n",
    "before_nulls"
   ]
  },
  {
   "cell_type": "markdown",
   "id": "8bf76ad3",
   "metadata": {
    "papermill": {
     "duration": 0.02344,
     "end_time": "2024-07-15T08:53:25.460419",
     "exception": false,
     "start_time": "2024-07-15T08:53:25.436979",
     "status": "completed"
    },
    "tags": []
   },
   "source": [
    "**Handling name**\n",
    "1. Since all columns are lower case lets make it to lower case"
   ]
  },
  {
   "cell_type": "code",
   "execution_count": 7,
   "id": "12a7ccd0",
   "metadata": {
    "execution": {
     "iopub.execute_input": "2024-07-15T08:53:25.508586Z",
     "iopub.status.busy": "2024-07-15T08:53:25.508070Z",
     "iopub.status.idle": "2024-07-15T08:53:25.514101Z",
     "shell.execute_reply": "2024-07-15T08:53:25.512832Z"
    },
    "papermill": {
     "duration": 0.03283,
     "end_time": "2024-07-15T08:53:25.516559",
     "exception": false,
     "start_time": "2024-07-15T08:53:25.483729",
     "status": "completed"
    },
    "tags": []
   },
   "outputs": [],
   "source": [
    "airnd_df.rename(columns = {'NAME':'name'},inplace=True)"
   ]
  },
  {
   "cell_type": "code",
   "execution_count": 8,
   "id": "0a0c7d00",
   "metadata": {
    "execution": {
     "iopub.execute_input": "2024-07-15T08:53:25.565382Z",
     "iopub.status.busy": "2024-07-15T08:53:25.564439Z",
     "iopub.status.idle": "2024-07-15T08:53:25.599926Z",
     "shell.execute_reply": "2024-07-15T08:53:25.598797Z"
    },
    "papermill": {
     "duration": 0.061754,
     "end_time": "2024-07-15T08:53:25.602162",
     "exception": false,
     "start_time": "2024-07-15T08:53:25.540408",
     "status": "completed"
    },
    "tags": []
   },
   "outputs": [
    {
     "data": {
      "text/html": [
       "<div>\n",
       "<style scoped>\n",
       "    .dataframe tbody tr th:only-of-type {\n",
       "        vertical-align: middle;\n",
       "    }\n",
       "\n",
       "    .dataframe tbody tr th {\n",
       "        vertical-align: top;\n",
       "    }\n",
       "\n",
       "    .dataframe thead th {\n",
       "        text-align: right;\n",
       "    }\n",
       "</style>\n",
       "<table border=\"1\" class=\"dataframe\">\n",
       "  <thead>\n",
       "    <tr style=\"text-align: right;\">\n",
       "      <th></th>\n",
       "      <th>name</th>\n",
       "      <th>host id</th>\n",
       "      <th>host_identity_verified</th>\n",
       "      <th>host name</th>\n",
       "      <th>neighbourhood group</th>\n",
       "      <th>neighbourhood</th>\n",
       "      <th>lat</th>\n",
       "      <th>long</th>\n",
       "      <th>country</th>\n",
       "      <th>country code</th>\n",
       "      <th>...</th>\n",
       "      <th>service fee</th>\n",
       "      <th>minimum nights</th>\n",
       "      <th>number of reviews</th>\n",
       "      <th>last review</th>\n",
       "      <th>reviews per month</th>\n",
       "      <th>review rate number</th>\n",
       "      <th>calculated host listings count</th>\n",
       "      <th>availability 365</th>\n",
       "      <th>house_rules</th>\n",
       "      <th>license</th>\n",
       "    </tr>\n",
       "    <tr>\n",
       "      <th>id</th>\n",
       "      <th></th>\n",
       "      <th></th>\n",
       "      <th></th>\n",
       "      <th></th>\n",
       "      <th></th>\n",
       "      <th></th>\n",
       "      <th></th>\n",
       "      <th></th>\n",
       "      <th></th>\n",
       "      <th></th>\n",
       "      <th></th>\n",
       "      <th></th>\n",
       "      <th></th>\n",
       "      <th></th>\n",
       "      <th></th>\n",
       "      <th></th>\n",
       "      <th></th>\n",
       "      <th></th>\n",
       "      <th></th>\n",
       "      <th></th>\n",
       "      <th></th>\n",
       "    </tr>\n",
       "  </thead>\n",
       "  <tbody>\n",
       "    <tr>\n",
       "      <th>1001254</th>\n",
       "      <td>Clean &amp; quiet apt home by the park</td>\n",
       "      <td>80014485718</td>\n",
       "      <td>unconfirmed</td>\n",
       "      <td>Madaline</td>\n",
       "      <td>Brooklyn</td>\n",
       "      <td>Kensington</td>\n",
       "      <td>40.64749</td>\n",
       "      <td>-73.97237</td>\n",
       "      <td>United States</td>\n",
       "      <td>US</td>\n",
       "      <td>...</td>\n",
       "      <td>$193</td>\n",
       "      <td>10.0</td>\n",
       "      <td>9.0</td>\n",
       "      <td>10/19/2021</td>\n",
       "      <td>0.21</td>\n",
       "      <td>4.0</td>\n",
       "      <td>6.0</td>\n",
       "      <td>286.0</td>\n",
       "      <td>Clean up and treat the home the way you'd like...</td>\n",
       "      <td>NaN</td>\n",
       "    </tr>\n",
       "    <tr>\n",
       "      <th>1002102</th>\n",
       "      <td>Skylit Midtown Castle</td>\n",
       "      <td>52335172823</td>\n",
       "      <td>verified</td>\n",
       "      <td>Jenna</td>\n",
       "      <td>Manhattan</td>\n",
       "      <td>Midtown</td>\n",
       "      <td>40.75362</td>\n",
       "      <td>-73.98377</td>\n",
       "      <td>United States</td>\n",
       "      <td>US</td>\n",
       "      <td>...</td>\n",
       "      <td>$28</td>\n",
       "      <td>30.0</td>\n",
       "      <td>45.0</td>\n",
       "      <td>5/21/2022</td>\n",
       "      <td>0.38</td>\n",
       "      <td>4.0</td>\n",
       "      <td>2.0</td>\n",
       "      <td>228.0</td>\n",
       "      <td>Pet friendly but please confirm with me if the...</td>\n",
       "      <td>NaN</td>\n",
       "    </tr>\n",
       "    <tr>\n",
       "      <th>1002403</th>\n",
       "      <td>THE VILLAGE OF HARLEM....NEW YORK !</td>\n",
       "      <td>78829239556</td>\n",
       "      <td>NaN</td>\n",
       "      <td>Elise</td>\n",
       "      <td>Manhattan</td>\n",
       "      <td>Harlem</td>\n",
       "      <td>40.80902</td>\n",
       "      <td>-73.94190</td>\n",
       "      <td>United States</td>\n",
       "      <td>US</td>\n",
       "      <td>...</td>\n",
       "      <td>$124</td>\n",
       "      <td>3.0</td>\n",
       "      <td>0.0</td>\n",
       "      <td>NaN</td>\n",
       "      <td>NaN</td>\n",
       "      <td>5.0</td>\n",
       "      <td>1.0</td>\n",
       "      <td>352.0</td>\n",
       "      <td>I encourage you to use my kitchen, cooking and...</td>\n",
       "      <td>NaN</td>\n",
       "    </tr>\n",
       "    <tr>\n",
       "      <th>1002755</th>\n",
       "      <td>NaN</td>\n",
       "      <td>85098326012</td>\n",
       "      <td>unconfirmed</td>\n",
       "      <td>Garry</td>\n",
       "      <td>Brooklyn</td>\n",
       "      <td>Clinton Hill</td>\n",
       "      <td>40.68514</td>\n",
       "      <td>-73.95976</td>\n",
       "      <td>United States</td>\n",
       "      <td>US</td>\n",
       "      <td>...</td>\n",
       "      <td>$74</td>\n",
       "      <td>30.0</td>\n",
       "      <td>270.0</td>\n",
       "      <td>7/5/2019</td>\n",
       "      <td>4.64</td>\n",
       "      <td>4.0</td>\n",
       "      <td>1.0</td>\n",
       "      <td>322.0</td>\n",
       "      <td>NaN</td>\n",
       "      <td>NaN</td>\n",
       "    </tr>\n",
       "    <tr>\n",
       "      <th>1003689</th>\n",
       "      <td>Entire Apt: Spacious Studio/Loft by central park</td>\n",
       "      <td>92037596077</td>\n",
       "      <td>verified</td>\n",
       "      <td>Lyndon</td>\n",
       "      <td>Manhattan</td>\n",
       "      <td>East Harlem</td>\n",
       "      <td>40.79851</td>\n",
       "      <td>-73.94399</td>\n",
       "      <td>United States</td>\n",
       "      <td>US</td>\n",
       "      <td>...</td>\n",
       "      <td>$41</td>\n",
       "      <td>10.0</td>\n",
       "      <td>9.0</td>\n",
       "      <td>11/19/2018</td>\n",
       "      <td>0.10</td>\n",
       "      <td>3.0</td>\n",
       "      <td>1.0</td>\n",
       "      <td>289.0</td>\n",
       "      <td>Please no smoking in the house, porch or on th...</td>\n",
       "      <td>NaN</td>\n",
       "    </tr>\n",
       "  </tbody>\n",
       "</table>\n",
       "<p>5 rows × 25 columns</p>\n",
       "</div>"
      ],
      "text/plain": [
       "                                                     name      host id  \\\n",
       "id                                                                       \n",
       "1001254                Clean & quiet apt home by the park  80014485718   \n",
       "1002102                             Skylit Midtown Castle  52335172823   \n",
       "1002403               THE VILLAGE OF HARLEM....NEW YORK !  78829239556   \n",
       "1002755                                               NaN  85098326012   \n",
       "1003689  Entire Apt: Spacious Studio/Loft by central park  92037596077   \n",
       "\n",
       "        host_identity_verified host name neighbourhood group neighbourhood  \\\n",
       "id                                                                           \n",
       "1001254            unconfirmed  Madaline            Brooklyn    Kensington   \n",
       "1002102               verified     Jenna           Manhattan       Midtown   \n",
       "1002403                    NaN     Elise           Manhattan        Harlem   \n",
       "1002755            unconfirmed     Garry            Brooklyn  Clinton Hill   \n",
       "1003689               verified    Lyndon           Manhattan   East Harlem   \n",
       "\n",
       "              lat      long        country country code  ... service fee  \\\n",
       "id                                                       ...               \n",
       "1001254  40.64749 -73.97237  United States           US  ...       $193    \n",
       "1002102  40.75362 -73.98377  United States           US  ...        $28    \n",
       "1002403  40.80902 -73.94190  United States           US  ...       $124    \n",
       "1002755  40.68514 -73.95976  United States           US  ...        $74    \n",
       "1003689  40.79851 -73.94399  United States           US  ...        $41    \n",
       "\n",
       "        minimum nights number of reviews  last review reviews per month  \\\n",
       "id                                                                        \n",
       "1001254           10.0               9.0   10/19/2021              0.21   \n",
       "1002102           30.0              45.0    5/21/2022              0.38   \n",
       "1002403            3.0               0.0          NaN               NaN   \n",
       "1002755           30.0             270.0     7/5/2019              4.64   \n",
       "1003689           10.0               9.0   11/19/2018              0.10   \n",
       "\n",
       "        review rate number  calculated host listings count  availability 365  \\\n",
       "id                                                                             \n",
       "1001254                4.0                             6.0             286.0   \n",
       "1002102                4.0                             2.0             228.0   \n",
       "1002403                5.0                             1.0             352.0   \n",
       "1002755                4.0                             1.0             322.0   \n",
       "1003689                3.0                             1.0             289.0   \n",
       "\n",
       "                                               house_rules  license  \n",
       "id                                                                   \n",
       "1001254  Clean up and treat the home the way you'd like...      NaN  \n",
       "1002102  Pet friendly but please confirm with me if the...      NaN  \n",
       "1002403  I encourage you to use my kitchen, cooking and...      NaN  \n",
       "1002755                                                NaN      NaN  \n",
       "1003689  Please no smoking in the house, porch or on th...      NaN  \n",
       "\n",
       "[5 rows x 25 columns]"
      ]
     },
     "execution_count": 8,
     "metadata": {},
     "output_type": "execute_result"
    }
   ],
   "source": [
    "airnd_df.head()"
   ]
  },
  {
   "cell_type": "markdown",
   "id": "31ca7c46",
   "metadata": {
    "papermill": {
     "duration": 0.022769,
     "end_time": "2024-07-15T08:53:25.648004",
     "exception": false,
     "start_time": "2024-07-15T08:53:25.625235",
     "status": "completed"
    },
    "tags": []
   },
   "source": [
    "**Even though few names are null still we can find name if their lat and long matches with any other**"
   ]
  },
  {
   "cell_type": "code",
   "execution_count": 9,
   "id": "d9a8a6d8",
   "metadata": {
    "execution": {
     "iopub.execute_input": "2024-07-15T08:53:25.696283Z",
     "iopub.status.busy": "2024-07-15T08:53:25.695884Z",
     "iopub.status.idle": "2024-07-15T08:53:25.745579Z",
     "shell.execute_reply": "2024-07-15T08:53:25.744445Z"
    },
    "papermill": {
     "duration": 0.076946,
     "end_time": "2024-07-15T08:53:25.748056",
     "exception": false,
     "start_time": "2024-07-15T08:53:25.671110",
     "status": "completed"
    },
    "tags": []
   },
   "outputs": [
    {
     "data": {
      "text/plain": [
       "lat       long     \n",
       "40.49979  -74.24084    1\n",
       "40.50456  -74.24984    1\n",
       "40.50641  -74.23059    1\n",
       "40.50708  -74.24285    2\n",
       "40.50863  -74.24135    1\n",
       "                      ..\n",
       "40.91248  -73.84885    1\n",
       "40.91306  -73.89389    1\n",
       "40.91310  -73.89518    1\n",
       "40.91685  -73.90136    1\n",
       "40.91697  -73.90125    1\n",
       "Name: name, Length: 67162, dtype: int64"
      ]
     },
     "execution_count": 9,
     "metadata": {},
     "output_type": "execute_result"
    }
   ],
   "source": [
    "airnd_df.groupby(['lat','long']).name.count()"
   ]
  },
  {
   "cell_type": "markdown",
   "id": "b679c9bd",
   "metadata": {
    "papermill": {
     "duration": 0.023136,
     "end_time": "2024-07-15T08:53:25.794430",
     "exception": false,
     "start_time": "2024-07-15T08:53:25.771294",
     "status": "completed"
    },
    "tags": []
   },
   "source": [
    "**Based on above result we can assume that lat and long are repating so we can try to fix names** "
   ]
  },
  {
   "cell_type": "code",
   "execution_count": 10,
   "id": "c7119207",
   "metadata": {
    "execution": {
     "iopub.execute_input": "2024-07-15T08:53:25.842639Z",
     "iopub.status.busy": "2024-07-15T08:53:25.842218Z",
     "iopub.status.idle": "2024-07-15T08:53:25.846920Z",
     "shell.execute_reply": "2024-07-15T08:53:25.845707Z"
    },
    "papermill": {
     "duration": 0.031495,
     "end_time": "2024-07-15T08:53:25.849251",
     "exception": false,
     "start_time": "2024-07-15T08:53:25.817756",
     "status": "completed"
    },
    "tags": []
   },
   "outputs": [],
   "source": [
    "# new_name = airnd_df.loc[(airnd_df['lat'] == 40.50708) & (airnd_df['long'] == -74.24285) ,'name'].unique()[0]\n",
    "# new_name"
   ]
  },
  {
   "cell_type": "code",
   "execution_count": 11,
   "id": "6a7954b9",
   "metadata": {
    "execution": {
     "iopub.execute_input": "2024-07-15T08:53:25.898780Z",
     "iopub.status.busy": "2024-07-15T08:53:25.897717Z",
     "iopub.status.idle": "2024-07-15T08:53:25.904070Z",
     "shell.execute_reply": "2024-07-15T08:53:25.902938Z"
    },
    "papermill": {
     "duration": 0.032928,
     "end_time": "2024-07-15T08:53:25.906290",
     "exception": false,
     "start_time": "2024-07-15T08:53:25.873362",
     "status": "completed"
    },
    "tags": []
   },
   "outputs": [],
   "source": [
    "def fill_name(x):\n",
    "    if pd.isna(x.name):\n",
    "        new_name = airnd_df.loc[(airnd_df['lat'] == x.lat) & (airnd_df['long'] == x.long) ,'name'].unique()[0]\n",
    "        x.name = new_name \n",
    "    return x"
   ]
  },
  {
   "cell_type": "code",
   "execution_count": 12,
   "id": "f0dc6186",
   "metadata": {
    "execution": {
     "iopub.execute_input": "2024-07-15T08:53:25.954367Z",
     "iopub.status.busy": "2024-07-15T08:53:25.953971Z",
     "iopub.status.idle": "2024-07-15T08:53:31.662161Z",
     "shell.execute_reply": "2024-07-15T08:53:31.660926Z"
    },
    "papermill": {
     "duration": 5.735909,
     "end_time": "2024-07-15T08:53:31.665414",
     "exception": false,
     "start_time": "2024-07-15T08:53:25.929505",
     "status": "completed"
    },
    "tags": []
   },
   "outputs": [],
   "source": [
    "updated_df = airnd_df.apply(fill_name,axis = 1)"
   ]
  },
  {
   "cell_type": "code",
   "execution_count": 13,
   "id": "7e6680b0",
   "metadata": {
    "execution": {
     "iopub.execute_input": "2024-07-15T08:53:31.717990Z",
     "iopub.status.busy": "2024-07-15T08:53:31.717497Z",
     "iopub.status.idle": "2024-07-15T08:53:31.856659Z",
     "shell.execute_reply": "2024-07-15T08:53:31.855496Z"
    },
    "papermill": {
     "duration": 0.166386,
     "end_time": "2024-07-15T08:53:31.858969",
     "exception": false,
     "start_time": "2024-07-15T08:53:31.692583",
     "status": "completed"
    },
    "tags": []
   },
   "outputs": [
    {
     "data": {
      "text/plain": [
       "name                                 250\n",
       "host id                                0\n",
       "host_identity_verified               289\n",
       "host name                            406\n",
       "neighbourhood group                   29\n",
       "neighbourhood                         16\n",
       "lat                                    8\n",
       "long                                   8\n",
       "country                              532\n",
       "country code                         131\n",
       "instant_bookable                     105\n",
       "cancellation_policy                   76\n",
       "room type                              0\n",
       "Construction year                    214\n",
       "price                                247\n",
       "service fee                          273\n",
       "minimum nights                       409\n",
       "number of reviews                    183\n",
       "last review                        15893\n",
       "reviews per month                  15879\n",
       "review rate number                   326\n",
       "calculated host listings count       319\n",
       "availability 365                     448\n",
       "house_rules                        52131\n",
       "license                           102597\n",
       "dtype: int64"
      ]
     },
     "execution_count": 13,
     "metadata": {},
     "output_type": "execute_result"
    }
   ],
   "source": [
    "updated_df.isna().sum()"
   ]
  },
  {
   "cell_type": "markdown",
   "id": "652ae0d5",
   "metadata": {
    "papermill": {
     "duration": 0.023159,
     "end_time": "2024-07-15T08:53:31.906235",
     "exception": false,
     "start_time": "2024-07-15T08:53:31.883076",
     "status": "completed"
    },
    "tags": []
   },
   "source": [
    "**No use none of them are matching**\n",
    "\n",
    "**Since we can get the name we need to drop columns with name = null**"
   ]
  },
  {
   "cell_type": "code",
   "execution_count": 14,
   "id": "e422a0dc",
   "metadata": {
    "execution": {
     "iopub.execute_input": "2024-07-15T08:53:31.954712Z",
     "iopub.status.busy": "2024-07-15T08:53:31.954209Z",
     "iopub.status.idle": "2024-07-15T08:53:32.110113Z",
     "shell.execute_reply": "2024-07-15T08:53:32.109084Z"
    },
    "papermill": {
     "duration": 0.183216,
     "end_time": "2024-07-15T08:53:32.112824",
     "exception": false,
     "start_time": "2024-07-15T08:53:31.929608",
     "status": "completed"
    },
    "tags": []
   },
   "outputs": [],
   "source": [
    "updated_df.dropna(subset=['name'],inplace = True)"
   ]
  },
  {
   "cell_type": "code",
   "execution_count": 15,
   "id": "19204f8b",
   "metadata": {
    "execution": {
     "iopub.execute_input": "2024-07-15T08:53:32.165043Z",
     "iopub.status.busy": "2024-07-15T08:53:32.164676Z",
     "iopub.status.idle": "2024-07-15T08:53:32.248735Z",
     "shell.execute_reply": "2024-07-15T08:53:32.247719Z"
    },
    "papermill": {
     "duration": 0.114063,
     "end_time": "2024-07-15T08:53:32.251152",
     "exception": false,
     "start_time": "2024-07-15T08:53:32.137089",
     "status": "completed"
    },
    "tags": []
   },
   "outputs": [
    {
     "data": {
      "text/plain": [
       "name                                   0\n",
       "host id                                0\n",
       "host_identity_verified               277\n",
       "host name                            400\n",
       "neighbourhood group                   27\n",
       "neighbourhood                         16\n",
       "lat                                    8\n",
       "long                                   8\n",
       "country                              527\n",
       "country code                         123\n",
       "instant_bookable                      97\n",
       "cancellation_policy                   71\n",
       "room type                              0\n",
       "Construction year                    205\n",
       "price                                244\n",
       "service fee                          273\n",
       "minimum nights                       403\n",
       "number of reviews                    182\n",
       "last review                        15857\n",
       "reviews per month                  15843\n",
       "review rate number                   318\n",
       "calculated host listings count       318\n",
       "availability 365                     430\n",
       "house_rules                        52025\n",
       "license                           102347\n",
       "dtype: int64"
      ]
     },
     "execution_count": 15,
     "metadata": {},
     "output_type": "execute_result"
    }
   ],
   "source": [
    "updated_df.isna().sum()"
   ]
  },
  {
   "cell_type": "code",
   "execution_count": 16,
   "id": "610d3502",
   "metadata": {
    "execution": {
     "iopub.execute_input": "2024-07-15T08:53:32.300005Z",
     "iopub.status.busy": "2024-07-15T08:53:32.299649Z",
     "iopub.status.idle": "2024-07-15T08:53:32.306680Z",
     "shell.execute_reply": "2024-07-15T08:53:32.305573Z"
    },
    "papermill": {
     "duration": 0.034378,
     "end_time": "2024-07-15T08:53:32.309211",
     "exception": false,
     "start_time": "2024-07-15T08:53:32.274833",
     "status": "completed"
    },
    "tags": []
   },
   "outputs": [
    {
     "data": {
      "text/plain": [
       "(102349, 25)"
      ]
     },
     "execution_count": 16,
     "metadata": {},
     "output_type": "execute_result"
    }
   ],
   "source": [
    "updated_df.shape"
   ]
  },
  {
   "cell_type": "markdown",
   "id": "8c9ccbc6",
   "metadata": {
    "papermill": {
     "duration": 0.023375,
     "end_time": "2024-07-15T08:53:32.357669",
     "exception": false,
     "start_time": "2024-07-15T08:53:32.334294",
     "status": "completed"
    },
    "tags": []
   },
   "source": [
    "**Making all null host_identity to unconfirmed**"
   ]
  },
  {
   "cell_type": "code",
   "execution_count": 17,
   "id": "5dc957b6",
   "metadata": {
    "execution": {
     "iopub.execute_input": "2024-07-15T08:53:32.408699Z",
     "iopub.status.busy": "2024-07-15T08:53:32.408294Z",
     "iopub.status.idle": "2024-07-15T08:53:32.421194Z",
     "shell.execute_reply": "2024-07-15T08:53:32.420078Z"
    },
    "papermill": {
     "duration": 0.04103,
     "end_time": "2024-07-15T08:53:32.424001",
     "exception": false,
     "start_time": "2024-07-15T08:53:32.382971",
     "status": "completed"
    },
    "tags": []
   },
   "outputs": [],
   "source": [
    "updated_host_identity = updated_df.host_identity_verified.fillna('unconfirmed')"
   ]
  },
  {
   "cell_type": "code",
   "execution_count": 18,
   "id": "ce25a934",
   "metadata": {
    "execution": {
     "iopub.execute_input": "2024-07-15T08:53:32.475532Z",
     "iopub.status.busy": "2024-07-15T08:53:32.475138Z",
     "iopub.status.idle": "2024-07-15T08:53:32.481794Z",
     "shell.execute_reply": "2024-07-15T08:53:32.480576Z"
    },
    "papermill": {
     "duration": 0.034837,
     "end_time": "2024-07-15T08:53:32.484232",
     "exception": false,
     "start_time": "2024-07-15T08:53:32.449395",
     "status": "completed"
    },
    "tags": []
   },
   "outputs": [],
   "source": [
    "updated_df['host_identity_verified'] = updated_host_identity"
   ]
  },
  {
   "cell_type": "code",
   "execution_count": 19,
   "id": "fff0f645",
   "metadata": {
    "execution": {
     "iopub.execute_input": "2024-07-15T08:53:32.532991Z",
     "iopub.status.busy": "2024-07-15T08:53:32.532631Z",
     "iopub.status.idle": "2024-07-15T08:53:32.613682Z",
     "shell.execute_reply": "2024-07-15T08:53:32.612495Z"
    },
    "papermill": {
     "duration": 0.108866,
     "end_time": "2024-07-15T08:53:32.616691",
     "exception": false,
     "start_time": "2024-07-15T08:53:32.507825",
     "status": "completed"
    },
    "tags": []
   },
   "outputs": [
    {
     "data": {
      "text/plain": [
       "name                                   0\n",
       "host id                                0\n",
       "host_identity_verified                 0\n",
       "host name                            400\n",
       "neighbourhood group                   27\n",
       "neighbourhood                         16\n",
       "lat                                    8\n",
       "long                                   8\n",
       "country                              527\n",
       "country code                         123\n",
       "instant_bookable                      97\n",
       "cancellation_policy                   71\n",
       "room type                              0\n",
       "Construction year                    205\n",
       "price                                244\n",
       "service fee                          273\n",
       "minimum nights                       403\n",
       "number of reviews                    182\n",
       "last review                        15857\n",
       "reviews per month                  15843\n",
       "review rate number                   318\n",
       "calculated host listings count       318\n",
       "availability 365                     430\n",
       "house_rules                        52025\n",
       "license                           102347\n",
       "dtype: int64"
      ]
     },
     "execution_count": 19,
     "metadata": {},
     "output_type": "execute_result"
    }
   ],
   "source": [
    "updated_df.isna().sum()"
   ]
  },
  {
   "cell_type": "markdown",
   "id": "8e1ed1e5",
   "metadata": {
    "papermill": {
     "duration": 0.023365,
     "end_time": "2024-07-15T08:53:32.664086",
     "exception": false,
     "start_time": "2024-07-15T08:53:32.640721",
     "status": "completed"
    },
    "tags": []
   },
   "source": [
    "**Making all null host_names to unknown**"
   ]
  },
  {
   "cell_type": "code",
   "execution_count": 20,
   "id": "0a35b1bf",
   "metadata": {
    "execution": {
     "iopub.execute_input": "2024-07-15T08:53:32.714248Z",
     "iopub.status.busy": "2024-07-15T08:53:32.713464Z",
     "iopub.status.idle": "2024-07-15T08:53:32.727980Z",
     "shell.execute_reply": "2024-07-15T08:53:32.726827Z"
    },
    "papermill": {
     "duration": 0.042808,
     "end_time": "2024-07-15T08:53:32.730813",
     "exception": false,
     "start_time": "2024-07-15T08:53:32.688005",
     "status": "completed"
    },
    "tags": []
   },
   "outputs": [],
   "source": [
    "updated_df['host name'] = updated_df['host name'].fillna('unknown')"
   ]
  },
  {
   "cell_type": "code",
   "execution_count": 21,
   "id": "a6e9d35e",
   "metadata": {
    "execution": {
     "iopub.execute_input": "2024-07-15T08:53:32.780330Z",
     "iopub.status.busy": "2024-07-15T08:53:32.779959Z",
     "iopub.status.idle": "2024-07-15T08:53:32.861658Z",
     "shell.execute_reply": "2024-07-15T08:53:32.860395Z"
    },
    "papermill": {
     "duration": 0.109373,
     "end_time": "2024-07-15T08:53:32.864177",
     "exception": false,
     "start_time": "2024-07-15T08:53:32.754804",
     "status": "completed"
    },
    "tags": []
   },
   "outputs": [
    {
     "data": {
      "text/plain": [
       "name                                   0\n",
       "host id                                0\n",
       "host_identity_verified                 0\n",
       "host name                              0\n",
       "neighbourhood group                   27\n",
       "neighbourhood                         16\n",
       "lat                                    8\n",
       "long                                   8\n",
       "country                              527\n",
       "country code                         123\n",
       "instant_bookable                      97\n",
       "cancellation_policy                   71\n",
       "room type                              0\n",
       "Construction year                    205\n",
       "price                                244\n",
       "service fee                          273\n",
       "minimum nights                       403\n",
       "number of reviews                    182\n",
       "last review                        15857\n",
       "reviews per month                  15843\n",
       "review rate number                   318\n",
       "calculated host listings count       318\n",
       "availability 365                     430\n",
       "house_rules                        52025\n",
       "license                           102347\n",
       "dtype: int64"
      ]
     },
     "execution_count": 21,
     "metadata": {},
     "output_type": "execute_result"
    }
   ],
   "source": [
    "updated_df.isna().sum()"
   ]
  },
  {
   "cell_type": "code",
   "execution_count": 22,
   "id": "99646543",
   "metadata": {
    "execution": {
     "iopub.execute_input": "2024-07-15T08:53:32.915036Z",
     "iopub.status.busy": "2024-07-15T08:53:32.914642Z",
     "iopub.status.idle": "2024-07-15T08:53:32.932990Z",
     "shell.execute_reply": "2024-07-15T08:53:32.931620Z"
    },
    "papermill": {
     "duration": 0.046179,
     "end_time": "2024-07-15T08:53:32.935418",
     "exception": false,
     "start_time": "2024-07-15T08:53:32.889239",
     "status": "completed"
    },
    "tags": []
   },
   "outputs": [
    {
     "data": {
      "text/html": [
       "<div>\n",
       "<style scoped>\n",
       "    .dataframe tbody tr th:only-of-type {\n",
       "        vertical-align: middle;\n",
       "    }\n",
       "\n",
       "    .dataframe tbody tr th {\n",
       "        vertical-align: top;\n",
       "    }\n",
       "\n",
       "    .dataframe thead th {\n",
       "        text-align: right;\n",
       "    }\n",
       "</style>\n",
       "<table border=\"1\" class=\"dataframe\">\n",
       "  <thead>\n",
       "    <tr style=\"text-align: right;\">\n",
       "      <th></th>\n",
       "      <th>neighbourhood group</th>\n",
       "      <th>neighbourhood</th>\n",
       "    </tr>\n",
       "    <tr>\n",
       "      <th>id</th>\n",
       "      <th></th>\n",
       "      <th></th>\n",
       "    </tr>\n",
       "  </thead>\n",
       "  <tbody>\n",
       "    <tr>\n",
       "      <th>1001254</th>\n",
       "      <td>Brooklyn</td>\n",
       "      <td>Kensington</td>\n",
       "    </tr>\n",
       "    <tr>\n",
       "      <th>1002102</th>\n",
       "      <td>Manhattan</td>\n",
       "      <td>Midtown</td>\n",
       "    </tr>\n",
       "    <tr>\n",
       "      <th>1002403</th>\n",
       "      <td>Manhattan</td>\n",
       "      <td>Harlem</td>\n",
       "    </tr>\n",
       "    <tr>\n",
       "      <th>1003689</th>\n",
       "      <td>Manhattan</td>\n",
       "      <td>East Harlem</td>\n",
       "    </tr>\n",
       "    <tr>\n",
       "      <th>1004098</th>\n",
       "      <td>Manhattan</td>\n",
       "      <td>Murray Hill</td>\n",
       "    </tr>\n",
       "    <tr>\n",
       "      <th>...</th>\n",
       "      <td>...</td>\n",
       "      <td>...</td>\n",
       "    </tr>\n",
       "    <tr>\n",
       "      <th>6092437</th>\n",
       "      <td>Brooklyn</td>\n",
       "      <td>Williamsburg</td>\n",
       "    </tr>\n",
       "    <tr>\n",
       "      <th>6092990</th>\n",
       "      <td>Manhattan</td>\n",
       "      <td>Morningside Heights</td>\n",
       "    </tr>\n",
       "    <tr>\n",
       "      <th>6093542</th>\n",
       "      <td>Brooklyn</td>\n",
       "      <td>Park Slope</td>\n",
       "    </tr>\n",
       "    <tr>\n",
       "      <th>6094094</th>\n",
       "      <td>Queens</td>\n",
       "      <td>Long Island City</td>\n",
       "    </tr>\n",
       "    <tr>\n",
       "      <th>6094647</th>\n",
       "      <td>Manhattan</td>\n",
       "      <td>Upper West Side</td>\n",
       "    </tr>\n",
       "  </tbody>\n",
       "</table>\n",
       "<p>102349 rows × 2 columns</p>\n",
       "</div>"
      ],
      "text/plain": [
       "        neighbourhood group        neighbourhood\n",
       "id                                              \n",
       "1001254            Brooklyn           Kensington\n",
       "1002102           Manhattan              Midtown\n",
       "1002403           Manhattan               Harlem\n",
       "1003689           Manhattan          East Harlem\n",
       "1004098           Manhattan          Murray Hill\n",
       "...                     ...                  ...\n",
       "6092437            Brooklyn         Williamsburg\n",
       "6092990           Manhattan  Morningside Heights\n",
       "6093542            Brooklyn           Park Slope\n",
       "6094094              Queens     Long Island City\n",
       "6094647           Manhattan      Upper West Side\n",
       "\n",
       "[102349 rows x 2 columns]"
      ]
     },
     "execution_count": 22,
     "metadata": {},
     "output_type": "execute_result"
    }
   ],
   "source": [
    "updated_df.loc[:,'neighbourhood group':'neighbourhood']"
   ]
  },
  {
   "cell_type": "code",
   "execution_count": 23,
   "id": "9be59625",
   "metadata": {
    "execution": {
     "iopub.execute_input": "2024-07-15T08:53:32.986897Z",
     "iopub.status.busy": "2024-07-15T08:53:32.986498Z",
     "iopub.status.idle": "2024-07-15T08:53:33.018706Z",
     "shell.execute_reply": "2024-07-15T08:53:33.017500Z"
    },
    "papermill": {
     "duration": 0.060632,
     "end_time": "2024-07-15T08:53:33.021297",
     "exception": false,
     "start_time": "2024-07-15T08:53:32.960665",
     "status": "completed"
    },
    "tags": []
   },
   "outputs": [
    {
     "data": {
      "text/plain": [
       "neighbourhood group  neighbourhood\n",
       "Bronx                Allerton         97\n",
       "                     Baychester       29\n",
       "                     Belmont          45\n",
       "                     Bronxdale        47\n",
       "                     Castle Hill      22\n",
       "                                      ..\n",
       "Staten Island        Westerleigh       5\n",
       "                     Willowbrook       3\n",
       "                     Woodrow           3\n",
       "brookln              South Slope       1\n",
       "manhatan             Chelsea           1\n",
       "Name: name, Length: 226, dtype: int64"
      ]
     },
     "execution_count": 23,
     "metadata": {},
     "output_type": "execute_result"
    }
   ],
   "source": [
    "updated_df.groupby(['neighbourhood group','neighbourhood']).name.count()"
   ]
  },
  {
   "cell_type": "code",
   "execution_count": 24,
   "id": "3cb2f1f5",
   "metadata": {
    "execution": {
     "iopub.execute_input": "2024-07-15T08:53:33.072283Z",
     "iopub.status.busy": "2024-07-15T08:53:33.071885Z",
     "iopub.status.idle": "2024-07-15T08:53:33.125060Z",
     "shell.execute_reply": "2024-07-15T08:53:33.123530Z"
    },
    "papermill": {
     "duration": 0.081705,
     "end_time": "2024-07-15T08:53:33.127679",
     "exception": false,
     "start_time": "2024-07-15T08:53:33.045974",
     "status": "completed"
    },
    "tags": []
   },
   "outputs": [
    {
     "data": {
      "text/html": [
       "<div>\n",
       "<style scoped>\n",
       "    .dataframe tbody tr th:only-of-type {\n",
       "        vertical-align: middle;\n",
       "    }\n",
       "\n",
       "    .dataframe tbody tr th {\n",
       "        vertical-align: top;\n",
       "    }\n",
       "\n",
       "    .dataframe thead th {\n",
       "        text-align: right;\n",
       "    }\n",
       "</style>\n",
       "<table border=\"1\" class=\"dataframe\">\n",
       "  <thead>\n",
       "    <tr style=\"text-align: right;\">\n",
       "      <th></th>\n",
       "      <th>name</th>\n",
       "      <th>host id</th>\n",
       "      <th>host_identity_verified</th>\n",
       "      <th>host name</th>\n",
       "      <th>neighbourhood group</th>\n",
       "      <th>neighbourhood</th>\n",
       "      <th>lat</th>\n",
       "      <th>long</th>\n",
       "      <th>country</th>\n",
       "      <th>country code</th>\n",
       "      <th>...</th>\n",
       "      <th>service fee</th>\n",
       "      <th>minimum nights</th>\n",
       "      <th>number of reviews</th>\n",
       "      <th>last review</th>\n",
       "      <th>reviews per month</th>\n",
       "      <th>review rate number</th>\n",
       "      <th>calculated host listings count</th>\n",
       "      <th>availability 365</th>\n",
       "      <th>house_rules</th>\n",
       "      <th>license</th>\n",
       "    </tr>\n",
       "    <tr>\n",
       "      <th>id</th>\n",
       "      <th></th>\n",
       "      <th></th>\n",
       "      <th></th>\n",
       "      <th></th>\n",
       "      <th></th>\n",
       "      <th></th>\n",
       "      <th></th>\n",
       "      <th></th>\n",
       "      <th></th>\n",
       "      <th></th>\n",
       "      <th></th>\n",
       "      <th></th>\n",
       "      <th></th>\n",
       "      <th></th>\n",
       "      <th></th>\n",
       "      <th></th>\n",
       "      <th></th>\n",
       "      <th></th>\n",
       "      <th></th>\n",
       "      <th></th>\n",
       "      <th></th>\n",
       "    </tr>\n",
       "  </thead>\n",
       "  <tbody>\n",
       "    <tr>\n",
       "      <th>1283561</th>\n",
       "      <td>A PRIVATE FLAT / APARTMENT- $SPECIAL$</td>\n",
       "      <td>25554233693</td>\n",
       "      <td>unconfirmed</td>\n",
       "      <td>Alford</td>\n",
       "      <td>Bronx</td>\n",
       "      <td>Allerton</td>\n",
       "      <td>40.86466</td>\n",
       "      <td>-73.85709</td>\n",
       "      <td>United States</td>\n",
       "      <td>US</td>\n",
       "      <td>...</td>\n",
       "      <td>$15</td>\n",
       "      <td>2.0</td>\n",
       "      <td>271.0</td>\n",
       "      <td>6/20/2019</td>\n",
       "      <td>2.84</td>\n",
       "      <td>1.0</td>\n",
       "      <td>2.0</td>\n",
       "      <td>NaN</td>\n",
       "      <td>Please remember that this is a residential bui...</td>\n",
       "      <td>NaN</td>\n",
       "    </tr>\n",
       "    <tr>\n",
       "      <th>1646422</th>\n",
       "      <td>Hi Traveler.. welcome</td>\n",
       "      <td>39562464038</td>\n",
       "      <td>verified</td>\n",
       "      <td>Ellen</td>\n",
       "      <td>Bronx</td>\n",
       "      <td>Allerton</td>\n",
       "      <td>40.86870</td>\n",
       "      <td>-73.85240</td>\n",
       "      <td>United States</td>\n",
       "      <td>US</td>\n",
       "      <td>...</td>\n",
       "      <td>$20</td>\n",
       "      <td>7.0</td>\n",
       "      <td>2.0</td>\n",
       "      <td>7/23/2018</td>\n",
       "      <td>0.17</td>\n",
       "      <td>5.0</td>\n",
       "      <td>1.0</td>\n",
       "      <td>165.0</td>\n",
       "      <td>No Smoking No Pets</td>\n",
       "      <td>NaN</td>\n",
       "    </tr>\n",
       "    <tr>\n",
       "      <th>1873418</th>\n",
       "      <td>2 Beds/Queen &amp; Full Beautiful Room 40 minsT.Sq...</td>\n",
       "      <td>62351131714</td>\n",
       "      <td>unconfirmed</td>\n",
       "      <td>Enrique</td>\n",
       "      <td>Bronx</td>\n",
       "      <td>Allerton</td>\n",
       "      <td>40.85956</td>\n",
       "      <td>-73.87067</td>\n",
       "      <td>United States</td>\n",
       "      <td>US</td>\n",
       "      <td>...</td>\n",
       "      <td>$232</td>\n",
       "      <td>2.0</td>\n",
       "      <td>169.0</td>\n",
       "      <td>6/12/2019</td>\n",
       "      <td>2.07</td>\n",
       "      <td>1.0</td>\n",
       "      <td>4.0</td>\n",
       "      <td>359.0</td>\n",
       "      <td>- No Smoking In the House.  There is a back po...</td>\n",
       "      <td>NaN</td>\n",
       "    </tr>\n",
       "    <tr>\n",
       "      <th>1922020</th>\n",
       "      <td>PRIVATE BATH/TONS OF SUNLIGHT/SAFE</td>\n",
       "      <td>77129391486</td>\n",
       "      <td>unconfirmed</td>\n",
       "      <td>Enrique</td>\n",
       "      <td>Bronx</td>\n",
       "      <td>Allerton</td>\n",
       "      <td>40.85840</td>\n",
       "      <td>-73.86969</td>\n",
       "      <td>United States</td>\n",
       "      <td>US</td>\n",
       "      <td>...</td>\n",
       "      <td>$109</td>\n",
       "      <td>2.0</td>\n",
       "      <td>189.0</td>\n",
       "      <td>6/23/2019</td>\n",
       "      <td>2.32</td>\n",
       "      <td>2.0</td>\n",
       "      <td>4.0</td>\n",
       "      <td>393.0</td>\n",
       "      <td>Quiet hours are from midnight to 6 a.m.  We as...</td>\n",
       "      <td>NaN</td>\n",
       "    </tr>\n",
       "    <tr>\n",
       "      <th>1944112</th>\n",
       "      <td>Nice beautiful room In the Bronx</td>\n",
       "      <td>51589747151</td>\n",
       "      <td>unconfirmed</td>\n",
       "      <td>Enrique</td>\n",
       "      <td>Bronx</td>\n",
       "      <td>Allerton</td>\n",
       "      <td>40.85914</td>\n",
       "      <td>-73.86979</td>\n",
       "      <td>United States</td>\n",
       "      <td>US</td>\n",
       "      <td>...</td>\n",
       "      <td>$192</td>\n",
       "      <td>1.0</td>\n",
       "      <td>187.0</td>\n",
       "      <td>6/23/2019</td>\n",
       "      <td>2.34</td>\n",
       "      <td>4.0</td>\n",
       "      <td>4.0</td>\n",
       "      <td>313.0</td>\n",
       "      <td>NaN</td>\n",
       "      <td>NaN</td>\n",
       "    </tr>\n",
       "    <tr>\n",
       "      <th>...</th>\n",
       "      <td>...</td>\n",
       "      <td>...</td>\n",
       "      <td>...</td>\n",
       "      <td>...</td>\n",
       "      <td>...</td>\n",
       "      <td>...</td>\n",
       "      <td>...</td>\n",
       "      <td>...</td>\n",
       "      <td>...</td>\n",
       "      <td>...</td>\n",
       "      <td>...</td>\n",
       "      <td>...</td>\n",
       "      <td>...</td>\n",
       "      <td>...</td>\n",
       "      <td>...</td>\n",
       "      <td>...</td>\n",
       "      <td>...</td>\n",
       "      <td>...</td>\n",
       "      <td>...</td>\n",
       "      <td>...</td>\n",
       "      <td>...</td>\n",
       "    </tr>\n",
       "    <tr>\n",
       "      <th>54298838</th>\n",
       "      <td>#ERROR!</td>\n",
       "      <td>41841353089</td>\n",
       "      <td>verified</td>\n",
       "      <td>William</td>\n",
       "      <td>Bronx</td>\n",
       "      <td>Allerton</td>\n",
       "      <td>40.86014</td>\n",
       "      <td>-73.86301</td>\n",
       "      <td>United States</td>\n",
       "      <td>US</td>\n",
       "      <td>...</td>\n",
       "      <td>$173</td>\n",
       "      <td>1.0</td>\n",
       "      <td>30.0</td>\n",
       "      <td>7/2/2019</td>\n",
       "      <td>2.56</td>\n",
       "      <td>4.0</td>\n",
       "      <td>5.0</td>\n",
       "      <td>48.0</td>\n",
       "      <td>The apartment is non-smoking and pets are not ...</td>\n",
       "      <td>NaN</td>\n",
       "    </tr>\n",
       "    <tr>\n",
       "      <th>54299943</th>\n",
       "      <td>❤️ Beautiful, Bright Room - Late Self Check-In...</td>\n",
       "      <td>14682176495</td>\n",
       "      <td>unconfirmed</td>\n",
       "      <td>William</td>\n",
       "      <td>Bronx</td>\n",
       "      <td>Allerton</td>\n",
       "      <td>40.86013</td>\n",
       "      <td>-73.86339</td>\n",
       "      <td>United States</td>\n",
       "      <td>US</td>\n",
       "      <td>...</td>\n",
       "      <td>$115</td>\n",
       "      <td>1.0</td>\n",
       "      <td>30.0</td>\n",
       "      <td>7/2/2019</td>\n",
       "      <td>2.56</td>\n",
       "      <td>2.0</td>\n",
       "      <td>5.0</td>\n",
       "      <td>57.0</td>\n",
       "      <td>NaN</td>\n",
       "      <td>NaN</td>\n",
       "    </tr>\n",
       "    <tr>\n",
       "      <th>54394386</th>\n",
       "      <td>Private Room</td>\n",
       "      <td>56063277482</td>\n",
       "      <td>verified</td>\n",
       "      <td>Momo</td>\n",
       "      <td>Bronx</td>\n",
       "      <td>Allerton</td>\n",
       "      <td>40.86659</td>\n",
       "      <td>-73.86600</td>\n",
       "      <td>United States</td>\n",
       "      <td>US</td>\n",
       "      <td>...</td>\n",
       "      <td>$17</td>\n",
       "      <td>2.0</td>\n",
       "      <td>0.0</td>\n",
       "      <td>NaN</td>\n",
       "      <td>NaN</td>\n",
       "      <td>3.0</td>\n",
       "      <td>1.0</td>\n",
       "      <td>0.0</td>\n",
       "      <td>Please remember that this is a residential bui...</td>\n",
       "      <td>NaN</td>\n",
       "    </tr>\n",
       "    <tr>\n",
       "      <th>54797565</th>\n",
       "      <td>Jay's Studio Apartment</td>\n",
       "      <td>78419675640</td>\n",
       "      <td>unconfirmed</td>\n",
       "      <td>Jehan</td>\n",
       "      <td>Bronx</td>\n",
       "      <td>Allerton</td>\n",
       "      <td>40.87015</td>\n",
       "      <td>-73.85582</td>\n",
       "      <td>United States</td>\n",
       "      <td>US</td>\n",
       "      <td>...</td>\n",
       "      <td>$208</td>\n",
       "      <td>4.0</td>\n",
       "      <td>35.0</td>\n",
       "      <td>7/1/2019</td>\n",
       "      <td>3.13</td>\n",
       "      <td>4.0</td>\n",
       "      <td>1.0</td>\n",
       "      <td>169.0</td>\n",
       "      <td>#NAME?</td>\n",
       "      <td>NaN</td>\n",
       "    </tr>\n",
       "    <tr>\n",
       "      <th>35567584</th>\n",
       "      <td>Hiéroglyphe</td>\n",
       "      <td>97219387634</td>\n",
       "      <td>verified</td>\n",
       "      <td>Yero</td>\n",
       "      <td>Bronx</td>\n",
       "      <td>Allerton</td>\n",
       "      <td>40.86754</td>\n",
       "      <td>-73.85472</td>\n",
       "      <td>United States</td>\n",
       "      <td>US</td>\n",
       "      <td>...</td>\n",
       "      <td>$129</td>\n",
       "      <td>30.0</td>\n",
       "      <td>76.0</td>\n",
       "      <td>11/7/2021</td>\n",
       "      <td>1.64</td>\n",
       "      <td>2.0</td>\n",
       "      <td>1.0</td>\n",
       "      <td>82.0</td>\n",
       "      <td>NaN</td>\n",
       "      <td>NaN</td>\n",
       "    </tr>\n",
       "  </tbody>\n",
       "</table>\n",
       "<p>97 rows × 25 columns</p>\n",
       "</div>"
      ],
      "text/plain": [
       "                                                       name      host id  \\\n",
       "id                                                                         \n",
       "1283561               A PRIVATE FLAT / APARTMENT- $SPECIAL$  25554233693   \n",
       "1646422                               Hi Traveler.. welcome  39562464038   \n",
       "1873418   2 Beds/Queen & Full Beautiful Room 40 minsT.Sq...  62351131714   \n",
       "1922020                  PRIVATE BATH/TONS OF SUNLIGHT/SAFE  77129391486   \n",
       "1944112                    Nice beautiful room In the Bronx  51589747151   \n",
       "...                                                     ...          ...   \n",
       "54298838                                            #ERROR!  41841353089   \n",
       "54299943  ❤️ Beautiful, Bright Room - Late Self Check-In...  14682176495   \n",
       "54394386                                       Private Room  56063277482   \n",
       "54797565                             Jay's Studio Apartment  78419675640   \n",
       "35567584                                        Hiéroglyphe  97219387634   \n",
       "\n",
       "         host_identity_verified host name neighbourhood group neighbourhood  \\\n",
       "id                                                                            \n",
       "1283561             unconfirmed    Alford               Bronx      Allerton   \n",
       "1646422                verified     Ellen               Bronx      Allerton   \n",
       "1873418             unconfirmed   Enrique               Bronx      Allerton   \n",
       "1922020             unconfirmed   Enrique               Bronx      Allerton   \n",
       "1944112             unconfirmed   Enrique               Bronx      Allerton   \n",
       "...                         ...       ...                 ...           ...   \n",
       "54298838               verified   William               Bronx      Allerton   \n",
       "54299943            unconfirmed   William               Bronx      Allerton   \n",
       "54394386               verified      Momo               Bronx      Allerton   \n",
       "54797565            unconfirmed     Jehan               Bronx      Allerton   \n",
       "35567584               verified      Yero               Bronx      Allerton   \n",
       "\n",
       "               lat      long        country country code  ... service fee  \\\n",
       "id                                                        ...               \n",
       "1283561   40.86466 -73.85709  United States           US  ...        $15    \n",
       "1646422   40.86870 -73.85240  United States           US  ...        $20    \n",
       "1873418   40.85956 -73.87067  United States           US  ...       $232    \n",
       "1922020   40.85840 -73.86969  United States           US  ...       $109    \n",
       "1944112   40.85914 -73.86979  United States           US  ...       $192    \n",
       "...            ...       ...            ...          ...  ...         ...   \n",
       "54298838  40.86014 -73.86301  United States           US  ...       $173    \n",
       "54299943  40.86013 -73.86339  United States           US  ...       $115    \n",
       "54394386  40.86659 -73.86600  United States           US  ...        $17    \n",
       "54797565  40.87015 -73.85582  United States           US  ...       $208    \n",
       "35567584  40.86754 -73.85472  United States           US  ...       $129    \n",
       "\n",
       "         minimum nights number of reviews  last review reviews per month  \\\n",
       "id                                                                         \n",
       "1283561             2.0             271.0    6/20/2019              2.84   \n",
       "1646422             7.0               2.0    7/23/2018              0.17   \n",
       "1873418             2.0             169.0    6/12/2019              2.07   \n",
       "1922020             2.0             189.0    6/23/2019              2.32   \n",
       "1944112             1.0             187.0    6/23/2019              2.34   \n",
       "...                 ...               ...          ...               ...   \n",
       "54298838            1.0              30.0     7/2/2019              2.56   \n",
       "54299943            1.0              30.0     7/2/2019              2.56   \n",
       "54394386            2.0               0.0          NaN               NaN   \n",
       "54797565            4.0              35.0     7/1/2019              3.13   \n",
       "35567584           30.0              76.0    11/7/2021              1.64   \n",
       "\n",
       "         review rate number  calculated host listings count  availability 365  \\\n",
       "id                                                                              \n",
       "1283561                 1.0                             2.0               NaN   \n",
       "1646422                 5.0                             1.0             165.0   \n",
       "1873418                 1.0                             4.0             359.0   \n",
       "1922020                 2.0                             4.0             393.0   \n",
       "1944112                 4.0                             4.0             313.0   \n",
       "...                     ...                             ...               ...   \n",
       "54298838                4.0                             5.0              48.0   \n",
       "54299943                2.0                             5.0              57.0   \n",
       "54394386                3.0                             1.0               0.0   \n",
       "54797565                4.0                             1.0             169.0   \n",
       "35567584                2.0                             1.0              82.0   \n",
       "\n",
       "                                                house_rules  license  \n",
       "id                                                                    \n",
       "1283561   Please remember that this is a residential bui...      NaN  \n",
       "1646422                                  No Smoking No Pets      NaN  \n",
       "1873418   - No Smoking In the House.  There is a back po...      NaN  \n",
       "1922020   Quiet hours are from midnight to 6 a.m.  We as...      NaN  \n",
       "1944112                                                 NaN      NaN  \n",
       "...                                                     ...      ...  \n",
       "54298838  The apartment is non-smoking and pets are not ...      NaN  \n",
       "54299943                                                NaN      NaN  \n",
       "54394386  Please remember that this is a residential bui...      NaN  \n",
       "54797565                                             #NAME?      NaN  \n",
       "35567584                                                NaN      NaN  \n",
       "\n",
       "[97 rows x 25 columns]"
      ]
     },
     "execution_count": 24,
     "metadata": {},
     "output_type": "execute_result"
    }
   ],
   "source": [
    "updated_df.loc[(updated_df['neighbourhood group'] == 'Bronx') & (updated_df['neighbourhood'] == 'Allerton')]"
   ]
  },
  {
   "cell_type": "markdown",
   "id": "2286875e",
   "metadata": {
    "papermill": {
     "duration": 0.026176,
     "end_time": "2024-07-15T08:53:33.181554",
     "exception": false,
     "start_time": "2024-07-15T08:53:33.155378",
     "status": "completed"
    },
    "tags": []
   },
   "source": [
    "**We are combining both neighbourhood group and neighbourhood to make a single column area**"
   ]
  },
  {
   "cell_type": "code",
   "execution_count": 25,
   "id": "35be84c7",
   "metadata": {
    "execution": {
     "iopub.execute_input": "2024-07-15T08:53:33.234373Z",
     "iopub.status.busy": "2024-07-15T08:53:33.233976Z",
     "iopub.status.idle": "2024-07-15T08:53:33.277646Z",
     "shell.execute_reply": "2024-07-15T08:53:33.276322Z"
    },
    "papermill": {
     "duration": 0.073636,
     "end_time": "2024-07-15T08:53:33.280482",
     "exception": false,
     "start_time": "2024-07-15T08:53:33.206846",
     "status": "completed"
    },
    "tags": []
   },
   "outputs": [],
   "source": [
    "updated_df['area'] = updated_df['neighbourhood group'] + ' '+ updated_df['neighbourhood']"
   ]
  },
  {
   "cell_type": "markdown",
   "id": "1aa63922",
   "metadata": {
    "papermill": {
     "duration": 0.025454,
     "end_time": "2024-07-15T08:53:33.331175",
     "exception": false,
     "start_time": "2024-07-15T08:53:33.305721",
     "status": "completed"
    },
    "tags": []
   },
   "source": [
    "**now we can drop neighbourhood group and neighbourhood and lat and long as well since location is already there and they don't add more value**"
   ]
  },
  {
   "cell_type": "code",
   "execution_count": 26,
   "id": "4102d915",
   "metadata": {
    "execution": {
     "iopub.execute_input": "2024-07-15T08:53:33.385610Z",
     "iopub.status.busy": "2024-07-15T08:53:33.385229Z",
     "iopub.status.idle": "2024-07-15T08:53:33.423925Z",
     "shell.execute_reply": "2024-07-15T08:53:33.422778Z"
    },
    "papermill": {
     "duration": 0.069381,
     "end_time": "2024-07-15T08:53:33.426539",
     "exception": false,
     "start_time": "2024-07-15T08:53:33.357158",
     "status": "completed"
    },
    "tags": []
   },
   "outputs": [],
   "source": [
    "updated_df.drop(columns = ['lat','long'],inplace = True)"
   ]
  },
  {
   "cell_type": "code",
   "execution_count": 27,
   "id": "913dfc0d",
   "metadata": {
    "execution": {
     "iopub.execute_input": "2024-07-15T08:53:33.479495Z",
     "iopub.status.busy": "2024-07-15T08:53:33.479134Z",
     "iopub.status.idle": "2024-07-15T08:53:33.566624Z",
     "shell.execute_reply": "2024-07-15T08:53:33.565601Z"
    },
    "papermill": {
     "duration": 0.116992,
     "end_time": "2024-07-15T08:53:33.569009",
     "exception": false,
     "start_time": "2024-07-15T08:53:33.452017",
     "status": "completed"
    },
    "tags": []
   },
   "outputs": [
    {
     "data": {
      "text/plain": [
       "name                                   0\n",
       "host id                                0\n",
       "host_identity_verified                 0\n",
       "host name                              0\n",
       "neighbourhood group                   27\n",
       "neighbourhood                         16\n",
       "country                              527\n",
       "country code                         123\n",
       "instant_bookable                      97\n",
       "cancellation_policy                   71\n",
       "room type                              0\n",
       "Construction year                    205\n",
       "price                                244\n",
       "service fee                          273\n",
       "minimum nights                       403\n",
       "number of reviews                    182\n",
       "last review                        15857\n",
       "reviews per month                  15843\n",
       "review rate number                   318\n",
       "calculated host listings count       318\n",
       "availability 365                     430\n",
       "house_rules                        52025\n",
       "license                           102347\n",
       "area                                  43\n",
       "dtype: int64"
      ]
     },
     "execution_count": 27,
     "metadata": {},
     "output_type": "execute_result"
    }
   ],
   "source": [
    "updated_df.isna().sum()"
   ]
  },
  {
   "cell_type": "code",
   "execution_count": 28,
   "id": "48ae1f3f",
   "metadata": {
    "execution": {
     "iopub.execute_input": "2024-07-15T08:53:33.621436Z",
     "iopub.status.busy": "2024-07-15T08:53:33.620527Z",
     "iopub.status.idle": "2024-07-15T08:53:33.635105Z",
     "shell.execute_reply": "2024-07-15T08:53:33.634098Z"
    },
    "papermill": {
     "duration": 0.043126,
     "end_time": "2024-07-15T08:53:33.637366",
     "exception": false,
     "start_time": "2024-07-15T08:53:33.594240",
     "status": "completed"
    },
    "tags": []
   },
   "outputs": [
    {
     "data": {
      "text/html": [
       "<div>\n",
       "<style scoped>\n",
       "    .dataframe tbody tr th:only-of-type {\n",
       "        vertical-align: middle;\n",
       "    }\n",
       "\n",
       "    .dataframe tbody tr th {\n",
       "        vertical-align: top;\n",
       "    }\n",
       "\n",
       "    .dataframe thead th {\n",
       "        text-align: right;\n",
       "    }\n",
       "</style>\n",
       "<table border=\"1\" class=\"dataframe\">\n",
       "  <thead>\n",
       "    <tr style=\"text-align: right;\">\n",
       "      <th></th>\n",
       "      <th>country</th>\n",
       "      <th>country code</th>\n",
       "    </tr>\n",
       "    <tr>\n",
       "      <th>id</th>\n",
       "      <th></th>\n",
       "      <th></th>\n",
       "    </tr>\n",
       "  </thead>\n",
       "  <tbody>\n",
       "    <tr>\n",
       "      <th>1001254</th>\n",
       "      <td>United States</td>\n",
       "      <td>US</td>\n",
       "    </tr>\n",
       "    <tr>\n",
       "      <th>1002102</th>\n",
       "      <td>United States</td>\n",
       "      <td>US</td>\n",
       "    </tr>\n",
       "    <tr>\n",
       "      <th>1002403</th>\n",
       "      <td>United States</td>\n",
       "      <td>US</td>\n",
       "    </tr>\n",
       "    <tr>\n",
       "      <th>1003689</th>\n",
       "      <td>United States</td>\n",
       "      <td>US</td>\n",
       "    </tr>\n",
       "    <tr>\n",
       "      <th>1004098</th>\n",
       "      <td>United States</td>\n",
       "      <td>US</td>\n",
       "    </tr>\n",
       "    <tr>\n",
       "      <th>...</th>\n",
       "      <td>...</td>\n",
       "      <td>...</td>\n",
       "    </tr>\n",
       "    <tr>\n",
       "      <th>6092437</th>\n",
       "      <td>United States</td>\n",
       "      <td>US</td>\n",
       "    </tr>\n",
       "    <tr>\n",
       "      <th>6092990</th>\n",
       "      <td>United States</td>\n",
       "      <td>US</td>\n",
       "    </tr>\n",
       "    <tr>\n",
       "      <th>6093542</th>\n",
       "      <td>United States</td>\n",
       "      <td>US</td>\n",
       "    </tr>\n",
       "    <tr>\n",
       "      <th>6094094</th>\n",
       "      <td>United States</td>\n",
       "      <td>US</td>\n",
       "    </tr>\n",
       "    <tr>\n",
       "      <th>6094647</th>\n",
       "      <td>United States</td>\n",
       "      <td>US</td>\n",
       "    </tr>\n",
       "  </tbody>\n",
       "</table>\n",
       "<p>102349 rows × 2 columns</p>\n",
       "</div>"
      ],
      "text/plain": [
       "               country country code\n",
       "id                                 \n",
       "1001254  United States           US\n",
       "1002102  United States           US\n",
       "1002403  United States           US\n",
       "1003689  United States           US\n",
       "1004098  United States           US\n",
       "...                ...          ...\n",
       "6092437  United States           US\n",
       "6092990  United States           US\n",
       "6093542  United States           US\n",
       "6094094  United States           US\n",
       "6094647  United States           US\n",
       "\n",
       "[102349 rows x 2 columns]"
      ]
     },
     "execution_count": 28,
     "metadata": {},
     "output_type": "execute_result"
    }
   ],
   "source": [
    "updated_df.loc[:,'country':'country code']"
   ]
  },
  {
   "cell_type": "code",
   "execution_count": 29,
   "id": "94eab0d8",
   "metadata": {
    "execution": {
     "iopub.execute_input": "2024-07-15T08:53:33.690088Z",
     "iopub.status.busy": "2024-07-15T08:53:33.689713Z",
     "iopub.status.idle": "2024-07-15T08:53:33.698994Z",
     "shell.execute_reply": "2024-07-15T08:53:33.697850Z"
    },
    "papermill": {
     "duration": 0.038248,
     "end_time": "2024-07-15T08:53:33.701106",
     "exception": false,
     "start_time": "2024-07-15T08:53:33.662858",
     "status": "completed"
    },
    "tags": []
   },
   "outputs": [
    {
     "data": {
      "text/plain": [
       "array(['United States', nan], dtype=object)"
      ]
     },
     "execution_count": 29,
     "metadata": {},
     "output_type": "execute_result"
    }
   ],
   "source": [
    "updated_df.country.unique()"
   ]
  },
  {
   "cell_type": "markdown",
   "id": "a35ca938",
   "metadata": {
    "papermill": {
     "duration": 0.025226,
     "end_time": "2024-07-15T08:53:33.752189",
     "exception": false,
     "start_time": "2024-07-15T08:53:33.726963",
     "status": "completed"
    },
    "tags": []
   },
   "source": [
    "**whole dataset have only 1 country and 1 countrycode so we can drop both of them**"
   ]
  },
  {
   "cell_type": "code",
   "execution_count": 30,
   "id": "7af57ee8",
   "metadata": {
    "execution": {
     "iopub.execute_input": "2024-07-15T08:53:33.807283Z",
     "iopub.status.busy": "2024-07-15T08:53:33.806894Z",
     "iopub.status.idle": "2024-07-15T08:53:33.843616Z",
     "shell.execute_reply": "2024-07-15T08:53:33.842343Z"
    },
    "papermill": {
     "duration": 0.067356,
     "end_time": "2024-07-15T08:53:33.846374",
     "exception": false,
     "start_time": "2024-07-15T08:53:33.779018",
     "status": "completed"
    },
    "tags": []
   },
   "outputs": [],
   "source": [
    "updated_df.drop(columns = ['country','country code'],inplace = True)"
   ]
  },
  {
   "cell_type": "code",
   "execution_count": 31,
   "id": "c7bb1eb5",
   "metadata": {
    "execution": {
     "iopub.execute_input": "2024-07-15T08:53:33.900646Z",
     "iopub.status.busy": "2024-07-15T08:53:33.900241Z",
     "iopub.status.idle": "2024-07-15T08:53:33.976817Z",
     "shell.execute_reply": "2024-07-15T08:53:33.975585Z"
    },
    "papermill": {
     "duration": 0.107268,
     "end_time": "2024-07-15T08:53:33.979414",
     "exception": false,
     "start_time": "2024-07-15T08:53:33.872146",
     "status": "completed"
    },
    "tags": []
   },
   "outputs": [
    {
     "data": {
      "text/plain": [
       "name                                   0\n",
       "host id                                0\n",
       "host_identity_verified                 0\n",
       "host name                              0\n",
       "neighbourhood group                   27\n",
       "neighbourhood                         16\n",
       "instant_bookable                      97\n",
       "cancellation_policy                   71\n",
       "room type                              0\n",
       "Construction year                    205\n",
       "price                                244\n",
       "service fee                          273\n",
       "minimum nights                       403\n",
       "number of reviews                    182\n",
       "last review                        15857\n",
       "reviews per month                  15843\n",
       "review rate number                   318\n",
       "calculated host listings count       318\n",
       "availability 365                     430\n",
       "house_rules                        52025\n",
       "license                           102347\n",
       "area                                  43\n",
       "dtype: int64"
      ]
     },
     "execution_count": 31,
     "metadata": {},
     "output_type": "execute_result"
    }
   ],
   "source": [
    "updated_df.isna().sum()"
   ]
  },
  {
   "cell_type": "code",
   "execution_count": 32,
   "id": "dca60d21",
   "metadata": {
    "execution": {
     "iopub.execute_input": "2024-07-15T08:53:34.032630Z",
     "iopub.status.busy": "2024-07-15T08:53:34.032234Z",
     "iopub.status.idle": "2024-07-15T08:53:34.042389Z",
     "shell.execute_reply": "2024-07-15T08:53:34.041267Z"
    },
    "papermill": {
     "duration": 0.039599,
     "end_time": "2024-07-15T08:53:34.044925",
     "exception": false,
     "start_time": "2024-07-15T08:53:34.005326",
     "status": "completed"
    },
    "tags": []
   },
   "outputs": [
    {
     "data": {
      "text/plain": [
       "array([False, True, nan], dtype=object)"
      ]
     },
     "execution_count": 32,
     "metadata": {},
     "output_type": "execute_result"
    }
   ],
   "source": [
    "updated_df['instant_bookable'].unique()"
   ]
  },
  {
   "cell_type": "markdown",
   "id": "ef43bde7",
   "metadata": {
    "papermill": {
     "duration": 0.026289,
     "end_time": "2024-07-15T08:53:34.098768",
     "exception": false,
     "start_time": "2024-07-15T08:53:34.072479",
     "status": "completed"
    },
    "tags": []
   },
   "source": [
    "**we will assign true or false based on the mode(of instant_bookable) of that area**"
   ]
  },
  {
   "cell_type": "code",
   "execution_count": 33,
   "id": "4687f2c2",
   "metadata": {
    "execution": {
     "iopub.execute_input": "2024-07-15T08:53:34.153469Z",
     "iopub.status.busy": "2024-07-15T08:53:34.153081Z",
     "iopub.status.idle": "2024-07-15T08:53:34.170606Z",
     "shell.execute_reply": "2024-07-15T08:53:34.169320Z"
    },
    "papermill": {
     "duration": 0.048063,
     "end_time": "2024-07-15T08:53:34.173292",
     "exception": false,
     "start_time": "2024-07-15T08:53:34.125229",
     "status": "completed"
    },
    "tags": []
   },
   "outputs": [
    {
     "data": {
      "text/plain": [
       "True"
      ]
     },
     "execution_count": 33,
     "metadata": {},
     "output_type": "execute_result"
    }
   ],
   "source": [
    "updated_df.loc[(updated_df['area'] == 'Brooklyn Kensington'),'instant_bookable'].mode()[0]"
   ]
  },
  {
   "cell_type": "code",
   "execution_count": 34,
   "id": "a3ed5739",
   "metadata": {
    "execution": {
     "iopub.execute_input": "2024-07-15T08:53:34.228271Z",
     "iopub.status.busy": "2024-07-15T08:53:34.227886Z",
     "iopub.status.idle": "2024-07-15T08:53:34.234302Z",
     "shell.execute_reply": "2024-07-15T08:53:34.233241Z"
    },
    "papermill": {
     "duration": 0.036938,
     "end_time": "2024-07-15T08:53:34.236860",
     "exception": false,
     "start_time": "2024-07-15T08:53:34.199922",
     "status": "completed"
    },
    "tags": []
   },
   "outputs": [],
   "source": [
    "def update_instant_bookable(x):\n",
    "    if pd.isna(x.instant_bookable):\n",
    "        m = updated_df.loc[(updated_df['area'] == x.area),'instant_bookable'].mode()\n",
    "        if len(m) == 0:\n",
    "            x['instant_bookable'] = 'False'\n",
    "        else:\n",
    "            x['instant_bookable'] = m[0]\n",
    "    return x"
   ]
  },
  {
   "cell_type": "code",
   "execution_count": 35,
   "id": "fd3cc0e7",
   "metadata": {
    "execution": {
     "iopub.execute_input": "2024-07-15T08:53:34.291986Z",
     "iopub.status.busy": "2024-07-15T08:53:34.291623Z",
     "iopub.status.idle": "2024-07-15T08:53:41.535025Z",
     "shell.execute_reply": "2024-07-15T08:53:41.533558Z"
    },
    "papermill": {
     "duration": 7.274941,
     "end_time": "2024-07-15T08:53:41.537834",
     "exception": false,
     "start_time": "2024-07-15T08:53:34.262893",
     "status": "completed"
    },
    "tags": []
   },
   "outputs": [],
   "source": [
    "updated_df = updated_df.apply(update_instant_bookable,axis = 1)\n",
    "#updated_df.apply(update_instant_bookable,axis = 1)"
   ]
  },
  {
   "cell_type": "code",
   "execution_count": 36,
   "id": "2db2f987",
   "metadata": {
    "execution": {
     "iopub.execute_input": "2024-07-15T08:53:41.591239Z",
     "iopub.status.busy": "2024-07-15T08:53:41.590893Z",
     "iopub.status.idle": "2024-07-15T08:53:41.848828Z",
     "shell.execute_reply": "2024-07-15T08:53:41.847723Z"
    },
    "papermill": {
     "duration": 0.287479,
     "end_time": "2024-07-15T08:53:41.851295",
     "exception": false,
     "start_time": "2024-07-15T08:53:41.563816",
     "status": "completed"
    },
    "tags": []
   },
   "outputs": [
    {
     "data": {
      "text/html": [
       "<div>\n",
       "<style scoped>\n",
       "    .dataframe tbody tr th:only-of-type {\n",
       "        vertical-align: middle;\n",
       "    }\n",
       "\n",
       "    .dataframe tbody tr th {\n",
       "        vertical-align: top;\n",
       "    }\n",
       "\n",
       "    .dataframe thead th {\n",
       "        text-align: right;\n",
       "    }\n",
       "</style>\n",
       "<table border=\"1\" class=\"dataframe\">\n",
       "  <thead>\n",
       "    <tr style=\"text-align: right;\">\n",
       "      <th></th>\n",
       "      <th>name</th>\n",
       "      <th>host id</th>\n",
       "      <th>host_identity_verified</th>\n",
       "      <th>host name</th>\n",
       "      <th>neighbourhood group</th>\n",
       "      <th>neighbourhood</th>\n",
       "      <th>instant_bookable</th>\n",
       "      <th>cancellation_policy</th>\n",
       "      <th>room type</th>\n",
       "      <th>Construction year</th>\n",
       "      <th>...</th>\n",
       "      <th>minimum nights</th>\n",
       "      <th>number of reviews</th>\n",
       "      <th>last review</th>\n",
       "      <th>reviews per month</th>\n",
       "      <th>review rate number</th>\n",
       "      <th>calculated host listings count</th>\n",
       "      <th>availability 365</th>\n",
       "      <th>house_rules</th>\n",
       "      <th>license</th>\n",
       "      <th>area</th>\n",
       "    </tr>\n",
       "    <tr>\n",
       "      <th>id</th>\n",
       "      <th></th>\n",
       "      <th></th>\n",
       "      <th></th>\n",
       "      <th></th>\n",
       "      <th></th>\n",
       "      <th></th>\n",
       "      <th></th>\n",
       "      <th></th>\n",
       "      <th></th>\n",
       "      <th></th>\n",
       "      <th></th>\n",
       "      <th></th>\n",
       "      <th></th>\n",
       "      <th></th>\n",
       "      <th></th>\n",
       "      <th></th>\n",
       "      <th></th>\n",
       "      <th></th>\n",
       "      <th></th>\n",
       "      <th></th>\n",
       "      <th></th>\n",
       "    </tr>\n",
       "  </thead>\n",
       "  <tbody>\n",
       "    <tr>\n",
       "      <th>1001254</th>\n",
       "      <td>Clean &amp; quiet apt home by the park</td>\n",
       "      <td>80014485718</td>\n",
       "      <td>unconfirmed</td>\n",
       "      <td>Madaline</td>\n",
       "      <td>Brooklyn</td>\n",
       "      <td>Kensington</td>\n",
       "      <td>False</td>\n",
       "      <td>strict</td>\n",
       "      <td>Private room</td>\n",
       "      <td>2020.0</td>\n",
       "      <td>...</td>\n",
       "      <td>10.0</td>\n",
       "      <td>9.0</td>\n",
       "      <td>10/19/2021</td>\n",
       "      <td>0.21</td>\n",
       "      <td>4.0</td>\n",
       "      <td>6.0</td>\n",
       "      <td>286.0</td>\n",
       "      <td>Clean up and treat the home the way you'd like...</td>\n",
       "      <td>NaN</td>\n",
       "      <td>Brooklyn Kensington</td>\n",
       "    </tr>\n",
       "    <tr>\n",
       "      <th>1002102</th>\n",
       "      <td>Skylit Midtown Castle</td>\n",
       "      <td>52335172823</td>\n",
       "      <td>verified</td>\n",
       "      <td>Jenna</td>\n",
       "      <td>Manhattan</td>\n",
       "      <td>Midtown</td>\n",
       "      <td>False</td>\n",
       "      <td>moderate</td>\n",
       "      <td>Entire home/apt</td>\n",
       "      <td>2007.0</td>\n",
       "      <td>...</td>\n",
       "      <td>30.0</td>\n",
       "      <td>45.0</td>\n",
       "      <td>5/21/2022</td>\n",
       "      <td>0.38</td>\n",
       "      <td>4.0</td>\n",
       "      <td>2.0</td>\n",
       "      <td>228.0</td>\n",
       "      <td>Pet friendly but please confirm with me if the...</td>\n",
       "      <td>NaN</td>\n",
       "      <td>Manhattan Midtown</td>\n",
       "    </tr>\n",
       "    <tr>\n",
       "      <th>1002403</th>\n",
       "      <td>THE VILLAGE OF HARLEM....NEW YORK !</td>\n",
       "      <td>78829239556</td>\n",
       "      <td>unconfirmed</td>\n",
       "      <td>Elise</td>\n",
       "      <td>Manhattan</td>\n",
       "      <td>Harlem</td>\n",
       "      <td>True</td>\n",
       "      <td>flexible</td>\n",
       "      <td>Private room</td>\n",
       "      <td>2005.0</td>\n",
       "      <td>...</td>\n",
       "      <td>3.0</td>\n",
       "      <td>0.0</td>\n",
       "      <td>NaN</td>\n",
       "      <td>NaN</td>\n",
       "      <td>5.0</td>\n",
       "      <td>1.0</td>\n",
       "      <td>352.0</td>\n",
       "      <td>I encourage you to use my kitchen, cooking and...</td>\n",
       "      <td>NaN</td>\n",
       "      <td>Manhattan Harlem</td>\n",
       "    </tr>\n",
       "    <tr>\n",
       "      <th>1003689</th>\n",
       "      <td>Entire Apt: Spacious Studio/Loft by central park</td>\n",
       "      <td>92037596077</td>\n",
       "      <td>verified</td>\n",
       "      <td>Lyndon</td>\n",
       "      <td>Manhattan</td>\n",
       "      <td>East Harlem</td>\n",
       "      <td>False</td>\n",
       "      <td>moderate</td>\n",
       "      <td>Entire home/apt</td>\n",
       "      <td>2009.0</td>\n",
       "      <td>...</td>\n",
       "      <td>10.0</td>\n",
       "      <td>9.0</td>\n",
       "      <td>11/19/2018</td>\n",
       "      <td>0.10</td>\n",
       "      <td>3.0</td>\n",
       "      <td>1.0</td>\n",
       "      <td>289.0</td>\n",
       "      <td>Please no smoking in the house, porch or on th...</td>\n",
       "      <td>NaN</td>\n",
       "      <td>Manhattan East Harlem</td>\n",
       "    </tr>\n",
       "    <tr>\n",
       "      <th>1004098</th>\n",
       "      <td>Large Cozy 1 BR Apartment In Midtown East</td>\n",
       "      <td>45498551794</td>\n",
       "      <td>verified</td>\n",
       "      <td>Michelle</td>\n",
       "      <td>Manhattan</td>\n",
       "      <td>Murray Hill</td>\n",
       "      <td>True</td>\n",
       "      <td>flexible</td>\n",
       "      <td>Entire home/apt</td>\n",
       "      <td>2013.0</td>\n",
       "      <td>...</td>\n",
       "      <td>3.0</td>\n",
       "      <td>74.0</td>\n",
       "      <td>6/22/2019</td>\n",
       "      <td>0.59</td>\n",
       "      <td>3.0</td>\n",
       "      <td>1.0</td>\n",
       "      <td>374.0</td>\n",
       "      <td>No smoking, please, and no drugs.</td>\n",
       "      <td>NaN</td>\n",
       "      <td>Manhattan Murray Hill</td>\n",
       "    </tr>\n",
       "    <tr>\n",
       "      <th>...</th>\n",
       "      <td>...</td>\n",
       "      <td>...</td>\n",
       "      <td>...</td>\n",
       "      <td>...</td>\n",
       "      <td>...</td>\n",
       "      <td>...</td>\n",
       "      <td>...</td>\n",
       "      <td>...</td>\n",
       "      <td>...</td>\n",
       "      <td>...</td>\n",
       "      <td>...</td>\n",
       "      <td>...</td>\n",
       "      <td>...</td>\n",
       "      <td>...</td>\n",
       "      <td>...</td>\n",
       "      <td>...</td>\n",
       "      <td>...</td>\n",
       "      <td>...</td>\n",
       "      <td>...</td>\n",
       "      <td>...</td>\n",
       "      <td>...</td>\n",
       "    </tr>\n",
       "    <tr>\n",
       "      <th>6092437</th>\n",
       "      <td>Spare room in Williamsburg</td>\n",
       "      <td>12312296767</td>\n",
       "      <td>verified</td>\n",
       "      <td>Krik</td>\n",
       "      <td>Brooklyn</td>\n",
       "      <td>Williamsburg</td>\n",
       "      <td>False</td>\n",
       "      <td>flexible</td>\n",
       "      <td>Private room</td>\n",
       "      <td>2003.0</td>\n",
       "      <td>...</td>\n",
       "      <td>1.0</td>\n",
       "      <td>0.0</td>\n",
       "      <td>NaN</td>\n",
       "      <td>NaN</td>\n",
       "      <td>3.0</td>\n",
       "      <td>1.0</td>\n",
       "      <td>227.0</td>\n",
       "      <td>No Smoking No Parties or Events of any kind Pl...</td>\n",
       "      <td>NaN</td>\n",
       "      <td>Brooklyn Williamsburg</td>\n",
       "    </tr>\n",
       "    <tr>\n",
       "      <th>6092990</th>\n",
       "      <td>Best Location near Columbia U</td>\n",
       "      <td>77864383453</td>\n",
       "      <td>unconfirmed</td>\n",
       "      <td>Mifan</td>\n",
       "      <td>Manhattan</td>\n",
       "      <td>Morningside Heights</td>\n",
       "      <td>True</td>\n",
       "      <td>moderate</td>\n",
       "      <td>Private room</td>\n",
       "      <td>2016.0</td>\n",
       "      <td>...</td>\n",
       "      <td>1.0</td>\n",
       "      <td>1.0</td>\n",
       "      <td>7/6/2015</td>\n",
       "      <td>0.02</td>\n",
       "      <td>2.0</td>\n",
       "      <td>2.0</td>\n",
       "      <td>395.0</td>\n",
       "      <td>House rules: Guests agree to the following ter...</td>\n",
       "      <td>NaN</td>\n",
       "      <td>Manhattan Morningside Heights</td>\n",
       "    </tr>\n",
       "    <tr>\n",
       "      <th>6093542</th>\n",
       "      <td>Comfy, bright room in Brooklyn</td>\n",
       "      <td>69050334417</td>\n",
       "      <td>unconfirmed</td>\n",
       "      <td>Megan</td>\n",
       "      <td>Brooklyn</td>\n",
       "      <td>Park Slope</td>\n",
       "      <td>True</td>\n",
       "      <td>moderate</td>\n",
       "      <td>Private room</td>\n",
       "      <td>2009.0</td>\n",
       "      <td>...</td>\n",
       "      <td>3.0</td>\n",
       "      <td>0.0</td>\n",
       "      <td>NaN</td>\n",
       "      <td>NaN</td>\n",
       "      <td>5.0</td>\n",
       "      <td>1.0</td>\n",
       "      <td>342.0</td>\n",
       "      <td>NaN</td>\n",
       "      <td>NaN</td>\n",
       "      <td>Brooklyn Park Slope</td>\n",
       "    </tr>\n",
       "    <tr>\n",
       "      <th>6094094</th>\n",
       "      <td>Big Studio-One Stop from Midtown</td>\n",
       "      <td>11160591270</td>\n",
       "      <td>unconfirmed</td>\n",
       "      <td>Christopher</td>\n",
       "      <td>Queens</td>\n",
       "      <td>Long Island City</td>\n",
       "      <td>True</td>\n",
       "      <td>strict</td>\n",
       "      <td>Entire home/apt</td>\n",
       "      <td>2015.0</td>\n",
       "      <td>...</td>\n",
       "      <td>2.0</td>\n",
       "      <td>5.0</td>\n",
       "      <td>10/11/2015</td>\n",
       "      <td>0.10</td>\n",
       "      <td>3.0</td>\n",
       "      <td>1.0</td>\n",
       "      <td>386.0</td>\n",
       "      <td>NaN</td>\n",
       "      <td>NaN</td>\n",
       "      <td>Queens Long Island City</td>\n",
       "    </tr>\n",
       "    <tr>\n",
       "      <th>6094647</th>\n",
       "      <td>585 sf Luxury Studio</td>\n",
       "      <td>68170633372</td>\n",
       "      <td>unconfirmed</td>\n",
       "      <td>Rebecca</td>\n",
       "      <td>Manhattan</td>\n",
       "      <td>Upper West Side</td>\n",
       "      <td>False</td>\n",
       "      <td>flexible</td>\n",
       "      <td>Entire home/apt</td>\n",
       "      <td>2010.0</td>\n",
       "      <td>...</td>\n",
       "      <td>1.0</td>\n",
       "      <td>0.0</td>\n",
       "      <td>NaN</td>\n",
       "      <td>NaN</td>\n",
       "      <td>3.0</td>\n",
       "      <td>1.0</td>\n",
       "      <td>69.0</td>\n",
       "      <td>NaN</td>\n",
       "      <td>NaN</td>\n",
       "      <td>Manhattan Upper West Side</td>\n",
       "    </tr>\n",
       "  </tbody>\n",
       "</table>\n",
       "<p>102349 rows × 22 columns</p>\n",
       "</div>"
      ],
      "text/plain": [
       "                                                     name      host id  \\\n",
       "id                                                                       \n",
       "1001254                Clean & quiet apt home by the park  80014485718   \n",
       "1002102                             Skylit Midtown Castle  52335172823   \n",
       "1002403               THE VILLAGE OF HARLEM....NEW YORK !  78829239556   \n",
       "1003689  Entire Apt: Spacious Studio/Loft by central park  92037596077   \n",
       "1004098         Large Cozy 1 BR Apartment In Midtown East  45498551794   \n",
       "...                                                   ...          ...   \n",
       "6092437                        Spare room in Williamsburg  12312296767   \n",
       "6092990                     Best Location near Columbia U  77864383453   \n",
       "6093542                    Comfy, bright room in Brooklyn  69050334417   \n",
       "6094094                  Big Studio-One Stop from Midtown  11160591270   \n",
       "6094647                              585 sf Luxury Studio  68170633372   \n",
       "\n",
       "        host_identity_verified    host name neighbourhood group  \\\n",
       "id                                                                \n",
       "1001254            unconfirmed     Madaline            Brooklyn   \n",
       "1002102               verified        Jenna           Manhattan   \n",
       "1002403            unconfirmed        Elise           Manhattan   \n",
       "1003689               verified       Lyndon           Manhattan   \n",
       "1004098               verified     Michelle           Manhattan   \n",
       "...                        ...          ...                 ...   \n",
       "6092437               verified         Krik            Brooklyn   \n",
       "6092990            unconfirmed        Mifan           Manhattan   \n",
       "6093542            unconfirmed        Megan            Brooklyn   \n",
       "6094094            unconfirmed  Christopher              Queens   \n",
       "6094647            unconfirmed      Rebecca           Manhattan   \n",
       "\n",
       "               neighbourhood instant_bookable cancellation_policy  \\\n",
       "id                                                                  \n",
       "1001254           Kensington            False              strict   \n",
       "1002102              Midtown            False            moderate   \n",
       "1002403               Harlem             True            flexible   \n",
       "1003689          East Harlem            False            moderate   \n",
       "1004098          Murray Hill             True            flexible   \n",
       "...                      ...              ...                 ...   \n",
       "6092437         Williamsburg            False            flexible   \n",
       "6092990  Morningside Heights             True            moderate   \n",
       "6093542           Park Slope             True            moderate   \n",
       "6094094     Long Island City             True              strict   \n",
       "6094647      Upper West Side            False            flexible   \n",
       "\n",
       "               room type  Construction year  ... minimum nights  \\\n",
       "id                                           ...                  \n",
       "1001254     Private room             2020.0  ...           10.0   \n",
       "1002102  Entire home/apt             2007.0  ...           30.0   \n",
       "1002403     Private room             2005.0  ...            3.0   \n",
       "1003689  Entire home/apt             2009.0  ...           10.0   \n",
       "1004098  Entire home/apt             2013.0  ...            3.0   \n",
       "...                  ...                ...  ...            ...   \n",
       "6092437     Private room             2003.0  ...            1.0   \n",
       "6092990     Private room             2016.0  ...            1.0   \n",
       "6093542     Private room             2009.0  ...            3.0   \n",
       "6094094  Entire home/apt             2015.0  ...            2.0   \n",
       "6094647  Entire home/apt             2010.0  ...            1.0   \n",
       "\n",
       "        number of reviews  last review  reviews per month review rate number  \\\n",
       "id                                                                             \n",
       "1001254               9.0   10/19/2021               0.21                4.0   \n",
       "1002102              45.0    5/21/2022               0.38                4.0   \n",
       "1002403               0.0          NaN                NaN                5.0   \n",
       "1003689               9.0   11/19/2018               0.10                3.0   \n",
       "1004098              74.0    6/22/2019               0.59                3.0   \n",
       "...                   ...          ...                ...                ...   \n",
       "6092437               0.0          NaN                NaN                3.0   \n",
       "6092990               1.0     7/6/2015               0.02                2.0   \n",
       "6093542               0.0          NaN                NaN                5.0   \n",
       "6094094               5.0   10/11/2015               0.10                3.0   \n",
       "6094647               0.0          NaN                NaN                3.0   \n",
       "\n",
       "         calculated host listings count  availability 365  \\\n",
       "id                                                          \n",
       "1001254                             6.0             286.0   \n",
       "1002102                             2.0             228.0   \n",
       "1002403                             1.0             352.0   \n",
       "1003689                             1.0             289.0   \n",
       "1004098                             1.0             374.0   \n",
       "...                                 ...               ...   \n",
       "6092437                             1.0             227.0   \n",
       "6092990                             2.0             395.0   \n",
       "6093542                             1.0             342.0   \n",
       "6094094                             1.0             386.0   \n",
       "6094647                             1.0              69.0   \n",
       "\n",
       "                                               house_rules  license  \\\n",
       "id                                                                    \n",
       "1001254  Clean up and treat the home the way you'd like...      NaN   \n",
       "1002102  Pet friendly but please confirm with me if the...      NaN   \n",
       "1002403  I encourage you to use my kitchen, cooking and...      NaN   \n",
       "1003689  Please no smoking in the house, porch or on th...      NaN   \n",
       "1004098                  No smoking, please, and no drugs.      NaN   \n",
       "...                                                    ...      ...   \n",
       "6092437  No Smoking No Parties or Events of any kind Pl...      NaN   \n",
       "6092990  House rules: Guests agree to the following ter...      NaN   \n",
       "6093542                                                NaN      NaN   \n",
       "6094094                                                NaN      NaN   \n",
       "6094647                                                NaN      NaN   \n",
       "\n",
       "                                  area  \n",
       "id                                      \n",
       "1001254            Brooklyn Kensington  \n",
       "1002102              Manhattan Midtown  \n",
       "1002403               Manhattan Harlem  \n",
       "1003689          Manhattan East Harlem  \n",
       "1004098          Manhattan Murray Hill  \n",
       "...                                ...  \n",
       "6092437          Brooklyn Williamsburg  \n",
       "6092990  Manhattan Morningside Heights  \n",
       "6093542            Brooklyn Park Slope  \n",
       "6094094        Queens Long Island City  \n",
       "6094647      Manhattan Upper West Side  \n",
       "\n",
       "[102349 rows x 22 columns]"
      ]
     },
     "execution_count": 36,
     "metadata": {},
     "output_type": "execute_result"
    }
   ],
   "source": [
    "updated_df"
   ]
  },
  {
   "cell_type": "markdown",
   "id": "d5104951",
   "metadata": {
    "papermill": {
     "duration": 0.027041,
     "end_time": "2024-07-15T08:53:41.906010",
     "exception": false,
     "start_time": "2024-07-15T08:53:41.878969",
     "status": "completed"
    },
    "tags": []
   },
   "source": [
    "**We need to handle cancelation policy**"
   ]
  },
  {
   "cell_type": "code",
   "execution_count": 37,
   "id": "657abe9b",
   "metadata": {
    "execution": {
     "iopub.execute_input": "2024-07-15T08:53:41.961033Z",
     "iopub.status.busy": "2024-07-15T08:53:41.960356Z",
     "iopub.status.idle": "2024-07-15T08:53:41.974201Z",
     "shell.execute_reply": "2024-07-15T08:53:41.972934Z"
    },
    "papermill": {
     "duration": 0.043828,
     "end_time": "2024-07-15T08:53:41.976389",
     "exception": false,
     "start_time": "2024-07-15T08:53:41.932561",
     "status": "completed"
    },
    "tags": []
   },
   "outputs": [
    {
     "data": {
      "text/plain": [
       "array(['strict', 'moderate', 'flexible', nan], dtype=object)"
      ]
     },
     "execution_count": 37,
     "metadata": {},
     "output_type": "execute_result"
    }
   ],
   "source": [
    "updated_df['cancellation_policy'].unique()"
   ]
  },
  {
   "cell_type": "markdown",
   "id": "45b0c1c9",
   "metadata": {
    "papermill": {
     "duration": 0.026096,
     "end_time": "2024-07-15T08:53:42.029087",
     "exception": false,
     "start_time": "2024-07-15T08:53:42.002991",
     "status": "completed"
    },
    "tags": []
   },
   "source": [
    "**we will make all nan values to flexible since they didn't mention it is not important**"
   ]
  },
  {
   "cell_type": "code",
   "execution_count": 38,
   "id": "d39c9937",
   "metadata": {
    "execution": {
     "iopub.execute_input": "2024-07-15T08:53:42.084220Z",
     "iopub.status.busy": "2024-07-15T08:53:42.083230Z",
     "iopub.status.idle": "2024-07-15T08:53:42.104893Z",
     "shell.execute_reply": "2024-07-15T08:53:42.103619Z"
    },
    "papermill": {
     "duration": 0.052075,
     "end_time": "2024-07-15T08:53:42.107581",
     "exception": false,
     "start_time": "2024-07-15T08:53:42.055506",
     "status": "completed"
    },
    "tags": []
   },
   "outputs": [],
   "source": [
    "updated_df['cancellation_policy'] = updated_df['cancellation_policy'].fillna('flexible')"
   ]
  },
  {
   "cell_type": "code",
   "execution_count": 39,
   "id": "48a4dc19",
   "metadata": {
    "execution": {
     "iopub.execute_input": "2024-07-15T08:53:42.165405Z",
     "iopub.status.busy": "2024-07-15T08:53:42.164350Z",
     "iopub.status.idle": "2024-07-15T08:53:42.273000Z",
     "shell.execute_reply": "2024-07-15T08:53:42.271939Z"
    },
    "papermill": {
     "duration": 0.13967,
     "end_time": "2024-07-15T08:53:42.275249",
     "exception": false,
     "start_time": "2024-07-15T08:53:42.135579",
     "status": "completed"
    },
    "tags": []
   },
   "outputs": [
    {
     "data": {
      "text/plain": [
       "name                                   0\n",
       "host id                                0\n",
       "host_identity_verified                 0\n",
       "host name                              0\n",
       "neighbourhood group                   27\n",
       "neighbourhood                         16\n",
       "instant_bookable                       0\n",
       "cancellation_policy                    0\n",
       "room type                              0\n",
       "Construction year                    205\n",
       "price                                244\n",
       "service fee                          273\n",
       "minimum nights                       403\n",
       "number of reviews                    182\n",
       "last review                        15857\n",
       "reviews per month                  15843\n",
       "review rate number                   318\n",
       "calculated host listings count       318\n",
       "availability 365                     430\n",
       "house_rules                        52025\n",
       "license                           102347\n",
       "area                                  43\n",
       "dtype: int64"
      ]
     },
     "execution_count": 39,
     "metadata": {},
     "output_type": "execute_result"
    }
   ],
   "source": [
    "updated_df.isna().sum()"
   ]
  },
  {
   "cell_type": "code",
   "execution_count": 40,
   "id": "a1b7e12f",
   "metadata": {
    "execution": {
     "iopub.execute_input": "2024-07-15T08:53:42.330756Z",
     "iopub.status.busy": "2024-07-15T08:53:42.330350Z",
     "iopub.status.idle": "2024-07-15T08:53:42.336464Z",
     "shell.execute_reply": "2024-07-15T08:53:42.335402Z"
    },
    "papermill": {
     "duration": 0.037063,
     "end_time": "2024-07-15T08:53:42.338985",
     "exception": false,
     "start_time": "2024-07-15T08:53:42.301922",
     "status": "completed"
    },
    "tags": []
   },
   "outputs": [],
   "source": [
    "mean = updated_df['Construction year'].mean()"
   ]
  },
  {
   "cell_type": "code",
   "execution_count": 41,
   "id": "bd2bd2a3",
   "metadata": {
    "execution": {
     "iopub.execute_input": "2024-07-15T08:53:42.395025Z",
     "iopub.status.busy": "2024-07-15T08:53:42.394672Z",
     "iopub.status.idle": "2024-07-15T08:53:42.401576Z",
     "shell.execute_reply": "2024-07-15T08:53:42.400547Z"
    },
    "papermill": {
     "duration": 0.037692,
     "end_time": "2024-07-15T08:53:42.404039",
     "exception": false,
     "start_time": "2024-07-15T08:53:42.366347",
     "status": "completed"
    },
    "tags": []
   },
   "outputs": [
    {
     "data": {
      "text/plain": [
       "dtype('float64')"
      ]
     },
     "execution_count": 41,
     "metadata": {},
     "output_type": "execute_result"
    }
   ],
   "source": [
    "updated_df['Construction year'].dtype"
   ]
  },
  {
   "cell_type": "code",
   "execution_count": 42,
   "id": "6a8c1178",
   "metadata": {
    "execution": {
     "iopub.execute_input": "2024-07-15T08:53:42.461856Z",
     "iopub.status.busy": "2024-07-15T08:53:42.460705Z",
     "iopub.status.idle": "2024-07-15T08:53:42.572280Z",
     "shell.execute_reply": "2024-07-15T08:53:42.571167Z"
    },
    "papermill": {
     "duration": 0.14232,
     "end_time": "2024-07-15T08:53:42.574753",
     "exception": false,
     "start_time": "2024-07-15T08:53:42.432433",
     "status": "completed"
    },
    "tags": []
   },
   "outputs": [
    {
     "data": {
      "text/plain": [
       "name                                   0\n",
       "host id                                0\n",
       "host_identity_verified                 0\n",
       "host name                              0\n",
       "neighbourhood group                   27\n",
       "neighbourhood                         16\n",
       "instant_bookable                       0\n",
       "cancellation_policy                    0\n",
       "room type                              0\n",
       "Construction year                      0\n",
       "price                                244\n",
       "service fee                          273\n",
       "minimum nights                       403\n",
       "number of reviews                    182\n",
       "last review                        15857\n",
       "reviews per month                  15843\n",
       "review rate number                   318\n",
       "calculated host listings count       318\n",
       "availability 365                     430\n",
       "house_rules                        52025\n",
       "license                           102347\n",
       "area                                  43\n",
       "dtype: int64"
      ]
     },
     "execution_count": 42,
     "metadata": {},
     "output_type": "execute_result"
    }
   ],
   "source": [
    "updated_df['Construction year'] = updated_df['Construction year'].fillna(2012.0)\n",
    "updated_df.isna().sum()"
   ]
  },
  {
   "cell_type": "code",
   "execution_count": 43,
   "id": "5ec89936",
   "metadata": {
    "execution": {
     "iopub.execute_input": "2024-07-15T08:53:42.631014Z",
     "iopub.status.busy": "2024-07-15T08:53:42.630646Z",
     "iopub.status.idle": "2024-07-15T08:53:42.639302Z",
     "shell.execute_reply": "2024-07-15T08:53:42.638209Z"
    },
    "papermill": {
     "duration": 0.040149,
     "end_time": "2024-07-15T08:53:42.641815",
     "exception": false,
     "start_time": "2024-07-15T08:53:42.601666",
     "status": "completed"
    },
    "tags": []
   },
   "outputs": [
    {
     "data": {
      "text/plain": [
       "id\n",
       "1001254    $193 \n",
       "1002102     $28 \n",
       "1002403    $124 \n",
       "1003689     $41 \n",
       "1004098    $115 \n",
       "           ...  \n",
       "6092437    $169 \n",
       "6092990    $167 \n",
       "6093542    $198 \n",
       "6094094    $109 \n",
       "6094647    $206 \n",
       "Name: service fee, Length: 102349, dtype: object"
      ]
     },
     "execution_count": 43,
     "metadata": {},
     "output_type": "execute_result"
    }
   ],
   "source": [
    "updated_df['service fee']"
   ]
  },
  {
   "cell_type": "markdown",
   "id": "29c68cae",
   "metadata": {
    "papermill": {
     "duration": 0.027141,
     "end_time": "2024-07-15T08:53:42.696629",
     "exception": false,
     "start_time": "2024-07-15T08:53:42.669488",
     "status": "completed"
    },
    "tags": []
   },
   "source": [
    "**Convert price and service fee to integer and null value to 0**"
   ]
  },
  {
   "cell_type": "code",
   "execution_count": 44,
   "id": "5ca7e838",
   "metadata": {
    "execution": {
     "iopub.execute_input": "2024-07-15T08:53:42.754108Z",
     "iopub.status.busy": "2024-07-15T08:53:42.753707Z",
     "iopub.status.idle": "2024-07-15T08:53:42.761596Z",
     "shell.execute_reply": "2024-07-15T08:53:42.760203Z"
    },
    "papermill": {
     "duration": 0.038717,
     "end_time": "2024-07-15T08:53:42.763851",
     "exception": false,
     "start_time": "2024-07-15T08:53:42.725134",
     "status": "completed"
    },
    "tags": []
   },
   "outputs": [],
   "source": [
    "def price_service_converstion(x):\n",
    "    #handling price\n",
    "    if not pd.isna(x['price']):\n",
    "        temp = x['price'][1:]\n",
    "        #to remove ','\n",
    "        ans = ''\n",
    "        for i in temp:\n",
    "            if i != ',':\n",
    "                ans = ans+i \n",
    "        x['price'] = int(ans)\n",
    "        \n",
    "    else:\n",
    "        x['price'] = 0\n",
    "        \n",
    "    #handling service fee\n",
    "    if not pd.isna(x['service fee']):\n",
    "        temp = x['service fee'][1:]\n",
    "        #to remove ','\n",
    "        ans = ''\n",
    "        for i in temp:\n",
    "            if i != ',':\n",
    "                ans = ans+i \n",
    "        x['service fee'] = int(ans)\n",
    "        \n",
    "    else:\n",
    "        x['service fee'] = 0\n",
    "    \n",
    "    return x\n",
    "    \n",
    "        "
   ]
  },
  {
   "cell_type": "code",
   "execution_count": 45,
   "id": "fe2f6ccb",
   "metadata": {
    "execution": {
     "iopub.execute_input": "2024-07-15T08:53:42.820503Z",
     "iopub.status.busy": "2024-07-15T08:53:42.820102Z",
     "iopub.status.idle": "2024-07-15T08:53:54.692011Z",
     "shell.execute_reply": "2024-07-15T08:53:54.690898Z"
    },
    "papermill": {
     "duration": 11.903693,
     "end_time": "2024-07-15T08:53:54.694742",
     "exception": false,
     "start_time": "2024-07-15T08:53:42.791049",
     "status": "completed"
    },
    "tags": []
   },
   "outputs": [],
   "source": [
    "updated_df = updated_df.apply(price_service_converstion,axis = 1)"
   ]
  },
  {
   "cell_type": "code",
   "execution_count": 46,
   "id": "df1adc10",
   "metadata": {
    "execution": {
     "iopub.execute_input": "2024-07-15T08:53:54.750458Z",
     "iopub.status.busy": "2024-07-15T08:53:54.750090Z",
     "iopub.status.idle": "2024-07-15T08:53:55.029627Z",
     "shell.execute_reply": "2024-07-15T08:53:55.028588Z"
    },
    "papermill": {
     "duration": 0.310346,
     "end_time": "2024-07-15T08:53:55.032204",
     "exception": false,
     "start_time": "2024-07-15T08:53:54.721858",
     "status": "completed"
    },
    "tags": []
   },
   "outputs": [
    {
     "data": {
      "text/html": [
       "<div>\n",
       "<style scoped>\n",
       "    .dataframe tbody tr th:only-of-type {\n",
       "        vertical-align: middle;\n",
       "    }\n",
       "\n",
       "    .dataframe tbody tr th {\n",
       "        vertical-align: top;\n",
       "    }\n",
       "\n",
       "    .dataframe thead th {\n",
       "        text-align: right;\n",
       "    }\n",
       "</style>\n",
       "<table border=\"1\" class=\"dataframe\">\n",
       "  <thead>\n",
       "    <tr style=\"text-align: right;\">\n",
       "      <th></th>\n",
       "      <th>name</th>\n",
       "      <th>host id</th>\n",
       "      <th>host_identity_verified</th>\n",
       "      <th>host name</th>\n",
       "      <th>neighbourhood group</th>\n",
       "      <th>neighbourhood</th>\n",
       "      <th>instant_bookable</th>\n",
       "      <th>cancellation_policy</th>\n",
       "      <th>room type</th>\n",
       "      <th>Construction year</th>\n",
       "      <th>...</th>\n",
       "      <th>minimum nights</th>\n",
       "      <th>number of reviews</th>\n",
       "      <th>last review</th>\n",
       "      <th>reviews per month</th>\n",
       "      <th>review rate number</th>\n",
       "      <th>calculated host listings count</th>\n",
       "      <th>availability 365</th>\n",
       "      <th>house_rules</th>\n",
       "      <th>license</th>\n",
       "      <th>area</th>\n",
       "    </tr>\n",
       "    <tr>\n",
       "      <th>id</th>\n",
       "      <th></th>\n",
       "      <th></th>\n",
       "      <th></th>\n",
       "      <th></th>\n",
       "      <th></th>\n",
       "      <th></th>\n",
       "      <th></th>\n",
       "      <th></th>\n",
       "      <th></th>\n",
       "      <th></th>\n",
       "      <th></th>\n",
       "      <th></th>\n",
       "      <th></th>\n",
       "      <th></th>\n",
       "      <th></th>\n",
       "      <th></th>\n",
       "      <th></th>\n",
       "      <th></th>\n",
       "      <th></th>\n",
       "      <th></th>\n",
       "      <th></th>\n",
       "    </tr>\n",
       "  </thead>\n",
       "  <tbody>\n",
       "    <tr>\n",
       "      <th>1001254</th>\n",
       "      <td>Clean &amp; quiet apt home by the park</td>\n",
       "      <td>80014485718</td>\n",
       "      <td>unconfirmed</td>\n",
       "      <td>Madaline</td>\n",
       "      <td>Brooklyn</td>\n",
       "      <td>Kensington</td>\n",
       "      <td>False</td>\n",
       "      <td>strict</td>\n",
       "      <td>Private room</td>\n",
       "      <td>2020.0</td>\n",
       "      <td>...</td>\n",
       "      <td>10.0</td>\n",
       "      <td>9.0</td>\n",
       "      <td>10/19/2021</td>\n",
       "      <td>0.21</td>\n",
       "      <td>4.0</td>\n",
       "      <td>6.0</td>\n",
       "      <td>286.0</td>\n",
       "      <td>Clean up and treat the home the way you'd like...</td>\n",
       "      <td>NaN</td>\n",
       "      <td>Brooklyn Kensington</td>\n",
       "    </tr>\n",
       "    <tr>\n",
       "      <th>1002102</th>\n",
       "      <td>Skylit Midtown Castle</td>\n",
       "      <td>52335172823</td>\n",
       "      <td>verified</td>\n",
       "      <td>Jenna</td>\n",
       "      <td>Manhattan</td>\n",
       "      <td>Midtown</td>\n",
       "      <td>False</td>\n",
       "      <td>moderate</td>\n",
       "      <td>Entire home/apt</td>\n",
       "      <td>2007.0</td>\n",
       "      <td>...</td>\n",
       "      <td>30.0</td>\n",
       "      <td>45.0</td>\n",
       "      <td>5/21/2022</td>\n",
       "      <td>0.38</td>\n",
       "      <td>4.0</td>\n",
       "      <td>2.0</td>\n",
       "      <td>228.0</td>\n",
       "      <td>Pet friendly but please confirm with me if the...</td>\n",
       "      <td>NaN</td>\n",
       "      <td>Manhattan Midtown</td>\n",
       "    </tr>\n",
       "    <tr>\n",
       "      <th>1002403</th>\n",
       "      <td>THE VILLAGE OF HARLEM....NEW YORK !</td>\n",
       "      <td>78829239556</td>\n",
       "      <td>unconfirmed</td>\n",
       "      <td>Elise</td>\n",
       "      <td>Manhattan</td>\n",
       "      <td>Harlem</td>\n",
       "      <td>True</td>\n",
       "      <td>flexible</td>\n",
       "      <td>Private room</td>\n",
       "      <td>2005.0</td>\n",
       "      <td>...</td>\n",
       "      <td>3.0</td>\n",
       "      <td>0.0</td>\n",
       "      <td>NaN</td>\n",
       "      <td>NaN</td>\n",
       "      <td>5.0</td>\n",
       "      <td>1.0</td>\n",
       "      <td>352.0</td>\n",
       "      <td>I encourage you to use my kitchen, cooking and...</td>\n",
       "      <td>NaN</td>\n",
       "      <td>Manhattan Harlem</td>\n",
       "    </tr>\n",
       "    <tr>\n",
       "      <th>1003689</th>\n",
       "      <td>Entire Apt: Spacious Studio/Loft by central park</td>\n",
       "      <td>92037596077</td>\n",
       "      <td>verified</td>\n",
       "      <td>Lyndon</td>\n",
       "      <td>Manhattan</td>\n",
       "      <td>East Harlem</td>\n",
       "      <td>False</td>\n",
       "      <td>moderate</td>\n",
       "      <td>Entire home/apt</td>\n",
       "      <td>2009.0</td>\n",
       "      <td>...</td>\n",
       "      <td>10.0</td>\n",
       "      <td>9.0</td>\n",
       "      <td>11/19/2018</td>\n",
       "      <td>0.10</td>\n",
       "      <td>3.0</td>\n",
       "      <td>1.0</td>\n",
       "      <td>289.0</td>\n",
       "      <td>Please no smoking in the house, porch or on th...</td>\n",
       "      <td>NaN</td>\n",
       "      <td>Manhattan East Harlem</td>\n",
       "    </tr>\n",
       "    <tr>\n",
       "      <th>1004098</th>\n",
       "      <td>Large Cozy 1 BR Apartment In Midtown East</td>\n",
       "      <td>45498551794</td>\n",
       "      <td>verified</td>\n",
       "      <td>Michelle</td>\n",
       "      <td>Manhattan</td>\n",
       "      <td>Murray Hill</td>\n",
       "      <td>True</td>\n",
       "      <td>flexible</td>\n",
       "      <td>Entire home/apt</td>\n",
       "      <td>2013.0</td>\n",
       "      <td>...</td>\n",
       "      <td>3.0</td>\n",
       "      <td>74.0</td>\n",
       "      <td>6/22/2019</td>\n",
       "      <td>0.59</td>\n",
       "      <td>3.0</td>\n",
       "      <td>1.0</td>\n",
       "      <td>374.0</td>\n",
       "      <td>No smoking, please, and no drugs.</td>\n",
       "      <td>NaN</td>\n",
       "      <td>Manhattan Murray Hill</td>\n",
       "    </tr>\n",
       "    <tr>\n",
       "      <th>...</th>\n",
       "      <td>...</td>\n",
       "      <td>...</td>\n",
       "      <td>...</td>\n",
       "      <td>...</td>\n",
       "      <td>...</td>\n",
       "      <td>...</td>\n",
       "      <td>...</td>\n",
       "      <td>...</td>\n",
       "      <td>...</td>\n",
       "      <td>...</td>\n",
       "      <td>...</td>\n",
       "      <td>...</td>\n",
       "      <td>...</td>\n",
       "      <td>...</td>\n",
       "      <td>...</td>\n",
       "      <td>...</td>\n",
       "      <td>...</td>\n",
       "      <td>...</td>\n",
       "      <td>...</td>\n",
       "      <td>...</td>\n",
       "      <td>...</td>\n",
       "    </tr>\n",
       "    <tr>\n",
       "      <th>6092437</th>\n",
       "      <td>Spare room in Williamsburg</td>\n",
       "      <td>12312296767</td>\n",
       "      <td>verified</td>\n",
       "      <td>Krik</td>\n",
       "      <td>Brooklyn</td>\n",
       "      <td>Williamsburg</td>\n",
       "      <td>False</td>\n",
       "      <td>flexible</td>\n",
       "      <td>Private room</td>\n",
       "      <td>2003.0</td>\n",
       "      <td>...</td>\n",
       "      <td>1.0</td>\n",
       "      <td>0.0</td>\n",
       "      <td>NaN</td>\n",
       "      <td>NaN</td>\n",
       "      <td>3.0</td>\n",
       "      <td>1.0</td>\n",
       "      <td>227.0</td>\n",
       "      <td>No Smoking No Parties or Events of any kind Pl...</td>\n",
       "      <td>NaN</td>\n",
       "      <td>Brooklyn Williamsburg</td>\n",
       "    </tr>\n",
       "    <tr>\n",
       "      <th>6092990</th>\n",
       "      <td>Best Location near Columbia U</td>\n",
       "      <td>77864383453</td>\n",
       "      <td>unconfirmed</td>\n",
       "      <td>Mifan</td>\n",
       "      <td>Manhattan</td>\n",
       "      <td>Morningside Heights</td>\n",
       "      <td>True</td>\n",
       "      <td>moderate</td>\n",
       "      <td>Private room</td>\n",
       "      <td>2016.0</td>\n",
       "      <td>...</td>\n",
       "      <td>1.0</td>\n",
       "      <td>1.0</td>\n",
       "      <td>7/6/2015</td>\n",
       "      <td>0.02</td>\n",
       "      <td>2.0</td>\n",
       "      <td>2.0</td>\n",
       "      <td>395.0</td>\n",
       "      <td>House rules: Guests agree to the following ter...</td>\n",
       "      <td>NaN</td>\n",
       "      <td>Manhattan Morningside Heights</td>\n",
       "    </tr>\n",
       "    <tr>\n",
       "      <th>6093542</th>\n",
       "      <td>Comfy, bright room in Brooklyn</td>\n",
       "      <td>69050334417</td>\n",
       "      <td>unconfirmed</td>\n",
       "      <td>Megan</td>\n",
       "      <td>Brooklyn</td>\n",
       "      <td>Park Slope</td>\n",
       "      <td>True</td>\n",
       "      <td>moderate</td>\n",
       "      <td>Private room</td>\n",
       "      <td>2009.0</td>\n",
       "      <td>...</td>\n",
       "      <td>3.0</td>\n",
       "      <td>0.0</td>\n",
       "      <td>NaN</td>\n",
       "      <td>NaN</td>\n",
       "      <td>5.0</td>\n",
       "      <td>1.0</td>\n",
       "      <td>342.0</td>\n",
       "      <td>NaN</td>\n",
       "      <td>NaN</td>\n",
       "      <td>Brooklyn Park Slope</td>\n",
       "    </tr>\n",
       "    <tr>\n",
       "      <th>6094094</th>\n",
       "      <td>Big Studio-One Stop from Midtown</td>\n",
       "      <td>11160591270</td>\n",
       "      <td>unconfirmed</td>\n",
       "      <td>Christopher</td>\n",
       "      <td>Queens</td>\n",
       "      <td>Long Island City</td>\n",
       "      <td>True</td>\n",
       "      <td>strict</td>\n",
       "      <td>Entire home/apt</td>\n",
       "      <td>2015.0</td>\n",
       "      <td>...</td>\n",
       "      <td>2.0</td>\n",
       "      <td>5.0</td>\n",
       "      <td>10/11/2015</td>\n",
       "      <td>0.10</td>\n",
       "      <td>3.0</td>\n",
       "      <td>1.0</td>\n",
       "      <td>386.0</td>\n",
       "      <td>NaN</td>\n",
       "      <td>NaN</td>\n",
       "      <td>Queens Long Island City</td>\n",
       "    </tr>\n",
       "    <tr>\n",
       "      <th>6094647</th>\n",
       "      <td>585 sf Luxury Studio</td>\n",
       "      <td>68170633372</td>\n",
       "      <td>unconfirmed</td>\n",
       "      <td>Rebecca</td>\n",
       "      <td>Manhattan</td>\n",
       "      <td>Upper West Side</td>\n",
       "      <td>False</td>\n",
       "      <td>flexible</td>\n",
       "      <td>Entire home/apt</td>\n",
       "      <td>2010.0</td>\n",
       "      <td>...</td>\n",
       "      <td>1.0</td>\n",
       "      <td>0.0</td>\n",
       "      <td>NaN</td>\n",
       "      <td>NaN</td>\n",
       "      <td>3.0</td>\n",
       "      <td>1.0</td>\n",
       "      <td>69.0</td>\n",
       "      <td>NaN</td>\n",
       "      <td>NaN</td>\n",
       "      <td>Manhattan Upper West Side</td>\n",
       "    </tr>\n",
       "  </tbody>\n",
       "</table>\n",
       "<p>102349 rows × 22 columns</p>\n",
       "</div>"
      ],
      "text/plain": [
       "                                                     name      host id  \\\n",
       "id                                                                       \n",
       "1001254                Clean & quiet apt home by the park  80014485718   \n",
       "1002102                             Skylit Midtown Castle  52335172823   \n",
       "1002403               THE VILLAGE OF HARLEM....NEW YORK !  78829239556   \n",
       "1003689  Entire Apt: Spacious Studio/Loft by central park  92037596077   \n",
       "1004098         Large Cozy 1 BR Apartment In Midtown East  45498551794   \n",
       "...                                                   ...          ...   \n",
       "6092437                        Spare room in Williamsburg  12312296767   \n",
       "6092990                     Best Location near Columbia U  77864383453   \n",
       "6093542                    Comfy, bright room in Brooklyn  69050334417   \n",
       "6094094                  Big Studio-One Stop from Midtown  11160591270   \n",
       "6094647                              585 sf Luxury Studio  68170633372   \n",
       "\n",
       "        host_identity_verified    host name neighbourhood group  \\\n",
       "id                                                                \n",
       "1001254            unconfirmed     Madaline            Brooklyn   \n",
       "1002102               verified        Jenna           Manhattan   \n",
       "1002403            unconfirmed        Elise           Manhattan   \n",
       "1003689               verified       Lyndon           Manhattan   \n",
       "1004098               verified     Michelle           Manhattan   \n",
       "...                        ...          ...                 ...   \n",
       "6092437               verified         Krik            Brooklyn   \n",
       "6092990            unconfirmed        Mifan           Manhattan   \n",
       "6093542            unconfirmed        Megan            Brooklyn   \n",
       "6094094            unconfirmed  Christopher              Queens   \n",
       "6094647            unconfirmed      Rebecca           Manhattan   \n",
       "\n",
       "               neighbourhood instant_bookable cancellation_policy  \\\n",
       "id                                                                  \n",
       "1001254           Kensington            False              strict   \n",
       "1002102              Midtown            False            moderate   \n",
       "1002403               Harlem             True            flexible   \n",
       "1003689          East Harlem            False            moderate   \n",
       "1004098          Murray Hill             True            flexible   \n",
       "...                      ...              ...                 ...   \n",
       "6092437         Williamsburg            False            flexible   \n",
       "6092990  Morningside Heights             True            moderate   \n",
       "6093542           Park Slope             True            moderate   \n",
       "6094094     Long Island City             True              strict   \n",
       "6094647      Upper West Side            False            flexible   \n",
       "\n",
       "               room type  Construction year  ...  minimum nights  \\\n",
       "id                                           ...                   \n",
       "1001254     Private room             2020.0  ...            10.0   \n",
       "1002102  Entire home/apt             2007.0  ...            30.0   \n",
       "1002403     Private room             2005.0  ...             3.0   \n",
       "1003689  Entire home/apt             2009.0  ...            10.0   \n",
       "1004098  Entire home/apt             2013.0  ...             3.0   \n",
       "...                  ...                ...  ...             ...   \n",
       "6092437     Private room             2003.0  ...             1.0   \n",
       "6092990     Private room             2016.0  ...             1.0   \n",
       "6093542     Private room             2009.0  ...             3.0   \n",
       "6094094  Entire home/apt             2015.0  ...             2.0   \n",
       "6094647  Entire home/apt             2010.0  ...             1.0   \n",
       "\n",
       "         number of reviews  last review  reviews per month review rate number  \\\n",
       "id                                                                              \n",
       "1001254                9.0   10/19/2021               0.21                4.0   \n",
       "1002102               45.0    5/21/2022               0.38                4.0   \n",
       "1002403                0.0          NaN                NaN                5.0   \n",
       "1003689                9.0   11/19/2018               0.10                3.0   \n",
       "1004098               74.0    6/22/2019               0.59                3.0   \n",
       "...                    ...          ...                ...                ...   \n",
       "6092437                0.0          NaN                NaN                3.0   \n",
       "6092990                1.0     7/6/2015               0.02                2.0   \n",
       "6093542                0.0          NaN                NaN                5.0   \n",
       "6094094                5.0   10/11/2015               0.10                3.0   \n",
       "6094647                0.0          NaN                NaN                3.0   \n",
       "\n",
       "         calculated host listings count  availability 365  \\\n",
       "id                                                          \n",
       "1001254                             6.0             286.0   \n",
       "1002102                             2.0             228.0   \n",
       "1002403                             1.0             352.0   \n",
       "1003689                             1.0             289.0   \n",
       "1004098                             1.0             374.0   \n",
       "...                                 ...               ...   \n",
       "6092437                             1.0             227.0   \n",
       "6092990                             2.0             395.0   \n",
       "6093542                             1.0             342.0   \n",
       "6094094                             1.0             386.0   \n",
       "6094647                             1.0              69.0   \n",
       "\n",
       "                                               house_rules  license  \\\n",
       "id                                                                    \n",
       "1001254  Clean up and treat the home the way you'd like...      NaN   \n",
       "1002102  Pet friendly but please confirm with me if the...      NaN   \n",
       "1002403  I encourage you to use my kitchen, cooking and...      NaN   \n",
       "1003689  Please no smoking in the house, porch or on th...      NaN   \n",
       "1004098                  No smoking, please, and no drugs.      NaN   \n",
       "...                                                    ...      ...   \n",
       "6092437  No Smoking No Parties or Events of any kind Pl...      NaN   \n",
       "6092990  House rules: Guests agree to the following ter...      NaN   \n",
       "6093542                                                NaN      NaN   \n",
       "6094094                                                NaN      NaN   \n",
       "6094647                                                NaN      NaN   \n",
       "\n",
       "                                  area  \n",
       "id                                      \n",
       "1001254            Brooklyn Kensington  \n",
       "1002102              Manhattan Midtown  \n",
       "1002403               Manhattan Harlem  \n",
       "1003689          Manhattan East Harlem  \n",
       "1004098          Manhattan Murray Hill  \n",
       "...                                ...  \n",
       "6092437          Brooklyn Williamsburg  \n",
       "6092990  Manhattan Morningside Heights  \n",
       "6093542            Brooklyn Park Slope  \n",
       "6094094        Queens Long Island City  \n",
       "6094647      Manhattan Upper West Side  \n",
       "\n",
       "[102349 rows x 22 columns]"
      ]
     },
     "execution_count": 46,
     "metadata": {},
     "output_type": "execute_result"
    }
   ],
   "source": [
    "updated_df"
   ]
  },
  {
   "cell_type": "markdown",
   "id": "eacdcabf",
   "metadata": {
    "papermill": {
     "duration": 0.027639,
     "end_time": "2024-07-15T08:53:55.088176",
     "exception": false,
     "start_time": "2024-07-15T08:53:55.060537",
     "status": "completed"
    },
    "tags": []
   },
   "source": [
    "**After converting then filling the 0 with its mean**\n",
    "\n",
    "**Here we are filling mean based on the area**"
   ]
  },
  {
   "cell_type": "code",
   "execution_count": 47,
   "id": "6bf785bc",
   "metadata": {
    "execution": {
     "iopub.execute_input": "2024-07-15T08:53:55.148377Z",
     "iopub.status.busy": "2024-07-15T08:53:55.147942Z",
     "iopub.status.idle": "2024-07-15T08:53:55.155611Z",
     "shell.execute_reply": "2024-07-15T08:53:55.154522Z"
    },
    "papermill": {
     "duration": 0.041587,
     "end_time": "2024-07-15T08:53:55.158060",
     "exception": false,
     "start_time": "2024-07-15T08:53:55.116473",
     "status": "completed"
    },
    "tags": []
   },
   "outputs": [],
   "source": [
    "def update_prices(x):\n",
    "    if x['price'] == 0:\n",
    "        m = updated_df.loc[(updated_df['area'] == x.area),'price'].mean()\n",
    "        # If that area is present only once then we won't get value we get null\n",
    "        #in that case we will insert mean of price there\n",
    "        if not pd.isna(m):\n",
    "            x['price'] = int(m)\n",
    "        else:\n",
    "            x['price'] = updated_df['price'].mean()\n",
    "            \n",
    "    \n",
    "    if x['service fee'] == 0:\n",
    "        m = updated_df.loc[(updated_df['area'] == x.area),'service fee'].mean()\n",
    "        # If that area is present only once then we won't get value we get null\n",
    "        #in that case we will insert mean of price there\n",
    "        if not pd.isna(m):\n",
    "            x['service fee'] = int(m)\n",
    "        else:\n",
    "            x['service fee'] = updated_df['service fee'].mean()\n",
    "    return x\n",
    "        "
   ]
  },
  {
   "cell_type": "code",
   "execution_count": 48,
   "id": "28d05035",
   "metadata": {
    "execution": {
     "iopub.execute_input": "2024-07-15T08:53:55.216720Z",
     "iopub.status.busy": "2024-07-15T08:53:55.216291Z",
     "iopub.status.idle": "2024-07-15T08:54:07.653680Z",
     "shell.execute_reply": "2024-07-15T08:54:07.652574Z"
    },
    "papermill": {
     "duration": 12.470098,
     "end_time": "2024-07-15T08:54:07.656224",
     "exception": false,
     "start_time": "2024-07-15T08:53:55.186126",
     "status": "completed"
    },
    "tags": []
   },
   "outputs": [],
   "source": [
    "updated_df = updated_df.apply(update_prices,axis = 1)"
   ]
  },
  {
   "cell_type": "code",
   "execution_count": 49,
   "id": "26b755d2",
   "metadata": {
    "execution": {
     "iopub.execute_input": "2024-07-15T08:54:07.712927Z",
     "iopub.status.busy": "2024-07-15T08:54:07.712496Z",
     "iopub.status.idle": "2024-07-15T08:54:07.815095Z",
     "shell.execute_reply": "2024-07-15T08:54:07.813967Z"
    },
    "papermill": {
     "duration": 0.133581,
     "end_time": "2024-07-15T08:54:07.817506",
     "exception": false,
     "start_time": "2024-07-15T08:54:07.683925",
     "status": "completed"
    },
    "tags": []
   },
   "outputs": [
    {
     "data": {
      "text/plain": [
       "name                                   0\n",
       "host id                                0\n",
       "host_identity_verified                 0\n",
       "host name                              0\n",
       "neighbourhood group                   27\n",
       "neighbourhood                         16\n",
       "instant_bookable                       0\n",
       "cancellation_policy                    0\n",
       "room type                              0\n",
       "Construction year                      0\n",
       "price                                  0\n",
       "service fee                            0\n",
       "minimum nights                       403\n",
       "number of reviews                    182\n",
       "last review                        15857\n",
       "reviews per month                  15843\n",
       "review rate number                   318\n",
       "calculated host listings count       318\n",
       "availability 365                     430\n",
       "house_rules                        52025\n",
       "license                           102347\n",
       "area                                  43\n",
       "dtype: int64"
      ]
     },
     "execution_count": 49,
     "metadata": {},
     "output_type": "execute_result"
    }
   ],
   "source": [
    "updated_df.isna().sum()"
   ]
  },
  {
   "cell_type": "markdown",
   "id": "d5b231a2",
   "metadata": {
    "papermill": {
     "duration": 0.028162,
     "end_time": "2024-07-15T08:54:07.873795",
     "exception": false,
     "start_time": "2024-07-15T08:54:07.845633",
     "status": "completed"
    },
    "tags": []
   },
   "source": [
    "**To fill minimum nights we use mode on them**"
   ]
  },
  {
   "cell_type": "code",
   "execution_count": 50,
   "id": "e2c605ba",
   "metadata": {
    "execution": {
     "iopub.execute_input": "2024-07-15T08:54:07.931846Z",
     "iopub.status.busy": "2024-07-15T08:54:07.931470Z",
     "iopub.status.idle": "2024-07-15T08:54:07.942432Z",
     "shell.execute_reply": "2024-07-15T08:54:07.941411Z"
    },
    "papermill": {
     "duration": 0.043365,
     "end_time": "2024-07-15T08:54:07.944904",
     "exception": false,
     "start_time": "2024-07-15T08:54:07.901539",
     "status": "completed"
    },
    "tags": []
   },
   "outputs": [
    {
     "data": {
      "text/plain": [
       "1.0"
      ]
     },
     "execution_count": 50,
     "metadata": {},
     "output_type": "execute_result"
    }
   ],
   "source": [
    "m = updated_df['minimum nights'].mode()[0]\n",
    "m"
   ]
  },
  {
   "cell_type": "code",
   "execution_count": 51,
   "id": "7b5d65f1",
   "metadata": {
    "execution": {
     "iopub.execute_input": "2024-07-15T08:54:08.004193Z",
     "iopub.status.busy": "2024-07-15T08:54:08.003821Z",
     "iopub.status.idle": "2024-07-15T08:54:08.009973Z",
     "shell.execute_reply": "2024-07-15T08:54:08.008967Z"
    },
    "papermill": {
     "duration": 0.038247,
     "end_time": "2024-07-15T08:54:08.012262",
     "exception": false,
     "start_time": "2024-07-15T08:54:07.974015",
     "status": "completed"
    },
    "tags": []
   },
   "outputs": [],
   "source": [
    "updated_df['minimum nights'] = updated_df['minimum nights'].fillna(m)"
   ]
  },
  {
   "cell_type": "code",
   "execution_count": 52,
   "id": "87246132",
   "metadata": {
    "execution": {
     "iopub.execute_input": "2024-07-15T08:54:08.072476Z",
     "iopub.status.busy": "2024-07-15T08:54:08.071434Z",
     "iopub.status.idle": "2024-07-15T08:54:08.170433Z",
     "shell.execute_reply": "2024-07-15T08:54:08.169254Z"
    },
    "papermill": {
     "duration": 0.131519,
     "end_time": "2024-07-15T08:54:08.172825",
     "exception": false,
     "start_time": "2024-07-15T08:54:08.041306",
     "status": "completed"
    },
    "tags": []
   },
   "outputs": [
    {
     "data": {
      "text/plain": [
       "name                                   0\n",
       "host id                                0\n",
       "host_identity_verified                 0\n",
       "host name                              0\n",
       "neighbourhood group                   27\n",
       "neighbourhood                         16\n",
       "instant_bookable                       0\n",
       "cancellation_policy                    0\n",
       "room type                              0\n",
       "Construction year                      0\n",
       "price                                  0\n",
       "service fee                            0\n",
       "minimum nights                         0\n",
       "number of reviews                    182\n",
       "last review                        15857\n",
       "reviews per month                  15843\n",
       "review rate number                   318\n",
       "calculated host listings count       318\n",
       "availability 365                     430\n",
       "house_rules                        52025\n",
       "license                           102347\n",
       "area                                  43\n",
       "dtype: int64"
      ]
     },
     "execution_count": 52,
     "metadata": {},
     "output_type": "execute_result"
    }
   ],
   "source": [
    "updated_df.isna().sum()"
   ]
  },
  {
   "cell_type": "markdown",
   "id": "c19af12b",
   "metadata": {
    "papermill": {
     "duration": 0.027602,
     "end_time": "2024-07-15T08:54:08.228548",
     "exception": false,
     "start_time": "2024-07-15T08:54:08.200946",
     "status": "completed"
    },
    "tags": []
   },
   "source": [
    "**We will fill number of reviews null values with no review**"
   ]
  },
  {
   "cell_type": "code",
   "execution_count": 53,
   "id": "b57e03a3",
   "metadata": {
    "execution": {
     "iopub.execute_input": "2024-07-15T08:54:08.285998Z",
     "iopub.status.busy": "2024-07-15T08:54:08.285613Z",
     "iopub.status.idle": "2024-07-15T08:54:08.298264Z",
     "shell.execute_reply": "2024-07-15T08:54:08.297136Z"
    },
    "papermill": {
     "duration": 0.044966,
     "end_time": "2024-07-15T08:54:08.301448",
     "exception": false,
     "start_time": "2024-07-15T08:54:08.256482",
     "status": "completed"
    },
    "tags": []
   },
   "outputs": [],
   "source": [
    "updated_df['number of reviews'] = updated_df['number of reviews'].fillna('no reviews')"
   ]
  },
  {
   "cell_type": "code",
   "execution_count": 54,
   "id": "2feff001",
   "metadata": {
    "execution": {
     "iopub.execute_input": "2024-07-15T08:54:08.364881Z",
     "iopub.status.busy": "2024-07-15T08:54:08.363943Z",
     "iopub.status.idle": "2024-07-15T08:54:08.477176Z",
     "shell.execute_reply": "2024-07-15T08:54:08.475698Z"
    },
    "papermill": {
     "duration": 0.145562,
     "end_time": "2024-07-15T08:54:08.479752",
     "exception": false,
     "start_time": "2024-07-15T08:54:08.334190",
     "status": "completed"
    },
    "tags": []
   },
   "outputs": [
    {
     "data": {
      "text/plain": [
       "name                                   0\n",
       "host id                                0\n",
       "host_identity_verified                 0\n",
       "host name                              0\n",
       "neighbourhood group                   27\n",
       "neighbourhood                         16\n",
       "instant_bookable                       0\n",
       "cancellation_policy                    0\n",
       "room type                              0\n",
       "Construction year                      0\n",
       "price                                  0\n",
       "service fee                            0\n",
       "minimum nights                         0\n",
       "number of reviews                      0\n",
       "last review                        15857\n",
       "reviews per month                  15843\n",
       "review rate number                   318\n",
       "calculated host listings count       318\n",
       "availability 365                     430\n",
       "house_rules                        52025\n",
       "license                           102347\n",
       "area                                  43\n",
       "dtype: int64"
      ]
     },
     "execution_count": 54,
     "metadata": {},
     "output_type": "execute_result"
    }
   ],
   "source": [
    "updated_df.isna().sum()"
   ]
  },
  {
   "cell_type": "markdown",
   "id": "a4c0141b",
   "metadata": {
    "papermill": {
     "duration": 0.027973,
     "end_time": "2024-07-15T08:54:08.545293",
     "exception": false,
     "start_time": "2024-07-15T08:54:08.517320",
     "status": "completed"
    },
    "tags": []
   },
   "source": [
    "**no need of last review,reviews per month**"
   ]
  },
  {
   "cell_type": "code",
   "execution_count": 55,
   "id": "0b22da9b",
   "metadata": {
    "execution": {
     "iopub.execute_input": "2024-07-15T08:54:08.603415Z",
     "iopub.status.busy": "2024-07-15T08:54:08.603025Z",
     "iopub.status.idle": "2024-07-15T08:54:08.700466Z",
     "shell.execute_reply": "2024-07-15T08:54:08.699536Z"
    },
    "papermill": {
     "duration": 0.129614,
     "end_time": "2024-07-15T08:54:08.703106",
     "exception": false,
     "start_time": "2024-07-15T08:54:08.573492",
     "status": "completed"
    },
    "tags": []
   },
   "outputs": [],
   "source": [
    "updated_df.drop(columns = ['last review','reviews per month'],inplace = True)"
   ]
  },
  {
   "cell_type": "code",
   "execution_count": 56,
   "id": "5dcea393",
   "metadata": {
    "execution": {
     "iopub.execute_input": "2024-07-15T08:54:08.761260Z",
     "iopub.status.busy": "2024-07-15T08:54:08.760870Z",
     "iopub.status.idle": "2024-07-15T08:54:08.827527Z",
     "shell.execute_reply": "2024-07-15T08:54:08.826255Z"
    },
    "papermill": {
     "duration": 0.098496,
     "end_time": "2024-07-15T08:54:08.830032",
     "exception": false,
     "start_time": "2024-07-15T08:54:08.731536",
     "status": "completed"
    },
    "tags": []
   },
   "outputs": [
    {
     "data": {
      "text/plain": [
       "name                                   0\n",
       "host id                                0\n",
       "host_identity_verified                 0\n",
       "host name                              0\n",
       "neighbourhood group                   27\n",
       "neighbourhood                         16\n",
       "instant_bookable                       0\n",
       "cancellation_policy                    0\n",
       "room type                              0\n",
       "Construction year                      0\n",
       "price                                  0\n",
       "service fee                            0\n",
       "minimum nights                         0\n",
       "number of reviews                      0\n",
       "review rate number                   318\n",
       "calculated host listings count       318\n",
       "availability 365                     430\n",
       "house_rules                        52025\n",
       "license                           102347\n",
       "area                                  43\n",
       "dtype: int64"
      ]
     },
     "execution_count": 56,
     "metadata": {},
     "output_type": "execute_result"
    }
   ],
   "source": [
    "updated_df.isna().sum()"
   ]
  },
  {
   "cell_type": "markdown",
   "id": "e4d36b40",
   "metadata": {
    "papermill": {
     "duration": 0.027928,
     "end_time": "2024-07-15T08:54:08.886547",
     "exception": false,
     "start_time": "2024-07-15T08:54:08.858619",
     "status": "completed"
    },
    "tags": []
   },
   "source": [
    "**No need of review rate number so we will drop that columns as well**"
   ]
  },
  {
   "cell_type": "code",
   "execution_count": 57,
   "id": "29c66154",
   "metadata": {
    "execution": {
     "iopub.execute_input": "2024-07-15T08:54:08.945706Z",
     "iopub.status.busy": "2024-07-15T08:54:08.945263Z",
     "iopub.status.idle": "2024-07-15T08:54:08.976776Z",
     "shell.execute_reply": "2024-07-15T08:54:08.975735Z"
    },
    "papermill": {
     "duration": 0.064527,
     "end_time": "2024-07-15T08:54:08.979359",
     "exception": false,
     "start_time": "2024-07-15T08:54:08.914832",
     "status": "completed"
    },
    "tags": []
   },
   "outputs": [],
   "source": [
    "updated_df.drop(columns = ['review rate number'],inplace = True)"
   ]
  },
  {
   "cell_type": "code",
   "execution_count": 58,
   "id": "5d364d00",
   "metadata": {
    "execution": {
     "iopub.execute_input": "2024-07-15T08:54:09.037447Z",
     "iopub.status.busy": "2024-07-15T08:54:09.037053Z",
     "iopub.status.idle": "2024-07-15T08:54:09.101757Z",
     "shell.execute_reply": "2024-07-15T08:54:09.100368Z"
    },
    "papermill": {
     "duration": 0.096446,
     "end_time": "2024-07-15T08:54:09.104181",
     "exception": false,
     "start_time": "2024-07-15T08:54:09.007735",
     "status": "completed"
    },
    "tags": []
   },
   "outputs": [
    {
     "data": {
      "text/plain": [
       "name                                   0\n",
       "host id                                0\n",
       "host_identity_verified                 0\n",
       "host name                              0\n",
       "neighbourhood group                   27\n",
       "neighbourhood                         16\n",
       "instant_bookable                       0\n",
       "cancellation_policy                    0\n",
       "room type                              0\n",
       "Construction year                      0\n",
       "price                                  0\n",
       "service fee                            0\n",
       "minimum nights                         0\n",
       "number of reviews                      0\n",
       "calculated host listings count       318\n",
       "availability 365                     430\n",
       "house_rules                        52025\n",
       "license                           102347\n",
       "area                                  43\n",
       "dtype: int64"
      ]
     },
     "execution_count": 58,
     "metadata": {},
     "output_type": "execute_result"
    }
   ],
   "source": [
    "updated_df.isna().sum()"
   ]
  },
  {
   "cell_type": "markdown",
   "id": "21d010d5",
   "metadata": {
    "papermill": {
     "duration": 0.029081,
     "end_time": "2024-07-15T08:54:09.162385",
     "exception": false,
     "start_time": "2024-07-15T08:54:09.133304",
     "status": "completed"
    },
    "tags": []
   },
   "source": [
    "**No need of calculated host listings count**"
   ]
  },
  {
   "cell_type": "code",
   "execution_count": 59,
   "id": "a49689e9",
   "metadata": {
    "execution": {
     "iopub.execute_input": "2024-07-15T08:54:09.226322Z",
     "iopub.status.busy": "2024-07-15T08:54:09.224940Z",
     "iopub.status.idle": "2024-07-15T08:54:09.257110Z",
     "shell.execute_reply": "2024-07-15T08:54:09.255865Z"
    },
    "papermill": {
     "duration": 0.066366,
     "end_time": "2024-07-15T08:54:09.259795",
     "exception": false,
     "start_time": "2024-07-15T08:54:09.193429",
     "status": "completed"
    },
    "tags": []
   },
   "outputs": [],
   "source": [
    "updated_df.drop(columns = ['calculated host listings count'],inplace = True)"
   ]
  },
  {
   "cell_type": "code",
   "execution_count": 60,
   "id": "301b1e46",
   "metadata": {
    "execution": {
     "iopub.execute_input": "2024-07-15T08:54:09.318449Z",
     "iopub.status.busy": "2024-07-15T08:54:09.318079Z",
     "iopub.status.idle": "2024-07-15T08:54:09.382692Z",
     "shell.execute_reply": "2024-07-15T08:54:09.381607Z"
    },
    "papermill": {
     "duration": 0.09682,
     "end_time": "2024-07-15T08:54:09.385047",
     "exception": false,
     "start_time": "2024-07-15T08:54:09.288227",
     "status": "completed"
    },
    "tags": []
   },
   "outputs": [
    {
     "data": {
      "text/plain": [
       "name                           0\n",
       "host id                        0\n",
       "host_identity_verified         0\n",
       "host name                      0\n",
       "neighbourhood group           27\n",
       "neighbourhood                 16\n",
       "instant_bookable               0\n",
       "cancellation_policy            0\n",
       "room type                      0\n",
       "Construction year              0\n",
       "price                          0\n",
       "service fee                    0\n",
       "minimum nights                 0\n",
       "number of reviews              0\n",
       "availability 365             430\n",
       "house_rules                52025\n",
       "license                   102347\n",
       "area                          43\n",
       "dtype: int64"
      ]
     },
     "execution_count": 60,
     "metadata": {},
     "output_type": "execute_result"
    }
   ],
   "source": [
    "updated_df.isna().sum()"
   ]
  },
  {
   "cell_type": "markdown",
   "id": "40236627",
   "metadata": {
    "papermill": {
     "duration": 0.028547,
     "end_time": "2024-07-15T08:54:09.442346",
     "exception": false,
     "start_time": "2024-07-15T08:54:09.413799",
     "status": "completed"
    },
    "tags": []
   },
   "source": [
    "**We will make availability 365 based on mean**"
   ]
  },
  {
   "cell_type": "code",
   "execution_count": 61,
   "id": "9c8a394e",
   "metadata": {
    "execution": {
     "iopub.execute_input": "2024-07-15T08:54:09.504277Z",
     "iopub.status.busy": "2024-07-15T08:54:09.503506Z",
     "iopub.status.idle": "2024-07-15T08:54:09.509784Z",
     "shell.execute_reply": "2024-07-15T08:54:09.508739Z"
    },
    "papermill": {
     "duration": 0.039536,
     "end_time": "2024-07-15T08:54:09.511985",
     "exception": false,
     "start_time": "2024-07-15T08:54:09.472449",
     "status": "completed"
    },
    "tags": []
   },
   "outputs": [],
   "source": [
    "def update_availability(x):\n",
    "    if pd.isna(x['availability 365']):\n",
    "        m = updated_df.loc[(updated_df['area'] == x.area),'availability 365'].mean()\n",
    "        # If that area is present only once then we won't get value we get null\n",
    "        # in that case we will insert mean of price there\n",
    "        if not pd.isna(m):\n",
    "            x['availability 365'] = int(m)\n",
    "        else:\n",
    "            x['availability 365'] = updated_df['availability 365'].mean()\n",
    "    return x "
   ]
  },
  {
   "cell_type": "code",
   "execution_count": 62,
   "id": "0e90c9f3",
   "metadata": {
    "execution": {
     "iopub.execute_input": "2024-07-15T08:54:09.573069Z",
     "iopub.status.busy": "2024-07-15T08:54:09.572117Z",
     "iopub.status.idle": "2024-07-15T08:54:18.769700Z",
     "shell.execute_reply": "2024-07-15T08:54:18.768583Z"
    },
    "papermill": {
     "duration": 9.230051,
     "end_time": "2024-07-15T08:54:18.772367",
     "exception": false,
     "start_time": "2024-07-15T08:54:09.542316",
     "status": "completed"
    },
    "tags": []
   },
   "outputs": [],
   "source": [
    "updated_df = updated_df.apply(update_availability,axis = 1)"
   ]
  },
  {
   "cell_type": "code",
   "execution_count": 63,
   "id": "e4b43b4b",
   "metadata": {
    "execution": {
     "iopub.execute_input": "2024-07-15T08:54:18.832419Z",
     "iopub.status.busy": "2024-07-15T08:54:18.832073Z",
     "iopub.status.idle": "2024-07-15T08:54:18.858809Z",
     "shell.execute_reply": "2024-07-15T08:54:18.857593Z"
    },
    "papermill": {
     "duration": 0.059208,
     "end_time": "2024-07-15T08:54:18.861207",
     "exception": false,
     "start_time": "2024-07-15T08:54:18.801999",
     "status": "completed"
    },
    "tags": []
   },
   "outputs": [
    {
     "data": {
      "text/html": [
       "<div>\n",
       "<style scoped>\n",
       "    .dataframe tbody tr th:only-of-type {\n",
       "        vertical-align: middle;\n",
       "    }\n",
       "\n",
       "    .dataframe tbody tr th {\n",
       "        vertical-align: top;\n",
       "    }\n",
       "\n",
       "    .dataframe thead th {\n",
       "        text-align: right;\n",
       "    }\n",
       "</style>\n",
       "<table border=\"1\" class=\"dataframe\">\n",
       "  <thead>\n",
       "    <tr style=\"text-align: right;\">\n",
       "      <th></th>\n",
       "      <th>name</th>\n",
       "      <th>host id</th>\n",
       "      <th>host_identity_verified</th>\n",
       "      <th>host name</th>\n",
       "      <th>neighbourhood group</th>\n",
       "      <th>neighbourhood</th>\n",
       "      <th>instant_bookable</th>\n",
       "      <th>cancellation_policy</th>\n",
       "      <th>room type</th>\n",
       "      <th>Construction year</th>\n",
       "      <th>price</th>\n",
       "      <th>service fee</th>\n",
       "      <th>minimum nights</th>\n",
       "      <th>number of reviews</th>\n",
       "      <th>availability 365</th>\n",
       "      <th>house_rules</th>\n",
       "      <th>license</th>\n",
       "      <th>area</th>\n",
       "    </tr>\n",
       "    <tr>\n",
       "      <th>id</th>\n",
       "      <th></th>\n",
       "      <th></th>\n",
       "      <th></th>\n",
       "      <th></th>\n",
       "      <th></th>\n",
       "      <th></th>\n",
       "      <th></th>\n",
       "      <th></th>\n",
       "      <th></th>\n",
       "      <th></th>\n",
       "      <th></th>\n",
       "      <th></th>\n",
       "      <th></th>\n",
       "      <th></th>\n",
       "      <th></th>\n",
       "      <th></th>\n",
       "      <th></th>\n",
       "      <th></th>\n",
       "    </tr>\n",
       "  </thead>\n",
       "  <tbody>\n",
       "    <tr>\n",
       "      <th>1001254</th>\n",
       "      <td>Clean &amp; quiet apt home by the park</td>\n",
       "      <td>80014485718</td>\n",
       "      <td>unconfirmed</td>\n",
       "      <td>Madaline</td>\n",
       "      <td>Brooklyn</td>\n",
       "      <td>Kensington</td>\n",
       "      <td>False</td>\n",
       "      <td>strict</td>\n",
       "      <td>Private room</td>\n",
       "      <td>2020.0</td>\n",
       "      <td>966.0</td>\n",
       "      <td>193</td>\n",
       "      <td>10.0</td>\n",
       "      <td>9.0</td>\n",
       "      <td>286.0</td>\n",
       "      <td>Clean up and treat the home the way you'd like...</td>\n",
       "      <td>NaN</td>\n",
       "      <td>Brooklyn Kensington</td>\n",
       "    </tr>\n",
       "    <tr>\n",
       "      <th>1002102</th>\n",
       "      <td>Skylit Midtown Castle</td>\n",
       "      <td>52335172823</td>\n",
       "      <td>verified</td>\n",
       "      <td>Jenna</td>\n",
       "      <td>Manhattan</td>\n",
       "      <td>Midtown</td>\n",
       "      <td>False</td>\n",
       "      <td>moderate</td>\n",
       "      <td>Entire home/apt</td>\n",
       "      <td>2007.0</td>\n",
       "      <td>142.0</td>\n",
       "      <td>28</td>\n",
       "      <td>30.0</td>\n",
       "      <td>45.0</td>\n",
       "      <td>228.0</td>\n",
       "      <td>Pet friendly but please confirm with me if the...</td>\n",
       "      <td>NaN</td>\n",
       "      <td>Manhattan Midtown</td>\n",
       "    </tr>\n",
       "    <tr>\n",
       "      <th>1002403</th>\n",
       "      <td>THE VILLAGE OF HARLEM....NEW YORK !</td>\n",
       "      <td>78829239556</td>\n",
       "      <td>unconfirmed</td>\n",
       "      <td>Elise</td>\n",
       "      <td>Manhattan</td>\n",
       "      <td>Harlem</td>\n",
       "      <td>True</td>\n",
       "      <td>flexible</td>\n",
       "      <td>Private room</td>\n",
       "      <td>2005.0</td>\n",
       "      <td>620.0</td>\n",
       "      <td>124</td>\n",
       "      <td>3.0</td>\n",
       "      <td>0.0</td>\n",
       "      <td>352.0</td>\n",
       "      <td>I encourage you to use my kitchen, cooking and...</td>\n",
       "      <td>NaN</td>\n",
       "      <td>Manhattan Harlem</td>\n",
       "    </tr>\n",
       "    <tr>\n",
       "      <th>1003689</th>\n",
       "      <td>Entire Apt: Spacious Studio/Loft by central park</td>\n",
       "      <td>92037596077</td>\n",
       "      <td>verified</td>\n",
       "      <td>Lyndon</td>\n",
       "      <td>Manhattan</td>\n",
       "      <td>East Harlem</td>\n",
       "      <td>False</td>\n",
       "      <td>moderate</td>\n",
       "      <td>Entire home/apt</td>\n",
       "      <td>2009.0</td>\n",
       "      <td>204.0</td>\n",
       "      <td>41</td>\n",
       "      <td>10.0</td>\n",
       "      <td>9.0</td>\n",
       "      <td>289.0</td>\n",
       "      <td>Please no smoking in the house, porch or on th...</td>\n",
       "      <td>NaN</td>\n",
       "      <td>Manhattan East Harlem</td>\n",
       "    </tr>\n",
       "    <tr>\n",
       "      <th>1004098</th>\n",
       "      <td>Large Cozy 1 BR Apartment In Midtown East</td>\n",
       "      <td>45498551794</td>\n",
       "      <td>verified</td>\n",
       "      <td>Michelle</td>\n",
       "      <td>Manhattan</td>\n",
       "      <td>Murray Hill</td>\n",
       "      <td>True</td>\n",
       "      <td>flexible</td>\n",
       "      <td>Entire home/apt</td>\n",
       "      <td>2013.0</td>\n",
       "      <td>577.0</td>\n",
       "      <td>115</td>\n",
       "      <td>3.0</td>\n",
       "      <td>74.0</td>\n",
       "      <td>374.0</td>\n",
       "      <td>No smoking, please, and no drugs.</td>\n",
       "      <td>NaN</td>\n",
       "      <td>Manhattan Murray Hill</td>\n",
       "    </tr>\n",
       "    <tr>\n",
       "      <th>...</th>\n",
       "      <td>...</td>\n",
       "      <td>...</td>\n",
       "      <td>...</td>\n",
       "      <td>...</td>\n",
       "      <td>...</td>\n",
       "      <td>...</td>\n",
       "      <td>...</td>\n",
       "      <td>...</td>\n",
       "      <td>...</td>\n",
       "      <td>...</td>\n",
       "      <td>...</td>\n",
       "      <td>...</td>\n",
       "      <td>...</td>\n",
       "      <td>...</td>\n",
       "      <td>...</td>\n",
       "      <td>...</td>\n",
       "      <td>...</td>\n",
       "      <td>...</td>\n",
       "    </tr>\n",
       "    <tr>\n",
       "      <th>6092437</th>\n",
       "      <td>Spare room in Williamsburg</td>\n",
       "      <td>12312296767</td>\n",
       "      <td>verified</td>\n",
       "      <td>Krik</td>\n",
       "      <td>Brooklyn</td>\n",
       "      <td>Williamsburg</td>\n",
       "      <td>False</td>\n",
       "      <td>flexible</td>\n",
       "      <td>Private room</td>\n",
       "      <td>2003.0</td>\n",
       "      <td>844.0</td>\n",
       "      <td>169</td>\n",
       "      <td>1.0</td>\n",
       "      <td>0.0</td>\n",
       "      <td>227.0</td>\n",
       "      <td>No Smoking No Parties or Events of any kind Pl...</td>\n",
       "      <td>NaN</td>\n",
       "      <td>Brooklyn Williamsburg</td>\n",
       "    </tr>\n",
       "    <tr>\n",
       "      <th>6092990</th>\n",
       "      <td>Best Location near Columbia U</td>\n",
       "      <td>77864383453</td>\n",
       "      <td>unconfirmed</td>\n",
       "      <td>Mifan</td>\n",
       "      <td>Manhattan</td>\n",
       "      <td>Morningside Heights</td>\n",
       "      <td>True</td>\n",
       "      <td>moderate</td>\n",
       "      <td>Private room</td>\n",
       "      <td>2016.0</td>\n",
       "      <td>837.0</td>\n",
       "      <td>167</td>\n",
       "      <td>1.0</td>\n",
       "      <td>1.0</td>\n",
       "      <td>395.0</td>\n",
       "      <td>House rules: Guests agree to the following ter...</td>\n",
       "      <td>NaN</td>\n",
       "      <td>Manhattan Morningside Heights</td>\n",
       "    </tr>\n",
       "    <tr>\n",
       "      <th>6093542</th>\n",
       "      <td>Comfy, bright room in Brooklyn</td>\n",
       "      <td>69050334417</td>\n",
       "      <td>unconfirmed</td>\n",
       "      <td>Megan</td>\n",
       "      <td>Brooklyn</td>\n",
       "      <td>Park Slope</td>\n",
       "      <td>True</td>\n",
       "      <td>moderate</td>\n",
       "      <td>Private room</td>\n",
       "      <td>2009.0</td>\n",
       "      <td>988.0</td>\n",
       "      <td>198</td>\n",
       "      <td>3.0</td>\n",
       "      <td>0.0</td>\n",
       "      <td>342.0</td>\n",
       "      <td>NaN</td>\n",
       "      <td>NaN</td>\n",
       "      <td>Brooklyn Park Slope</td>\n",
       "    </tr>\n",
       "    <tr>\n",
       "      <th>6094094</th>\n",
       "      <td>Big Studio-One Stop from Midtown</td>\n",
       "      <td>11160591270</td>\n",
       "      <td>unconfirmed</td>\n",
       "      <td>Christopher</td>\n",
       "      <td>Queens</td>\n",
       "      <td>Long Island City</td>\n",
       "      <td>True</td>\n",
       "      <td>strict</td>\n",
       "      <td>Entire home/apt</td>\n",
       "      <td>2015.0</td>\n",
       "      <td>546.0</td>\n",
       "      <td>109</td>\n",
       "      <td>2.0</td>\n",
       "      <td>5.0</td>\n",
       "      <td>386.0</td>\n",
       "      <td>NaN</td>\n",
       "      <td>NaN</td>\n",
       "      <td>Queens Long Island City</td>\n",
       "    </tr>\n",
       "    <tr>\n",
       "      <th>6094647</th>\n",
       "      <td>585 sf Luxury Studio</td>\n",
       "      <td>68170633372</td>\n",
       "      <td>unconfirmed</td>\n",
       "      <td>Rebecca</td>\n",
       "      <td>Manhattan</td>\n",
       "      <td>Upper West Side</td>\n",
       "      <td>False</td>\n",
       "      <td>flexible</td>\n",
       "      <td>Entire home/apt</td>\n",
       "      <td>2010.0</td>\n",
       "      <td>1032.0</td>\n",
       "      <td>206</td>\n",
       "      <td>1.0</td>\n",
       "      <td>0.0</td>\n",
       "      <td>69.0</td>\n",
       "      <td>NaN</td>\n",
       "      <td>NaN</td>\n",
       "      <td>Manhattan Upper West Side</td>\n",
       "    </tr>\n",
       "  </tbody>\n",
       "</table>\n",
       "<p>102349 rows × 18 columns</p>\n",
       "</div>"
      ],
      "text/plain": [
       "                                                     name      host id  \\\n",
       "id                                                                       \n",
       "1001254                Clean & quiet apt home by the park  80014485718   \n",
       "1002102                             Skylit Midtown Castle  52335172823   \n",
       "1002403               THE VILLAGE OF HARLEM....NEW YORK !  78829239556   \n",
       "1003689  Entire Apt: Spacious Studio/Loft by central park  92037596077   \n",
       "1004098         Large Cozy 1 BR Apartment In Midtown East  45498551794   \n",
       "...                                                   ...          ...   \n",
       "6092437                        Spare room in Williamsburg  12312296767   \n",
       "6092990                     Best Location near Columbia U  77864383453   \n",
       "6093542                    Comfy, bright room in Brooklyn  69050334417   \n",
       "6094094                  Big Studio-One Stop from Midtown  11160591270   \n",
       "6094647                              585 sf Luxury Studio  68170633372   \n",
       "\n",
       "        host_identity_verified    host name neighbourhood group  \\\n",
       "id                                                                \n",
       "1001254            unconfirmed     Madaline            Brooklyn   \n",
       "1002102               verified        Jenna           Manhattan   \n",
       "1002403            unconfirmed        Elise           Manhattan   \n",
       "1003689               verified       Lyndon           Manhattan   \n",
       "1004098               verified     Michelle           Manhattan   \n",
       "...                        ...          ...                 ...   \n",
       "6092437               verified         Krik            Brooklyn   \n",
       "6092990            unconfirmed        Mifan           Manhattan   \n",
       "6093542            unconfirmed        Megan            Brooklyn   \n",
       "6094094            unconfirmed  Christopher              Queens   \n",
       "6094647            unconfirmed      Rebecca           Manhattan   \n",
       "\n",
       "               neighbourhood instant_bookable cancellation_policy  \\\n",
       "id                                                                  \n",
       "1001254           Kensington            False              strict   \n",
       "1002102              Midtown            False            moderate   \n",
       "1002403               Harlem             True            flexible   \n",
       "1003689          East Harlem            False            moderate   \n",
       "1004098          Murray Hill             True            flexible   \n",
       "...                      ...              ...                 ...   \n",
       "6092437         Williamsburg            False            flexible   \n",
       "6092990  Morningside Heights             True            moderate   \n",
       "6093542           Park Slope             True            moderate   \n",
       "6094094     Long Island City             True              strict   \n",
       "6094647      Upper West Side            False            flexible   \n",
       "\n",
       "               room type  Construction year   price  service fee  \\\n",
       "id                                                                 \n",
       "1001254     Private room             2020.0   966.0          193   \n",
       "1002102  Entire home/apt             2007.0   142.0           28   \n",
       "1002403     Private room             2005.0   620.0          124   \n",
       "1003689  Entire home/apt             2009.0   204.0           41   \n",
       "1004098  Entire home/apt             2013.0   577.0          115   \n",
       "...                  ...                ...     ...          ...   \n",
       "6092437     Private room             2003.0   844.0          169   \n",
       "6092990     Private room             2016.0   837.0          167   \n",
       "6093542     Private room             2009.0   988.0          198   \n",
       "6094094  Entire home/apt             2015.0   546.0          109   \n",
       "6094647  Entire home/apt             2010.0  1032.0          206   \n",
       "\n",
       "         minimum nights number of reviews  availability 365  \\\n",
       "id                                                            \n",
       "1001254            10.0               9.0             286.0   \n",
       "1002102            30.0              45.0             228.0   \n",
       "1002403             3.0               0.0             352.0   \n",
       "1003689            10.0               9.0             289.0   \n",
       "1004098             3.0              74.0             374.0   \n",
       "...                 ...               ...               ...   \n",
       "6092437             1.0               0.0             227.0   \n",
       "6092990             1.0               1.0             395.0   \n",
       "6093542             3.0               0.0             342.0   \n",
       "6094094             2.0               5.0             386.0   \n",
       "6094647             1.0               0.0              69.0   \n",
       "\n",
       "                                               house_rules license  \\\n",
       "id                                                                   \n",
       "1001254  Clean up and treat the home the way you'd like...     NaN   \n",
       "1002102  Pet friendly but please confirm with me if the...     NaN   \n",
       "1002403  I encourage you to use my kitchen, cooking and...     NaN   \n",
       "1003689  Please no smoking in the house, porch or on th...     NaN   \n",
       "1004098                  No smoking, please, and no drugs.     NaN   \n",
       "...                                                    ...     ...   \n",
       "6092437  No Smoking No Parties or Events of any kind Pl...     NaN   \n",
       "6092990  House rules: Guests agree to the following ter...     NaN   \n",
       "6093542                                                NaN     NaN   \n",
       "6094094                                                NaN     NaN   \n",
       "6094647                                                NaN     NaN   \n",
       "\n",
       "                                  area  \n",
       "id                                      \n",
       "1001254            Brooklyn Kensington  \n",
       "1002102              Manhattan Midtown  \n",
       "1002403               Manhattan Harlem  \n",
       "1003689          Manhattan East Harlem  \n",
       "1004098          Manhattan Murray Hill  \n",
       "...                                ...  \n",
       "6092437          Brooklyn Williamsburg  \n",
       "6092990  Manhattan Morningside Heights  \n",
       "6093542            Brooklyn Park Slope  \n",
       "6094094        Queens Long Island City  \n",
       "6094647      Manhattan Upper West Side  \n",
       "\n",
       "[102349 rows x 18 columns]"
      ]
     },
     "execution_count": 63,
     "metadata": {},
     "output_type": "execute_result"
    }
   ],
   "source": [
    "updated_df"
   ]
  },
  {
   "cell_type": "markdown",
   "id": "f92137a9",
   "metadata": {
    "papermill": {
     "duration": 0.028569,
     "end_time": "2024-07-15T08:54:18.919397",
     "exception": false,
     "start_time": "2024-07-15T08:54:18.890828",
     "status": "completed"
    },
    "tags": []
   },
   "source": [
    "**If house rules is null we keep it as no rules**"
   ]
  },
  {
   "cell_type": "code",
   "execution_count": 64,
   "id": "cd632ea9",
   "metadata": {
    "execution": {
     "iopub.execute_input": "2024-07-15T08:54:18.982241Z",
     "iopub.status.busy": "2024-07-15T08:54:18.981881Z",
     "iopub.status.idle": "2024-07-15T08:54:19.001470Z",
     "shell.execute_reply": "2024-07-15T08:54:19.000226Z"
    },
    "papermill": {
     "duration": 0.053924,
     "end_time": "2024-07-15T08:54:19.004214",
     "exception": false,
     "start_time": "2024-07-15T08:54:18.950290",
     "status": "completed"
    },
    "tags": []
   },
   "outputs": [],
   "source": [
    "updated_df['house_rules'] = updated_df['house_rules'].fillna('no rules')"
   ]
  },
  {
   "cell_type": "code",
   "execution_count": 65,
   "id": "08bd5c9f",
   "metadata": {
    "execution": {
     "iopub.execute_input": "2024-07-15T08:54:19.066008Z",
     "iopub.status.busy": "2024-07-15T08:54:19.065645Z",
     "iopub.status.idle": "2024-07-15T08:54:19.151766Z",
     "shell.execute_reply": "2024-07-15T08:54:19.150549Z"
    },
    "papermill": {
     "duration": 0.120608,
     "end_time": "2024-07-15T08:54:19.154598",
     "exception": false,
     "start_time": "2024-07-15T08:54:19.033990",
     "status": "completed"
    },
    "tags": []
   },
   "outputs": [
    {
     "data": {
      "text/plain": [
       "name                           0\n",
       "host id                        0\n",
       "host_identity_verified         0\n",
       "host name                      0\n",
       "neighbourhood group           27\n",
       "neighbourhood                 16\n",
       "instant_bookable               0\n",
       "cancellation_policy            0\n",
       "room type                      0\n",
       "Construction year              0\n",
       "price                          0\n",
       "service fee                    0\n",
       "minimum nights                 0\n",
       "number of reviews              0\n",
       "availability 365               0\n",
       "house_rules                    0\n",
       "license                   102347\n",
       "area                          43\n",
       "dtype: int64"
      ]
     },
     "execution_count": 65,
     "metadata": {},
     "output_type": "execute_result"
    }
   ],
   "source": [
    "updated_df.isna().sum()"
   ]
  },
  {
   "cell_type": "code",
   "execution_count": 66,
   "id": "910740bf",
   "metadata": {
    "execution": {
     "iopub.execute_input": "2024-07-15T08:54:19.216228Z",
     "iopub.status.busy": "2024-07-15T08:54:19.215459Z",
     "iopub.status.idle": "2024-07-15T08:54:19.227141Z",
     "shell.execute_reply": "2024-07-15T08:54:19.226084Z"
    },
    "papermill": {
     "duration": 0.045016,
     "end_time": "2024-07-15T08:54:19.229221",
     "exception": false,
     "start_time": "2024-07-15T08:54:19.184205",
     "status": "completed"
    },
    "tags": []
   },
   "outputs": [
    {
     "data": {
      "text/plain": [
       "array([nan, '41662/AL'], dtype=object)"
      ]
     },
     "execution_count": 66,
     "metadata": {},
     "output_type": "execute_result"
    }
   ],
   "source": [
    "updated_df['license'].unique()"
   ]
  },
  {
   "cell_type": "markdown",
   "id": "7e04cdc0",
   "metadata": {
    "papermill": {
     "duration": 0.028767,
     "end_time": "2024-07-15T08:54:19.287903",
     "exception": false,
     "start_time": "2024-07-15T08:54:19.259136",
     "status": "completed"
    },
    "tags": []
   },
   "source": [
    "**There is only 1 type of license and majority are null so we are droping this column**"
   ]
  },
  {
   "cell_type": "code",
   "execution_count": 67,
   "id": "5c292b23",
   "metadata": {
    "execution": {
     "iopub.execute_input": "2024-07-15T08:54:19.349762Z",
     "iopub.status.busy": "2024-07-15T08:54:19.349336Z",
     "iopub.status.idle": "2024-07-15T08:54:19.420727Z",
     "shell.execute_reply": "2024-07-15T08:54:19.419722Z"
    },
    "papermill": {
     "duration": 0.105388,
     "end_time": "2024-07-15T08:54:19.423494",
     "exception": false,
     "start_time": "2024-07-15T08:54:19.318106",
     "status": "completed"
    },
    "tags": []
   },
   "outputs": [],
   "source": [
    "updated_df.drop(columns = ['license'],inplace = True)"
   ]
  },
  {
   "cell_type": "code",
   "execution_count": 68,
   "id": "a626d0cd",
   "metadata": {
    "execution": {
     "iopub.execute_input": "2024-07-15T08:54:19.485280Z",
     "iopub.status.busy": "2024-07-15T08:54:19.484908Z",
     "iopub.status.idle": "2024-07-15T08:54:19.548171Z",
     "shell.execute_reply": "2024-07-15T08:54:19.547012Z"
    },
    "papermill": {
     "duration": 0.096594,
     "end_time": "2024-07-15T08:54:19.550623",
     "exception": false,
     "start_time": "2024-07-15T08:54:19.454029",
     "status": "completed"
    },
    "tags": []
   },
   "outputs": [
    {
     "data": {
      "text/plain": [
       "name                       0\n",
       "host id                    0\n",
       "host_identity_verified     0\n",
       "host name                  0\n",
       "neighbourhood group       27\n",
       "neighbourhood             16\n",
       "instant_bookable           0\n",
       "cancellation_policy        0\n",
       "room type                  0\n",
       "Construction year          0\n",
       "price                      0\n",
       "service fee                0\n",
       "minimum nights             0\n",
       "number of reviews          0\n",
       "availability 365           0\n",
       "house_rules                0\n",
       "area                      43\n",
       "dtype: int64"
      ]
     },
     "execution_count": 68,
     "metadata": {},
     "output_type": "execute_result"
    }
   ],
   "source": [
    "updated_df.isna().sum()"
   ]
  },
  {
   "cell_type": "markdown",
   "id": "879de9d2",
   "metadata": {
    "papermill": {
     "duration": 0.029309,
     "end_time": "2024-07-15T08:54:19.611287",
     "exception": false,
     "start_time": "2024-07-15T08:54:19.581978",
     "status": "completed"
    },
    "tags": []
   },
   "source": [
    "**We keep null address as unknown**"
   ]
  },
  {
   "cell_type": "code",
   "execution_count": 69,
   "id": "dea625c9",
   "metadata": {
    "execution": {
     "iopub.execute_input": "2024-07-15T08:54:19.672616Z",
     "iopub.status.busy": "2024-07-15T08:54:19.672132Z",
     "iopub.status.idle": "2024-07-15T08:54:19.689315Z",
     "shell.execute_reply": "2024-07-15T08:54:19.688123Z"
    },
    "papermill": {
     "duration": 0.050427,
     "end_time": "2024-07-15T08:54:19.691877",
     "exception": false,
     "start_time": "2024-07-15T08:54:19.641450",
     "status": "completed"
    },
    "tags": []
   },
   "outputs": [],
   "source": [
    "updated_df['area'] = updated_df['area'].fillna('Unknown')"
   ]
  },
  {
   "cell_type": "code",
   "execution_count": 70,
   "id": "4d6910f6",
   "metadata": {
    "execution": {
     "iopub.execute_input": "2024-07-15T08:54:19.755302Z",
     "iopub.status.busy": "2024-07-15T08:54:19.754424Z",
     "iopub.status.idle": "2024-07-15T08:54:19.816988Z",
     "shell.execute_reply": "2024-07-15T08:54:19.815925Z"
    },
    "papermill": {
     "duration": 0.096549,
     "end_time": "2024-07-15T08:54:19.819489",
     "exception": false,
     "start_time": "2024-07-15T08:54:19.722940",
     "status": "completed"
    },
    "tags": []
   },
   "outputs": [
    {
     "data": {
      "text/plain": [
       "name                       0\n",
       "host id                    0\n",
       "host_identity_verified     0\n",
       "host name                  0\n",
       "neighbourhood group       27\n",
       "neighbourhood             16\n",
       "instant_bookable           0\n",
       "cancellation_policy        0\n",
       "room type                  0\n",
       "Construction year          0\n",
       "price                      0\n",
       "service fee                0\n",
       "minimum nights             0\n",
       "number of reviews          0\n",
       "availability 365           0\n",
       "house_rules                0\n",
       "area                       0\n",
       "dtype: int64"
      ]
     },
     "execution_count": 70,
     "metadata": {},
     "output_type": "execute_result"
    }
   ],
   "source": [
    "updated_df.isna().sum()"
   ]
  },
  {
   "cell_type": "markdown",
   "id": "076fd892",
   "metadata": {
    "papermill": {
     "duration": 0.02985,
     "end_time": "2024-07-15T08:54:19.879698",
     "exception": false,
     "start_time": "2024-07-15T08:54:19.849848",
     "status": "completed"
    },
    "tags": []
   },
   "source": [
    "**Handling neighbourhood group and neighbourhood**"
   ]
  },
  {
   "cell_type": "code",
   "execution_count": 71,
   "id": "d4f30193",
   "metadata": {
    "execution": {
     "iopub.execute_input": "2024-07-15T08:54:19.941642Z",
     "iopub.status.busy": "2024-07-15T08:54:19.940933Z",
     "iopub.status.idle": "2024-07-15T08:54:19.964491Z",
     "shell.execute_reply": "2024-07-15T08:54:19.963237Z"
    },
    "papermill": {
     "duration": 0.057388,
     "end_time": "2024-07-15T08:54:19.967028",
     "exception": false,
     "start_time": "2024-07-15T08:54:19.909640",
     "status": "completed"
    },
    "tags": []
   },
   "outputs": [],
   "source": [
    "updated_df['neighbourhood group'] = updated_df['neighbourhood group'].fillna('unknown')\n",
    "updated_df['neighbourhood'] = updated_df['neighbourhood'].fillna('unknown')"
   ]
  },
  {
   "cell_type": "code",
   "execution_count": 72,
   "id": "48b694f3",
   "metadata": {
    "execution": {
     "iopub.execute_input": "2024-07-15T08:54:20.029724Z",
     "iopub.status.busy": "2024-07-15T08:54:20.029263Z",
     "iopub.status.idle": "2024-07-15T08:54:20.093039Z",
     "shell.execute_reply": "2024-07-15T08:54:20.091766Z"
    },
    "papermill": {
     "duration": 0.097879,
     "end_time": "2024-07-15T08:54:20.095742",
     "exception": false,
     "start_time": "2024-07-15T08:54:19.997863",
     "status": "completed"
    },
    "tags": []
   },
   "outputs": [
    {
     "data": {
      "text/plain": [
       "name                      0\n",
       "host id                   0\n",
       "host_identity_verified    0\n",
       "host name                 0\n",
       "neighbourhood group       0\n",
       "neighbourhood             0\n",
       "instant_bookable          0\n",
       "cancellation_policy       0\n",
       "room type                 0\n",
       "Construction year         0\n",
       "price                     0\n",
       "service fee               0\n",
       "minimum nights            0\n",
       "number of reviews         0\n",
       "availability 365          0\n",
       "house_rules               0\n",
       "area                      0\n",
       "dtype: int64"
      ]
     },
     "execution_count": 72,
     "metadata": {},
     "output_type": "execute_result"
    }
   ],
   "source": [
    "updated_df.isna().sum()"
   ]
  },
  {
   "cell_type": "markdown",
   "id": "06dccb81",
   "metadata": {
    "papermill": {
     "duration": 0.030523,
     "end_time": "2024-07-15T08:54:20.156794",
     "exception": false,
     "start_time": "2024-07-15T08:54:20.126271",
     "status": "completed"
    },
    "tags": []
   },
   "source": [
    "**Analysis on the cleaned data**"
   ]
  },
  {
   "cell_type": "markdown",
   "id": "e0fe2ec5",
   "metadata": {
    "papermill": {
     "duration": 0.029715,
     "end_time": "2024-07-15T08:54:20.216812",
     "exception": false,
     "start_time": "2024-07-15T08:54:20.187097",
     "status": "completed"
    },
    "tags": []
   },
   "source": [
    "**First we are ploting to see no of reviews count of hotel based on area**"
   ]
  },
  {
   "cell_type": "code",
   "execution_count": 73,
   "id": "77d3ffa8",
   "metadata": {
    "execution": {
     "iopub.execute_input": "2024-07-15T08:54:20.279716Z",
     "iopub.status.busy": "2024-07-15T08:54:20.279318Z",
     "iopub.status.idle": "2024-07-15T08:54:20.284167Z",
     "shell.execute_reply": "2024-07-15T08:54:20.283077Z"
    },
    "papermill": {
     "duration": 0.039779,
     "end_time": "2024-07-15T08:54:20.286780",
     "exception": false,
     "start_time": "2024-07-15T08:54:20.247001",
     "status": "completed"
    },
    "tags": []
   },
   "outputs": [],
   "source": [
    "import matplotlib.pyplot as plt"
   ]
  },
  {
   "cell_type": "markdown",
   "id": "65993637",
   "metadata": {
    "papermill": {
     "duration": 0.029736,
     "end_time": "2024-07-15T08:54:20.346886",
     "exception": false,
     "start_time": "2024-07-15T08:54:20.317150",
     "status": "completed"
    },
    "tags": []
   },
   "source": [
    "**Coverting no of reviews into float datatype**"
   ]
  },
  {
   "cell_type": "markdown",
   "id": "c0b9df9a",
   "metadata": {
    "papermill": {
     "duration": 0.029596,
     "end_time": "2024-07-15T08:54:20.406660",
     "exception": false,
     "start_time": "2024-07-15T08:54:20.377064",
     "status": "completed"
    },
    "tags": []
   },
   "source": [
    "**Converting no reviews to 0**"
   ]
  },
  {
   "cell_type": "code",
   "execution_count": 74,
   "id": "adbb24d9",
   "metadata": {
    "execution": {
     "iopub.execute_input": "2024-07-15T08:54:20.468840Z",
     "iopub.status.busy": "2024-07-15T08:54:20.468409Z",
     "iopub.status.idle": "2024-07-15T08:54:20.473864Z",
     "shell.execute_reply": "2024-07-15T08:54:20.472638Z"
    },
    "papermill": {
     "duration": 0.039442,
     "end_time": "2024-07-15T08:54:20.476208",
     "exception": false,
     "start_time": "2024-07-15T08:54:20.436766",
     "status": "completed"
    },
    "tags": []
   },
   "outputs": [],
   "source": [
    "def converting_reviews(x):\n",
    "    if x == 'no reviews':\n",
    "        return float(0)\n",
    "    else:\n",
    "        return float(x)"
   ]
  },
  {
   "cell_type": "code",
   "execution_count": 75,
   "id": "ffb1b854",
   "metadata": {
    "execution": {
     "iopub.execute_input": "2024-07-15T08:54:20.538504Z",
     "iopub.status.busy": "2024-07-15T08:54:20.538117Z",
     "iopub.status.idle": "2024-07-15T08:54:20.573328Z",
     "shell.execute_reply": "2024-07-15T08:54:20.571731Z"
    },
    "papermill": {
     "duration": 0.069095,
     "end_time": "2024-07-15T08:54:20.575918",
     "exception": false,
     "start_time": "2024-07-15T08:54:20.506823",
     "status": "completed"
    },
    "tags": []
   },
   "outputs": [],
   "source": [
    "temp = updated_df['number of reviews'].map(converting_reviews)\n",
    "updated_df['number of reviews'] = temp"
   ]
  },
  {
   "cell_type": "code",
   "execution_count": 76,
   "id": "008960f2",
   "metadata": {
    "execution": {
     "iopub.execute_input": "2024-07-15T08:54:20.637209Z",
     "iopub.status.busy": "2024-07-15T08:54:20.636827Z",
     "iopub.status.idle": "2024-07-15T08:54:20.652956Z",
     "shell.execute_reply": "2024-07-15T08:54:20.651705Z"
    },
    "papermill": {
     "duration": 0.049533,
     "end_time": "2024-07-15T08:54:20.655531",
     "exception": false,
     "start_time": "2024-07-15T08:54:20.605998",
     "status": "completed"
    },
    "tags": []
   },
   "outputs": [],
   "source": [
    "temp = updated_df.groupby(['neighbourhood group'])['number of reviews'].count()"
   ]
  },
  {
   "cell_type": "code",
   "execution_count": 77,
   "id": "b405f0b8",
   "metadata": {
    "execution": {
     "iopub.execute_input": "2024-07-15T08:54:20.716912Z",
     "iopub.status.busy": "2024-07-15T08:54:20.716496Z",
     "iopub.status.idle": "2024-07-15T08:54:20.724319Z",
     "shell.execute_reply": "2024-07-15T08:54:20.723268Z"
    },
    "papermill": {
     "duration": 0.041194,
     "end_time": "2024-07-15T08:54:20.726750",
     "exception": false,
     "start_time": "2024-07-15T08:54:20.685556",
     "status": "completed"
    },
    "tags": []
   },
   "outputs": [
    {
     "data": {
      "text/plain": [
       "neighbourhood group\n",
       "Bronx             2704\n",
       "Brooklyn         41734\n",
       "Manhattan        43689\n",
       "Queens           13239\n",
       "Staten Island      954\n",
       "brookln              1\n",
       "manhatan             1\n",
       "unknown             27\n",
       "Name: number of reviews, dtype: int64"
      ]
     },
     "execution_count": 77,
     "metadata": {},
     "output_type": "execute_result"
    }
   ],
   "source": [
    "temp"
   ]
  },
  {
   "cell_type": "code",
   "execution_count": 78,
   "id": "fef917c3",
   "metadata": {
    "execution": {
     "iopub.execute_input": "2024-07-15T08:54:20.789251Z",
     "iopub.status.busy": "2024-07-15T08:54:20.788886Z",
     "iopub.status.idle": "2024-07-15T08:54:20.811247Z",
     "shell.execute_reply": "2024-07-15T08:54:20.810044Z"
    },
    "papermill": {
     "duration": 0.05614,
     "end_time": "2024-07-15T08:54:20.813474",
     "exception": false,
     "start_time": "2024-07-15T08:54:20.757334",
     "status": "completed"
    },
    "tags": []
   },
   "outputs": [
    {
     "data": {
      "text/html": [
       "<div>\n",
       "<style scoped>\n",
       "    .dataframe tbody tr th:only-of-type {\n",
       "        vertical-align: middle;\n",
       "    }\n",
       "\n",
       "    .dataframe tbody tr th {\n",
       "        vertical-align: top;\n",
       "    }\n",
       "\n",
       "    .dataframe thead th {\n",
       "        text-align: right;\n",
       "    }\n",
       "</style>\n",
       "<table border=\"1\" class=\"dataframe\">\n",
       "  <thead>\n",
       "    <tr style=\"text-align: right;\">\n",
       "      <th></th>\n",
       "      <th>name</th>\n",
       "      <th>host id</th>\n",
       "      <th>host_identity_verified</th>\n",
       "      <th>host name</th>\n",
       "      <th>neighbourhood group</th>\n",
       "      <th>neighbourhood</th>\n",
       "      <th>instant_bookable</th>\n",
       "      <th>cancellation_policy</th>\n",
       "      <th>room type</th>\n",
       "      <th>Construction year</th>\n",
       "      <th>price</th>\n",
       "      <th>service fee</th>\n",
       "      <th>minimum nights</th>\n",
       "      <th>number of reviews</th>\n",
       "      <th>availability 365</th>\n",
       "      <th>house_rules</th>\n",
       "      <th>area</th>\n",
       "    </tr>\n",
       "    <tr>\n",
       "      <th>id</th>\n",
       "      <th></th>\n",
       "      <th></th>\n",
       "      <th></th>\n",
       "      <th></th>\n",
       "      <th></th>\n",
       "      <th></th>\n",
       "      <th></th>\n",
       "      <th></th>\n",
       "      <th></th>\n",
       "      <th></th>\n",
       "      <th></th>\n",
       "      <th></th>\n",
       "      <th></th>\n",
       "      <th></th>\n",
       "      <th></th>\n",
       "      <th></th>\n",
       "      <th></th>\n",
       "    </tr>\n",
       "  </thead>\n",
       "  <tbody>\n",
       "    <tr>\n",
       "      <th>1001254</th>\n",
       "      <td>Clean &amp; quiet apt home by the park</td>\n",
       "      <td>80014485718</td>\n",
       "      <td>unconfirmed</td>\n",
       "      <td>Madaline</td>\n",
       "      <td>Brooklyn</td>\n",
       "      <td>Kensington</td>\n",
       "      <td>False</td>\n",
       "      <td>strict</td>\n",
       "      <td>Private room</td>\n",
       "      <td>2020.0</td>\n",
       "      <td>966.0</td>\n",
       "      <td>193</td>\n",
       "      <td>10.0</td>\n",
       "      <td>9.0</td>\n",
       "      <td>286.0</td>\n",
       "      <td>Clean up and treat the home the way you'd like...</td>\n",
       "      <td>Brooklyn Kensington</td>\n",
       "    </tr>\n",
       "    <tr>\n",
       "      <th>1002102</th>\n",
       "      <td>Skylit Midtown Castle</td>\n",
       "      <td>52335172823</td>\n",
       "      <td>verified</td>\n",
       "      <td>Jenna</td>\n",
       "      <td>Manhattan</td>\n",
       "      <td>Midtown</td>\n",
       "      <td>False</td>\n",
       "      <td>moderate</td>\n",
       "      <td>Entire home/apt</td>\n",
       "      <td>2007.0</td>\n",
       "      <td>142.0</td>\n",
       "      <td>28</td>\n",
       "      <td>30.0</td>\n",
       "      <td>45.0</td>\n",
       "      <td>228.0</td>\n",
       "      <td>Pet friendly but please confirm with me if the...</td>\n",
       "      <td>Manhattan Midtown</td>\n",
       "    </tr>\n",
       "    <tr>\n",
       "      <th>1002403</th>\n",
       "      <td>THE VILLAGE OF HARLEM....NEW YORK !</td>\n",
       "      <td>78829239556</td>\n",
       "      <td>unconfirmed</td>\n",
       "      <td>Elise</td>\n",
       "      <td>Manhattan</td>\n",
       "      <td>Harlem</td>\n",
       "      <td>True</td>\n",
       "      <td>flexible</td>\n",
       "      <td>Private room</td>\n",
       "      <td>2005.0</td>\n",
       "      <td>620.0</td>\n",
       "      <td>124</td>\n",
       "      <td>3.0</td>\n",
       "      <td>0.0</td>\n",
       "      <td>352.0</td>\n",
       "      <td>I encourage you to use my kitchen, cooking and...</td>\n",
       "      <td>Manhattan Harlem</td>\n",
       "    </tr>\n",
       "    <tr>\n",
       "      <th>1003689</th>\n",
       "      <td>Entire Apt: Spacious Studio/Loft by central park</td>\n",
       "      <td>92037596077</td>\n",
       "      <td>verified</td>\n",
       "      <td>Lyndon</td>\n",
       "      <td>Manhattan</td>\n",
       "      <td>East Harlem</td>\n",
       "      <td>False</td>\n",
       "      <td>moderate</td>\n",
       "      <td>Entire home/apt</td>\n",
       "      <td>2009.0</td>\n",
       "      <td>204.0</td>\n",
       "      <td>41</td>\n",
       "      <td>10.0</td>\n",
       "      <td>9.0</td>\n",
       "      <td>289.0</td>\n",
       "      <td>Please no smoking in the house, porch or on th...</td>\n",
       "      <td>Manhattan East Harlem</td>\n",
       "    </tr>\n",
       "    <tr>\n",
       "      <th>1004098</th>\n",
       "      <td>Large Cozy 1 BR Apartment In Midtown East</td>\n",
       "      <td>45498551794</td>\n",
       "      <td>verified</td>\n",
       "      <td>Michelle</td>\n",
       "      <td>Manhattan</td>\n",
       "      <td>Murray Hill</td>\n",
       "      <td>True</td>\n",
       "      <td>flexible</td>\n",
       "      <td>Entire home/apt</td>\n",
       "      <td>2013.0</td>\n",
       "      <td>577.0</td>\n",
       "      <td>115</td>\n",
       "      <td>3.0</td>\n",
       "      <td>74.0</td>\n",
       "      <td>374.0</td>\n",
       "      <td>No smoking, please, and no drugs.</td>\n",
       "      <td>Manhattan Murray Hill</td>\n",
       "    </tr>\n",
       "  </tbody>\n",
       "</table>\n",
       "</div>"
      ],
      "text/plain": [
       "                                                     name      host id  \\\n",
       "id                                                                       \n",
       "1001254                Clean & quiet apt home by the park  80014485718   \n",
       "1002102                             Skylit Midtown Castle  52335172823   \n",
       "1002403               THE VILLAGE OF HARLEM....NEW YORK !  78829239556   \n",
       "1003689  Entire Apt: Spacious Studio/Loft by central park  92037596077   \n",
       "1004098         Large Cozy 1 BR Apartment In Midtown East  45498551794   \n",
       "\n",
       "        host_identity_verified host name neighbourhood group neighbourhood  \\\n",
       "id                                                                           \n",
       "1001254            unconfirmed  Madaline            Brooklyn    Kensington   \n",
       "1002102               verified     Jenna           Manhattan       Midtown   \n",
       "1002403            unconfirmed     Elise           Manhattan        Harlem   \n",
       "1003689               verified    Lyndon           Manhattan   East Harlem   \n",
       "1004098               verified  Michelle           Manhattan   Murray Hill   \n",
       "\n",
       "        instant_bookable cancellation_policy        room type  \\\n",
       "id                                                              \n",
       "1001254            False              strict     Private room   \n",
       "1002102            False            moderate  Entire home/apt   \n",
       "1002403             True            flexible     Private room   \n",
       "1003689            False            moderate  Entire home/apt   \n",
       "1004098             True            flexible  Entire home/apt   \n",
       "\n",
       "         Construction year  price  service fee  minimum nights  \\\n",
       "id                                                               \n",
       "1001254             2020.0  966.0          193            10.0   \n",
       "1002102             2007.0  142.0           28            30.0   \n",
       "1002403             2005.0  620.0          124             3.0   \n",
       "1003689             2009.0  204.0           41            10.0   \n",
       "1004098             2013.0  577.0          115             3.0   \n",
       "\n",
       "         number of reviews  availability 365  \\\n",
       "id                                             \n",
       "1001254                9.0             286.0   \n",
       "1002102               45.0             228.0   \n",
       "1002403                0.0             352.0   \n",
       "1003689                9.0             289.0   \n",
       "1004098               74.0             374.0   \n",
       "\n",
       "                                               house_rules  \\\n",
       "id                                                           \n",
       "1001254  Clean up and treat the home the way you'd like...   \n",
       "1002102  Pet friendly but please confirm with me if the...   \n",
       "1002403  I encourage you to use my kitchen, cooking and...   \n",
       "1003689  Please no smoking in the house, porch or on th...   \n",
       "1004098                  No smoking, please, and no drugs.   \n",
       "\n",
       "                          area  \n",
       "id                              \n",
       "1001254    Brooklyn Kensington  \n",
       "1002102      Manhattan Midtown  \n",
       "1002403       Manhattan Harlem  \n",
       "1003689  Manhattan East Harlem  \n",
       "1004098  Manhattan Murray Hill  "
      ]
     },
     "execution_count": 78,
     "metadata": {},
     "output_type": "execute_result"
    }
   ],
   "source": [
    "updated_df.head()"
   ]
  },
  {
   "cell_type": "code",
   "execution_count": 79,
   "id": "2bf4339a",
   "metadata": {
    "execution": {
     "iopub.execute_input": "2024-07-15T08:54:20.875945Z",
     "iopub.status.busy": "2024-07-15T08:54:20.875564Z",
     "iopub.status.idle": "2024-07-15T08:54:21.154576Z",
     "shell.execute_reply": "2024-07-15T08:54:21.153572Z"
    },
    "papermill": {
     "duration": 0.313131,
     "end_time": "2024-07-15T08:54:21.157025",
     "exception": false,
     "start_time": "2024-07-15T08:54:20.843894",
     "status": "completed"
    },
    "tags": []
   },
   "outputs": [
    {
     "data": {
      "text/plain": [
       "<Axes: xlabel='neighbourhood group'>"
      ]
     },
     "execution_count": 79,
     "metadata": {},
     "output_type": "execute_result"
    },
    {
     "data": {
      "image/png": "[encoded data removed]",
      "text/plain": [
       "<Figure size 640x480 with 1 Axes>"
      ]
     },
     "metadata": {},
     "output_type": "display_data"
    }
   ],
   "source": [
    "plt.tight_layout()\n",
    "temp.plot(kind = 'bar')"
   ]
  },
  {
   "cell_type": "markdown",
   "id": "8971becc",
   "metadata": {
    "papermill": {
     "duration": 0.030957,
     "end_time": "2024-07-15T08:54:21.219242",
     "exception": false,
     "start_time": "2024-07-15T08:54:21.188285",
     "status": "completed"
    },
    "tags": []
   },
   "source": [
    "**Most reviews are given to hotels in Brooklyn and Manhattan**"
   ]
  },
  {
   "cell_type": "code",
   "execution_count": 80,
   "id": "1abf9fd8",
   "metadata": {
    "execution": {
     "iopub.execute_input": "2024-07-15T08:54:21.283954Z",
     "iopub.status.busy": "2024-07-15T08:54:21.282973Z",
     "iopub.status.idle": "2024-07-15T08:54:21.309490Z",
     "shell.execute_reply": "2024-07-15T08:54:21.308371Z"
    },
    "papermill": {
     "duration": 0.061798,
     "end_time": "2024-07-15T08:54:21.312129",
     "exception": false,
     "start_time": "2024-07-15T08:54:21.250331",
     "status": "completed"
    },
    "tags": []
   },
   "outputs": [],
   "source": [
    "temp = updated_df.loc[(updated_df['neighbourhood group'] == 'Brooklyn')]"
   ]
  },
  {
   "cell_type": "code",
   "execution_count": 81,
   "id": "6cc9f3ef",
   "metadata": {
    "execution": {
     "iopub.execute_input": "2024-07-15T08:54:21.437136Z",
     "iopub.status.busy": "2024-07-15T08:54:21.436765Z",
     "iopub.status.idle": "2024-07-15T08:54:21.449075Z",
     "shell.execute_reply": "2024-07-15T08:54:21.447872Z"
    },
    "papermill": {
     "duration": 0.108283,
     "end_time": "2024-07-15T08:54:21.451679",
     "exception": false,
     "start_time": "2024-07-15T08:54:21.343396",
     "status": "completed"
    },
    "tags": []
   },
   "outputs": [],
   "source": [
    "temp = temp.groupby(['neighbourhood'])['number of reviews'].count()"
   ]
  },
  {
   "cell_type": "code",
   "execution_count": 82,
   "id": "7a0dc556",
   "metadata": {
    "execution": {
     "iopub.execute_input": "2024-07-15T08:54:21.515336Z",
     "iopub.status.busy": "2024-07-15T08:54:21.514957Z",
     "iopub.status.idle": "2024-07-15T08:54:21.523164Z",
     "shell.execute_reply": "2024-07-15T08:54:21.521974Z"
    },
    "papermill": {
     "duration": 0.043113,
     "end_time": "2024-07-15T08:54:21.525601",
     "exception": false,
     "start_time": "2024-07-15T08:54:21.482488",
     "status": "completed"
    },
    "tags": []
   },
   "outputs": [
    {
     "data": {
      "text/plain": [
       "neighbourhood\n",
       "Bath Beach                     48\n",
       "Bay Ridge                     304\n",
       "Bedford-Stuyvesant           7912\n",
       "Bensonhurst                   156\n",
       "Bergen Beach                   30\n",
       "Boerum Hill                   354\n",
       "Borough Park                  268\n",
       "Brighton Beach                168\n",
       "Brooklyn Heights              306\n",
       "Brownsville                   153\n",
       "Bushwick                     4968\n",
       "Canarsie                      402\n",
       "Carroll Gardens               479\n",
       "Clinton Hill                 1137\n",
       "Cobble Hill                   199\n",
       "Columbia St                    89\n",
       "Coney Island                   50\n",
       "Crown Heights                3255\n",
       "Cypress Hills                 336\n",
       "DUMBO                          69\n",
       "Downtown Brooklyn             174\n",
       "Dyker Heights                  25\n",
       "East Flatbush                1211\n",
       "East New York                 606\n",
       "Flatbush                     1293\n",
       "Flatlands                     217\n",
       "Fort Greene                   946\n",
       "Fort Hamilton                 120\n",
       "Gerritsen Beach                 3\n",
       "Gowanus                       493\n",
       "Gravesend                     142\n",
       "Greenpoint                   2135\n",
       "Kensington                    367\n",
       "Manhattan Beach                22\n",
       "Midwood                       235\n",
       "Mill Basin                     14\n",
       "Navy Yard                      31\n",
       "Park Slope                   1005\n",
       "Prospect Heights              693\n",
       "Prospect-Lefferts Gardens    1165\n",
       "Red Hook                      178\n",
       "Sea Gate                       20\n",
       "Sheepshead Bay                367\n",
       "South Slope                   567\n",
       "Sunset Park                   868\n",
       "Vinegar Hill                   72\n",
       "Williamsburg                 7743\n",
       "Windsor Terrace               331\n",
       "unknown                         8\n",
       "Name: number of reviews, dtype: int64"
      ]
     },
     "execution_count": 82,
     "metadata": {},
     "output_type": "execute_result"
    }
   ],
   "source": [
    "temp"
   ]
  },
  {
   "cell_type": "code",
   "execution_count": 83,
   "id": "80275c65",
   "metadata": {
    "execution": {
     "iopub.execute_input": "2024-07-15T08:54:21.591783Z",
     "iopub.status.busy": "2024-07-15T08:54:21.591385Z",
     "iopub.status.idle": "2024-07-15T08:54:22.299191Z",
     "shell.execute_reply": "2024-07-15T08:54:22.297999Z"
    },
    "papermill": {
     "duration": 0.744414,
     "end_time": "2024-07-15T08:54:22.301651",
     "exception": false,
     "start_time": "2024-07-15T08:54:21.557237",
     "status": "completed"
    },
    "tags": []
   },
   "outputs": [
    {
     "data": {
      "text/plain": [
       "<Axes: xlabel='neighbourhood'>"
      ]
     },
     "execution_count": 83,
     "metadata": {},
     "output_type": "execute_result"
    },
    {
     "data": {
      "image/png": "[encoded data removed]",
      "text/plain": [
       "<Figure size 1400x1200 with 1 Axes>"
      ]
     },
     "metadata": {},
     "output_type": "display_data"
    }
   ],
   "source": [
    "plt.figure(figsize = (14,12))\n",
    "plt.tight_layout()\n",
    "temp.plot(kind = 'bar')"
   ]
  },
  {
   "cell_type": "code",
   "execution_count": 84,
   "id": "357de489",
   "metadata": {
    "execution": {
     "iopub.execute_input": "2024-07-15T08:54:22.369841Z",
     "iopub.status.busy": "2024-07-15T08:54:22.368735Z",
     "iopub.status.idle": "2024-07-15T08:54:22.394981Z",
     "shell.execute_reply": "2024-07-15T08:54:22.393786Z"
    },
    "papermill": {
     "duration": 0.063347,
     "end_time": "2024-07-15T08:54:22.397734",
     "exception": false,
     "start_time": "2024-07-15T08:54:22.334387",
     "status": "completed"
    },
    "tags": []
   },
   "outputs": [],
   "source": [
    "temp = updated_df.loc[(updated_df['neighbourhood group'] == 'Manhattan')]"
   ]
  },
  {
   "cell_type": "code",
   "execution_count": 85,
   "id": "93133606",
   "metadata": {
    "execution": {
     "iopub.execute_input": "2024-07-15T08:54:22.464999Z",
     "iopub.status.busy": "2024-07-15T08:54:22.464624Z",
     "iopub.status.idle": "2024-07-15T08:54:22.477028Z",
     "shell.execute_reply": "2024-07-15T08:54:22.475834Z"
    },
    "papermill": {
     "duration": 0.049105,
     "end_time": "2024-07-15T08:54:22.479669",
     "exception": false,
     "start_time": "2024-07-15T08:54:22.430564",
     "status": "completed"
    },
    "tags": []
   },
   "outputs": [],
   "source": [
    "temp = temp.groupby(['neighbourhood'])['number of reviews'].count()"
   ]
  },
  {
   "cell_type": "code",
   "execution_count": 86,
   "id": "ad51ec93",
   "metadata": {
    "execution": {
     "iopub.execute_input": "2024-07-15T08:54:22.548655Z",
     "iopub.status.busy": "2024-07-15T08:54:22.548213Z",
     "iopub.status.idle": "2024-07-15T08:54:23.100682Z",
     "shell.execute_reply": "2024-07-15T08:54:23.099569Z"
    },
    "papermill": {
     "duration": 0.59038,
     "end_time": "2024-07-15T08:54:23.103045",
     "exception": false,
     "start_time": "2024-07-15T08:54:22.512665",
     "status": "completed"
    },
    "tags": []
   },
   "outputs": [
    {
     "data": {
      "text/plain": [
       "<Axes: xlabel='neighbourhood'>"
      ]
     },
     "execution_count": 86,
     "metadata": {},
     "output_type": "execute_result"
    },
    {
     "data": {
      "image/png": "[encoded data removed]",
      "text/plain": [
       "<Figure size 1400x1200 with 1 Axes>"
      ]
     },
     "metadata": {},
     "output_type": "display_data"
    }
   ],
   "source": [
    "plt.figure(figsize = (14,12))\n",
    "plt.tight_layout()\n",
    "temp.plot(kind = 'bar')"
   ]
  },
  {
   "cell_type": "code",
   "execution_count": 87,
   "id": "d91b4c78",
   "metadata": {
    "execution": {
     "iopub.execute_input": "2024-07-15T08:54:23.173004Z",
     "iopub.status.busy": "2024-07-15T08:54:23.172300Z",
     "iopub.status.idle": "2024-07-15T08:54:23.200219Z",
     "shell.execute_reply": "2024-07-15T08:54:23.199109Z"
    },
    "papermill": {
     "duration": 0.06555,
     "end_time": "2024-07-15T08:54:23.202626",
     "exception": false,
     "start_time": "2024-07-15T08:54:23.137076",
     "status": "completed"
    },
    "tags": []
   },
   "outputs": [
    {
     "data": {
      "text/html": [
       "<div>\n",
       "<style scoped>\n",
       "    .dataframe tbody tr th:only-of-type {\n",
       "        vertical-align: middle;\n",
       "    }\n",
       "\n",
       "    .dataframe tbody tr th {\n",
       "        vertical-align: top;\n",
       "    }\n",
       "\n",
       "    .dataframe thead th {\n",
       "        text-align: right;\n",
       "    }\n",
       "</style>\n",
       "<table border=\"1\" class=\"dataframe\">\n",
       "  <thead>\n",
       "    <tr style=\"text-align: right;\">\n",
       "      <th></th>\n",
       "      <th>name</th>\n",
       "      <th>host id</th>\n",
       "      <th>host_identity_verified</th>\n",
       "      <th>host name</th>\n",
       "      <th>neighbourhood group</th>\n",
       "      <th>neighbourhood</th>\n",
       "      <th>instant_bookable</th>\n",
       "      <th>cancellation_policy</th>\n",
       "      <th>room type</th>\n",
       "      <th>Construction year</th>\n",
       "      <th>price</th>\n",
       "      <th>service fee</th>\n",
       "      <th>minimum nights</th>\n",
       "      <th>number of reviews</th>\n",
       "      <th>availability 365</th>\n",
       "      <th>house_rules</th>\n",
       "      <th>area</th>\n",
       "    </tr>\n",
       "    <tr>\n",
       "      <th>id</th>\n",
       "      <th></th>\n",
       "      <th></th>\n",
       "      <th></th>\n",
       "      <th></th>\n",
       "      <th></th>\n",
       "      <th></th>\n",
       "      <th></th>\n",
       "      <th></th>\n",
       "      <th></th>\n",
       "      <th></th>\n",
       "      <th></th>\n",
       "      <th></th>\n",
       "      <th></th>\n",
       "      <th></th>\n",
       "      <th></th>\n",
       "      <th></th>\n",
       "      <th></th>\n",
       "    </tr>\n",
       "  </thead>\n",
       "  <tbody>\n",
       "    <tr>\n",
       "      <th>1001254</th>\n",
       "      <td>Clean &amp; quiet apt home by the park</td>\n",
       "      <td>80014485718</td>\n",
       "      <td>unconfirmed</td>\n",
       "      <td>Madaline</td>\n",
       "      <td>Brooklyn</td>\n",
       "      <td>Kensington</td>\n",
       "      <td>False</td>\n",
       "      <td>strict</td>\n",
       "      <td>Private room</td>\n",
       "      <td>2020.0</td>\n",
       "      <td>966.0</td>\n",
       "      <td>193</td>\n",
       "      <td>10.0</td>\n",
       "      <td>9.0</td>\n",
       "      <td>286.0</td>\n",
       "      <td>Clean up and treat the home the way you'd like...</td>\n",
       "      <td>Brooklyn Kensington</td>\n",
       "    </tr>\n",
       "    <tr>\n",
       "      <th>1002102</th>\n",
       "      <td>Skylit Midtown Castle</td>\n",
       "      <td>52335172823</td>\n",
       "      <td>verified</td>\n",
       "      <td>Jenna</td>\n",
       "      <td>Manhattan</td>\n",
       "      <td>Midtown</td>\n",
       "      <td>False</td>\n",
       "      <td>moderate</td>\n",
       "      <td>Entire home/apt</td>\n",
       "      <td>2007.0</td>\n",
       "      <td>142.0</td>\n",
       "      <td>28</td>\n",
       "      <td>30.0</td>\n",
       "      <td>45.0</td>\n",
       "      <td>228.0</td>\n",
       "      <td>Pet friendly but please confirm with me if the...</td>\n",
       "      <td>Manhattan Midtown</td>\n",
       "    </tr>\n",
       "    <tr>\n",
       "      <th>1002403</th>\n",
       "      <td>THE VILLAGE OF HARLEM....NEW YORK !</td>\n",
       "      <td>78829239556</td>\n",
       "      <td>unconfirmed</td>\n",
       "      <td>Elise</td>\n",
       "      <td>Manhattan</td>\n",
       "      <td>Harlem</td>\n",
       "      <td>True</td>\n",
       "      <td>flexible</td>\n",
       "      <td>Private room</td>\n",
       "      <td>2005.0</td>\n",
       "      <td>620.0</td>\n",
       "      <td>124</td>\n",
       "      <td>3.0</td>\n",
       "      <td>0.0</td>\n",
       "      <td>352.0</td>\n",
       "      <td>I encourage you to use my kitchen, cooking and...</td>\n",
       "      <td>Manhattan Harlem</td>\n",
       "    </tr>\n",
       "    <tr>\n",
       "      <th>1003689</th>\n",
       "      <td>Entire Apt: Spacious Studio/Loft by central park</td>\n",
       "      <td>92037596077</td>\n",
       "      <td>verified</td>\n",
       "      <td>Lyndon</td>\n",
       "      <td>Manhattan</td>\n",
       "      <td>East Harlem</td>\n",
       "      <td>False</td>\n",
       "      <td>moderate</td>\n",
       "      <td>Entire home/apt</td>\n",
       "      <td>2009.0</td>\n",
       "      <td>204.0</td>\n",
       "      <td>41</td>\n",
       "      <td>10.0</td>\n",
       "      <td>9.0</td>\n",
       "      <td>289.0</td>\n",
       "      <td>Please no smoking in the house, porch or on th...</td>\n",
       "      <td>Manhattan East Harlem</td>\n",
       "    </tr>\n",
       "    <tr>\n",
       "      <th>1004098</th>\n",
       "      <td>Large Cozy 1 BR Apartment In Midtown East</td>\n",
       "      <td>45498551794</td>\n",
       "      <td>verified</td>\n",
       "      <td>Michelle</td>\n",
       "      <td>Manhattan</td>\n",
       "      <td>Murray Hill</td>\n",
       "      <td>True</td>\n",
       "      <td>flexible</td>\n",
       "      <td>Entire home/apt</td>\n",
       "      <td>2013.0</td>\n",
       "      <td>577.0</td>\n",
       "      <td>115</td>\n",
       "      <td>3.0</td>\n",
       "      <td>74.0</td>\n",
       "      <td>374.0</td>\n",
       "      <td>No smoking, please, and no drugs.</td>\n",
       "      <td>Manhattan Murray Hill</td>\n",
       "    </tr>\n",
       "    <tr>\n",
       "      <th>...</th>\n",
       "      <td>...</td>\n",
       "      <td>...</td>\n",
       "      <td>...</td>\n",
       "      <td>...</td>\n",
       "      <td>...</td>\n",
       "      <td>...</td>\n",
       "      <td>...</td>\n",
       "      <td>...</td>\n",
       "      <td>...</td>\n",
       "      <td>...</td>\n",
       "      <td>...</td>\n",
       "      <td>...</td>\n",
       "      <td>...</td>\n",
       "      <td>...</td>\n",
       "      <td>...</td>\n",
       "      <td>...</td>\n",
       "      <td>...</td>\n",
       "    </tr>\n",
       "    <tr>\n",
       "      <th>6092437</th>\n",
       "      <td>Spare room in Williamsburg</td>\n",
       "      <td>12312296767</td>\n",
       "      <td>verified</td>\n",
       "      <td>Krik</td>\n",
       "      <td>Brooklyn</td>\n",
       "      <td>Williamsburg</td>\n",
       "      <td>False</td>\n",
       "      <td>flexible</td>\n",
       "      <td>Private room</td>\n",
       "      <td>2003.0</td>\n",
       "      <td>844.0</td>\n",
       "      <td>169</td>\n",
       "      <td>1.0</td>\n",
       "      <td>0.0</td>\n",
       "      <td>227.0</td>\n",
       "      <td>No Smoking No Parties or Events of any kind Pl...</td>\n",
       "      <td>Brooklyn Williamsburg</td>\n",
       "    </tr>\n",
       "    <tr>\n",
       "      <th>6092990</th>\n",
       "      <td>Best Location near Columbia U</td>\n",
       "      <td>77864383453</td>\n",
       "      <td>unconfirmed</td>\n",
       "      <td>Mifan</td>\n",
       "      <td>Manhattan</td>\n",
       "      <td>Morningside Heights</td>\n",
       "      <td>True</td>\n",
       "      <td>moderate</td>\n",
       "      <td>Private room</td>\n",
       "      <td>2016.0</td>\n",
       "      <td>837.0</td>\n",
       "      <td>167</td>\n",
       "      <td>1.0</td>\n",
       "      <td>1.0</td>\n",
       "      <td>395.0</td>\n",
       "      <td>House rules: Guests agree to the following ter...</td>\n",
       "      <td>Manhattan Morningside Heights</td>\n",
       "    </tr>\n",
       "    <tr>\n",
       "      <th>6093542</th>\n",
       "      <td>Comfy, bright room in Brooklyn</td>\n",
       "      <td>69050334417</td>\n",
       "      <td>unconfirmed</td>\n",
       "      <td>Megan</td>\n",
       "      <td>Brooklyn</td>\n",
       "      <td>Park Slope</td>\n",
       "      <td>True</td>\n",
       "      <td>moderate</td>\n",
       "      <td>Private room</td>\n",
       "      <td>2009.0</td>\n",
       "      <td>988.0</td>\n",
       "      <td>198</td>\n",
       "      <td>3.0</td>\n",
       "      <td>0.0</td>\n",
       "      <td>342.0</td>\n",
       "      <td>no rules</td>\n",
       "      <td>Brooklyn Park Slope</td>\n",
       "    </tr>\n",
       "    <tr>\n",
       "      <th>6094094</th>\n",
       "      <td>Big Studio-One Stop from Midtown</td>\n",
       "      <td>11160591270</td>\n",
       "      <td>unconfirmed</td>\n",
       "      <td>Christopher</td>\n",
       "      <td>Queens</td>\n",
       "      <td>Long Island City</td>\n",
       "      <td>True</td>\n",
       "      <td>strict</td>\n",
       "      <td>Entire home/apt</td>\n",
       "      <td>2015.0</td>\n",
       "      <td>546.0</td>\n",
       "      <td>109</td>\n",
       "      <td>2.0</td>\n",
       "      <td>5.0</td>\n",
       "      <td>386.0</td>\n",
       "      <td>no rules</td>\n",
       "      <td>Queens Long Island City</td>\n",
       "    </tr>\n",
       "    <tr>\n",
       "      <th>6094647</th>\n",
       "      <td>585 sf Luxury Studio</td>\n",
       "      <td>68170633372</td>\n",
       "      <td>unconfirmed</td>\n",
       "      <td>Rebecca</td>\n",
       "      <td>Manhattan</td>\n",
       "      <td>Upper West Side</td>\n",
       "      <td>False</td>\n",
       "      <td>flexible</td>\n",
       "      <td>Entire home/apt</td>\n",
       "      <td>2010.0</td>\n",
       "      <td>1032.0</td>\n",
       "      <td>206</td>\n",
       "      <td>1.0</td>\n",
       "      <td>0.0</td>\n",
       "      <td>69.0</td>\n",
       "      <td>no rules</td>\n",
       "      <td>Manhattan Upper West Side</td>\n",
       "    </tr>\n",
       "  </tbody>\n",
       "</table>\n",
       "<p>102349 rows × 17 columns</p>\n",
       "</div>"
      ],
      "text/plain": [
       "                                                     name      host id  \\\n",
       "id                                                                       \n",
       "1001254                Clean & quiet apt home by the park  80014485718   \n",
       "1002102                             Skylit Midtown Castle  52335172823   \n",
       "1002403               THE VILLAGE OF HARLEM....NEW YORK !  78829239556   \n",
       "1003689  Entire Apt: Spacious Studio/Loft by central park  92037596077   \n",
       "1004098         Large Cozy 1 BR Apartment In Midtown East  45498551794   \n",
       "...                                                   ...          ...   \n",
       "6092437                        Spare room in Williamsburg  12312296767   \n",
       "6092990                     Best Location near Columbia U  77864383453   \n",
       "6093542                    Comfy, bright room in Brooklyn  69050334417   \n",
       "6094094                  Big Studio-One Stop from Midtown  11160591270   \n",
       "6094647                              585 sf Luxury Studio  68170633372   \n",
       "\n",
       "        host_identity_verified    host name neighbourhood group  \\\n",
       "id                                                                \n",
       "1001254            unconfirmed     Madaline            Brooklyn   \n",
       "1002102               verified        Jenna           Manhattan   \n",
       "1002403            unconfirmed        Elise           Manhattan   \n",
       "1003689               verified       Lyndon           Manhattan   \n",
       "1004098               verified     Michelle           Manhattan   \n",
       "...                        ...          ...                 ...   \n",
       "6092437               verified         Krik            Brooklyn   \n",
       "6092990            unconfirmed        Mifan           Manhattan   \n",
       "6093542            unconfirmed        Megan            Brooklyn   \n",
       "6094094            unconfirmed  Christopher              Queens   \n",
       "6094647            unconfirmed      Rebecca           Manhattan   \n",
       "\n",
       "               neighbourhood instant_bookable cancellation_policy  \\\n",
       "id                                                                  \n",
       "1001254           Kensington            False              strict   \n",
       "1002102              Midtown            False            moderate   \n",
       "1002403               Harlem             True            flexible   \n",
       "1003689          East Harlem            False            moderate   \n",
       "1004098          Murray Hill             True            flexible   \n",
       "...                      ...              ...                 ...   \n",
       "6092437         Williamsburg            False            flexible   \n",
       "6092990  Morningside Heights             True            moderate   \n",
       "6093542           Park Slope             True            moderate   \n",
       "6094094     Long Island City             True              strict   \n",
       "6094647      Upper West Side            False            flexible   \n",
       "\n",
       "               room type  Construction year   price  service fee  \\\n",
       "id                                                                 \n",
       "1001254     Private room             2020.0   966.0          193   \n",
       "1002102  Entire home/apt             2007.0   142.0           28   \n",
       "1002403     Private room             2005.0   620.0          124   \n",
       "1003689  Entire home/apt             2009.0   204.0           41   \n",
       "1004098  Entire home/apt             2013.0   577.0          115   \n",
       "...                  ...                ...     ...          ...   \n",
       "6092437     Private room             2003.0   844.0          169   \n",
       "6092990     Private room             2016.0   837.0          167   \n",
       "6093542     Private room             2009.0   988.0          198   \n",
       "6094094  Entire home/apt             2015.0   546.0          109   \n",
       "6094647  Entire home/apt             2010.0  1032.0          206   \n",
       "\n",
       "         minimum nights  number of reviews  availability 365  \\\n",
       "id                                                             \n",
       "1001254            10.0                9.0             286.0   \n",
       "1002102            30.0               45.0             228.0   \n",
       "1002403             3.0                0.0             352.0   \n",
       "1003689            10.0                9.0             289.0   \n",
       "1004098             3.0               74.0             374.0   \n",
       "...                 ...                ...               ...   \n",
       "6092437             1.0                0.0             227.0   \n",
       "6092990             1.0                1.0             395.0   \n",
       "6093542             3.0                0.0             342.0   \n",
       "6094094             2.0                5.0             386.0   \n",
       "6094647             1.0                0.0              69.0   \n",
       "\n",
       "                                               house_rules  \\\n",
       "id                                                           \n",
       "1001254  Clean up and treat the home the way you'd like...   \n",
       "1002102  Pet friendly but please confirm with me if the...   \n",
       "1002403  I encourage you to use my kitchen, cooking and...   \n",
       "1003689  Please no smoking in the house, porch or on th...   \n",
       "1004098                  No smoking, please, and no drugs.   \n",
       "...                                                    ...   \n",
       "6092437  No Smoking No Parties or Events of any kind Pl...   \n",
       "6092990  House rules: Guests agree to the following ter...   \n",
       "6093542                                           no rules   \n",
       "6094094                                           no rules   \n",
       "6094647                                           no rules   \n",
       "\n",
       "                                  area  \n",
       "id                                      \n",
       "1001254            Brooklyn Kensington  \n",
       "1002102              Manhattan Midtown  \n",
       "1002403               Manhattan Harlem  \n",
       "1003689          Manhattan East Harlem  \n",
       "1004098          Manhattan Murray Hill  \n",
       "...                                ...  \n",
       "6092437          Brooklyn Williamsburg  \n",
       "6092990  Manhattan Morningside Heights  \n",
       "6093542            Brooklyn Park Slope  \n",
       "6094094        Queens Long Island City  \n",
       "6094647      Manhattan Upper West Side  \n",
       "\n",
       "[102349 rows x 17 columns]"
      ]
     },
     "execution_count": 87,
     "metadata": {},
     "output_type": "execute_result"
    }
   ],
   "source": [
    "updated_df"
   ]
  },
  {
   "cell_type": "code",
   "execution_count": null,
   "id": "5b84d01a",
   "metadata": {
    "papermill": {
     "duration": 0.034958,
     "end_time": "2024-07-15T08:54:23.272658",
     "exception": false,
     "start_time": "2024-07-15T08:54:23.237700",
     "status": "completed"
    },
    "tags": []
   },
   "outputs": [],
   "source": []
  }
 ],
 "metadata": {
  "kaggle": {
   "accelerator": "none",
   "dataSources": [
    {
     "datasetId": 2380415,
     "sourceId": 4016336,
     "sourceType": "datasetVersion"
    }
   ],
   "dockerImageVersionId": 30746,
   "isGpuEnabled": false,
   "isInternetEnabled": false,
   "language": "python",
   "sourceType": "notebook"
  },
  "kernelspec": {
   "display_name": "Python 3",
   "language": "python",
   "name": "python3"
  },
  "language_info": {
   "codemirror_mode": {
    "name": "ipython",
    "version": 3
   },
   "file_extension": ".py",
   "mimetype": "text/x-python",
   "name": "python",
   "nbconvert_exporter": "python",
   "pygments_lexer": "ipython3",
   "version": "3.10.13"
  },
  "papermill": {
   "default_parameters": {},
   "duration": 65.193108,
   "end_time": "2024-07-15T08:54:23.933024",
   "environment_variables": {},
   "exception": null,
   "input_path": "__notebook__.ipynb",
   "output_path": "__notebook__.ipynb",
   "parameters": {},
   "start_time": "2024-07-15T08:53:18.739916",
   "version": "2.5.0"
  }
 },
 "nbformat": 4,
 "nbformat_minor": 5
}
