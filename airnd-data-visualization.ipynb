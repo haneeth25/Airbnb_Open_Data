{
 "cells": [
  {
   "cell_type": "code",
   "execution_count": 1,
   "id": "dbd89dac",
   "metadata": {
    "_cell_guid": "b1076dfc-b9ad-4769-8c92-a6c4dae69d19",
    "_uuid": "8f2839f25d086af736a60e9eeb907d3b93b6e0e5",
    "execution": {
     "iopub.execute_input": "2024-07-15T06:55:07.027343Z",
     "iopub.status.busy": "2024-07-15T06:55:07.026850Z",
     "iopub.status.idle": "2024-07-15T06:55:08.069823Z",
     "shell.execute_reply": "2024-07-15T06:55:08.068329Z"
    },
    "papermill": {
     "duration": 1.079482,
     "end_time": "2024-07-15T06:55:08.072586",
     "exception": false,
     "start_time": "2024-07-15T06:55:06.993104",
     "status": "completed"
    },
    "tags": []
   },
   "outputs": [
    {
     "name": "stdout",
     "output_type": "stream",
     "text": [
      "/kaggle/input/airbnbopendata/Airbnb_Open_Data.csv\n"
     ]
    }
   ],
   "source": [
    "# This Python 3 environment comes with many helpful analytics libraries installed\n",
    "# It is defined by the kaggle/python Docker image: https://github.com/kaggle/docker-python\n",
    "# For example, here's several helpful packages to load\n",
    "\n",
    "import numpy as np # linear algebra\n",
    "import pandas as pd # data processing, CSV file I/O (e.g. pd.read_csv)\n",
    "\n",
    "# Input data files are available in the read-only \"../input/\" directory\n",
    "# For example, running this (by clicking run or pressing Shift+Enter) will list all files under the input directory\n",
    "\n",
    "import os\n",
    "for dirname, _, filenames in os.walk('/kaggle/input'):\n",
    "    for filename in filenames:\n",
    "        print(os.path.join(dirname, filename))\n",
    "\n",
    "# You can write up to 20GB to the current directory (/kaggle/working/) that gets preserved as output when you create a version using \"Save & Run All\" \n",
    "# You can also write temporary files to /kaggle/temp/, but they won't be saved outside of the current session"
   ]
  },
  {
   "cell_type": "markdown",
   "id": "d6674797",
   "metadata": {
    "papermill": {
     "duration": 0.029377,
     "end_time": "2024-07-15T06:55:08.132696",
     "exception": false,
     "start_time": "2024-07-15T06:55:08.103319",
     "status": "completed"
    },
    "tags": []
   },
   "source": [
    "**Reading the data**"
   ]
  },
  {
   "cell_type": "code",
   "execution_count": 2,
   "id": "13d051b8",
   "metadata": {
    "execution": {
     "iopub.execute_input": "2024-07-15T06:55:08.193650Z",
     "iopub.status.busy": "2024-07-15T06:55:08.193053Z",
     "iopub.status.idle": "2024-07-15T06:55:09.802723Z",
     "shell.execute_reply": "2024-07-15T06:55:09.800714Z"
    },
    "papermill": {
     "duration": 1.644804,
     "end_time": "2024-07-15T06:55:09.807258",
     "exception": false,
     "start_time": "2024-07-15T06:55:08.162454",
     "status": "completed"
    },
    "tags": []
   },
   "outputs": [
    {
     "name": "stderr",
     "output_type": "stream",
     "text": [
      "/tmp/ipykernel_17/2083687841.py:1: DtypeWarning: Columns (25) have mixed types. Specify dtype option on import or set low_memory=False.\n",
      "  airnd_df = pd.read_csv(\"/kaggle/input/airbnbopendata/Airbnb_Open_Data.csv\")\n"
     ]
    }
   ],
   "source": [
    "airnd_df = pd.read_csv(\"/kaggle/input/airbnbopendata/Airbnb_Open_Data.csv\")"
   ]
  },
  {
   "cell_type": "markdown",
   "id": "19498b36",
   "metadata": {
    "papermill": {
     "duration": 0.035383,
     "end_time": "2024-07-15T06:55:09.872709",
     "exception": false,
     "start_time": "2024-07-15T06:55:09.837326",
     "status": "completed"
    },
    "tags": []
   },
   "source": [
    "One column has mixed types of data so Specify dtype option on import or set low_memory=False."
   ]
  },
  {
   "cell_type": "code",
   "execution_count": 3,
   "id": "6b614ad1",
   "metadata": {
    "execution": {
     "iopub.execute_input": "2024-07-15T06:55:09.948347Z",
     "iopub.status.busy": "2024-07-15T06:55:09.947912Z",
     "iopub.status.idle": "2024-07-15T06:55:09.967353Z",
     "shell.execute_reply": "2024-07-15T06:55:09.966089Z"
    },
    "papermill": {
     "duration": 0.059696,
     "end_time": "2024-07-15T06:55:09.970034",
     "exception": false,
     "start_time": "2024-07-15T06:55:09.910338",
     "status": "completed"
    },
    "tags": []
   },
   "outputs": [
    {
     "data": {
      "text/plain": [
       "id                                  int64\n",
       "NAME                               object\n",
       "host id                             int64\n",
       "host_identity_verified             object\n",
       "host name                          object\n",
       "neighbourhood group                object\n",
       "neighbourhood                      object\n",
       "lat                               float64\n",
       "long                              float64\n",
       "country                            object\n",
       "country code                       object\n",
       "instant_bookable                   object\n",
       "cancellation_policy                object\n",
       "room type                          object\n",
       "Construction year                 float64\n",
       "price                              object\n",
       "service fee                        object\n",
       "minimum nights                    float64\n",
       "number of reviews                 float64\n",
       "last review                        object\n",
       "reviews per month                 float64\n",
       "review rate number                float64\n",
       "calculated host listings count    float64\n",
       "availability 365                  float64\n",
       "house_rules                        object\n",
       "license                            object\n",
       "dtype: object"
      ]
     },
     "execution_count": 3,
     "metadata": {},
     "output_type": "execute_result"
    }
   ],
   "source": [
    "airnd_df.dtypes"
   ]
  },
  {
   "cell_type": "code",
   "execution_count": 4,
   "id": "bcd3f5ef",
   "metadata": {
    "execution": {
     "iopub.execute_input": "2024-07-15T06:55:10.030359Z",
     "iopub.status.busy": "2024-07-15T06:55:10.029975Z",
     "iopub.status.idle": "2024-07-15T06:55:11.080547Z",
     "shell.execute_reply": "2024-07-15T06:55:11.078898Z"
    },
    "papermill": {
     "duration": 1.084154,
     "end_time": "2024-07-15T06:55:11.083421",
     "exception": false,
     "start_time": "2024-07-15T06:55:09.999267",
     "status": "completed"
    },
    "tags": []
   },
   "outputs": [],
   "source": [
    "airnd_df = pd.read_csv(\"/kaggle/input/airbnbopendata/Airbnb_Open_Data.csv\",index_col = 'id',low_memory=False)"
   ]
  },
  {
   "cell_type": "code",
   "execution_count": 5,
   "id": "da420740",
   "metadata": {
    "execution": {
     "iopub.execute_input": "2024-07-15T06:55:11.144601Z",
     "iopub.status.busy": "2024-07-15T06:55:11.144173Z",
     "iopub.status.idle": "2024-07-15T06:55:11.151952Z",
     "shell.execute_reply": "2024-07-15T06:55:11.150486Z"
    },
    "papermill": {
     "duration": 0.041461,
     "end_time": "2024-07-15T06:55:11.154847",
     "exception": false,
     "start_time": "2024-07-15T06:55:11.113386",
     "status": "completed"
    },
    "tags": []
   },
   "outputs": [
    {
     "data": {
      "text/plain": [
       "(102599, 25)"
      ]
     },
     "execution_count": 5,
     "metadata": {},
     "output_type": "execute_result"
    }
   ],
   "source": [
    "airnd_df.shape"
   ]
  },
  {
   "cell_type": "markdown",
   "id": "1b3cdb67",
   "metadata": {
    "papermill": {
     "duration": 0.030496,
     "end_time": "2024-07-15T06:55:11.214732",
     "exception": false,
     "start_time": "2024-07-15T06:55:11.184236",
     "status": "completed"
    },
    "tags": []
   },
   "source": [
    "**Total 25 columns**"
   ]
  },
  {
   "cell_type": "markdown",
   "id": "761c88de",
   "metadata": {
    "papermill": {
     "duration": 0.030339,
     "end_time": "2024-07-15T06:55:11.275975",
     "exception": false,
     "start_time": "2024-07-15T06:55:11.245636",
     "status": "completed"
    },
    "tags": []
   },
   "source": [
    "**Check if any columns has missing values**"
   ]
  },
  {
   "cell_type": "code",
   "execution_count": 6,
   "id": "6f835d24",
   "metadata": {
    "execution": {
     "iopub.execute_input": "2024-07-15T06:55:11.338632Z",
     "iopub.status.busy": "2024-07-15T06:55:11.338203Z",
     "iopub.status.idle": "2024-07-15T06:55:11.503692Z",
     "shell.execute_reply": "2024-07-15T06:55:11.502252Z"
    },
    "papermill": {
     "duration": 0.199705,
     "end_time": "2024-07-15T06:55:11.506470",
     "exception": false,
     "start_time": "2024-07-15T06:55:11.306765",
     "status": "completed"
    },
    "tags": []
   },
   "outputs": [
    {
     "data": {
      "text/plain": [
       "NAME                                 250\n",
       "host id                                0\n",
       "host_identity_verified               289\n",
       "host name                            406\n",
       "neighbourhood group                   29\n",
       "neighbourhood                         16\n",
       "lat                                    8\n",
       "long                                   8\n",
       "country                              532\n",
       "country code                         131\n",
       "instant_bookable                     105\n",
       "cancellation_policy                   76\n",
       "room type                              0\n",
       "Construction year                    214\n",
       "price                                247\n",
       "service fee                          273\n",
       "minimum nights                       409\n",
       "number of reviews                    183\n",
       "last review                        15893\n",
       "reviews per month                  15879\n",
       "review rate number                   326\n",
       "calculated host listings count       319\n",
       "availability 365                     448\n",
       "house_rules                        52131\n",
       "license                           102597\n",
       "dtype: int64"
      ]
     },
     "execution_count": 6,
     "metadata": {},
     "output_type": "execute_result"
    }
   ],
   "source": [
    "before_nulls = airnd_df.isna().sum()\n",
    "before_nulls"
   ]
  },
  {
   "cell_type": "markdown",
   "id": "df26ca7a",
   "metadata": {
    "papermill": {
     "duration": 0.095789,
     "end_time": "2024-07-15T06:55:11.633465",
     "exception": false,
     "start_time": "2024-07-15T06:55:11.537676",
     "status": "completed"
    },
    "tags": []
   },
   "source": [
    "**Handling name**\n",
    "1. Since all columns are lower case lets make it to lower case"
   ]
  },
  {
   "cell_type": "code",
   "execution_count": 7,
   "id": "d18af5e3",
   "metadata": {
    "execution": {
     "iopub.execute_input": "2024-07-15T06:55:11.695732Z",
     "iopub.status.busy": "2024-07-15T06:55:11.694324Z",
     "iopub.status.idle": "2024-07-15T06:55:11.701126Z",
     "shell.execute_reply": "2024-07-15T06:55:11.699906Z"
    },
    "papermill": {
     "duration": 0.040412,
     "end_time": "2024-07-15T06:55:11.703737",
     "exception": false,
     "start_time": "2024-07-15T06:55:11.663325",
     "status": "completed"
    },
    "tags": []
   },
   "outputs": [],
   "source": [
    "airnd_df.rename(columns = {'NAME':'name'},inplace=True)"
   ]
  },
  {
   "cell_type": "code",
   "execution_count": 8,
   "id": "16ebcdd0",
   "metadata": {
    "execution": {
     "iopub.execute_input": "2024-07-15T06:55:11.766817Z",
     "iopub.status.busy": "2024-07-15T06:55:11.766370Z",
     "iopub.status.idle": "2024-07-15T06:55:11.807460Z",
     "shell.execute_reply": "2024-07-15T06:55:11.806281Z"
    },
    "papermill": {
     "duration": 0.076707,
     "end_time": "2024-07-15T06:55:11.810282",
     "exception": false,
     "start_time": "2024-07-15T06:55:11.733575",
     "status": "completed"
    },
    "tags": []
   },
   "outputs": [
    {
     "data": {
      "text/html": [
       "<div>\n",
       "<style scoped>\n",
       "    .dataframe tbody tr th:only-of-type {\n",
       "        vertical-align: middle;\n",
       "    }\n",
       "\n",
       "    .dataframe tbody tr th {\n",
       "        vertical-align: top;\n",
       "    }\n",
       "\n",
       "    .dataframe thead th {\n",
       "        text-align: right;\n",
       "    }\n",
       "</style>\n",
       "<table border=\"1\" class=\"dataframe\">\n",
       "  <thead>\n",
       "    <tr style=\"text-align: right;\">\n",
       "      <th></th>\n",
       "      <th>name</th>\n",
       "      <th>host id</th>\n",
       "      <th>host_identity_verified</th>\n",
       "      <th>host name</th>\n",
       "      <th>neighbourhood group</th>\n",
       "      <th>neighbourhood</th>\n",
       "      <th>lat</th>\n",
       "      <th>long</th>\n",
       "      <th>country</th>\n",
       "      <th>country code</th>\n",
       "      <th>...</th>\n",
       "      <th>service fee</th>\n",
       "      <th>minimum nights</th>\n",
       "      <th>number of reviews</th>\n",
       "      <th>last review</th>\n",
       "      <th>reviews per month</th>\n",
       "      <th>review rate number</th>\n",
       "      <th>calculated host listings count</th>\n",
       "      <th>availability 365</th>\n",
       "      <th>house_rules</th>\n",
       "      <th>license</th>\n",
       "    </tr>\n",
       "    <tr>\n",
       "      <th>id</th>\n",
       "      <th></th>\n",
       "      <th></th>\n",
       "      <th></th>\n",
       "      <th></th>\n",
       "      <th></th>\n",
       "      <th></th>\n",
       "      <th></th>\n",
       "      <th></th>\n",
       "      <th></th>\n",
       "      <th></th>\n",
       "      <th></th>\n",
       "      <th></th>\n",
       "      <th></th>\n",
       "      <th></th>\n",
       "      <th></th>\n",
       "      <th></th>\n",
       "      <th></th>\n",
       "      <th></th>\n",
       "      <th></th>\n",
       "      <th></th>\n",
       "      <th></th>\n",
       "    </tr>\n",
       "  </thead>\n",
       "  <tbody>\n",
       "    <tr>\n",
       "      <th>1001254</th>\n",
       "      <td>Clean &amp; quiet apt home by the park</td>\n",
       "      <td>80014485718</td>\n",
       "      <td>unconfirmed</td>\n",
       "      <td>Madaline</td>\n",
       "      <td>Brooklyn</td>\n",
       "      <td>Kensington</td>\n",
       "      <td>40.64749</td>\n",
       "      <td>-73.97237</td>\n",
       "      <td>United States</td>\n",
       "      <td>US</td>\n",
       "      <td>...</td>\n",
       "      <td>$193</td>\n",
       "      <td>10.0</td>\n",
       "      <td>9.0</td>\n",
       "      <td>10/19/2021</td>\n",
       "      <td>0.21</td>\n",
       "      <td>4.0</td>\n",
       "      <td>6.0</td>\n",
       "      <td>286.0</td>\n",
       "      <td>Clean up and treat the home the way you'd like...</td>\n",
       "      <td>NaN</td>\n",
       "    </tr>\n",
       "    <tr>\n",
       "      <th>1002102</th>\n",
       "      <td>Skylit Midtown Castle</td>\n",
       "      <td>52335172823</td>\n",
       "      <td>verified</td>\n",
       "      <td>Jenna</td>\n",
       "      <td>Manhattan</td>\n",
       "      <td>Midtown</td>\n",
       "      <td>40.75362</td>\n",
       "      <td>-73.98377</td>\n",
       "      <td>United States</td>\n",
       "      <td>US</td>\n",
       "      <td>...</td>\n",
       "      <td>$28</td>\n",
       "      <td>30.0</td>\n",
       "      <td>45.0</td>\n",
       "      <td>5/21/2022</td>\n",
       "      <td>0.38</td>\n",
       "      <td>4.0</td>\n",
       "      <td>2.0</td>\n",
       "      <td>228.0</td>\n",
       "      <td>Pet friendly but please confirm with me if the...</td>\n",
       "      <td>NaN</td>\n",
       "    </tr>\n",
       "    <tr>\n",
       "      <th>1002403</th>\n",
       "      <td>THE VILLAGE OF HARLEM....NEW YORK !</td>\n",
       "      <td>78829239556</td>\n",
       "      <td>NaN</td>\n",
       "      <td>Elise</td>\n",
       "      <td>Manhattan</td>\n",
       "      <td>Harlem</td>\n",
       "      <td>40.80902</td>\n",
       "      <td>-73.94190</td>\n",
       "      <td>United States</td>\n",
       "      <td>US</td>\n",
       "      <td>...</td>\n",
       "      <td>$124</td>\n",
       "      <td>3.0</td>\n",
       "      <td>0.0</td>\n",
       "      <td>NaN</td>\n",
       "      <td>NaN</td>\n",
       "      <td>5.0</td>\n",
       "      <td>1.0</td>\n",
       "      <td>352.0</td>\n",
       "      <td>I encourage you to use my kitchen, cooking and...</td>\n",
       "      <td>NaN</td>\n",
       "    </tr>\n",
       "    <tr>\n",
       "      <th>1002755</th>\n",
       "      <td>NaN</td>\n",
       "      <td>85098326012</td>\n",
       "      <td>unconfirmed</td>\n",
       "      <td>Garry</td>\n",
       "      <td>Brooklyn</td>\n",
       "      <td>Clinton Hill</td>\n",
       "      <td>40.68514</td>\n",
       "      <td>-73.95976</td>\n",
       "      <td>United States</td>\n",
       "      <td>US</td>\n",
       "      <td>...</td>\n",
       "      <td>$74</td>\n",
       "      <td>30.0</td>\n",
       "      <td>270.0</td>\n",
       "      <td>7/5/2019</td>\n",
       "      <td>4.64</td>\n",
       "      <td>4.0</td>\n",
       "      <td>1.0</td>\n",
       "      <td>322.0</td>\n",
       "      <td>NaN</td>\n",
       "      <td>NaN</td>\n",
       "    </tr>\n",
       "    <tr>\n",
       "      <th>1003689</th>\n",
       "      <td>Entire Apt: Spacious Studio/Loft by central park</td>\n",
       "      <td>92037596077</td>\n",
       "      <td>verified</td>\n",
       "      <td>Lyndon</td>\n",
       "      <td>Manhattan</td>\n",
       "      <td>East Harlem</td>\n",
       "      <td>40.79851</td>\n",
       "      <td>-73.94399</td>\n",
       "      <td>United States</td>\n",
       "      <td>US</td>\n",
       "      <td>...</td>\n",
       "      <td>$41</td>\n",
       "      <td>10.0</td>\n",
       "      <td>9.0</td>\n",
       "      <td>11/19/2018</td>\n",
       "      <td>0.10</td>\n",
       "      <td>3.0</td>\n",
       "      <td>1.0</td>\n",
       "      <td>289.0</td>\n",
       "      <td>Please no smoking in the house, porch or on th...</td>\n",
       "      <td>NaN</td>\n",
       "    </tr>\n",
       "  </tbody>\n",
       "</table>\n",
       "<p>5 rows × 25 columns</p>\n",
       "</div>"
      ],
      "text/plain": [
       "                                                     name      host id  \\\n",
       "id                                                                       \n",
       "1001254                Clean & quiet apt home by the park  80014485718   \n",
       "1002102                             Skylit Midtown Castle  52335172823   \n",
       "1002403               THE VILLAGE OF HARLEM....NEW YORK !  78829239556   \n",
       "1002755                                               NaN  85098326012   \n",
       "1003689  Entire Apt: Spacious Studio/Loft by central park  92037596077   \n",
       "\n",
       "        host_identity_verified host name neighbourhood group neighbourhood  \\\n",
       "id                                                                           \n",
       "1001254            unconfirmed  Madaline            Brooklyn    Kensington   \n",
       "1002102               verified     Jenna           Manhattan       Midtown   \n",
       "1002403                    NaN     Elise           Manhattan        Harlem   \n",
       "1002755            unconfirmed     Garry            Brooklyn  Clinton Hill   \n",
       "1003689               verified    Lyndon           Manhattan   East Harlem   \n",
       "\n",
       "              lat      long        country country code  ... service fee  \\\n",
       "id                                                       ...               \n",
       "1001254  40.64749 -73.97237  United States           US  ...       $193    \n",
       "1002102  40.75362 -73.98377  United States           US  ...        $28    \n",
       "1002403  40.80902 -73.94190  United States           US  ...       $124    \n",
       "1002755  40.68514 -73.95976  United States           US  ...        $74    \n",
       "1003689  40.79851 -73.94399  United States           US  ...        $41    \n",
       "\n",
       "        minimum nights number of reviews  last review reviews per month  \\\n",
       "id                                                                        \n",
       "1001254           10.0               9.0   10/19/2021              0.21   \n",
       "1002102           30.0              45.0    5/21/2022              0.38   \n",
       "1002403            3.0               0.0          NaN               NaN   \n",
       "1002755           30.0             270.0     7/5/2019              4.64   \n",
       "1003689           10.0               9.0   11/19/2018              0.10   \n",
       "\n",
       "        review rate number  calculated host listings count  availability 365  \\\n",
       "id                                                                             \n",
       "1001254                4.0                             6.0             286.0   \n",
       "1002102                4.0                             2.0             228.0   \n",
       "1002403                5.0                             1.0             352.0   \n",
       "1002755                4.0                             1.0             322.0   \n",
       "1003689                3.0                             1.0             289.0   \n",
       "\n",
       "                                               house_rules  license  \n",
       "id                                                                   \n",
       "1001254  Clean up and treat the home the way you'd like...      NaN  \n",
       "1002102  Pet friendly but please confirm with me if the...      NaN  \n",
       "1002403  I encourage you to use my kitchen, cooking and...      NaN  \n",
       "1002755                                                NaN      NaN  \n",
       "1003689  Please no smoking in the house, porch or on th...      NaN  \n",
       "\n",
       "[5 rows x 25 columns]"
      ]
     },
     "execution_count": 8,
     "metadata": {},
     "output_type": "execute_result"
    }
   ],
   "source": [
    "airnd_df.head()"
   ]
  },
  {
   "cell_type": "markdown",
   "id": "35d21607",
   "metadata": {
    "papermill": {
     "duration": 0.030717,
     "end_time": "2024-07-15T06:55:11.871678",
     "exception": false,
     "start_time": "2024-07-15T06:55:11.840961",
     "status": "completed"
    },
    "tags": []
   },
   "source": [
    "**Even though few names are null still we can find name if their lat and long matches with any other**"
   ]
  },
  {
   "cell_type": "code",
   "execution_count": 9,
   "id": "e03143d2",
   "metadata": {
    "execution": {
     "iopub.execute_input": "2024-07-15T06:55:11.941673Z",
     "iopub.status.busy": "2024-07-15T06:55:11.941187Z",
     "iopub.status.idle": "2024-07-15T06:55:12.002302Z",
     "shell.execute_reply": "2024-07-15T06:55:12.000842Z"
    },
    "papermill": {
     "duration": 0.100328,
     "end_time": "2024-07-15T06:55:12.005234",
     "exception": false,
     "start_time": "2024-07-15T06:55:11.904906",
     "status": "completed"
    },
    "tags": []
   },
   "outputs": [
    {
     "data": {
      "text/plain": [
       "lat       long     \n",
       "40.49979  -74.24084    1\n",
       "40.50456  -74.24984    1\n",
       "40.50641  -74.23059    1\n",
       "40.50708  -74.24285    2\n",
       "40.50863  -74.24135    1\n",
       "                      ..\n",
       "40.91248  -73.84885    1\n",
       "40.91306  -73.89389    1\n",
       "40.91310  -73.89518    1\n",
       "40.91685  -73.90136    1\n",
       "40.91697  -73.90125    1\n",
       "Name: name, Length: 67162, dtype: int64"
      ]
     },
     "execution_count": 9,
     "metadata": {},
     "output_type": "execute_result"
    }
   ],
   "source": [
    "airnd_df.groupby(['lat','long']).name.count()"
   ]
  },
  {
   "cell_type": "markdown",
   "id": "54d16769",
   "metadata": {
    "papermill": {
     "duration": 0.030762,
     "end_time": "2024-07-15T06:55:12.067746",
     "exception": false,
     "start_time": "2024-07-15T06:55:12.036984",
     "status": "completed"
    },
    "tags": []
   },
   "source": [
    "**Based on above result we can assume that lat and long are repating so we can try to fix names** "
   ]
  },
  {
   "cell_type": "code",
   "execution_count": 10,
   "id": "6b35f625",
   "metadata": {
    "execution": {
     "iopub.execute_input": "2024-07-15T06:55:12.134030Z",
     "iopub.status.busy": "2024-07-15T06:55:12.132397Z",
     "iopub.status.idle": "2024-07-15T06:55:12.137946Z",
     "shell.execute_reply": "2024-07-15T06:55:12.136845Z"
    },
    "papermill": {
     "duration": 0.042203,
     "end_time": "2024-07-15T06:55:12.140571",
     "exception": false,
     "start_time": "2024-07-15T06:55:12.098368",
     "status": "completed"
    },
    "tags": []
   },
   "outputs": [],
   "source": [
    "# new_name = airnd_df.loc[(airnd_df['lat'] == 40.50708) & (airnd_df['long'] == -74.24285) ,'name'].unique()[0]\n",
    "# new_name"
   ]
  },
  {
   "cell_type": "code",
   "execution_count": 11,
   "id": "f32876e4",
   "metadata": {
    "execution": {
     "iopub.execute_input": "2024-07-15T06:55:12.204256Z",
     "iopub.status.busy": "2024-07-15T06:55:12.203833Z",
     "iopub.status.idle": "2024-07-15T06:55:12.210772Z",
     "shell.execute_reply": "2024-07-15T06:55:12.209347Z"
    },
    "papermill": {
     "duration": 0.042083,
     "end_time": "2024-07-15T06:55:12.213620",
     "exception": false,
     "start_time": "2024-07-15T06:55:12.171537",
     "status": "completed"
    },
    "tags": []
   },
   "outputs": [],
   "source": [
    "def fill_name(x):\n",
    "    if pd.isna(x.name):\n",
    "        new_name = airnd_df.loc[(airnd_df['lat'] == x.lat) & (airnd_df['long'] == x.long) ,'name'].unique()[0]\n",
    "        x.name = new_name \n",
    "    return x"
   ]
  },
  {
   "cell_type": "code",
   "execution_count": 12,
   "id": "4802adc7",
   "metadata": {
    "execution": {
     "iopub.execute_input": "2024-07-15T06:55:12.278282Z",
     "iopub.status.busy": "2024-07-15T06:55:12.277852Z",
     "iopub.status.idle": "2024-07-15T06:55:19.573022Z",
     "shell.execute_reply": "2024-07-15T06:55:19.571922Z"
    },
    "papermill": {
     "duration": 7.33077,
     "end_time": "2024-07-15T06:55:19.576002",
     "exception": false,
     "start_time": "2024-07-15T06:55:12.245232",
     "status": "completed"
    },
    "tags": []
   },
   "outputs": [],
   "source": [
    "updated_df = airnd_df.apply(fill_name,axis = 1)"
   ]
  },
  {
   "cell_type": "code",
   "execution_count": 13,
   "id": "4482d48f",
   "metadata": {
    "execution": {
     "iopub.execute_input": "2024-07-15T06:55:19.640176Z",
     "iopub.status.busy": "2024-07-15T06:55:19.639800Z",
     "iopub.status.idle": "2024-07-15T06:55:19.877586Z",
     "shell.execute_reply": "2024-07-15T06:55:19.876414Z"
    },
    "papermill": {
     "duration": 0.272263,
     "end_time": "2024-07-15T06:55:19.880354",
     "exception": false,
     "start_time": "2024-07-15T06:55:19.608091",
     "status": "completed"
    },
    "tags": []
   },
   "outputs": [
    {
     "data": {
      "text/plain": [
       "name                                 250\n",
       "host id                                0\n",
       "host_identity_verified               289\n",
       "host name                            406\n",
       "neighbourhood group                   29\n",
       "neighbourhood                         16\n",
       "lat                                    8\n",
       "long                                   8\n",
       "country                              532\n",
       "country code                         131\n",
       "instant_bookable                     105\n",
       "cancellation_policy                   76\n",
       "room type                              0\n",
       "Construction year                    214\n",
       "price                                247\n",
       "service fee                          273\n",
       "minimum nights                       409\n",
       "number of reviews                    183\n",
       "last review                        15893\n",
       "reviews per month                  15879\n",
       "review rate number                   326\n",
       "calculated host listings count       319\n",
       "availability 365                     448\n",
       "house_rules                        52131\n",
       "license                           102597\n",
       "dtype: int64"
      ]
     },
     "execution_count": 13,
     "metadata": {},
     "output_type": "execute_result"
    }
   ],
   "source": [
    "updated_df.isna().sum()"
   ]
  },
  {
   "cell_type": "markdown",
   "id": "363b0552",
   "metadata": {
    "papermill": {
     "duration": 0.031066,
     "end_time": "2024-07-15T06:55:19.943022",
     "exception": false,
     "start_time": "2024-07-15T06:55:19.911956",
     "status": "completed"
    },
    "tags": []
   },
   "source": [
    "**No use none of them are matching**\n",
    "\n",
    "**Since we can get the name we need to drop columns with name = null**"
   ]
  },
  {
   "cell_type": "code",
   "execution_count": 14,
   "id": "077ceb5d",
   "metadata": {
    "execution": {
     "iopub.execute_input": "2024-07-15T06:55:20.007510Z",
     "iopub.status.busy": "2024-07-15T06:55:20.006718Z",
     "iopub.status.idle": "2024-07-15T06:55:20.189052Z",
     "shell.execute_reply": "2024-07-15T06:55:20.187938Z"
    },
    "papermill": {
     "duration": 0.217763,
     "end_time": "2024-07-15T06:55:20.192040",
     "exception": false,
     "start_time": "2024-07-15T06:55:19.974277",
     "status": "completed"
    },
    "tags": []
   },
   "outputs": [],
   "source": [
    "updated_df.dropna(subset=['name'],inplace = True)"
   ]
  },
  {
   "cell_type": "code",
   "execution_count": 15,
   "id": "769f85be",
   "metadata": {
    "execution": {
     "iopub.execute_input": "2024-07-15T06:55:20.256411Z",
     "iopub.status.busy": "2024-07-15T06:55:20.256020Z",
     "iopub.status.idle": "2024-07-15T06:55:20.424703Z",
     "shell.execute_reply": "2024-07-15T06:55:20.423493Z"
    },
    "papermill": {
     "duration": 0.204748,
     "end_time": "2024-07-15T06:55:20.427528",
     "exception": false,
     "start_time": "2024-07-15T06:55:20.222780",
     "status": "completed"
    },
    "tags": []
   },
   "outputs": [
    {
     "data": {
      "text/plain": [
       "name                                   0\n",
       "host id                                0\n",
       "host_identity_verified               277\n",
       "host name                            400\n",
       "neighbourhood group                   27\n",
       "neighbourhood                         16\n",
       "lat                                    8\n",
       "long                                   8\n",
       "country                              527\n",
       "country code                         123\n",
       "instant_bookable                      97\n",
       "cancellation_policy                   71\n",
       "room type                              0\n",
       "Construction year                    205\n",
       "price                                244\n",
       "service fee                          273\n",
       "minimum nights                       403\n",
       "number of reviews                    182\n",
       "last review                        15857\n",
       "reviews per month                  15843\n",
       "review rate number                   318\n",
       "calculated host listings count       318\n",
       "availability 365                     430\n",
       "house_rules                        52025\n",
       "license                           102347\n",
       "dtype: int64"
      ]
     },
     "execution_count": 15,
     "metadata": {},
     "output_type": "execute_result"
    }
   ],
   "source": [
    "updated_df.isna().sum()"
   ]
  },
  {
   "cell_type": "code",
   "execution_count": 16,
   "id": "17553311",
   "metadata": {
    "execution": {
     "iopub.execute_input": "2024-07-15T06:55:20.492412Z",
     "iopub.status.busy": "2024-07-15T06:55:20.492034Z",
     "iopub.status.idle": "2024-07-15T06:55:20.499837Z",
     "shell.execute_reply": "2024-07-15T06:55:20.498545Z"
    },
    "papermill": {
     "duration": 0.043453,
     "end_time": "2024-07-15T06:55:20.502432",
     "exception": false,
     "start_time": "2024-07-15T06:55:20.458979",
     "status": "completed"
    },
    "tags": []
   },
   "outputs": [
    {
     "data": {
      "text/plain": [
       "(102349, 25)"
      ]
     },
     "execution_count": 16,
     "metadata": {},
     "output_type": "execute_result"
    }
   ],
   "source": [
    "updated_df.shape"
   ]
  },
  {
   "cell_type": "markdown",
   "id": "55c1f19e",
   "metadata": {
    "papermill": {
     "duration": 0.031279,
     "end_time": "2024-07-15T06:55:20.566966",
     "exception": false,
     "start_time": "2024-07-15T06:55:20.535687",
     "status": "completed"
    },
    "tags": []
   },
   "source": [
    "**Making all null host_identity to unconfirmed**"
   ]
  },
  {
   "cell_type": "code",
   "execution_count": 17,
   "id": "055049de",
   "metadata": {
    "execution": {
     "iopub.execute_input": "2024-07-15T06:55:20.634282Z",
     "iopub.status.busy": "2024-07-15T06:55:20.633857Z",
     "iopub.status.idle": "2024-07-15T06:55:20.654578Z",
     "shell.execute_reply": "2024-07-15T06:55:20.653359Z"
    },
    "papermill": {
     "duration": 0.057447,
     "end_time": "2024-07-15T06:55:20.657424",
     "exception": false,
     "start_time": "2024-07-15T06:55:20.599977",
     "status": "completed"
    },
    "tags": []
   },
   "outputs": [],
   "source": [
    "updated_host_identity = updated_df.host_identity_verified.fillna('unconfirmed')"
   ]
  },
  {
   "cell_type": "code",
   "execution_count": 18,
   "id": "13b5c8cb",
   "metadata": {
    "execution": {
     "iopub.execute_input": "2024-07-15T06:55:20.723941Z",
     "iopub.status.busy": "2024-07-15T06:55:20.723537Z",
     "iopub.status.idle": "2024-07-15T06:55:20.730762Z",
     "shell.execute_reply": "2024-07-15T06:55:20.729331Z"
    },
    "papermill": {
     "duration": 0.044863,
     "end_time": "2024-07-15T06:55:20.733536",
     "exception": false,
     "start_time": "2024-07-15T06:55:20.688673",
     "status": "completed"
    },
    "tags": []
   },
   "outputs": [],
   "source": [
    "updated_df['host_identity_verified'] = updated_host_identity"
   ]
  },
  {
   "cell_type": "code",
   "execution_count": 19,
   "id": "77a497a9",
   "metadata": {
    "execution": {
     "iopub.execute_input": "2024-07-15T06:55:20.799700Z",
     "iopub.status.busy": "2024-07-15T06:55:20.799232Z",
     "iopub.status.idle": "2024-07-15T06:55:20.969340Z",
     "shell.execute_reply": "2024-07-15T06:55:20.968132Z"
    },
    "papermill": {
     "duration": 0.205979,
     "end_time": "2024-07-15T06:55:20.972166",
     "exception": false,
     "start_time": "2024-07-15T06:55:20.766187",
     "status": "completed"
    },
    "tags": []
   },
   "outputs": [
    {
     "data": {
      "text/plain": [
       "name                                   0\n",
       "host id                                0\n",
       "host_identity_verified                 0\n",
       "host name                            400\n",
       "neighbourhood group                   27\n",
       "neighbourhood                         16\n",
       "lat                                    8\n",
       "long                                   8\n",
       "country                              527\n",
       "country code                         123\n",
       "instant_bookable                      97\n",
       "cancellation_policy                   71\n",
       "room type                              0\n",
       "Construction year                    205\n",
       "price                                244\n",
       "service fee                          273\n",
       "minimum nights                       403\n",
       "number of reviews                    182\n",
       "last review                        15857\n",
       "reviews per month                  15843\n",
       "review rate number                   318\n",
       "calculated host listings count       318\n",
       "availability 365                     430\n",
       "house_rules                        52025\n",
       "license                           102347\n",
       "dtype: int64"
      ]
     },
     "execution_count": 19,
     "metadata": {},
     "output_type": "execute_result"
    }
   ],
   "source": [
    "updated_df.isna().sum()"
   ]
  },
  {
   "cell_type": "markdown",
   "id": "0a98898d",
   "metadata": {
    "papermill": {
     "duration": 0.033341,
     "end_time": "2024-07-15T06:55:21.038494",
     "exception": false,
     "start_time": "2024-07-15T06:55:21.005153",
     "status": "completed"
    },
    "tags": []
   },
   "source": [
    "**Making all null host_names to unknown**"
   ]
  },
  {
   "cell_type": "code",
   "execution_count": 20,
   "id": "1c4f07de",
   "metadata": {
    "execution": {
     "iopub.execute_input": "2024-07-15T06:55:21.104671Z",
     "iopub.status.busy": "2024-07-15T06:55:21.104222Z",
     "iopub.status.idle": "2024-07-15T06:55:21.125831Z",
     "shell.execute_reply": "2024-07-15T06:55:21.124560Z"
    },
    "papermill": {
     "duration": 0.057442,
     "end_time": "2024-07-15T06:55:21.128848",
     "exception": false,
     "start_time": "2024-07-15T06:55:21.071406",
     "status": "completed"
    },
    "tags": []
   },
   "outputs": [],
   "source": [
    "updated_df['host name'] = updated_df['host name'].fillna('unknown')"
   ]
  },
  {
   "cell_type": "code",
   "execution_count": 21,
   "id": "ecf93510",
   "metadata": {
    "execution": {
     "iopub.execute_input": "2024-07-15T06:55:21.195001Z",
     "iopub.status.busy": "2024-07-15T06:55:21.194545Z",
     "iopub.status.idle": "2024-07-15T06:55:21.366963Z",
     "shell.execute_reply": "2024-07-15T06:55:21.365711Z"
    },
    "papermill": {
     "duration": 0.208031,
     "end_time": "2024-07-15T06:55:21.369740",
     "exception": false,
     "start_time": "2024-07-15T06:55:21.161709",
     "status": "completed"
    },
    "tags": []
   },
   "outputs": [
    {
     "data": {
      "text/plain": [
       "name                                   0\n",
       "host id                                0\n",
       "host_identity_verified                 0\n",
       "host name                              0\n",
       "neighbourhood group                   27\n",
       "neighbourhood                         16\n",
       "lat                                    8\n",
       "long                                   8\n",
       "country                              527\n",
       "country code                         123\n",
       "instant_bookable                      97\n",
       "cancellation_policy                   71\n",
       "room type                              0\n",
       "Construction year                    205\n",
       "price                                244\n",
       "service fee                          273\n",
       "minimum nights                       403\n",
       "number of reviews                    182\n",
       "last review                        15857\n",
       "reviews per month                  15843\n",
       "review rate number                   318\n",
       "calculated host listings count       318\n",
       "availability 365                     430\n",
       "house_rules                        52025\n",
       "license                           102347\n",
       "dtype: int64"
      ]
     },
     "execution_count": 21,
     "metadata": {},
     "output_type": "execute_result"
    }
   ],
   "source": [
    "updated_df.isna().sum()"
   ]
  },
  {
   "cell_type": "code",
   "execution_count": 22,
   "id": "aaaf2733",
   "metadata": {
    "execution": {
     "iopub.execute_input": "2024-07-15T06:55:21.436796Z",
     "iopub.status.busy": "2024-07-15T06:55:21.436382Z",
     "iopub.status.idle": "2024-07-15T06:55:21.456264Z",
     "shell.execute_reply": "2024-07-15T06:55:21.455061Z"
    },
    "papermill": {
     "duration": 0.056932,
     "end_time": "2024-07-15T06:55:21.458854",
     "exception": false,
     "start_time": "2024-07-15T06:55:21.401922",
     "status": "completed"
    },
    "tags": []
   },
   "outputs": [
    {
     "data": {
      "text/html": [
       "<div>\n",
       "<style scoped>\n",
       "    .dataframe tbody tr th:only-of-type {\n",
       "        vertical-align: middle;\n",
       "    }\n",
       "\n",
       "    .dataframe tbody tr th {\n",
       "        vertical-align: top;\n",
       "    }\n",
       "\n",
       "    .dataframe thead th {\n",
       "        text-align: right;\n",
       "    }\n",
       "</style>\n",
       "<table border=\"1\" class=\"dataframe\">\n",
       "  <thead>\n",
       "    <tr style=\"text-align: right;\">\n",
       "      <th></th>\n",
       "      <th>neighbourhood group</th>\n",
       "      <th>neighbourhood</th>\n",
       "    </tr>\n",
       "    <tr>\n",
       "      <th>id</th>\n",
       "      <th></th>\n",
       "      <th></th>\n",
       "    </tr>\n",
       "  </thead>\n",
       "  <tbody>\n",
       "    <tr>\n",
       "      <th>1001254</th>\n",
       "      <td>Brooklyn</td>\n",
       "      <td>Kensington</td>\n",
       "    </tr>\n",
       "    <tr>\n",
       "      <th>1002102</th>\n",
       "      <td>Manhattan</td>\n",
       "      <td>Midtown</td>\n",
       "    </tr>\n",
       "    <tr>\n",
       "      <th>1002403</th>\n",
       "      <td>Manhattan</td>\n",
       "      <td>Harlem</td>\n",
       "    </tr>\n",
       "    <tr>\n",
       "      <th>1003689</th>\n",
       "      <td>Manhattan</td>\n",
       "      <td>East Harlem</td>\n",
       "    </tr>\n",
       "    <tr>\n",
       "      <th>1004098</th>\n",
       "      <td>Manhattan</td>\n",
       "      <td>Murray Hill</td>\n",
       "    </tr>\n",
       "    <tr>\n",
       "      <th>...</th>\n",
       "      <td>...</td>\n",
       "      <td>...</td>\n",
       "    </tr>\n",
       "    <tr>\n",
       "      <th>6092437</th>\n",
       "      <td>Brooklyn</td>\n",
       "      <td>Williamsburg</td>\n",
       "    </tr>\n",
       "    <tr>\n",
       "      <th>6092990</th>\n",
       "      <td>Manhattan</td>\n",
       "      <td>Morningside Heights</td>\n",
       "    </tr>\n",
       "    <tr>\n",
       "      <th>6093542</th>\n",
       "      <td>Brooklyn</td>\n",
       "      <td>Park Slope</td>\n",
       "    </tr>\n",
       "    <tr>\n",
       "      <th>6094094</th>\n",
       "      <td>Queens</td>\n",
       "      <td>Long Island City</td>\n",
       "    </tr>\n",
       "    <tr>\n",
       "      <th>6094647</th>\n",
       "      <td>Manhattan</td>\n",
       "      <td>Upper West Side</td>\n",
       "    </tr>\n",
       "  </tbody>\n",
       "</table>\n",
       "<p>102349 rows × 2 columns</p>\n",
       "</div>"
      ],
      "text/plain": [
       "        neighbourhood group        neighbourhood\n",
       "id                                              \n",
       "1001254            Brooklyn           Kensington\n",
       "1002102           Manhattan              Midtown\n",
       "1002403           Manhattan               Harlem\n",
       "1003689           Manhattan          East Harlem\n",
       "1004098           Manhattan          Murray Hill\n",
       "...                     ...                  ...\n",
       "6092437            Brooklyn         Williamsburg\n",
       "6092990           Manhattan  Morningside Heights\n",
       "6093542            Brooklyn           Park Slope\n",
       "6094094              Queens     Long Island City\n",
       "6094647           Manhattan      Upper West Side\n",
       "\n",
       "[102349 rows x 2 columns]"
      ]
     },
     "execution_count": 22,
     "metadata": {},
     "output_type": "execute_result"
    }
   ],
   "source": [
    "updated_df.loc[:,'neighbourhood group':'neighbourhood']"
   ]
  },
  {
   "cell_type": "code",
   "execution_count": 23,
   "id": "c8870276",
   "metadata": {
    "execution": {
     "iopub.execute_input": "2024-07-15T06:55:21.525175Z",
     "iopub.status.busy": "2024-07-15T06:55:21.524737Z",
     "iopub.status.idle": "2024-07-15T06:55:21.584800Z",
     "shell.execute_reply": "2024-07-15T06:55:21.583440Z"
    },
    "papermill": {
     "duration": 0.096738,
     "end_time": "2024-07-15T06:55:21.587652",
     "exception": false,
     "start_time": "2024-07-15T06:55:21.490914",
     "status": "completed"
    },
    "tags": []
   },
   "outputs": [
    {
     "data": {
      "text/plain": [
       "neighbourhood group  neighbourhood\n",
       "Bronx                Allerton         97\n",
       "                     Baychester       29\n",
       "                     Belmont          45\n",
       "                     Bronxdale        47\n",
       "                     Castle Hill      22\n",
       "                                      ..\n",
       "Staten Island        Westerleigh       5\n",
       "                     Willowbrook       3\n",
       "                     Woodrow           3\n",
       "brookln              South Slope       1\n",
       "manhatan             Chelsea           1\n",
       "Name: name, Length: 226, dtype: int64"
      ]
     },
     "execution_count": 23,
     "metadata": {},
     "output_type": "execute_result"
    }
   ],
   "source": [
    "updated_df.groupby(['neighbourhood group','neighbourhood']).name.count()"
   ]
  },
  {
   "cell_type": "code",
   "execution_count": 24,
   "id": "3f8b3995",
   "metadata": {
    "execution": {
     "iopub.execute_input": "2024-07-15T06:55:21.657327Z",
     "iopub.status.busy": "2024-07-15T06:55:21.656901Z",
     "iopub.status.idle": "2024-07-15T06:55:21.738837Z",
     "shell.execute_reply": "2024-07-15T06:55:21.737668Z"
    },
    "papermill": {
     "duration": 0.11912,
     "end_time": "2024-07-15T06:55:21.741552",
     "exception": false,
     "start_time": "2024-07-15T06:55:21.622432",
     "status": "completed"
    },
    "tags": []
   },
   "outputs": [
    {
     "data": {
      "text/html": [
       "<div>\n",
       "<style scoped>\n",
       "    .dataframe tbody tr th:only-of-type {\n",
       "        vertical-align: middle;\n",
       "    }\n",
       "\n",
       "    .dataframe tbody tr th {\n",
       "        vertical-align: top;\n",
       "    }\n",
       "\n",
       "    .dataframe thead th {\n",
       "        text-align: right;\n",
       "    }\n",
       "</style>\n",
       "<table border=\"1\" class=\"dataframe\">\n",
       "  <thead>\n",
       "    <tr style=\"text-align: right;\">\n",
       "      <th></th>\n",
       "      <th>name</th>\n",
       "      <th>host id</th>\n",
       "      <th>host_identity_verified</th>\n",
       "      <th>host name</th>\n",
       "      <th>neighbourhood group</th>\n",
       "      <th>neighbourhood</th>\n",
       "      <th>lat</th>\n",
       "      <th>long</th>\n",
       "      <th>country</th>\n",
       "      <th>country code</th>\n",
       "      <th>...</th>\n",
       "      <th>service fee</th>\n",
       "      <th>minimum nights</th>\n",
       "      <th>number of reviews</th>\n",
       "      <th>last review</th>\n",
       "      <th>reviews per month</th>\n",
       "      <th>review rate number</th>\n",
       "      <th>calculated host listings count</th>\n",
       "      <th>availability 365</th>\n",
       "      <th>house_rules</th>\n",
       "      <th>license</th>\n",
       "    </tr>\n",
       "    <tr>\n",
       "      <th>id</th>\n",
       "      <th></th>\n",
       "      <th></th>\n",
       "      <th></th>\n",
       "      <th></th>\n",
       "      <th></th>\n",
       "      <th></th>\n",
       "      <th></th>\n",
       "      <th></th>\n",
       "      <th></th>\n",
       "      <th></th>\n",
       "      <th></th>\n",
       "      <th></th>\n",
       "      <th></th>\n",
       "      <th></th>\n",
       "      <th></th>\n",
       "      <th></th>\n",
       "      <th></th>\n",
       "      <th></th>\n",
       "      <th></th>\n",
       "      <th></th>\n",
       "      <th></th>\n",
       "    </tr>\n",
       "  </thead>\n",
       "  <tbody>\n",
       "    <tr>\n",
       "      <th>1283561</th>\n",
       "      <td>A PRIVATE FLAT / APARTMENT- $SPECIAL$</td>\n",
       "      <td>25554233693</td>\n",
       "      <td>unconfirmed</td>\n",
       "      <td>Alford</td>\n",
       "      <td>Bronx</td>\n",
       "      <td>Allerton</td>\n",
       "      <td>40.86466</td>\n",
       "      <td>-73.85709</td>\n",
       "      <td>United States</td>\n",
       "      <td>US</td>\n",
       "      <td>...</td>\n",
       "      <td>$15</td>\n",
       "      <td>2.0</td>\n",
       "      <td>271.0</td>\n",
       "      <td>6/20/2019</td>\n",
       "      <td>2.84</td>\n",
       "      <td>1.0</td>\n",
       "      <td>2.0</td>\n",
       "      <td>NaN</td>\n",
       "      <td>Please remember that this is a residential bui...</td>\n",
       "      <td>NaN</td>\n",
       "    </tr>\n",
       "    <tr>\n",
       "      <th>1646422</th>\n",
       "      <td>Hi Traveler.. welcome</td>\n",
       "      <td>39562464038</td>\n",
       "      <td>verified</td>\n",
       "      <td>Ellen</td>\n",
       "      <td>Bronx</td>\n",
       "      <td>Allerton</td>\n",
       "      <td>40.86870</td>\n",
       "      <td>-73.85240</td>\n",
       "      <td>United States</td>\n",
       "      <td>US</td>\n",
       "      <td>...</td>\n",
       "      <td>$20</td>\n",
       "      <td>7.0</td>\n",
       "      <td>2.0</td>\n",
       "      <td>7/23/2018</td>\n",
       "      <td>0.17</td>\n",
       "      <td>5.0</td>\n",
       "      <td>1.0</td>\n",
       "      <td>165.0</td>\n",
       "      <td>No Smoking No Pets</td>\n",
       "      <td>NaN</td>\n",
       "    </tr>\n",
       "    <tr>\n",
       "      <th>1873418</th>\n",
       "      <td>2 Beds/Queen &amp; Full Beautiful Room 40 minsT.Sq...</td>\n",
       "      <td>62351131714</td>\n",
       "      <td>unconfirmed</td>\n",
       "      <td>Enrique</td>\n",
       "      <td>Bronx</td>\n",
       "      <td>Allerton</td>\n",
       "      <td>40.85956</td>\n",
       "      <td>-73.87067</td>\n",
       "      <td>United States</td>\n",
       "      <td>US</td>\n",
       "      <td>...</td>\n",
       "      <td>$232</td>\n",
       "      <td>2.0</td>\n",
       "      <td>169.0</td>\n",
       "      <td>6/12/2019</td>\n",
       "      <td>2.07</td>\n",
       "      <td>1.0</td>\n",
       "      <td>4.0</td>\n",
       "      <td>359.0</td>\n",
       "      <td>- No Smoking In the House.  There is a back po...</td>\n",
       "      <td>NaN</td>\n",
       "    </tr>\n",
       "    <tr>\n",
       "      <th>1922020</th>\n",
       "      <td>PRIVATE BATH/TONS OF SUNLIGHT/SAFE</td>\n",
       "      <td>77129391486</td>\n",
       "      <td>unconfirmed</td>\n",
       "      <td>Enrique</td>\n",
       "      <td>Bronx</td>\n",
       "      <td>Allerton</td>\n",
       "      <td>40.85840</td>\n",
       "      <td>-73.86969</td>\n",
       "      <td>United States</td>\n",
       "      <td>US</td>\n",
       "      <td>...</td>\n",
       "      <td>$109</td>\n",
       "      <td>2.0</td>\n",
       "      <td>189.0</td>\n",
       "      <td>6/23/2019</td>\n",
       "      <td>2.32</td>\n",
       "      <td>2.0</td>\n",
       "      <td>4.0</td>\n",
       "      <td>393.0</td>\n",
       "      <td>Quiet hours are from midnight to 6 a.m.  We as...</td>\n",
       "      <td>NaN</td>\n",
       "    </tr>\n",
       "    <tr>\n",
       "      <th>1944112</th>\n",
       "      <td>Nice beautiful room In the Bronx</td>\n",
       "      <td>51589747151</td>\n",
       "      <td>unconfirmed</td>\n",
       "      <td>Enrique</td>\n",
       "      <td>Bronx</td>\n",
       "      <td>Allerton</td>\n",
       "      <td>40.85914</td>\n",
       "      <td>-73.86979</td>\n",
       "      <td>United States</td>\n",
       "      <td>US</td>\n",
       "      <td>...</td>\n",
       "      <td>$192</td>\n",
       "      <td>1.0</td>\n",
       "      <td>187.0</td>\n",
       "      <td>6/23/2019</td>\n",
       "      <td>2.34</td>\n",
       "      <td>4.0</td>\n",
       "      <td>4.0</td>\n",
       "      <td>313.0</td>\n",
       "      <td>NaN</td>\n",
       "      <td>NaN</td>\n",
       "    </tr>\n",
       "    <tr>\n",
       "      <th>...</th>\n",
       "      <td>...</td>\n",
       "      <td>...</td>\n",
       "      <td>...</td>\n",
       "      <td>...</td>\n",
       "      <td>...</td>\n",
       "      <td>...</td>\n",
       "      <td>...</td>\n",
       "      <td>...</td>\n",
       "      <td>...</td>\n",
       "      <td>...</td>\n",
       "      <td>...</td>\n",
       "      <td>...</td>\n",
       "      <td>...</td>\n",
       "      <td>...</td>\n",
       "      <td>...</td>\n",
       "      <td>...</td>\n",
       "      <td>...</td>\n",
       "      <td>...</td>\n",
       "      <td>...</td>\n",
       "      <td>...</td>\n",
       "      <td>...</td>\n",
       "    </tr>\n",
       "    <tr>\n",
       "      <th>54298838</th>\n",
       "      <td>#ERROR!</td>\n",
       "      <td>41841353089</td>\n",
       "      <td>verified</td>\n",
       "      <td>William</td>\n",
       "      <td>Bronx</td>\n",
       "      <td>Allerton</td>\n",
       "      <td>40.86014</td>\n",
       "      <td>-73.86301</td>\n",
       "      <td>United States</td>\n",
       "      <td>US</td>\n",
       "      <td>...</td>\n",
       "      <td>$173</td>\n",
       "      <td>1.0</td>\n",
       "      <td>30.0</td>\n",
       "      <td>7/2/2019</td>\n",
       "      <td>2.56</td>\n",
       "      <td>4.0</td>\n",
       "      <td>5.0</td>\n",
       "      <td>48.0</td>\n",
       "      <td>The apartment is non-smoking and pets are not ...</td>\n",
       "      <td>NaN</td>\n",
       "    </tr>\n",
       "    <tr>\n",
       "      <th>54299943</th>\n",
       "      <td>❤️ Beautiful, Bright Room - Late Self Check-In...</td>\n",
       "      <td>14682176495</td>\n",
       "      <td>unconfirmed</td>\n",
       "      <td>William</td>\n",
       "      <td>Bronx</td>\n",
       "      <td>Allerton</td>\n",
       "      <td>40.86013</td>\n",
       "      <td>-73.86339</td>\n",
       "      <td>United States</td>\n",
       "      <td>US</td>\n",
       "      <td>...</td>\n",
       "      <td>$115</td>\n",
       "      <td>1.0</td>\n",
       "      <td>30.0</td>\n",
       "      <td>7/2/2019</td>\n",
       "      <td>2.56</td>\n",
       "      <td>2.0</td>\n",
       "      <td>5.0</td>\n",
       "      <td>57.0</td>\n",
       "      <td>NaN</td>\n",
       "      <td>NaN</td>\n",
       "    </tr>\n",
       "    <tr>\n",
       "      <th>54394386</th>\n",
       "      <td>Private Room</td>\n",
       "      <td>56063277482</td>\n",
       "      <td>verified</td>\n",
       "      <td>Momo</td>\n",
       "      <td>Bronx</td>\n",
       "      <td>Allerton</td>\n",
       "      <td>40.86659</td>\n",
       "      <td>-73.86600</td>\n",
       "      <td>United States</td>\n",
       "      <td>US</td>\n",
       "      <td>...</td>\n",
       "      <td>$17</td>\n",
       "      <td>2.0</td>\n",
       "      <td>0.0</td>\n",
       "      <td>NaN</td>\n",
       "      <td>NaN</td>\n",
       "      <td>3.0</td>\n",
       "      <td>1.0</td>\n",
       "      <td>0.0</td>\n",
       "      <td>Please remember that this is a residential bui...</td>\n",
       "      <td>NaN</td>\n",
       "    </tr>\n",
       "    <tr>\n",
       "      <th>54797565</th>\n",
       "      <td>Jay's Studio Apartment</td>\n",
       "      <td>78419675640</td>\n",
       "      <td>unconfirmed</td>\n",
       "      <td>Jehan</td>\n",
       "      <td>Bronx</td>\n",
       "      <td>Allerton</td>\n",
       "      <td>40.87015</td>\n",
       "      <td>-73.85582</td>\n",
       "      <td>United States</td>\n",
       "      <td>US</td>\n",
       "      <td>...</td>\n",
       "      <td>$208</td>\n",
       "      <td>4.0</td>\n",
       "      <td>35.0</td>\n",
       "      <td>7/1/2019</td>\n",
       "      <td>3.13</td>\n",
       "      <td>4.0</td>\n",
       "      <td>1.0</td>\n",
       "      <td>169.0</td>\n",
       "      <td>#NAME?</td>\n",
       "      <td>NaN</td>\n",
       "    </tr>\n",
       "    <tr>\n",
       "      <th>35567584</th>\n",
       "      <td>Hiéroglyphe</td>\n",
       "      <td>97219387634</td>\n",
       "      <td>verified</td>\n",
       "      <td>Yero</td>\n",
       "      <td>Bronx</td>\n",
       "      <td>Allerton</td>\n",
       "      <td>40.86754</td>\n",
       "      <td>-73.85472</td>\n",
       "      <td>United States</td>\n",
       "      <td>US</td>\n",
       "      <td>...</td>\n",
       "      <td>$129</td>\n",
       "      <td>30.0</td>\n",
       "      <td>76.0</td>\n",
       "      <td>11/7/2021</td>\n",
       "      <td>1.64</td>\n",
       "      <td>2.0</td>\n",
       "      <td>1.0</td>\n",
       "      <td>82.0</td>\n",
       "      <td>NaN</td>\n",
       "      <td>NaN</td>\n",
       "    </tr>\n",
       "  </tbody>\n",
       "</table>\n",
       "<p>97 rows × 25 columns</p>\n",
       "</div>"
      ],
      "text/plain": [
       "                                                       name      host id  \\\n",
       "id                                                                         \n",
       "1283561               A PRIVATE FLAT / APARTMENT- $SPECIAL$  25554233693   \n",
       "1646422                               Hi Traveler.. welcome  39562464038   \n",
       "1873418   2 Beds/Queen & Full Beautiful Room 40 minsT.Sq...  62351131714   \n",
       "1922020                  PRIVATE BATH/TONS OF SUNLIGHT/SAFE  77129391486   \n",
       "1944112                    Nice beautiful room In the Bronx  51589747151   \n",
       "...                                                     ...          ...   \n",
       "54298838                                            #ERROR!  41841353089   \n",
       "54299943  ❤️ Beautiful, Bright Room - Late Self Check-In...  14682176495   \n",
       "54394386                                       Private Room  56063277482   \n",
       "54797565                             Jay's Studio Apartment  78419675640   \n",
       "35567584                                        Hiéroglyphe  97219387634   \n",
       "\n",
       "         host_identity_verified host name neighbourhood group neighbourhood  \\\n",
       "id                                                                            \n",
       "1283561             unconfirmed    Alford               Bronx      Allerton   \n",
       "1646422                verified     Ellen               Bronx      Allerton   \n",
       "1873418             unconfirmed   Enrique               Bronx      Allerton   \n",
       "1922020             unconfirmed   Enrique               Bronx      Allerton   \n",
       "1944112             unconfirmed   Enrique               Bronx      Allerton   \n",
       "...                         ...       ...                 ...           ...   \n",
       "54298838               verified   William               Bronx      Allerton   \n",
       "54299943            unconfirmed   William               Bronx      Allerton   \n",
       "54394386               verified      Momo               Bronx      Allerton   \n",
       "54797565            unconfirmed     Jehan               Bronx      Allerton   \n",
       "35567584               verified      Yero               Bronx      Allerton   \n",
       "\n",
       "               lat      long        country country code  ... service fee  \\\n",
       "id                                                        ...               \n",
       "1283561   40.86466 -73.85709  United States           US  ...        $15    \n",
       "1646422   40.86870 -73.85240  United States           US  ...        $20    \n",
       "1873418   40.85956 -73.87067  United States           US  ...       $232    \n",
       "1922020   40.85840 -73.86969  United States           US  ...       $109    \n",
       "1944112   40.85914 -73.86979  United States           US  ...       $192    \n",
       "...            ...       ...            ...          ...  ...         ...   \n",
       "54298838  40.86014 -73.86301  United States           US  ...       $173    \n",
       "54299943  40.86013 -73.86339  United States           US  ...       $115    \n",
       "54394386  40.86659 -73.86600  United States           US  ...        $17    \n",
       "54797565  40.87015 -73.85582  United States           US  ...       $208    \n",
       "35567584  40.86754 -73.85472  United States           US  ...       $129    \n",
       "\n",
       "         minimum nights number of reviews  last review reviews per month  \\\n",
       "id                                                                         \n",
       "1283561             2.0             271.0    6/20/2019              2.84   \n",
       "1646422             7.0               2.0    7/23/2018              0.17   \n",
       "1873418             2.0             169.0    6/12/2019              2.07   \n",
       "1922020             2.0             189.0    6/23/2019              2.32   \n",
       "1944112             1.0             187.0    6/23/2019              2.34   \n",
       "...                 ...               ...          ...               ...   \n",
       "54298838            1.0              30.0     7/2/2019              2.56   \n",
       "54299943            1.0              30.0     7/2/2019              2.56   \n",
       "54394386            2.0               0.0          NaN               NaN   \n",
       "54797565            4.0              35.0     7/1/2019              3.13   \n",
       "35567584           30.0              76.0    11/7/2021              1.64   \n",
       "\n",
       "         review rate number  calculated host listings count  availability 365  \\\n",
       "id                                                                              \n",
       "1283561                 1.0                             2.0               NaN   \n",
       "1646422                 5.0                             1.0             165.0   \n",
       "1873418                 1.0                             4.0             359.0   \n",
       "1922020                 2.0                             4.0             393.0   \n",
       "1944112                 4.0                             4.0             313.0   \n",
       "...                     ...                             ...               ...   \n",
       "54298838                4.0                             5.0              48.0   \n",
       "54299943                2.0                             5.0              57.0   \n",
       "54394386                3.0                             1.0               0.0   \n",
       "54797565                4.0                             1.0             169.0   \n",
       "35567584                2.0                             1.0              82.0   \n",
       "\n",
       "                                                house_rules  license  \n",
       "id                                                                    \n",
       "1283561   Please remember that this is a residential bui...      NaN  \n",
       "1646422                                  No Smoking No Pets      NaN  \n",
       "1873418   - No Smoking In the House.  There is a back po...      NaN  \n",
       "1922020   Quiet hours are from midnight to 6 a.m.  We as...      NaN  \n",
       "1944112                                                 NaN      NaN  \n",
       "...                                                     ...      ...  \n",
       "54298838  The apartment is non-smoking and pets are not ...      NaN  \n",
       "54299943                                                NaN      NaN  \n",
       "54394386  Please remember that this is a residential bui...      NaN  \n",
       "54797565                                             #NAME?      NaN  \n",
       "35567584                                                NaN      NaN  \n",
       "\n",
       "[97 rows x 25 columns]"
      ]
     },
     "execution_count": 24,
     "metadata": {},
     "output_type": "execute_result"
    }
   ],
   "source": [
    "updated_df.loc[(updated_df['neighbourhood group'] == 'Bronx') & (updated_df['neighbourhood'] == 'Allerton')]"
   ]
  },
  {
   "cell_type": "markdown",
   "id": "837325a7",
   "metadata": {
    "papermill": {
     "duration": 0.032489,
     "end_time": "2024-07-15T06:55:21.807451",
     "exception": false,
     "start_time": "2024-07-15T06:55:21.774962",
     "status": "completed"
    },
    "tags": []
   },
   "source": [
    "**We are combining both neighbourhood group and neighbourhood to make a single column area**"
   ]
  },
  {
   "cell_type": "code",
   "execution_count": 25,
   "id": "275b0e2e",
   "metadata": {
    "execution": {
     "iopub.execute_input": "2024-07-15T06:55:21.879093Z",
     "iopub.status.busy": "2024-07-15T06:55:21.878319Z",
     "iopub.status.idle": "2024-07-15T06:55:21.950847Z",
     "shell.execute_reply": "2024-07-15T06:55:21.949446Z"
    },
    "papermill": {
     "duration": 0.110502,
     "end_time": "2024-07-15T06:55:21.953747",
     "exception": false,
     "start_time": "2024-07-15T06:55:21.843245",
     "status": "completed"
    },
    "tags": []
   },
   "outputs": [],
   "source": [
    "updated_df['area'] = updated_df['neighbourhood group'] + ' '+ updated_df['neighbourhood']"
   ]
  },
  {
   "cell_type": "markdown",
   "id": "8fa5cac1",
   "metadata": {
    "papermill": {
     "duration": 0.034031,
     "end_time": "2024-07-15T06:55:22.020413",
     "exception": false,
     "start_time": "2024-07-15T06:55:21.986382",
     "status": "completed"
    },
    "tags": []
   },
   "source": [
    "**now we can drop neighbourhood group and neighbourhood and lat and long as well since location is already there and they don't add more value**"
   ]
  },
  {
   "cell_type": "code",
   "execution_count": 26,
   "id": "f5db9fd2",
   "metadata": {
    "execution": {
     "iopub.execute_input": "2024-07-15T06:55:22.089367Z",
     "iopub.status.busy": "2024-07-15T06:55:22.088942Z",
     "iopub.status.idle": "2024-07-15T06:55:22.126319Z",
     "shell.execute_reply": "2024-07-15T06:55:22.125067Z"
    },
    "papermill": {
     "duration": 0.075396,
     "end_time": "2024-07-15T06:55:22.129359",
     "exception": false,
     "start_time": "2024-07-15T06:55:22.053963",
     "status": "completed"
    },
    "tags": []
   },
   "outputs": [],
   "source": [
    "updated_df.drop(columns = ['neighbourhood group','neighbourhood','lat','long'],inplace = True)"
   ]
  },
  {
   "cell_type": "code",
   "execution_count": 27,
   "id": "6a1055a9",
   "metadata": {
    "execution": {
     "iopub.execute_input": "2024-07-15T06:55:22.198008Z",
     "iopub.status.busy": "2024-07-15T06:55:22.197066Z",
     "iopub.status.idle": "2024-07-15T06:55:22.353578Z",
     "shell.execute_reply": "2024-07-15T06:55:22.352353Z"
    },
    "papermill": {
     "duration": 0.193575,
     "end_time": "2024-07-15T06:55:22.356155",
     "exception": false,
     "start_time": "2024-07-15T06:55:22.162580",
     "status": "completed"
    },
    "tags": []
   },
   "outputs": [
    {
     "data": {
      "text/plain": [
       "name                                   0\n",
       "host id                                0\n",
       "host_identity_verified                 0\n",
       "host name                              0\n",
       "country                              527\n",
       "country code                         123\n",
       "instant_bookable                      97\n",
       "cancellation_policy                   71\n",
       "room type                              0\n",
       "Construction year                    205\n",
       "price                                244\n",
       "service fee                          273\n",
       "minimum nights                       403\n",
       "number of reviews                    182\n",
       "last review                        15857\n",
       "reviews per month                  15843\n",
       "review rate number                   318\n",
       "calculated host listings count       318\n",
       "availability 365                     430\n",
       "house_rules                        52025\n",
       "license                           102347\n",
       "area                                  43\n",
       "dtype: int64"
      ]
     },
     "execution_count": 27,
     "metadata": {},
     "output_type": "execute_result"
    }
   ],
   "source": [
    "updated_df.isna().sum()"
   ]
  },
  {
   "cell_type": "code",
   "execution_count": 28,
   "id": "96b3b9da",
   "metadata": {
    "execution": {
     "iopub.execute_input": "2024-07-15T06:55:22.425021Z",
     "iopub.status.busy": "2024-07-15T06:55:22.424015Z",
     "iopub.status.idle": "2024-07-15T06:55:22.440474Z",
     "shell.execute_reply": "2024-07-15T06:55:22.439338Z"
    },
    "papermill": {
     "duration": 0.053875,
     "end_time": "2024-07-15T06:55:22.443032",
     "exception": false,
     "start_time": "2024-07-15T06:55:22.389157",
     "status": "completed"
    },
    "tags": []
   },
   "outputs": [
    {
     "data": {
      "text/html": [
       "<div>\n",
       "<style scoped>\n",
       "    .dataframe tbody tr th:only-of-type {\n",
       "        vertical-align: middle;\n",
       "    }\n",
       "\n",
       "    .dataframe tbody tr th {\n",
       "        vertical-align: top;\n",
       "    }\n",
       "\n",
       "    .dataframe thead th {\n",
       "        text-align: right;\n",
       "    }\n",
       "</style>\n",
       "<table border=\"1\" class=\"dataframe\">\n",
       "  <thead>\n",
       "    <tr style=\"text-align: right;\">\n",
       "      <th></th>\n",
       "      <th>country</th>\n",
       "      <th>country code</th>\n",
       "    </tr>\n",
       "    <tr>\n",
       "      <th>id</th>\n",
       "      <th></th>\n",
       "      <th></th>\n",
       "    </tr>\n",
       "  </thead>\n",
       "  <tbody>\n",
       "    <tr>\n",
       "      <th>1001254</th>\n",
       "      <td>United States</td>\n",
       "      <td>US</td>\n",
       "    </tr>\n",
       "    <tr>\n",
       "      <th>1002102</th>\n",
       "      <td>United States</td>\n",
       "      <td>US</td>\n",
       "    </tr>\n",
       "    <tr>\n",
       "      <th>1002403</th>\n",
       "      <td>United States</td>\n",
       "      <td>US</td>\n",
       "    </tr>\n",
       "    <tr>\n",
       "      <th>1003689</th>\n",
       "      <td>United States</td>\n",
       "      <td>US</td>\n",
       "    </tr>\n",
       "    <tr>\n",
       "      <th>1004098</th>\n",
       "      <td>United States</td>\n",
       "      <td>US</td>\n",
       "    </tr>\n",
       "    <tr>\n",
       "      <th>...</th>\n",
       "      <td>...</td>\n",
       "      <td>...</td>\n",
       "    </tr>\n",
       "    <tr>\n",
       "      <th>6092437</th>\n",
       "      <td>United States</td>\n",
       "      <td>US</td>\n",
       "    </tr>\n",
       "    <tr>\n",
       "      <th>6092990</th>\n",
       "      <td>United States</td>\n",
       "      <td>US</td>\n",
       "    </tr>\n",
       "    <tr>\n",
       "      <th>6093542</th>\n",
       "      <td>United States</td>\n",
       "      <td>US</td>\n",
       "    </tr>\n",
       "    <tr>\n",
       "      <th>6094094</th>\n",
       "      <td>United States</td>\n",
       "      <td>US</td>\n",
       "    </tr>\n",
       "    <tr>\n",
       "      <th>6094647</th>\n",
       "      <td>United States</td>\n",
       "      <td>US</td>\n",
       "    </tr>\n",
       "  </tbody>\n",
       "</table>\n",
       "<p>102349 rows × 2 columns</p>\n",
       "</div>"
      ],
      "text/plain": [
       "               country country code\n",
       "id                                 \n",
       "1001254  United States           US\n",
       "1002102  United States           US\n",
       "1002403  United States           US\n",
       "1003689  United States           US\n",
       "1004098  United States           US\n",
       "...                ...          ...\n",
       "6092437  United States           US\n",
       "6092990  United States           US\n",
       "6093542  United States           US\n",
       "6094094  United States           US\n",
       "6094647  United States           US\n",
       "\n",
       "[102349 rows x 2 columns]"
      ]
     },
     "execution_count": 28,
     "metadata": {},
     "output_type": "execute_result"
    }
   ],
   "source": [
    "updated_df.loc[:,'country':'country code']"
   ]
  },
  {
   "cell_type": "code",
   "execution_count": 29,
   "id": "6a25872a",
   "metadata": {
    "execution": {
     "iopub.execute_input": "2024-07-15T06:55:22.511512Z",
     "iopub.status.busy": "2024-07-15T06:55:22.511056Z",
     "iopub.status.idle": "2024-07-15T06:55:22.524078Z",
     "shell.execute_reply": "2024-07-15T06:55:22.522820Z"
    },
    "papermill": {
     "duration": 0.050059,
     "end_time": "2024-07-15T06:55:22.526553",
     "exception": false,
     "start_time": "2024-07-15T06:55:22.476494",
     "status": "completed"
    },
    "tags": []
   },
   "outputs": [
    {
     "data": {
      "text/plain": [
       "array(['United States', nan], dtype=object)"
      ]
     },
     "execution_count": 29,
     "metadata": {},
     "output_type": "execute_result"
    }
   ],
   "source": [
    "updated_df.country.unique()"
   ]
  },
  {
   "cell_type": "markdown",
   "id": "b4b818ac",
   "metadata": {
    "papermill": {
     "duration": 0.033599,
     "end_time": "2024-07-15T06:55:22.593820",
     "exception": false,
     "start_time": "2024-07-15T06:55:22.560221",
     "status": "completed"
    },
    "tags": []
   },
   "source": [
    "**whole dataset have only 1 country and 1 countrycode so we can drop both of them**"
   ]
  },
  {
   "cell_type": "code",
   "execution_count": 30,
   "id": "83e87b49",
   "metadata": {
    "execution": {
     "iopub.execute_input": "2024-07-15T06:55:22.667525Z",
     "iopub.status.busy": "2024-07-15T06:55:22.667094Z",
     "iopub.status.idle": "2024-07-15T06:55:22.702014Z",
     "shell.execute_reply": "2024-07-15T06:55:22.700589Z"
    },
    "papermill": {
     "duration": 0.073238,
     "end_time": "2024-07-15T06:55:22.705050",
     "exception": false,
     "start_time": "2024-07-15T06:55:22.631812",
     "status": "completed"
    },
    "tags": []
   },
   "outputs": [],
   "source": [
    "updated_df.drop(columns = ['country','country code'],inplace = True)"
   ]
  },
  {
   "cell_type": "code",
   "execution_count": 31,
   "id": "852c8f6a",
   "metadata": {
    "execution": {
     "iopub.execute_input": "2024-07-15T06:55:22.774944Z",
     "iopub.status.busy": "2024-07-15T06:55:22.774517Z",
     "iopub.status.idle": "2024-07-15T06:55:22.911906Z",
     "shell.execute_reply": "2024-07-15T06:55:22.910602Z"
    },
    "papermill": {
     "duration": 0.175645,
     "end_time": "2024-07-15T06:55:22.914945",
     "exception": false,
     "start_time": "2024-07-15T06:55:22.739300",
     "status": "completed"
    },
    "tags": []
   },
   "outputs": [
    {
     "data": {
      "text/plain": [
       "name                                   0\n",
       "host id                                0\n",
       "host_identity_verified                 0\n",
       "host name                              0\n",
       "instant_bookable                      97\n",
       "cancellation_policy                   71\n",
       "room type                              0\n",
       "Construction year                    205\n",
       "price                                244\n",
       "service fee                          273\n",
       "minimum nights                       403\n",
       "number of reviews                    182\n",
       "last review                        15857\n",
       "reviews per month                  15843\n",
       "review rate number                   318\n",
       "calculated host listings count       318\n",
       "availability 365                     430\n",
       "house_rules                        52025\n",
       "license                           102347\n",
       "area                                  43\n",
       "dtype: int64"
      ]
     },
     "execution_count": 31,
     "metadata": {},
     "output_type": "execute_result"
    }
   ],
   "source": [
    "updated_df.isna().sum()"
   ]
  },
  {
   "cell_type": "code",
   "execution_count": 32,
   "id": "60a0be04",
   "metadata": {
    "execution": {
     "iopub.execute_input": "2024-07-15T06:55:22.986647Z",
     "iopub.status.busy": "2024-07-15T06:55:22.986186Z",
     "iopub.status.idle": "2024-07-15T06:55:23.000154Z",
     "shell.execute_reply": "2024-07-15T06:55:22.998917Z"
    },
    "papermill": {
     "duration": 0.053615,
     "end_time": "2024-07-15T06:55:23.003357",
     "exception": false,
     "start_time": "2024-07-15T06:55:22.949742",
     "status": "completed"
    },
    "tags": []
   },
   "outputs": [
    {
     "data": {
      "text/plain": [
       "array([False, True, nan], dtype=object)"
      ]
     },
     "execution_count": 32,
     "metadata": {},
     "output_type": "execute_result"
    }
   ],
   "source": [
    "updated_df['instant_bookable'].unique()"
   ]
  },
  {
   "cell_type": "markdown",
   "id": "5e9d9d79",
   "metadata": {
    "papermill": {
     "duration": 0.034048,
     "end_time": "2024-07-15T06:55:23.072225",
     "exception": false,
     "start_time": "2024-07-15T06:55:23.038177",
     "status": "completed"
    },
    "tags": []
   },
   "source": [
    "**we will assign true or false based on the mode(of instant_bookable) of that area**"
   ]
  },
  {
   "cell_type": "code",
   "execution_count": 33,
   "id": "3927009b",
   "metadata": {
    "execution": {
     "iopub.execute_input": "2024-07-15T06:55:23.145787Z",
     "iopub.status.busy": "2024-07-15T06:55:23.144394Z",
     "iopub.status.idle": "2024-07-15T06:55:23.173729Z",
     "shell.execute_reply": "2024-07-15T06:55:23.172574Z"
    },
    "papermill": {
     "duration": 0.068677,
     "end_time": "2024-07-15T06:55:23.176298",
     "exception": false,
     "start_time": "2024-07-15T06:55:23.107621",
     "status": "completed"
    },
    "tags": []
   },
   "outputs": [
    {
     "data": {
      "text/plain": [
       "True"
      ]
     },
     "execution_count": 33,
     "metadata": {},
     "output_type": "execute_result"
    }
   ],
   "source": [
    "updated_df.loc[(updated_df['area'] == 'Brooklyn Kensington'),'instant_bookable'].mode()[0]"
   ]
  },
  {
   "cell_type": "code",
   "execution_count": 34,
   "id": "5f9a1e7e",
   "metadata": {
    "execution": {
     "iopub.execute_input": "2024-07-15T06:55:23.247271Z",
     "iopub.status.busy": "2024-07-15T06:55:23.246857Z",
     "iopub.status.idle": "2024-07-15T06:55:23.254243Z",
     "shell.execute_reply": "2024-07-15T06:55:23.252628Z"
    },
    "papermill": {
     "duration": 0.047283,
     "end_time": "2024-07-15T06:55:23.257905",
     "exception": false,
     "start_time": "2024-07-15T06:55:23.210622",
     "status": "completed"
    },
    "tags": []
   },
   "outputs": [],
   "source": [
    "def update_instant_bookable(x):\n",
    "    if pd.isna(x.instant_bookable):\n",
    "        m = updated_df.loc[(updated_df['area'] == x.area),'instant_bookable'].mode()\n",
    "        if len(m) == 0:\n",
    "            x['instant_bookable'] = 'False'\n",
    "        else:\n",
    "            x['instant_bookable'] = m[0]\n",
    "    return x"
   ]
  },
  {
   "cell_type": "code",
   "execution_count": 35,
   "id": "73892867",
   "metadata": {
    "execution": {
     "iopub.execute_input": "2024-07-15T06:55:23.329922Z",
     "iopub.status.busy": "2024-07-15T06:55:23.329534Z",
     "iopub.status.idle": "2024-07-15T06:55:33.652708Z",
     "shell.execute_reply": "2024-07-15T06:55:33.651260Z"
    },
    "papermill": {
     "duration": 10.363514,
     "end_time": "2024-07-15T06:55:33.655701",
     "exception": false,
     "start_time": "2024-07-15T06:55:23.292187",
     "status": "completed"
    },
    "tags": []
   },
   "outputs": [],
   "source": [
    "updated_df = updated_df.apply(update_instant_bookable,axis = 1)\n",
    "#updated_df.apply(update_instant_bookable,axis = 1)"
   ]
  },
  {
   "cell_type": "code",
   "execution_count": 36,
   "id": "abebc6e0",
   "metadata": {
    "execution": {
     "iopub.execute_input": "2024-07-15T06:55:33.731304Z",
     "iopub.status.busy": "2024-07-15T06:55:33.730904Z",
     "iopub.status.idle": "2024-07-15T06:55:33.769889Z",
     "shell.execute_reply": "2024-07-15T06:55:33.768754Z"
    },
    "papermill": {
     "duration": 0.080107,
     "end_time": "2024-07-15T06:55:33.773023",
     "exception": false,
     "start_time": "2024-07-15T06:55:33.692916",
     "status": "completed"
    },
    "tags": []
   },
   "outputs": [
    {
     "data": {
      "text/html": [
       "<div>\n",
       "<style scoped>\n",
       "    .dataframe tbody tr th:only-of-type {\n",
       "        vertical-align: middle;\n",
       "    }\n",
       "\n",
       "    .dataframe tbody tr th {\n",
       "        vertical-align: top;\n",
       "    }\n",
       "\n",
       "    .dataframe thead th {\n",
       "        text-align: right;\n",
       "    }\n",
       "</style>\n",
       "<table border=\"1\" class=\"dataframe\">\n",
       "  <thead>\n",
       "    <tr style=\"text-align: right;\">\n",
       "      <th></th>\n",
       "      <th>name</th>\n",
       "      <th>host id</th>\n",
       "      <th>host_identity_verified</th>\n",
       "      <th>host name</th>\n",
       "      <th>instant_bookable</th>\n",
       "      <th>cancellation_policy</th>\n",
       "      <th>room type</th>\n",
       "      <th>Construction year</th>\n",
       "      <th>price</th>\n",
       "      <th>service fee</th>\n",
       "      <th>minimum nights</th>\n",
       "      <th>number of reviews</th>\n",
       "      <th>last review</th>\n",
       "      <th>reviews per month</th>\n",
       "      <th>review rate number</th>\n",
       "      <th>calculated host listings count</th>\n",
       "      <th>availability 365</th>\n",
       "      <th>house_rules</th>\n",
       "      <th>license</th>\n",
       "      <th>area</th>\n",
       "    </tr>\n",
       "    <tr>\n",
       "      <th>id</th>\n",
       "      <th></th>\n",
       "      <th></th>\n",
       "      <th></th>\n",
       "      <th></th>\n",
       "      <th></th>\n",
       "      <th></th>\n",
       "      <th></th>\n",
       "      <th></th>\n",
       "      <th></th>\n",
       "      <th></th>\n",
       "      <th></th>\n",
       "      <th></th>\n",
       "      <th></th>\n",
       "      <th></th>\n",
       "      <th></th>\n",
       "      <th></th>\n",
       "      <th></th>\n",
       "      <th></th>\n",
       "      <th></th>\n",
       "      <th></th>\n",
       "    </tr>\n",
       "  </thead>\n",
       "  <tbody>\n",
       "    <tr>\n",
       "      <th>1001254</th>\n",
       "      <td>Clean &amp; quiet apt home by the park</td>\n",
       "      <td>80014485718</td>\n",
       "      <td>unconfirmed</td>\n",
       "      <td>Madaline</td>\n",
       "      <td>False</td>\n",
       "      <td>strict</td>\n",
       "      <td>Private room</td>\n",
       "      <td>2020.0</td>\n",
       "      <td>$966</td>\n",
       "      <td>$193</td>\n",
       "      <td>10.0</td>\n",
       "      <td>9.0</td>\n",
       "      <td>10/19/2021</td>\n",
       "      <td>0.21</td>\n",
       "      <td>4.0</td>\n",
       "      <td>6.0</td>\n",
       "      <td>286.0</td>\n",
       "      <td>Clean up and treat the home the way you'd like...</td>\n",
       "      <td>NaN</td>\n",
       "      <td>Brooklyn Kensington</td>\n",
       "    </tr>\n",
       "    <tr>\n",
       "      <th>1002102</th>\n",
       "      <td>Skylit Midtown Castle</td>\n",
       "      <td>52335172823</td>\n",
       "      <td>verified</td>\n",
       "      <td>Jenna</td>\n",
       "      <td>False</td>\n",
       "      <td>moderate</td>\n",
       "      <td>Entire home/apt</td>\n",
       "      <td>2007.0</td>\n",
       "      <td>$142</td>\n",
       "      <td>$28</td>\n",
       "      <td>30.0</td>\n",
       "      <td>45.0</td>\n",
       "      <td>5/21/2022</td>\n",
       "      <td>0.38</td>\n",
       "      <td>4.0</td>\n",
       "      <td>2.0</td>\n",
       "      <td>228.0</td>\n",
       "      <td>Pet friendly but please confirm with me if the...</td>\n",
       "      <td>NaN</td>\n",
       "      <td>Manhattan Midtown</td>\n",
       "    </tr>\n",
       "    <tr>\n",
       "      <th>1002403</th>\n",
       "      <td>THE VILLAGE OF HARLEM....NEW YORK !</td>\n",
       "      <td>78829239556</td>\n",
       "      <td>unconfirmed</td>\n",
       "      <td>Elise</td>\n",
       "      <td>True</td>\n",
       "      <td>flexible</td>\n",
       "      <td>Private room</td>\n",
       "      <td>2005.0</td>\n",
       "      <td>$620</td>\n",
       "      <td>$124</td>\n",
       "      <td>3.0</td>\n",
       "      <td>0.0</td>\n",
       "      <td>NaN</td>\n",
       "      <td>NaN</td>\n",
       "      <td>5.0</td>\n",
       "      <td>1.0</td>\n",
       "      <td>352.0</td>\n",
       "      <td>I encourage you to use my kitchen, cooking and...</td>\n",
       "      <td>NaN</td>\n",
       "      <td>Manhattan Harlem</td>\n",
       "    </tr>\n",
       "    <tr>\n",
       "      <th>1003689</th>\n",
       "      <td>Entire Apt: Spacious Studio/Loft by central park</td>\n",
       "      <td>92037596077</td>\n",
       "      <td>verified</td>\n",
       "      <td>Lyndon</td>\n",
       "      <td>False</td>\n",
       "      <td>moderate</td>\n",
       "      <td>Entire home/apt</td>\n",
       "      <td>2009.0</td>\n",
       "      <td>$204</td>\n",
       "      <td>$41</td>\n",
       "      <td>10.0</td>\n",
       "      <td>9.0</td>\n",
       "      <td>11/19/2018</td>\n",
       "      <td>0.10</td>\n",
       "      <td>3.0</td>\n",
       "      <td>1.0</td>\n",
       "      <td>289.0</td>\n",
       "      <td>Please no smoking in the house, porch or on th...</td>\n",
       "      <td>NaN</td>\n",
       "      <td>Manhattan East Harlem</td>\n",
       "    </tr>\n",
       "    <tr>\n",
       "      <th>1004098</th>\n",
       "      <td>Large Cozy 1 BR Apartment In Midtown East</td>\n",
       "      <td>45498551794</td>\n",
       "      <td>verified</td>\n",
       "      <td>Michelle</td>\n",
       "      <td>True</td>\n",
       "      <td>flexible</td>\n",
       "      <td>Entire home/apt</td>\n",
       "      <td>2013.0</td>\n",
       "      <td>$577</td>\n",
       "      <td>$115</td>\n",
       "      <td>3.0</td>\n",
       "      <td>74.0</td>\n",
       "      <td>6/22/2019</td>\n",
       "      <td>0.59</td>\n",
       "      <td>3.0</td>\n",
       "      <td>1.0</td>\n",
       "      <td>374.0</td>\n",
       "      <td>No smoking, please, and no drugs.</td>\n",
       "      <td>NaN</td>\n",
       "      <td>Manhattan Murray Hill</td>\n",
       "    </tr>\n",
       "    <tr>\n",
       "      <th>...</th>\n",
       "      <td>...</td>\n",
       "      <td>...</td>\n",
       "      <td>...</td>\n",
       "      <td>...</td>\n",
       "      <td>...</td>\n",
       "      <td>...</td>\n",
       "      <td>...</td>\n",
       "      <td>...</td>\n",
       "      <td>...</td>\n",
       "      <td>...</td>\n",
       "      <td>...</td>\n",
       "      <td>...</td>\n",
       "      <td>...</td>\n",
       "      <td>...</td>\n",
       "      <td>...</td>\n",
       "      <td>...</td>\n",
       "      <td>...</td>\n",
       "      <td>...</td>\n",
       "      <td>...</td>\n",
       "      <td>...</td>\n",
       "    </tr>\n",
       "    <tr>\n",
       "      <th>6092437</th>\n",
       "      <td>Spare room in Williamsburg</td>\n",
       "      <td>12312296767</td>\n",
       "      <td>verified</td>\n",
       "      <td>Krik</td>\n",
       "      <td>False</td>\n",
       "      <td>flexible</td>\n",
       "      <td>Private room</td>\n",
       "      <td>2003.0</td>\n",
       "      <td>$844</td>\n",
       "      <td>$169</td>\n",
       "      <td>1.0</td>\n",
       "      <td>0.0</td>\n",
       "      <td>NaN</td>\n",
       "      <td>NaN</td>\n",
       "      <td>3.0</td>\n",
       "      <td>1.0</td>\n",
       "      <td>227.0</td>\n",
       "      <td>No Smoking No Parties or Events of any kind Pl...</td>\n",
       "      <td>NaN</td>\n",
       "      <td>Brooklyn Williamsburg</td>\n",
       "    </tr>\n",
       "    <tr>\n",
       "      <th>6092990</th>\n",
       "      <td>Best Location near Columbia U</td>\n",
       "      <td>77864383453</td>\n",
       "      <td>unconfirmed</td>\n",
       "      <td>Mifan</td>\n",
       "      <td>True</td>\n",
       "      <td>moderate</td>\n",
       "      <td>Private room</td>\n",
       "      <td>2016.0</td>\n",
       "      <td>$837</td>\n",
       "      <td>$167</td>\n",
       "      <td>1.0</td>\n",
       "      <td>1.0</td>\n",
       "      <td>7/6/2015</td>\n",
       "      <td>0.02</td>\n",
       "      <td>2.0</td>\n",
       "      <td>2.0</td>\n",
       "      <td>395.0</td>\n",
       "      <td>House rules: Guests agree to the following ter...</td>\n",
       "      <td>NaN</td>\n",
       "      <td>Manhattan Morningside Heights</td>\n",
       "    </tr>\n",
       "    <tr>\n",
       "      <th>6093542</th>\n",
       "      <td>Comfy, bright room in Brooklyn</td>\n",
       "      <td>69050334417</td>\n",
       "      <td>unconfirmed</td>\n",
       "      <td>Megan</td>\n",
       "      <td>True</td>\n",
       "      <td>moderate</td>\n",
       "      <td>Private room</td>\n",
       "      <td>2009.0</td>\n",
       "      <td>$988</td>\n",
       "      <td>$198</td>\n",
       "      <td>3.0</td>\n",
       "      <td>0.0</td>\n",
       "      <td>NaN</td>\n",
       "      <td>NaN</td>\n",
       "      <td>5.0</td>\n",
       "      <td>1.0</td>\n",
       "      <td>342.0</td>\n",
       "      <td>NaN</td>\n",
       "      <td>NaN</td>\n",
       "      <td>Brooklyn Park Slope</td>\n",
       "    </tr>\n",
       "    <tr>\n",
       "      <th>6094094</th>\n",
       "      <td>Big Studio-One Stop from Midtown</td>\n",
       "      <td>11160591270</td>\n",
       "      <td>unconfirmed</td>\n",
       "      <td>Christopher</td>\n",
       "      <td>True</td>\n",
       "      <td>strict</td>\n",
       "      <td>Entire home/apt</td>\n",
       "      <td>2015.0</td>\n",
       "      <td>$546</td>\n",
       "      <td>$109</td>\n",
       "      <td>2.0</td>\n",
       "      <td>5.0</td>\n",
       "      <td>10/11/2015</td>\n",
       "      <td>0.10</td>\n",
       "      <td>3.0</td>\n",
       "      <td>1.0</td>\n",
       "      <td>386.0</td>\n",
       "      <td>NaN</td>\n",
       "      <td>NaN</td>\n",
       "      <td>Queens Long Island City</td>\n",
       "    </tr>\n",
       "    <tr>\n",
       "      <th>6094647</th>\n",
       "      <td>585 sf Luxury Studio</td>\n",
       "      <td>68170633372</td>\n",
       "      <td>unconfirmed</td>\n",
       "      <td>Rebecca</td>\n",
       "      <td>False</td>\n",
       "      <td>flexible</td>\n",
       "      <td>Entire home/apt</td>\n",
       "      <td>2010.0</td>\n",
       "      <td>$1,032</td>\n",
       "      <td>$206</td>\n",
       "      <td>1.0</td>\n",
       "      <td>0.0</td>\n",
       "      <td>NaN</td>\n",
       "      <td>NaN</td>\n",
       "      <td>3.0</td>\n",
       "      <td>1.0</td>\n",
       "      <td>69.0</td>\n",
       "      <td>NaN</td>\n",
       "      <td>NaN</td>\n",
       "      <td>Manhattan Upper West Side</td>\n",
       "    </tr>\n",
       "  </tbody>\n",
       "</table>\n",
       "<p>102349 rows × 20 columns</p>\n",
       "</div>"
      ],
      "text/plain": [
       "                                                     name      host id  \\\n",
       "id                                                                       \n",
       "1001254                Clean & quiet apt home by the park  80014485718   \n",
       "1002102                             Skylit Midtown Castle  52335172823   \n",
       "1002403               THE VILLAGE OF HARLEM....NEW YORK !  78829239556   \n",
       "1003689  Entire Apt: Spacious Studio/Loft by central park  92037596077   \n",
       "1004098         Large Cozy 1 BR Apartment In Midtown East  45498551794   \n",
       "...                                                   ...          ...   \n",
       "6092437                        Spare room in Williamsburg  12312296767   \n",
       "6092990                     Best Location near Columbia U  77864383453   \n",
       "6093542                    Comfy, bright room in Brooklyn  69050334417   \n",
       "6094094                  Big Studio-One Stop from Midtown  11160591270   \n",
       "6094647                              585 sf Luxury Studio  68170633372   \n",
       "\n",
       "        host_identity_verified    host name instant_bookable  \\\n",
       "id                                                             \n",
       "1001254            unconfirmed     Madaline            False   \n",
       "1002102               verified        Jenna            False   \n",
       "1002403            unconfirmed        Elise             True   \n",
       "1003689               verified       Lyndon            False   \n",
       "1004098               verified     Michelle             True   \n",
       "...                        ...          ...              ...   \n",
       "6092437               verified         Krik            False   \n",
       "6092990            unconfirmed        Mifan             True   \n",
       "6093542            unconfirmed        Megan             True   \n",
       "6094094            unconfirmed  Christopher             True   \n",
       "6094647            unconfirmed      Rebecca            False   \n",
       "\n",
       "        cancellation_policy        room type  Construction year    price  \\\n",
       "id                                                                         \n",
       "1001254              strict     Private room             2020.0    $966    \n",
       "1002102            moderate  Entire home/apt             2007.0    $142    \n",
       "1002403            flexible     Private room             2005.0    $620    \n",
       "1003689            moderate  Entire home/apt             2009.0    $204    \n",
       "1004098            flexible  Entire home/apt             2013.0    $577    \n",
       "...                     ...              ...                ...      ...   \n",
       "6092437            flexible     Private room             2003.0    $844    \n",
       "6092990            moderate     Private room             2016.0    $837    \n",
       "6093542            moderate     Private room             2009.0    $988    \n",
       "6094094              strict  Entire home/apt             2015.0    $546    \n",
       "6094647            flexible  Entire home/apt             2010.0  $1,032    \n",
       "\n",
       "        service fee  minimum nights  number of reviews last review  \\\n",
       "id                                                                   \n",
       "1001254       $193             10.0                9.0  10/19/2021   \n",
       "1002102        $28             30.0               45.0   5/21/2022   \n",
       "1002403       $124              3.0                0.0         NaN   \n",
       "1003689        $41             10.0                9.0  11/19/2018   \n",
       "1004098       $115              3.0               74.0   6/22/2019   \n",
       "...             ...             ...                ...         ...   \n",
       "6092437       $169              1.0                0.0         NaN   \n",
       "6092990       $167              1.0                1.0    7/6/2015   \n",
       "6093542       $198              3.0                0.0         NaN   \n",
       "6094094       $109              2.0                5.0  10/11/2015   \n",
       "6094647       $206              1.0                0.0         NaN   \n",
       "\n",
       "         reviews per month  review rate number  \\\n",
       "id                                               \n",
       "1001254               0.21                 4.0   \n",
       "1002102               0.38                 4.0   \n",
       "1002403                NaN                 5.0   \n",
       "1003689               0.10                 3.0   \n",
       "1004098               0.59                 3.0   \n",
       "...                    ...                 ...   \n",
       "6092437                NaN                 3.0   \n",
       "6092990               0.02                 2.0   \n",
       "6093542                NaN                 5.0   \n",
       "6094094               0.10                 3.0   \n",
       "6094647                NaN                 3.0   \n",
       "\n",
       "         calculated host listings count  availability 365  \\\n",
       "id                                                          \n",
       "1001254                             6.0             286.0   \n",
       "1002102                             2.0             228.0   \n",
       "1002403                             1.0             352.0   \n",
       "1003689                             1.0             289.0   \n",
       "1004098                             1.0             374.0   \n",
       "...                                 ...               ...   \n",
       "6092437                             1.0             227.0   \n",
       "6092990                             2.0             395.0   \n",
       "6093542                             1.0             342.0   \n",
       "6094094                             1.0             386.0   \n",
       "6094647                             1.0              69.0   \n",
       "\n",
       "                                               house_rules license  \\\n",
       "id                                                                   \n",
       "1001254  Clean up and treat the home the way you'd like...     NaN   \n",
       "1002102  Pet friendly but please confirm with me if the...     NaN   \n",
       "1002403  I encourage you to use my kitchen, cooking and...     NaN   \n",
       "1003689  Please no smoking in the house, porch or on th...     NaN   \n",
       "1004098                  No smoking, please, and no drugs.     NaN   \n",
       "...                                                    ...     ...   \n",
       "6092437  No Smoking No Parties or Events of any kind Pl...     NaN   \n",
       "6092990  House rules: Guests agree to the following ter...     NaN   \n",
       "6093542                                                NaN     NaN   \n",
       "6094094                                                NaN     NaN   \n",
       "6094647                                                NaN     NaN   \n",
       "\n",
       "                                  area  \n",
       "id                                      \n",
       "1001254            Brooklyn Kensington  \n",
       "1002102              Manhattan Midtown  \n",
       "1002403               Manhattan Harlem  \n",
       "1003689          Manhattan East Harlem  \n",
       "1004098          Manhattan Murray Hill  \n",
       "...                                ...  \n",
       "6092437          Brooklyn Williamsburg  \n",
       "6092990  Manhattan Morningside Heights  \n",
       "6093542            Brooklyn Park Slope  \n",
       "6094094        Queens Long Island City  \n",
       "6094647      Manhattan Upper West Side  \n",
       "\n",
       "[102349 rows x 20 columns]"
      ]
     },
     "execution_count": 36,
     "metadata": {},
     "output_type": "execute_result"
    }
   ],
   "source": [
    "updated_df"
   ]
  },
  {
   "cell_type": "markdown",
   "id": "fb11cb94",
   "metadata": {
    "papermill": {
     "duration": 0.036857,
     "end_time": "2024-07-15T06:55:33.846562",
     "exception": false,
     "start_time": "2024-07-15T06:55:33.809705",
     "status": "completed"
    },
    "tags": []
   },
   "source": [
    "**We need to handle cancelation policy**"
   ]
  },
  {
   "cell_type": "code",
   "execution_count": 37,
   "id": "9815393a",
   "metadata": {
    "execution": {
     "iopub.execute_input": "2024-07-15T06:55:33.918018Z",
     "iopub.status.busy": "2024-07-15T06:55:33.917615Z",
     "iopub.status.idle": "2024-07-15T06:55:33.934902Z",
     "shell.execute_reply": "2024-07-15T06:55:33.933655Z"
    },
    "papermill": {
     "duration": 0.05643,
     "end_time": "2024-07-15T06:55:33.937742",
     "exception": false,
     "start_time": "2024-07-15T06:55:33.881312",
     "status": "completed"
    },
    "tags": []
   },
   "outputs": [
    {
     "data": {
      "text/plain": [
       "array(['strict', 'moderate', 'flexible', nan], dtype=object)"
      ]
     },
     "execution_count": 37,
     "metadata": {},
     "output_type": "execute_result"
    }
   ],
   "source": [
    "updated_df['cancellation_policy'].unique()"
   ]
  },
  {
   "cell_type": "markdown",
   "id": "e4fe742d",
   "metadata": {
    "papermill": {
     "duration": 0.035033,
     "end_time": "2024-07-15T06:55:34.008848",
     "exception": false,
     "start_time": "2024-07-15T06:55:33.973815",
     "status": "completed"
    },
    "tags": []
   },
   "source": [
    "**we will make all nan values to flexible since they didn't mention it is not important**"
   ]
  },
  {
   "cell_type": "code",
   "execution_count": 38,
   "id": "1edeb082",
   "metadata": {
    "execution": {
     "iopub.execute_input": "2024-07-15T06:55:34.081272Z",
     "iopub.status.busy": "2024-07-15T06:55:34.080892Z",
     "iopub.status.idle": "2024-07-15T06:55:34.108916Z",
     "shell.execute_reply": "2024-07-15T06:55:34.107393Z"
    },
    "papermill": {
     "duration": 0.067975,
     "end_time": "2024-07-15T06:55:34.112152",
     "exception": false,
     "start_time": "2024-07-15T06:55:34.044177",
     "status": "completed"
    },
    "tags": []
   },
   "outputs": [],
   "source": [
    "updated_df['cancellation_policy'] = updated_df['cancellation_policy'].fillna('flexible')"
   ]
  },
  {
   "cell_type": "code",
   "execution_count": 39,
   "id": "3b78be20",
   "metadata": {
    "execution": {
     "iopub.execute_input": "2024-07-15T06:55:34.186229Z",
     "iopub.status.busy": "2024-07-15T06:55:34.185797Z",
     "iopub.status.idle": "2024-07-15T06:55:34.343094Z",
     "shell.execute_reply": "2024-07-15T06:55:34.341874Z"
    },
    "papermill": {
     "duration": 0.197724,
     "end_time": "2024-07-15T06:55:34.345954",
     "exception": false,
     "start_time": "2024-07-15T06:55:34.148230",
     "status": "completed"
    },
    "tags": []
   },
   "outputs": [
    {
     "data": {
      "text/plain": [
       "name                                   0\n",
       "host id                                0\n",
       "host_identity_verified                 0\n",
       "host name                              0\n",
       "instant_bookable                       0\n",
       "cancellation_policy                    0\n",
       "room type                              0\n",
       "Construction year                    205\n",
       "price                                244\n",
       "service fee                          273\n",
       "minimum nights                       403\n",
       "number of reviews                    182\n",
       "last review                        15857\n",
       "reviews per month                  15843\n",
       "review rate number                   318\n",
       "calculated host listings count       318\n",
       "availability 365                     430\n",
       "house_rules                        52025\n",
       "license                           102347\n",
       "area                                  43\n",
       "dtype: int64"
      ]
     },
     "execution_count": 39,
     "metadata": {},
     "output_type": "execute_result"
    }
   ],
   "source": [
    "updated_df.isna().sum()"
   ]
  },
  {
   "cell_type": "code",
   "execution_count": 40,
   "id": "fd3d0a91",
   "metadata": {
    "execution": {
     "iopub.execute_input": "2024-07-15T06:55:34.419278Z",
     "iopub.status.busy": "2024-07-15T06:55:34.418868Z",
     "iopub.status.idle": "2024-07-15T06:55:34.425395Z",
     "shell.execute_reply": "2024-07-15T06:55:34.424279Z"
    },
    "papermill": {
     "duration": 0.046642,
     "end_time": "2024-07-15T06:55:34.427957",
     "exception": false,
     "start_time": "2024-07-15T06:55:34.381315",
     "status": "completed"
    },
    "tags": []
   },
   "outputs": [],
   "source": [
    "mean = updated_df['Construction year'].mean()"
   ]
  },
  {
   "cell_type": "code",
   "execution_count": 41,
   "id": "a979837a",
   "metadata": {
    "execution": {
     "iopub.execute_input": "2024-07-15T06:55:34.499942Z",
     "iopub.status.busy": "2024-07-15T06:55:34.499486Z",
     "iopub.status.idle": "2024-07-15T06:55:34.507736Z",
     "shell.execute_reply": "2024-07-15T06:55:34.506488Z"
    },
    "papermill": {
     "duration": 0.047239,
     "end_time": "2024-07-15T06:55:34.510438",
     "exception": false,
     "start_time": "2024-07-15T06:55:34.463199",
     "status": "completed"
    },
    "tags": []
   },
   "outputs": [
    {
     "data": {
      "text/plain": [
       "dtype('float64')"
      ]
     },
     "execution_count": 41,
     "metadata": {},
     "output_type": "execute_result"
    }
   ],
   "source": [
    "updated_df['Construction year'].dtype"
   ]
  },
  {
   "cell_type": "code",
   "execution_count": 42,
   "id": "d5c68f1d",
   "metadata": {
    "execution": {
     "iopub.execute_input": "2024-07-15T06:55:34.583616Z",
     "iopub.status.busy": "2024-07-15T06:55:34.583195Z",
     "iopub.status.idle": "2024-07-15T06:55:34.743804Z",
     "shell.execute_reply": "2024-07-15T06:55:34.742596Z"
    },
    "papermill": {
     "duration": 0.200207,
     "end_time": "2024-07-15T06:55:34.746372",
     "exception": false,
     "start_time": "2024-07-15T06:55:34.546165",
     "status": "completed"
    },
    "tags": []
   },
   "outputs": [
    {
     "data": {
      "text/plain": [
       "name                                   0\n",
       "host id                                0\n",
       "host_identity_verified                 0\n",
       "host name                              0\n",
       "instant_bookable                       0\n",
       "cancellation_policy                    0\n",
       "room type                              0\n",
       "Construction year                      0\n",
       "price                                244\n",
       "service fee                          273\n",
       "minimum nights                       403\n",
       "number of reviews                    182\n",
       "last review                        15857\n",
       "reviews per month                  15843\n",
       "review rate number                   318\n",
       "calculated host listings count       318\n",
       "availability 365                     430\n",
       "house_rules                        52025\n",
       "license                           102347\n",
       "area                                  43\n",
       "dtype: int64"
      ]
     },
     "execution_count": 42,
     "metadata": {},
     "output_type": "execute_result"
    }
   ],
   "source": [
    "updated_df['Construction year'] = updated_df['Construction year'].fillna(2012.0)\n",
    "updated_df.isna().sum()"
   ]
  },
  {
   "cell_type": "code",
   "execution_count": 43,
   "id": "315bc945",
   "metadata": {
    "execution": {
     "iopub.execute_input": "2024-07-15T06:55:34.819252Z",
     "iopub.status.busy": "2024-07-15T06:55:34.818831Z",
     "iopub.status.idle": "2024-07-15T06:55:34.828827Z",
     "shell.execute_reply": "2024-07-15T06:55:34.827337Z"
    },
    "papermill": {
     "duration": 0.049693,
     "end_time": "2024-07-15T06:55:34.831697",
     "exception": false,
     "start_time": "2024-07-15T06:55:34.782004",
     "status": "completed"
    },
    "tags": []
   },
   "outputs": [
    {
     "data": {
      "text/plain": [
       "id\n",
       "1001254    $193 \n",
       "1002102     $28 \n",
       "1002403    $124 \n",
       "1003689     $41 \n",
       "1004098    $115 \n",
       "           ...  \n",
       "6092437    $169 \n",
       "6092990    $167 \n",
       "6093542    $198 \n",
       "6094094    $109 \n",
       "6094647    $206 \n",
       "Name: service fee, Length: 102349, dtype: object"
      ]
     },
     "execution_count": 43,
     "metadata": {},
     "output_type": "execute_result"
    }
   ],
   "source": [
    "updated_df['service fee']"
   ]
  },
  {
   "cell_type": "markdown",
   "id": "c1be3388",
   "metadata": {
    "papermill": {
     "duration": 0.035167,
     "end_time": "2024-07-15T06:55:34.903171",
     "exception": false,
     "start_time": "2024-07-15T06:55:34.868004",
     "status": "completed"
    },
    "tags": []
   },
   "source": [
    "**Convert price and service fee to integer and null value to 0**"
   ]
  },
  {
   "cell_type": "code",
   "execution_count": 44,
   "id": "38a7053d",
   "metadata": {
    "execution": {
     "iopub.execute_input": "2024-07-15T06:55:34.978020Z",
     "iopub.status.busy": "2024-07-15T06:55:34.977596Z",
     "iopub.status.idle": "2024-07-15T06:55:34.986745Z",
     "shell.execute_reply": "2024-07-15T06:55:34.985419Z"
    },
    "papermill": {
     "duration": 0.050185,
     "end_time": "2024-07-15T06:55:34.989333",
     "exception": false,
     "start_time": "2024-07-15T06:55:34.939148",
     "status": "completed"
    },
    "tags": []
   },
   "outputs": [],
   "source": [
    "def price_service_converstion(x):\n",
    "    #handling price\n",
    "    if not pd.isna(x['price']):\n",
    "        temp = x['price'][1:]\n",
    "        #to remove ','\n",
    "        ans = ''\n",
    "        for i in temp:\n",
    "            if i != ',':\n",
    "                ans = ans+i \n",
    "        x['price'] = int(ans)\n",
    "        \n",
    "    else:\n",
    "        x['price'] = 0\n",
    "        \n",
    "    #handling service fee\n",
    "    if not pd.isna(x['service fee']):\n",
    "        temp = x['service fee'][1:]\n",
    "        #to remove ','\n",
    "        ans = ''\n",
    "        for i in temp:\n",
    "            if i != ',':\n",
    "                ans = ans+i \n",
    "        x['service fee'] = int(ans)\n",
    "        \n",
    "    else:\n",
    "        x['service fee'] = 0\n",
    "    \n",
    "    return x\n",
    "    \n",
    "        "
   ]
  },
  {
   "cell_type": "code",
   "execution_count": 45,
   "id": "8687ec14",
   "metadata": {
    "execution": {
     "iopub.execute_input": "2024-07-15T06:55:35.065754Z",
     "iopub.status.busy": "2024-07-15T06:55:35.065317Z",
     "iopub.status.idle": "2024-07-15T06:55:50.225144Z",
     "shell.execute_reply": "2024-07-15T06:55:50.223883Z"
    },
    "papermill": {
     "duration": 15.202574,
     "end_time": "2024-07-15T06:55:50.228372",
     "exception": false,
     "start_time": "2024-07-15T06:55:35.025798",
     "status": "completed"
    },
    "tags": []
   },
   "outputs": [],
   "source": [
    "updated_df = updated_df.apply(price_service_converstion,axis = 1)"
   ]
  },
  {
   "cell_type": "code",
   "execution_count": 46,
   "id": "c5bf1cc6",
   "metadata": {
    "execution": {
     "iopub.execute_input": "2024-07-15T06:55:50.302230Z",
     "iopub.status.busy": "2024-07-15T06:55:50.301844Z",
     "iopub.status.idle": "2024-07-15T06:55:50.340380Z",
     "shell.execute_reply": "2024-07-15T06:55:50.339156Z"
    },
    "papermill": {
     "duration": 0.078813,
     "end_time": "2024-07-15T06:55:50.343589",
     "exception": false,
     "start_time": "2024-07-15T06:55:50.264776",
     "status": "completed"
    },
    "tags": []
   },
   "outputs": [
    {
     "data": {
      "text/html": [
       "<div>\n",
       "<style scoped>\n",
       "    .dataframe tbody tr th:only-of-type {\n",
       "        vertical-align: middle;\n",
       "    }\n",
       "\n",
       "    .dataframe tbody tr th {\n",
       "        vertical-align: top;\n",
       "    }\n",
       "\n",
       "    .dataframe thead th {\n",
       "        text-align: right;\n",
       "    }\n",
       "</style>\n",
       "<table border=\"1\" class=\"dataframe\">\n",
       "  <thead>\n",
       "    <tr style=\"text-align: right;\">\n",
       "      <th></th>\n",
       "      <th>name</th>\n",
       "      <th>host id</th>\n",
       "      <th>host_identity_verified</th>\n",
       "      <th>host name</th>\n",
       "      <th>instant_bookable</th>\n",
       "      <th>cancellation_policy</th>\n",
       "      <th>room type</th>\n",
       "      <th>Construction year</th>\n",
       "      <th>price</th>\n",
       "      <th>service fee</th>\n",
       "      <th>minimum nights</th>\n",
       "      <th>number of reviews</th>\n",
       "      <th>last review</th>\n",
       "      <th>reviews per month</th>\n",
       "      <th>review rate number</th>\n",
       "      <th>calculated host listings count</th>\n",
       "      <th>availability 365</th>\n",
       "      <th>house_rules</th>\n",
       "      <th>license</th>\n",
       "      <th>area</th>\n",
       "    </tr>\n",
       "    <tr>\n",
       "      <th>id</th>\n",
       "      <th></th>\n",
       "      <th></th>\n",
       "      <th></th>\n",
       "      <th></th>\n",
       "      <th></th>\n",
       "      <th></th>\n",
       "      <th></th>\n",
       "      <th></th>\n",
       "      <th></th>\n",
       "      <th></th>\n",
       "      <th></th>\n",
       "      <th></th>\n",
       "      <th></th>\n",
       "      <th></th>\n",
       "      <th></th>\n",
       "      <th></th>\n",
       "      <th></th>\n",
       "      <th></th>\n",
       "      <th></th>\n",
       "      <th></th>\n",
       "    </tr>\n",
       "  </thead>\n",
       "  <tbody>\n",
       "    <tr>\n",
       "      <th>1001254</th>\n",
       "      <td>Clean &amp; quiet apt home by the park</td>\n",
       "      <td>80014485718</td>\n",
       "      <td>unconfirmed</td>\n",
       "      <td>Madaline</td>\n",
       "      <td>False</td>\n",
       "      <td>strict</td>\n",
       "      <td>Private room</td>\n",
       "      <td>2020.0</td>\n",
       "      <td>966</td>\n",
       "      <td>193</td>\n",
       "      <td>10.0</td>\n",
       "      <td>9.0</td>\n",
       "      <td>10/19/2021</td>\n",
       "      <td>0.21</td>\n",
       "      <td>4.0</td>\n",
       "      <td>6.0</td>\n",
       "      <td>286.0</td>\n",
       "      <td>Clean up and treat the home the way you'd like...</td>\n",
       "      <td>NaN</td>\n",
       "      <td>Brooklyn Kensington</td>\n",
       "    </tr>\n",
       "    <tr>\n",
       "      <th>1002102</th>\n",
       "      <td>Skylit Midtown Castle</td>\n",
       "      <td>52335172823</td>\n",
       "      <td>verified</td>\n",
       "      <td>Jenna</td>\n",
       "      <td>False</td>\n",
       "      <td>moderate</td>\n",
       "      <td>Entire home/apt</td>\n",
       "      <td>2007.0</td>\n",
       "      <td>142</td>\n",
       "      <td>28</td>\n",
       "      <td>30.0</td>\n",
       "      <td>45.0</td>\n",
       "      <td>5/21/2022</td>\n",
       "      <td>0.38</td>\n",
       "      <td>4.0</td>\n",
       "      <td>2.0</td>\n",
       "      <td>228.0</td>\n",
       "      <td>Pet friendly but please confirm with me if the...</td>\n",
       "      <td>NaN</td>\n",
       "      <td>Manhattan Midtown</td>\n",
       "    </tr>\n",
       "    <tr>\n",
       "      <th>1002403</th>\n",
       "      <td>THE VILLAGE OF HARLEM....NEW YORK !</td>\n",
       "      <td>78829239556</td>\n",
       "      <td>unconfirmed</td>\n",
       "      <td>Elise</td>\n",
       "      <td>True</td>\n",
       "      <td>flexible</td>\n",
       "      <td>Private room</td>\n",
       "      <td>2005.0</td>\n",
       "      <td>620</td>\n",
       "      <td>124</td>\n",
       "      <td>3.0</td>\n",
       "      <td>0.0</td>\n",
       "      <td>NaN</td>\n",
       "      <td>NaN</td>\n",
       "      <td>5.0</td>\n",
       "      <td>1.0</td>\n",
       "      <td>352.0</td>\n",
       "      <td>I encourage you to use my kitchen, cooking and...</td>\n",
       "      <td>NaN</td>\n",
       "      <td>Manhattan Harlem</td>\n",
       "    </tr>\n",
       "    <tr>\n",
       "      <th>1003689</th>\n",
       "      <td>Entire Apt: Spacious Studio/Loft by central park</td>\n",
       "      <td>92037596077</td>\n",
       "      <td>verified</td>\n",
       "      <td>Lyndon</td>\n",
       "      <td>False</td>\n",
       "      <td>moderate</td>\n",
       "      <td>Entire home/apt</td>\n",
       "      <td>2009.0</td>\n",
       "      <td>204</td>\n",
       "      <td>41</td>\n",
       "      <td>10.0</td>\n",
       "      <td>9.0</td>\n",
       "      <td>11/19/2018</td>\n",
       "      <td>0.10</td>\n",
       "      <td>3.0</td>\n",
       "      <td>1.0</td>\n",
       "      <td>289.0</td>\n",
       "      <td>Please no smoking in the house, porch or on th...</td>\n",
       "      <td>NaN</td>\n",
       "      <td>Manhattan East Harlem</td>\n",
       "    </tr>\n",
       "    <tr>\n",
       "      <th>1004098</th>\n",
       "      <td>Large Cozy 1 BR Apartment In Midtown East</td>\n",
       "      <td>45498551794</td>\n",
       "      <td>verified</td>\n",
       "      <td>Michelle</td>\n",
       "      <td>True</td>\n",
       "      <td>flexible</td>\n",
       "      <td>Entire home/apt</td>\n",
       "      <td>2013.0</td>\n",
       "      <td>577</td>\n",
       "      <td>115</td>\n",
       "      <td>3.0</td>\n",
       "      <td>74.0</td>\n",
       "      <td>6/22/2019</td>\n",
       "      <td>0.59</td>\n",
       "      <td>3.0</td>\n",
       "      <td>1.0</td>\n",
       "      <td>374.0</td>\n",
       "      <td>No smoking, please, and no drugs.</td>\n",
       "      <td>NaN</td>\n",
       "      <td>Manhattan Murray Hill</td>\n",
       "    </tr>\n",
       "    <tr>\n",
       "      <th>...</th>\n",
       "      <td>...</td>\n",
       "      <td>...</td>\n",
       "      <td>...</td>\n",
       "      <td>...</td>\n",
       "      <td>...</td>\n",
       "      <td>...</td>\n",
       "      <td>...</td>\n",
       "      <td>...</td>\n",
       "      <td>...</td>\n",
       "      <td>...</td>\n",
       "      <td>...</td>\n",
       "      <td>...</td>\n",
       "      <td>...</td>\n",
       "      <td>...</td>\n",
       "      <td>...</td>\n",
       "      <td>...</td>\n",
       "      <td>...</td>\n",
       "      <td>...</td>\n",
       "      <td>...</td>\n",
       "      <td>...</td>\n",
       "    </tr>\n",
       "    <tr>\n",
       "      <th>6092437</th>\n",
       "      <td>Spare room in Williamsburg</td>\n",
       "      <td>12312296767</td>\n",
       "      <td>verified</td>\n",
       "      <td>Krik</td>\n",
       "      <td>False</td>\n",
       "      <td>flexible</td>\n",
       "      <td>Private room</td>\n",
       "      <td>2003.0</td>\n",
       "      <td>844</td>\n",
       "      <td>169</td>\n",
       "      <td>1.0</td>\n",
       "      <td>0.0</td>\n",
       "      <td>NaN</td>\n",
       "      <td>NaN</td>\n",
       "      <td>3.0</td>\n",
       "      <td>1.0</td>\n",
       "      <td>227.0</td>\n",
       "      <td>No Smoking No Parties or Events of any kind Pl...</td>\n",
       "      <td>NaN</td>\n",
       "      <td>Brooklyn Williamsburg</td>\n",
       "    </tr>\n",
       "    <tr>\n",
       "      <th>6092990</th>\n",
       "      <td>Best Location near Columbia U</td>\n",
       "      <td>77864383453</td>\n",
       "      <td>unconfirmed</td>\n",
       "      <td>Mifan</td>\n",
       "      <td>True</td>\n",
       "      <td>moderate</td>\n",
       "      <td>Private room</td>\n",
       "      <td>2016.0</td>\n",
       "      <td>837</td>\n",
       "      <td>167</td>\n",
       "      <td>1.0</td>\n",
       "      <td>1.0</td>\n",
       "      <td>7/6/2015</td>\n",
       "      <td>0.02</td>\n",
       "      <td>2.0</td>\n",
       "      <td>2.0</td>\n",
       "      <td>395.0</td>\n",
       "      <td>House rules: Guests agree to the following ter...</td>\n",
       "      <td>NaN</td>\n",
       "      <td>Manhattan Morningside Heights</td>\n",
       "    </tr>\n",
       "    <tr>\n",
       "      <th>6093542</th>\n",
       "      <td>Comfy, bright room in Brooklyn</td>\n",
       "      <td>69050334417</td>\n",
       "      <td>unconfirmed</td>\n",
       "      <td>Megan</td>\n",
       "      <td>True</td>\n",
       "      <td>moderate</td>\n",
       "      <td>Private room</td>\n",
       "      <td>2009.0</td>\n",
       "      <td>988</td>\n",
       "      <td>198</td>\n",
       "      <td>3.0</td>\n",
       "      <td>0.0</td>\n",
       "      <td>NaN</td>\n",
       "      <td>NaN</td>\n",
       "      <td>5.0</td>\n",
       "      <td>1.0</td>\n",
       "      <td>342.0</td>\n",
       "      <td>NaN</td>\n",
       "      <td>NaN</td>\n",
       "      <td>Brooklyn Park Slope</td>\n",
       "    </tr>\n",
       "    <tr>\n",
       "      <th>6094094</th>\n",
       "      <td>Big Studio-One Stop from Midtown</td>\n",
       "      <td>11160591270</td>\n",
       "      <td>unconfirmed</td>\n",
       "      <td>Christopher</td>\n",
       "      <td>True</td>\n",
       "      <td>strict</td>\n",
       "      <td>Entire home/apt</td>\n",
       "      <td>2015.0</td>\n",
       "      <td>546</td>\n",
       "      <td>109</td>\n",
       "      <td>2.0</td>\n",
       "      <td>5.0</td>\n",
       "      <td>10/11/2015</td>\n",
       "      <td>0.10</td>\n",
       "      <td>3.0</td>\n",
       "      <td>1.0</td>\n",
       "      <td>386.0</td>\n",
       "      <td>NaN</td>\n",
       "      <td>NaN</td>\n",
       "      <td>Queens Long Island City</td>\n",
       "    </tr>\n",
       "    <tr>\n",
       "      <th>6094647</th>\n",
       "      <td>585 sf Luxury Studio</td>\n",
       "      <td>68170633372</td>\n",
       "      <td>unconfirmed</td>\n",
       "      <td>Rebecca</td>\n",
       "      <td>False</td>\n",
       "      <td>flexible</td>\n",
       "      <td>Entire home/apt</td>\n",
       "      <td>2010.0</td>\n",
       "      <td>1032</td>\n",
       "      <td>206</td>\n",
       "      <td>1.0</td>\n",
       "      <td>0.0</td>\n",
       "      <td>NaN</td>\n",
       "      <td>NaN</td>\n",
       "      <td>3.0</td>\n",
       "      <td>1.0</td>\n",
       "      <td>69.0</td>\n",
       "      <td>NaN</td>\n",
       "      <td>NaN</td>\n",
       "      <td>Manhattan Upper West Side</td>\n",
       "    </tr>\n",
       "  </tbody>\n",
       "</table>\n",
       "<p>102349 rows × 20 columns</p>\n",
       "</div>"
      ],
      "text/plain": [
       "                                                     name      host id  \\\n",
       "id                                                                       \n",
       "1001254                Clean & quiet apt home by the park  80014485718   \n",
       "1002102                             Skylit Midtown Castle  52335172823   \n",
       "1002403               THE VILLAGE OF HARLEM....NEW YORK !  78829239556   \n",
       "1003689  Entire Apt: Spacious Studio/Loft by central park  92037596077   \n",
       "1004098         Large Cozy 1 BR Apartment In Midtown East  45498551794   \n",
       "...                                                   ...          ...   \n",
       "6092437                        Spare room in Williamsburg  12312296767   \n",
       "6092990                     Best Location near Columbia U  77864383453   \n",
       "6093542                    Comfy, bright room in Brooklyn  69050334417   \n",
       "6094094                  Big Studio-One Stop from Midtown  11160591270   \n",
       "6094647                              585 sf Luxury Studio  68170633372   \n",
       "\n",
       "        host_identity_verified    host name instant_bookable  \\\n",
       "id                                                             \n",
       "1001254            unconfirmed     Madaline            False   \n",
       "1002102               verified        Jenna            False   \n",
       "1002403            unconfirmed        Elise             True   \n",
       "1003689               verified       Lyndon            False   \n",
       "1004098               verified     Michelle             True   \n",
       "...                        ...          ...              ...   \n",
       "6092437               verified         Krik            False   \n",
       "6092990            unconfirmed        Mifan             True   \n",
       "6093542            unconfirmed        Megan             True   \n",
       "6094094            unconfirmed  Christopher             True   \n",
       "6094647            unconfirmed      Rebecca            False   \n",
       "\n",
       "        cancellation_policy        room type  Construction year  price  \\\n",
       "id                                                                       \n",
       "1001254              strict     Private room             2020.0    966   \n",
       "1002102            moderate  Entire home/apt             2007.0    142   \n",
       "1002403            flexible     Private room             2005.0    620   \n",
       "1003689            moderate  Entire home/apt             2009.0    204   \n",
       "1004098            flexible  Entire home/apt             2013.0    577   \n",
       "...                     ...              ...                ...    ...   \n",
       "6092437            flexible     Private room             2003.0    844   \n",
       "6092990            moderate     Private room             2016.0    837   \n",
       "6093542            moderate     Private room             2009.0    988   \n",
       "6094094              strict  Entire home/apt             2015.0    546   \n",
       "6094647            flexible  Entire home/apt             2010.0   1032   \n",
       "\n",
       "         service fee  minimum nights  number of reviews last review  \\\n",
       "id                                                                    \n",
       "1001254          193            10.0                9.0  10/19/2021   \n",
       "1002102           28            30.0               45.0   5/21/2022   \n",
       "1002403          124             3.0                0.0         NaN   \n",
       "1003689           41            10.0                9.0  11/19/2018   \n",
       "1004098          115             3.0               74.0   6/22/2019   \n",
       "...              ...             ...                ...         ...   \n",
       "6092437          169             1.0                0.0         NaN   \n",
       "6092990          167             1.0                1.0    7/6/2015   \n",
       "6093542          198             3.0                0.0         NaN   \n",
       "6094094          109             2.0                5.0  10/11/2015   \n",
       "6094647          206             1.0                0.0         NaN   \n",
       "\n",
       "         reviews per month  review rate number  \\\n",
       "id                                               \n",
       "1001254               0.21                 4.0   \n",
       "1002102               0.38                 4.0   \n",
       "1002403                NaN                 5.0   \n",
       "1003689               0.10                 3.0   \n",
       "1004098               0.59                 3.0   \n",
       "...                    ...                 ...   \n",
       "6092437                NaN                 3.0   \n",
       "6092990               0.02                 2.0   \n",
       "6093542                NaN                 5.0   \n",
       "6094094               0.10                 3.0   \n",
       "6094647                NaN                 3.0   \n",
       "\n",
       "         calculated host listings count  availability 365  \\\n",
       "id                                                          \n",
       "1001254                             6.0             286.0   \n",
       "1002102                             2.0             228.0   \n",
       "1002403                             1.0             352.0   \n",
       "1003689                             1.0             289.0   \n",
       "1004098                             1.0             374.0   \n",
       "...                                 ...               ...   \n",
       "6092437                             1.0             227.0   \n",
       "6092990                             2.0             395.0   \n",
       "6093542                             1.0             342.0   \n",
       "6094094                             1.0             386.0   \n",
       "6094647                             1.0              69.0   \n",
       "\n",
       "                                               house_rules license  \\\n",
       "id                                                                   \n",
       "1001254  Clean up and treat the home the way you'd like...     NaN   \n",
       "1002102  Pet friendly but please confirm with me if the...     NaN   \n",
       "1002403  I encourage you to use my kitchen, cooking and...     NaN   \n",
       "1003689  Please no smoking in the house, porch or on th...     NaN   \n",
       "1004098                  No smoking, please, and no drugs.     NaN   \n",
       "...                                                    ...     ...   \n",
       "6092437  No Smoking No Parties or Events of any kind Pl...     NaN   \n",
       "6092990  House rules: Guests agree to the following ter...     NaN   \n",
       "6093542                                                NaN     NaN   \n",
       "6094094                                                NaN     NaN   \n",
       "6094647                                                NaN     NaN   \n",
       "\n",
       "                                  area  \n",
       "id                                      \n",
       "1001254            Brooklyn Kensington  \n",
       "1002102              Manhattan Midtown  \n",
       "1002403               Manhattan Harlem  \n",
       "1003689          Manhattan East Harlem  \n",
       "1004098          Manhattan Murray Hill  \n",
       "...                                ...  \n",
       "6092437          Brooklyn Williamsburg  \n",
       "6092990  Manhattan Morningside Heights  \n",
       "6093542            Brooklyn Park Slope  \n",
       "6094094        Queens Long Island City  \n",
       "6094647      Manhattan Upper West Side  \n",
       "\n",
       "[102349 rows x 20 columns]"
      ]
     },
     "execution_count": 46,
     "metadata": {},
     "output_type": "execute_result"
    }
   ],
   "source": [
    "updated_df"
   ]
  },
  {
   "cell_type": "markdown",
   "id": "60b78bc5",
   "metadata": {
    "papermill": {
     "duration": 0.03708,
     "end_time": "2024-07-15T06:55:50.418689",
     "exception": false,
     "start_time": "2024-07-15T06:55:50.381609",
     "status": "completed"
    },
    "tags": []
   },
   "source": [
    "**After converting then filling the 0 with its mean**\n",
    "\n",
    "**Here we are filling mean based on the area**"
   ]
  },
  {
   "cell_type": "code",
   "execution_count": 47,
   "id": "423a0600",
   "metadata": {
    "execution": {
     "iopub.execute_input": "2024-07-15T06:55:50.494367Z",
     "iopub.status.busy": "2024-07-15T06:55:50.493923Z",
     "iopub.status.idle": "2024-07-15T06:55:50.503540Z",
     "shell.execute_reply": "2024-07-15T06:55:50.502320Z"
    },
    "papermill": {
     "duration": 0.051032,
     "end_time": "2024-07-15T06:55:50.506472",
     "exception": false,
     "start_time": "2024-07-15T06:55:50.455440",
     "status": "completed"
    },
    "tags": []
   },
   "outputs": [],
   "source": [
    "def update_prices(x):\n",
    "    if x['price'] == 0:\n",
    "        m = updated_df.loc[(updated_df['area'] == x.area),'price'].mean()\n",
    "        # If that area is present only once then we won't get value we get null\n",
    "        #in that case we will insert mean of price there\n",
    "        if not pd.isna(m):\n",
    "            x['price'] = int(m)\n",
    "        else:\n",
    "            x['price'] = updated_df['price'].mean()\n",
    "            \n",
    "    \n",
    "    if x['service fee'] == 0:\n",
    "        m = updated_df.loc[(updated_df['area'] == x.area),'service fee'].mean()\n",
    "        # If that area is present only once then we won't get value we get null\n",
    "        #in that case we will insert mean of price there\n",
    "        if not pd.isna(m):\n",
    "            x['service fee'] = int(m)\n",
    "        else:\n",
    "            x['service fee'] = updated_df['service fee'].mean()\n",
    "    return x\n",
    "        "
   ]
  },
  {
   "cell_type": "code",
   "execution_count": 48,
   "id": "e07332ac",
   "metadata": {
    "execution": {
     "iopub.execute_input": "2024-07-15T06:55:50.583704Z",
     "iopub.status.busy": "2024-07-15T06:55:50.583247Z",
     "iopub.status.idle": "2024-07-15T06:56:10.842873Z",
     "shell.execute_reply": "2024-07-15T06:56:10.841389Z"
    },
    "papermill": {
     "duration": 20.300946,
     "end_time": "2024-07-15T06:56:10.845725",
     "exception": false,
     "start_time": "2024-07-15T06:55:50.544779",
     "status": "completed"
    },
    "tags": []
   },
   "outputs": [],
   "source": [
    "updated_df = updated_df.apply(update_prices,axis = 1)"
   ]
  },
  {
   "cell_type": "code",
   "execution_count": 49,
   "id": "52a0532e",
   "metadata": {
    "execution": {
     "iopub.execute_input": "2024-07-15T06:56:10.922731Z",
     "iopub.status.busy": "2024-07-15T06:56:10.922203Z",
     "iopub.status.idle": "2024-07-15T06:56:11.071920Z",
     "shell.execute_reply": "2024-07-15T06:56:11.070466Z"
    },
    "papermill": {
     "duration": 0.192425,
     "end_time": "2024-07-15T06:56:11.074961",
     "exception": false,
     "start_time": "2024-07-15T06:56:10.882536",
     "status": "completed"
    },
    "tags": []
   },
   "outputs": [
    {
     "data": {
      "text/plain": [
       "name                                   0\n",
       "host id                                0\n",
       "host_identity_verified                 0\n",
       "host name                              0\n",
       "instant_bookable                       0\n",
       "cancellation_policy                    0\n",
       "room type                              0\n",
       "Construction year                      0\n",
       "price                                  0\n",
       "service fee                            0\n",
       "minimum nights                       403\n",
       "number of reviews                    182\n",
       "last review                        15857\n",
       "reviews per month                  15843\n",
       "review rate number                   318\n",
       "calculated host listings count       318\n",
       "availability 365                     430\n",
       "house_rules                        52025\n",
       "license                           102347\n",
       "area                                  43\n",
       "dtype: int64"
      ]
     },
     "execution_count": 49,
     "metadata": {},
     "output_type": "execute_result"
    }
   ],
   "source": [
    "updated_df.isna().sum()"
   ]
  },
  {
   "cell_type": "markdown",
   "id": "3b9d4194",
   "metadata": {
    "papermill": {
     "duration": 0.037595,
     "end_time": "2024-07-15T06:56:11.151333",
     "exception": false,
     "start_time": "2024-07-15T06:56:11.113738",
     "status": "completed"
    },
    "tags": []
   },
   "source": [
    "**To fill minimum nights we use mode on them**"
   ]
  },
  {
   "cell_type": "code",
   "execution_count": 50,
   "id": "aa9486b9",
   "metadata": {
    "execution": {
     "iopub.execute_input": "2024-07-15T06:56:11.231155Z",
     "iopub.status.busy": "2024-07-15T06:56:11.230753Z",
     "iopub.status.idle": "2024-07-15T06:56:11.244863Z",
     "shell.execute_reply": "2024-07-15T06:56:11.242827Z"
    },
    "papermill": {
     "duration": 0.056724,
     "end_time": "2024-07-15T06:56:11.247971",
     "exception": false,
     "start_time": "2024-07-15T06:56:11.191247",
     "status": "completed"
    },
    "tags": []
   },
   "outputs": [
    {
     "data": {
      "text/plain": [
       "1.0"
      ]
     },
     "execution_count": 50,
     "metadata": {},
     "output_type": "execute_result"
    }
   ],
   "source": [
    "m = updated_df['minimum nights'].mode()[0]\n",
    "m"
   ]
  },
  {
   "cell_type": "code",
   "execution_count": 51,
   "id": "6da7fe7b",
   "metadata": {
    "execution": {
     "iopub.execute_input": "2024-07-15T06:56:11.324733Z",
     "iopub.status.busy": "2024-07-15T06:56:11.324225Z",
     "iopub.status.idle": "2024-07-15T06:56:11.332152Z",
     "shell.execute_reply": "2024-07-15T06:56:11.330865Z"
    },
    "papermill": {
     "duration": 0.050137,
     "end_time": "2024-07-15T06:56:11.335110",
     "exception": false,
     "start_time": "2024-07-15T06:56:11.284973",
     "status": "completed"
    },
    "tags": []
   },
   "outputs": [],
   "source": [
    "updated_df['minimum nights'] = updated_df['minimum nights'].fillna(m)"
   ]
  },
  {
   "cell_type": "code",
   "execution_count": 52,
   "id": "67b4bbc5",
   "metadata": {
    "execution": {
     "iopub.execute_input": "2024-07-15T06:56:11.412405Z",
     "iopub.status.busy": "2024-07-15T06:56:11.411812Z",
     "iopub.status.idle": "2024-07-15T06:56:11.549871Z",
     "shell.execute_reply": "2024-07-15T06:56:11.548546Z"
    },
    "papermill": {
     "duration": 0.17985,
     "end_time": "2024-07-15T06:56:11.552690",
     "exception": false,
     "start_time": "2024-07-15T06:56:11.372840",
     "status": "completed"
    },
    "tags": []
   },
   "outputs": [
    {
     "data": {
      "text/plain": [
       "name                                   0\n",
       "host id                                0\n",
       "host_identity_verified                 0\n",
       "host name                              0\n",
       "instant_bookable                       0\n",
       "cancellation_policy                    0\n",
       "room type                              0\n",
       "Construction year                      0\n",
       "price                                  0\n",
       "service fee                            0\n",
       "minimum nights                         0\n",
       "number of reviews                    182\n",
       "last review                        15857\n",
       "reviews per month                  15843\n",
       "review rate number                   318\n",
       "calculated host listings count       318\n",
       "availability 365                     430\n",
       "house_rules                        52025\n",
       "license                           102347\n",
       "area                                  43\n",
       "dtype: int64"
      ]
     },
     "execution_count": 52,
     "metadata": {},
     "output_type": "execute_result"
    }
   ],
   "source": [
    "updated_df.isna().sum()"
   ]
  },
  {
   "cell_type": "markdown",
   "id": "8b54342f",
   "metadata": {
    "papermill": {
     "duration": 0.039094,
     "end_time": "2024-07-15T06:56:11.631069",
     "exception": false,
     "start_time": "2024-07-15T06:56:11.591975",
     "status": "completed"
    },
    "tags": []
   },
   "source": [
    "**We will fill number of reviews null values with no review**"
   ]
  },
  {
   "cell_type": "code",
   "execution_count": 53,
   "id": "e4c2a189",
   "metadata": {
    "execution": {
     "iopub.execute_input": "2024-07-15T06:56:11.710301Z",
     "iopub.status.busy": "2024-07-15T06:56:11.709861Z",
     "iopub.status.idle": "2024-07-15T06:56:11.724163Z",
     "shell.execute_reply": "2024-07-15T06:56:11.722873Z"
    },
    "papermill": {
     "duration": 0.056666,
     "end_time": "2024-07-15T06:56:11.727114",
     "exception": false,
     "start_time": "2024-07-15T06:56:11.670448",
     "status": "completed"
    },
    "tags": []
   },
   "outputs": [],
   "source": [
    "updated_df['number of reviews'] = updated_df['number of reviews'].fillna('no reviews')"
   ]
  },
  {
   "cell_type": "code",
   "execution_count": 54,
   "id": "357f6dfa",
   "metadata": {
    "execution": {
     "iopub.execute_input": "2024-07-15T06:56:11.805010Z",
     "iopub.status.busy": "2024-07-15T06:56:11.804564Z",
     "iopub.status.idle": "2024-07-15T06:56:11.951562Z",
     "shell.execute_reply": "2024-07-15T06:56:11.950141Z"
    },
    "papermill": {
     "duration": 0.18977,
     "end_time": "2024-07-15T06:56:11.954401",
     "exception": false,
     "start_time": "2024-07-15T06:56:11.764631",
     "status": "completed"
    },
    "tags": []
   },
   "outputs": [
    {
     "data": {
      "text/plain": [
       "name                                   0\n",
       "host id                                0\n",
       "host_identity_verified                 0\n",
       "host name                              0\n",
       "instant_bookable                       0\n",
       "cancellation_policy                    0\n",
       "room type                              0\n",
       "Construction year                      0\n",
       "price                                  0\n",
       "service fee                            0\n",
       "minimum nights                         0\n",
       "number of reviews                      0\n",
       "last review                        15857\n",
       "reviews per month                  15843\n",
       "review rate number                   318\n",
       "calculated host listings count       318\n",
       "availability 365                     430\n",
       "house_rules                        52025\n",
       "license                           102347\n",
       "area                                  43\n",
       "dtype: int64"
      ]
     },
     "execution_count": 54,
     "metadata": {},
     "output_type": "execute_result"
    }
   ],
   "source": [
    "updated_df.isna().sum()"
   ]
  },
  {
   "cell_type": "markdown",
   "id": "bdfe07f2",
   "metadata": {
    "papermill": {
     "duration": 0.038264,
     "end_time": "2024-07-15T06:56:12.030158",
     "exception": false,
     "start_time": "2024-07-15T06:56:11.991894",
     "status": "completed"
    },
    "tags": []
   },
   "source": [
    "**no need of last review,reviews per month**"
   ]
  },
  {
   "cell_type": "code",
   "execution_count": 55,
   "id": "e5aa3fdc",
   "metadata": {
    "execution": {
     "iopub.execute_input": "2024-07-15T06:56:12.107031Z",
     "iopub.status.busy": "2024-07-15T06:56:12.106561Z",
     "iopub.status.idle": "2024-07-15T06:56:12.213054Z",
     "shell.execute_reply": "2024-07-15T06:56:12.211813Z"
    },
    "papermill": {
     "duration": 0.147759,
     "end_time": "2024-07-15T06:56:12.216069",
     "exception": false,
     "start_time": "2024-07-15T06:56:12.068310",
     "status": "completed"
    },
    "tags": []
   },
   "outputs": [],
   "source": [
    "updated_df.drop(columns = ['last review','reviews per month'],inplace = True)"
   ]
  },
  {
   "cell_type": "code",
   "execution_count": 56,
   "id": "c6be11ab",
   "metadata": {
    "execution": {
     "iopub.execute_input": "2024-07-15T06:56:12.292741Z",
     "iopub.status.busy": "2024-07-15T06:56:12.292317Z",
     "iopub.status.idle": "2024-07-15T06:56:12.402419Z",
     "shell.execute_reply": "2024-07-15T06:56:12.401227Z"
    },
    "papermill": {
     "duration": 0.15184,
     "end_time": "2024-07-15T06:56:12.405251",
     "exception": false,
     "start_time": "2024-07-15T06:56:12.253411",
     "status": "completed"
    },
    "tags": []
   },
   "outputs": [
    {
     "data": {
      "text/plain": [
       "name                                   0\n",
       "host id                                0\n",
       "host_identity_verified                 0\n",
       "host name                              0\n",
       "instant_bookable                       0\n",
       "cancellation_policy                    0\n",
       "room type                              0\n",
       "Construction year                      0\n",
       "price                                  0\n",
       "service fee                            0\n",
       "minimum nights                         0\n",
       "number of reviews                      0\n",
       "review rate number                   318\n",
       "calculated host listings count       318\n",
       "availability 365                     430\n",
       "house_rules                        52025\n",
       "license                           102347\n",
       "area                                  43\n",
       "dtype: int64"
      ]
     },
     "execution_count": 56,
     "metadata": {},
     "output_type": "execute_result"
    }
   ],
   "source": [
    "updated_df.isna().sum()"
   ]
  },
  {
   "cell_type": "markdown",
   "id": "a29a2c2c",
   "metadata": {
    "papermill": {
     "duration": 0.036978,
     "end_time": "2024-07-15T06:56:12.481448",
     "exception": false,
     "start_time": "2024-07-15T06:56:12.444470",
     "status": "completed"
    },
    "tags": []
   },
   "source": [
    "**No need of review rate number so we will drop that columns as well**"
   ]
  },
  {
   "cell_type": "code",
   "execution_count": 57,
   "id": "953174fd",
   "metadata": {
    "execution": {
     "iopub.execute_input": "2024-07-15T06:56:12.558655Z",
     "iopub.status.busy": "2024-07-15T06:56:12.558145Z",
     "iopub.status.idle": "2024-07-15T06:56:12.587949Z",
     "shell.execute_reply": "2024-07-15T06:56:12.586766Z"
    },
    "papermill": {
     "duration": 0.07134,
     "end_time": "2024-07-15T06:56:12.590955",
     "exception": false,
     "start_time": "2024-07-15T06:56:12.519615",
     "status": "completed"
    },
    "tags": []
   },
   "outputs": [],
   "source": [
    "updated_df.drop(columns = ['review rate number'],inplace = True)"
   ]
  },
  {
   "cell_type": "code",
   "execution_count": 58,
   "id": "3224ba78",
   "metadata": {
    "execution": {
     "iopub.execute_input": "2024-07-15T06:56:12.669068Z",
     "iopub.status.busy": "2024-07-15T06:56:12.668582Z",
     "iopub.status.idle": "2024-07-15T06:56:12.775919Z",
     "shell.execute_reply": "2024-07-15T06:56:12.774860Z"
    },
    "papermill": {
     "duration": 0.149274,
     "end_time": "2024-07-15T06:56:12.778514",
     "exception": false,
     "start_time": "2024-07-15T06:56:12.629240",
     "status": "completed"
    },
    "tags": []
   },
   "outputs": [
    {
     "data": {
      "text/plain": [
       "name                                   0\n",
       "host id                                0\n",
       "host_identity_verified                 0\n",
       "host name                              0\n",
       "instant_bookable                       0\n",
       "cancellation_policy                    0\n",
       "room type                              0\n",
       "Construction year                      0\n",
       "price                                  0\n",
       "service fee                            0\n",
       "minimum nights                         0\n",
       "number of reviews                      0\n",
       "calculated host listings count       318\n",
       "availability 365                     430\n",
       "house_rules                        52025\n",
       "license                           102347\n",
       "area                                  43\n",
       "dtype: int64"
      ]
     },
     "execution_count": 58,
     "metadata": {},
     "output_type": "execute_result"
    }
   ],
   "source": [
    "updated_df.isna().sum()"
   ]
  },
  {
   "cell_type": "markdown",
   "id": "991d13f9",
   "metadata": {
    "papermill": {
     "duration": 0.03885,
     "end_time": "2024-07-15T06:56:12.858196",
     "exception": false,
     "start_time": "2024-07-15T06:56:12.819346",
     "status": "completed"
    },
    "tags": []
   },
   "source": [
    "**No need of calculated host listings count**"
   ]
  },
  {
   "cell_type": "code",
   "execution_count": 59,
   "id": "a6b967d4",
   "metadata": {
    "execution": {
     "iopub.execute_input": "2024-07-15T06:56:12.942144Z",
     "iopub.status.busy": "2024-07-15T06:56:12.940144Z",
     "iopub.status.idle": "2024-07-15T06:56:12.971410Z",
     "shell.execute_reply": "2024-07-15T06:56:12.970048Z"
    },
    "papermill": {
     "duration": 0.077281,
     "end_time": "2024-07-15T06:56:12.974616",
     "exception": false,
     "start_time": "2024-07-15T06:56:12.897335",
     "status": "completed"
    },
    "tags": []
   },
   "outputs": [],
   "source": [
    "updated_df.drop(columns = ['calculated host listings count'],inplace = True)"
   ]
  },
  {
   "cell_type": "code",
   "execution_count": 60,
   "id": "4aa9f0fa",
   "metadata": {
    "execution": {
     "iopub.execute_input": "2024-07-15T06:56:13.056114Z",
     "iopub.status.busy": "2024-07-15T06:56:13.055689Z",
     "iopub.status.idle": "2024-07-15T06:56:13.164960Z",
     "shell.execute_reply": "2024-07-15T06:56:13.163235Z"
    },
    "papermill": {
     "duration": 0.154224,
     "end_time": "2024-07-15T06:56:13.168870",
     "exception": false,
     "start_time": "2024-07-15T06:56:13.014646",
     "status": "completed"
    },
    "tags": []
   },
   "outputs": [
    {
     "data": {
      "text/plain": [
       "name                           0\n",
       "host id                        0\n",
       "host_identity_verified         0\n",
       "host name                      0\n",
       "instant_bookable               0\n",
       "cancellation_policy            0\n",
       "room type                      0\n",
       "Construction year              0\n",
       "price                          0\n",
       "service fee                    0\n",
       "minimum nights                 0\n",
       "number of reviews              0\n",
       "availability 365             430\n",
       "house_rules                52025\n",
       "license                   102347\n",
       "area                          43\n",
       "dtype: int64"
      ]
     },
     "execution_count": 60,
     "metadata": {},
     "output_type": "execute_result"
    }
   ],
   "source": [
    "updated_df.isna().sum()"
   ]
  },
  {
   "cell_type": "markdown",
   "id": "6a24ef31",
   "metadata": {
    "papermill": {
     "duration": 0.038146,
     "end_time": "2024-07-15T06:56:13.247115",
     "exception": false,
     "start_time": "2024-07-15T06:56:13.208969",
     "status": "completed"
    },
    "tags": []
   },
   "source": [
    "**We will make availability 365 based on mean**"
   ]
  },
  {
   "cell_type": "code",
   "execution_count": 61,
   "id": "365dd985",
   "metadata": {
    "execution": {
     "iopub.execute_input": "2024-07-15T06:56:13.326338Z",
     "iopub.status.busy": "2024-07-15T06:56:13.325881Z",
     "iopub.status.idle": "2024-07-15T06:56:13.333704Z",
     "shell.execute_reply": "2024-07-15T06:56:13.332288Z"
    },
    "papermill": {
     "duration": 0.051792,
     "end_time": "2024-07-15T06:56:13.336935",
     "exception": false,
     "start_time": "2024-07-15T06:56:13.285143",
     "status": "completed"
    },
    "tags": []
   },
   "outputs": [],
   "source": [
    "def update_availability(x):\n",
    "    if pd.isna(x['availability 365']):\n",
    "        m = updated_df.loc[(updated_df['area'] == x.area),'availability 365'].mean()\n",
    "        # If that area is present only once then we won't get value we get null\n",
    "        # in that case we will insert mean of price there\n",
    "        if not pd.isna(m):\n",
    "            x['availability 365'] = int(m)\n",
    "        else:\n",
    "            x['availability 365'] = updated_df['availability 365'].mean()\n",
    "    return x "
   ]
  },
  {
   "cell_type": "code",
   "execution_count": 62,
   "id": "b6c452c4",
   "metadata": {
    "execution": {
     "iopub.execute_input": "2024-07-15T06:56:13.418836Z",
     "iopub.status.busy": "2024-07-15T06:56:13.417576Z",
     "iopub.status.idle": "2024-07-15T06:56:28.874645Z",
     "shell.execute_reply": "2024-07-15T06:56:28.873469Z"
    },
    "papermill": {
     "duration": 15.500746,
     "end_time": "2024-07-15T06:56:28.877480",
     "exception": false,
     "start_time": "2024-07-15T06:56:13.376734",
     "status": "completed"
    },
    "tags": []
   },
   "outputs": [],
   "source": [
    "updated_df = updated_df.apply(update_availability,axis = 1)"
   ]
  },
  {
   "cell_type": "code",
   "execution_count": 63,
   "id": "c5949266",
   "metadata": {
    "execution": {
     "iopub.execute_input": "2024-07-15T06:56:28.956345Z",
     "iopub.status.busy": "2024-07-15T06:56:28.955958Z",
     "iopub.status.idle": "2024-07-15T06:56:28.988041Z",
     "shell.execute_reply": "2024-07-15T06:56:28.986558Z"
    },
    "papermill": {
     "duration": 0.075446,
     "end_time": "2024-07-15T06:56:28.991297",
     "exception": false,
     "start_time": "2024-07-15T06:56:28.915851",
     "status": "completed"
    },
    "tags": []
   },
   "outputs": [
    {
     "data": {
      "text/html": [
       "<div>\n",
       "<style scoped>\n",
       "    .dataframe tbody tr th:only-of-type {\n",
       "        vertical-align: middle;\n",
       "    }\n",
       "\n",
       "    .dataframe tbody tr th {\n",
       "        vertical-align: top;\n",
       "    }\n",
       "\n",
       "    .dataframe thead th {\n",
       "        text-align: right;\n",
       "    }\n",
       "</style>\n",
       "<table border=\"1\" class=\"dataframe\">\n",
       "  <thead>\n",
       "    <tr style=\"text-align: right;\">\n",
       "      <th></th>\n",
       "      <th>name</th>\n",
       "      <th>host id</th>\n",
       "      <th>host_identity_verified</th>\n",
       "      <th>host name</th>\n",
       "      <th>instant_bookable</th>\n",
       "      <th>cancellation_policy</th>\n",
       "      <th>room type</th>\n",
       "      <th>Construction year</th>\n",
       "      <th>price</th>\n",
       "      <th>service fee</th>\n",
       "      <th>minimum nights</th>\n",
       "      <th>number of reviews</th>\n",
       "      <th>availability 365</th>\n",
       "      <th>house_rules</th>\n",
       "      <th>license</th>\n",
       "      <th>area</th>\n",
       "    </tr>\n",
       "    <tr>\n",
       "      <th>id</th>\n",
       "      <th></th>\n",
       "      <th></th>\n",
       "      <th></th>\n",
       "      <th></th>\n",
       "      <th></th>\n",
       "      <th></th>\n",
       "      <th></th>\n",
       "      <th></th>\n",
       "      <th></th>\n",
       "      <th></th>\n",
       "      <th></th>\n",
       "      <th></th>\n",
       "      <th></th>\n",
       "      <th></th>\n",
       "      <th></th>\n",
       "      <th></th>\n",
       "    </tr>\n",
       "  </thead>\n",
       "  <tbody>\n",
       "    <tr>\n",
       "      <th>1001254</th>\n",
       "      <td>Clean &amp; quiet apt home by the park</td>\n",
       "      <td>80014485718</td>\n",
       "      <td>unconfirmed</td>\n",
       "      <td>Madaline</td>\n",
       "      <td>False</td>\n",
       "      <td>strict</td>\n",
       "      <td>Private room</td>\n",
       "      <td>2020.0</td>\n",
       "      <td>966.0</td>\n",
       "      <td>193</td>\n",
       "      <td>10.0</td>\n",
       "      <td>9.0</td>\n",
       "      <td>286.0</td>\n",
       "      <td>Clean up and treat the home the way you'd like...</td>\n",
       "      <td>NaN</td>\n",
       "      <td>Brooklyn Kensington</td>\n",
       "    </tr>\n",
       "    <tr>\n",
       "      <th>1002102</th>\n",
       "      <td>Skylit Midtown Castle</td>\n",
       "      <td>52335172823</td>\n",
       "      <td>verified</td>\n",
       "      <td>Jenna</td>\n",
       "      <td>False</td>\n",
       "      <td>moderate</td>\n",
       "      <td>Entire home/apt</td>\n",
       "      <td>2007.0</td>\n",
       "      <td>142.0</td>\n",
       "      <td>28</td>\n",
       "      <td>30.0</td>\n",
       "      <td>45.0</td>\n",
       "      <td>228.0</td>\n",
       "      <td>Pet friendly but please confirm with me if the...</td>\n",
       "      <td>NaN</td>\n",
       "      <td>Manhattan Midtown</td>\n",
       "    </tr>\n",
       "    <tr>\n",
       "      <th>1002403</th>\n",
       "      <td>THE VILLAGE OF HARLEM....NEW YORK !</td>\n",
       "      <td>78829239556</td>\n",
       "      <td>unconfirmed</td>\n",
       "      <td>Elise</td>\n",
       "      <td>True</td>\n",
       "      <td>flexible</td>\n",
       "      <td>Private room</td>\n",
       "      <td>2005.0</td>\n",
       "      <td>620.0</td>\n",
       "      <td>124</td>\n",
       "      <td>3.0</td>\n",
       "      <td>0.0</td>\n",
       "      <td>352.0</td>\n",
       "      <td>I encourage you to use my kitchen, cooking and...</td>\n",
       "      <td>NaN</td>\n",
       "      <td>Manhattan Harlem</td>\n",
       "    </tr>\n",
       "    <tr>\n",
       "      <th>1003689</th>\n",
       "      <td>Entire Apt: Spacious Studio/Loft by central park</td>\n",
       "      <td>92037596077</td>\n",
       "      <td>verified</td>\n",
       "      <td>Lyndon</td>\n",
       "      <td>False</td>\n",
       "      <td>moderate</td>\n",
       "      <td>Entire home/apt</td>\n",
       "      <td>2009.0</td>\n",
       "      <td>204.0</td>\n",
       "      <td>41</td>\n",
       "      <td>10.0</td>\n",
       "      <td>9.0</td>\n",
       "      <td>289.0</td>\n",
       "      <td>Please no smoking in the house, porch or on th...</td>\n",
       "      <td>NaN</td>\n",
       "      <td>Manhattan East Harlem</td>\n",
       "    </tr>\n",
       "    <tr>\n",
       "      <th>1004098</th>\n",
       "      <td>Large Cozy 1 BR Apartment In Midtown East</td>\n",
       "      <td>45498551794</td>\n",
       "      <td>verified</td>\n",
       "      <td>Michelle</td>\n",
       "      <td>True</td>\n",
       "      <td>flexible</td>\n",
       "      <td>Entire home/apt</td>\n",
       "      <td>2013.0</td>\n",
       "      <td>577.0</td>\n",
       "      <td>115</td>\n",
       "      <td>3.0</td>\n",
       "      <td>74.0</td>\n",
       "      <td>374.0</td>\n",
       "      <td>No smoking, please, and no drugs.</td>\n",
       "      <td>NaN</td>\n",
       "      <td>Manhattan Murray Hill</td>\n",
       "    </tr>\n",
       "    <tr>\n",
       "      <th>...</th>\n",
       "      <td>...</td>\n",
       "      <td>...</td>\n",
       "      <td>...</td>\n",
       "      <td>...</td>\n",
       "      <td>...</td>\n",
       "      <td>...</td>\n",
       "      <td>...</td>\n",
       "      <td>...</td>\n",
       "      <td>...</td>\n",
       "      <td>...</td>\n",
       "      <td>...</td>\n",
       "      <td>...</td>\n",
       "      <td>...</td>\n",
       "      <td>...</td>\n",
       "      <td>...</td>\n",
       "      <td>...</td>\n",
       "    </tr>\n",
       "    <tr>\n",
       "      <th>6092437</th>\n",
       "      <td>Spare room in Williamsburg</td>\n",
       "      <td>12312296767</td>\n",
       "      <td>verified</td>\n",
       "      <td>Krik</td>\n",
       "      <td>False</td>\n",
       "      <td>flexible</td>\n",
       "      <td>Private room</td>\n",
       "      <td>2003.0</td>\n",
       "      <td>844.0</td>\n",
       "      <td>169</td>\n",
       "      <td>1.0</td>\n",
       "      <td>0.0</td>\n",
       "      <td>227.0</td>\n",
       "      <td>No Smoking No Parties or Events of any kind Pl...</td>\n",
       "      <td>NaN</td>\n",
       "      <td>Brooklyn Williamsburg</td>\n",
       "    </tr>\n",
       "    <tr>\n",
       "      <th>6092990</th>\n",
       "      <td>Best Location near Columbia U</td>\n",
       "      <td>77864383453</td>\n",
       "      <td>unconfirmed</td>\n",
       "      <td>Mifan</td>\n",
       "      <td>True</td>\n",
       "      <td>moderate</td>\n",
       "      <td>Private room</td>\n",
       "      <td>2016.0</td>\n",
       "      <td>837.0</td>\n",
       "      <td>167</td>\n",
       "      <td>1.0</td>\n",
       "      <td>1.0</td>\n",
       "      <td>395.0</td>\n",
       "      <td>House rules: Guests agree to the following ter...</td>\n",
       "      <td>NaN</td>\n",
       "      <td>Manhattan Morningside Heights</td>\n",
       "    </tr>\n",
       "    <tr>\n",
       "      <th>6093542</th>\n",
       "      <td>Comfy, bright room in Brooklyn</td>\n",
       "      <td>69050334417</td>\n",
       "      <td>unconfirmed</td>\n",
       "      <td>Megan</td>\n",
       "      <td>True</td>\n",
       "      <td>moderate</td>\n",
       "      <td>Private room</td>\n",
       "      <td>2009.0</td>\n",
       "      <td>988.0</td>\n",
       "      <td>198</td>\n",
       "      <td>3.0</td>\n",
       "      <td>0.0</td>\n",
       "      <td>342.0</td>\n",
       "      <td>NaN</td>\n",
       "      <td>NaN</td>\n",
       "      <td>Brooklyn Park Slope</td>\n",
       "    </tr>\n",
       "    <tr>\n",
       "      <th>6094094</th>\n",
       "      <td>Big Studio-One Stop from Midtown</td>\n",
       "      <td>11160591270</td>\n",
       "      <td>unconfirmed</td>\n",
       "      <td>Christopher</td>\n",
       "      <td>True</td>\n",
       "      <td>strict</td>\n",
       "      <td>Entire home/apt</td>\n",
       "      <td>2015.0</td>\n",
       "      <td>546.0</td>\n",
       "      <td>109</td>\n",
       "      <td>2.0</td>\n",
       "      <td>5.0</td>\n",
       "      <td>386.0</td>\n",
       "      <td>NaN</td>\n",
       "      <td>NaN</td>\n",
       "      <td>Queens Long Island City</td>\n",
       "    </tr>\n",
       "    <tr>\n",
       "      <th>6094647</th>\n",
       "      <td>585 sf Luxury Studio</td>\n",
       "      <td>68170633372</td>\n",
       "      <td>unconfirmed</td>\n",
       "      <td>Rebecca</td>\n",
       "      <td>False</td>\n",
       "      <td>flexible</td>\n",
       "      <td>Entire home/apt</td>\n",
       "      <td>2010.0</td>\n",
       "      <td>1032.0</td>\n",
       "      <td>206</td>\n",
       "      <td>1.0</td>\n",
       "      <td>0.0</td>\n",
       "      <td>69.0</td>\n",
       "      <td>NaN</td>\n",
       "      <td>NaN</td>\n",
       "      <td>Manhattan Upper West Side</td>\n",
       "    </tr>\n",
       "  </tbody>\n",
       "</table>\n",
       "<p>102349 rows × 16 columns</p>\n",
       "</div>"
      ],
      "text/plain": [
       "                                                     name      host id  \\\n",
       "id                                                                       \n",
       "1001254                Clean & quiet apt home by the park  80014485718   \n",
       "1002102                             Skylit Midtown Castle  52335172823   \n",
       "1002403               THE VILLAGE OF HARLEM....NEW YORK !  78829239556   \n",
       "1003689  Entire Apt: Spacious Studio/Loft by central park  92037596077   \n",
       "1004098         Large Cozy 1 BR Apartment In Midtown East  45498551794   \n",
       "...                                                   ...          ...   \n",
       "6092437                        Spare room in Williamsburg  12312296767   \n",
       "6092990                     Best Location near Columbia U  77864383453   \n",
       "6093542                    Comfy, bright room in Brooklyn  69050334417   \n",
       "6094094                  Big Studio-One Stop from Midtown  11160591270   \n",
       "6094647                              585 sf Luxury Studio  68170633372   \n",
       "\n",
       "        host_identity_verified    host name instant_bookable  \\\n",
       "id                                                             \n",
       "1001254            unconfirmed     Madaline            False   \n",
       "1002102               verified        Jenna            False   \n",
       "1002403            unconfirmed        Elise             True   \n",
       "1003689               verified       Lyndon            False   \n",
       "1004098               verified     Michelle             True   \n",
       "...                        ...          ...              ...   \n",
       "6092437               verified         Krik            False   \n",
       "6092990            unconfirmed        Mifan             True   \n",
       "6093542            unconfirmed        Megan             True   \n",
       "6094094            unconfirmed  Christopher             True   \n",
       "6094647            unconfirmed      Rebecca            False   \n",
       "\n",
       "        cancellation_policy        room type  Construction year   price  \\\n",
       "id                                                                        \n",
       "1001254              strict     Private room             2020.0   966.0   \n",
       "1002102            moderate  Entire home/apt             2007.0   142.0   \n",
       "1002403            flexible     Private room             2005.0   620.0   \n",
       "1003689            moderate  Entire home/apt             2009.0   204.0   \n",
       "1004098            flexible  Entire home/apt             2013.0   577.0   \n",
       "...                     ...              ...                ...     ...   \n",
       "6092437            flexible     Private room             2003.0   844.0   \n",
       "6092990            moderate     Private room             2016.0   837.0   \n",
       "6093542            moderate     Private room             2009.0   988.0   \n",
       "6094094              strict  Entire home/apt             2015.0   546.0   \n",
       "6094647            flexible  Entire home/apt             2010.0  1032.0   \n",
       "\n",
       "         service fee  minimum nights number of reviews  availability 365  \\\n",
       "id                                                                         \n",
       "1001254          193            10.0               9.0             286.0   \n",
       "1002102           28            30.0              45.0             228.0   \n",
       "1002403          124             3.0               0.0             352.0   \n",
       "1003689           41            10.0               9.0             289.0   \n",
       "1004098          115             3.0              74.0             374.0   \n",
       "...              ...             ...               ...               ...   \n",
       "6092437          169             1.0               0.0             227.0   \n",
       "6092990          167             1.0               1.0             395.0   \n",
       "6093542          198             3.0               0.0             342.0   \n",
       "6094094          109             2.0               5.0             386.0   \n",
       "6094647          206             1.0               0.0              69.0   \n",
       "\n",
       "                                               house_rules license  \\\n",
       "id                                                                   \n",
       "1001254  Clean up and treat the home the way you'd like...     NaN   \n",
       "1002102  Pet friendly but please confirm with me if the...     NaN   \n",
       "1002403  I encourage you to use my kitchen, cooking and...     NaN   \n",
       "1003689  Please no smoking in the house, porch or on th...     NaN   \n",
       "1004098                  No smoking, please, and no drugs.     NaN   \n",
       "...                                                    ...     ...   \n",
       "6092437  No Smoking No Parties or Events of any kind Pl...     NaN   \n",
       "6092990  House rules: Guests agree to the following ter...     NaN   \n",
       "6093542                                                NaN     NaN   \n",
       "6094094                                                NaN     NaN   \n",
       "6094647                                                NaN     NaN   \n",
       "\n",
       "                                  area  \n",
       "id                                      \n",
       "1001254            Brooklyn Kensington  \n",
       "1002102              Manhattan Midtown  \n",
       "1002403               Manhattan Harlem  \n",
       "1003689          Manhattan East Harlem  \n",
       "1004098          Manhattan Murray Hill  \n",
       "...                                ...  \n",
       "6092437          Brooklyn Williamsburg  \n",
       "6092990  Manhattan Morningside Heights  \n",
       "6093542            Brooklyn Park Slope  \n",
       "6094094        Queens Long Island City  \n",
       "6094647      Manhattan Upper West Side  \n",
       "\n",
       "[102349 rows x 16 columns]"
      ]
     },
     "execution_count": 63,
     "metadata": {},
     "output_type": "execute_result"
    }
   ],
   "source": [
    "updated_df"
   ]
  },
  {
   "cell_type": "markdown",
   "id": "7ee51f53",
   "metadata": {
    "papermill": {
     "duration": 0.038275,
     "end_time": "2024-07-15T06:56:29.069887",
     "exception": false,
     "start_time": "2024-07-15T06:56:29.031612",
     "status": "completed"
    },
    "tags": []
   },
   "source": [
    "**If house rules is null we keep it as no rules**"
   ]
  },
  {
   "cell_type": "code",
   "execution_count": 64,
   "id": "cf5b0627",
   "metadata": {
    "execution": {
     "iopub.execute_input": "2024-07-15T06:56:29.150201Z",
     "iopub.status.busy": "2024-07-15T06:56:29.149734Z",
     "iopub.status.idle": "2024-07-15T06:56:29.173891Z",
     "shell.execute_reply": "2024-07-15T06:56:29.172408Z"
    },
    "papermill": {
     "duration": 0.067961,
     "end_time": "2024-07-15T06:56:29.176941",
     "exception": false,
     "start_time": "2024-07-15T06:56:29.108980",
     "status": "completed"
    },
    "tags": []
   },
   "outputs": [],
   "source": [
    "updated_df['house_rules'] = updated_df['house_rules'].fillna('no rules')"
   ]
  },
  {
   "cell_type": "code",
   "execution_count": 65,
   "id": "dbd141d4",
   "metadata": {
    "execution": {
     "iopub.execute_input": "2024-07-15T06:56:29.259257Z",
     "iopub.status.busy": "2024-07-15T06:56:29.258847Z",
     "iopub.status.idle": "2024-07-15T06:56:29.377124Z",
     "shell.execute_reply": "2024-07-15T06:56:29.375936Z"
    },
    "papermill": {
     "duration": 0.163111,
     "end_time": "2024-07-15T06:56:29.379846",
     "exception": false,
     "start_time": "2024-07-15T06:56:29.216735",
     "status": "completed"
    },
    "tags": []
   },
   "outputs": [
    {
     "data": {
      "text/plain": [
       "name                           0\n",
       "host id                        0\n",
       "host_identity_verified         0\n",
       "host name                      0\n",
       "instant_bookable               0\n",
       "cancellation_policy            0\n",
       "room type                      0\n",
       "Construction year              0\n",
       "price                          0\n",
       "service fee                    0\n",
       "minimum nights                 0\n",
       "number of reviews              0\n",
       "availability 365               0\n",
       "house_rules                    0\n",
       "license                   102347\n",
       "area                          43\n",
       "dtype: int64"
      ]
     },
     "execution_count": 65,
     "metadata": {},
     "output_type": "execute_result"
    }
   ],
   "source": [
    "updated_df.isna().sum()"
   ]
  },
  {
   "cell_type": "code",
   "execution_count": 66,
   "id": "954a3333",
   "metadata": {
    "execution": {
     "iopub.execute_input": "2024-07-15T06:56:29.458892Z",
     "iopub.status.busy": "2024-07-15T06:56:29.458064Z",
     "iopub.status.idle": "2024-07-15T06:56:29.472877Z",
     "shell.execute_reply": "2024-07-15T06:56:29.471686Z"
    },
    "papermill": {
     "duration": 0.057099,
     "end_time": "2024-07-15T06:56:29.475347",
     "exception": false,
     "start_time": "2024-07-15T06:56:29.418248",
     "status": "completed"
    },
    "tags": []
   },
   "outputs": [
    {
     "data": {
      "text/plain": [
       "array([nan, '41662/AL'], dtype=object)"
      ]
     },
     "execution_count": 66,
     "metadata": {},
     "output_type": "execute_result"
    }
   ],
   "source": [
    "updated_df['license'].unique()"
   ]
  },
  {
   "cell_type": "markdown",
   "id": "d357981e",
   "metadata": {
    "papermill": {
     "duration": 0.038451,
     "end_time": "2024-07-15T06:56:29.558206",
     "exception": false,
     "start_time": "2024-07-15T06:56:29.519755",
     "status": "completed"
    },
    "tags": []
   },
   "source": [
    "**There is only 1 type of license and majority are null so we are droping this column**"
   ]
  },
  {
   "cell_type": "code",
   "execution_count": 67,
   "id": "e1a7c275",
   "metadata": {
    "execution": {
     "iopub.execute_input": "2024-07-15T06:56:29.637353Z",
     "iopub.status.busy": "2024-07-15T06:56:29.636927Z",
     "iopub.status.idle": "2024-07-15T06:56:29.702265Z",
     "shell.execute_reply": "2024-07-15T06:56:29.701045Z"
    },
    "papermill": {
     "duration": 0.10854,
     "end_time": "2024-07-15T06:56:29.705217",
     "exception": false,
     "start_time": "2024-07-15T06:56:29.596677",
     "status": "completed"
    },
    "tags": []
   },
   "outputs": [],
   "source": [
    "updated_df.drop(columns = ['license'],inplace = True)"
   ]
  },
  {
   "cell_type": "code",
   "execution_count": 68,
   "id": "9fb48ecb",
   "metadata": {
    "execution": {
     "iopub.execute_input": "2024-07-15T06:56:29.806892Z",
     "iopub.status.busy": "2024-07-15T06:56:29.805933Z",
     "iopub.status.idle": "2024-07-15T06:56:29.912624Z",
     "shell.execute_reply": "2024-07-15T06:56:29.911423Z"
    },
    "papermill": {
     "duration": 0.162808,
     "end_time": "2024-07-15T06:56:29.915288",
     "exception": false,
     "start_time": "2024-07-15T06:56:29.752480",
     "status": "completed"
    },
    "tags": []
   },
   "outputs": [
    {
     "data": {
      "text/plain": [
       "name                       0\n",
       "host id                    0\n",
       "host_identity_verified     0\n",
       "host name                  0\n",
       "instant_bookable           0\n",
       "cancellation_policy        0\n",
       "room type                  0\n",
       "Construction year          0\n",
       "price                      0\n",
       "service fee                0\n",
       "minimum nights             0\n",
       "number of reviews          0\n",
       "availability 365           0\n",
       "house_rules                0\n",
       "area                      43\n",
       "dtype: int64"
      ]
     },
     "execution_count": 68,
     "metadata": {},
     "output_type": "execute_result"
    }
   ],
   "source": [
    "updated_df.isna().sum()"
   ]
  },
  {
   "cell_type": "markdown",
   "id": "cc4e6281",
   "metadata": {
    "papermill": {
     "duration": 0.038203,
     "end_time": "2024-07-15T06:56:29.992630",
     "exception": false,
     "start_time": "2024-07-15T06:56:29.954427",
     "status": "completed"
    },
    "tags": []
   },
   "source": [
    "**We keep null address as unknown**"
   ]
  },
  {
   "cell_type": "code",
   "execution_count": 69,
   "id": "5b64c3f0",
   "metadata": {
    "execution": {
     "iopub.execute_input": "2024-07-15T06:56:30.073201Z",
     "iopub.status.busy": "2024-07-15T06:56:30.072806Z",
     "iopub.status.idle": "2024-07-15T06:56:30.095992Z",
     "shell.execute_reply": "2024-07-15T06:56:30.094753Z"
    },
    "papermill": {
     "duration": 0.066052,
     "end_time": "2024-07-15T06:56:30.098853",
     "exception": false,
     "start_time": "2024-07-15T06:56:30.032801",
     "status": "completed"
    },
    "tags": []
   },
   "outputs": [],
   "source": [
    "updated_df['area'] = updated_df['area'].fillna('Unknown')"
   ]
  },
  {
   "cell_type": "code",
   "execution_count": 70,
   "id": "f34f9d0e",
   "metadata": {
    "execution": {
     "iopub.execute_input": "2024-07-15T06:56:30.178428Z",
     "iopub.status.busy": "2024-07-15T06:56:30.178027Z",
     "iopub.status.idle": "2024-07-15T06:56:30.283721Z",
     "shell.execute_reply": "2024-07-15T06:56:30.282563Z"
    },
    "papermill": {
     "duration": 0.148324,
     "end_time": "2024-07-15T06:56:30.286341",
     "exception": false,
     "start_time": "2024-07-15T06:56:30.138017",
     "status": "completed"
    },
    "tags": []
   },
   "outputs": [
    {
     "data": {
      "text/plain": [
       "name                      0\n",
       "host id                   0\n",
       "host_identity_verified    0\n",
       "host name                 0\n",
       "instant_bookable          0\n",
       "cancellation_policy       0\n",
       "room type                 0\n",
       "Construction year         0\n",
       "price                     0\n",
       "service fee               0\n",
       "minimum nights            0\n",
       "number of reviews         0\n",
       "availability 365          0\n",
       "house_rules               0\n",
       "area                      0\n",
       "dtype: int64"
      ]
     },
     "execution_count": 70,
     "metadata": {},
     "output_type": "execute_result"
    }
   ],
   "source": [
    "updated_df.isna().sum()"
   ]
  },
  {
   "cell_type": "markdown",
   "id": "6ab183d1",
   "metadata": {
    "papermill": {
     "duration": 0.038504,
     "end_time": "2024-07-15T06:56:30.363643",
     "exception": false,
     "start_time": "2024-07-15T06:56:30.325139",
     "status": "completed"
    },
    "tags": []
   },
   "source": [
    "**Analysis on the cleaned data**"
   ]
  },
  {
   "cell_type": "markdown",
   "id": "aaa71081",
   "metadata": {
    "papermill": {
     "duration": 0.039431,
     "end_time": "2024-07-15T06:56:30.443700",
     "exception": false,
     "start_time": "2024-07-15T06:56:30.404269",
     "status": "completed"
    },
    "tags": []
   },
   "source": [
    "**First we are ploting to see no of reviews count of hotel based on area**"
   ]
  },
  {
   "cell_type": "code",
   "execution_count": 71,
   "id": "14cbe6df",
   "metadata": {
    "execution": {
     "iopub.execute_input": "2024-07-15T06:56:30.523952Z",
     "iopub.status.busy": "2024-07-15T06:56:30.522957Z",
     "iopub.status.idle": "2024-07-15T06:56:30.528184Z",
     "shell.execute_reply": "2024-07-15T06:56:30.527082Z"
    },
    "papermill": {
     "duration": 0.048025,
     "end_time": "2024-07-15T06:56:30.530733",
     "exception": false,
     "start_time": "2024-07-15T06:56:30.482708",
     "status": "completed"
    },
    "tags": []
   },
   "outputs": [],
   "source": [
    "import matplotlib.pyplot as plt"
   ]
  },
  {
   "cell_type": "markdown",
   "id": "50841387",
   "metadata": {
    "papermill": {
     "duration": 0.038833,
     "end_time": "2024-07-15T06:56:30.608640",
     "exception": false,
     "start_time": "2024-07-15T06:56:30.569807",
     "status": "completed"
    },
    "tags": []
   },
   "source": [
    "**Coverting no of reviews into float datatype**"
   ]
  },
  {
   "cell_type": "markdown",
   "id": "a4db641e",
   "metadata": {
    "papermill": {
     "duration": 0.039299,
     "end_time": "2024-07-15T06:56:30.687599",
     "exception": false,
     "start_time": "2024-07-15T06:56:30.648300",
     "status": "completed"
    },
    "tags": []
   },
   "source": [
    "**Converting no reviews to 0**"
   ]
  },
  {
   "cell_type": "code",
   "execution_count": 72,
   "id": "dea8e7c9",
   "metadata": {
    "execution": {
     "iopub.execute_input": "2024-07-15T06:56:30.771332Z",
     "iopub.status.busy": "2024-07-15T06:56:30.770961Z",
     "iopub.status.idle": "2024-07-15T06:56:30.776915Z",
     "shell.execute_reply": "2024-07-15T06:56:30.775614Z"
    },
    "papermill": {
     "duration": 0.050064,
     "end_time": "2024-07-15T06:56:30.779438",
     "exception": false,
     "start_time": "2024-07-15T06:56:30.729374",
     "status": "completed"
    },
    "tags": []
   },
   "outputs": [],
   "source": [
    "def converting_reviews(x):\n",
    "    if x == 'no reviews':\n",
    "        return float(0)\n",
    "    else:\n",
    "        return float(x)"
   ]
  },
  {
   "cell_type": "code",
   "execution_count": 73,
   "id": "0b2fc0b4",
   "metadata": {
    "execution": {
     "iopub.execute_input": "2024-07-15T06:56:30.860809Z",
     "iopub.status.busy": "2024-07-15T06:56:30.860392Z",
     "iopub.status.idle": "2024-07-15T06:56:30.918574Z",
     "shell.execute_reply": "2024-07-15T06:56:30.917588Z"
    },
    "papermill": {
     "duration": 0.102452,
     "end_time": "2024-07-15T06:56:30.921569",
     "exception": false,
     "start_time": "2024-07-15T06:56:30.819117",
     "status": "completed"
    },
    "tags": []
   },
   "outputs": [],
   "source": [
    "temp = updated_df['number of reviews'].map(converting_reviews)\n",
    "updated_df['number of reviews'] = temp"
   ]
  },
  {
   "cell_type": "code",
   "execution_count": 74,
   "id": "609ff40f",
   "metadata": {
    "execution": {
     "iopub.execute_input": "2024-07-15T06:56:31.002995Z",
     "iopub.status.busy": "2024-07-15T06:56:31.002314Z",
     "iopub.status.idle": "2024-07-15T06:56:31.025465Z",
     "shell.execute_reply": "2024-07-15T06:56:31.024318Z"
    },
    "papermill": {
     "duration": 0.066973,
     "end_time": "2024-07-15T06:56:31.028373",
     "exception": false,
     "start_time": "2024-07-15T06:56:30.961400",
     "status": "completed"
    },
    "tags": []
   },
   "outputs": [],
   "source": [
    "temp = updated_df.groupby(['area'])['number of reviews'].count()"
   ]
  },
  {
   "cell_type": "code",
   "execution_count": 75,
   "id": "32c05a46",
   "metadata": {
    "execution": {
     "iopub.execute_input": "2024-07-15T06:56:31.109960Z",
     "iopub.status.busy": "2024-07-15T06:56:31.109556Z",
     "iopub.status.idle": "2024-07-15T06:56:31.119928Z",
     "shell.execute_reply": "2024-07-15T06:56:31.118384Z"
    },
    "papermill": {
     "duration": 0.054209,
     "end_time": "2024-07-15T06:56:31.122947",
     "exception": false,
     "start_time": "2024-07-15T06:56:31.068738",
     "status": "completed"
    },
    "tags": []
   },
   "outputs": [
    {
     "data": {
      "text/plain": [
       "area\n",
       "Bronx Allerton               97\n",
       "Bronx Baychester             29\n",
       "Bronx Belmont                45\n",
       "Bronx Bronxdale              47\n",
       "Bronx Castle Hill            22\n",
       "                             ..\n",
       "Staten Island Willowbrook     3\n",
       "Staten Island Woodrow         3\n",
       "Unknown                      43\n",
       "brookln South Slope           1\n",
       "manhatan Chelsea              1\n",
       "Name: number of reviews, Length: 227, dtype: int64"
      ]
     },
     "execution_count": 75,
     "metadata": {},
     "output_type": "execute_result"
    }
   ],
   "source": [
    "temp"
   ]
  },
  {
   "cell_type": "code",
   "execution_count": 76,
   "id": "487c42d3",
   "metadata": {
    "execution": {
     "iopub.execute_input": "2024-07-15T06:56:31.209240Z",
     "iopub.status.busy": "2024-07-15T06:56:31.208798Z",
     "iopub.status.idle": "2024-07-15T06:56:34.187285Z",
     "shell.execute_reply": "2024-07-15T06:56:34.185560Z"
    },
    "papermill": {
     "duration": 3.026959,
     "end_time": "2024-07-15T06:56:34.191792",
     "exception": false,
     "start_time": "2024-07-15T06:56:31.164833",
     "status": "completed"
    },
    "tags": []
   },
   "outputs": [
    {
     "data": {
      "text/plain": [
       "<Axes: xlabel='area'>"
      ]
     },
     "execution_count": 76,
     "metadata": {},
     "output_type": "execute_result"
    },
    {
     "data": {
      "image/png": "[encoded data removed]",
      "text/plain": [
       "<Figure size 640x480 with 1 Axes>"
      ]
     },
     "metadata": {},
     "output_type": "display_data"
    }
   ],
   "source": [
    "temp.plot(kind = 'bar')"
   ]
  },
  {
   "cell_type": "code",
   "execution_count": null,
   "id": "ea0dc628",
   "metadata": {
    "papermill": {
     "duration": 0.044939,
     "end_time": "2024-07-15T06:56:34.280906",
     "exception": false,
     "start_time": "2024-07-15T06:56:34.235967",
     "status": "completed"
    },
    "tags": []
   },
   "outputs": [],
   "source": []
  }
 ],
 "metadata": {
  "kaggle": {
   "accelerator": "none",
   "dataSources": [
    {
     "datasetId": 2380415,
     "sourceId": 4016336,
     "sourceType": "datasetVersion"
    }
   ],
   "dockerImageVersionId": 30746,
   "isGpuEnabled": false,
   "isInternetEnabled": false,
   "language": "python",
   "sourceType": "notebook"
  },
  "kernelspec": {
   "display_name": "Python 3",
   "language": "python",
   "name": "python3"
  },
  "language_info": {
   "codemirror_mode": {
    "name": "ipython",
    "version": 3
   },
   "file_extension": ".py",
   "mimetype": "text/x-python",
   "name": "python",
   "nbconvert_exporter": "python",
   "pygments_lexer": "ipython3",
   "version": "3.10.13"
  },
  "papermill": {
   "default_parameters": {},
   "duration": 91.8889,
   "end_time": "2024-07-15T06:56:35.051725",
   "environment_variables": {},
   "exception": null,
   "input_path": "__notebook__.ipynb",
   "output_path": "__notebook__.ipynb",
   "parameters": {},
   "start_time": "2024-07-15T06:55:03.162825",
   "version": "2.5.0"
  }
 },
 "nbformat": 4,
 "nbformat_minor": 5
}
