{
 "cells": [
  {
   "cell_type": "code",
   "execution_count": 1,
   "id": "77df4933",
   "metadata": {
    "_cell_guid": "b1076dfc-b9ad-4769-8c92-a6c4dae69d19",
    "_uuid": "8f2839f25d086af736a60e9eeb907d3b93b6e0e5",
    "execution": {
     "iopub.execute_input": "2024-07-14T16:04:23.512027Z",
     "iopub.status.busy": "2024-07-14T16:04:23.511577Z",
     "iopub.status.idle": "2024-07-14T16:04:24.726335Z",
     "shell.execute_reply": "2024-07-14T16:04:24.725028Z"
    },
    "papermill": {
     "duration": 1.239536,
     "end_time": "2024-07-14T16:04:24.729260",
     "exception": false,
     "start_time": "2024-07-14T16:04:23.489724",
     "status": "completed"
    },
    "tags": []
   },
   "outputs": [
    {
     "name": "stdout",
     "output_type": "stream",
     "text": [
      "/kaggle/input/airbnbopendata/Airbnb_Open_Data.csv\n"
     ]
    }
   ],
   "source": [
    "# This Python 3 environment comes with many helpful analytics libraries installed\n",
    "# It is defined by the kaggle/python Docker image: https://github.com/kaggle/docker-python\n",
    "# For example, here's several helpful packages to load\n",
    "\n",
    "import numpy as np # linear algebra\n",
    "import pandas as pd # data processing, CSV file I/O (e.g. pd.read_csv)\n",
    "\n",
    "# Input data files are available in the read-only \"../input/\" directory\n",
    "# For example, running this (by clicking run or pressing Shift+Enter) will list all files under the input directory\n",
    "\n",
    "import os\n",
    "for dirname, _, filenames in os.walk('/kaggle/input'):\n",
    "    for filename in filenames:\n",
    "        print(os.path.join(dirname, filename))\n",
    "\n",
    "# You can write up to 20GB to the current directory (/kaggle/working/) that gets preserved as output when you create a version using \"Save & Run All\" \n",
    "# You can also write temporary files to /kaggle/temp/, but they won't be saved outside of the current session"
   ]
  },
  {
   "cell_type": "markdown",
   "id": "544bb174",
   "metadata": {
    "papermill": {
     "duration": 0.019278,
     "end_time": "2024-07-14T16:04:24.768100",
     "exception": false,
     "start_time": "2024-07-14T16:04:24.748822",
     "status": "completed"
    },
    "tags": []
   },
   "source": [
    "**Reading the data**"
   ]
  },
  {
   "cell_type": "code",
   "execution_count": 2,
   "id": "52e648ff",
   "metadata": {
    "execution": {
     "iopub.execute_input": "2024-07-14T16:04:24.811134Z",
     "iopub.status.busy": "2024-07-14T16:04:24.810577Z",
     "iopub.status.idle": "2024-07-14T16:04:26.324852Z",
     "shell.execute_reply": "2024-07-14T16:04:26.323113Z"
    },
    "papermill": {
     "duration": 1.539394,
     "end_time": "2024-07-14T16:04:26.327895",
     "exception": false,
     "start_time": "2024-07-14T16:04:24.788501",
     "status": "completed"
    },
    "tags": []
   },
   "outputs": [
    {
     "name": "stderr",
     "output_type": "stream",
     "text": [
      "/tmp/ipykernel_18/2083687841.py:1: DtypeWarning: Columns (25) have mixed types. Specify dtype option on import or set low_memory=False.\n",
      "  airnd_df = pd.read_csv(\"/kaggle/input/airbnbopendata/Airbnb_Open_Data.csv\")\n"
     ]
    }
   ],
   "source": [
    "airnd_df = pd.read_csv(\"/kaggle/input/airbnbopendata/Airbnb_Open_Data.csv\")"
   ]
  },
  {
   "cell_type": "markdown",
   "id": "d02334f0",
   "metadata": {
    "papermill": {
     "duration": 0.019838,
     "end_time": "2024-07-14T16:04:26.367579",
     "exception": false,
     "start_time": "2024-07-14T16:04:26.347741",
     "status": "completed"
    },
    "tags": []
   },
   "source": [
    "One column has mixed types of data so Specify dtype option on import or set low_memory=False."
   ]
  },
  {
   "cell_type": "code",
   "execution_count": 3,
   "id": "c059a45b",
   "metadata": {
    "execution": {
     "iopub.execute_input": "2024-07-14T16:04:26.411418Z",
     "iopub.status.busy": "2024-07-14T16:04:26.410999Z",
     "iopub.status.idle": "2024-07-14T16:04:26.430510Z",
     "shell.execute_reply": "2024-07-14T16:04:26.429227Z"
    },
    "papermill": {
     "duration": 0.045169,
     "end_time": "2024-07-14T16:04:26.433251",
     "exception": false,
     "start_time": "2024-07-14T16:04:26.388082",
     "status": "completed"
    },
    "tags": []
   },
   "outputs": [
    {
     "data": {
      "text/plain": [
       "id                                  int64\n",
       "NAME                               object\n",
       "host id                             int64\n",
       "host_identity_verified             object\n",
       "host name                          object\n",
       "neighbourhood group                object\n",
       "neighbourhood                      object\n",
       "lat                               float64\n",
       "long                              float64\n",
       "country                            object\n",
       "country code                       object\n",
       "instant_bookable                   object\n",
       "cancellation_policy                object\n",
       "room type                          object\n",
       "Construction year                 float64\n",
       "price                              object\n",
       "service fee                        object\n",
       "minimum nights                    float64\n",
       "number of reviews                 float64\n",
       "last review                        object\n",
       "reviews per month                 float64\n",
       "review rate number                float64\n",
       "calculated host listings count    float64\n",
       "availability 365                  float64\n",
       "house_rules                        object\n",
       "license                            object\n",
       "dtype: object"
      ]
     },
     "execution_count": 3,
     "metadata": {},
     "output_type": "execute_result"
    }
   ],
   "source": [
    "airnd_df.dtypes"
   ]
  },
  {
   "cell_type": "code",
   "execution_count": 4,
   "id": "0620cbcc",
   "metadata": {
    "execution": {
     "iopub.execute_input": "2024-07-14T16:04:26.474794Z",
     "iopub.status.busy": "2024-07-14T16:04:26.474361Z",
     "iopub.status.idle": "2024-07-14T16:04:27.540251Z",
     "shell.execute_reply": "2024-07-14T16:04:27.538525Z"
    },
    "papermill": {
     "duration": 1.090444,
     "end_time": "2024-07-14T16:04:27.543553",
     "exception": false,
     "start_time": "2024-07-14T16:04:26.453109",
     "status": "completed"
    },
    "tags": []
   },
   "outputs": [],
   "source": [
    "airnd_df = pd.read_csv(\"/kaggle/input/airbnbopendata/Airbnb_Open_Data.csv\",index_col = 'id',low_memory=False)"
   ]
  },
  {
   "cell_type": "code",
   "execution_count": 5,
   "id": "a6814fc1",
   "metadata": {
    "execution": {
     "iopub.execute_input": "2024-07-14T16:04:27.586858Z",
     "iopub.status.busy": "2024-07-14T16:04:27.586382Z",
     "iopub.status.idle": "2024-07-14T16:04:27.593555Z",
     "shell.execute_reply": "2024-07-14T16:04:27.592426Z"
    },
    "papermill": {
     "duration": 0.03185,
     "end_time": "2024-07-14T16:04:27.596328",
     "exception": false,
     "start_time": "2024-07-14T16:04:27.564478",
     "status": "completed"
    },
    "tags": []
   },
   "outputs": [
    {
     "data": {
      "text/plain": [
       "(102599, 25)"
      ]
     },
     "execution_count": 5,
     "metadata": {},
     "output_type": "execute_result"
    }
   ],
   "source": [
    "airnd_df.shape"
   ]
  },
  {
   "cell_type": "markdown",
   "id": "1f12ac74",
   "metadata": {
    "papermill": {
     "duration": 0.019653,
     "end_time": "2024-07-14T16:04:27.635709",
     "exception": false,
     "start_time": "2024-07-14T16:04:27.616056",
     "status": "completed"
    },
    "tags": []
   },
   "source": [
    "**Total 25 columns**"
   ]
  },
  {
   "cell_type": "markdown",
   "id": "acf37f11",
   "metadata": {
    "papermill": {
     "duration": 0.02014,
     "end_time": "2024-07-14T16:04:27.676172",
     "exception": false,
     "start_time": "2024-07-14T16:04:27.656032",
     "status": "completed"
    },
    "tags": []
   },
   "source": [
    "**Check if any columns has missing values**"
   ]
  },
  {
   "cell_type": "code",
   "execution_count": 6,
   "id": "22c12b7e",
   "metadata": {
    "execution": {
     "iopub.execute_input": "2024-07-14T16:04:27.718257Z",
     "iopub.status.busy": "2024-07-14T16:04:27.717846Z",
     "iopub.status.idle": "2024-07-14T16:04:27.883460Z",
     "shell.execute_reply": "2024-07-14T16:04:27.882402Z"
    },
    "papermill": {
     "duration": 0.190094,
     "end_time": "2024-07-14T16:04:27.886551",
     "exception": false,
     "start_time": "2024-07-14T16:04:27.696457",
     "status": "completed"
    },
    "tags": []
   },
   "outputs": [
    {
     "data": {
      "text/plain": [
       "NAME                                 250\n",
       "host id                                0\n",
       "host_identity_verified               289\n",
       "host name                            406\n",
       "neighbourhood group                   29\n",
       "neighbourhood                         16\n",
       "lat                                    8\n",
       "long                                   8\n",
       "country                              532\n",
       "country code                         131\n",
       "instant_bookable                     105\n",
       "cancellation_policy                   76\n",
       "room type                              0\n",
       "Construction year                    214\n",
       "price                                247\n",
       "service fee                          273\n",
       "minimum nights                       409\n",
       "number of reviews                    183\n",
       "last review                        15893\n",
       "reviews per month                  15879\n",
       "review rate number                   326\n",
       "calculated host listings count       319\n",
       "availability 365                     448\n",
       "house_rules                        52131\n",
       "license                           102597\n",
       "dtype: int64"
      ]
     },
     "execution_count": 6,
     "metadata": {},
     "output_type": "execute_result"
    }
   ],
   "source": [
    "before_nulls = airnd_df.isna().sum()\n",
    "before_nulls"
   ]
  },
  {
   "cell_type": "markdown",
   "id": "12377b39",
   "metadata": {
    "papermill": {
     "duration": 0.019936,
     "end_time": "2024-07-14T16:04:27.926619",
     "exception": false,
     "start_time": "2024-07-14T16:04:27.906683",
     "status": "completed"
    },
    "tags": []
   },
   "source": [
    "**Handling name**\n",
    "1. Since all columns are lower case lets make it to lower case"
   ]
  },
  {
   "cell_type": "code",
   "execution_count": 7,
   "id": "140ada00",
   "metadata": {
    "execution": {
     "iopub.execute_input": "2024-07-14T16:04:27.969712Z",
     "iopub.status.busy": "2024-07-14T16:04:27.969265Z",
     "iopub.status.idle": "2024-07-14T16:04:27.976186Z",
     "shell.execute_reply": "2024-07-14T16:04:27.974672Z"
    },
    "papermill": {
     "duration": 0.031854,
     "end_time": "2024-07-14T16:04:27.979318",
     "exception": false,
     "start_time": "2024-07-14T16:04:27.947464",
     "status": "completed"
    },
    "tags": []
   },
   "outputs": [],
   "source": [
    "airnd_df.rename(columns = {'NAME':'name'},inplace=True)"
   ]
  },
  {
   "cell_type": "code",
   "execution_count": 8,
   "id": "d32865c4",
   "metadata": {
    "execution": {
     "iopub.execute_input": "2024-07-14T16:04:28.023871Z",
     "iopub.status.busy": "2024-07-14T16:04:28.023402Z",
     "iopub.status.idle": "2024-07-14T16:04:28.064108Z",
     "shell.execute_reply": "2024-07-14T16:04:28.062854Z"
    },
    "papermill": {
     "duration": 0.067203,
     "end_time": "2024-07-14T16:04:28.066731",
     "exception": false,
     "start_time": "2024-07-14T16:04:27.999528",
     "status": "completed"
    },
    "tags": []
   },
   "outputs": [
    {
     "data": {
      "text/html": [
       "<div>\n",
       "<style scoped>\n",
       "    .dataframe tbody tr th:only-of-type {\n",
       "        vertical-align: middle;\n",
       "    }\n",
       "\n",
       "    .dataframe tbody tr th {\n",
       "        vertical-align: top;\n",
       "    }\n",
       "\n",
       "    .dataframe thead th {\n",
       "        text-align: right;\n",
       "    }\n",
       "</style>\n",
       "<table border=\"1\" class=\"dataframe\">\n",
       "  <thead>\n",
       "    <tr style=\"text-align: right;\">\n",
       "      <th></th>\n",
       "      <th>name</th>\n",
       "      <th>host id</th>\n",
       "      <th>host_identity_verified</th>\n",
       "      <th>host name</th>\n",
       "      <th>neighbourhood group</th>\n",
       "      <th>neighbourhood</th>\n",
       "      <th>lat</th>\n",
       "      <th>long</th>\n",
       "      <th>country</th>\n",
       "      <th>country code</th>\n",
       "      <th>...</th>\n",
       "      <th>service fee</th>\n",
       "      <th>minimum nights</th>\n",
       "      <th>number of reviews</th>\n",
       "      <th>last review</th>\n",
       "      <th>reviews per month</th>\n",
       "      <th>review rate number</th>\n",
       "      <th>calculated host listings count</th>\n",
       "      <th>availability 365</th>\n",
       "      <th>house_rules</th>\n",
       "      <th>license</th>\n",
       "    </tr>\n",
       "    <tr>\n",
       "      <th>id</th>\n",
       "      <th></th>\n",
       "      <th></th>\n",
       "      <th></th>\n",
       "      <th></th>\n",
       "      <th></th>\n",
       "      <th></th>\n",
       "      <th></th>\n",
       "      <th></th>\n",
       "      <th></th>\n",
       "      <th></th>\n",
       "      <th></th>\n",
       "      <th></th>\n",
       "      <th></th>\n",
       "      <th></th>\n",
       "      <th></th>\n",
       "      <th></th>\n",
       "      <th></th>\n",
       "      <th></th>\n",
       "      <th></th>\n",
       "      <th></th>\n",
       "      <th></th>\n",
       "    </tr>\n",
       "  </thead>\n",
       "  <tbody>\n",
       "    <tr>\n",
       "      <th>1001254</th>\n",
       "      <td>Clean &amp; quiet apt home by the park</td>\n",
       "      <td>80014485718</td>\n",
       "      <td>unconfirmed</td>\n",
       "      <td>Madaline</td>\n",
       "      <td>Brooklyn</td>\n",
       "      <td>Kensington</td>\n",
       "      <td>40.64749</td>\n",
       "      <td>-73.97237</td>\n",
       "      <td>United States</td>\n",
       "      <td>US</td>\n",
       "      <td>...</td>\n",
       "      <td>$193</td>\n",
       "      <td>10.0</td>\n",
       "      <td>9.0</td>\n",
       "      <td>10/19/2021</td>\n",
       "      <td>0.21</td>\n",
       "      <td>4.0</td>\n",
       "      <td>6.0</td>\n",
       "      <td>286.0</td>\n",
       "      <td>Clean up and treat the home the way you'd like...</td>\n",
       "      <td>NaN</td>\n",
       "    </tr>\n",
       "    <tr>\n",
       "      <th>1002102</th>\n",
       "      <td>Skylit Midtown Castle</td>\n",
       "      <td>52335172823</td>\n",
       "      <td>verified</td>\n",
       "      <td>Jenna</td>\n",
       "      <td>Manhattan</td>\n",
       "      <td>Midtown</td>\n",
       "      <td>40.75362</td>\n",
       "      <td>-73.98377</td>\n",
       "      <td>United States</td>\n",
       "      <td>US</td>\n",
       "      <td>...</td>\n",
       "      <td>$28</td>\n",
       "      <td>30.0</td>\n",
       "      <td>45.0</td>\n",
       "      <td>5/21/2022</td>\n",
       "      <td>0.38</td>\n",
       "      <td>4.0</td>\n",
       "      <td>2.0</td>\n",
       "      <td>228.0</td>\n",
       "      <td>Pet friendly but please confirm with me if the...</td>\n",
       "      <td>NaN</td>\n",
       "    </tr>\n",
       "    <tr>\n",
       "      <th>1002403</th>\n",
       "      <td>THE VILLAGE OF HARLEM....NEW YORK !</td>\n",
       "      <td>78829239556</td>\n",
       "      <td>NaN</td>\n",
       "      <td>Elise</td>\n",
       "      <td>Manhattan</td>\n",
       "      <td>Harlem</td>\n",
       "      <td>40.80902</td>\n",
       "      <td>-73.94190</td>\n",
       "      <td>United States</td>\n",
       "      <td>US</td>\n",
       "      <td>...</td>\n",
       "      <td>$124</td>\n",
       "      <td>3.0</td>\n",
       "      <td>0.0</td>\n",
       "      <td>NaN</td>\n",
       "      <td>NaN</td>\n",
       "      <td>5.0</td>\n",
       "      <td>1.0</td>\n",
       "      <td>352.0</td>\n",
       "      <td>I encourage you to use my kitchen, cooking and...</td>\n",
       "      <td>NaN</td>\n",
       "    </tr>\n",
       "    <tr>\n",
       "      <th>1002755</th>\n",
       "      <td>NaN</td>\n",
       "      <td>85098326012</td>\n",
       "      <td>unconfirmed</td>\n",
       "      <td>Garry</td>\n",
       "      <td>Brooklyn</td>\n",
       "      <td>Clinton Hill</td>\n",
       "      <td>40.68514</td>\n",
       "      <td>-73.95976</td>\n",
       "      <td>United States</td>\n",
       "      <td>US</td>\n",
       "      <td>...</td>\n",
       "      <td>$74</td>\n",
       "      <td>30.0</td>\n",
       "      <td>270.0</td>\n",
       "      <td>7/5/2019</td>\n",
       "      <td>4.64</td>\n",
       "      <td>4.0</td>\n",
       "      <td>1.0</td>\n",
       "      <td>322.0</td>\n",
       "      <td>NaN</td>\n",
       "      <td>NaN</td>\n",
       "    </tr>\n",
       "    <tr>\n",
       "      <th>1003689</th>\n",
       "      <td>Entire Apt: Spacious Studio/Loft by central park</td>\n",
       "      <td>92037596077</td>\n",
       "      <td>verified</td>\n",
       "      <td>Lyndon</td>\n",
       "      <td>Manhattan</td>\n",
       "      <td>East Harlem</td>\n",
       "      <td>40.79851</td>\n",
       "      <td>-73.94399</td>\n",
       "      <td>United States</td>\n",
       "      <td>US</td>\n",
       "      <td>...</td>\n",
       "      <td>$41</td>\n",
       "      <td>10.0</td>\n",
       "      <td>9.0</td>\n",
       "      <td>11/19/2018</td>\n",
       "      <td>0.10</td>\n",
       "      <td>3.0</td>\n",
       "      <td>1.0</td>\n",
       "      <td>289.0</td>\n",
       "      <td>Please no smoking in the house, porch or on th...</td>\n",
       "      <td>NaN</td>\n",
       "    </tr>\n",
       "  </tbody>\n",
       "</table>\n",
       "<p>5 rows × 25 columns</p>\n",
       "</div>"
      ],
      "text/plain": [
       "                                                     name      host id  \\\n",
       "id                                                                       \n",
       "1001254                Clean & quiet apt home by the park  80014485718   \n",
       "1002102                             Skylit Midtown Castle  52335172823   \n",
       "1002403               THE VILLAGE OF HARLEM....NEW YORK !  78829239556   \n",
       "1002755                                               NaN  85098326012   \n",
       "1003689  Entire Apt: Spacious Studio/Loft by central park  92037596077   \n",
       "\n",
       "        host_identity_verified host name neighbourhood group neighbourhood  \\\n",
       "id                                                                           \n",
       "1001254            unconfirmed  Madaline            Brooklyn    Kensington   \n",
       "1002102               verified     Jenna           Manhattan       Midtown   \n",
       "1002403                    NaN     Elise           Manhattan        Harlem   \n",
       "1002755            unconfirmed     Garry            Brooklyn  Clinton Hill   \n",
       "1003689               verified    Lyndon           Manhattan   East Harlem   \n",
       "\n",
       "              lat      long        country country code  ... service fee  \\\n",
       "id                                                       ...               \n",
       "1001254  40.64749 -73.97237  United States           US  ...       $193    \n",
       "1002102  40.75362 -73.98377  United States           US  ...        $28    \n",
       "1002403  40.80902 -73.94190  United States           US  ...       $124    \n",
       "1002755  40.68514 -73.95976  United States           US  ...        $74    \n",
       "1003689  40.79851 -73.94399  United States           US  ...        $41    \n",
       "\n",
       "        minimum nights number of reviews  last review reviews per month  \\\n",
       "id                                                                        \n",
       "1001254           10.0               9.0   10/19/2021              0.21   \n",
       "1002102           30.0              45.0    5/21/2022              0.38   \n",
       "1002403            3.0               0.0          NaN               NaN   \n",
       "1002755           30.0             270.0     7/5/2019              4.64   \n",
       "1003689           10.0               9.0   11/19/2018              0.10   \n",
       "\n",
       "        review rate number  calculated host listings count  availability 365  \\\n",
       "id                                                                             \n",
       "1001254                4.0                             6.0             286.0   \n",
       "1002102                4.0                             2.0             228.0   \n",
       "1002403                5.0                             1.0             352.0   \n",
       "1002755                4.0                             1.0             322.0   \n",
       "1003689                3.0                             1.0             289.0   \n",
       "\n",
       "                                               house_rules  license  \n",
       "id                                                                   \n",
       "1001254  Clean up and treat the home the way you'd like...      NaN  \n",
       "1002102  Pet friendly but please confirm with me if the...      NaN  \n",
       "1002403  I encourage you to use my kitchen, cooking and...      NaN  \n",
       "1002755                                                NaN      NaN  \n",
       "1003689  Please no smoking in the house, porch or on th...      NaN  \n",
       "\n",
       "[5 rows x 25 columns]"
      ]
     },
     "execution_count": 8,
     "metadata": {},
     "output_type": "execute_result"
    }
   ],
   "source": [
    "airnd_df.head()"
   ]
  },
  {
   "cell_type": "markdown",
   "id": "6c448b5d",
   "metadata": {
    "papermill": {
     "duration": 0.021797,
     "end_time": "2024-07-14T16:04:28.109184",
     "exception": false,
     "start_time": "2024-07-14T16:04:28.087387",
     "status": "completed"
    },
    "tags": []
   },
   "source": [
    "**Even though few names are null still we can find name if their lat and long matches with any other**"
   ]
  },
  {
   "cell_type": "code",
   "execution_count": 9,
   "id": "0c0420ee",
   "metadata": {
    "execution": {
     "iopub.execute_input": "2024-07-14T16:04:28.154150Z",
     "iopub.status.busy": "2024-07-14T16:04:28.152496Z",
     "iopub.status.idle": "2024-07-14T16:04:28.212055Z",
     "shell.execute_reply": "2024-07-14T16:04:28.210833Z"
    },
    "papermill": {
     "duration": 0.084484,
     "end_time": "2024-07-14T16:04:28.214824",
     "exception": false,
     "start_time": "2024-07-14T16:04:28.130340",
     "status": "completed"
    },
    "tags": []
   },
   "outputs": [
    {
     "data": {
      "text/plain": [
       "lat       long     \n",
       "40.49979  -74.24084    1\n",
       "40.50456  -74.24984    1\n",
       "40.50641  -74.23059    1\n",
       "40.50708  -74.24285    2\n",
       "40.50863  -74.24135    1\n",
       "                      ..\n",
       "40.91248  -73.84885    1\n",
       "40.91306  -73.89389    1\n",
       "40.91310  -73.89518    1\n",
       "40.91685  -73.90136    1\n",
       "40.91697  -73.90125    1\n",
       "Name: name, Length: 67162, dtype: int64"
      ]
     },
     "execution_count": 9,
     "metadata": {},
     "output_type": "execute_result"
    }
   ],
   "source": [
    "airnd_df.groupby(['lat','long']).name.count()"
   ]
  },
  {
   "cell_type": "markdown",
   "id": "784f5081",
   "metadata": {
    "papermill": {
     "duration": 0.02172,
     "end_time": "2024-07-14T16:04:28.257680",
     "exception": false,
     "start_time": "2024-07-14T16:04:28.235960",
     "status": "completed"
    },
    "tags": []
   },
   "source": [
    "**Based on above result we can assume that lat and long are repating so we can try to fix names** "
   ]
  },
  {
   "cell_type": "code",
   "execution_count": 10,
   "id": "36b30c06",
   "metadata": {
    "execution": {
     "iopub.execute_input": "2024-07-14T16:04:28.304054Z",
     "iopub.status.busy": "2024-07-14T16:04:28.303576Z",
     "iopub.status.idle": "2024-07-14T16:04:28.310129Z",
     "shell.execute_reply": "2024-07-14T16:04:28.308281Z"
    },
    "papermill": {
     "duration": 0.033756,
     "end_time": "2024-07-14T16:04:28.313172",
     "exception": false,
     "start_time": "2024-07-14T16:04:28.279416",
     "status": "completed"
    },
    "tags": []
   },
   "outputs": [],
   "source": [
    "# new_name = airnd_df.loc[(airnd_df['lat'] == 40.50708) & (airnd_df['long'] == -74.24285) ,'name'].unique()[0]\n",
    "# new_name"
   ]
  },
  {
   "cell_type": "code",
   "execution_count": 11,
   "id": "540f42a6",
   "metadata": {
    "execution": {
     "iopub.execute_input": "2024-07-14T16:04:28.360292Z",
     "iopub.status.busy": "2024-07-14T16:04:28.359852Z",
     "iopub.status.idle": "2024-07-14T16:04:28.366815Z",
     "shell.execute_reply": "2024-07-14T16:04:28.365495Z"
    },
    "papermill": {
     "duration": 0.034707,
     "end_time": "2024-07-14T16:04:28.369290",
     "exception": false,
     "start_time": "2024-07-14T16:04:28.334583",
     "status": "completed"
    },
    "tags": []
   },
   "outputs": [],
   "source": [
    "def fill_name(x):\n",
    "    if pd.isna(x.name):\n",
    "        new_name = airnd_df.loc[(airnd_df['lat'] == x.lat) & (airnd_df['long'] == x.long) ,'name'].unique()[0]\n",
    "        x.name = new_name \n",
    "    return x"
   ]
  },
  {
   "cell_type": "code",
   "execution_count": 12,
   "id": "77acfb3c",
   "metadata": {
    "execution": {
     "iopub.execute_input": "2024-07-14T16:04:28.413910Z",
     "iopub.status.busy": "2024-07-14T16:04:28.413457Z",
     "iopub.status.idle": "2024-07-14T16:04:36.050789Z",
     "shell.execute_reply": "2024-07-14T16:04:36.049344Z"
    },
    "papermill": {
     "duration": 7.663167,
     "end_time": "2024-07-14T16:04:36.053878",
     "exception": false,
     "start_time": "2024-07-14T16:04:28.390711",
     "status": "completed"
    },
    "tags": []
   },
   "outputs": [],
   "source": [
    "updated_df = airnd_df.apply(fill_name,axis = 1)"
   ]
  },
  {
   "cell_type": "code",
   "execution_count": 13,
   "id": "31b22af9",
   "metadata": {
    "execution": {
     "iopub.execute_input": "2024-07-14T16:04:36.098118Z",
     "iopub.status.busy": "2024-07-14T16:04:36.097673Z",
     "iopub.status.idle": "2024-07-14T16:04:36.321851Z",
     "shell.execute_reply": "2024-07-14T16:04:36.320499Z"
    },
    "papermill": {
     "duration": 0.249599,
     "end_time": "2024-07-14T16:04:36.324603",
     "exception": false,
     "start_time": "2024-07-14T16:04:36.075004",
     "status": "completed"
    },
    "tags": []
   },
   "outputs": [
    {
     "data": {
      "text/plain": [
       "name                                 250\n",
       "host id                                0\n",
       "host_identity_verified               289\n",
       "host name                            406\n",
       "neighbourhood group                   29\n",
       "neighbourhood                         16\n",
       "lat                                    8\n",
       "long                                   8\n",
       "country                              532\n",
       "country code                         131\n",
       "instant_bookable                     105\n",
       "cancellation_policy                   76\n",
       "room type                              0\n",
       "Construction year                    214\n",
       "price                                247\n",
       "service fee                          273\n",
       "minimum nights                       409\n",
       "number of reviews                    183\n",
       "last review                        15893\n",
       "reviews per month                  15879\n",
       "review rate number                   326\n",
       "calculated host listings count       319\n",
       "availability 365                     448\n",
       "house_rules                        52131\n",
       "license                           102597\n",
       "dtype: int64"
      ]
     },
     "execution_count": 13,
     "metadata": {},
     "output_type": "execute_result"
    }
   ],
   "source": [
    "updated_df.isna().sum()"
   ]
  },
  {
   "cell_type": "markdown",
   "id": "1cd5448f",
   "metadata": {
    "papermill": {
     "duration": 0.021756,
     "end_time": "2024-07-14T16:04:36.367752",
     "exception": false,
     "start_time": "2024-07-14T16:04:36.345996",
     "status": "completed"
    },
    "tags": []
   },
   "source": [
    "**No use none of them are matching**\n",
    "\n",
    "**Since we can get the name we need to drop columns with name = null**"
   ]
  },
  {
   "cell_type": "code",
   "execution_count": 14,
   "id": "81b778f0",
   "metadata": {
    "execution": {
     "iopub.execute_input": "2024-07-14T16:04:36.479713Z",
     "iopub.status.busy": "2024-07-14T16:04:36.478501Z",
     "iopub.status.idle": "2024-07-14T16:04:36.655397Z",
     "shell.execute_reply": "2024-07-14T16:04:36.654068Z"
    },
    "papermill": {
     "duration": 0.20279,
     "end_time": "2024-07-14T16:04:36.658598",
     "exception": false,
     "start_time": "2024-07-14T16:04:36.455808",
     "status": "completed"
    },
    "tags": []
   },
   "outputs": [],
   "source": [
    "updated_df.dropna(subset=['name'],inplace = True)"
   ]
  },
  {
   "cell_type": "code",
   "execution_count": 15,
   "id": "4fbe3f03",
   "metadata": {
    "execution": {
     "iopub.execute_input": "2024-07-14T16:04:36.703272Z",
     "iopub.status.busy": "2024-07-14T16:04:36.702825Z",
     "iopub.status.idle": "2024-07-14T16:04:36.873100Z",
     "shell.execute_reply": "2024-07-14T16:04:36.871653Z"
    },
    "papermill": {
     "duration": 0.196121,
     "end_time": "2024-07-14T16:04:36.876190",
     "exception": false,
     "start_time": "2024-07-14T16:04:36.680069",
     "status": "completed"
    },
    "tags": []
   },
   "outputs": [
    {
     "data": {
      "text/plain": [
       "name                                   0\n",
       "host id                                0\n",
       "host_identity_verified               277\n",
       "host name                            400\n",
       "neighbourhood group                   27\n",
       "neighbourhood                         16\n",
       "lat                                    8\n",
       "long                                   8\n",
       "country                              527\n",
       "country code                         123\n",
       "instant_bookable                      97\n",
       "cancellation_policy                   71\n",
       "room type                              0\n",
       "Construction year                    205\n",
       "price                                244\n",
       "service fee                          273\n",
       "minimum nights                       403\n",
       "number of reviews                    182\n",
       "last review                        15857\n",
       "reviews per month                  15843\n",
       "review rate number                   318\n",
       "calculated host listings count       318\n",
       "availability 365                     430\n",
       "house_rules                        52025\n",
       "license                           102347\n",
       "dtype: int64"
      ]
     },
     "execution_count": 15,
     "metadata": {},
     "output_type": "execute_result"
    }
   ],
   "source": [
    "updated_df.isna().sum()"
   ]
  },
  {
   "cell_type": "code",
   "execution_count": 16,
   "id": "23dc735b",
   "metadata": {
    "execution": {
     "iopub.execute_input": "2024-07-14T16:04:36.921693Z",
     "iopub.status.busy": "2024-07-14T16:04:36.920752Z",
     "iopub.status.idle": "2024-07-14T16:04:36.928767Z",
     "shell.execute_reply": "2024-07-14T16:04:36.927233Z"
    },
    "papermill": {
     "duration": 0.034776,
     "end_time": "2024-07-14T16:04:36.932443",
     "exception": false,
     "start_time": "2024-07-14T16:04:36.897667",
     "status": "completed"
    },
    "tags": []
   },
   "outputs": [
    {
     "data": {
      "text/plain": [
       "(102349, 25)"
      ]
     },
     "execution_count": 16,
     "metadata": {},
     "output_type": "execute_result"
    }
   ],
   "source": [
    "updated_df.shape"
   ]
  },
  {
   "cell_type": "markdown",
   "id": "1b5a9819",
   "metadata": {
    "papermill": {
     "duration": 0.022423,
     "end_time": "2024-07-14T16:04:36.977868",
     "exception": false,
     "start_time": "2024-07-14T16:04:36.955445",
     "status": "completed"
    },
    "tags": []
   },
   "source": [
    "**Making all null host_identity to unconfirmed**"
   ]
  },
  {
   "cell_type": "code",
   "execution_count": 17,
   "id": "5fc92565",
   "metadata": {
    "execution": {
     "iopub.execute_input": "2024-07-14T16:04:37.023988Z",
     "iopub.status.busy": "2024-07-14T16:04:37.023501Z",
     "iopub.status.idle": "2024-07-14T16:04:37.043993Z",
     "shell.execute_reply": "2024-07-14T16:04:37.042651Z"
    },
    "papermill": {
     "duration": 0.047657,
     "end_time": "2024-07-14T16:04:37.047040",
     "exception": false,
     "start_time": "2024-07-14T16:04:36.999383",
     "status": "completed"
    },
    "tags": []
   },
   "outputs": [],
   "source": [
    "updated_host_identity = updated_df.host_identity_verified.fillna('unconfirmed')"
   ]
  },
  {
   "cell_type": "code",
   "execution_count": 18,
   "id": "dba3e32b",
   "metadata": {
    "execution": {
     "iopub.execute_input": "2024-07-14T16:04:37.092215Z",
     "iopub.status.busy": "2024-07-14T16:04:37.091736Z",
     "iopub.status.idle": "2024-07-14T16:04:37.100168Z",
     "shell.execute_reply": "2024-07-14T16:04:37.097755Z"
    },
    "papermill": {
     "duration": 0.034851,
     "end_time": "2024-07-14T16:04:37.103304",
     "exception": false,
     "start_time": "2024-07-14T16:04:37.068453",
     "status": "completed"
    },
    "tags": []
   },
   "outputs": [],
   "source": [
    "updated_df['host_identity_verified'] = updated_host_identity"
   ]
  },
  {
   "cell_type": "code",
   "execution_count": 19,
   "id": "16b74526",
   "metadata": {
    "execution": {
     "iopub.execute_input": "2024-07-14T16:04:37.149989Z",
     "iopub.status.busy": "2024-07-14T16:04:37.149546Z",
     "iopub.status.idle": "2024-07-14T16:04:37.320409Z",
     "shell.execute_reply": "2024-07-14T16:04:37.319010Z"
    },
    "papermill": {
     "duration": 0.197416,
     "end_time": "2024-07-14T16:04:37.323325",
     "exception": false,
     "start_time": "2024-07-14T16:04:37.125909",
     "status": "completed"
    },
    "tags": []
   },
   "outputs": [
    {
     "data": {
      "text/plain": [
       "name                                   0\n",
       "host id                                0\n",
       "host_identity_verified                 0\n",
       "host name                            400\n",
       "neighbourhood group                   27\n",
       "neighbourhood                         16\n",
       "lat                                    8\n",
       "long                                   8\n",
       "country                              527\n",
       "country code                         123\n",
       "instant_bookable                      97\n",
       "cancellation_policy                   71\n",
       "room type                              0\n",
       "Construction year                    205\n",
       "price                                244\n",
       "service fee                          273\n",
       "minimum nights                       403\n",
       "number of reviews                    182\n",
       "last review                        15857\n",
       "reviews per month                  15843\n",
       "review rate number                   318\n",
       "calculated host listings count       318\n",
       "availability 365                     430\n",
       "house_rules                        52025\n",
       "license                           102347\n",
       "dtype: int64"
      ]
     },
     "execution_count": 19,
     "metadata": {},
     "output_type": "execute_result"
    }
   ],
   "source": [
    "updated_df.isna().sum()"
   ]
  },
  {
   "cell_type": "markdown",
   "id": "cc17871a",
   "metadata": {
    "papermill": {
     "duration": 0.022747,
     "end_time": "2024-07-14T16:04:37.369702",
     "exception": false,
     "start_time": "2024-07-14T16:04:37.346955",
     "status": "completed"
    },
    "tags": []
   },
   "source": [
    "**Making all null host_names to unknown**"
   ]
  },
  {
   "cell_type": "code",
   "execution_count": 20,
   "id": "13652fbc",
   "metadata": {
    "execution": {
     "iopub.execute_input": "2024-07-14T16:04:37.416974Z",
     "iopub.status.busy": "2024-07-14T16:04:37.416555Z",
     "iopub.status.idle": "2024-07-14T16:04:37.438076Z",
     "shell.execute_reply": "2024-07-14T16:04:37.436955Z"
    },
    "papermill": {
     "duration": 0.04904,
     "end_time": "2024-07-14T16:04:37.440888",
     "exception": false,
     "start_time": "2024-07-14T16:04:37.391848",
     "status": "completed"
    },
    "tags": []
   },
   "outputs": [],
   "source": [
    "updated_df['host name'] = updated_df['host name'].fillna('unknown')"
   ]
  },
  {
   "cell_type": "code",
   "execution_count": 21,
   "id": "8132c93f",
   "metadata": {
    "execution": {
     "iopub.execute_input": "2024-07-14T16:04:37.486268Z",
     "iopub.status.busy": "2024-07-14T16:04:37.485848Z",
     "iopub.status.idle": "2024-07-14T16:04:37.657263Z",
     "shell.execute_reply": "2024-07-14T16:04:37.655885Z"
    },
    "papermill": {
     "duration": 0.197744,
     "end_time": "2024-07-14T16:04:37.660285",
     "exception": false,
     "start_time": "2024-07-14T16:04:37.462541",
     "status": "completed"
    },
    "tags": []
   },
   "outputs": [
    {
     "data": {
      "text/plain": [
       "name                                   0\n",
       "host id                                0\n",
       "host_identity_verified                 0\n",
       "host name                              0\n",
       "neighbourhood group                   27\n",
       "neighbourhood                         16\n",
       "lat                                    8\n",
       "long                                   8\n",
       "country                              527\n",
       "country code                         123\n",
       "instant_bookable                      97\n",
       "cancellation_policy                   71\n",
       "room type                              0\n",
       "Construction year                    205\n",
       "price                                244\n",
       "service fee                          273\n",
       "minimum nights                       403\n",
       "number of reviews                    182\n",
       "last review                        15857\n",
       "reviews per month                  15843\n",
       "review rate number                   318\n",
       "calculated host listings count       318\n",
       "availability 365                     430\n",
       "house_rules                        52025\n",
       "license                           102347\n",
       "dtype: int64"
      ]
     },
     "execution_count": 21,
     "metadata": {},
     "output_type": "execute_result"
    }
   ],
   "source": [
    "updated_df.isna().sum()"
   ]
  },
  {
   "cell_type": "code",
   "execution_count": 22,
   "id": "59d317e0",
   "metadata": {
    "execution": {
     "iopub.execute_input": "2024-07-14T16:04:37.707838Z",
     "iopub.status.busy": "2024-07-14T16:04:37.706595Z",
     "iopub.status.idle": "2024-07-14T16:04:37.727509Z",
     "shell.execute_reply": "2024-07-14T16:04:37.726417Z"
    },
    "papermill": {
     "duration": 0.047487,
     "end_time": "2024-07-14T16:04:37.730317",
     "exception": false,
     "start_time": "2024-07-14T16:04:37.682830",
     "status": "completed"
    },
    "tags": []
   },
   "outputs": [
    {
     "data": {
      "text/html": [
       "<div>\n",
       "<style scoped>\n",
       "    .dataframe tbody tr th:only-of-type {\n",
       "        vertical-align: middle;\n",
       "    }\n",
       "\n",
       "    .dataframe tbody tr th {\n",
       "        vertical-align: top;\n",
       "    }\n",
       "\n",
       "    .dataframe thead th {\n",
       "        text-align: right;\n",
       "    }\n",
       "</style>\n",
       "<table border=\"1\" class=\"dataframe\">\n",
       "  <thead>\n",
       "    <tr style=\"text-align: right;\">\n",
       "      <th></th>\n",
       "      <th>neighbourhood group</th>\n",
       "      <th>neighbourhood</th>\n",
       "    </tr>\n",
       "    <tr>\n",
       "      <th>id</th>\n",
       "      <th></th>\n",
       "      <th></th>\n",
       "    </tr>\n",
       "  </thead>\n",
       "  <tbody>\n",
       "    <tr>\n",
       "      <th>1001254</th>\n",
       "      <td>Brooklyn</td>\n",
       "      <td>Kensington</td>\n",
       "    </tr>\n",
       "    <tr>\n",
       "      <th>1002102</th>\n",
       "      <td>Manhattan</td>\n",
       "      <td>Midtown</td>\n",
       "    </tr>\n",
       "    <tr>\n",
       "      <th>1002403</th>\n",
       "      <td>Manhattan</td>\n",
       "      <td>Harlem</td>\n",
       "    </tr>\n",
       "    <tr>\n",
       "      <th>1003689</th>\n",
       "      <td>Manhattan</td>\n",
       "      <td>East Harlem</td>\n",
       "    </tr>\n",
       "    <tr>\n",
       "      <th>1004098</th>\n",
       "      <td>Manhattan</td>\n",
       "      <td>Murray Hill</td>\n",
       "    </tr>\n",
       "    <tr>\n",
       "      <th>...</th>\n",
       "      <td>...</td>\n",
       "      <td>...</td>\n",
       "    </tr>\n",
       "    <tr>\n",
       "      <th>6092437</th>\n",
       "      <td>Brooklyn</td>\n",
       "      <td>Williamsburg</td>\n",
       "    </tr>\n",
       "    <tr>\n",
       "      <th>6092990</th>\n",
       "      <td>Manhattan</td>\n",
       "      <td>Morningside Heights</td>\n",
       "    </tr>\n",
       "    <tr>\n",
       "      <th>6093542</th>\n",
       "      <td>Brooklyn</td>\n",
       "      <td>Park Slope</td>\n",
       "    </tr>\n",
       "    <tr>\n",
       "      <th>6094094</th>\n",
       "      <td>Queens</td>\n",
       "      <td>Long Island City</td>\n",
       "    </tr>\n",
       "    <tr>\n",
       "      <th>6094647</th>\n",
       "      <td>Manhattan</td>\n",
       "      <td>Upper West Side</td>\n",
       "    </tr>\n",
       "  </tbody>\n",
       "</table>\n",
       "<p>102349 rows × 2 columns</p>\n",
       "</div>"
      ],
      "text/plain": [
       "        neighbourhood group        neighbourhood\n",
       "id                                              \n",
       "1001254            Brooklyn           Kensington\n",
       "1002102           Manhattan              Midtown\n",
       "1002403           Manhattan               Harlem\n",
       "1003689           Manhattan          East Harlem\n",
       "1004098           Manhattan          Murray Hill\n",
       "...                     ...                  ...\n",
       "6092437            Brooklyn         Williamsburg\n",
       "6092990           Manhattan  Morningside Heights\n",
       "6093542            Brooklyn           Park Slope\n",
       "6094094              Queens     Long Island City\n",
       "6094647           Manhattan      Upper West Side\n",
       "\n",
       "[102349 rows x 2 columns]"
      ]
     },
     "execution_count": 22,
     "metadata": {},
     "output_type": "execute_result"
    }
   ],
   "source": [
    "updated_df.loc[:,'neighbourhood group':'neighbourhood']"
   ]
  },
  {
   "cell_type": "code",
   "execution_count": 23,
   "id": "1a5f2186",
   "metadata": {
    "execution": {
     "iopub.execute_input": "2024-07-14T16:04:37.776531Z",
     "iopub.status.busy": "2024-07-14T16:04:37.776114Z",
     "iopub.status.idle": "2024-07-14T16:04:37.835132Z",
     "shell.execute_reply": "2024-07-14T16:04:37.833970Z"
    },
    "papermill": {
     "duration": 0.085351,
     "end_time": "2024-07-14T16:04:37.837866",
     "exception": false,
     "start_time": "2024-07-14T16:04:37.752515",
     "status": "completed"
    },
    "tags": []
   },
   "outputs": [
    {
     "data": {
      "text/plain": [
       "neighbourhood group  neighbourhood\n",
       "Bronx                Allerton         97\n",
       "                     Baychester       29\n",
       "                     Belmont          45\n",
       "                     Bronxdale        47\n",
       "                     Castle Hill      22\n",
       "                                      ..\n",
       "Staten Island        Westerleigh       5\n",
       "                     Willowbrook       3\n",
       "                     Woodrow           3\n",
       "brookln              South Slope       1\n",
       "manhatan             Chelsea           1\n",
       "Name: name, Length: 226, dtype: int64"
      ]
     },
     "execution_count": 23,
     "metadata": {},
     "output_type": "execute_result"
    }
   ],
   "source": [
    "updated_df.groupby(['neighbourhood group','neighbourhood']).name.count()"
   ]
  },
  {
   "cell_type": "code",
   "execution_count": 24,
   "id": "3bbd93cd",
   "metadata": {
    "execution": {
     "iopub.execute_input": "2024-07-14T16:04:37.885201Z",
     "iopub.status.busy": "2024-07-14T16:04:37.884800Z",
     "iopub.status.idle": "2024-07-14T16:04:37.964467Z",
     "shell.execute_reply": "2024-07-14T16:04:37.962746Z"
    },
    "papermill": {
     "duration": 0.107442,
     "end_time": "2024-07-14T16:04:37.968299",
     "exception": false,
     "start_time": "2024-07-14T16:04:37.860857",
     "status": "completed"
    },
    "tags": []
   },
   "outputs": [
    {
     "data": {
      "text/html": [
       "<div>\n",
       "<style scoped>\n",
       "    .dataframe tbody tr th:only-of-type {\n",
       "        vertical-align: middle;\n",
       "    }\n",
       "\n",
       "    .dataframe tbody tr th {\n",
       "        vertical-align: top;\n",
       "    }\n",
       "\n",
       "    .dataframe thead th {\n",
       "        text-align: right;\n",
       "    }\n",
       "</style>\n",
       "<table border=\"1\" class=\"dataframe\">\n",
       "  <thead>\n",
       "    <tr style=\"text-align: right;\">\n",
       "      <th></th>\n",
       "      <th>name</th>\n",
       "      <th>host id</th>\n",
       "      <th>host_identity_verified</th>\n",
       "      <th>host name</th>\n",
       "      <th>neighbourhood group</th>\n",
       "      <th>neighbourhood</th>\n",
       "      <th>lat</th>\n",
       "      <th>long</th>\n",
       "      <th>country</th>\n",
       "      <th>country code</th>\n",
       "      <th>...</th>\n",
       "      <th>service fee</th>\n",
       "      <th>minimum nights</th>\n",
       "      <th>number of reviews</th>\n",
       "      <th>last review</th>\n",
       "      <th>reviews per month</th>\n",
       "      <th>review rate number</th>\n",
       "      <th>calculated host listings count</th>\n",
       "      <th>availability 365</th>\n",
       "      <th>house_rules</th>\n",
       "      <th>license</th>\n",
       "    </tr>\n",
       "    <tr>\n",
       "      <th>id</th>\n",
       "      <th></th>\n",
       "      <th></th>\n",
       "      <th></th>\n",
       "      <th></th>\n",
       "      <th></th>\n",
       "      <th></th>\n",
       "      <th></th>\n",
       "      <th></th>\n",
       "      <th></th>\n",
       "      <th></th>\n",
       "      <th></th>\n",
       "      <th></th>\n",
       "      <th></th>\n",
       "      <th></th>\n",
       "      <th></th>\n",
       "      <th></th>\n",
       "      <th></th>\n",
       "      <th></th>\n",
       "      <th></th>\n",
       "      <th></th>\n",
       "      <th></th>\n",
       "    </tr>\n",
       "  </thead>\n",
       "  <tbody>\n",
       "    <tr>\n",
       "      <th>1283561</th>\n",
       "      <td>A PRIVATE FLAT / APARTMENT- $SPECIAL$</td>\n",
       "      <td>25554233693</td>\n",
       "      <td>unconfirmed</td>\n",
       "      <td>Alford</td>\n",
       "      <td>Bronx</td>\n",
       "      <td>Allerton</td>\n",
       "      <td>40.86466</td>\n",
       "      <td>-73.85709</td>\n",
       "      <td>United States</td>\n",
       "      <td>US</td>\n",
       "      <td>...</td>\n",
       "      <td>$15</td>\n",
       "      <td>2.0</td>\n",
       "      <td>271.0</td>\n",
       "      <td>6/20/2019</td>\n",
       "      <td>2.84</td>\n",
       "      <td>1.0</td>\n",
       "      <td>2.0</td>\n",
       "      <td>NaN</td>\n",
       "      <td>Please remember that this is a residential bui...</td>\n",
       "      <td>NaN</td>\n",
       "    </tr>\n",
       "    <tr>\n",
       "      <th>1646422</th>\n",
       "      <td>Hi Traveler.. welcome</td>\n",
       "      <td>39562464038</td>\n",
       "      <td>verified</td>\n",
       "      <td>Ellen</td>\n",
       "      <td>Bronx</td>\n",
       "      <td>Allerton</td>\n",
       "      <td>40.86870</td>\n",
       "      <td>-73.85240</td>\n",
       "      <td>United States</td>\n",
       "      <td>US</td>\n",
       "      <td>...</td>\n",
       "      <td>$20</td>\n",
       "      <td>7.0</td>\n",
       "      <td>2.0</td>\n",
       "      <td>7/23/2018</td>\n",
       "      <td>0.17</td>\n",
       "      <td>5.0</td>\n",
       "      <td>1.0</td>\n",
       "      <td>165.0</td>\n",
       "      <td>No Smoking No Pets</td>\n",
       "      <td>NaN</td>\n",
       "    </tr>\n",
       "    <tr>\n",
       "      <th>1873418</th>\n",
       "      <td>2 Beds/Queen &amp; Full Beautiful Room 40 minsT.Sq...</td>\n",
       "      <td>62351131714</td>\n",
       "      <td>unconfirmed</td>\n",
       "      <td>Enrique</td>\n",
       "      <td>Bronx</td>\n",
       "      <td>Allerton</td>\n",
       "      <td>40.85956</td>\n",
       "      <td>-73.87067</td>\n",
       "      <td>United States</td>\n",
       "      <td>US</td>\n",
       "      <td>...</td>\n",
       "      <td>$232</td>\n",
       "      <td>2.0</td>\n",
       "      <td>169.0</td>\n",
       "      <td>6/12/2019</td>\n",
       "      <td>2.07</td>\n",
       "      <td>1.0</td>\n",
       "      <td>4.0</td>\n",
       "      <td>359.0</td>\n",
       "      <td>- No Smoking In the House.  There is a back po...</td>\n",
       "      <td>NaN</td>\n",
       "    </tr>\n",
       "    <tr>\n",
       "      <th>1922020</th>\n",
       "      <td>PRIVATE BATH/TONS OF SUNLIGHT/SAFE</td>\n",
       "      <td>77129391486</td>\n",
       "      <td>unconfirmed</td>\n",
       "      <td>Enrique</td>\n",
       "      <td>Bronx</td>\n",
       "      <td>Allerton</td>\n",
       "      <td>40.85840</td>\n",
       "      <td>-73.86969</td>\n",
       "      <td>United States</td>\n",
       "      <td>US</td>\n",
       "      <td>...</td>\n",
       "      <td>$109</td>\n",
       "      <td>2.0</td>\n",
       "      <td>189.0</td>\n",
       "      <td>6/23/2019</td>\n",
       "      <td>2.32</td>\n",
       "      <td>2.0</td>\n",
       "      <td>4.0</td>\n",
       "      <td>393.0</td>\n",
       "      <td>Quiet hours are from midnight to 6 a.m.  We as...</td>\n",
       "      <td>NaN</td>\n",
       "    </tr>\n",
       "    <tr>\n",
       "      <th>1944112</th>\n",
       "      <td>Nice beautiful room In the Bronx</td>\n",
       "      <td>51589747151</td>\n",
       "      <td>unconfirmed</td>\n",
       "      <td>Enrique</td>\n",
       "      <td>Bronx</td>\n",
       "      <td>Allerton</td>\n",
       "      <td>40.85914</td>\n",
       "      <td>-73.86979</td>\n",
       "      <td>United States</td>\n",
       "      <td>US</td>\n",
       "      <td>...</td>\n",
       "      <td>$192</td>\n",
       "      <td>1.0</td>\n",
       "      <td>187.0</td>\n",
       "      <td>6/23/2019</td>\n",
       "      <td>2.34</td>\n",
       "      <td>4.0</td>\n",
       "      <td>4.0</td>\n",
       "      <td>313.0</td>\n",
       "      <td>NaN</td>\n",
       "      <td>NaN</td>\n",
       "    </tr>\n",
       "    <tr>\n",
       "      <th>...</th>\n",
       "      <td>...</td>\n",
       "      <td>...</td>\n",
       "      <td>...</td>\n",
       "      <td>...</td>\n",
       "      <td>...</td>\n",
       "      <td>...</td>\n",
       "      <td>...</td>\n",
       "      <td>...</td>\n",
       "      <td>...</td>\n",
       "      <td>...</td>\n",
       "      <td>...</td>\n",
       "      <td>...</td>\n",
       "      <td>...</td>\n",
       "      <td>...</td>\n",
       "      <td>...</td>\n",
       "      <td>...</td>\n",
       "      <td>...</td>\n",
       "      <td>...</td>\n",
       "      <td>...</td>\n",
       "      <td>...</td>\n",
       "      <td>...</td>\n",
       "    </tr>\n",
       "    <tr>\n",
       "      <th>54298838</th>\n",
       "      <td>#ERROR!</td>\n",
       "      <td>41841353089</td>\n",
       "      <td>verified</td>\n",
       "      <td>William</td>\n",
       "      <td>Bronx</td>\n",
       "      <td>Allerton</td>\n",
       "      <td>40.86014</td>\n",
       "      <td>-73.86301</td>\n",
       "      <td>United States</td>\n",
       "      <td>US</td>\n",
       "      <td>...</td>\n",
       "      <td>$173</td>\n",
       "      <td>1.0</td>\n",
       "      <td>30.0</td>\n",
       "      <td>7/2/2019</td>\n",
       "      <td>2.56</td>\n",
       "      <td>4.0</td>\n",
       "      <td>5.0</td>\n",
       "      <td>48.0</td>\n",
       "      <td>The apartment is non-smoking and pets are not ...</td>\n",
       "      <td>NaN</td>\n",
       "    </tr>\n",
       "    <tr>\n",
       "      <th>54299943</th>\n",
       "      <td>❤️ Beautiful, Bright Room - Late Self Check-In...</td>\n",
       "      <td>14682176495</td>\n",
       "      <td>unconfirmed</td>\n",
       "      <td>William</td>\n",
       "      <td>Bronx</td>\n",
       "      <td>Allerton</td>\n",
       "      <td>40.86013</td>\n",
       "      <td>-73.86339</td>\n",
       "      <td>United States</td>\n",
       "      <td>US</td>\n",
       "      <td>...</td>\n",
       "      <td>$115</td>\n",
       "      <td>1.0</td>\n",
       "      <td>30.0</td>\n",
       "      <td>7/2/2019</td>\n",
       "      <td>2.56</td>\n",
       "      <td>2.0</td>\n",
       "      <td>5.0</td>\n",
       "      <td>57.0</td>\n",
       "      <td>NaN</td>\n",
       "      <td>NaN</td>\n",
       "    </tr>\n",
       "    <tr>\n",
       "      <th>54394386</th>\n",
       "      <td>Private Room</td>\n",
       "      <td>56063277482</td>\n",
       "      <td>verified</td>\n",
       "      <td>Momo</td>\n",
       "      <td>Bronx</td>\n",
       "      <td>Allerton</td>\n",
       "      <td>40.86659</td>\n",
       "      <td>-73.86600</td>\n",
       "      <td>United States</td>\n",
       "      <td>US</td>\n",
       "      <td>...</td>\n",
       "      <td>$17</td>\n",
       "      <td>2.0</td>\n",
       "      <td>0.0</td>\n",
       "      <td>NaN</td>\n",
       "      <td>NaN</td>\n",
       "      <td>3.0</td>\n",
       "      <td>1.0</td>\n",
       "      <td>0.0</td>\n",
       "      <td>Please remember that this is a residential bui...</td>\n",
       "      <td>NaN</td>\n",
       "    </tr>\n",
       "    <tr>\n",
       "      <th>54797565</th>\n",
       "      <td>Jay's Studio Apartment</td>\n",
       "      <td>78419675640</td>\n",
       "      <td>unconfirmed</td>\n",
       "      <td>Jehan</td>\n",
       "      <td>Bronx</td>\n",
       "      <td>Allerton</td>\n",
       "      <td>40.87015</td>\n",
       "      <td>-73.85582</td>\n",
       "      <td>United States</td>\n",
       "      <td>US</td>\n",
       "      <td>...</td>\n",
       "      <td>$208</td>\n",
       "      <td>4.0</td>\n",
       "      <td>35.0</td>\n",
       "      <td>7/1/2019</td>\n",
       "      <td>3.13</td>\n",
       "      <td>4.0</td>\n",
       "      <td>1.0</td>\n",
       "      <td>169.0</td>\n",
       "      <td>#NAME?</td>\n",
       "      <td>NaN</td>\n",
       "    </tr>\n",
       "    <tr>\n",
       "      <th>35567584</th>\n",
       "      <td>Hiéroglyphe</td>\n",
       "      <td>97219387634</td>\n",
       "      <td>verified</td>\n",
       "      <td>Yero</td>\n",
       "      <td>Bronx</td>\n",
       "      <td>Allerton</td>\n",
       "      <td>40.86754</td>\n",
       "      <td>-73.85472</td>\n",
       "      <td>United States</td>\n",
       "      <td>US</td>\n",
       "      <td>...</td>\n",
       "      <td>$129</td>\n",
       "      <td>30.0</td>\n",
       "      <td>76.0</td>\n",
       "      <td>11/7/2021</td>\n",
       "      <td>1.64</td>\n",
       "      <td>2.0</td>\n",
       "      <td>1.0</td>\n",
       "      <td>82.0</td>\n",
       "      <td>NaN</td>\n",
       "      <td>NaN</td>\n",
       "    </tr>\n",
       "  </tbody>\n",
       "</table>\n",
       "<p>97 rows × 25 columns</p>\n",
       "</div>"
      ],
      "text/plain": [
       "                                                       name      host id  \\\n",
       "id                                                                         \n",
       "1283561               A PRIVATE FLAT / APARTMENT- $SPECIAL$  25554233693   \n",
       "1646422                               Hi Traveler.. welcome  39562464038   \n",
       "1873418   2 Beds/Queen & Full Beautiful Room 40 minsT.Sq...  62351131714   \n",
       "1922020                  PRIVATE BATH/TONS OF SUNLIGHT/SAFE  77129391486   \n",
       "1944112                    Nice beautiful room In the Bronx  51589747151   \n",
       "...                                                     ...          ...   \n",
       "54298838                                            #ERROR!  41841353089   \n",
       "54299943  ❤️ Beautiful, Bright Room - Late Self Check-In...  14682176495   \n",
       "54394386                                       Private Room  56063277482   \n",
       "54797565                             Jay's Studio Apartment  78419675640   \n",
       "35567584                                        Hiéroglyphe  97219387634   \n",
       "\n",
       "         host_identity_verified host name neighbourhood group neighbourhood  \\\n",
       "id                                                                            \n",
       "1283561             unconfirmed    Alford               Bronx      Allerton   \n",
       "1646422                verified     Ellen               Bronx      Allerton   \n",
       "1873418             unconfirmed   Enrique               Bronx      Allerton   \n",
       "1922020             unconfirmed   Enrique               Bronx      Allerton   \n",
       "1944112             unconfirmed   Enrique               Bronx      Allerton   \n",
       "...                         ...       ...                 ...           ...   \n",
       "54298838               verified   William               Bronx      Allerton   \n",
       "54299943            unconfirmed   William               Bronx      Allerton   \n",
       "54394386               verified      Momo               Bronx      Allerton   \n",
       "54797565            unconfirmed     Jehan               Bronx      Allerton   \n",
       "35567584               verified      Yero               Bronx      Allerton   \n",
       "\n",
       "               lat      long        country country code  ... service fee  \\\n",
       "id                                                        ...               \n",
       "1283561   40.86466 -73.85709  United States           US  ...        $15    \n",
       "1646422   40.86870 -73.85240  United States           US  ...        $20    \n",
       "1873418   40.85956 -73.87067  United States           US  ...       $232    \n",
       "1922020   40.85840 -73.86969  United States           US  ...       $109    \n",
       "1944112   40.85914 -73.86979  United States           US  ...       $192    \n",
       "...            ...       ...            ...          ...  ...         ...   \n",
       "54298838  40.86014 -73.86301  United States           US  ...       $173    \n",
       "54299943  40.86013 -73.86339  United States           US  ...       $115    \n",
       "54394386  40.86659 -73.86600  United States           US  ...        $17    \n",
       "54797565  40.87015 -73.85582  United States           US  ...       $208    \n",
       "35567584  40.86754 -73.85472  United States           US  ...       $129    \n",
       "\n",
       "         minimum nights number of reviews  last review reviews per month  \\\n",
       "id                                                                         \n",
       "1283561             2.0             271.0    6/20/2019              2.84   \n",
       "1646422             7.0               2.0    7/23/2018              0.17   \n",
       "1873418             2.0             169.0    6/12/2019              2.07   \n",
       "1922020             2.0             189.0    6/23/2019              2.32   \n",
       "1944112             1.0             187.0    6/23/2019              2.34   \n",
       "...                 ...               ...          ...               ...   \n",
       "54298838            1.0              30.0     7/2/2019              2.56   \n",
       "54299943            1.0              30.0     7/2/2019              2.56   \n",
       "54394386            2.0               0.0          NaN               NaN   \n",
       "54797565            4.0              35.0     7/1/2019              3.13   \n",
       "35567584           30.0              76.0    11/7/2021              1.64   \n",
       "\n",
       "         review rate number  calculated host listings count  availability 365  \\\n",
       "id                                                                              \n",
       "1283561                 1.0                             2.0               NaN   \n",
       "1646422                 5.0                             1.0             165.0   \n",
       "1873418                 1.0                             4.0             359.0   \n",
       "1922020                 2.0                             4.0             393.0   \n",
       "1944112                 4.0                             4.0             313.0   \n",
       "...                     ...                             ...               ...   \n",
       "54298838                4.0                             5.0              48.0   \n",
       "54299943                2.0                             5.0              57.0   \n",
       "54394386                3.0                             1.0               0.0   \n",
       "54797565                4.0                             1.0             169.0   \n",
       "35567584                2.0                             1.0              82.0   \n",
       "\n",
       "                                                house_rules  license  \n",
       "id                                                                    \n",
       "1283561   Please remember that this is a residential bui...      NaN  \n",
       "1646422                                  No Smoking No Pets      NaN  \n",
       "1873418   - No Smoking In the House.  There is a back po...      NaN  \n",
       "1922020   Quiet hours are from midnight to 6 a.m.  We as...      NaN  \n",
       "1944112                                                 NaN      NaN  \n",
       "...                                                     ...      ...  \n",
       "54298838  The apartment is non-smoking and pets are not ...      NaN  \n",
       "54299943                                                NaN      NaN  \n",
       "54394386  Please remember that this is a residential bui...      NaN  \n",
       "54797565                                             #NAME?      NaN  \n",
       "35567584                                                NaN      NaN  \n",
       "\n",
       "[97 rows x 25 columns]"
      ]
     },
     "execution_count": 24,
     "metadata": {},
     "output_type": "execute_result"
    }
   ],
   "source": [
    "updated_df.loc[(updated_df['neighbourhood group'] == 'Bronx') & (updated_df['neighbourhood'] == 'Allerton')]"
   ]
  },
  {
   "cell_type": "markdown",
   "id": "51cdcffb",
   "metadata": {
    "papermill": {
     "duration": 0.02858,
     "end_time": "2024-07-14T16:04:38.021336",
     "exception": false,
     "start_time": "2024-07-14T16:04:37.992756",
     "status": "completed"
    },
    "tags": []
   },
   "source": [
    "**We are combining both neighbourhood group and neighbourhood to make a single column area**"
   ]
  },
  {
   "cell_type": "code",
   "execution_count": 25,
   "id": "6b05b4be",
   "metadata": {
    "execution": {
     "iopub.execute_input": "2024-07-14T16:04:38.073737Z",
     "iopub.status.busy": "2024-07-14T16:04:38.073089Z",
     "iopub.status.idle": "2024-07-14T16:04:38.146110Z",
     "shell.execute_reply": "2024-07-14T16:04:38.144617Z"
    },
    "papermill": {
     "duration": 0.101951,
     "end_time": "2024-07-14T16:04:38.149115",
     "exception": false,
     "start_time": "2024-07-14T16:04:38.047164",
     "status": "completed"
    },
    "tags": []
   },
   "outputs": [],
   "source": [
    "updated_df['area'] = updated_df['neighbourhood group'] + ' '+ updated_df['neighbourhood']"
   ]
  },
  {
   "cell_type": "markdown",
   "id": "a00a95a3",
   "metadata": {
    "papermill": {
     "duration": 0.025581,
     "end_time": "2024-07-14T16:04:38.199797",
     "exception": false,
     "start_time": "2024-07-14T16:04:38.174216",
     "status": "completed"
    },
    "tags": []
   },
   "source": [
    "**now we can drop neighbourhood group and neighbourhood and lat and long as well since location is already there and they don't add more value**"
   ]
  },
  {
   "cell_type": "code",
   "execution_count": 26,
   "id": "9b117cb7",
   "metadata": {
    "execution": {
     "iopub.execute_input": "2024-07-14T16:04:38.253187Z",
     "iopub.status.busy": "2024-07-14T16:04:38.252706Z",
     "iopub.status.idle": "2024-07-14T16:04:38.293810Z",
     "shell.execute_reply": "2024-07-14T16:04:38.292039Z"
    },
    "papermill": {
     "duration": 0.073146,
     "end_time": "2024-07-14T16:04:38.297939",
     "exception": false,
     "start_time": "2024-07-14T16:04:38.224793",
     "status": "completed"
    },
    "tags": []
   },
   "outputs": [],
   "source": [
    "updated_df.drop(columns = ['neighbourhood group','neighbourhood','lat','long'],inplace = True)"
   ]
  },
  {
   "cell_type": "code",
   "execution_count": 27,
   "id": "f31a80c7",
   "metadata": {
    "execution": {
     "iopub.execute_input": "2024-07-14T16:04:38.354016Z",
     "iopub.status.busy": "2024-07-14T16:04:38.352876Z",
     "iopub.status.idle": "2024-07-14T16:04:38.516819Z",
     "shell.execute_reply": "2024-07-14T16:04:38.515541Z"
    },
    "papermill": {
     "duration": 0.195092,
     "end_time": "2024-07-14T16:04:38.519948",
     "exception": false,
     "start_time": "2024-07-14T16:04:38.324856",
     "status": "completed"
    },
    "tags": []
   },
   "outputs": [
    {
     "data": {
      "text/plain": [
       "name                                   0\n",
       "host id                                0\n",
       "host_identity_verified                 0\n",
       "host name                              0\n",
       "country                              527\n",
       "country code                         123\n",
       "instant_bookable                      97\n",
       "cancellation_policy                   71\n",
       "room type                              0\n",
       "Construction year                    205\n",
       "price                                244\n",
       "service fee                          273\n",
       "minimum nights                       403\n",
       "number of reviews                    182\n",
       "last review                        15857\n",
       "reviews per month                  15843\n",
       "review rate number                   318\n",
       "calculated host listings count       318\n",
       "availability 365                     430\n",
       "house_rules                        52025\n",
       "license                           102347\n",
       "area                                  43\n",
       "dtype: int64"
      ]
     },
     "execution_count": 27,
     "metadata": {},
     "output_type": "execute_result"
    }
   ],
   "source": [
    "updated_df.isna().sum()"
   ]
  },
  {
   "cell_type": "code",
   "execution_count": 28,
   "id": "190a8020",
   "metadata": {
    "execution": {
     "iopub.execute_input": "2024-07-14T16:04:38.576477Z",
     "iopub.status.busy": "2024-07-14T16:04:38.576037Z",
     "iopub.status.idle": "2024-07-14T16:04:38.593997Z",
     "shell.execute_reply": "2024-07-14T16:04:38.592737Z"
    },
    "papermill": {
     "duration": 0.052155,
     "end_time": "2024-07-14T16:04:38.596779",
     "exception": false,
     "start_time": "2024-07-14T16:04:38.544624",
     "status": "completed"
    },
    "tags": []
   },
   "outputs": [
    {
     "data": {
      "text/html": [
       "<div>\n",
       "<style scoped>\n",
       "    .dataframe tbody tr th:only-of-type {\n",
       "        vertical-align: middle;\n",
       "    }\n",
       "\n",
       "    .dataframe tbody tr th {\n",
       "        vertical-align: top;\n",
       "    }\n",
       "\n",
       "    .dataframe thead th {\n",
       "        text-align: right;\n",
       "    }\n",
       "</style>\n",
       "<table border=\"1\" class=\"dataframe\">\n",
       "  <thead>\n",
       "    <tr style=\"text-align: right;\">\n",
       "      <th></th>\n",
       "      <th>country</th>\n",
       "      <th>country code</th>\n",
       "    </tr>\n",
       "    <tr>\n",
       "      <th>id</th>\n",
       "      <th></th>\n",
       "      <th></th>\n",
       "    </tr>\n",
       "  </thead>\n",
       "  <tbody>\n",
       "    <tr>\n",
       "      <th>1001254</th>\n",
       "      <td>United States</td>\n",
       "      <td>US</td>\n",
       "    </tr>\n",
       "    <tr>\n",
       "      <th>1002102</th>\n",
       "      <td>United States</td>\n",
       "      <td>US</td>\n",
       "    </tr>\n",
       "    <tr>\n",
       "      <th>1002403</th>\n",
       "      <td>United States</td>\n",
       "      <td>US</td>\n",
       "    </tr>\n",
       "    <tr>\n",
       "      <th>1003689</th>\n",
       "      <td>United States</td>\n",
       "      <td>US</td>\n",
       "    </tr>\n",
       "    <tr>\n",
       "      <th>1004098</th>\n",
       "      <td>United States</td>\n",
       "      <td>US</td>\n",
       "    </tr>\n",
       "    <tr>\n",
       "      <th>...</th>\n",
       "      <td>...</td>\n",
       "      <td>...</td>\n",
       "    </tr>\n",
       "    <tr>\n",
       "      <th>6092437</th>\n",
       "      <td>United States</td>\n",
       "      <td>US</td>\n",
       "    </tr>\n",
       "    <tr>\n",
       "      <th>6092990</th>\n",
       "      <td>United States</td>\n",
       "      <td>US</td>\n",
       "    </tr>\n",
       "    <tr>\n",
       "      <th>6093542</th>\n",
       "      <td>United States</td>\n",
       "      <td>US</td>\n",
       "    </tr>\n",
       "    <tr>\n",
       "      <th>6094094</th>\n",
       "      <td>United States</td>\n",
       "      <td>US</td>\n",
       "    </tr>\n",
       "    <tr>\n",
       "      <th>6094647</th>\n",
       "      <td>United States</td>\n",
       "      <td>US</td>\n",
       "    </tr>\n",
       "  </tbody>\n",
       "</table>\n",
       "<p>102349 rows × 2 columns</p>\n",
       "</div>"
      ],
      "text/plain": [
       "               country country code\n",
       "id                                 \n",
       "1001254  United States           US\n",
       "1002102  United States           US\n",
       "1002403  United States           US\n",
       "1003689  United States           US\n",
       "1004098  United States           US\n",
       "...                ...          ...\n",
       "6092437  United States           US\n",
       "6092990  United States           US\n",
       "6093542  United States           US\n",
       "6094094  United States           US\n",
       "6094647  United States           US\n",
       "\n",
       "[102349 rows x 2 columns]"
      ]
     },
     "execution_count": 28,
     "metadata": {},
     "output_type": "execute_result"
    }
   ],
   "source": [
    "updated_df.loc[:,'country':'country code']"
   ]
  },
  {
   "cell_type": "code",
   "execution_count": 29,
   "id": "a169f004",
   "metadata": {
    "execution": {
     "iopub.execute_input": "2024-07-14T16:04:38.650148Z",
     "iopub.status.busy": "2024-07-14T16:04:38.649710Z",
     "iopub.status.idle": "2024-07-14T16:04:38.665268Z",
     "shell.execute_reply": "2024-07-14T16:04:38.662944Z"
    },
    "papermill": {
     "duration": 0.050386,
     "end_time": "2024-07-14T16:04:38.671134",
     "exception": false,
     "start_time": "2024-07-14T16:04:38.620748",
     "status": "completed"
    },
    "tags": []
   },
   "outputs": [
    {
     "data": {
      "text/plain": [
       "array(['United States', nan], dtype=object)"
      ]
     },
     "execution_count": 29,
     "metadata": {},
     "output_type": "execute_result"
    }
   ],
   "source": [
    "updated_df.country.unique()"
   ]
  },
  {
   "cell_type": "markdown",
   "id": "1c085d4a",
   "metadata": {
    "papermill": {
     "duration": 0.032066,
     "end_time": "2024-07-14T16:04:38.744263",
     "exception": false,
     "start_time": "2024-07-14T16:04:38.712197",
     "status": "completed"
    },
    "tags": []
   },
   "source": [
    "**whole dataset have only 1 country and 1 countrycode so we can drop both of them**"
   ]
  },
  {
   "cell_type": "code",
   "execution_count": 30,
   "id": "7e522a36",
   "metadata": {
    "execution": {
     "iopub.execute_input": "2024-07-14T16:04:38.802915Z",
     "iopub.status.busy": "2024-07-14T16:04:38.802465Z",
     "iopub.status.idle": "2024-07-14T16:04:38.836875Z",
     "shell.execute_reply": "2024-07-14T16:04:38.835730Z"
    },
    "papermill": {
     "duration": 0.064598,
     "end_time": "2024-07-14T16:04:38.840161",
     "exception": false,
     "start_time": "2024-07-14T16:04:38.775563",
     "status": "completed"
    },
    "tags": []
   },
   "outputs": [],
   "source": [
    "updated_df.drop(columns = ['country','country code'],inplace = True)"
   ]
  },
  {
   "cell_type": "code",
   "execution_count": 31,
   "id": "f5c31281",
   "metadata": {
    "execution": {
     "iopub.execute_input": "2024-07-14T16:04:38.890815Z",
     "iopub.status.busy": "2024-07-14T16:04:38.890349Z",
     "iopub.status.idle": "2024-07-14T16:04:39.028676Z",
     "shell.execute_reply": "2024-07-14T16:04:39.027451Z"
    },
    "papermill": {
     "duration": 0.16749,
     "end_time": "2024-07-14T16:04:39.031613",
     "exception": false,
     "start_time": "2024-07-14T16:04:38.864123",
     "status": "completed"
    },
    "tags": []
   },
   "outputs": [
    {
     "data": {
      "text/plain": [
       "name                                   0\n",
       "host id                                0\n",
       "host_identity_verified                 0\n",
       "host name                              0\n",
       "instant_bookable                      97\n",
       "cancellation_policy                   71\n",
       "room type                              0\n",
       "Construction year                    205\n",
       "price                                244\n",
       "service fee                          273\n",
       "minimum nights                       403\n",
       "number of reviews                    182\n",
       "last review                        15857\n",
       "reviews per month                  15843\n",
       "review rate number                   318\n",
       "calculated host listings count       318\n",
       "availability 365                     430\n",
       "house_rules                        52025\n",
       "license                           102347\n",
       "area                                  43\n",
       "dtype: int64"
      ]
     },
     "execution_count": 31,
     "metadata": {},
     "output_type": "execute_result"
    }
   ],
   "source": [
    "updated_df.isna().sum()"
   ]
  },
  {
   "cell_type": "code",
   "execution_count": 32,
   "id": "d5f99f6a",
   "metadata": {
    "execution": {
     "iopub.execute_input": "2024-07-14T16:04:39.082546Z",
     "iopub.status.busy": "2024-07-14T16:04:39.082101Z",
     "iopub.status.idle": "2024-07-14T16:04:39.095438Z",
     "shell.execute_reply": "2024-07-14T16:04:39.094279Z"
    },
    "papermill": {
     "duration": 0.042331,
     "end_time": "2024-07-14T16:04:39.098192",
     "exception": false,
     "start_time": "2024-07-14T16:04:39.055861",
     "status": "completed"
    },
    "tags": []
   },
   "outputs": [
    {
     "data": {
      "text/plain": [
       "array([False, True, nan], dtype=object)"
      ]
     },
     "execution_count": 32,
     "metadata": {},
     "output_type": "execute_result"
    }
   ],
   "source": [
    "updated_df['instant_bookable'].unique()"
   ]
  },
  {
   "cell_type": "markdown",
   "id": "ee1a6e2e",
   "metadata": {
    "papermill": {
     "duration": 0.025568,
     "end_time": "2024-07-14T16:04:39.148164",
     "exception": false,
     "start_time": "2024-07-14T16:04:39.122596",
     "status": "completed"
    },
    "tags": []
   },
   "source": [
    "**we will assign true or false based on the mode(of instant_bookable) of that area**"
   ]
  },
  {
   "cell_type": "code",
   "execution_count": 33,
   "id": "360ef2d6",
   "metadata": {
    "execution": {
     "iopub.execute_input": "2024-07-14T16:04:39.201326Z",
     "iopub.status.busy": "2024-07-14T16:04:39.200755Z",
     "iopub.status.idle": "2024-07-14T16:04:39.231112Z",
     "shell.execute_reply": "2024-07-14T16:04:39.229653Z"
    },
    "papermill": {
     "duration": 0.061045,
     "end_time": "2024-07-14T16:04:39.234569",
     "exception": false,
     "start_time": "2024-07-14T16:04:39.173524",
     "status": "completed"
    },
    "tags": []
   },
   "outputs": [
    {
     "data": {
      "text/plain": [
       "True"
      ]
     },
     "execution_count": 33,
     "metadata": {},
     "output_type": "execute_result"
    }
   ],
   "source": [
    "updated_df.loc[(updated_df['area'] == 'Brooklyn Kensington'),'instant_bookable'].mode()[0]"
   ]
  },
  {
   "cell_type": "code",
   "execution_count": 34,
   "id": "d84acdd6",
   "metadata": {
    "execution": {
     "iopub.execute_input": "2024-07-14T16:04:39.289012Z",
     "iopub.status.busy": "2024-07-14T16:04:39.288534Z",
     "iopub.status.idle": "2024-07-14T16:04:39.295747Z",
     "shell.execute_reply": "2024-07-14T16:04:39.294352Z"
    },
    "papermill": {
     "duration": 0.038512,
     "end_time": "2024-07-14T16:04:39.298579",
     "exception": false,
     "start_time": "2024-07-14T16:04:39.260067",
     "status": "completed"
    },
    "tags": []
   },
   "outputs": [],
   "source": [
    "def update_instant_bookable(x):\n",
    "    if pd.isna(x.instant_bookable):\n",
    "        m = updated_df.loc[(updated_df['area'] == x.area),'instant_bookable'].mode()\n",
    "        if len(m) == 0:\n",
    "            x['instant_bookable'] = 'False'\n",
    "        else:\n",
    "            x['instant_bookable'] = m[0]\n",
    "    return x"
   ]
  },
  {
   "cell_type": "code",
   "execution_count": 35,
   "id": "0e08de88",
   "metadata": {
    "execution": {
     "iopub.execute_input": "2024-07-14T16:04:39.351913Z",
     "iopub.status.busy": "2024-07-14T16:04:39.350564Z",
     "iopub.status.idle": "2024-07-14T16:04:49.568648Z",
     "shell.execute_reply": "2024-07-14T16:04:49.567097Z"
    },
    "papermill": {
     "duration": 10.247864,
     "end_time": "2024-07-14T16:04:49.571869",
     "exception": false,
     "start_time": "2024-07-14T16:04:39.324005",
     "status": "completed"
    },
    "tags": []
   },
   "outputs": [],
   "source": [
    "updated_df = updated_df.apply(update_instant_bookable,axis = 1)\n",
    "#updated_df.apply(update_instant_bookable,axis = 1)"
   ]
  },
  {
   "cell_type": "code",
   "execution_count": 36,
   "id": "c0f17be4",
   "metadata": {
    "execution": {
     "iopub.execute_input": "2024-07-14T16:04:49.623088Z",
     "iopub.status.busy": "2024-07-14T16:04:49.622545Z",
     "iopub.status.idle": "2024-07-14T16:04:49.661950Z",
     "shell.execute_reply": "2024-07-14T16:04:49.660776Z"
    },
    "papermill": {
     "duration": 0.068115,
     "end_time": "2024-07-14T16:04:49.664546",
     "exception": false,
     "start_time": "2024-07-14T16:04:49.596431",
     "status": "completed"
    },
    "tags": []
   },
   "outputs": [
    {
     "data": {
      "text/html": [
       "<div>\n",
       "<style scoped>\n",
       "    .dataframe tbody tr th:only-of-type {\n",
       "        vertical-align: middle;\n",
       "    }\n",
       "\n",
       "    .dataframe tbody tr th {\n",
       "        vertical-align: top;\n",
       "    }\n",
       "\n",
       "    .dataframe thead th {\n",
       "        text-align: right;\n",
       "    }\n",
       "</style>\n",
       "<table border=\"1\" class=\"dataframe\">\n",
       "  <thead>\n",
       "    <tr style=\"text-align: right;\">\n",
       "      <th></th>\n",
       "      <th>name</th>\n",
       "      <th>host id</th>\n",
       "      <th>host_identity_verified</th>\n",
       "      <th>host name</th>\n",
       "      <th>instant_bookable</th>\n",
       "      <th>cancellation_policy</th>\n",
       "      <th>room type</th>\n",
       "      <th>Construction year</th>\n",
       "      <th>price</th>\n",
       "      <th>service fee</th>\n",
       "      <th>minimum nights</th>\n",
       "      <th>number of reviews</th>\n",
       "      <th>last review</th>\n",
       "      <th>reviews per month</th>\n",
       "      <th>review rate number</th>\n",
       "      <th>calculated host listings count</th>\n",
       "      <th>availability 365</th>\n",
       "      <th>house_rules</th>\n",
       "      <th>license</th>\n",
       "      <th>area</th>\n",
       "    </tr>\n",
       "    <tr>\n",
       "      <th>id</th>\n",
       "      <th></th>\n",
       "      <th></th>\n",
       "      <th></th>\n",
       "      <th></th>\n",
       "      <th></th>\n",
       "      <th></th>\n",
       "      <th></th>\n",
       "      <th></th>\n",
       "      <th></th>\n",
       "      <th></th>\n",
       "      <th></th>\n",
       "      <th></th>\n",
       "      <th></th>\n",
       "      <th></th>\n",
       "      <th></th>\n",
       "      <th></th>\n",
       "      <th></th>\n",
       "      <th></th>\n",
       "      <th></th>\n",
       "      <th></th>\n",
       "    </tr>\n",
       "  </thead>\n",
       "  <tbody>\n",
       "    <tr>\n",
       "      <th>1001254</th>\n",
       "      <td>Clean &amp; quiet apt home by the park</td>\n",
       "      <td>80014485718</td>\n",
       "      <td>unconfirmed</td>\n",
       "      <td>Madaline</td>\n",
       "      <td>False</td>\n",
       "      <td>strict</td>\n",
       "      <td>Private room</td>\n",
       "      <td>2020.0</td>\n",
       "      <td>$966</td>\n",
       "      <td>$193</td>\n",
       "      <td>10.0</td>\n",
       "      <td>9.0</td>\n",
       "      <td>10/19/2021</td>\n",
       "      <td>0.21</td>\n",
       "      <td>4.0</td>\n",
       "      <td>6.0</td>\n",
       "      <td>286.0</td>\n",
       "      <td>Clean up and treat the home the way you'd like...</td>\n",
       "      <td>NaN</td>\n",
       "      <td>Brooklyn Kensington</td>\n",
       "    </tr>\n",
       "    <tr>\n",
       "      <th>1002102</th>\n",
       "      <td>Skylit Midtown Castle</td>\n",
       "      <td>52335172823</td>\n",
       "      <td>verified</td>\n",
       "      <td>Jenna</td>\n",
       "      <td>False</td>\n",
       "      <td>moderate</td>\n",
       "      <td>Entire home/apt</td>\n",
       "      <td>2007.0</td>\n",
       "      <td>$142</td>\n",
       "      <td>$28</td>\n",
       "      <td>30.0</td>\n",
       "      <td>45.0</td>\n",
       "      <td>5/21/2022</td>\n",
       "      <td>0.38</td>\n",
       "      <td>4.0</td>\n",
       "      <td>2.0</td>\n",
       "      <td>228.0</td>\n",
       "      <td>Pet friendly but please confirm with me if the...</td>\n",
       "      <td>NaN</td>\n",
       "      <td>Manhattan Midtown</td>\n",
       "    </tr>\n",
       "    <tr>\n",
       "      <th>1002403</th>\n",
       "      <td>THE VILLAGE OF HARLEM....NEW YORK !</td>\n",
       "      <td>78829239556</td>\n",
       "      <td>unconfirmed</td>\n",
       "      <td>Elise</td>\n",
       "      <td>True</td>\n",
       "      <td>flexible</td>\n",
       "      <td>Private room</td>\n",
       "      <td>2005.0</td>\n",
       "      <td>$620</td>\n",
       "      <td>$124</td>\n",
       "      <td>3.0</td>\n",
       "      <td>0.0</td>\n",
       "      <td>NaN</td>\n",
       "      <td>NaN</td>\n",
       "      <td>5.0</td>\n",
       "      <td>1.0</td>\n",
       "      <td>352.0</td>\n",
       "      <td>I encourage you to use my kitchen, cooking and...</td>\n",
       "      <td>NaN</td>\n",
       "      <td>Manhattan Harlem</td>\n",
       "    </tr>\n",
       "    <tr>\n",
       "      <th>1003689</th>\n",
       "      <td>Entire Apt: Spacious Studio/Loft by central park</td>\n",
       "      <td>92037596077</td>\n",
       "      <td>verified</td>\n",
       "      <td>Lyndon</td>\n",
       "      <td>False</td>\n",
       "      <td>moderate</td>\n",
       "      <td>Entire home/apt</td>\n",
       "      <td>2009.0</td>\n",
       "      <td>$204</td>\n",
       "      <td>$41</td>\n",
       "      <td>10.0</td>\n",
       "      <td>9.0</td>\n",
       "      <td>11/19/2018</td>\n",
       "      <td>0.10</td>\n",
       "      <td>3.0</td>\n",
       "      <td>1.0</td>\n",
       "      <td>289.0</td>\n",
       "      <td>Please no smoking in the house, porch or on th...</td>\n",
       "      <td>NaN</td>\n",
       "      <td>Manhattan East Harlem</td>\n",
       "    </tr>\n",
       "    <tr>\n",
       "      <th>1004098</th>\n",
       "      <td>Large Cozy 1 BR Apartment In Midtown East</td>\n",
       "      <td>45498551794</td>\n",
       "      <td>verified</td>\n",
       "      <td>Michelle</td>\n",
       "      <td>True</td>\n",
       "      <td>flexible</td>\n",
       "      <td>Entire home/apt</td>\n",
       "      <td>2013.0</td>\n",
       "      <td>$577</td>\n",
       "      <td>$115</td>\n",
       "      <td>3.0</td>\n",
       "      <td>74.0</td>\n",
       "      <td>6/22/2019</td>\n",
       "      <td>0.59</td>\n",
       "      <td>3.0</td>\n",
       "      <td>1.0</td>\n",
       "      <td>374.0</td>\n",
       "      <td>No smoking, please, and no drugs.</td>\n",
       "      <td>NaN</td>\n",
       "      <td>Manhattan Murray Hill</td>\n",
       "    </tr>\n",
       "    <tr>\n",
       "      <th>...</th>\n",
       "      <td>...</td>\n",
       "      <td>...</td>\n",
       "      <td>...</td>\n",
       "      <td>...</td>\n",
       "      <td>...</td>\n",
       "      <td>...</td>\n",
       "      <td>...</td>\n",
       "      <td>...</td>\n",
       "      <td>...</td>\n",
       "      <td>...</td>\n",
       "      <td>...</td>\n",
       "      <td>...</td>\n",
       "      <td>...</td>\n",
       "      <td>...</td>\n",
       "      <td>...</td>\n",
       "      <td>...</td>\n",
       "      <td>...</td>\n",
       "      <td>...</td>\n",
       "      <td>...</td>\n",
       "      <td>...</td>\n",
       "    </tr>\n",
       "    <tr>\n",
       "      <th>6092437</th>\n",
       "      <td>Spare room in Williamsburg</td>\n",
       "      <td>12312296767</td>\n",
       "      <td>verified</td>\n",
       "      <td>Krik</td>\n",
       "      <td>False</td>\n",
       "      <td>flexible</td>\n",
       "      <td>Private room</td>\n",
       "      <td>2003.0</td>\n",
       "      <td>$844</td>\n",
       "      <td>$169</td>\n",
       "      <td>1.0</td>\n",
       "      <td>0.0</td>\n",
       "      <td>NaN</td>\n",
       "      <td>NaN</td>\n",
       "      <td>3.0</td>\n",
       "      <td>1.0</td>\n",
       "      <td>227.0</td>\n",
       "      <td>No Smoking No Parties or Events of any kind Pl...</td>\n",
       "      <td>NaN</td>\n",
       "      <td>Brooklyn Williamsburg</td>\n",
       "    </tr>\n",
       "    <tr>\n",
       "      <th>6092990</th>\n",
       "      <td>Best Location near Columbia U</td>\n",
       "      <td>77864383453</td>\n",
       "      <td>unconfirmed</td>\n",
       "      <td>Mifan</td>\n",
       "      <td>True</td>\n",
       "      <td>moderate</td>\n",
       "      <td>Private room</td>\n",
       "      <td>2016.0</td>\n",
       "      <td>$837</td>\n",
       "      <td>$167</td>\n",
       "      <td>1.0</td>\n",
       "      <td>1.0</td>\n",
       "      <td>7/6/2015</td>\n",
       "      <td>0.02</td>\n",
       "      <td>2.0</td>\n",
       "      <td>2.0</td>\n",
       "      <td>395.0</td>\n",
       "      <td>House rules: Guests agree to the following ter...</td>\n",
       "      <td>NaN</td>\n",
       "      <td>Manhattan Morningside Heights</td>\n",
       "    </tr>\n",
       "    <tr>\n",
       "      <th>6093542</th>\n",
       "      <td>Comfy, bright room in Brooklyn</td>\n",
       "      <td>69050334417</td>\n",
       "      <td>unconfirmed</td>\n",
       "      <td>Megan</td>\n",
       "      <td>True</td>\n",
       "      <td>moderate</td>\n",
       "      <td>Private room</td>\n",
       "      <td>2009.0</td>\n",
       "      <td>$988</td>\n",
       "      <td>$198</td>\n",
       "      <td>3.0</td>\n",
       "      <td>0.0</td>\n",
       "      <td>NaN</td>\n",
       "      <td>NaN</td>\n",
       "      <td>5.0</td>\n",
       "      <td>1.0</td>\n",
       "      <td>342.0</td>\n",
       "      <td>NaN</td>\n",
       "      <td>NaN</td>\n",
       "      <td>Brooklyn Park Slope</td>\n",
       "    </tr>\n",
       "    <tr>\n",
       "      <th>6094094</th>\n",
       "      <td>Big Studio-One Stop from Midtown</td>\n",
       "      <td>11160591270</td>\n",
       "      <td>unconfirmed</td>\n",
       "      <td>Christopher</td>\n",
       "      <td>True</td>\n",
       "      <td>strict</td>\n",
       "      <td>Entire home/apt</td>\n",
       "      <td>2015.0</td>\n",
       "      <td>$546</td>\n",
       "      <td>$109</td>\n",
       "      <td>2.0</td>\n",
       "      <td>5.0</td>\n",
       "      <td>10/11/2015</td>\n",
       "      <td>0.10</td>\n",
       "      <td>3.0</td>\n",
       "      <td>1.0</td>\n",
       "      <td>386.0</td>\n",
       "      <td>NaN</td>\n",
       "      <td>NaN</td>\n",
       "      <td>Queens Long Island City</td>\n",
       "    </tr>\n",
       "    <tr>\n",
       "      <th>6094647</th>\n",
       "      <td>585 sf Luxury Studio</td>\n",
       "      <td>68170633372</td>\n",
       "      <td>unconfirmed</td>\n",
       "      <td>Rebecca</td>\n",
       "      <td>False</td>\n",
       "      <td>flexible</td>\n",
       "      <td>Entire home/apt</td>\n",
       "      <td>2010.0</td>\n",
       "      <td>$1,032</td>\n",
       "      <td>$206</td>\n",
       "      <td>1.0</td>\n",
       "      <td>0.0</td>\n",
       "      <td>NaN</td>\n",
       "      <td>NaN</td>\n",
       "      <td>3.0</td>\n",
       "      <td>1.0</td>\n",
       "      <td>69.0</td>\n",
       "      <td>NaN</td>\n",
       "      <td>NaN</td>\n",
       "      <td>Manhattan Upper West Side</td>\n",
       "    </tr>\n",
       "  </tbody>\n",
       "</table>\n",
       "<p>102349 rows × 20 columns</p>\n",
       "</div>"
      ],
      "text/plain": [
       "                                                     name      host id  \\\n",
       "id                                                                       \n",
       "1001254                Clean & quiet apt home by the park  80014485718   \n",
       "1002102                             Skylit Midtown Castle  52335172823   \n",
       "1002403               THE VILLAGE OF HARLEM....NEW YORK !  78829239556   \n",
       "1003689  Entire Apt: Spacious Studio/Loft by central park  92037596077   \n",
       "1004098         Large Cozy 1 BR Apartment In Midtown East  45498551794   \n",
       "...                                                   ...          ...   \n",
       "6092437                        Spare room in Williamsburg  12312296767   \n",
       "6092990                     Best Location near Columbia U  77864383453   \n",
       "6093542                    Comfy, bright room in Brooklyn  69050334417   \n",
       "6094094                  Big Studio-One Stop from Midtown  11160591270   \n",
       "6094647                              585 sf Luxury Studio  68170633372   \n",
       "\n",
       "        host_identity_verified    host name instant_bookable  \\\n",
       "id                                                             \n",
       "1001254            unconfirmed     Madaline            False   \n",
       "1002102               verified        Jenna            False   \n",
       "1002403            unconfirmed        Elise             True   \n",
       "1003689               verified       Lyndon            False   \n",
       "1004098               verified     Michelle             True   \n",
       "...                        ...          ...              ...   \n",
       "6092437               verified         Krik            False   \n",
       "6092990            unconfirmed        Mifan             True   \n",
       "6093542            unconfirmed        Megan             True   \n",
       "6094094            unconfirmed  Christopher             True   \n",
       "6094647            unconfirmed      Rebecca            False   \n",
       "\n",
       "        cancellation_policy        room type  Construction year    price  \\\n",
       "id                                                                         \n",
       "1001254              strict     Private room             2020.0    $966    \n",
       "1002102            moderate  Entire home/apt             2007.0    $142    \n",
       "1002403            flexible     Private room             2005.0    $620    \n",
       "1003689            moderate  Entire home/apt             2009.0    $204    \n",
       "1004098            flexible  Entire home/apt             2013.0    $577    \n",
       "...                     ...              ...                ...      ...   \n",
       "6092437            flexible     Private room             2003.0    $844    \n",
       "6092990            moderate     Private room             2016.0    $837    \n",
       "6093542            moderate     Private room             2009.0    $988    \n",
       "6094094              strict  Entire home/apt             2015.0    $546    \n",
       "6094647            flexible  Entire home/apt             2010.0  $1,032    \n",
       "\n",
       "        service fee  minimum nights  number of reviews last review  \\\n",
       "id                                                                   \n",
       "1001254       $193             10.0                9.0  10/19/2021   \n",
       "1002102        $28             30.0               45.0   5/21/2022   \n",
       "1002403       $124              3.0                0.0         NaN   \n",
       "1003689        $41             10.0                9.0  11/19/2018   \n",
       "1004098       $115              3.0               74.0   6/22/2019   \n",
       "...             ...             ...                ...         ...   \n",
       "6092437       $169              1.0                0.0         NaN   \n",
       "6092990       $167              1.0                1.0    7/6/2015   \n",
       "6093542       $198              3.0                0.0         NaN   \n",
       "6094094       $109              2.0                5.0  10/11/2015   \n",
       "6094647       $206              1.0                0.0         NaN   \n",
       "\n",
       "         reviews per month  review rate number  \\\n",
       "id                                               \n",
       "1001254               0.21                 4.0   \n",
       "1002102               0.38                 4.0   \n",
       "1002403                NaN                 5.0   \n",
       "1003689               0.10                 3.0   \n",
       "1004098               0.59                 3.0   \n",
       "...                    ...                 ...   \n",
       "6092437                NaN                 3.0   \n",
       "6092990               0.02                 2.0   \n",
       "6093542                NaN                 5.0   \n",
       "6094094               0.10                 3.0   \n",
       "6094647                NaN                 3.0   \n",
       "\n",
       "         calculated host listings count  availability 365  \\\n",
       "id                                                          \n",
       "1001254                             6.0             286.0   \n",
       "1002102                             2.0             228.0   \n",
       "1002403                             1.0             352.0   \n",
       "1003689                             1.0             289.0   \n",
       "1004098                             1.0             374.0   \n",
       "...                                 ...               ...   \n",
       "6092437                             1.0             227.0   \n",
       "6092990                             2.0             395.0   \n",
       "6093542                             1.0             342.0   \n",
       "6094094                             1.0             386.0   \n",
       "6094647                             1.0              69.0   \n",
       "\n",
       "                                               house_rules license  \\\n",
       "id                                                                   \n",
       "1001254  Clean up and treat the home the way you'd like...     NaN   \n",
       "1002102  Pet friendly but please confirm with me if the...     NaN   \n",
       "1002403  I encourage you to use my kitchen, cooking and...     NaN   \n",
       "1003689  Please no smoking in the house, porch or on th...     NaN   \n",
       "1004098                  No smoking, please, and no drugs.     NaN   \n",
       "...                                                    ...     ...   \n",
       "6092437  No Smoking No Parties or Events of any kind Pl...     NaN   \n",
       "6092990  House rules: Guests agree to the following ter...     NaN   \n",
       "6093542                                                NaN     NaN   \n",
       "6094094                                                NaN     NaN   \n",
       "6094647                                                NaN     NaN   \n",
       "\n",
       "                                  area  \n",
       "id                                      \n",
       "1001254            Brooklyn Kensington  \n",
       "1002102              Manhattan Midtown  \n",
       "1002403               Manhattan Harlem  \n",
       "1003689          Manhattan East Harlem  \n",
       "1004098          Manhattan Murray Hill  \n",
       "...                                ...  \n",
       "6092437          Brooklyn Williamsburg  \n",
       "6092990  Manhattan Morningside Heights  \n",
       "6093542            Brooklyn Park Slope  \n",
       "6094094        Queens Long Island City  \n",
       "6094647      Manhattan Upper West Side  \n",
       "\n",
       "[102349 rows x 20 columns]"
      ]
     },
     "execution_count": 36,
     "metadata": {},
     "output_type": "execute_result"
    }
   ],
   "source": [
    "updated_df"
   ]
  },
  {
   "cell_type": "markdown",
   "id": "ddc5a5bb",
   "metadata": {
    "papermill": {
     "duration": 0.025667,
     "end_time": "2024-07-14T16:04:49.717080",
     "exception": false,
     "start_time": "2024-07-14T16:04:49.691413",
     "status": "completed"
    },
    "tags": []
   },
   "source": [
    "**We need to handle cancelation policy**"
   ]
  },
  {
   "cell_type": "code",
   "execution_count": 37,
   "id": "ee4bf32b",
   "metadata": {
    "execution": {
     "iopub.execute_input": "2024-07-14T16:04:49.771436Z",
     "iopub.status.busy": "2024-07-14T16:04:49.770999Z",
     "iopub.status.idle": "2024-07-14T16:04:49.786838Z",
     "shell.execute_reply": "2024-07-14T16:04:49.785609Z"
    },
    "papermill": {
     "duration": 0.045459,
     "end_time": "2024-07-14T16:04:49.789410",
     "exception": false,
     "start_time": "2024-07-14T16:04:49.743951",
     "status": "completed"
    },
    "tags": []
   },
   "outputs": [
    {
     "data": {
      "text/plain": [
       "array(['strict', 'moderate', 'flexible', nan], dtype=object)"
      ]
     },
     "execution_count": 37,
     "metadata": {},
     "output_type": "execute_result"
    }
   ],
   "source": [
    "updated_df['cancellation_policy'].unique()"
   ]
  },
  {
   "cell_type": "markdown",
   "id": "c37578a3",
   "metadata": {
    "papermill": {
     "duration": 0.025166,
     "end_time": "2024-07-14T16:04:49.839781",
     "exception": false,
     "start_time": "2024-07-14T16:04:49.814615",
     "status": "completed"
    },
    "tags": []
   },
   "source": [
    "**we will make all nan values to flexible since they didn't mention it is not important**"
   ]
  },
  {
   "cell_type": "code",
   "execution_count": 38,
   "id": "703a6d97",
   "metadata": {
    "execution": {
     "iopub.execute_input": "2024-07-14T16:04:49.895866Z",
     "iopub.status.busy": "2024-07-14T16:04:49.895383Z",
     "iopub.status.idle": "2024-07-14T16:04:49.922573Z",
     "shell.execute_reply": "2024-07-14T16:04:49.921354Z"
    },
    "papermill": {
     "duration": 0.058054,
     "end_time": "2024-07-14T16:04:49.925862",
     "exception": false,
     "start_time": "2024-07-14T16:04:49.867808",
     "status": "completed"
    },
    "tags": []
   },
   "outputs": [],
   "source": [
    "updated_df['cancellation_policy'] = updated_df['cancellation_policy'].fillna('flexible')"
   ]
  },
  {
   "cell_type": "code",
   "execution_count": 39,
   "id": "d6164d2c",
   "metadata": {
    "execution": {
     "iopub.execute_input": "2024-07-14T16:04:49.978818Z",
     "iopub.status.busy": "2024-07-14T16:04:49.978363Z",
     "iopub.status.idle": "2024-07-14T16:04:50.146450Z",
     "shell.execute_reply": "2024-07-14T16:04:50.145308Z"
    },
    "papermill": {
     "duration": 0.197764,
     "end_time": "2024-07-14T16:04:50.149241",
     "exception": false,
     "start_time": "2024-07-14T16:04:49.951477",
     "status": "completed"
    },
    "tags": []
   },
   "outputs": [
    {
     "data": {
      "text/plain": [
       "name                                   0\n",
       "host id                                0\n",
       "host_identity_verified                 0\n",
       "host name                              0\n",
       "instant_bookable                       0\n",
       "cancellation_policy                    0\n",
       "room type                              0\n",
       "Construction year                    205\n",
       "price                                244\n",
       "service fee                          273\n",
       "minimum nights                       403\n",
       "number of reviews                    182\n",
       "last review                        15857\n",
       "reviews per month                  15843\n",
       "review rate number                   318\n",
       "calculated host listings count       318\n",
       "availability 365                     430\n",
       "house_rules                        52025\n",
       "license                           102347\n",
       "area                                  43\n",
       "dtype: int64"
      ]
     },
     "execution_count": 39,
     "metadata": {},
     "output_type": "execute_result"
    }
   ],
   "source": [
    "updated_df.isna().sum()"
   ]
  },
  {
   "cell_type": "code",
   "execution_count": 40,
   "id": "1d023c1e",
   "metadata": {
    "execution": {
     "iopub.execute_input": "2024-07-14T16:04:50.203232Z",
     "iopub.status.busy": "2024-07-14T16:04:50.202791Z",
     "iopub.status.idle": "2024-07-14T16:04:50.210717Z",
     "shell.execute_reply": "2024-07-14T16:04:50.208939Z"
    },
    "papermill": {
     "duration": 0.038641,
     "end_time": "2024-07-14T16:04:50.213907",
     "exception": false,
     "start_time": "2024-07-14T16:04:50.175266",
     "status": "completed"
    },
    "tags": []
   },
   "outputs": [],
   "source": [
    "mean = updated_df['Construction year'].mean()"
   ]
  },
  {
   "cell_type": "code",
   "execution_count": 41,
   "id": "5f9afb28",
   "metadata": {
    "execution": {
     "iopub.execute_input": "2024-07-14T16:04:50.270854Z",
     "iopub.status.busy": "2024-07-14T16:04:50.270399Z",
     "iopub.status.idle": "2024-07-14T16:04:50.278394Z",
     "shell.execute_reply": "2024-07-14T16:04:50.277207Z"
    },
    "papermill": {
     "duration": 0.040156,
     "end_time": "2024-07-14T16:04:50.281061",
     "exception": false,
     "start_time": "2024-07-14T16:04:50.240905",
     "status": "completed"
    },
    "tags": []
   },
   "outputs": [
    {
     "data": {
      "text/plain": [
       "dtype('float64')"
      ]
     },
     "execution_count": 41,
     "metadata": {},
     "output_type": "execute_result"
    }
   ],
   "source": [
    "updated_df['Construction year'].dtype"
   ]
  },
  {
   "cell_type": "code",
   "execution_count": 42,
   "id": "6feb4575",
   "metadata": {
    "execution": {
     "iopub.execute_input": "2024-07-14T16:04:50.336963Z",
     "iopub.status.busy": "2024-07-14T16:04:50.336509Z",
     "iopub.status.idle": "2024-07-14T16:04:50.521090Z",
     "shell.execute_reply": "2024-07-14T16:04:50.519791Z"
    },
    "papermill": {
     "duration": 0.21511,
     "end_time": "2024-07-14T16:04:50.524134",
     "exception": false,
     "start_time": "2024-07-14T16:04:50.309024",
     "status": "completed"
    },
    "tags": []
   },
   "outputs": [
    {
     "data": {
      "text/plain": [
       "name                                   0\n",
       "host id                                0\n",
       "host_identity_verified                 0\n",
       "host name                              0\n",
       "instant_bookable                       0\n",
       "cancellation_policy                    0\n",
       "room type                              0\n",
       "Construction year                      0\n",
       "price                                244\n",
       "service fee                          273\n",
       "minimum nights                       403\n",
       "number of reviews                    182\n",
       "last review                        15857\n",
       "reviews per month                  15843\n",
       "review rate number                   318\n",
       "calculated host listings count       318\n",
       "availability 365                     430\n",
       "house_rules                        52025\n",
       "license                           102347\n",
       "area                                  43\n",
       "dtype: int64"
      ]
     },
     "execution_count": 42,
     "metadata": {},
     "output_type": "execute_result"
    }
   ],
   "source": [
    "updated_df['Construction year'] = updated_df['Construction year'].fillna(2012.0)\n",
    "updated_df.isna().sum()"
   ]
  },
  {
   "cell_type": "code",
   "execution_count": 43,
   "id": "93897310",
   "metadata": {
    "execution": {
     "iopub.execute_input": "2024-07-14T16:04:50.578222Z",
     "iopub.status.busy": "2024-07-14T16:04:50.577803Z",
     "iopub.status.idle": "2024-07-14T16:04:50.587447Z",
     "shell.execute_reply": "2024-07-14T16:04:50.586202Z"
    },
    "papermill": {
     "duration": 0.039626,
     "end_time": "2024-07-14T16:04:50.589964",
     "exception": false,
     "start_time": "2024-07-14T16:04:50.550338",
     "status": "completed"
    },
    "tags": []
   },
   "outputs": [
    {
     "data": {
      "text/plain": [
       "id\n",
       "1001254    $193 \n",
       "1002102     $28 \n",
       "1002403    $124 \n",
       "1003689     $41 \n",
       "1004098    $115 \n",
       "           ...  \n",
       "6092437    $169 \n",
       "6092990    $167 \n",
       "6093542    $198 \n",
       "6094094    $109 \n",
       "6094647    $206 \n",
       "Name: service fee, Length: 102349, dtype: object"
      ]
     },
     "execution_count": 43,
     "metadata": {},
     "output_type": "execute_result"
    }
   ],
   "source": [
    "updated_df['service fee']"
   ]
  },
  {
   "cell_type": "markdown",
   "id": "c97caeb0",
   "metadata": {
    "papermill": {
     "duration": 0.025875,
     "end_time": "2024-07-14T16:04:50.642273",
     "exception": false,
     "start_time": "2024-07-14T16:04:50.616398",
     "status": "completed"
    },
    "tags": []
   },
   "source": [
    "**Convert price and service fee to integer and null value to 0**"
   ]
  },
  {
   "cell_type": "code",
   "execution_count": 44,
   "id": "17850c27",
   "metadata": {
    "execution": {
     "iopub.execute_input": "2024-07-14T16:04:50.699597Z",
     "iopub.status.busy": "2024-07-14T16:04:50.699159Z",
     "iopub.status.idle": "2024-07-14T16:04:50.708731Z",
     "shell.execute_reply": "2024-07-14T16:04:50.707435Z"
    },
    "papermill": {
     "duration": 0.042625,
     "end_time": "2024-07-14T16:04:50.711556",
     "exception": false,
     "start_time": "2024-07-14T16:04:50.668931",
     "status": "completed"
    },
    "tags": []
   },
   "outputs": [],
   "source": [
    "def price_service_converstion(x):\n",
    "    #handling price\n",
    "    if not pd.isna(x['price']):\n",
    "        temp = x['price'][1:]\n",
    "        #to remove ','\n",
    "        ans = ''\n",
    "        for i in temp:\n",
    "            if i != ',':\n",
    "                ans = ans+i \n",
    "        x['price'] = int(ans)\n",
    "        \n",
    "    else:\n",
    "        x['price'] = 0\n",
    "        \n",
    "    #handling service fee\n",
    "    if not pd.isna(x['service fee']):\n",
    "        temp = x['service fee'][1:]\n",
    "        #to remove ','\n",
    "        ans = ''\n",
    "        for i in temp:\n",
    "            if i != ',':\n",
    "                ans = ans+i \n",
    "        x['service fee'] = int(ans)\n",
    "        \n",
    "    else:\n",
    "        x['service fee'] = 0\n",
    "    \n",
    "    return x\n",
    "    \n",
    "        "
   ]
  },
  {
   "cell_type": "code",
   "execution_count": 45,
   "id": "5e8bf824",
   "metadata": {
    "execution": {
     "iopub.execute_input": "2024-07-14T16:04:50.766183Z",
     "iopub.status.busy": "2024-07-14T16:04:50.765763Z",
     "iopub.status.idle": "2024-07-14T16:05:06.899673Z",
     "shell.execute_reply": "2024-07-14T16:05:06.897338Z"
    },
    "papermill": {
     "duration": 16.165559,
     "end_time": "2024-07-14T16:05:06.903065",
     "exception": false,
     "start_time": "2024-07-14T16:04:50.737506",
     "status": "completed"
    },
    "tags": []
   },
   "outputs": [],
   "source": [
    "updated_df = updated_df.apply(price_service_converstion,axis = 1)"
   ]
  },
  {
   "cell_type": "code",
   "execution_count": 46,
   "id": "ce92ed16",
   "metadata": {
    "execution": {
     "iopub.execute_input": "2024-07-14T16:05:06.967701Z",
     "iopub.status.busy": "2024-07-14T16:05:06.967224Z",
     "iopub.status.idle": "2024-07-14T16:05:07.017496Z",
     "shell.execute_reply": "2024-07-14T16:05:07.014988Z"
    },
    "papermill": {
     "duration": 0.088471,
     "end_time": "2024-07-14T16:05:07.021252",
     "exception": false,
     "start_time": "2024-07-14T16:05:06.932781",
     "status": "completed"
    },
    "tags": []
   },
   "outputs": [
    {
     "data": {
      "text/html": [
       "<div>\n",
       "<style scoped>\n",
       "    .dataframe tbody tr th:only-of-type {\n",
       "        vertical-align: middle;\n",
       "    }\n",
       "\n",
       "    .dataframe tbody tr th {\n",
       "        vertical-align: top;\n",
       "    }\n",
       "\n",
       "    .dataframe thead th {\n",
       "        text-align: right;\n",
       "    }\n",
       "</style>\n",
       "<table border=\"1\" class=\"dataframe\">\n",
       "  <thead>\n",
       "    <tr style=\"text-align: right;\">\n",
       "      <th></th>\n",
       "      <th>name</th>\n",
       "      <th>host id</th>\n",
       "      <th>host_identity_verified</th>\n",
       "      <th>host name</th>\n",
       "      <th>instant_bookable</th>\n",
       "      <th>cancellation_policy</th>\n",
       "      <th>room type</th>\n",
       "      <th>Construction year</th>\n",
       "      <th>price</th>\n",
       "      <th>service fee</th>\n",
       "      <th>minimum nights</th>\n",
       "      <th>number of reviews</th>\n",
       "      <th>last review</th>\n",
       "      <th>reviews per month</th>\n",
       "      <th>review rate number</th>\n",
       "      <th>calculated host listings count</th>\n",
       "      <th>availability 365</th>\n",
       "      <th>house_rules</th>\n",
       "      <th>license</th>\n",
       "      <th>area</th>\n",
       "    </tr>\n",
       "    <tr>\n",
       "      <th>id</th>\n",
       "      <th></th>\n",
       "      <th></th>\n",
       "      <th></th>\n",
       "      <th></th>\n",
       "      <th></th>\n",
       "      <th></th>\n",
       "      <th></th>\n",
       "      <th></th>\n",
       "      <th></th>\n",
       "      <th></th>\n",
       "      <th></th>\n",
       "      <th></th>\n",
       "      <th></th>\n",
       "      <th></th>\n",
       "      <th></th>\n",
       "      <th></th>\n",
       "      <th></th>\n",
       "      <th></th>\n",
       "      <th></th>\n",
       "      <th></th>\n",
       "    </tr>\n",
       "  </thead>\n",
       "  <tbody>\n",
       "    <tr>\n",
       "      <th>1001254</th>\n",
       "      <td>Clean &amp; quiet apt home by the park</td>\n",
       "      <td>80014485718</td>\n",
       "      <td>unconfirmed</td>\n",
       "      <td>Madaline</td>\n",
       "      <td>False</td>\n",
       "      <td>strict</td>\n",
       "      <td>Private room</td>\n",
       "      <td>2020.0</td>\n",
       "      <td>966</td>\n",
       "      <td>193</td>\n",
       "      <td>10.0</td>\n",
       "      <td>9.0</td>\n",
       "      <td>10/19/2021</td>\n",
       "      <td>0.21</td>\n",
       "      <td>4.0</td>\n",
       "      <td>6.0</td>\n",
       "      <td>286.0</td>\n",
       "      <td>Clean up and treat the home the way you'd like...</td>\n",
       "      <td>NaN</td>\n",
       "      <td>Brooklyn Kensington</td>\n",
       "    </tr>\n",
       "    <tr>\n",
       "      <th>1002102</th>\n",
       "      <td>Skylit Midtown Castle</td>\n",
       "      <td>52335172823</td>\n",
       "      <td>verified</td>\n",
       "      <td>Jenna</td>\n",
       "      <td>False</td>\n",
       "      <td>moderate</td>\n",
       "      <td>Entire home/apt</td>\n",
       "      <td>2007.0</td>\n",
       "      <td>142</td>\n",
       "      <td>28</td>\n",
       "      <td>30.0</td>\n",
       "      <td>45.0</td>\n",
       "      <td>5/21/2022</td>\n",
       "      <td>0.38</td>\n",
       "      <td>4.0</td>\n",
       "      <td>2.0</td>\n",
       "      <td>228.0</td>\n",
       "      <td>Pet friendly but please confirm with me if the...</td>\n",
       "      <td>NaN</td>\n",
       "      <td>Manhattan Midtown</td>\n",
       "    </tr>\n",
       "    <tr>\n",
       "      <th>1002403</th>\n",
       "      <td>THE VILLAGE OF HARLEM....NEW YORK !</td>\n",
       "      <td>78829239556</td>\n",
       "      <td>unconfirmed</td>\n",
       "      <td>Elise</td>\n",
       "      <td>True</td>\n",
       "      <td>flexible</td>\n",
       "      <td>Private room</td>\n",
       "      <td>2005.0</td>\n",
       "      <td>620</td>\n",
       "      <td>124</td>\n",
       "      <td>3.0</td>\n",
       "      <td>0.0</td>\n",
       "      <td>NaN</td>\n",
       "      <td>NaN</td>\n",
       "      <td>5.0</td>\n",
       "      <td>1.0</td>\n",
       "      <td>352.0</td>\n",
       "      <td>I encourage you to use my kitchen, cooking and...</td>\n",
       "      <td>NaN</td>\n",
       "      <td>Manhattan Harlem</td>\n",
       "    </tr>\n",
       "    <tr>\n",
       "      <th>1003689</th>\n",
       "      <td>Entire Apt: Spacious Studio/Loft by central park</td>\n",
       "      <td>92037596077</td>\n",
       "      <td>verified</td>\n",
       "      <td>Lyndon</td>\n",
       "      <td>False</td>\n",
       "      <td>moderate</td>\n",
       "      <td>Entire home/apt</td>\n",
       "      <td>2009.0</td>\n",
       "      <td>204</td>\n",
       "      <td>41</td>\n",
       "      <td>10.0</td>\n",
       "      <td>9.0</td>\n",
       "      <td>11/19/2018</td>\n",
       "      <td>0.10</td>\n",
       "      <td>3.0</td>\n",
       "      <td>1.0</td>\n",
       "      <td>289.0</td>\n",
       "      <td>Please no smoking in the house, porch or on th...</td>\n",
       "      <td>NaN</td>\n",
       "      <td>Manhattan East Harlem</td>\n",
       "    </tr>\n",
       "    <tr>\n",
       "      <th>1004098</th>\n",
       "      <td>Large Cozy 1 BR Apartment In Midtown East</td>\n",
       "      <td>45498551794</td>\n",
       "      <td>verified</td>\n",
       "      <td>Michelle</td>\n",
       "      <td>True</td>\n",
       "      <td>flexible</td>\n",
       "      <td>Entire home/apt</td>\n",
       "      <td>2013.0</td>\n",
       "      <td>577</td>\n",
       "      <td>115</td>\n",
       "      <td>3.0</td>\n",
       "      <td>74.0</td>\n",
       "      <td>6/22/2019</td>\n",
       "      <td>0.59</td>\n",
       "      <td>3.0</td>\n",
       "      <td>1.0</td>\n",
       "      <td>374.0</td>\n",
       "      <td>No smoking, please, and no drugs.</td>\n",
       "      <td>NaN</td>\n",
       "      <td>Manhattan Murray Hill</td>\n",
       "    </tr>\n",
       "    <tr>\n",
       "      <th>...</th>\n",
       "      <td>...</td>\n",
       "      <td>...</td>\n",
       "      <td>...</td>\n",
       "      <td>...</td>\n",
       "      <td>...</td>\n",
       "      <td>...</td>\n",
       "      <td>...</td>\n",
       "      <td>...</td>\n",
       "      <td>...</td>\n",
       "      <td>...</td>\n",
       "      <td>...</td>\n",
       "      <td>...</td>\n",
       "      <td>...</td>\n",
       "      <td>...</td>\n",
       "      <td>...</td>\n",
       "      <td>...</td>\n",
       "      <td>...</td>\n",
       "      <td>...</td>\n",
       "      <td>...</td>\n",
       "      <td>...</td>\n",
       "    </tr>\n",
       "    <tr>\n",
       "      <th>6092437</th>\n",
       "      <td>Spare room in Williamsburg</td>\n",
       "      <td>12312296767</td>\n",
       "      <td>verified</td>\n",
       "      <td>Krik</td>\n",
       "      <td>False</td>\n",
       "      <td>flexible</td>\n",
       "      <td>Private room</td>\n",
       "      <td>2003.0</td>\n",
       "      <td>844</td>\n",
       "      <td>169</td>\n",
       "      <td>1.0</td>\n",
       "      <td>0.0</td>\n",
       "      <td>NaN</td>\n",
       "      <td>NaN</td>\n",
       "      <td>3.0</td>\n",
       "      <td>1.0</td>\n",
       "      <td>227.0</td>\n",
       "      <td>No Smoking No Parties or Events of any kind Pl...</td>\n",
       "      <td>NaN</td>\n",
       "      <td>Brooklyn Williamsburg</td>\n",
       "    </tr>\n",
       "    <tr>\n",
       "      <th>6092990</th>\n",
       "      <td>Best Location near Columbia U</td>\n",
       "      <td>77864383453</td>\n",
       "      <td>unconfirmed</td>\n",
       "      <td>Mifan</td>\n",
       "      <td>True</td>\n",
       "      <td>moderate</td>\n",
       "      <td>Private room</td>\n",
       "      <td>2016.0</td>\n",
       "      <td>837</td>\n",
       "      <td>167</td>\n",
       "      <td>1.0</td>\n",
       "      <td>1.0</td>\n",
       "      <td>7/6/2015</td>\n",
       "      <td>0.02</td>\n",
       "      <td>2.0</td>\n",
       "      <td>2.0</td>\n",
       "      <td>395.0</td>\n",
       "      <td>House rules: Guests agree to the following ter...</td>\n",
       "      <td>NaN</td>\n",
       "      <td>Manhattan Morningside Heights</td>\n",
       "    </tr>\n",
       "    <tr>\n",
       "      <th>6093542</th>\n",
       "      <td>Comfy, bright room in Brooklyn</td>\n",
       "      <td>69050334417</td>\n",
       "      <td>unconfirmed</td>\n",
       "      <td>Megan</td>\n",
       "      <td>True</td>\n",
       "      <td>moderate</td>\n",
       "      <td>Private room</td>\n",
       "      <td>2009.0</td>\n",
       "      <td>988</td>\n",
       "      <td>198</td>\n",
       "      <td>3.0</td>\n",
       "      <td>0.0</td>\n",
       "      <td>NaN</td>\n",
       "      <td>NaN</td>\n",
       "      <td>5.0</td>\n",
       "      <td>1.0</td>\n",
       "      <td>342.0</td>\n",
       "      <td>NaN</td>\n",
       "      <td>NaN</td>\n",
       "      <td>Brooklyn Park Slope</td>\n",
       "    </tr>\n",
       "    <tr>\n",
       "      <th>6094094</th>\n",
       "      <td>Big Studio-One Stop from Midtown</td>\n",
       "      <td>11160591270</td>\n",
       "      <td>unconfirmed</td>\n",
       "      <td>Christopher</td>\n",
       "      <td>True</td>\n",
       "      <td>strict</td>\n",
       "      <td>Entire home/apt</td>\n",
       "      <td>2015.0</td>\n",
       "      <td>546</td>\n",
       "      <td>109</td>\n",
       "      <td>2.0</td>\n",
       "      <td>5.0</td>\n",
       "      <td>10/11/2015</td>\n",
       "      <td>0.10</td>\n",
       "      <td>3.0</td>\n",
       "      <td>1.0</td>\n",
       "      <td>386.0</td>\n",
       "      <td>NaN</td>\n",
       "      <td>NaN</td>\n",
       "      <td>Queens Long Island City</td>\n",
       "    </tr>\n",
       "    <tr>\n",
       "      <th>6094647</th>\n",
       "      <td>585 sf Luxury Studio</td>\n",
       "      <td>68170633372</td>\n",
       "      <td>unconfirmed</td>\n",
       "      <td>Rebecca</td>\n",
       "      <td>False</td>\n",
       "      <td>flexible</td>\n",
       "      <td>Entire home/apt</td>\n",
       "      <td>2010.0</td>\n",
       "      <td>1032</td>\n",
       "      <td>206</td>\n",
       "      <td>1.0</td>\n",
       "      <td>0.0</td>\n",
       "      <td>NaN</td>\n",
       "      <td>NaN</td>\n",
       "      <td>3.0</td>\n",
       "      <td>1.0</td>\n",
       "      <td>69.0</td>\n",
       "      <td>NaN</td>\n",
       "      <td>NaN</td>\n",
       "      <td>Manhattan Upper West Side</td>\n",
       "    </tr>\n",
       "  </tbody>\n",
       "</table>\n",
       "<p>102349 rows × 20 columns</p>\n",
       "</div>"
      ],
      "text/plain": [
       "                                                     name      host id  \\\n",
       "id                                                                       \n",
       "1001254                Clean & quiet apt home by the park  80014485718   \n",
       "1002102                             Skylit Midtown Castle  52335172823   \n",
       "1002403               THE VILLAGE OF HARLEM....NEW YORK !  78829239556   \n",
       "1003689  Entire Apt: Spacious Studio/Loft by central park  92037596077   \n",
       "1004098         Large Cozy 1 BR Apartment In Midtown East  45498551794   \n",
       "...                                                   ...          ...   \n",
       "6092437                        Spare room in Williamsburg  12312296767   \n",
       "6092990                     Best Location near Columbia U  77864383453   \n",
       "6093542                    Comfy, bright room in Brooklyn  69050334417   \n",
       "6094094                  Big Studio-One Stop from Midtown  11160591270   \n",
       "6094647                              585 sf Luxury Studio  68170633372   \n",
       "\n",
       "        host_identity_verified    host name instant_bookable  \\\n",
       "id                                                             \n",
       "1001254            unconfirmed     Madaline            False   \n",
       "1002102               verified        Jenna            False   \n",
       "1002403            unconfirmed        Elise             True   \n",
       "1003689               verified       Lyndon            False   \n",
       "1004098               verified     Michelle             True   \n",
       "...                        ...          ...              ...   \n",
       "6092437               verified         Krik            False   \n",
       "6092990            unconfirmed        Mifan             True   \n",
       "6093542            unconfirmed        Megan             True   \n",
       "6094094            unconfirmed  Christopher             True   \n",
       "6094647            unconfirmed      Rebecca            False   \n",
       "\n",
       "        cancellation_policy        room type  Construction year  price  \\\n",
       "id                                                                       \n",
       "1001254              strict     Private room             2020.0    966   \n",
       "1002102            moderate  Entire home/apt             2007.0    142   \n",
       "1002403            flexible     Private room             2005.0    620   \n",
       "1003689            moderate  Entire home/apt             2009.0    204   \n",
       "1004098            flexible  Entire home/apt             2013.0    577   \n",
       "...                     ...              ...                ...    ...   \n",
       "6092437            flexible     Private room             2003.0    844   \n",
       "6092990            moderate     Private room             2016.0    837   \n",
       "6093542            moderate     Private room             2009.0    988   \n",
       "6094094              strict  Entire home/apt             2015.0    546   \n",
       "6094647            flexible  Entire home/apt             2010.0   1032   \n",
       "\n",
       "         service fee  minimum nights  number of reviews last review  \\\n",
       "id                                                                    \n",
       "1001254          193            10.0                9.0  10/19/2021   \n",
       "1002102           28            30.0               45.0   5/21/2022   \n",
       "1002403          124             3.0                0.0         NaN   \n",
       "1003689           41            10.0                9.0  11/19/2018   \n",
       "1004098          115             3.0               74.0   6/22/2019   \n",
       "...              ...             ...                ...         ...   \n",
       "6092437          169             1.0                0.0         NaN   \n",
       "6092990          167             1.0                1.0    7/6/2015   \n",
       "6093542          198             3.0                0.0         NaN   \n",
       "6094094          109             2.0                5.0  10/11/2015   \n",
       "6094647          206             1.0                0.0         NaN   \n",
       "\n",
       "         reviews per month  review rate number  \\\n",
       "id                                               \n",
       "1001254               0.21                 4.0   \n",
       "1002102               0.38                 4.0   \n",
       "1002403                NaN                 5.0   \n",
       "1003689               0.10                 3.0   \n",
       "1004098               0.59                 3.0   \n",
       "...                    ...                 ...   \n",
       "6092437                NaN                 3.0   \n",
       "6092990               0.02                 2.0   \n",
       "6093542                NaN                 5.0   \n",
       "6094094               0.10                 3.0   \n",
       "6094647                NaN                 3.0   \n",
       "\n",
       "         calculated host listings count  availability 365  \\\n",
       "id                                                          \n",
       "1001254                             6.0             286.0   \n",
       "1002102                             2.0             228.0   \n",
       "1002403                             1.0             352.0   \n",
       "1003689                             1.0             289.0   \n",
       "1004098                             1.0             374.0   \n",
       "...                                 ...               ...   \n",
       "6092437                             1.0             227.0   \n",
       "6092990                             2.0             395.0   \n",
       "6093542                             1.0             342.0   \n",
       "6094094                             1.0             386.0   \n",
       "6094647                             1.0              69.0   \n",
       "\n",
       "                                               house_rules license  \\\n",
       "id                                                                   \n",
       "1001254  Clean up and treat the home the way you'd like...     NaN   \n",
       "1002102  Pet friendly but please confirm with me if the...     NaN   \n",
       "1002403  I encourage you to use my kitchen, cooking and...     NaN   \n",
       "1003689  Please no smoking in the house, porch or on th...     NaN   \n",
       "1004098                  No smoking, please, and no drugs.     NaN   \n",
       "...                                                    ...     ...   \n",
       "6092437  No Smoking No Parties or Events of any kind Pl...     NaN   \n",
       "6092990  House rules: Guests agree to the following ter...     NaN   \n",
       "6093542                                                NaN     NaN   \n",
       "6094094                                                NaN     NaN   \n",
       "6094647                                                NaN     NaN   \n",
       "\n",
       "                                  area  \n",
       "id                                      \n",
       "1001254            Brooklyn Kensington  \n",
       "1002102              Manhattan Midtown  \n",
       "1002403               Manhattan Harlem  \n",
       "1003689          Manhattan East Harlem  \n",
       "1004098          Manhattan Murray Hill  \n",
       "...                                ...  \n",
       "6092437          Brooklyn Williamsburg  \n",
       "6092990  Manhattan Morningside Heights  \n",
       "6093542            Brooklyn Park Slope  \n",
       "6094094        Queens Long Island City  \n",
       "6094647      Manhattan Upper West Side  \n",
       "\n",
       "[102349 rows x 20 columns]"
      ]
     },
     "execution_count": 46,
     "metadata": {},
     "output_type": "execute_result"
    }
   ],
   "source": [
    "updated_df"
   ]
  },
  {
   "cell_type": "markdown",
   "id": "9ad887a3",
   "metadata": {
    "papermill": {
     "duration": 0.029818,
     "end_time": "2024-07-14T16:05:07.085965",
     "exception": false,
     "start_time": "2024-07-14T16:05:07.056147",
     "status": "completed"
    },
    "tags": []
   },
   "source": [
    "**After converting then filling the 0 with its mean**\n",
    "\n",
    "**Here we are filling mean based on the area**"
   ]
  },
  {
   "cell_type": "code",
   "execution_count": 47,
   "id": "1b1acc61",
   "metadata": {
    "execution": {
     "iopub.execute_input": "2024-07-14T16:05:07.150180Z",
     "iopub.status.busy": "2024-07-14T16:05:07.149765Z",
     "iopub.status.idle": "2024-07-14T16:05:07.161917Z",
     "shell.execute_reply": "2024-07-14T16:05:07.160139Z"
    },
    "papermill": {
     "duration": 0.049449,
     "end_time": "2024-07-14T16:05:07.165516",
     "exception": false,
     "start_time": "2024-07-14T16:05:07.116067",
     "status": "completed"
    },
    "tags": []
   },
   "outputs": [],
   "source": [
    "def update_prices(x):\n",
    "    if x['price'] == 0:\n",
    "        m = updated_df.loc[(updated_df['area'] == x.area),'price'].mean()\n",
    "        # If that area is present only once then we won't get value we get null\n",
    "        #in that case we will insert mean of price there\n",
    "        if not pd.isna(m):\n",
    "            x['price'] = int(m)\n",
    "        else:\n",
    "            x['price'] = updated_df['price'].mean()\n",
    "            \n",
    "    \n",
    "    if x['service fee'] == 0:\n",
    "        m = updated_df.loc[(updated_df['area'] == x.area),'service fee'].mean()\n",
    "        # If that area is present only once then we won't get value we get null\n",
    "        #in that case we will insert mean of price there\n",
    "        if not pd.isna(m):\n",
    "            x['service fee'] = int(m)\n",
    "        else:\n",
    "            x['service fee'] = updated_df['service fee'].mean()\n",
    "    return x\n",
    "        "
   ]
  },
  {
   "cell_type": "code",
   "execution_count": 48,
   "id": "0fb8f5f2",
   "metadata": {
    "execution": {
     "iopub.execute_input": "2024-07-14T16:05:07.230876Z",
     "iopub.status.busy": "2024-07-14T16:05:07.230416Z",
     "iopub.status.idle": "2024-07-14T16:05:28.496708Z",
     "shell.execute_reply": "2024-07-14T16:05:28.495161Z"
    },
    "papermill": {
     "duration": 21.302902,
     "end_time": "2024-07-14T16:05:28.499802",
     "exception": false,
     "start_time": "2024-07-14T16:05:07.196900",
     "status": "completed"
    },
    "tags": []
   },
   "outputs": [],
   "source": [
    "updated_df = updated_df.apply(update_prices,axis = 1)"
   ]
  },
  {
   "cell_type": "code",
   "execution_count": 49,
   "id": "32b2487b",
   "metadata": {
    "execution": {
     "iopub.execute_input": "2024-07-14T16:05:28.559462Z",
     "iopub.status.busy": "2024-07-14T16:05:28.559033Z",
     "iopub.status.idle": "2024-07-14T16:05:28.701573Z",
     "shell.execute_reply": "2024-07-14T16:05:28.699123Z"
    },
    "papermill": {
     "duration": 0.178433,
     "end_time": "2024-07-14T16:05:28.705245",
     "exception": false,
     "start_time": "2024-07-14T16:05:28.526812",
     "status": "completed"
    },
    "tags": []
   },
   "outputs": [
    {
     "data": {
      "text/plain": [
       "name                                   0\n",
       "host id                                0\n",
       "host_identity_verified                 0\n",
       "host name                              0\n",
       "instant_bookable                       0\n",
       "cancellation_policy                    0\n",
       "room type                              0\n",
       "Construction year                      0\n",
       "price                                  0\n",
       "service fee                            0\n",
       "minimum nights                       403\n",
       "number of reviews                    182\n",
       "last review                        15857\n",
       "reviews per month                  15843\n",
       "review rate number                   318\n",
       "calculated host listings count       318\n",
       "availability 365                     430\n",
       "house_rules                        52025\n",
       "license                           102347\n",
       "area                                  43\n",
       "dtype: int64"
      ]
     },
     "execution_count": 49,
     "metadata": {},
     "output_type": "execute_result"
    }
   ],
   "source": [
    "updated_df.isna().sum()"
   ]
  },
  {
   "cell_type": "code",
   "execution_count": 50,
   "id": "99b3d3aa",
   "metadata": {
    "execution": {
     "iopub.execute_input": "2024-07-14T16:05:28.775411Z",
     "iopub.status.busy": "2024-07-14T16:05:28.775012Z",
     "iopub.status.idle": "2024-07-14T16:05:28.785050Z",
     "shell.execute_reply": "2024-07-14T16:05:28.783887Z"
    },
    "papermill": {
     "duration": 0.044437,
     "end_time": "2024-07-14T16:05:28.787612",
     "exception": false,
     "start_time": "2024-07-14T16:05:28.743175",
     "status": "completed"
    },
    "tags": []
   },
   "outputs": [
    {
     "data": {
      "text/plain": [
       "id\n",
       "1001254    10.0\n",
       "1002102    30.0\n",
       "1002403     3.0\n",
       "1003689    10.0\n",
       "1004098     3.0\n",
       "           ... \n",
       "6092437     1.0\n",
       "6092990     1.0\n",
       "6093542     3.0\n",
       "6094094     2.0\n",
       "6094647     1.0\n",
       "Name: minimum nights, Length: 102349, dtype: float64"
      ]
     },
     "execution_count": 50,
     "metadata": {},
     "output_type": "execute_result"
    }
   ],
   "source": [
    "updated_df['minimum nights']"
   ]
  },
  {
   "cell_type": "code",
   "execution_count": null,
   "id": "dc81c7b2",
   "metadata": {
    "papermill": {
     "duration": 0.026889,
     "end_time": "2024-07-14T16:05:28.841518",
     "exception": false,
     "start_time": "2024-07-14T16:05:28.814629",
     "status": "completed"
    },
    "tags": []
   },
   "outputs": [],
   "source": []
  }
 ],
 "metadata": {
  "kaggle": {
   "accelerator": "none",
   "dataSources": [
    {
     "datasetId": 2380415,
     "sourceId": 4016336,
     "sourceType": "datasetVersion"
    }
   ],
   "dockerImageVersionId": 30746,
   "isGpuEnabled": false,
   "isInternetEnabled": false,
   "language": "python",
   "sourceType": "notebook"
  },
  "kernelspec": {
   "display_name": "Python 3",
   "language": "python",
   "name": "python3"
  },
  "language_info": {
   "codemirror_mode": {
    "name": "ipython",
    "version": 3
   },
   "file_extension": ".py",
   "mimetype": "text/x-python",
   "name": "python",
   "nbconvert_exporter": "python",
   "pygments_lexer": "ipython3",
   "version": "3.10.13"
  },
  "papermill": {
   "default_parameters": {},
   "duration": 69.697819,
   "end_time": "2024-07-14T16:05:29.595326",
   "environment_variables": {},
   "exception": null,
   "input_path": "__notebook__.ipynb",
   "output_path": "__notebook__.ipynb",
   "parameters": {},
   "start_time": "2024-07-14T16:04:19.897507",
   "version": "2.5.0"
  }
 },
 "nbformat": 4,
 "nbformat_minor": 5
}
