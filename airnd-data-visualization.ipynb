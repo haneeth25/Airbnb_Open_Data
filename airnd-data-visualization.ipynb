{
 "cells": [
  {
   "cell_type": "code",
   "execution_count": 1,
   "id": "a96f1936",
   "metadata": {
    "_cell_guid": "b1076dfc-b9ad-4769-8c92-a6c4dae69d19",
    "_uuid": "8f2839f25d086af736a60e9eeb907d3b93b6e0e5",
    "execution": {
     "iopub.execute_input": "2024-07-15T05:36:45.510656Z",
     "iopub.status.busy": "2024-07-15T05:36:45.510262Z",
     "iopub.status.idle": "2024-07-15T05:36:46.490696Z",
     "shell.execute_reply": "2024-07-15T05:36:46.489281Z"
    },
    "papermill": {
     "duration": 1.00398,
     "end_time": "2024-07-15T05:36:46.493835",
     "exception": false,
     "start_time": "2024-07-15T05:36:45.489855",
     "status": "completed"
    },
    "tags": []
   },
   "outputs": [
    {
     "name": "stdout",
     "output_type": "stream",
     "text": [
      "/kaggle/input/airbnbopendata/Airbnb_Open_Data.csv\n"
     ]
    }
   ],
   "source": [
    "# This Python 3 environment comes with many helpful analytics libraries installed\n",
    "# It is defined by the kaggle/python Docker image: https://github.com/kaggle/docker-python\n",
    "# For example, here's several helpful packages to load\n",
    "\n",
    "import numpy as np # linear algebra\n",
    "import pandas as pd # data processing, CSV file I/O (e.g. pd.read_csv)\n",
    "\n",
    "# Input data files are available in the read-only \"../input/\" directory\n",
    "# For example, running this (by clicking run or pressing Shift+Enter) will list all files under the input directory\n",
    "\n",
    "import os\n",
    "for dirname, _, filenames in os.walk('/kaggle/input'):\n",
    "    for filename in filenames:\n",
    "        print(os.path.join(dirname, filename))\n",
    "\n",
    "# You can write up to 20GB to the current directory (/kaggle/working/) that gets preserved as output when you create a version using \"Save & Run All\" \n",
    "# You can also write temporary files to /kaggle/temp/, but they won't be saved outside of the current session"
   ]
  },
  {
   "cell_type": "markdown",
   "id": "96a8a5b7",
   "metadata": {
    "papermill": {
     "duration": 0.0197,
     "end_time": "2024-07-15T05:36:46.538621",
     "exception": false,
     "start_time": "2024-07-15T05:36:46.518921",
     "status": "completed"
    },
    "tags": []
   },
   "source": [
    "**Reading the data**"
   ]
  },
  {
   "cell_type": "code",
   "execution_count": 2,
   "id": "416eac37",
   "metadata": {
    "execution": {
     "iopub.execute_input": "2024-07-15T05:36:46.579940Z",
     "iopub.status.busy": "2024-07-15T05:36:46.579383Z",
     "iopub.status.idle": "2024-07-15T05:36:48.142411Z",
     "shell.execute_reply": "2024-07-15T05:36:48.141218Z"
    },
    "papermill": {
     "duration": 1.585627,
     "end_time": "2024-07-15T05:36:48.144680",
     "exception": false,
     "start_time": "2024-07-15T05:36:46.559053",
     "status": "completed"
    },
    "tags": []
   },
   "outputs": [
    {
     "name": "stderr",
     "output_type": "stream",
     "text": [
      "/tmp/ipykernel_19/2083687841.py:1: DtypeWarning: Columns (25) have mixed types. Specify dtype option on import or set low_memory=False.\n",
      "  airnd_df = pd.read_csv(\"/kaggle/input/airbnbopendata/Airbnb_Open_Data.csv\")\n"
     ]
    }
   ],
   "source": [
    "airnd_df = pd.read_csv(\"/kaggle/input/airbnbopendata/Airbnb_Open_Data.csv\")"
   ]
  },
  {
   "cell_type": "markdown",
   "id": "6cecc12a",
   "metadata": {
    "papermill": {
     "duration": 0.019343,
     "end_time": "2024-07-15T05:36:48.183210",
     "exception": false,
     "start_time": "2024-07-15T05:36:48.163867",
     "status": "completed"
    },
    "tags": []
   },
   "source": [
    "One column has mixed types of data so Specify dtype option on import or set low_memory=False."
   ]
  },
  {
   "cell_type": "code",
   "execution_count": 3,
   "id": "e97edac1",
   "metadata": {
    "execution": {
     "iopub.execute_input": "2024-07-15T05:36:48.223146Z",
     "iopub.status.busy": "2024-07-15T05:36:48.222759Z",
     "iopub.status.idle": "2024-07-15T05:36:48.240195Z",
     "shell.execute_reply": "2024-07-15T05:36:48.239055Z"
    },
    "papermill": {
     "duration": 0.040129,
     "end_time": "2024-07-15T05:36:48.242527",
     "exception": false,
     "start_time": "2024-07-15T05:36:48.202398",
     "status": "completed"
    },
    "tags": []
   },
   "outputs": [
    {
     "data": {
      "text/plain": [
       "id                                  int64\n",
       "NAME                               object\n",
       "host id                             int64\n",
       "host_identity_verified             object\n",
       "host name                          object\n",
       "neighbourhood group                object\n",
       "neighbourhood                      object\n",
       "lat                               float64\n",
       "long                              float64\n",
       "country                            object\n",
       "country code                       object\n",
       "instant_bookable                   object\n",
       "cancellation_policy                object\n",
       "room type                          object\n",
       "Construction year                 float64\n",
       "price                              object\n",
       "service fee                        object\n",
       "minimum nights                    float64\n",
       "number of reviews                 float64\n",
       "last review                        object\n",
       "reviews per month                 float64\n",
       "review rate number                float64\n",
       "calculated host listings count    float64\n",
       "availability 365                  float64\n",
       "house_rules                        object\n",
       "license                            object\n",
       "dtype: object"
      ]
     },
     "execution_count": 3,
     "metadata": {},
     "output_type": "execute_result"
    }
   ],
   "source": [
    "airnd_df.dtypes"
   ]
  },
  {
   "cell_type": "code",
   "execution_count": 4,
   "id": "dd19f95f",
   "metadata": {
    "execution": {
     "iopub.execute_input": "2024-07-15T05:36:48.282434Z",
     "iopub.status.busy": "2024-07-15T05:36:48.281313Z",
     "iopub.status.idle": "2024-07-15T05:36:49.224811Z",
     "shell.execute_reply": "2024-07-15T05:36:49.223571Z"
    },
    "papermill": {
     "duration": 0.966784,
     "end_time": "2024-07-15T05:36:49.227798",
     "exception": false,
     "start_time": "2024-07-15T05:36:48.261014",
     "status": "completed"
    },
    "tags": []
   },
   "outputs": [],
   "source": [
    "airnd_df = pd.read_csv(\"/kaggle/input/airbnbopendata/Airbnb_Open_Data.csv\",index_col = 'id',low_memory=False)"
   ]
  },
  {
   "cell_type": "code",
   "execution_count": 5,
   "id": "7b96e163",
   "metadata": {
    "execution": {
     "iopub.execute_input": "2024-07-15T05:36:49.267170Z",
     "iopub.status.busy": "2024-07-15T05:36:49.266804Z",
     "iopub.status.idle": "2024-07-15T05:36:49.274279Z",
     "shell.execute_reply": "2024-07-15T05:36:49.272843Z"
    },
    "papermill": {
     "duration": 0.02944,
     "end_time": "2024-07-15T05:36:49.276682",
     "exception": false,
     "start_time": "2024-07-15T05:36:49.247242",
     "status": "completed"
    },
    "tags": []
   },
   "outputs": [
    {
     "data": {
      "text/plain": [
       "(102599, 25)"
      ]
     },
     "execution_count": 5,
     "metadata": {},
     "output_type": "execute_result"
    }
   ],
   "source": [
    "airnd_df.shape"
   ]
  },
  {
   "cell_type": "markdown",
   "id": "182acb53",
   "metadata": {
    "papermill": {
     "duration": 0.018928,
     "end_time": "2024-07-15T05:36:49.314820",
     "exception": false,
     "start_time": "2024-07-15T05:36:49.295892",
     "status": "completed"
    },
    "tags": []
   },
   "source": [
    "**Total 25 columns**"
   ]
  },
  {
   "cell_type": "markdown",
   "id": "a2a317b5",
   "metadata": {
    "papermill": {
     "duration": 0.01845,
     "end_time": "2024-07-15T05:36:49.351508",
     "exception": false,
     "start_time": "2024-07-15T05:36:49.333058",
     "status": "completed"
    },
    "tags": []
   },
   "source": [
    "**Check if any columns has missing values**"
   ]
  },
  {
   "cell_type": "code",
   "execution_count": 6,
   "id": "0e5fe4c3",
   "metadata": {
    "execution": {
     "iopub.execute_input": "2024-07-15T05:36:49.392495Z",
     "iopub.status.busy": "2024-07-15T05:36:49.392106Z",
     "iopub.status.idle": "2024-07-15T05:36:49.475195Z",
     "shell.execute_reply": "2024-07-15T05:36:49.473700Z"
    },
    "papermill": {
     "duration": 0.107434,
     "end_time": "2024-07-15T05:36:49.477815",
     "exception": false,
     "start_time": "2024-07-15T05:36:49.370381",
     "status": "completed"
    },
    "tags": []
   },
   "outputs": [
    {
     "data": {
      "text/plain": [
       "NAME                                 250\n",
       "host id                                0\n",
       "host_identity_verified               289\n",
       "host name                            406\n",
       "neighbourhood group                   29\n",
       "neighbourhood                         16\n",
       "lat                                    8\n",
       "long                                   8\n",
       "country                              532\n",
       "country code                         131\n",
       "instant_bookable                     105\n",
       "cancellation_policy                   76\n",
       "room type                              0\n",
       "Construction year                    214\n",
       "price                                247\n",
       "service fee                          273\n",
       "minimum nights                       409\n",
       "number of reviews                    183\n",
       "last review                        15893\n",
       "reviews per month                  15879\n",
       "review rate number                   326\n",
       "calculated host listings count       319\n",
       "availability 365                     448\n",
       "house_rules                        52131\n",
       "license                           102597\n",
       "dtype: int64"
      ]
     },
     "execution_count": 6,
     "metadata": {},
     "output_type": "execute_result"
    }
   ],
   "source": [
    "before_nulls = airnd_df.isna().sum()\n",
    "before_nulls"
   ]
  },
  {
   "cell_type": "markdown",
   "id": "fcdfc188",
   "metadata": {
    "papermill": {
     "duration": 0.075933,
     "end_time": "2024-07-15T05:36:49.573046",
     "exception": false,
     "start_time": "2024-07-15T05:36:49.497113",
     "status": "completed"
    },
    "tags": []
   },
   "source": [
    "**Handling name**\n",
    "1. Since all columns are lower case lets make it to lower case"
   ]
  },
  {
   "cell_type": "code",
   "execution_count": 7,
   "id": "b1d0d357",
   "metadata": {
    "execution": {
     "iopub.execute_input": "2024-07-15T05:36:49.614566Z",
     "iopub.status.busy": "2024-07-15T05:36:49.614181Z",
     "iopub.status.idle": "2024-07-15T05:36:49.620125Z",
     "shell.execute_reply": "2024-07-15T05:36:49.618979Z"
    },
    "papermill": {
     "duration": 0.029571,
     "end_time": "2024-07-15T05:36:49.622570",
     "exception": false,
     "start_time": "2024-07-15T05:36:49.592999",
     "status": "completed"
    },
    "tags": []
   },
   "outputs": [],
   "source": [
    "airnd_df.rename(columns = {'NAME':'name'},inplace=True)"
   ]
  },
  {
   "cell_type": "code",
   "execution_count": 8,
   "id": "49f11aa0",
   "metadata": {
    "execution": {
     "iopub.execute_input": "2024-07-15T05:36:49.662341Z",
     "iopub.status.busy": "2024-07-15T05:36:49.661952Z",
     "iopub.status.idle": "2024-07-15T05:36:49.696970Z",
     "shell.execute_reply": "2024-07-15T05:36:49.695800Z"
    },
    "papermill": {
     "duration": 0.057851,
     "end_time": "2024-07-15T05:36:49.699565",
     "exception": false,
     "start_time": "2024-07-15T05:36:49.641714",
     "status": "completed"
    },
    "tags": []
   },
   "outputs": [
    {
     "data": {
      "text/html": [
       "<div>\n",
       "<style scoped>\n",
       "    .dataframe tbody tr th:only-of-type {\n",
       "        vertical-align: middle;\n",
       "    }\n",
       "\n",
       "    .dataframe tbody tr th {\n",
       "        vertical-align: top;\n",
       "    }\n",
       "\n",
       "    .dataframe thead th {\n",
       "        text-align: right;\n",
       "    }\n",
       "</style>\n",
       "<table border=\"1\" class=\"dataframe\">\n",
       "  <thead>\n",
       "    <tr style=\"text-align: right;\">\n",
       "      <th></th>\n",
       "      <th>name</th>\n",
       "      <th>host id</th>\n",
       "      <th>host_identity_verified</th>\n",
       "      <th>host name</th>\n",
       "      <th>neighbourhood group</th>\n",
       "      <th>neighbourhood</th>\n",
       "      <th>lat</th>\n",
       "      <th>long</th>\n",
       "      <th>country</th>\n",
       "      <th>country code</th>\n",
       "      <th>...</th>\n",
       "      <th>service fee</th>\n",
       "      <th>minimum nights</th>\n",
       "      <th>number of reviews</th>\n",
       "      <th>last review</th>\n",
       "      <th>reviews per month</th>\n",
       "      <th>review rate number</th>\n",
       "      <th>calculated host listings count</th>\n",
       "      <th>availability 365</th>\n",
       "      <th>house_rules</th>\n",
       "      <th>license</th>\n",
       "    </tr>\n",
       "    <tr>\n",
       "      <th>id</th>\n",
       "      <th></th>\n",
       "      <th></th>\n",
       "      <th></th>\n",
       "      <th></th>\n",
       "      <th></th>\n",
       "      <th></th>\n",
       "      <th></th>\n",
       "      <th></th>\n",
       "      <th></th>\n",
       "      <th></th>\n",
       "      <th></th>\n",
       "      <th></th>\n",
       "      <th></th>\n",
       "      <th></th>\n",
       "      <th></th>\n",
       "      <th></th>\n",
       "      <th></th>\n",
       "      <th></th>\n",
       "      <th></th>\n",
       "      <th></th>\n",
       "      <th></th>\n",
       "    </tr>\n",
       "  </thead>\n",
       "  <tbody>\n",
       "    <tr>\n",
       "      <th>1001254</th>\n",
       "      <td>Clean &amp; quiet apt home by the park</td>\n",
       "      <td>80014485718</td>\n",
       "      <td>unconfirmed</td>\n",
       "      <td>Madaline</td>\n",
       "      <td>Brooklyn</td>\n",
       "      <td>Kensington</td>\n",
       "      <td>40.64749</td>\n",
       "      <td>-73.97237</td>\n",
       "      <td>United States</td>\n",
       "      <td>US</td>\n",
       "      <td>...</td>\n",
       "      <td>$193</td>\n",
       "      <td>10.0</td>\n",
       "      <td>9.0</td>\n",
       "      <td>10/19/2021</td>\n",
       "      <td>0.21</td>\n",
       "      <td>4.0</td>\n",
       "      <td>6.0</td>\n",
       "      <td>286.0</td>\n",
       "      <td>Clean up and treat the home the way you'd like...</td>\n",
       "      <td>NaN</td>\n",
       "    </tr>\n",
       "    <tr>\n",
       "      <th>1002102</th>\n",
       "      <td>Skylit Midtown Castle</td>\n",
       "      <td>52335172823</td>\n",
       "      <td>verified</td>\n",
       "      <td>Jenna</td>\n",
       "      <td>Manhattan</td>\n",
       "      <td>Midtown</td>\n",
       "      <td>40.75362</td>\n",
       "      <td>-73.98377</td>\n",
       "      <td>United States</td>\n",
       "      <td>US</td>\n",
       "      <td>...</td>\n",
       "      <td>$28</td>\n",
       "      <td>30.0</td>\n",
       "      <td>45.0</td>\n",
       "      <td>5/21/2022</td>\n",
       "      <td>0.38</td>\n",
       "      <td>4.0</td>\n",
       "      <td>2.0</td>\n",
       "      <td>228.0</td>\n",
       "      <td>Pet friendly but please confirm with me if the...</td>\n",
       "      <td>NaN</td>\n",
       "    </tr>\n",
       "    <tr>\n",
       "      <th>1002403</th>\n",
       "      <td>THE VILLAGE OF HARLEM....NEW YORK !</td>\n",
       "      <td>78829239556</td>\n",
       "      <td>NaN</td>\n",
       "      <td>Elise</td>\n",
       "      <td>Manhattan</td>\n",
       "      <td>Harlem</td>\n",
       "      <td>40.80902</td>\n",
       "      <td>-73.94190</td>\n",
       "      <td>United States</td>\n",
       "      <td>US</td>\n",
       "      <td>...</td>\n",
       "      <td>$124</td>\n",
       "      <td>3.0</td>\n",
       "      <td>0.0</td>\n",
       "      <td>NaN</td>\n",
       "      <td>NaN</td>\n",
       "      <td>5.0</td>\n",
       "      <td>1.0</td>\n",
       "      <td>352.0</td>\n",
       "      <td>I encourage you to use my kitchen, cooking and...</td>\n",
       "      <td>NaN</td>\n",
       "    </tr>\n",
       "    <tr>\n",
       "      <th>1002755</th>\n",
       "      <td>NaN</td>\n",
       "      <td>85098326012</td>\n",
       "      <td>unconfirmed</td>\n",
       "      <td>Garry</td>\n",
       "      <td>Brooklyn</td>\n",
       "      <td>Clinton Hill</td>\n",
       "      <td>40.68514</td>\n",
       "      <td>-73.95976</td>\n",
       "      <td>United States</td>\n",
       "      <td>US</td>\n",
       "      <td>...</td>\n",
       "      <td>$74</td>\n",
       "      <td>30.0</td>\n",
       "      <td>270.0</td>\n",
       "      <td>7/5/2019</td>\n",
       "      <td>4.64</td>\n",
       "      <td>4.0</td>\n",
       "      <td>1.0</td>\n",
       "      <td>322.0</td>\n",
       "      <td>NaN</td>\n",
       "      <td>NaN</td>\n",
       "    </tr>\n",
       "    <tr>\n",
       "      <th>1003689</th>\n",
       "      <td>Entire Apt: Spacious Studio/Loft by central park</td>\n",
       "      <td>92037596077</td>\n",
       "      <td>verified</td>\n",
       "      <td>Lyndon</td>\n",
       "      <td>Manhattan</td>\n",
       "      <td>East Harlem</td>\n",
       "      <td>40.79851</td>\n",
       "      <td>-73.94399</td>\n",
       "      <td>United States</td>\n",
       "      <td>US</td>\n",
       "      <td>...</td>\n",
       "      <td>$41</td>\n",
       "      <td>10.0</td>\n",
       "      <td>9.0</td>\n",
       "      <td>11/19/2018</td>\n",
       "      <td>0.10</td>\n",
       "      <td>3.0</td>\n",
       "      <td>1.0</td>\n",
       "      <td>289.0</td>\n",
       "      <td>Please no smoking in the house, porch or on th...</td>\n",
       "      <td>NaN</td>\n",
       "    </tr>\n",
       "  </tbody>\n",
       "</table>\n",
       "<p>5 rows × 25 columns</p>\n",
       "</div>"
      ],
      "text/plain": [
       "                                                     name      host id  \\\n",
       "id                                                                       \n",
       "1001254                Clean & quiet apt home by the park  80014485718   \n",
       "1002102                             Skylit Midtown Castle  52335172823   \n",
       "1002403               THE VILLAGE OF HARLEM....NEW YORK !  78829239556   \n",
       "1002755                                               NaN  85098326012   \n",
       "1003689  Entire Apt: Spacious Studio/Loft by central park  92037596077   \n",
       "\n",
       "        host_identity_verified host name neighbourhood group neighbourhood  \\\n",
       "id                                                                           \n",
       "1001254            unconfirmed  Madaline            Brooklyn    Kensington   \n",
       "1002102               verified     Jenna           Manhattan       Midtown   \n",
       "1002403                    NaN     Elise           Manhattan        Harlem   \n",
       "1002755            unconfirmed     Garry            Brooklyn  Clinton Hill   \n",
       "1003689               verified    Lyndon           Manhattan   East Harlem   \n",
       "\n",
       "              lat      long        country country code  ... service fee  \\\n",
       "id                                                       ...               \n",
       "1001254  40.64749 -73.97237  United States           US  ...       $193    \n",
       "1002102  40.75362 -73.98377  United States           US  ...        $28    \n",
       "1002403  40.80902 -73.94190  United States           US  ...       $124    \n",
       "1002755  40.68514 -73.95976  United States           US  ...        $74    \n",
       "1003689  40.79851 -73.94399  United States           US  ...        $41    \n",
       "\n",
       "        minimum nights number of reviews  last review reviews per month  \\\n",
       "id                                                                        \n",
       "1001254           10.0               9.0   10/19/2021              0.21   \n",
       "1002102           30.0              45.0    5/21/2022              0.38   \n",
       "1002403            3.0               0.0          NaN               NaN   \n",
       "1002755           30.0             270.0     7/5/2019              4.64   \n",
       "1003689           10.0               9.0   11/19/2018              0.10   \n",
       "\n",
       "        review rate number  calculated host listings count  availability 365  \\\n",
       "id                                                                             \n",
       "1001254                4.0                             6.0             286.0   \n",
       "1002102                4.0                             2.0             228.0   \n",
       "1002403                5.0                             1.0             352.0   \n",
       "1002755                4.0                             1.0             322.0   \n",
       "1003689                3.0                             1.0             289.0   \n",
       "\n",
       "                                               house_rules  license  \n",
       "id                                                                   \n",
       "1001254  Clean up and treat the home the way you'd like...      NaN  \n",
       "1002102  Pet friendly but please confirm with me if the...      NaN  \n",
       "1002403  I encourage you to use my kitchen, cooking and...      NaN  \n",
       "1002755                                                NaN      NaN  \n",
       "1003689  Please no smoking in the house, porch or on th...      NaN  \n",
       "\n",
       "[5 rows x 25 columns]"
      ]
     },
     "execution_count": 8,
     "metadata": {},
     "output_type": "execute_result"
    }
   ],
   "source": [
    "airnd_df.head()"
   ]
  },
  {
   "cell_type": "markdown",
   "id": "a184508b",
   "metadata": {
    "papermill": {
     "duration": 0.018984,
     "end_time": "2024-07-15T05:36:49.737817",
     "exception": false,
     "start_time": "2024-07-15T05:36:49.718833",
     "status": "completed"
    },
    "tags": []
   },
   "source": [
    "**Even though few names are null still we can find name if their lat and long matches with any other**"
   ]
  },
  {
   "cell_type": "code",
   "execution_count": 9,
   "id": "374422c6",
   "metadata": {
    "execution": {
     "iopub.execute_input": "2024-07-15T05:36:49.778992Z",
     "iopub.status.busy": "2024-07-15T05:36:49.778623Z",
     "iopub.status.idle": "2024-07-15T05:36:49.828771Z",
     "shell.execute_reply": "2024-07-15T05:36:49.827732Z"
    },
    "papermill": {
     "duration": 0.073381,
     "end_time": "2024-07-15T05:36:49.831194",
     "exception": false,
     "start_time": "2024-07-15T05:36:49.757813",
     "status": "completed"
    },
    "tags": []
   },
   "outputs": [
    {
     "data": {
      "text/plain": [
       "lat       long     \n",
       "40.49979  -74.24084    1\n",
       "40.50456  -74.24984    1\n",
       "40.50641  -74.23059    1\n",
       "40.50708  -74.24285    2\n",
       "40.50863  -74.24135    1\n",
       "                      ..\n",
       "40.91248  -73.84885    1\n",
       "40.91306  -73.89389    1\n",
       "40.91310  -73.89518    1\n",
       "40.91685  -73.90136    1\n",
       "40.91697  -73.90125    1\n",
       "Name: name, Length: 67162, dtype: int64"
      ]
     },
     "execution_count": 9,
     "metadata": {},
     "output_type": "execute_result"
    }
   ],
   "source": [
    "airnd_df.groupby(['lat','long']).name.count()"
   ]
  },
  {
   "cell_type": "markdown",
   "id": "816d1703",
   "metadata": {
    "papermill": {
     "duration": 0.019598,
     "end_time": "2024-07-15T05:36:49.870694",
     "exception": false,
     "start_time": "2024-07-15T05:36:49.851096",
     "status": "completed"
    },
    "tags": []
   },
   "source": [
    "**Based on above result we can assume that lat and long are repating so we can try to fix names** "
   ]
  },
  {
   "cell_type": "code",
   "execution_count": 10,
   "id": "da9bf7fd",
   "metadata": {
    "execution": {
     "iopub.execute_input": "2024-07-15T05:36:49.916734Z",
     "iopub.status.busy": "2024-07-15T05:36:49.916340Z",
     "iopub.status.idle": "2024-07-15T05:36:49.921336Z",
     "shell.execute_reply": "2024-07-15T05:36:49.919990Z"
    },
    "papermill": {
     "duration": 0.029641,
     "end_time": "2024-07-15T05:36:49.923819",
     "exception": false,
     "start_time": "2024-07-15T05:36:49.894178",
     "status": "completed"
    },
    "tags": []
   },
   "outputs": [],
   "source": [
    "# new_name = airnd_df.loc[(airnd_df['lat'] == 40.50708) & (airnd_df['long'] == -74.24285) ,'name'].unique()[0]\n",
    "# new_name"
   ]
  },
  {
   "cell_type": "code",
   "execution_count": 11,
   "id": "0d01d37e",
   "metadata": {
    "execution": {
     "iopub.execute_input": "2024-07-15T05:36:49.965408Z",
     "iopub.status.busy": "2024-07-15T05:36:49.965041Z",
     "iopub.status.idle": "2024-07-15T05:36:49.970802Z",
     "shell.execute_reply": "2024-07-15T05:36:49.969711Z"
    },
    "papermill": {
     "duration": 0.029484,
     "end_time": "2024-07-15T05:36:49.973148",
     "exception": false,
     "start_time": "2024-07-15T05:36:49.943664",
     "status": "completed"
    },
    "tags": []
   },
   "outputs": [],
   "source": [
    "def fill_name(x):\n",
    "    if pd.isna(x.name):\n",
    "        new_name = airnd_df.loc[(airnd_df['lat'] == x.lat) & (airnd_df['long'] == x.long) ,'name'].unique()[0]\n",
    "        x.name = new_name \n",
    "    return x"
   ]
  },
  {
   "cell_type": "code",
   "execution_count": 12,
   "id": "a6432d16",
   "metadata": {
    "execution": {
     "iopub.execute_input": "2024-07-15T05:36:50.014537Z",
     "iopub.status.busy": "2024-07-15T05:36:50.014014Z",
     "iopub.status.idle": "2024-07-15T05:36:55.690669Z",
     "shell.execute_reply": "2024-07-15T05:36:55.689279Z"
    },
    "papermill": {
     "duration": 5.700718,
     "end_time": "2024-07-15T05:36:55.693543",
     "exception": false,
     "start_time": "2024-07-15T05:36:49.992825",
     "status": "completed"
    },
    "tags": []
   },
   "outputs": [],
   "source": [
    "updated_df = airnd_df.apply(fill_name,axis = 1)"
   ]
  },
  {
   "cell_type": "code",
   "execution_count": 13,
   "id": "2362e075",
   "metadata": {
    "execution": {
     "iopub.execute_input": "2024-07-15T05:36:55.734030Z",
     "iopub.status.busy": "2024-07-15T05:36:55.733671Z",
     "iopub.status.idle": "2024-07-15T05:36:55.863354Z",
     "shell.execute_reply": "2024-07-15T05:36:55.862085Z"
    },
    "papermill": {
     "duration": 0.15307,
     "end_time": "2024-07-15T05:36:55.865998",
     "exception": false,
     "start_time": "2024-07-15T05:36:55.712928",
     "status": "completed"
    },
    "tags": []
   },
   "outputs": [
    {
     "data": {
      "text/plain": [
       "name                                 250\n",
       "host id                                0\n",
       "host_identity_verified               289\n",
       "host name                            406\n",
       "neighbourhood group                   29\n",
       "neighbourhood                         16\n",
       "lat                                    8\n",
       "long                                   8\n",
       "country                              532\n",
       "country code                         131\n",
       "instant_bookable                     105\n",
       "cancellation_policy                   76\n",
       "room type                              0\n",
       "Construction year                    214\n",
       "price                                247\n",
       "service fee                          273\n",
       "minimum nights                       409\n",
       "number of reviews                    183\n",
       "last review                        15893\n",
       "reviews per month                  15879\n",
       "review rate number                   326\n",
       "calculated host listings count       319\n",
       "availability 365                     448\n",
       "house_rules                        52131\n",
       "license                           102597\n",
       "dtype: int64"
      ]
     },
     "execution_count": 13,
     "metadata": {},
     "output_type": "execute_result"
    }
   ],
   "source": [
    "updated_df.isna().sum()"
   ]
  },
  {
   "cell_type": "markdown",
   "id": "8fd9b8fe",
   "metadata": {
    "papermill": {
     "duration": 0.021182,
     "end_time": "2024-07-15T05:36:55.907028",
     "exception": false,
     "start_time": "2024-07-15T05:36:55.885846",
     "status": "completed"
    },
    "tags": []
   },
   "source": [
    "**No use none of them are matching**\n",
    "\n",
    "**Since we can get the name we need to drop columns with name = null**"
   ]
  },
  {
   "cell_type": "code",
   "execution_count": 14,
   "id": "b1dc8ca4",
   "metadata": {
    "execution": {
     "iopub.execute_input": "2024-07-15T05:36:55.947890Z",
     "iopub.status.busy": "2024-07-15T05:36:55.947141Z",
     "iopub.status.idle": "2024-07-15T05:36:56.097594Z",
     "shell.execute_reply": "2024-07-15T05:36:56.096389Z"
    },
    "papermill": {
     "duration": 0.173768,
     "end_time": "2024-07-15T05:36:56.100313",
     "exception": false,
     "start_time": "2024-07-15T05:36:55.926545",
     "status": "completed"
    },
    "tags": []
   },
   "outputs": [],
   "source": [
    "updated_df.dropna(subset=['name'],inplace = True)"
   ]
  },
  {
   "cell_type": "code",
   "execution_count": 15,
   "id": "e9d5f80a",
   "metadata": {
    "execution": {
     "iopub.execute_input": "2024-07-15T05:36:56.143418Z",
     "iopub.status.busy": "2024-07-15T05:36:56.142961Z",
     "iopub.status.idle": "2024-07-15T05:36:56.227561Z",
     "shell.execute_reply": "2024-07-15T05:36:56.225825Z"
    },
    "papermill": {
     "duration": 0.108345,
     "end_time": "2024-07-15T05:36:56.230141",
     "exception": false,
     "start_time": "2024-07-15T05:36:56.121796",
     "status": "completed"
    },
    "tags": []
   },
   "outputs": [
    {
     "data": {
      "text/plain": [
       "name                                   0\n",
       "host id                                0\n",
       "host_identity_verified               277\n",
       "host name                            400\n",
       "neighbourhood group                   27\n",
       "neighbourhood                         16\n",
       "lat                                    8\n",
       "long                                   8\n",
       "country                              527\n",
       "country code                         123\n",
       "instant_bookable                      97\n",
       "cancellation_policy                   71\n",
       "room type                              0\n",
       "Construction year                    205\n",
       "price                                244\n",
       "service fee                          273\n",
       "minimum nights                       403\n",
       "number of reviews                    182\n",
       "last review                        15857\n",
       "reviews per month                  15843\n",
       "review rate number                   318\n",
       "calculated host listings count       318\n",
       "availability 365                     430\n",
       "house_rules                        52025\n",
       "license                           102347\n",
       "dtype: int64"
      ]
     },
     "execution_count": 15,
     "metadata": {},
     "output_type": "execute_result"
    }
   ],
   "source": [
    "updated_df.isna().sum()"
   ]
  },
  {
   "cell_type": "code",
   "execution_count": 16,
   "id": "972624e9",
   "metadata": {
    "execution": {
     "iopub.execute_input": "2024-07-15T05:36:56.271351Z",
     "iopub.status.busy": "2024-07-15T05:36:56.270937Z",
     "iopub.status.idle": "2024-07-15T05:36:56.277391Z",
     "shell.execute_reply": "2024-07-15T05:36:56.276331Z"
    },
    "papermill": {
     "duration": 0.030424,
     "end_time": "2024-07-15T05:36:56.280178",
     "exception": false,
     "start_time": "2024-07-15T05:36:56.249754",
     "status": "completed"
    },
    "tags": []
   },
   "outputs": [
    {
     "data": {
      "text/plain": [
       "(102349, 25)"
      ]
     },
     "execution_count": 16,
     "metadata": {},
     "output_type": "execute_result"
    }
   ],
   "source": [
    "updated_df.shape"
   ]
  },
  {
   "cell_type": "markdown",
   "id": "34d00c62",
   "metadata": {
    "papermill": {
     "duration": 0.021091,
     "end_time": "2024-07-15T05:36:56.321755",
     "exception": false,
     "start_time": "2024-07-15T05:36:56.300664",
     "status": "completed"
    },
    "tags": []
   },
   "source": [
    "**Making all null host_identity to unconfirmed**"
   ]
  },
  {
   "cell_type": "code",
   "execution_count": 17,
   "id": "8e2c52ab",
   "metadata": {
    "execution": {
     "iopub.execute_input": "2024-07-15T05:36:56.366606Z",
     "iopub.status.busy": "2024-07-15T05:36:56.365447Z",
     "iopub.status.idle": "2024-07-15T05:36:56.378607Z",
     "shell.execute_reply": "2024-07-15T05:36:56.377393Z"
    },
    "papermill": {
     "duration": 0.038359,
     "end_time": "2024-07-15T05:36:56.381244",
     "exception": false,
     "start_time": "2024-07-15T05:36:56.342885",
     "status": "completed"
    },
    "tags": []
   },
   "outputs": [],
   "source": [
    "updated_host_identity = updated_df.host_identity_verified.fillna('unconfirmed')"
   ]
  },
  {
   "cell_type": "code",
   "execution_count": 18,
   "id": "826d7e04",
   "metadata": {
    "execution": {
     "iopub.execute_input": "2024-07-15T05:36:56.424062Z",
     "iopub.status.busy": "2024-07-15T05:36:56.423593Z",
     "iopub.status.idle": "2024-07-15T05:36:56.430867Z",
     "shell.execute_reply": "2024-07-15T05:36:56.429877Z"
    },
    "papermill": {
     "duration": 0.031649,
     "end_time": "2024-07-15T05:36:56.433212",
     "exception": false,
     "start_time": "2024-07-15T05:36:56.401563",
     "status": "completed"
    },
    "tags": []
   },
   "outputs": [],
   "source": [
    "updated_df['host_identity_verified'] = updated_host_identity"
   ]
  },
  {
   "cell_type": "code",
   "execution_count": 19,
   "id": "0a0c9496",
   "metadata": {
    "execution": {
     "iopub.execute_input": "2024-07-15T05:36:56.475483Z",
     "iopub.status.busy": "2024-07-15T05:36:56.475101Z",
     "iopub.status.idle": "2024-07-15T05:36:56.558047Z",
     "shell.execute_reply": "2024-07-15T05:36:56.556784Z"
    },
    "papermill": {
     "duration": 0.106822,
     "end_time": "2024-07-15T05:36:56.560534",
     "exception": false,
     "start_time": "2024-07-15T05:36:56.453712",
     "status": "completed"
    },
    "tags": []
   },
   "outputs": [
    {
     "data": {
      "text/plain": [
       "name                                   0\n",
       "host id                                0\n",
       "host_identity_verified                 0\n",
       "host name                            400\n",
       "neighbourhood group                   27\n",
       "neighbourhood                         16\n",
       "lat                                    8\n",
       "long                                   8\n",
       "country                              527\n",
       "country code                         123\n",
       "instant_bookable                      97\n",
       "cancellation_policy                   71\n",
       "room type                              0\n",
       "Construction year                    205\n",
       "price                                244\n",
       "service fee                          273\n",
       "minimum nights                       403\n",
       "number of reviews                    182\n",
       "last review                        15857\n",
       "reviews per month                  15843\n",
       "review rate number                   318\n",
       "calculated host listings count       318\n",
       "availability 365                     430\n",
       "house_rules                        52025\n",
       "license                           102347\n",
       "dtype: int64"
      ]
     },
     "execution_count": 19,
     "metadata": {},
     "output_type": "execute_result"
    }
   ],
   "source": [
    "updated_df.isna().sum()"
   ]
  },
  {
   "cell_type": "markdown",
   "id": "1d2fe6dc",
   "metadata": {
    "papermill": {
     "duration": 0.020411,
     "end_time": "2024-07-15T05:36:56.601357",
     "exception": false,
     "start_time": "2024-07-15T05:36:56.580946",
     "status": "completed"
    },
    "tags": []
   },
   "source": [
    "**Making all null host_names to unknown**"
   ]
  },
  {
   "cell_type": "code",
   "execution_count": 20,
   "id": "456b03d5",
   "metadata": {
    "execution": {
     "iopub.execute_input": "2024-07-15T05:36:56.642802Z",
     "iopub.status.busy": "2024-07-15T05:36:56.642445Z",
     "iopub.status.idle": "2024-07-15T05:36:56.657789Z",
     "shell.execute_reply": "2024-07-15T05:36:56.656625Z"
    },
    "papermill": {
     "duration": 0.039229,
     "end_time": "2024-07-15T05:36:56.660402",
     "exception": false,
     "start_time": "2024-07-15T05:36:56.621173",
     "status": "completed"
    },
    "tags": []
   },
   "outputs": [],
   "source": [
    "updated_df['host name'] = updated_df['host name'].fillna('unknown')"
   ]
  },
  {
   "cell_type": "code",
   "execution_count": 21,
   "id": "9f43a80e",
   "metadata": {
    "execution": {
     "iopub.execute_input": "2024-07-15T05:36:56.703140Z",
     "iopub.status.busy": "2024-07-15T05:36:56.702751Z",
     "iopub.status.idle": "2024-07-15T05:36:56.784951Z",
     "shell.execute_reply": "2024-07-15T05:36:56.783778Z"
    },
    "papermill": {
     "duration": 0.106854,
     "end_time": "2024-07-15T05:36:56.787817",
     "exception": false,
     "start_time": "2024-07-15T05:36:56.680963",
     "status": "completed"
    },
    "tags": []
   },
   "outputs": [
    {
     "data": {
      "text/plain": [
       "name                                   0\n",
       "host id                                0\n",
       "host_identity_verified                 0\n",
       "host name                              0\n",
       "neighbourhood group                   27\n",
       "neighbourhood                         16\n",
       "lat                                    8\n",
       "long                                   8\n",
       "country                              527\n",
       "country code                         123\n",
       "instant_bookable                      97\n",
       "cancellation_policy                   71\n",
       "room type                              0\n",
       "Construction year                    205\n",
       "price                                244\n",
       "service fee                          273\n",
       "minimum nights                       403\n",
       "number of reviews                    182\n",
       "last review                        15857\n",
       "reviews per month                  15843\n",
       "review rate number                   318\n",
       "calculated host listings count       318\n",
       "availability 365                     430\n",
       "house_rules                        52025\n",
       "license                           102347\n",
       "dtype: int64"
      ]
     },
     "execution_count": 21,
     "metadata": {},
     "output_type": "execute_result"
    }
   ],
   "source": [
    "updated_df.isna().sum()"
   ]
  },
  {
   "cell_type": "code",
   "execution_count": 22,
   "id": "328a3e1a",
   "metadata": {
    "execution": {
     "iopub.execute_input": "2024-07-15T05:36:56.830970Z",
     "iopub.status.busy": "2024-07-15T05:36:56.830575Z",
     "iopub.status.idle": "2024-07-15T05:36:56.848539Z",
     "shell.execute_reply": "2024-07-15T05:36:56.847384Z"
    },
    "papermill": {
     "duration": 0.042248,
     "end_time": "2024-07-15T05:36:56.851029",
     "exception": false,
     "start_time": "2024-07-15T05:36:56.808781",
     "status": "completed"
    },
    "tags": []
   },
   "outputs": [
    {
     "data": {
      "text/html": [
       "<div>\n",
       "<style scoped>\n",
       "    .dataframe tbody tr th:only-of-type {\n",
       "        vertical-align: middle;\n",
       "    }\n",
       "\n",
       "    .dataframe tbody tr th {\n",
       "        vertical-align: top;\n",
       "    }\n",
       "\n",
       "    .dataframe thead th {\n",
       "        text-align: right;\n",
       "    }\n",
       "</style>\n",
       "<table border=\"1\" class=\"dataframe\">\n",
       "  <thead>\n",
       "    <tr style=\"text-align: right;\">\n",
       "      <th></th>\n",
       "      <th>neighbourhood group</th>\n",
       "      <th>neighbourhood</th>\n",
       "    </tr>\n",
       "    <tr>\n",
       "      <th>id</th>\n",
       "      <th></th>\n",
       "      <th></th>\n",
       "    </tr>\n",
       "  </thead>\n",
       "  <tbody>\n",
       "    <tr>\n",
       "      <th>1001254</th>\n",
       "      <td>Brooklyn</td>\n",
       "      <td>Kensington</td>\n",
       "    </tr>\n",
       "    <tr>\n",
       "      <th>1002102</th>\n",
       "      <td>Manhattan</td>\n",
       "      <td>Midtown</td>\n",
       "    </tr>\n",
       "    <tr>\n",
       "      <th>1002403</th>\n",
       "      <td>Manhattan</td>\n",
       "      <td>Harlem</td>\n",
       "    </tr>\n",
       "    <tr>\n",
       "      <th>1003689</th>\n",
       "      <td>Manhattan</td>\n",
       "      <td>East Harlem</td>\n",
       "    </tr>\n",
       "    <tr>\n",
       "      <th>1004098</th>\n",
       "      <td>Manhattan</td>\n",
       "      <td>Murray Hill</td>\n",
       "    </tr>\n",
       "    <tr>\n",
       "      <th>...</th>\n",
       "      <td>...</td>\n",
       "      <td>...</td>\n",
       "    </tr>\n",
       "    <tr>\n",
       "      <th>6092437</th>\n",
       "      <td>Brooklyn</td>\n",
       "      <td>Williamsburg</td>\n",
       "    </tr>\n",
       "    <tr>\n",
       "      <th>6092990</th>\n",
       "      <td>Manhattan</td>\n",
       "      <td>Morningside Heights</td>\n",
       "    </tr>\n",
       "    <tr>\n",
       "      <th>6093542</th>\n",
       "      <td>Brooklyn</td>\n",
       "      <td>Park Slope</td>\n",
       "    </tr>\n",
       "    <tr>\n",
       "      <th>6094094</th>\n",
       "      <td>Queens</td>\n",
       "      <td>Long Island City</td>\n",
       "    </tr>\n",
       "    <tr>\n",
       "      <th>6094647</th>\n",
       "      <td>Manhattan</td>\n",
       "      <td>Upper West Side</td>\n",
       "    </tr>\n",
       "  </tbody>\n",
       "</table>\n",
       "<p>102349 rows × 2 columns</p>\n",
       "</div>"
      ],
      "text/plain": [
       "        neighbourhood group        neighbourhood\n",
       "id                                              \n",
       "1001254            Brooklyn           Kensington\n",
       "1002102           Manhattan              Midtown\n",
       "1002403           Manhattan               Harlem\n",
       "1003689           Manhattan          East Harlem\n",
       "1004098           Manhattan          Murray Hill\n",
       "...                     ...                  ...\n",
       "6092437            Brooklyn         Williamsburg\n",
       "6092990           Manhattan  Morningside Heights\n",
       "6093542            Brooklyn           Park Slope\n",
       "6094094              Queens     Long Island City\n",
       "6094647           Manhattan      Upper West Side\n",
       "\n",
       "[102349 rows x 2 columns]"
      ]
     },
     "execution_count": 22,
     "metadata": {},
     "output_type": "execute_result"
    }
   ],
   "source": [
    "updated_df.loc[:,'neighbourhood group':'neighbourhood']"
   ]
  },
  {
   "cell_type": "code",
   "execution_count": 23,
   "id": "d7398267",
   "metadata": {
    "execution": {
     "iopub.execute_input": "2024-07-15T05:36:56.893440Z",
     "iopub.status.busy": "2024-07-15T05:36:56.893064Z",
     "iopub.status.idle": "2024-07-15T05:36:56.927665Z",
     "shell.execute_reply": "2024-07-15T05:36:56.926491Z"
    },
    "papermill": {
     "duration": 0.05871,
     "end_time": "2024-07-15T05:36:56.930095",
     "exception": false,
     "start_time": "2024-07-15T05:36:56.871385",
     "status": "completed"
    },
    "tags": []
   },
   "outputs": [
    {
     "data": {
      "text/plain": [
       "neighbourhood group  neighbourhood\n",
       "Bronx                Allerton         97\n",
       "                     Baychester       29\n",
       "                     Belmont          45\n",
       "                     Bronxdale        47\n",
       "                     Castle Hill      22\n",
       "                                      ..\n",
       "Staten Island        Westerleigh       5\n",
       "                     Willowbrook       3\n",
       "                     Woodrow           3\n",
       "brookln              South Slope       1\n",
       "manhatan             Chelsea           1\n",
       "Name: name, Length: 226, dtype: int64"
      ]
     },
     "execution_count": 23,
     "metadata": {},
     "output_type": "execute_result"
    }
   ],
   "source": [
    "updated_df.groupby(['neighbourhood group','neighbourhood']).name.count()"
   ]
  },
  {
   "cell_type": "code",
   "execution_count": 24,
   "id": "305c0dd7",
   "metadata": {
    "execution": {
     "iopub.execute_input": "2024-07-15T05:36:56.973173Z",
     "iopub.status.busy": "2024-07-15T05:36:56.972820Z",
     "iopub.status.idle": "2024-07-15T05:36:57.023392Z",
     "shell.execute_reply": "2024-07-15T05:36:57.022067Z"
    },
    "papermill": {
     "duration": 0.075476,
     "end_time": "2024-07-15T05:36:57.025978",
     "exception": false,
     "start_time": "2024-07-15T05:36:56.950502",
     "status": "completed"
    },
    "tags": []
   },
   "outputs": [
    {
     "data": {
      "text/html": [
       "<div>\n",
       "<style scoped>\n",
       "    .dataframe tbody tr th:only-of-type {\n",
       "        vertical-align: middle;\n",
       "    }\n",
       "\n",
       "    .dataframe tbody tr th {\n",
       "        vertical-align: top;\n",
       "    }\n",
       "\n",
       "    .dataframe thead th {\n",
       "        text-align: right;\n",
       "    }\n",
       "</style>\n",
       "<table border=\"1\" class=\"dataframe\">\n",
       "  <thead>\n",
       "    <tr style=\"text-align: right;\">\n",
       "      <th></th>\n",
       "      <th>name</th>\n",
       "      <th>host id</th>\n",
       "      <th>host_identity_verified</th>\n",
       "      <th>host name</th>\n",
       "      <th>neighbourhood group</th>\n",
       "      <th>neighbourhood</th>\n",
       "      <th>lat</th>\n",
       "      <th>long</th>\n",
       "      <th>country</th>\n",
       "      <th>country code</th>\n",
       "      <th>...</th>\n",
       "      <th>service fee</th>\n",
       "      <th>minimum nights</th>\n",
       "      <th>number of reviews</th>\n",
       "      <th>last review</th>\n",
       "      <th>reviews per month</th>\n",
       "      <th>review rate number</th>\n",
       "      <th>calculated host listings count</th>\n",
       "      <th>availability 365</th>\n",
       "      <th>house_rules</th>\n",
       "      <th>license</th>\n",
       "    </tr>\n",
       "    <tr>\n",
       "      <th>id</th>\n",
       "      <th></th>\n",
       "      <th></th>\n",
       "      <th></th>\n",
       "      <th></th>\n",
       "      <th></th>\n",
       "      <th></th>\n",
       "      <th></th>\n",
       "      <th></th>\n",
       "      <th></th>\n",
       "      <th></th>\n",
       "      <th></th>\n",
       "      <th></th>\n",
       "      <th></th>\n",
       "      <th></th>\n",
       "      <th></th>\n",
       "      <th></th>\n",
       "      <th></th>\n",
       "      <th></th>\n",
       "      <th></th>\n",
       "      <th></th>\n",
       "      <th></th>\n",
       "    </tr>\n",
       "  </thead>\n",
       "  <tbody>\n",
       "    <tr>\n",
       "      <th>1283561</th>\n",
       "      <td>A PRIVATE FLAT / APARTMENT- $SPECIAL$</td>\n",
       "      <td>25554233693</td>\n",
       "      <td>unconfirmed</td>\n",
       "      <td>Alford</td>\n",
       "      <td>Bronx</td>\n",
       "      <td>Allerton</td>\n",
       "      <td>40.86466</td>\n",
       "      <td>-73.85709</td>\n",
       "      <td>United States</td>\n",
       "      <td>US</td>\n",
       "      <td>...</td>\n",
       "      <td>$15</td>\n",
       "      <td>2.0</td>\n",
       "      <td>271.0</td>\n",
       "      <td>6/20/2019</td>\n",
       "      <td>2.84</td>\n",
       "      <td>1.0</td>\n",
       "      <td>2.0</td>\n",
       "      <td>NaN</td>\n",
       "      <td>Please remember that this is a residential bui...</td>\n",
       "      <td>NaN</td>\n",
       "    </tr>\n",
       "    <tr>\n",
       "      <th>1646422</th>\n",
       "      <td>Hi Traveler.. welcome</td>\n",
       "      <td>39562464038</td>\n",
       "      <td>verified</td>\n",
       "      <td>Ellen</td>\n",
       "      <td>Bronx</td>\n",
       "      <td>Allerton</td>\n",
       "      <td>40.86870</td>\n",
       "      <td>-73.85240</td>\n",
       "      <td>United States</td>\n",
       "      <td>US</td>\n",
       "      <td>...</td>\n",
       "      <td>$20</td>\n",
       "      <td>7.0</td>\n",
       "      <td>2.0</td>\n",
       "      <td>7/23/2018</td>\n",
       "      <td>0.17</td>\n",
       "      <td>5.0</td>\n",
       "      <td>1.0</td>\n",
       "      <td>165.0</td>\n",
       "      <td>No Smoking No Pets</td>\n",
       "      <td>NaN</td>\n",
       "    </tr>\n",
       "    <tr>\n",
       "      <th>1873418</th>\n",
       "      <td>2 Beds/Queen &amp; Full Beautiful Room 40 minsT.Sq...</td>\n",
       "      <td>62351131714</td>\n",
       "      <td>unconfirmed</td>\n",
       "      <td>Enrique</td>\n",
       "      <td>Bronx</td>\n",
       "      <td>Allerton</td>\n",
       "      <td>40.85956</td>\n",
       "      <td>-73.87067</td>\n",
       "      <td>United States</td>\n",
       "      <td>US</td>\n",
       "      <td>...</td>\n",
       "      <td>$232</td>\n",
       "      <td>2.0</td>\n",
       "      <td>169.0</td>\n",
       "      <td>6/12/2019</td>\n",
       "      <td>2.07</td>\n",
       "      <td>1.0</td>\n",
       "      <td>4.0</td>\n",
       "      <td>359.0</td>\n",
       "      <td>- No Smoking In the House.  There is a back po...</td>\n",
       "      <td>NaN</td>\n",
       "    </tr>\n",
       "    <tr>\n",
       "      <th>1922020</th>\n",
       "      <td>PRIVATE BATH/TONS OF SUNLIGHT/SAFE</td>\n",
       "      <td>77129391486</td>\n",
       "      <td>unconfirmed</td>\n",
       "      <td>Enrique</td>\n",
       "      <td>Bronx</td>\n",
       "      <td>Allerton</td>\n",
       "      <td>40.85840</td>\n",
       "      <td>-73.86969</td>\n",
       "      <td>United States</td>\n",
       "      <td>US</td>\n",
       "      <td>...</td>\n",
       "      <td>$109</td>\n",
       "      <td>2.0</td>\n",
       "      <td>189.0</td>\n",
       "      <td>6/23/2019</td>\n",
       "      <td>2.32</td>\n",
       "      <td>2.0</td>\n",
       "      <td>4.0</td>\n",
       "      <td>393.0</td>\n",
       "      <td>Quiet hours are from midnight to 6 a.m.  We as...</td>\n",
       "      <td>NaN</td>\n",
       "    </tr>\n",
       "    <tr>\n",
       "      <th>1944112</th>\n",
       "      <td>Nice beautiful room In the Bronx</td>\n",
       "      <td>51589747151</td>\n",
       "      <td>unconfirmed</td>\n",
       "      <td>Enrique</td>\n",
       "      <td>Bronx</td>\n",
       "      <td>Allerton</td>\n",
       "      <td>40.85914</td>\n",
       "      <td>-73.86979</td>\n",
       "      <td>United States</td>\n",
       "      <td>US</td>\n",
       "      <td>...</td>\n",
       "      <td>$192</td>\n",
       "      <td>1.0</td>\n",
       "      <td>187.0</td>\n",
       "      <td>6/23/2019</td>\n",
       "      <td>2.34</td>\n",
       "      <td>4.0</td>\n",
       "      <td>4.0</td>\n",
       "      <td>313.0</td>\n",
       "      <td>NaN</td>\n",
       "      <td>NaN</td>\n",
       "    </tr>\n",
       "    <tr>\n",
       "      <th>...</th>\n",
       "      <td>...</td>\n",
       "      <td>...</td>\n",
       "      <td>...</td>\n",
       "      <td>...</td>\n",
       "      <td>...</td>\n",
       "      <td>...</td>\n",
       "      <td>...</td>\n",
       "      <td>...</td>\n",
       "      <td>...</td>\n",
       "      <td>...</td>\n",
       "      <td>...</td>\n",
       "      <td>...</td>\n",
       "      <td>...</td>\n",
       "      <td>...</td>\n",
       "      <td>...</td>\n",
       "      <td>...</td>\n",
       "      <td>...</td>\n",
       "      <td>...</td>\n",
       "      <td>...</td>\n",
       "      <td>...</td>\n",
       "      <td>...</td>\n",
       "    </tr>\n",
       "    <tr>\n",
       "      <th>54298838</th>\n",
       "      <td>#ERROR!</td>\n",
       "      <td>41841353089</td>\n",
       "      <td>verified</td>\n",
       "      <td>William</td>\n",
       "      <td>Bronx</td>\n",
       "      <td>Allerton</td>\n",
       "      <td>40.86014</td>\n",
       "      <td>-73.86301</td>\n",
       "      <td>United States</td>\n",
       "      <td>US</td>\n",
       "      <td>...</td>\n",
       "      <td>$173</td>\n",
       "      <td>1.0</td>\n",
       "      <td>30.0</td>\n",
       "      <td>7/2/2019</td>\n",
       "      <td>2.56</td>\n",
       "      <td>4.0</td>\n",
       "      <td>5.0</td>\n",
       "      <td>48.0</td>\n",
       "      <td>The apartment is non-smoking and pets are not ...</td>\n",
       "      <td>NaN</td>\n",
       "    </tr>\n",
       "    <tr>\n",
       "      <th>54299943</th>\n",
       "      <td>❤️ Beautiful, Bright Room - Late Self Check-In...</td>\n",
       "      <td>14682176495</td>\n",
       "      <td>unconfirmed</td>\n",
       "      <td>William</td>\n",
       "      <td>Bronx</td>\n",
       "      <td>Allerton</td>\n",
       "      <td>40.86013</td>\n",
       "      <td>-73.86339</td>\n",
       "      <td>United States</td>\n",
       "      <td>US</td>\n",
       "      <td>...</td>\n",
       "      <td>$115</td>\n",
       "      <td>1.0</td>\n",
       "      <td>30.0</td>\n",
       "      <td>7/2/2019</td>\n",
       "      <td>2.56</td>\n",
       "      <td>2.0</td>\n",
       "      <td>5.0</td>\n",
       "      <td>57.0</td>\n",
       "      <td>NaN</td>\n",
       "      <td>NaN</td>\n",
       "    </tr>\n",
       "    <tr>\n",
       "      <th>54394386</th>\n",
       "      <td>Private Room</td>\n",
       "      <td>56063277482</td>\n",
       "      <td>verified</td>\n",
       "      <td>Momo</td>\n",
       "      <td>Bronx</td>\n",
       "      <td>Allerton</td>\n",
       "      <td>40.86659</td>\n",
       "      <td>-73.86600</td>\n",
       "      <td>United States</td>\n",
       "      <td>US</td>\n",
       "      <td>...</td>\n",
       "      <td>$17</td>\n",
       "      <td>2.0</td>\n",
       "      <td>0.0</td>\n",
       "      <td>NaN</td>\n",
       "      <td>NaN</td>\n",
       "      <td>3.0</td>\n",
       "      <td>1.0</td>\n",
       "      <td>0.0</td>\n",
       "      <td>Please remember that this is a residential bui...</td>\n",
       "      <td>NaN</td>\n",
       "    </tr>\n",
       "    <tr>\n",
       "      <th>54797565</th>\n",
       "      <td>Jay's Studio Apartment</td>\n",
       "      <td>78419675640</td>\n",
       "      <td>unconfirmed</td>\n",
       "      <td>Jehan</td>\n",
       "      <td>Bronx</td>\n",
       "      <td>Allerton</td>\n",
       "      <td>40.87015</td>\n",
       "      <td>-73.85582</td>\n",
       "      <td>United States</td>\n",
       "      <td>US</td>\n",
       "      <td>...</td>\n",
       "      <td>$208</td>\n",
       "      <td>4.0</td>\n",
       "      <td>35.0</td>\n",
       "      <td>7/1/2019</td>\n",
       "      <td>3.13</td>\n",
       "      <td>4.0</td>\n",
       "      <td>1.0</td>\n",
       "      <td>169.0</td>\n",
       "      <td>#NAME?</td>\n",
       "      <td>NaN</td>\n",
       "    </tr>\n",
       "    <tr>\n",
       "      <th>35567584</th>\n",
       "      <td>Hiéroglyphe</td>\n",
       "      <td>97219387634</td>\n",
       "      <td>verified</td>\n",
       "      <td>Yero</td>\n",
       "      <td>Bronx</td>\n",
       "      <td>Allerton</td>\n",
       "      <td>40.86754</td>\n",
       "      <td>-73.85472</td>\n",
       "      <td>United States</td>\n",
       "      <td>US</td>\n",
       "      <td>...</td>\n",
       "      <td>$129</td>\n",
       "      <td>30.0</td>\n",
       "      <td>76.0</td>\n",
       "      <td>11/7/2021</td>\n",
       "      <td>1.64</td>\n",
       "      <td>2.0</td>\n",
       "      <td>1.0</td>\n",
       "      <td>82.0</td>\n",
       "      <td>NaN</td>\n",
       "      <td>NaN</td>\n",
       "    </tr>\n",
       "  </tbody>\n",
       "</table>\n",
       "<p>97 rows × 25 columns</p>\n",
       "</div>"
      ],
      "text/plain": [
       "                                                       name      host id  \\\n",
       "id                                                                         \n",
       "1283561               A PRIVATE FLAT / APARTMENT- $SPECIAL$  25554233693   \n",
       "1646422                               Hi Traveler.. welcome  39562464038   \n",
       "1873418   2 Beds/Queen & Full Beautiful Room 40 minsT.Sq...  62351131714   \n",
       "1922020                  PRIVATE BATH/TONS OF SUNLIGHT/SAFE  77129391486   \n",
       "1944112                    Nice beautiful room In the Bronx  51589747151   \n",
       "...                                                     ...          ...   \n",
       "54298838                                            #ERROR!  41841353089   \n",
       "54299943  ❤️ Beautiful, Bright Room - Late Self Check-In...  14682176495   \n",
       "54394386                                       Private Room  56063277482   \n",
       "54797565                             Jay's Studio Apartment  78419675640   \n",
       "35567584                                        Hiéroglyphe  97219387634   \n",
       "\n",
       "         host_identity_verified host name neighbourhood group neighbourhood  \\\n",
       "id                                                                            \n",
       "1283561             unconfirmed    Alford               Bronx      Allerton   \n",
       "1646422                verified     Ellen               Bronx      Allerton   \n",
       "1873418             unconfirmed   Enrique               Bronx      Allerton   \n",
       "1922020             unconfirmed   Enrique               Bronx      Allerton   \n",
       "1944112             unconfirmed   Enrique               Bronx      Allerton   \n",
       "...                         ...       ...                 ...           ...   \n",
       "54298838               verified   William               Bronx      Allerton   \n",
       "54299943            unconfirmed   William               Bronx      Allerton   \n",
       "54394386               verified      Momo               Bronx      Allerton   \n",
       "54797565            unconfirmed     Jehan               Bronx      Allerton   \n",
       "35567584               verified      Yero               Bronx      Allerton   \n",
       "\n",
       "               lat      long        country country code  ... service fee  \\\n",
       "id                                                        ...               \n",
       "1283561   40.86466 -73.85709  United States           US  ...        $15    \n",
       "1646422   40.86870 -73.85240  United States           US  ...        $20    \n",
       "1873418   40.85956 -73.87067  United States           US  ...       $232    \n",
       "1922020   40.85840 -73.86969  United States           US  ...       $109    \n",
       "1944112   40.85914 -73.86979  United States           US  ...       $192    \n",
       "...            ...       ...            ...          ...  ...         ...   \n",
       "54298838  40.86014 -73.86301  United States           US  ...       $173    \n",
       "54299943  40.86013 -73.86339  United States           US  ...       $115    \n",
       "54394386  40.86659 -73.86600  United States           US  ...        $17    \n",
       "54797565  40.87015 -73.85582  United States           US  ...       $208    \n",
       "35567584  40.86754 -73.85472  United States           US  ...       $129    \n",
       "\n",
       "         minimum nights number of reviews  last review reviews per month  \\\n",
       "id                                                                         \n",
       "1283561             2.0             271.0    6/20/2019              2.84   \n",
       "1646422             7.0               2.0    7/23/2018              0.17   \n",
       "1873418             2.0             169.0    6/12/2019              2.07   \n",
       "1922020             2.0             189.0    6/23/2019              2.32   \n",
       "1944112             1.0             187.0    6/23/2019              2.34   \n",
       "...                 ...               ...          ...               ...   \n",
       "54298838            1.0              30.0     7/2/2019              2.56   \n",
       "54299943            1.0              30.0     7/2/2019              2.56   \n",
       "54394386            2.0               0.0          NaN               NaN   \n",
       "54797565            4.0              35.0     7/1/2019              3.13   \n",
       "35567584           30.0              76.0    11/7/2021              1.64   \n",
       "\n",
       "         review rate number  calculated host listings count  availability 365  \\\n",
       "id                                                                              \n",
       "1283561                 1.0                             2.0               NaN   \n",
       "1646422                 5.0                             1.0             165.0   \n",
       "1873418                 1.0                             4.0             359.0   \n",
       "1922020                 2.0                             4.0             393.0   \n",
       "1944112                 4.0                             4.0             313.0   \n",
       "...                     ...                             ...               ...   \n",
       "54298838                4.0                             5.0              48.0   \n",
       "54299943                2.0                             5.0              57.0   \n",
       "54394386                3.0                             1.0               0.0   \n",
       "54797565                4.0                             1.0             169.0   \n",
       "35567584                2.0                             1.0              82.0   \n",
       "\n",
       "                                                house_rules  license  \n",
       "id                                                                    \n",
       "1283561   Please remember that this is a residential bui...      NaN  \n",
       "1646422                                  No Smoking No Pets      NaN  \n",
       "1873418   - No Smoking In the House.  There is a back po...      NaN  \n",
       "1922020   Quiet hours are from midnight to 6 a.m.  We as...      NaN  \n",
       "1944112                                                 NaN      NaN  \n",
       "...                                                     ...      ...  \n",
       "54298838  The apartment is non-smoking and pets are not ...      NaN  \n",
       "54299943                                                NaN      NaN  \n",
       "54394386  Please remember that this is a residential bui...      NaN  \n",
       "54797565                                             #NAME?      NaN  \n",
       "35567584                                                NaN      NaN  \n",
       "\n",
       "[97 rows x 25 columns]"
      ]
     },
     "execution_count": 24,
     "metadata": {},
     "output_type": "execute_result"
    }
   ],
   "source": [
    "updated_df.loc[(updated_df['neighbourhood group'] == 'Bronx') & (updated_df['neighbourhood'] == 'Allerton')]"
   ]
  },
  {
   "cell_type": "markdown",
   "id": "4c7e3839",
   "metadata": {
    "papermill": {
     "duration": 0.021971,
     "end_time": "2024-07-15T05:36:57.068921",
     "exception": false,
     "start_time": "2024-07-15T05:36:57.046950",
     "status": "completed"
    },
    "tags": []
   },
   "source": [
    "**We are combining both neighbourhood group and neighbourhood to make a single column area**"
   ]
  },
  {
   "cell_type": "code",
   "execution_count": 25,
   "id": "9faabf8f",
   "metadata": {
    "execution": {
     "iopub.execute_input": "2024-07-15T05:36:57.114240Z",
     "iopub.status.busy": "2024-07-15T05:36:57.113904Z",
     "iopub.status.idle": "2024-07-15T05:36:57.156439Z",
     "shell.execute_reply": "2024-07-15T05:36:57.155366Z"
    },
    "papermill": {
     "duration": 0.067523,
     "end_time": "2024-07-15T05:36:57.158944",
     "exception": false,
     "start_time": "2024-07-15T05:36:57.091421",
     "status": "completed"
    },
    "tags": []
   },
   "outputs": [],
   "source": [
    "updated_df['area'] = updated_df['neighbourhood group'] + ' '+ updated_df['neighbourhood']"
   ]
  },
  {
   "cell_type": "markdown",
   "id": "f5813aba",
   "metadata": {
    "papermill": {
     "duration": 0.020733,
     "end_time": "2024-07-15T05:36:57.200955",
     "exception": false,
     "start_time": "2024-07-15T05:36:57.180222",
     "status": "completed"
    },
    "tags": []
   },
   "source": [
    "**now we can drop neighbourhood group and neighbourhood and lat and long as well since location is already there and they don't add more value**"
   ]
  },
  {
   "cell_type": "code",
   "execution_count": 26,
   "id": "e04f215e",
   "metadata": {
    "execution": {
     "iopub.execute_input": "2024-07-15T05:36:57.246195Z",
     "iopub.status.busy": "2024-07-15T05:36:57.245834Z",
     "iopub.status.idle": "2024-07-15T05:36:57.282833Z",
     "shell.execute_reply": "2024-07-15T05:36:57.281769Z"
    },
    "papermill": {
     "duration": 0.063139,
     "end_time": "2024-07-15T05:36:57.285601",
     "exception": false,
     "start_time": "2024-07-15T05:36:57.222462",
     "status": "completed"
    },
    "tags": []
   },
   "outputs": [],
   "source": [
    "updated_df.drop(columns = ['neighbourhood group','neighbourhood','lat','long'],inplace = True)"
   ]
  },
  {
   "cell_type": "code",
   "execution_count": 27,
   "id": "83a6d9da",
   "metadata": {
    "execution": {
     "iopub.execute_input": "2024-07-15T05:36:57.331667Z",
     "iopub.status.busy": "2024-07-15T05:36:57.330782Z",
     "iopub.status.idle": "2024-07-15T05:36:57.409320Z",
     "shell.execute_reply": "2024-07-15T05:36:57.408280Z"
    },
    "papermill": {
     "duration": 0.10357,
     "end_time": "2024-07-15T05:36:57.411970",
     "exception": false,
     "start_time": "2024-07-15T05:36:57.308400",
     "status": "completed"
    },
    "tags": []
   },
   "outputs": [
    {
     "data": {
      "text/plain": [
       "name                                   0\n",
       "host id                                0\n",
       "host_identity_verified                 0\n",
       "host name                              0\n",
       "country                              527\n",
       "country code                         123\n",
       "instant_bookable                      97\n",
       "cancellation_policy                   71\n",
       "room type                              0\n",
       "Construction year                    205\n",
       "price                                244\n",
       "service fee                          273\n",
       "minimum nights                       403\n",
       "number of reviews                    182\n",
       "last review                        15857\n",
       "reviews per month                  15843\n",
       "review rate number                   318\n",
       "calculated host listings count       318\n",
       "availability 365                     430\n",
       "house_rules                        52025\n",
       "license                           102347\n",
       "area                                  43\n",
       "dtype: int64"
      ]
     },
     "execution_count": 27,
     "metadata": {},
     "output_type": "execute_result"
    }
   ],
   "source": [
    "updated_df.isna().sum()"
   ]
  },
  {
   "cell_type": "code",
   "execution_count": 28,
   "id": "b2842c8a",
   "metadata": {
    "execution": {
     "iopub.execute_input": "2024-07-15T05:36:57.458347Z",
     "iopub.status.busy": "2024-07-15T05:36:57.457943Z",
     "iopub.status.idle": "2024-07-15T05:36:57.475923Z",
     "shell.execute_reply": "2024-07-15T05:36:57.473794Z"
    },
    "papermill": {
     "duration": 0.046292,
     "end_time": "2024-07-15T05:36:57.479514",
     "exception": false,
     "start_time": "2024-07-15T05:36:57.433222",
     "status": "completed"
    },
    "tags": []
   },
   "outputs": [
    {
     "data": {
      "text/html": [
       "<div>\n",
       "<style scoped>\n",
       "    .dataframe tbody tr th:only-of-type {\n",
       "        vertical-align: middle;\n",
       "    }\n",
       "\n",
       "    .dataframe tbody tr th {\n",
       "        vertical-align: top;\n",
       "    }\n",
       "\n",
       "    .dataframe thead th {\n",
       "        text-align: right;\n",
       "    }\n",
       "</style>\n",
       "<table border=\"1\" class=\"dataframe\">\n",
       "  <thead>\n",
       "    <tr style=\"text-align: right;\">\n",
       "      <th></th>\n",
       "      <th>country</th>\n",
       "      <th>country code</th>\n",
       "    </tr>\n",
       "    <tr>\n",
       "      <th>id</th>\n",
       "      <th></th>\n",
       "      <th></th>\n",
       "    </tr>\n",
       "  </thead>\n",
       "  <tbody>\n",
       "    <tr>\n",
       "      <th>1001254</th>\n",
       "      <td>United States</td>\n",
       "      <td>US</td>\n",
       "    </tr>\n",
       "    <tr>\n",
       "      <th>1002102</th>\n",
       "      <td>United States</td>\n",
       "      <td>US</td>\n",
       "    </tr>\n",
       "    <tr>\n",
       "      <th>1002403</th>\n",
       "      <td>United States</td>\n",
       "      <td>US</td>\n",
       "    </tr>\n",
       "    <tr>\n",
       "      <th>1003689</th>\n",
       "      <td>United States</td>\n",
       "      <td>US</td>\n",
       "    </tr>\n",
       "    <tr>\n",
       "      <th>1004098</th>\n",
       "      <td>United States</td>\n",
       "      <td>US</td>\n",
       "    </tr>\n",
       "    <tr>\n",
       "      <th>...</th>\n",
       "      <td>...</td>\n",
       "      <td>...</td>\n",
       "    </tr>\n",
       "    <tr>\n",
       "      <th>6092437</th>\n",
       "      <td>United States</td>\n",
       "      <td>US</td>\n",
       "    </tr>\n",
       "    <tr>\n",
       "      <th>6092990</th>\n",
       "      <td>United States</td>\n",
       "      <td>US</td>\n",
       "    </tr>\n",
       "    <tr>\n",
       "      <th>6093542</th>\n",
       "      <td>United States</td>\n",
       "      <td>US</td>\n",
       "    </tr>\n",
       "    <tr>\n",
       "      <th>6094094</th>\n",
       "      <td>United States</td>\n",
       "      <td>US</td>\n",
       "    </tr>\n",
       "    <tr>\n",
       "      <th>6094647</th>\n",
       "      <td>United States</td>\n",
       "      <td>US</td>\n",
       "    </tr>\n",
       "  </tbody>\n",
       "</table>\n",
       "<p>102349 rows × 2 columns</p>\n",
       "</div>"
      ],
      "text/plain": [
       "               country country code\n",
       "id                                 \n",
       "1001254  United States           US\n",
       "1002102  United States           US\n",
       "1002403  United States           US\n",
       "1003689  United States           US\n",
       "1004098  United States           US\n",
       "...                ...          ...\n",
       "6092437  United States           US\n",
       "6092990  United States           US\n",
       "6093542  United States           US\n",
       "6094094  United States           US\n",
       "6094647  United States           US\n",
       "\n",
       "[102349 rows x 2 columns]"
      ]
     },
     "execution_count": 28,
     "metadata": {},
     "output_type": "execute_result"
    }
   ],
   "source": [
    "updated_df.loc[:,'country':'country code']"
   ]
  },
  {
   "cell_type": "code",
   "execution_count": 29,
   "id": "b78d99eb",
   "metadata": {
    "execution": {
     "iopub.execute_input": "2024-07-15T05:36:57.526509Z",
     "iopub.status.busy": "2024-07-15T05:36:57.526113Z",
     "iopub.status.idle": "2024-07-15T05:36:57.535311Z",
     "shell.execute_reply": "2024-07-15T05:36:57.534242Z"
    },
    "papermill": {
     "duration": 0.034536,
     "end_time": "2024-07-15T05:36:57.537589",
     "exception": false,
     "start_time": "2024-07-15T05:36:57.503053",
     "status": "completed"
    },
    "tags": []
   },
   "outputs": [
    {
     "data": {
      "text/plain": [
       "array(['United States', nan], dtype=object)"
      ]
     },
     "execution_count": 29,
     "metadata": {},
     "output_type": "execute_result"
    }
   ],
   "source": [
    "updated_df.country.unique()"
   ]
  },
  {
   "cell_type": "markdown",
   "id": "ded22e27",
   "metadata": {
    "papermill": {
     "duration": 0.021429,
     "end_time": "2024-07-15T05:36:57.580417",
     "exception": false,
     "start_time": "2024-07-15T05:36:57.558988",
     "status": "completed"
    },
    "tags": []
   },
   "source": [
    "**whole dataset have only 1 country and 1 countrycode so we can drop both of them**"
   ]
  },
  {
   "cell_type": "code",
   "execution_count": 30,
   "id": "6dc2c3e4",
   "metadata": {
    "execution": {
     "iopub.execute_input": "2024-07-15T05:36:57.626473Z",
     "iopub.status.busy": "2024-07-15T05:36:57.626083Z",
     "iopub.status.idle": "2024-07-15T05:36:57.659621Z",
     "shell.execute_reply": "2024-07-15T05:36:57.658499Z"
    },
    "papermill": {
     "duration": 0.059832,
     "end_time": "2024-07-15T05:36:57.662525",
     "exception": false,
     "start_time": "2024-07-15T05:36:57.602693",
     "status": "completed"
    },
    "tags": []
   },
   "outputs": [],
   "source": [
    "updated_df.drop(columns = ['country','country code'],inplace = True)"
   ]
  },
  {
   "cell_type": "code",
   "execution_count": 31,
   "id": "6d58d2e7",
   "metadata": {
    "execution": {
     "iopub.execute_input": "2024-07-15T05:36:57.709018Z",
     "iopub.status.busy": "2024-07-15T05:36:57.708635Z",
     "iopub.status.idle": "2024-07-15T05:36:57.777648Z",
     "shell.execute_reply": "2024-07-15T05:36:57.775790Z"
    },
    "papermill": {
     "duration": 0.095698,
     "end_time": "2024-07-15T05:36:57.780556",
     "exception": false,
     "start_time": "2024-07-15T05:36:57.684858",
     "status": "completed"
    },
    "tags": []
   },
   "outputs": [
    {
     "data": {
      "text/plain": [
       "name                                   0\n",
       "host id                                0\n",
       "host_identity_verified                 0\n",
       "host name                              0\n",
       "instant_bookable                      97\n",
       "cancellation_policy                   71\n",
       "room type                              0\n",
       "Construction year                    205\n",
       "price                                244\n",
       "service fee                          273\n",
       "minimum nights                       403\n",
       "number of reviews                    182\n",
       "last review                        15857\n",
       "reviews per month                  15843\n",
       "review rate number                   318\n",
       "calculated host listings count       318\n",
       "availability 365                     430\n",
       "house_rules                        52025\n",
       "license                           102347\n",
       "area                                  43\n",
       "dtype: int64"
      ]
     },
     "execution_count": 31,
     "metadata": {},
     "output_type": "execute_result"
    }
   ],
   "source": [
    "updated_df.isna().sum()"
   ]
  },
  {
   "cell_type": "code",
   "execution_count": 32,
   "id": "6d4816f4",
   "metadata": {
    "execution": {
     "iopub.execute_input": "2024-07-15T05:36:57.827970Z",
     "iopub.status.busy": "2024-07-15T05:36:57.827184Z",
     "iopub.status.idle": "2024-07-15T05:36:57.837933Z",
     "shell.execute_reply": "2024-07-15T05:36:57.836805Z"
    },
    "papermill": {
     "duration": 0.036646,
     "end_time": "2024-07-15T05:36:57.840228",
     "exception": false,
     "start_time": "2024-07-15T05:36:57.803582",
     "status": "completed"
    },
    "tags": []
   },
   "outputs": [
    {
     "data": {
      "text/plain": [
       "array([False, True, nan], dtype=object)"
      ]
     },
     "execution_count": 32,
     "metadata": {},
     "output_type": "execute_result"
    }
   ],
   "source": [
    "updated_df['instant_bookable'].unique()"
   ]
  },
  {
   "cell_type": "markdown",
   "id": "ef179e2e",
   "metadata": {
    "papermill": {
     "duration": 0.023396,
     "end_time": "2024-07-15T05:36:57.886171",
     "exception": false,
     "start_time": "2024-07-15T05:36:57.862775",
     "status": "completed"
    },
    "tags": []
   },
   "source": [
    "**we will assign true or false based on the mode(of instant_bookable) of that area**"
   ]
  },
  {
   "cell_type": "code",
   "execution_count": 33,
   "id": "848e4032",
   "metadata": {
    "execution": {
     "iopub.execute_input": "2024-07-15T05:36:57.934333Z",
     "iopub.status.busy": "2024-07-15T05:36:57.933940Z",
     "iopub.status.idle": "2024-07-15T05:36:57.951014Z",
     "shell.execute_reply": "2024-07-15T05:36:57.949977Z"
    },
    "papermill": {
     "duration": 0.042876,
     "end_time": "2024-07-15T05:36:57.953371",
     "exception": false,
     "start_time": "2024-07-15T05:36:57.910495",
     "status": "completed"
    },
    "tags": []
   },
   "outputs": [
    {
     "data": {
      "text/plain": [
       "True"
      ]
     },
     "execution_count": 33,
     "metadata": {},
     "output_type": "execute_result"
    }
   ],
   "source": [
    "updated_df.loc[(updated_df['area'] == 'Brooklyn Kensington'),'instant_bookable'].mode()[0]"
   ]
  },
  {
   "cell_type": "code",
   "execution_count": 34,
   "id": "df35d49b",
   "metadata": {
    "execution": {
     "iopub.execute_input": "2024-07-15T05:36:58.002453Z",
     "iopub.status.busy": "2024-07-15T05:36:58.002040Z",
     "iopub.status.idle": "2024-07-15T05:36:58.008452Z",
     "shell.execute_reply": "2024-07-15T05:36:58.007230Z"
    },
    "papermill": {
     "duration": 0.03421,
     "end_time": "2024-07-15T05:36:58.011089",
     "exception": false,
     "start_time": "2024-07-15T05:36:57.976879",
     "status": "completed"
    },
    "tags": []
   },
   "outputs": [],
   "source": [
    "def update_instant_bookable(x):\n",
    "    if pd.isna(x.instant_bookable):\n",
    "        m = updated_df.loc[(updated_df['area'] == x.area),'instant_bookable'].mode()\n",
    "        if len(m) == 0:\n",
    "            x['instant_bookable'] = 'False'\n",
    "        else:\n",
    "            x['instant_bookable'] = m[0]\n",
    "    return x"
   ]
  },
  {
   "cell_type": "code",
   "execution_count": 35,
   "id": "c455dedb",
   "metadata": {
    "execution": {
     "iopub.execute_input": "2024-07-15T05:36:58.059058Z",
     "iopub.status.busy": "2024-07-15T05:36:58.058697Z",
     "iopub.status.idle": "2024-07-15T05:37:05.327353Z",
     "shell.execute_reply": "2024-07-15T05:37:05.326076Z"
    },
    "papermill": {
     "duration": 7.294559,
     "end_time": "2024-07-15T05:37:05.329947",
     "exception": false,
     "start_time": "2024-07-15T05:36:58.035388",
     "status": "completed"
    },
    "tags": []
   },
   "outputs": [],
   "source": [
    "updated_df = updated_df.apply(update_instant_bookable,axis = 1)\n",
    "#updated_df.apply(update_instant_bookable,axis = 1)"
   ]
  },
  {
   "cell_type": "code",
   "execution_count": 36,
   "id": "291bb6a1",
   "metadata": {
    "execution": {
     "iopub.execute_input": "2024-07-15T05:37:05.376606Z",
     "iopub.status.busy": "2024-07-15T05:37:05.376224Z",
     "iopub.status.idle": "2024-07-15T05:37:05.409362Z",
     "shell.execute_reply": "2024-07-15T05:37:05.408230Z"
    },
    "papermill": {
     "duration": 0.060403,
     "end_time": "2024-07-15T05:37:05.412267",
     "exception": false,
     "start_time": "2024-07-15T05:37:05.351864",
     "status": "completed"
    },
    "tags": []
   },
   "outputs": [
    {
     "data": {
      "text/html": [
       "<div>\n",
       "<style scoped>\n",
       "    .dataframe tbody tr th:only-of-type {\n",
       "        vertical-align: middle;\n",
       "    }\n",
       "\n",
       "    .dataframe tbody tr th {\n",
       "        vertical-align: top;\n",
       "    }\n",
       "\n",
       "    .dataframe thead th {\n",
       "        text-align: right;\n",
       "    }\n",
       "</style>\n",
       "<table border=\"1\" class=\"dataframe\">\n",
       "  <thead>\n",
       "    <tr style=\"text-align: right;\">\n",
       "      <th></th>\n",
       "      <th>name</th>\n",
       "      <th>host id</th>\n",
       "      <th>host_identity_verified</th>\n",
       "      <th>host name</th>\n",
       "      <th>instant_bookable</th>\n",
       "      <th>cancellation_policy</th>\n",
       "      <th>room type</th>\n",
       "      <th>Construction year</th>\n",
       "      <th>price</th>\n",
       "      <th>service fee</th>\n",
       "      <th>minimum nights</th>\n",
       "      <th>number of reviews</th>\n",
       "      <th>last review</th>\n",
       "      <th>reviews per month</th>\n",
       "      <th>review rate number</th>\n",
       "      <th>calculated host listings count</th>\n",
       "      <th>availability 365</th>\n",
       "      <th>house_rules</th>\n",
       "      <th>license</th>\n",
       "      <th>area</th>\n",
       "    </tr>\n",
       "    <tr>\n",
       "      <th>id</th>\n",
       "      <th></th>\n",
       "      <th></th>\n",
       "      <th></th>\n",
       "      <th></th>\n",
       "      <th></th>\n",
       "      <th></th>\n",
       "      <th></th>\n",
       "      <th></th>\n",
       "      <th></th>\n",
       "      <th></th>\n",
       "      <th></th>\n",
       "      <th></th>\n",
       "      <th></th>\n",
       "      <th></th>\n",
       "      <th></th>\n",
       "      <th></th>\n",
       "      <th></th>\n",
       "      <th></th>\n",
       "      <th></th>\n",
       "      <th></th>\n",
       "    </tr>\n",
       "  </thead>\n",
       "  <tbody>\n",
       "    <tr>\n",
       "      <th>1001254</th>\n",
       "      <td>Clean &amp; quiet apt home by the park</td>\n",
       "      <td>80014485718</td>\n",
       "      <td>unconfirmed</td>\n",
       "      <td>Madaline</td>\n",
       "      <td>False</td>\n",
       "      <td>strict</td>\n",
       "      <td>Private room</td>\n",
       "      <td>2020.0</td>\n",
       "      <td>$966</td>\n",
       "      <td>$193</td>\n",
       "      <td>10.0</td>\n",
       "      <td>9.0</td>\n",
       "      <td>10/19/2021</td>\n",
       "      <td>0.21</td>\n",
       "      <td>4.0</td>\n",
       "      <td>6.0</td>\n",
       "      <td>286.0</td>\n",
       "      <td>Clean up and treat the home the way you'd like...</td>\n",
       "      <td>NaN</td>\n",
       "      <td>Brooklyn Kensington</td>\n",
       "    </tr>\n",
       "    <tr>\n",
       "      <th>1002102</th>\n",
       "      <td>Skylit Midtown Castle</td>\n",
       "      <td>52335172823</td>\n",
       "      <td>verified</td>\n",
       "      <td>Jenna</td>\n",
       "      <td>False</td>\n",
       "      <td>moderate</td>\n",
       "      <td>Entire home/apt</td>\n",
       "      <td>2007.0</td>\n",
       "      <td>$142</td>\n",
       "      <td>$28</td>\n",
       "      <td>30.0</td>\n",
       "      <td>45.0</td>\n",
       "      <td>5/21/2022</td>\n",
       "      <td>0.38</td>\n",
       "      <td>4.0</td>\n",
       "      <td>2.0</td>\n",
       "      <td>228.0</td>\n",
       "      <td>Pet friendly but please confirm with me if the...</td>\n",
       "      <td>NaN</td>\n",
       "      <td>Manhattan Midtown</td>\n",
       "    </tr>\n",
       "    <tr>\n",
       "      <th>1002403</th>\n",
       "      <td>THE VILLAGE OF HARLEM....NEW YORK !</td>\n",
       "      <td>78829239556</td>\n",
       "      <td>unconfirmed</td>\n",
       "      <td>Elise</td>\n",
       "      <td>True</td>\n",
       "      <td>flexible</td>\n",
       "      <td>Private room</td>\n",
       "      <td>2005.0</td>\n",
       "      <td>$620</td>\n",
       "      <td>$124</td>\n",
       "      <td>3.0</td>\n",
       "      <td>0.0</td>\n",
       "      <td>NaN</td>\n",
       "      <td>NaN</td>\n",
       "      <td>5.0</td>\n",
       "      <td>1.0</td>\n",
       "      <td>352.0</td>\n",
       "      <td>I encourage you to use my kitchen, cooking and...</td>\n",
       "      <td>NaN</td>\n",
       "      <td>Manhattan Harlem</td>\n",
       "    </tr>\n",
       "    <tr>\n",
       "      <th>1003689</th>\n",
       "      <td>Entire Apt: Spacious Studio/Loft by central park</td>\n",
       "      <td>92037596077</td>\n",
       "      <td>verified</td>\n",
       "      <td>Lyndon</td>\n",
       "      <td>False</td>\n",
       "      <td>moderate</td>\n",
       "      <td>Entire home/apt</td>\n",
       "      <td>2009.0</td>\n",
       "      <td>$204</td>\n",
       "      <td>$41</td>\n",
       "      <td>10.0</td>\n",
       "      <td>9.0</td>\n",
       "      <td>11/19/2018</td>\n",
       "      <td>0.10</td>\n",
       "      <td>3.0</td>\n",
       "      <td>1.0</td>\n",
       "      <td>289.0</td>\n",
       "      <td>Please no smoking in the house, porch or on th...</td>\n",
       "      <td>NaN</td>\n",
       "      <td>Manhattan East Harlem</td>\n",
       "    </tr>\n",
       "    <tr>\n",
       "      <th>1004098</th>\n",
       "      <td>Large Cozy 1 BR Apartment In Midtown East</td>\n",
       "      <td>45498551794</td>\n",
       "      <td>verified</td>\n",
       "      <td>Michelle</td>\n",
       "      <td>True</td>\n",
       "      <td>flexible</td>\n",
       "      <td>Entire home/apt</td>\n",
       "      <td>2013.0</td>\n",
       "      <td>$577</td>\n",
       "      <td>$115</td>\n",
       "      <td>3.0</td>\n",
       "      <td>74.0</td>\n",
       "      <td>6/22/2019</td>\n",
       "      <td>0.59</td>\n",
       "      <td>3.0</td>\n",
       "      <td>1.0</td>\n",
       "      <td>374.0</td>\n",
       "      <td>No smoking, please, and no drugs.</td>\n",
       "      <td>NaN</td>\n",
       "      <td>Manhattan Murray Hill</td>\n",
       "    </tr>\n",
       "    <tr>\n",
       "      <th>...</th>\n",
       "      <td>...</td>\n",
       "      <td>...</td>\n",
       "      <td>...</td>\n",
       "      <td>...</td>\n",
       "      <td>...</td>\n",
       "      <td>...</td>\n",
       "      <td>...</td>\n",
       "      <td>...</td>\n",
       "      <td>...</td>\n",
       "      <td>...</td>\n",
       "      <td>...</td>\n",
       "      <td>...</td>\n",
       "      <td>...</td>\n",
       "      <td>...</td>\n",
       "      <td>...</td>\n",
       "      <td>...</td>\n",
       "      <td>...</td>\n",
       "      <td>...</td>\n",
       "      <td>...</td>\n",
       "      <td>...</td>\n",
       "    </tr>\n",
       "    <tr>\n",
       "      <th>6092437</th>\n",
       "      <td>Spare room in Williamsburg</td>\n",
       "      <td>12312296767</td>\n",
       "      <td>verified</td>\n",
       "      <td>Krik</td>\n",
       "      <td>False</td>\n",
       "      <td>flexible</td>\n",
       "      <td>Private room</td>\n",
       "      <td>2003.0</td>\n",
       "      <td>$844</td>\n",
       "      <td>$169</td>\n",
       "      <td>1.0</td>\n",
       "      <td>0.0</td>\n",
       "      <td>NaN</td>\n",
       "      <td>NaN</td>\n",
       "      <td>3.0</td>\n",
       "      <td>1.0</td>\n",
       "      <td>227.0</td>\n",
       "      <td>No Smoking No Parties or Events of any kind Pl...</td>\n",
       "      <td>NaN</td>\n",
       "      <td>Brooklyn Williamsburg</td>\n",
       "    </tr>\n",
       "    <tr>\n",
       "      <th>6092990</th>\n",
       "      <td>Best Location near Columbia U</td>\n",
       "      <td>77864383453</td>\n",
       "      <td>unconfirmed</td>\n",
       "      <td>Mifan</td>\n",
       "      <td>True</td>\n",
       "      <td>moderate</td>\n",
       "      <td>Private room</td>\n",
       "      <td>2016.0</td>\n",
       "      <td>$837</td>\n",
       "      <td>$167</td>\n",
       "      <td>1.0</td>\n",
       "      <td>1.0</td>\n",
       "      <td>7/6/2015</td>\n",
       "      <td>0.02</td>\n",
       "      <td>2.0</td>\n",
       "      <td>2.0</td>\n",
       "      <td>395.0</td>\n",
       "      <td>House rules: Guests agree to the following ter...</td>\n",
       "      <td>NaN</td>\n",
       "      <td>Manhattan Morningside Heights</td>\n",
       "    </tr>\n",
       "    <tr>\n",
       "      <th>6093542</th>\n",
       "      <td>Comfy, bright room in Brooklyn</td>\n",
       "      <td>69050334417</td>\n",
       "      <td>unconfirmed</td>\n",
       "      <td>Megan</td>\n",
       "      <td>True</td>\n",
       "      <td>moderate</td>\n",
       "      <td>Private room</td>\n",
       "      <td>2009.0</td>\n",
       "      <td>$988</td>\n",
       "      <td>$198</td>\n",
       "      <td>3.0</td>\n",
       "      <td>0.0</td>\n",
       "      <td>NaN</td>\n",
       "      <td>NaN</td>\n",
       "      <td>5.0</td>\n",
       "      <td>1.0</td>\n",
       "      <td>342.0</td>\n",
       "      <td>NaN</td>\n",
       "      <td>NaN</td>\n",
       "      <td>Brooklyn Park Slope</td>\n",
       "    </tr>\n",
       "    <tr>\n",
       "      <th>6094094</th>\n",
       "      <td>Big Studio-One Stop from Midtown</td>\n",
       "      <td>11160591270</td>\n",
       "      <td>unconfirmed</td>\n",
       "      <td>Christopher</td>\n",
       "      <td>True</td>\n",
       "      <td>strict</td>\n",
       "      <td>Entire home/apt</td>\n",
       "      <td>2015.0</td>\n",
       "      <td>$546</td>\n",
       "      <td>$109</td>\n",
       "      <td>2.0</td>\n",
       "      <td>5.0</td>\n",
       "      <td>10/11/2015</td>\n",
       "      <td>0.10</td>\n",
       "      <td>3.0</td>\n",
       "      <td>1.0</td>\n",
       "      <td>386.0</td>\n",
       "      <td>NaN</td>\n",
       "      <td>NaN</td>\n",
       "      <td>Queens Long Island City</td>\n",
       "    </tr>\n",
       "    <tr>\n",
       "      <th>6094647</th>\n",
       "      <td>585 sf Luxury Studio</td>\n",
       "      <td>68170633372</td>\n",
       "      <td>unconfirmed</td>\n",
       "      <td>Rebecca</td>\n",
       "      <td>False</td>\n",
       "      <td>flexible</td>\n",
       "      <td>Entire home/apt</td>\n",
       "      <td>2010.0</td>\n",
       "      <td>$1,032</td>\n",
       "      <td>$206</td>\n",
       "      <td>1.0</td>\n",
       "      <td>0.0</td>\n",
       "      <td>NaN</td>\n",
       "      <td>NaN</td>\n",
       "      <td>3.0</td>\n",
       "      <td>1.0</td>\n",
       "      <td>69.0</td>\n",
       "      <td>NaN</td>\n",
       "      <td>NaN</td>\n",
       "      <td>Manhattan Upper West Side</td>\n",
       "    </tr>\n",
       "  </tbody>\n",
       "</table>\n",
       "<p>102349 rows × 20 columns</p>\n",
       "</div>"
      ],
      "text/plain": [
       "                                                     name      host id  \\\n",
       "id                                                                       \n",
       "1001254                Clean & quiet apt home by the park  80014485718   \n",
       "1002102                             Skylit Midtown Castle  52335172823   \n",
       "1002403               THE VILLAGE OF HARLEM....NEW YORK !  78829239556   \n",
       "1003689  Entire Apt: Spacious Studio/Loft by central park  92037596077   \n",
       "1004098         Large Cozy 1 BR Apartment In Midtown East  45498551794   \n",
       "...                                                   ...          ...   \n",
       "6092437                        Spare room in Williamsburg  12312296767   \n",
       "6092990                     Best Location near Columbia U  77864383453   \n",
       "6093542                    Comfy, bright room in Brooklyn  69050334417   \n",
       "6094094                  Big Studio-One Stop from Midtown  11160591270   \n",
       "6094647                              585 sf Luxury Studio  68170633372   \n",
       "\n",
       "        host_identity_verified    host name instant_bookable  \\\n",
       "id                                                             \n",
       "1001254            unconfirmed     Madaline            False   \n",
       "1002102               verified        Jenna            False   \n",
       "1002403            unconfirmed        Elise             True   \n",
       "1003689               verified       Lyndon            False   \n",
       "1004098               verified     Michelle             True   \n",
       "...                        ...          ...              ...   \n",
       "6092437               verified         Krik            False   \n",
       "6092990            unconfirmed        Mifan             True   \n",
       "6093542            unconfirmed        Megan             True   \n",
       "6094094            unconfirmed  Christopher             True   \n",
       "6094647            unconfirmed      Rebecca            False   \n",
       "\n",
       "        cancellation_policy        room type  Construction year    price  \\\n",
       "id                                                                         \n",
       "1001254              strict     Private room             2020.0    $966    \n",
       "1002102            moderate  Entire home/apt             2007.0    $142    \n",
       "1002403            flexible     Private room             2005.0    $620    \n",
       "1003689            moderate  Entire home/apt             2009.0    $204    \n",
       "1004098            flexible  Entire home/apt             2013.0    $577    \n",
       "...                     ...              ...                ...      ...   \n",
       "6092437            flexible     Private room             2003.0    $844    \n",
       "6092990            moderate     Private room             2016.0    $837    \n",
       "6093542            moderate     Private room             2009.0    $988    \n",
       "6094094              strict  Entire home/apt             2015.0    $546    \n",
       "6094647            flexible  Entire home/apt             2010.0  $1,032    \n",
       "\n",
       "        service fee  minimum nights  number of reviews last review  \\\n",
       "id                                                                   \n",
       "1001254       $193             10.0                9.0  10/19/2021   \n",
       "1002102        $28             30.0               45.0   5/21/2022   \n",
       "1002403       $124              3.0                0.0         NaN   \n",
       "1003689        $41             10.0                9.0  11/19/2018   \n",
       "1004098       $115              3.0               74.0   6/22/2019   \n",
       "...             ...             ...                ...         ...   \n",
       "6092437       $169              1.0                0.0         NaN   \n",
       "6092990       $167              1.0                1.0    7/6/2015   \n",
       "6093542       $198              3.0                0.0         NaN   \n",
       "6094094       $109              2.0                5.0  10/11/2015   \n",
       "6094647       $206              1.0                0.0         NaN   \n",
       "\n",
       "         reviews per month  review rate number  \\\n",
       "id                                               \n",
       "1001254               0.21                 4.0   \n",
       "1002102               0.38                 4.0   \n",
       "1002403                NaN                 5.0   \n",
       "1003689               0.10                 3.0   \n",
       "1004098               0.59                 3.0   \n",
       "...                    ...                 ...   \n",
       "6092437                NaN                 3.0   \n",
       "6092990               0.02                 2.0   \n",
       "6093542                NaN                 5.0   \n",
       "6094094               0.10                 3.0   \n",
       "6094647                NaN                 3.0   \n",
       "\n",
       "         calculated host listings count  availability 365  \\\n",
       "id                                                          \n",
       "1001254                             6.0             286.0   \n",
       "1002102                             2.0             228.0   \n",
       "1002403                             1.0             352.0   \n",
       "1003689                             1.0             289.0   \n",
       "1004098                             1.0             374.0   \n",
       "...                                 ...               ...   \n",
       "6092437                             1.0             227.0   \n",
       "6092990                             2.0             395.0   \n",
       "6093542                             1.0             342.0   \n",
       "6094094                             1.0             386.0   \n",
       "6094647                             1.0              69.0   \n",
       "\n",
       "                                               house_rules license  \\\n",
       "id                                                                   \n",
       "1001254  Clean up and treat the home the way you'd like...     NaN   \n",
       "1002102  Pet friendly but please confirm with me if the...     NaN   \n",
       "1002403  I encourage you to use my kitchen, cooking and...     NaN   \n",
       "1003689  Please no smoking in the house, porch or on th...     NaN   \n",
       "1004098                  No smoking, please, and no drugs.     NaN   \n",
       "...                                                    ...     ...   \n",
       "6092437  No Smoking No Parties or Events of any kind Pl...     NaN   \n",
       "6092990  House rules: Guests agree to the following ter...     NaN   \n",
       "6093542                                                NaN     NaN   \n",
       "6094094                                                NaN     NaN   \n",
       "6094647                                                NaN     NaN   \n",
       "\n",
       "                                  area  \n",
       "id                                      \n",
       "1001254            Brooklyn Kensington  \n",
       "1002102              Manhattan Midtown  \n",
       "1002403               Manhattan Harlem  \n",
       "1003689          Manhattan East Harlem  \n",
       "1004098          Manhattan Murray Hill  \n",
       "...                                ...  \n",
       "6092437          Brooklyn Williamsburg  \n",
       "6092990  Manhattan Morningside Heights  \n",
       "6093542            Brooklyn Park Slope  \n",
       "6094094        Queens Long Island City  \n",
       "6094647      Manhattan Upper West Side  \n",
       "\n",
       "[102349 rows x 20 columns]"
      ]
     },
     "execution_count": 36,
     "metadata": {},
     "output_type": "execute_result"
    }
   ],
   "source": [
    "updated_df"
   ]
  },
  {
   "cell_type": "markdown",
   "id": "18cfe601",
   "metadata": {
    "papermill": {
     "duration": 0.022084,
     "end_time": "2024-07-15T05:37:05.457198",
     "exception": false,
     "start_time": "2024-07-15T05:37:05.435114",
     "status": "completed"
    },
    "tags": []
   },
   "source": [
    "**We need to handle cancelation policy**"
   ]
  },
  {
   "cell_type": "code",
   "execution_count": 37,
   "id": "dd8eb0c4",
   "metadata": {
    "execution": {
     "iopub.execute_input": "2024-07-15T05:37:05.505742Z",
     "iopub.status.busy": "2024-07-15T05:37:05.505376Z",
     "iopub.status.idle": "2024-07-15T05:37:05.519495Z",
     "shell.execute_reply": "2024-07-15T05:37:05.518131Z"
    },
    "papermill": {
     "duration": 0.041219,
     "end_time": "2024-07-15T05:37:05.521830",
     "exception": false,
     "start_time": "2024-07-15T05:37:05.480611",
     "status": "completed"
    },
    "tags": []
   },
   "outputs": [
    {
     "data": {
      "text/plain": [
       "array(['strict', 'moderate', 'flexible', nan], dtype=object)"
      ]
     },
     "execution_count": 37,
     "metadata": {},
     "output_type": "execute_result"
    }
   ],
   "source": [
    "updated_df['cancellation_policy'].unique()"
   ]
  },
  {
   "cell_type": "markdown",
   "id": "72afab05",
   "metadata": {
    "papermill": {
     "duration": 0.02393,
     "end_time": "2024-07-15T05:37:05.568766",
     "exception": false,
     "start_time": "2024-07-15T05:37:05.544836",
     "status": "completed"
    },
    "tags": []
   },
   "source": [
    "**we will make all nan values to flexible since they didn't mention it is not important**"
   ]
  },
  {
   "cell_type": "code",
   "execution_count": 38,
   "id": "80757546",
   "metadata": {
    "execution": {
     "iopub.execute_input": "2024-07-15T05:37:05.616071Z",
     "iopub.status.busy": "2024-07-15T05:37:05.615667Z",
     "iopub.status.idle": "2024-07-15T05:37:05.636453Z",
     "shell.execute_reply": "2024-07-15T05:37:05.635280Z"
    },
    "papermill": {
     "duration": 0.047372,
     "end_time": "2024-07-15T05:37:05.639232",
     "exception": false,
     "start_time": "2024-07-15T05:37:05.591860",
     "status": "completed"
    },
    "tags": []
   },
   "outputs": [],
   "source": [
    "updated_df['cancellation_policy'] = updated_df['cancellation_policy'].fillna('flexible')"
   ]
  },
  {
   "cell_type": "code",
   "execution_count": 39,
   "id": "1fc92261",
   "metadata": {
    "execution": {
     "iopub.execute_input": "2024-07-15T05:37:05.689766Z",
     "iopub.status.busy": "2024-07-15T05:37:05.689390Z",
     "iopub.status.idle": "2024-07-15T05:37:05.786833Z",
     "shell.execute_reply": "2024-07-15T05:37:05.785761Z"
    },
    "papermill": {
     "duration": 0.126241,
     "end_time": "2024-07-15T05:37:05.789453",
     "exception": false,
     "start_time": "2024-07-15T05:37:05.663212",
     "status": "completed"
    },
    "tags": []
   },
   "outputs": [
    {
     "data": {
      "text/plain": [
       "name                                   0\n",
       "host id                                0\n",
       "host_identity_verified                 0\n",
       "host name                              0\n",
       "instant_bookable                       0\n",
       "cancellation_policy                    0\n",
       "room type                              0\n",
       "Construction year                    205\n",
       "price                                244\n",
       "service fee                          273\n",
       "minimum nights                       403\n",
       "number of reviews                    182\n",
       "last review                        15857\n",
       "reviews per month                  15843\n",
       "review rate number                   318\n",
       "calculated host listings count       318\n",
       "availability 365                     430\n",
       "house_rules                        52025\n",
       "license                           102347\n",
       "area                                  43\n",
       "dtype: int64"
      ]
     },
     "execution_count": 39,
     "metadata": {},
     "output_type": "execute_result"
    }
   ],
   "source": [
    "updated_df.isna().sum()"
   ]
  },
  {
   "cell_type": "code",
   "execution_count": 40,
   "id": "bcef0c25",
   "metadata": {
    "execution": {
     "iopub.execute_input": "2024-07-15T05:37:05.839352Z",
     "iopub.status.busy": "2024-07-15T05:37:05.838916Z",
     "iopub.status.idle": "2024-07-15T05:37:05.845630Z",
     "shell.execute_reply": "2024-07-15T05:37:05.844380Z"
    },
    "papermill": {
     "duration": 0.033759,
     "end_time": "2024-07-15T05:37:05.848042",
     "exception": false,
     "start_time": "2024-07-15T05:37:05.814283",
     "status": "completed"
    },
    "tags": []
   },
   "outputs": [],
   "source": [
    "mean = updated_df['Construction year'].mean()"
   ]
  },
  {
   "cell_type": "code",
   "execution_count": 41,
   "id": "c561227c",
   "metadata": {
    "execution": {
     "iopub.execute_input": "2024-07-15T05:37:05.897709Z",
     "iopub.status.busy": "2024-07-15T05:37:05.897275Z",
     "iopub.status.idle": "2024-07-15T05:37:05.904344Z",
     "shell.execute_reply": "2024-07-15T05:37:05.903227Z"
    },
    "papermill": {
     "duration": 0.035014,
     "end_time": "2024-07-15T05:37:05.906752",
     "exception": false,
     "start_time": "2024-07-15T05:37:05.871738",
     "status": "completed"
    },
    "tags": []
   },
   "outputs": [
    {
     "data": {
      "text/plain": [
       "dtype('float64')"
      ]
     },
     "execution_count": 41,
     "metadata": {},
     "output_type": "execute_result"
    }
   ],
   "source": [
    "updated_df['Construction year'].dtype"
   ]
  },
  {
   "cell_type": "code",
   "execution_count": 42,
   "id": "1a820da7",
   "metadata": {
    "execution": {
     "iopub.execute_input": "2024-07-15T05:37:05.956475Z",
     "iopub.status.busy": "2024-07-15T05:37:05.956065Z",
     "iopub.status.idle": "2024-07-15T05:37:06.060455Z",
     "shell.execute_reply": "2024-07-15T05:37:06.059133Z"
    },
    "papermill": {
     "duration": 0.132906,
     "end_time": "2024-07-15T05:37:06.062945",
     "exception": false,
     "start_time": "2024-07-15T05:37:05.930039",
     "status": "completed"
    },
    "tags": []
   },
   "outputs": [
    {
     "data": {
      "text/plain": [
       "name                                   0\n",
       "host id                                0\n",
       "host_identity_verified                 0\n",
       "host name                              0\n",
       "instant_bookable                       0\n",
       "cancellation_policy                    0\n",
       "room type                              0\n",
       "Construction year                      0\n",
       "price                                244\n",
       "service fee                          273\n",
       "minimum nights                       403\n",
       "number of reviews                    182\n",
       "last review                        15857\n",
       "reviews per month                  15843\n",
       "review rate number                   318\n",
       "calculated host listings count       318\n",
       "availability 365                     430\n",
       "house_rules                        52025\n",
       "license                           102347\n",
       "area                                  43\n",
       "dtype: int64"
      ]
     },
     "execution_count": 42,
     "metadata": {},
     "output_type": "execute_result"
    }
   ],
   "source": [
    "updated_df['Construction year'] = updated_df['Construction year'].fillna(2012.0)\n",
    "updated_df.isna().sum()"
   ]
  },
  {
   "cell_type": "code",
   "execution_count": 43,
   "id": "5bc0bd8d",
   "metadata": {
    "execution": {
     "iopub.execute_input": "2024-07-15T05:37:06.117228Z",
     "iopub.status.busy": "2024-07-15T05:37:06.116824Z",
     "iopub.status.idle": "2024-07-15T05:37:06.125112Z",
     "shell.execute_reply": "2024-07-15T05:37:06.124131Z"
    },
    "papermill": {
     "duration": 0.037823,
     "end_time": "2024-07-15T05:37:06.127514",
     "exception": false,
     "start_time": "2024-07-15T05:37:06.089691",
     "status": "completed"
    },
    "tags": []
   },
   "outputs": [
    {
     "data": {
      "text/plain": [
       "id\n",
       "1001254    $193 \n",
       "1002102     $28 \n",
       "1002403    $124 \n",
       "1003689     $41 \n",
       "1004098    $115 \n",
       "           ...  \n",
       "6092437    $169 \n",
       "6092990    $167 \n",
       "6093542    $198 \n",
       "6094094    $109 \n",
       "6094647    $206 \n",
       "Name: service fee, Length: 102349, dtype: object"
      ]
     },
     "execution_count": 43,
     "metadata": {},
     "output_type": "execute_result"
    }
   ],
   "source": [
    "updated_df['service fee']"
   ]
  },
  {
   "cell_type": "markdown",
   "id": "1185d7e3",
   "metadata": {
    "papermill": {
     "duration": 0.024846,
     "end_time": "2024-07-15T05:37:06.176693",
     "exception": false,
     "start_time": "2024-07-15T05:37:06.151847",
     "status": "completed"
    },
    "tags": []
   },
   "source": [
    "**Convert price and service fee to integer and null value to 0**"
   ]
  },
  {
   "cell_type": "code",
   "execution_count": 44,
   "id": "77703395",
   "metadata": {
    "execution": {
     "iopub.execute_input": "2024-07-15T05:37:06.228501Z",
     "iopub.status.busy": "2024-07-15T05:37:06.228086Z",
     "iopub.status.idle": "2024-07-15T05:37:06.236293Z",
     "shell.execute_reply": "2024-07-15T05:37:06.235070Z"
    },
    "papermill": {
     "duration": 0.037778,
     "end_time": "2024-07-15T05:37:06.239433",
     "exception": false,
     "start_time": "2024-07-15T05:37:06.201655",
     "status": "completed"
    },
    "tags": []
   },
   "outputs": [],
   "source": [
    "def price_service_converstion(x):\n",
    "    #handling price\n",
    "    if not pd.isna(x['price']):\n",
    "        temp = x['price'][1:]\n",
    "        #to remove ','\n",
    "        ans = ''\n",
    "        for i in temp:\n",
    "            if i != ',':\n",
    "                ans = ans+i \n",
    "        x['price'] = int(ans)\n",
    "        \n",
    "    else:\n",
    "        x['price'] = 0\n",
    "        \n",
    "    #handling service fee\n",
    "    if not pd.isna(x['service fee']):\n",
    "        temp = x['service fee'][1:]\n",
    "        #to remove ','\n",
    "        ans = ''\n",
    "        for i in temp:\n",
    "            if i != ',':\n",
    "                ans = ans+i \n",
    "        x['service fee'] = int(ans)\n",
    "        \n",
    "    else:\n",
    "        x['service fee'] = 0\n",
    "    \n",
    "    return x\n",
    "    \n",
    "        "
   ]
  },
  {
   "cell_type": "code",
   "execution_count": 45,
   "id": "f6e706b7",
   "metadata": {
    "execution": {
     "iopub.execute_input": "2024-07-15T05:37:06.290205Z",
     "iopub.status.busy": "2024-07-15T05:37:06.289682Z",
     "iopub.status.idle": "2024-07-15T05:37:18.602547Z",
     "shell.execute_reply": "2024-07-15T05:37:18.600866Z"
    },
    "papermill": {
     "duration": 12.342717,
     "end_time": "2024-07-15T05:37:18.605798",
     "exception": false,
     "start_time": "2024-07-15T05:37:06.263081",
     "status": "completed"
    },
    "tags": []
   },
   "outputs": [],
   "source": [
    "updated_df = updated_df.apply(price_service_converstion,axis = 1)"
   ]
  },
  {
   "cell_type": "code",
   "execution_count": 46,
   "id": "fceccda4",
   "metadata": {
    "execution": {
     "iopub.execute_input": "2024-07-15T05:37:18.659059Z",
     "iopub.status.busy": "2024-07-15T05:37:18.658181Z",
     "iopub.status.idle": "2024-07-15T05:37:18.694943Z",
     "shell.execute_reply": "2024-07-15T05:37:18.693774Z"
    },
    "papermill": {
     "duration": 0.067054,
     "end_time": "2024-07-15T05:37:18.697661",
     "exception": false,
     "start_time": "2024-07-15T05:37:18.630607",
     "status": "completed"
    },
    "tags": []
   },
   "outputs": [
    {
     "data": {
      "text/html": [
       "<div>\n",
       "<style scoped>\n",
       "    .dataframe tbody tr th:only-of-type {\n",
       "        vertical-align: middle;\n",
       "    }\n",
       "\n",
       "    .dataframe tbody tr th {\n",
       "        vertical-align: top;\n",
       "    }\n",
       "\n",
       "    .dataframe thead th {\n",
       "        text-align: right;\n",
       "    }\n",
       "</style>\n",
       "<table border=\"1\" class=\"dataframe\">\n",
       "  <thead>\n",
       "    <tr style=\"text-align: right;\">\n",
       "      <th></th>\n",
       "      <th>name</th>\n",
       "      <th>host id</th>\n",
       "      <th>host_identity_verified</th>\n",
       "      <th>host name</th>\n",
       "      <th>instant_bookable</th>\n",
       "      <th>cancellation_policy</th>\n",
       "      <th>room type</th>\n",
       "      <th>Construction year</th>\n",
       "      <th>price</th>\n",
       "      <th>service fee</th>\n",
       "      <th>minimum nights</th>\n",
       "      <th>number of reviews</th>\n",
       "      <th>last review</th>\n",
       "      <th>reviews per month</th>\n",
       "      <th>review rate number</th>\n",
       "      <th>calculated host listings count</th>\n",
       "      <th>availability 365</th>\n",
       "      <th>house_rules</th>\n",
       "      <th>license</th>\n",
       "      <th>area</th>\n",
       "    </tr>\n",
       "    <tr>\n",
       "      <th>id</th>\n",
       "      <th></th>\n",
       "      <th></th>\n",
       "      <th></th>\n",
       "      <th></th>\n",
       "      <th></th>\n",
       "      <th></th>\n",
       "      <th></th>\n",
       "      <th></th>\n",
       "      <th></th>\n",
       "      <th></th>\n",
       "      <th></th>\n",
       "      <th></th>\n",
       "      <th></th>\n",
       "      <th></th>\n",
       "      <th></th>\n",
       "      <th></th>\n",
       "      <th></th>\n",
       "      <th></th>\n",
       "      <th></th>\n",
       "      <th></th>\n",
       "    </tr>\n",
       "  </thead>\n",
       "  <tbody>\n",
       "    <tr>\n",
       "      <th>1001254</th>\n",
       "      <td>Clean &amp; quiet apt home by the park</td>\n",
       "      <td>80014485718</td>\n",
       "      <td>unconfirmed</td>\n",
       "      <td>Madaline</td>\n",
       "      <td>False</td>\n",
       "      <td>strict</td>\n",
       "      <td>Private room</td>\n",
       "      <td>2020.0</td>\n",
       "      <td>966</td>\n",
       "      <td>193</td>\n",
       "      <td>10.0</td>\n",
       "      <td>9.0</td>\n",
       "      <td>10/19/2021</td>\n",
       "      <td>0.21</td>\n",
       "      <td>4.0</td>\n",
       "      <td>6.0</td>\n",
       "      <td>286.0</td>\n",
       "      <td>Clean up and treat the home the way you'd like...</td>\n",
       "      <td>NaN</td>\n",
       "      <td>Brooklyn Kensington</td>\n",
       "    </tr>\n",
       "    <tr>\n",
       "      <th>1002102</th>\n",
       "      <td>Skylit Midtown Castle</td>\n",
       "      <td>52335172823</td>\n",
       "      <td>verified</td>\n",
       "      <td>Jenna</td>\n",
       "      <td>False</td>\n",
       "      <td>moderate</td>\n",
       "      <td>Entire home/apt</td>\n",
       "      <td>2007.0</td>\n",
       "      <td>142</td>\n",
       "      <td>28</td>\n",
       "      <td>30.0</td>\n",
       "      <td>45.0</td>\n",
       "      <td>5/21/2022</td>\n",
       "      <td>0.38</td>\n",
       "      <td>4.0</td>\n",
       "      <td>2.0</td>\n",
       "      <td>228.0</td>\n",
       "      <td>Pet friendly but please confirm with me if the...</td>\n",
       "      <td>NaN</td>\n",
       "      <td>Manhattan Midtown</td>\n",
       "    </tr>\n",
       "    <tr>\n",
       "      <th>1002403</th>\n",
       "      <td>THE VILLAGE OF HARLEM....NEW YORK !</td>\n",
       "      <td>78829239556</td>\n",
       "      <td>unconfirmed</td>\n",
       "      <td>Elise</td>\n",
       "      <td>True</td>\n",
       "      <td>flexible</td>\n",
       "      <td>Private room</td>\n",
       "      <td>2005.0</td>\n",
       "      <td>620</td>\n",
       "      <td>124</td>\n",
       "      <td>3.0</td>\n",
       "      <td>0.0</td>\n",
       "      <td>NaN</td>\n",
       "      <td>NaN</td>\n",
       "      <td>5.0</td>\n",
       "      <td>1.0</td>\n",
       "      <td>352.0</td>\n",
       "      <td>I encourage you to use my kitchen, cooking and...</td>\n",
       "      <td>NaN</td>\n",
       "      <td>Manhattan Harlem</td>\n",
       "    </tr>\n",
       "    <tr>\n",
       "      <th>1003689</th>\n",
       "      <td>Entire Apt: Spacious Studio/Loft by central park</td>\n",
       "      <td>92037596077</td>\n",
       "      <td>verified</td>\n",
       "      <td>Lyndon</td>\n",
       "      <td>False</td>\n",
       "      <td>moderate</td>\n",
       "      <td>Entire home/apt</td>\n",
       "      <td>2009.0</td>\n",
       "      <td>204</td>\n",
       "      <td>41</td>\n",
       "      <td>10.0</td>\n",
       "      <td>9.0</td>\n",
       "      <td>11/19/2018</td>\n",
       "      <td>0.10</td>\n",
       "      <td>3.0</td>\n",
       "      <td>1.0</td>\n",
       "      <td>289.0</td>\n",
       "      <td>Please no smoking in the house, porch or on th...</td>\n",
       "      <td>NaN</td>\n",
       "      <td>Manhattan East Harlem</td>\n",
       "    </tr>\n",
       "    <tr>\n",
       "      <th>1004098</th>\n",
       "      <td>Large Cozy 1 BR Apartment In Midtown East</td>\n",
       "      <td>45498551794</td>\n",
       "      <td>verified</td>\n",
       "      <td>Michelle</td>\n",
       "      <td>True</td>\n",
       "      <td>flexible</td>\n",
       "      <td>Entire home/apt</td>\n",
       "      <td>2013.0</td>\n",
       "      <td>577</td>\n",
       "      <td>115</td>\n",
       "      <td>3.0</td>\n",
       "      <td>74.0</td>\n",
       "      <td>6/22/2019</td>\n",
       "      <td>0.59</td>\n",
       "      <td>3.0</td>\n",
       "      <td>1.0</td>\n",
       "      <td>374.0</td>\n",
       "      <td>No smoking, please, and no drugs.</td>\n",
       "      <td>NaN</td>\n",
       "      <td>Manhattan Murray Hill</td>\n",
       "    </tr>\n",
       "    <tr>\n",
       "      <th>...</th>\n",
       "      <td>...</td>\n",
       "      <td>...</td>\n",
       "      <td>...</td>\n",
       "      <td>...</td>\n",
       "      <td>...</td>\n",
       "      <td>...</td>\n",
       "      <td>...</td>\n",
       "      <td>...</td>\n",
       "      <td>...</td>\n",
       "      <td>...</td>\n",
       "      <td>...</td>\n",
       "      <td>...</td>\n",
       "      <td>...</td>\n",
       "      <td>...</td>\n",
       "      <td>...</td>\n",
       "      <td>...</td>\n",
       "      <td>...</td>\n",
       "      <td>...</td>\n",
       "      <td>...</td>\n",
       "      <td>...</td>\n",
       "    </tr>\n",
       "    <tr>\n",
       "      <th>6092437</th>\n",
       "      <td>Spare room in Williamsburg</td>\n",
       "      <td>12312296767</td>\n",
       "      <td>verified</td>\n",
       "      <td>Krik</td>\n",
       "      <td>False</td>\n",
       "      <td>flexible</td>\n",
       "      <td>Private room</td>\n",
       "      <td>2003.0</td>\n",
       "      <td>844</td>\n",
       "      <td>169</td>\n",
       "      <td>1.0</td>\n",
       "      <td>0.0</td>\n",
       "      <td>NaN</td>\n",
       "      <td>NaN</td>\n",
       "      <td>3.0</td>\n",
       "      <td>1.0</td>\n",
       "      <td>227.0</td>\n",
       "      <td>No Smoking No Parties or Events of any kind Pl...</td>\n",
       "      <td>NaN</td>\n",
       "      <td>Brooklyn Williamsburg</td>\n",
       "    </tr>\n",
       "    <tr>\n",
       "      <th>6092990</th>\n",
       "      <td>Best Location near Columbia U</td>\n",
       "      <td>77864383453</td>\n",
       "      <td>unconfirmed</td>\n",
       "      <td>Mifan</td>\n",
       "      <td>True</td>\n",
       "      <td>moderate</td>\n",
       "      <td>Private room</td>\n",
       "      <td>2016.0</td>\n",
       "      <td>837</td>\n",
       "      <td>167</td>\n",
       "      <td>1.0</td>\n",
       "      <td>1.0</td>\n",
       "      <td>7/6/2015</td>\n",
       "      <td>0.02</td>\n",
       "      <td>2.0</td>\n",
       "      <td>2.0</td>\n",
       "      <td>395.0</td>\n",
       "      <td>House rules: Guests agree to the following ter...</td>\n",
       "      <td>NaN</td>\n",
       "      <td>Manhattan Morningside Heights</td>\n",
       "    </tr>\n",
       "    <tr>\n",
       "      <th>6093542</th>\n",
       "      <td>Comfy, bright room in Brooklyn</td>\n",
       "      <td>69050334417</td>\n",
       "      <td>unconfirmed</td>\n",
       "      <td>Megan</td>\n",
       "      <td>True</td>\n",
       "      <td>moderate</td>\n",
       "      <td>Private room</td>\n",
       "      <td>2009.0</td>\n",
       "      <td>988</td>\n",
       "      <td>198</td>\n",
       "      <td>3.0</td>\n",
       "      <td>0.0</td>\n",
       "      <td>NaN</td>\n",
       "      <td>NaN</td>\n",
       "      <td>5.0</td>\n",
       "      <td>1.0</td>\n",
       "      <td>342.0</td>\n",
       "      <td>NaN</td>\n",
       "      <td>NaN</td>\n",
       "      <td>Brooklyn Park Slope</td>\n",
       "    </tr>\n",
       "    <tr>\n",
       "      <th>6094094</th>\n",
       "      <td>Big Studio-One Stop from Midtown</td>\n",
       "      <td>11160591270</td>\n",
       "      <td>unconfirmed</td>\n",
       "      <td>Christopher</td>\n",
       "      <td>True</td>\n",
       "      <td>strict</td>\n",
       "      <td>Entire home/apt</td>\n",
       "      <td>2015.0</td>\n",
       "      <td>546</td>\n",
       "      <td>109</td>\n",
       "      <td>2.0</td>\n",
       "      <td>5.0</td>\n",
       "      <td>10/11/2015</td>\n",
       "      <td>0.10</td>\n",
       "      <td>3.0</td>\n",
       "      <td>1.0</td>\n",
       "      <td>386.0</td>\n",
       "      <td>NaN</td>\n",
       "      <td>NaN</td>\n",
       "      <td>Queens Long Island City</td>\n",
       "    </tr>\n",
       "    <tr>\n",
       "      <th>6094647</th>\n",
       "      <td>585 sf Luxury Studio</td>\n",
       "      <td>68170633372</td>\n",
       "      <td>unconfirmed</td>\n",
       "      <td>Rebecca</td>\n",
       "      <td>False</td>\n",
       "      <td>flexible</td>\n",
       "      <td>Entire home/apt</td>\n",
       "      <td>2010.0</td>\n",
       "      <td>1032</td>\n",
       "      <td>206</td>\n",
       "      <td>1.0</td>\n",
       "      <td>0.0</td>\n",
       "      <td>NaN</td>\n",
       "      <td>NaN</td>\n",
       "      <td>3.0</td>\n",
       "      <td>1.0</td>\n",
       "      <td>69.0</td>\n",
       "      <td>NaN</td>\n",
       "      <td>NaN</td>\n",
       "      <td>Manhattan Upper West Side</td>\n",
       "    </tr>\n",
       "  </tbody>\n",
       "</table>\n",
       "<p>102349 rows × 20 columns</p>\n",
       "</div>"
      ],
      "text/plain": [
       "                                                     name      host id  \\\n",
       "id                                                                       \n",
       "1001254                Clean & quiet apt home by the park  80014485718   \n",
       "1002102                             Skylit Midtown Castle  52335172823   \n",
       "1002403               THE VILLAGE OF HARLEM....NEW YORK !  78829239556   \n",
       "1003689  Entire Apt: Spacious Studio/Loft by central park  92037596077   \n",
       "1004098         Large Cozy 1 BR Apartment In Midtown East  45498551794   \n",
       "...                                                   ...          ...   \n",
       "6092437                        Spare room in Williamsburg  12312296767   \n",
       "6092990                     Best Location near Columbia U  77864383453   \n",
       "6093542                    Comfy, bright room in Brooklyn  69050334417   \n",
       "6094094                  Big Studio-One Stop from Midtown  11160591270   \n",
       "6094647                              585 sf Luxury Studio  68170633372   \n",
       "\n",
       "        host_identity_verified    host name instant_bookable  \\\n",
       "id                                                             \n",
       "1001254            unconfirmed     Madaline            False   \n",
       "1002102               verified        Jenna            False   \n",
       "1002403            unconfirmed        Elise             True   \n",
       "1003689               verified       Lyndon            False   \n",
       "1004098               verified     Michelle             True   \n",
       "...                        ...          ...              ...   \n",
       "6092437               verified         Krik            False   \n",
       "6092990            unconfirmed        Mifan             True   \n",
       "6093542            unconfirmed        Megan             True   \n",
       "6094094            unconfirmed  Christopher             True   \n",
       "6094647            unconfirmed      Rebecca            False   \n",
       "\n",
       "        cancellation_policy        room type  Construction year  price  \\\n",
       "id                                                                       \n",
       "1001254              strict     Private room             2020.0    966   \n",
       "1002102            moderate  Entire home/apt             2007.0    142   \n",
       "1002403            flexible     Private room             2005.0    620   \n",
       "1003689            moderate  Entire home/apt             2009.0    204   \n",
       "1004098            flexible  Entire home/apt             2013.0    577   \n",
       "...                     ...              ...                ...    ...   \n",
       "6092437            flexible     Private room             2003.0    844   \n",
       "6092990            moderate     Private room             2016.0    837   \n",
       "6093542            moderate     Private room             2009.0    988   \n",
       "6094094              strict  Entire home/apt             2015.0    546   \n",
       "6094647            flexible  Entire home/apt             2010.0   1032   \n",
       "\n",
       "         service fee  minimum nights  number of reviews last review  \\\n",
       "id                                                                    \n",
       "1001254          193            10.0                9.0  10/19/2021   \n",
       "1002102           28            30.0               45.0   5/21/2022   \n",
       "1002403          124             3.0                0.0         NaN   \n",
       "1003689           41            10.0                9.0  11/19/2018   \n",
       "1004098          115             3.0               74.0   6/22/2019   \n",
       "...              ...             ...                ...         ...   \n",
       "6092437          169             1.0                0.0         NaN   \n",
       "6092990          167             1.0                1.0    7/6/2015   \n",
       "6093542          198             3.0                0.0         NaN   \n",
       "6094094          109             2.0                5.0  10/11/2015   \n",
       "6094647          206             1.0                0.0         NaN   \n",
       "\n",
       "         reviews per month  review rate number  \\\n",
       "id                                               \n",
       "1001254               0.21                 4.0   \n",
       "1002102               0.38                 4.0   \n",
       "1002403                NaN                 5.0   \n",
       "1003689               0.10                 3.0   \n",
       "1004098               0.59                 3.0   \n",
       "...                    ...                 ...   \n",
       "6092437                NaN                 3.0   \n",
       "6092990               0.02                 2.0   \n",
       "6093542                NaN                 5.0   \n",
       "6094094               0.10                 3.0   \n",
       "6094647                NaN                 3.0   \n",
       "\n",
       "         calculated host listings count  availability 365  \\\n",
       "id                                                          \n",
       "1001254                             6.0             286.0   \n",
       "1002102                             2.0             228.0   \n",
       "1002403                             1.0             352.0   \n",
       "1003689                             1.0             289.0   \n",
       "1004098                             1.0             374.0   \n",
       "...                                 ...               ...   \n",
       "6092437                             1.0             227.0   \n",
       "6092990                             2.0             395.0   \n",
       "6093542                             1.0             342.0   \n",
       "6094094                             1.0             386.0   \n",
       "6094647                             1.0              69.0   \n",
       "\n",
       "                                               house_rules license  \\\n",
       "id                                                                   \n",
       "1001254  Clean up and treat the home the way you'd like...     NaN   \n",
       "1002102  Pet friendly but please confirm with me if the...     NaN   \n",
       "1002403  I encourage you to use my kitchen, cooking and...     NaN   \n",
       "1003689  Please no smoking in the house, porch or on th...     NaN   \n",
       "1004098                  No smoking, please, and no drugs.     NaN   \n",
       "...                                                    ...     ...   \n",
       "6092437  No Smoking No Parties or Events of any kind Pl...     NaN   \n",
       "6092990  House rules: Guests agree to the following ter...     NaN   \n",
       "6093542                                                NaN     NaN   \n",
       "6094094                                                NaN     NaN   \n",
       "6094647                                                NaN     NaN   \n",
       "\n",
       "                                  area  \n",
       "id                                      \n",
       "1001254            Brooklyn Kensington  \n",
       "1002102              Manhattan Midtown  \n",
       "1002403               Manhattan Harlem  \n",
       "1003689          Manhattan East Harlem  \n",
       "1004098          Manhattan Murray Hill  \n",
       "...                                ...  \n",
       "6092437          Brooklyn Williamsburg  \n",
       "6092990  Manhattan Morningside Heights  \n",
       "6093542            Brooklyn Park Slope  \n",
       "6094094        Queens Long Island City  \n",
       "6094647      Manhattan Upper West Side  \n",
       "\n",
       "[102349 rows x 20 columns]"
      ]
     },
     "execution_count": 46,
     "metadata": {},
     "output_type": "execute_result"
    }
   ],
   "source": [
    "updated_df"
   ]
  },
  {
   "cell_type": "markdown",
   "id": "07842b21",
   "metadata": {
    "papermill": {
     "duration": 0.023901,
     "end_time": "2024-07-15T05:37:18.746074",
     "exception": false,
     "start_time": "2024-07-15T05:37:18.722173",
     "status": "completed"
    },
    "tags": []
   },
   "source": [
    "**After converting then filling the 0 with its mean**\n",
    "\n",
    "**Here we are filling mean based on the area**"
   ]
  },
  {
   "cell_type": "code",
   "execution_count": 47,
   "id": "1609db14",
   "metadata": {
    "execution": {
     "iopub.execute_input": "2024-07-15T05:37:18.798780Z",
     "iopub.status.busy": "2024-07-15T05:37:18.797677Z",
     "iopub.status.idle": "2024-07-15T05:37:18.805718Z",
     "shell.execute_reply": "2024-07-15T05:37:18.804340Z"
    },
    "papermill": {
     "duration": 0.035912,
     "end_time": "2024-07-15T05:37:18.808025",
     "exception": false,
     "start_time": "2024-07-15T05:37:18.772113",
     "status": "completed"
    },
    "tags": []
   },
   "outputs": [],
   "source": [
    "def update_prices(x):\n",
    "    if x['price'] == 0:\n",
    "        m = updated_df.loc[(updated_df['area'] == x.area),'price'].mean()\n",
    "        # If that area is present only once then we won't get value we get null\n",
    "        #in that case we will insert mean of price there\n",
    "        if not pd.isna(m):\n",
    "            x['price'] = int(m)\n",
    "        else:\n",
    "            x['price'] = updated_df['price'].mean()\n",
    "            \n",
    "    \n",
    "    if x['service fee'] == 0:\n",
    "        m = updated_df.loc[(updated_df['area'] == x.area),'service fee'].mean()\n",
    "        # If that area is present only once then we won't get value we get null\n",
    "        #in that case we will insert mean of price there\n",
    "        if not pd.isna(m):\n",
    "            x['service fee'] = int(m)\n",
    "        else:\n",
    "            x['service fee'] = updated_df['service fee'].mean()\n",
    "    return x\n",
    "        "
   ]
  },
  {
   "cell_type": "code",
   "execution_count": 48,
   "id": "f22ff254",
   "metadata": {
    "execution": {
     "iopub.execute_input": "2024-07-15T05:37:18.860369Z",
     "iopub.status.busy": "2024-07-15T05:37:18.859823Z",
     "iopub.status.idle": "2024-07-15T05:37:31.676401Z",
     "shell.execute_reply": "2024-07-15T05:37:31.675150Z"
    },
    "papermill": {
     "duration": 12.846446,
     "end_time": "2024-07-15T05:37:31.679184",
     "exception": false,
     "start_time": "2024-07-15T05:37:18.832738",
     "status": "completed"
    },
    "tags": []
   },
   "outputs": [],
   "source": [
    "updated_df = updated_df.apply(update_prices,axis = 1)"
   ]
  },
  {
   "cell_type": "code",
   "execution_count": 49,
   "id": "594b544f",
   "metadata": {
    "execution": {
     "iopub.execute_input": "2024-07-15T05:37:31.734392Z",
     "iopub.status.busy": "2024-07-15T05:37:31.733405Z",
     "iopub.status.idle": "2024-07-15T05:37:31.820326Z",
     "shell.execute_reply": "2024-07-15T05:37:31.818875Z"
    },
    "papermill": {
     "duration": 0.117469,
     "end_time": "2024-07-15T05:37:31.823347",
     "exception": false,
     "start_time": "2024-07-15T05:37:31.705878",
     "status": "completed"
    },
    "tags": []
   },
   "outputs": [
    {
     "data": {
      "text/plain": [
       "name                                   0\n",
       "host id                                0\n",
       "host_identity_verified                 0\n",
       "host name                              0\n",
       "instant_bookable                       0\n",
       "cancellation_policy                    0\n",
       "room type                              0\n",
       "Construction year                      0\n",
       "price                                  0\n",
       "service fee                            0\n",
       "minimum nights                       403\n",
       "number of reviews                    182\n",
       "last review                        15857\n",
       "reviews per month                  15843\n",
       "review rate number                   318\n",
       "calculated host listings count       318\n",
       "availability 365                     430\n",
       "house_rules                        52025\n",
       "license                           102347\n",
       "area                                  43\n",
       "dtype: int64"
      ]
     },
     "execution_count": 49,
     "metadata": {},
     "output_type": "execute_result"
    }
   ],
   "source": [
    "updated_df.isna().sum()"
   ]
  },
  {
   "cell_type": "markdown",
   "id": "1264ba8f",
   "metadata": {
    "papermill": {
     "duration": 0.028272,
     "end_time": "2024-07-15T05:37:31.877157",
     "exception": false,
     "start_time": "2024-07-15T05:37:31.848885",
     "status": "completed"
    },
    "tags": []
   },
   "source": [
    "**To fill minimum nights we use mode on them**"
   ]
  },
  {
   "cell_type": "code",
   "execution_count": 50,
   "id": "b9690ddf",
   "metadata": {
    "execution": {
     "iopub.execute_input": "2024-07-15T05:37:31.930201Z",
     "iopub.status.busy": "2024-07-15T05:37:31.929424Z",
     "iopub.status.idle": "2024-07-15T05:37:31.940401Z",
     "shell.execute_reply": "2024-07-15T05:37:31.939374Z"
    },
    "papermill": {
     "duration": 0.038896,
     "end_time": "2024-07-15T05:37:31.942628",
     "exception": false,
     "start_time": "2024-07-15T05:37:31.903732",
     "status": "completed"
    },
    "tags": []
   },
   "outputs": [
    {
     "data": {
      "text/plain": [
       "1.0"
      ]
     },
     "execution_count": 50,
     "metadata": {},
     "output_type": "execute_result"
    }
   ],
   "source": [
    "m = updated_df['minimum nights'].mode()[0]\n",
    "m"
   ]
  },
  {
   "cell_type": "code",
   "execution_count": 51,
   "id": "0252330e",
   "metadata": {
    "execution": {
     "iopub.execute_input": "2024-07-15T05:37:32.009720Z",
     "iopub.status.busy": "2024-07-15T05:37:32.009262Z",
     "iopub.status.idle": "2024-07-15T05:37:32.016312Z",
     "shell.execute_reply": "2024-07-15T05:37:32.014942Z"
    },
    "papermill": {
     "duration": 0.043651,
     "end_time": "2024-07-15T05:37:32.019737",
     "exception": false,
     "start_time": "2024-07-15T05:37:31.976086",
     "status": "completed"
    },
    "tags": []
   },
   "outputs": [],
   "source": [
    "updated_df['minimum nights'] = updated_df['minimum nights'].fillna(m)"
   ]
  },
  {
   "cell_type": "code",
   "execution_count": 52,
   "id": "b9072a3d",
   "metadata": {
    "execution": {
     "iopub.execute_input": "2024-07-15T05:37:32.075838Z",
     "iopub.status.busy": "2024-07-15T05:37:32.075351Z",
     "iopub.status.idle": "2024-07-15T05:37:32.160811Z",
     "shell.execute_reply": "2024-07-15T05:37:32.159793Z"
    },
    "papermill": {
     "duration": 0.116112,
     "end_time": "2024-07-15T05:37:32.163061",
     "exception": false,
     "start_time": "2024-07-15T05:37:32.046949",
     "status": "completed"
    },
    "tags": []
   },
   "outputs": [
    {
     "data": {
      "text/plain": [
       "name                                   0\n",
       "host id                                0\n",
       "host_identity_verified                 0\n",
       "host name                              0\n",
       "instant_bookable                       0\n",
       "cancellation_policy                    0\n",
       "room type                              0\n",
       "Construction year                      0\n",
       "price                                  0\n",
       "service fee                            0\n",
       "minimum nights                         0\n",
       "number of reviews                    182\n",
       "last review                        15857\n",
       "reviews per month                  15843\n",
       "review rate number                   318\n",
       "calculated host listings count       318\n",
       "availability 365                     430\n",
       "house_rules                        52025\n",
       "license                           102347\n",
       "area                                  43\n",
       "dtype: int64"
      ]
     },
     "execution_count": 52,
     "metadata": {},
     "output_type": "execute_result"
    }
   ],
   "source": [
    "updated_df.isna().sum()"
   ]
  },
  {
   "cell_type": "markdown",
   "id": "963659b5",
   "metadata": {
    "papermill": {
     "duration": 0.026661,
     "end_time": "2024-07-15T05:37:32.214551",
     "exception": false,
     "start_time": "2024-07-15T05:37:32.187890",
     "status": "completed"
    },
    "tags": []
   },
   "source": [
    "**We will fill number of reviews null values with no review**"
   ]
  },
  {
   "cell_type": "code",
   "execution_count": 53,
   "id": "e9c4d604",
   "metadata": {
    "execution": {
     "iopub.execute_input": "2024-07-15T05:37:32.266360Z",
     "iopub.status.busy": "2024-07-15T05:37:32.265933Z",
     "iopub.status.idle": "2024-07-15T05:37:32.278429Z",
     "shell.execute_reply": "2024-07-15T05:37:32.277229Z"
    },
    "papermill": {
     "duration": 0.041372,
     "end_time": "2024-07-15T05:37:32.281029",
     "exception": false,
     "start_time": "2024-07-15T05:37:32.239657",
     "status": "completed"
    },
    "tags": []
   },
   "outputs": [],
   "source": [
    "updated_df['number of reviews'] = updated_df['number of reviews'].fillna('no reviews')"
   ]
  },
  {
   "cell_type": "code",
   "execution_count": 54,
   "id": "40fa188e",
   "metadata": {
    "execution": {
     "iopub.execute_input": "2024-07-15T05:37:32.332389Z",
     "iopub.status.busy": "2024-07-15T05:37:32.331992Z",
     "iopub.status.idle": "2024-07-15T05:37:32.421615Z",
     "shell.execute_reply": "2024-07-15T05:37:32.420507Z"
    },
    "papermill": {
     "duration": 0.117845,
     "end_time": "2024-07-15T05:37:32.424315",
     "exception": false,
     "start_time": "2024-07-15T05:37:32.306470",
     "status": "completed"
    },
    "tags": []
   },
   "outputs": [
    {
     "data": {
      "text/plain": [
       "name                                   0\n",
       "host id                                0\n",
       "host_identity_verified                 0\n",
       "host name                              0\n",
       "instant_bookable                       0\n",
       "cancellation_policy                    0\n",
       "room type                              0\n",
       "Construction year                      0\n",
       "price                                  0\n",
       "service fee                            0\n",
       "minimum nights                         0\n",
       "number of reviews                      0\n",
       "last review                        15857\n",
       "reviews per month                  15843\n",
       "review rate number                   318\n",
       "calculated host listings count       318\n",
       "availability 365                     430\n",
       "house_rules                        52025\n",
       "license                           102347\n",
       "area                                  43\n",
       "dtype: int64"
      ]
     },
     "execution_count": 54,
     "metadata": {},
     "output_type": "execute_result"
    }
   ],
   "source": [
    "updated_df.isna().sum()"
   ]
  },
  {
   "cell_type": "markdown",
   "id": "b48dd12b",
   "metadata": {
    "papermill": {
     "duration": 0.028366,
     "end_time": "2024-07-15T05:37:32.478388",
     "exception": false,
     "start_time": "2024-07-15T05:37:32.450022",
     "status": "completed"
    },
    "tags": []
   },
   "source": [
    "**no need of last review,reviews per month**"
   ]
  },
  {
   "cell_type": "code",
   "execution_count": 55,
   "id": "09598719",
   "metadata": {
    "execution": {
     "iopub.execute_input": "2024-07-15T05:37:32.533911Z",
     "iopub.status.busy": "2024-07-15T05:37:32.533516Z",
     "iopub.status.idle": "2024-07-15T05:37:32.620485Z",
     "shell.execute_reply": "2024-07-15T05:37:32.619372Z"
    },
    "papermill": {
     "duration": 0.118407,
     "end_time": "2024-07-15T05:37:32.623049",
     "exception": false,
     "start_time": "2024-07-15T05:37:32.504642",
     "status": "completed"
    },
    "tags": []
   },
   "outputs": [],
   "source": [
    "updated_df.drop(columns = ['last review','reviews per month'],inplace = True)"
   ]
  },
  {
   "cell_type": "code",
   "execution_count": 56,
   "id": "d23f8f1d",
   "metadata": {
    "execution": {
     "iopub.execute_input": "2024-07-15T05:37:32.675336Z",
     "iopub.status.busy": "2024-07-15T05:37:32.674938Z",
     "iopub.status.idle": "2024-07-15T05:37:32.731474Z",
     "shell.execute_reply": "2024-07-15T05:37:32.730293Z"
    },
    "papermill": {
     "duration": 0.086618,
     "end_time": "2024-07-15T05:37:32.734406",
     "exception": false,
     "start_time": "2024-07-15T05:37:32.647788",
     "status": "completed"
    },
    "tags": []
   },
   "outputs": [
    {
     "data": {
      "text/plain": [
       "name                                   0\n",
       "host id                                0\n",
       "host_identity_verified                 0\n",
       "host name                              0\n",
       "instant_bookable                       0\n",
       "cancellation_policy                    0\n",
       "room type                              0\n",
       "Construction year                      0\n",
       "price                                  0\n",
       "service fee                            0\n",
       "minimum nights                         0\n",
       "number of reviews                      0\n",
       "review rate number                   318\n",
       "calculated host listings count       318\n",
       "availability 365                     430\n",
       "house_rules                        52025\n",
       "license                           102347\n",
       "area                                  43\n",
       "dtype: int64"
      ]
     },
     "execution_count": 56,
     "metadata": {},
     "output_type": "execute_result"
    }
   ],
   "source": [
    "updated_df.isna().sum()"
   ]
  },
  {
   "cell_type": "markdown",
   "id": "b3b4df31",
   "metadata": {
    "papermill": {
     "duration": 0.024898,
     "end_time": "2024-07-15T05:37:32.784495",
     "exception": false,
     "start_time": "2024-07-15T05:37:32.759597",
     "status": "completed"
    },
    "tags": []
   },
   "source": [
    "**No need of review rate number so we will drop that columns as well**"
   ]
  },
  {
   "cell_type": "code",
   "execution_count": 57,
   "id": "d0e14e9e",
   "metadata": {
    "execution": {
     "iopub.execute_input": "2024-07-15T05:37:32.836879Z",
     "iopub.status.busy": "2024-07-15T05:37:32.836520Z",
     "iopub.status.idle": "2024-07-15T05:37:32.867756Z",
     "shell.execute_reply": "2024-07-15T05:37:32.866584Z"
    },
    "papermill": {
     "duration": 0.059569,
     "end_time": "2024-07-15T05:37:32.870332",
     "exception": false,
     "start_time": "2024-07-15T05:37:32.810763",
     "status": "completed"
    },
    "tags": []
   },
   "outputs": [],
   "source": [
    "updated_df.drop(columns = ['review rate number'],inplace = True)"
   ]
  },
  {
   "cell_type": "code",
   "execution_count": 58,
   "id": "49e70655",
   "metadata": {
    "execution": {
     "iopub.execute_input": "2024-07-15T05:37:32.924320Z",
     "iopub.status.busy": "2024-07-15T05:37:32.923888Z",
     "iopub.status.idle": "2024-07-15T05:37:32.981543Z",
     "shell.execute_reply": "2024-07-15T05:37:32.980487Z"
    },
    "papermill": {
     "duration": 0.087723,
     "end_time": "2024-07-15T05:37:32.983965",
     "exception": false,
     "start_time": "2024-07-15T05:37:32.896242",
     "status": "completed"
    },
    "tags": []
   },
   "outputs": [
    {
     "data": {
      "text/plain": [
       "name                                   0\n",
       "host id                                0\n",
       "host_identity_verified                 0\n",
       "host name                              0\n",
       "instant_bookable                       0\n",
       "cancellation_policy                    0\n",
       "room type                              0\n",
       "Construction year                      0\n",
       "price                                  0\n",
       "service fee                            0\n",
       "minimum nights                         0\n",
       "number of reviews                      0\n",
       "calculated host listings count       318\n",
       "availability 365                     430\n",
       "house_rules                        52025\n",
       "license                           102347\n",
       "area                                  43\n",
       "dtype: int64"
      ]
     },
     "execution_count": 58,
     "metadata": {},
     "output_type": "execute_result"
    }
   ],
   "source": [
    "updated_df.isna().sum()"
   ]
  },
  {
   "cell_type": "markdown",
   "id": "8f717ad7",
   "metadata": {
    "papermill": {
     "duration": 0.024637,
     "end_time": "2024-07-15T05:37:33.034382",
     "exception": false,
     "start_time": "2024-07-15T05:37:33.009745",
     "status": "completed"
    },
    "tags": []
   },
   "source": [
    "**No need of calculated host listings count**"
   ]
  },
  {
   "cell_type": "code",
   "execution_count": 59,
   "id": "c9a6fe1f",
   "metadata": {
    "execution": {
     "iopub.execute_input": "2024-07-15T05:37:33.092327Z",
     "iopub.status.busy": "2024-07-15T05:37:33.091915Z",
     "iopub.status.idle": "2024-07-15T05:37:33.120602Z",
     "shell.execute_reply": "2024-07-15T05:37:33.119460Z"
    },
    "papermill": {
     "duration": 0.06005,
     "end_time": "2024-07-15T05:37:33.123396",
     "exception": false,
     "start_time": "2024-07-15T05:37:33.063346",
     "status": "completed"
    },
    "tags": []
   },
   "outputs": [],
   "source": [
    "updated_df.drop(columns = ['calculated host listings count'],inplace = True)"
   ]
  },
  {
   "cell_type": "code",
   "execution_count": 60,
   "id": "351c4efc",
   "metadata": {
    "execution": {
     "iopub.execute_input": "2024-07-15T05:37:33.175427Z",
     "iopub.status.busy": "2024-07-15T05:37:33.175050Z",
     "iopub.status.idle": "2024-07-15T05:37:33.233698Z",
     "shell.execute_reply": "2024-07-15T05:37:33.232580Z"
    },
    "papermill": {
     "duration": 0.087613,
     "end_time": "2024-07-15T05:37:33.236167",
     "exception": false,
     "start_time": "2024-07-15T05:37:33.148554",
     "status": "completed"
    },
    "tags": []
   },
   "outputs": [
    {
     "data": {
      "text/plain": [
       "name                           0\n",
       "host id                        0\n",
       "host_identity_verified         0\n",
       "host name                      0\n",
       "instant_bookable               0\n",
       "cancellation_policy            0\n",
       "room type                      0\n",
       "Construction year              0\n",
       "price                          0\n",
       "service fee                    0\n",
       "minimum nights                 0\n",
       "number of reviews              0\n",
       "availability 365             430\n",
       "house_rules                52025\n",
       "license                   102347\n",
       "area                          43\n",
       "dtype: int64"
      ]
     },
     "execution_count": 60,
     "metadata": {},
     "output_type": "execute_result"
    }
   ],
   "source": [
    "updated_df.isna().sum()"
   ]
  },
  {
   "cell_type": "markdown",
   "id": "c71406d7",
   "metadata": {
    "papermill": {
     "duration": 0.025184,
     "end_time": "2024-07-15T05:37:33.286610",
     "exception": false,
     "start_time": "2024-07-15T05:37:33.261426",
     "status": "completed"
    },
    "tags": []
   },
   "source": [
    "**We will make availability 365 based on mean**"
   ]
  },
  {
   "cell_type": "code",
   "execution_count": 61,
   "id": "6e0ed024",
   "metadata": {
    "execution": {
     "iopub.execute_input": "2024-07-15T05:37:33.341171Z",
     "iopub.status.busy": "2024-07-15T05:37:33.340137Z",
     "iopub.status.idle": "2024-07-15T05:37:33.347108Z",
     "shell.execute_reply": "2024-07-15T05:37:33.345630Z"
    },
    "papermill": {
     "duration": 0.036433,
     "end_time": "2024-07-15T05:37:33.349596",
     "exception": false,
     "start_time": "2024-07-15T05:37:33.313163",
     "status": "completed"
    },
    "tags": []
   },
   "outputs": [],
   "source": [
    "def update_availability(x):\n",
    "    if pd.isna(x['availability 365']):\n",
    "        m = updated_df.loc[(updated_df['area'] == x.area),'availability 365'].mean()\n",
    "        # If that area is present only once then we won't get value we get null\n",
    "        # in that case we will insert mean of price there\n",
    "        if not pd.isna(m):\n",
    "            x['availability 365'] = int(m)\n",
    "        else:\n",
    "            x['availability 365'] = updated_df['availability 365'].mean()\n",
    "    return x "
   ]
  },
  {
   "cell_type": "code",
   "execution_count": 62,
   "id": "6df9308c",
   "metadata": {
    "execution": {
     "iopub.execute_input": "2024-07-15T05:37:33.403414Z",
     "iopub.status.busy": "2024-07-15T05:37:33.403034Z",
     "iopub.status.idle": "2024-07-15T05:37:42.991134Z",
     "shell.execute_reply": "2024-07-15T05:37:42.989970Z"
    },
    "papermill": {
     "duration": 9.618363,
     "end_time": "2024-07-15T05:37:42.993852",
     "exception": false,
     "start_time": "2024-07-15T05:37:33.375489",
     "status": "completed"
    },
    "tags": []
   },
   "outputs": [],
   "source": [
    "updated_df = updated_df.apply(update_availability,axis = 1)"
   ]
  },
  {
   "cell_type": "code",
   "execution_count": 63,
   "id": "576c03e0",
   "metadata": {
    "execution": {
     "iopub.execute_input": "2024-07-15T05:37:43.049106Z",
     "iopub.status.busy": "2024-07-15T05:37:43.048746Z",
     "iopub.status.idle": "2024-07-15T05:37:43.074470Z",
     "shell.execute_reply": "2024-07-15T05:37:43.073400Z"
    },
    "papermill": {
     "duration": 0.05677,
     "end_time": "2024-07-15T05:37:43.077025",
     "exception": false,
     "start_time": "2024-07-15T05:37:43.020255",
     "status": "completed"
    },
    "tags": []
   },
   "outputs": [
    {
     "data": {
      "text/html": [
       "<div>\n",
       "<style scoped>\n",
       "    .dataframe tbody tr th:only-of-type {\n",
       "        vertical-align: middle;\n",
       "    }\n",
       "\n",
       "    .dataframe tbody tr th {\n",
       "        vertical-align: top;\n",
       "    }\n",
       "\n",
       "    .dataframe thead th {\n",
       "        text-align: right;\n",
       "    }\n",
       "</style>\n",
       "<table border=\"1\" class=\"dataframe\">\n",
       "  <thead>\n",
       "    <tr style=\"text-align: right;\">\n",
       "      <th></th>\n",
       "      <th>name</th>\n",
       "      <th>host id</th>\n",
       "      <th>host_identity_verified</th>\n",
       "      <th>host name</th>\n",
       "      <th>instant_bookable</th>\n",
       "      <th>cancellation_policy</th>\n",
       "      <th>room type</th>\n",
       "      <th>Construction year</th>\n",
       "      <th>price</th>\n",
       "      <th>service fee</th>\n",
       "      <th>minimum nights</th>\n",
       "      <th>number of reviews</th>\n",
       "      <th>availability 365</th>\n",
       "      <th>house_rules</th>\n",
       "      <th>license</th>\n",
       "      <th>area</th>\n",
       "    </tr>\n",
       "    <tr>\n",
       "      <th>id</th>\n",
       "      <th></th>\n",
       "      <th></th>\n",
       "      <th></th>\n",
       "      <th></th>\n",
       "      <th></th>\n",
       "      <th></th>\n",
       "      <th></th>\n",
       "      <th></th>\n",
       "      <th></th>\n",
       "      <th></th>\n",
       "      <th></th>\n",
       "      <th></th>\n",
       "      <th></th>\n",
       "      <th></th>\n",
       "      <th></th>\n",
       "      <th></th>\n",
       "    </tr>\n",
       "  </thead>\n",
       "  <tbody>\n",
       "    <tr>\n",
       "      <th>1001254</th>\n",
       "      <td>Clean &amp; quiet apt home by the park</td>\n",
       "      <td>80014485718</td>\n",
       "      <td>unconfirmed</td>\n",
       "      <td>Madaline</td>\n",
       "      <td>False</td>\n",
       "      <td>strict</td>\n",
       "      <td>Private room</td>\n",
       "      <td>2020.0</td>\n",
       "      <td>966.0</td>\n",
       "      <td>193</td>\n",
       "      <td>10.0</td>\n",
       "      <td>9.0</td>\n",
       "      <td>286.0</td>\n",
       "      <td>Clean up and treat the home the way you'd like...</td>\n",
       "      <td>NaN</td>\n",
       "      <td>Brooklyn Kensington</td>\n",
       "    </tr>\n",
       "    <tr>\n",
       "      <th>1002102</th>\n",
       "      <td>Skylit Midtown Castle</td>\n",
       "      <td>52335172823</td>\n",
       "      <td>verified</td>\n",
       "      <td>Jenna</td>\n",
       "      <td>False</td>\n",
       "      <td>moderate</td>\n",
       "      <td>Entire home/apt</td>\n",
       "      <td>2007.0</td>\n",
       "      <td>142.0</td>\n",
       "      <td>28</td>\n",
       "      <td>30.0</td>\n",
       "      <td>45.0</td>\n",
       "      <td>228.0</td>\n",
       "      <td>Pet friendly but please confirm with me if the...</td>\n",
       "      <td>NaN</td>\n",
       "      <td>Manhattan Midtown</td>\n",
       "    </tr>\n",
       "    <tr>\n",
       "      <th>1002403</th>\n",
       "      <td>THE VILLAGE OF HARLEM....NEW YORK !</td>\n",
       "      <td>78829239556</td>\n",
       "      <td>unconfirmed</td>\n",
       "      <td>Elise</td>\n",
       "      <td>True</td>\n",
       "      <td>flexible</td>\n",
       "      <td>Private room</td>\n",
       "      <td>2005.0</td>\n",
       "      <td>620.0</td>\n",
       "      <td>124</td>\n",
       "      <td>3.0</td>\n",
       "      <td>0.0</td>\n",
       "      <td>352.0</td>\n",
       "      <td>I encourage you to use my kitchen, cooking and...</td>\n",
       "      <td>NaN</td>\n",
       "      <td>Manhattan Harlem</td>\n",
       "    </tr>\n",
       "    <tr>\n",
       "      <th>1003689</th>\n",
       "      <td>Entire Apt: Spacious Studio/Loft by central park</td>\n",
       "      <td>92037596077</td>\n",
       "      <td>verified</td>\n",
       "      <td>Lyndon</td>\n",
       "      <td>False</td>\n",
       "      <td>moderate</td>\n",
       "      <td>Entire home/apt</td>\n",
       "      <td>2009.0</td>\n",
       "      <td>204.0</td>\n",
       "      <td>41</td>\n",
       "      <td>10.0</td>\n",
       "      <td>9.0</td>\n",
       "      <td>289.0</td>\n",
       "      <td>Please no smoking in the house, porch or on th...</td>\n",
       "      <td>NaN</td>\n",
       "      <td>Manhattan East Harlem</td>\n",
       "    </tr>\n",
       "    <tr>\n",
       "      <th>1004098</th>\n",
       "      <td>Large Cozy 1 BR Apartment In Midtown East</td>\n",
       "      <td>45498551794</td>\n",
       "      <td>verified</td>\n",
       "      <td>Michelle</td>\n",
       "      <td>True</td>\n",
       "      <td>flexible</td>\n",
       "      <td>Entire home/apt</td>\n",
       "      <td>2013.0</td>\n",
       "      <td>577.0</td>\n",
       "      <td>115</td>\n",
       "      <td>3.0</td>\n",
       "      <td>74.0</td>\n",
       "      <td>374.0</td>\n",
       "      <td>No smoking, please, and no drugs.</td>\n",
       "      <td>NaN</td>\n",
       "      <td>Manhattan Murray Hill</td>\n",
       "    </tr>\n",
       "    <tr>\n",
       "      <th>...</th>\n",
       "      <td>...</td>\n",
       "      <td>...</td>\n",
       "      <td>...</td>\n",
       "      <td>...</td>\n",
       "      <td>...</td>\n",
       "      <td>...</td>\n",
       "      <td>...</td>\n",
       "      <td>...</td>\n",
       "      <td>...</td>\n",
       "      <td>...</td>\n",
       "      <td>...</td>\n",
       "      <td>...</td>\n",
       "      <td>...</td>\n",
       "      <td>...</td>\n",
       "      <td>...</td>\n",
       "      <td>...</td>\n",
       "    </tr>\n",
       "    <tr>\n",
       "      <th>6092437</th>\n",
       "      <td>Spare room in Williamsburg</td>\n",
       "      <td>12312296767</td>\n",
       "      <td>verified</td>\n",
       "      <td>Krik</td>\n",
       "      <td>False</td>\n",
       "      <td>flexible</td>\n",
       "      <td>Private room</td>\n",
       "      <td>2003.0</td>\n",
       "      <td>844.0</td>\n",
       "      <td>169</td>\n",
       "      <td>1.0</td>\n",
       "      <td>0.0</td>\n",
       "      <td>227.0</td>\n",
       "      <td>No Smoking No Parties or Events of any kind Pl...</td>\n",
       "      <td>NaN</td>\n",
       "      <td>Brooklyn Williamsburg</td>\n",
       "    </tr>\n",
       "    <tr>\n",
       "      <th>6092990</th>\n",
       "      <td>Best Location near Columbia U</td>\n",
       "      <td>77864383453</td>\n",
       "      <td>unconfirmed</td>\n",
       "      <td>Mifan</td>\n",
       "      <td>True</td>\n",
       "      <td>moderate</td>\n",
       "      <td>Private room</td>\n",
       "      <td>2016.0</td>\n",
       "      <td>837.0</td>\n",
       "      <td>167</td>\n",
       "      <td>1.0</td>\n",
       "      <td>1.0</td>\n",
       "      <td>395.0</td>\n",
       "      <td>House rules: Guests agree to the following ter...</td>\n",
       "      <td>NaN</td>\n",
       "      <td>Manhattan Morningside Heights</td>\n",
       "    </tr>\n",
       "    <tr>\n",
       "      <th>6093542</th>\n",
       "      <td>Comfy, bright room in Brooklyn</td>\n",
       "      <td>69050334417</td>\n",
       "      <td>unconfirmed</td>\n",
       "      <td>Megan</td>\n",
       "      <td>True</td>\n",
       "      <td>moderate</td>\n",
       "      <td>Private room</td>\n",
       "      <td>2009.0</td>\n",
       "      <td>988.0</td>\n",
       "      <td>198</td>\n",
       "      <td>3.0</td>\n",
       "      <td>0.0</td>\n",
       "      <td>342.0</td>\n",
       "      <td>NaN</td>\n",
       "      <td>NaN</td>\n",
       "      <td>Brooklyn Park Slope</td>\n",
       "    </tr>\n",
       "    <tr>\n",
       "      <th>6094094</th>\n",
       "      <td>Big Studio-One Stop from Midtown</td>\n",
       "      <td>11160591270</td>\n",
       "      <td>unconfirmed</td>\n",
       "      <td>Christopher</td>\n",
       "      <td>True</td>\n",
       "      <td>strict</td>\n",
       "      <td>Entire home/apt</td>\n",
       "      <td>2015.0</td>\n",
       "      <td>546.0</td>\n",
       "      <td>109</td>\n",
       "      <td>2.0</td>\n",
       "      <td>5.0</td>\n",
       "      <td>386.0</td>\n",
       "      <td>NaN</td>\n",
       "      <td>NaN</td>\n",
       "      <td>Queens Long Island City</td>\n",
       "    </tr>\n",
       "    <tr>\n",
       "      <th>6094647</th>\n",
       "      <td>585 sf Luxury Studio</td>\n",
       "      <td>68170633372</td>\n",
       "      <td>unconfirmed</td>\n",
       "      <td>Rebecca</td>\n",
       "      <td>False</td>\n",
       "      <td>flexible</td>\n",
       "      <td>Entire home/apt</td>\n",
       "      <td>2010.0</td>\n",
       "      <td>1032.0</td>\n",
       "      <td>206</td>\n",
       "      <td>1.0</td>\n",
       "      <td>0.0</td>\n",
       "      <td>69.0</td>\n",
       "      <td>NaN</td>\n",
       "      <td>NaN</td>\n",
       "      <td>Manhattan Upper West Side</td>\n",
       "    </tr>\n",
       "  </tbody>\n",
       "</table>\n",
       "<p>102349 rows × 16 columns</p>\n",
       "</div>"
      ],
      "text/plain": [
       "                                                     name      host id  \\\n",
       "id                                                                       \n",
       "1001254                Clean & quiet apt home by the park  80014485718   \n",
       "1002102                             Skylit Midtown Castle  52335172823   \n",
       "1002403               THE VILLAGE OF HARLEM....NEW YORK !  78829239556   \n",
       "1003689  Entire Apt: Spacious Studio/Loft by central park  92037596077   \n",
       "1004098         Large Cozy 1 BR Apartment In Midtown East  45498551794   \n",
       "...                                                   ...          ...   \n",
       "6092437                        Spare room in Williamsburg  12312296767   \n",
       "6092990                     Best Location near Columbia U  77864383453   \n",
       "6093542                    Comfy, bright room in Brooklyn  69050334417   \n",
       "6094094                  Big Studio-One Stop from Midtown  11160591270   \n",
       "6094647                              585 sf Luxury Studio  68170633372   \n",
       "\n",
       "        host_identity_verified    host name instant_bookable  \\\n",
       "id                                                             \n",
       "1001254            unconfirmed     Madaline            False   \n",
       "1002102               verified        Jenna            False   \n",
       "1002403            unconfirmed        Elise             True   \n",
       "1003689               verified       Lyndon            False   \n",
       "1004098               verified     Michelle             True   \n",
       "...                        ...          ...              ...   \n",
       "6092437               verified         Krik            False   \n",
       "6092990            unconfirmed        Mifan             True   \n",
       "6093542            unconfirmed        Megan             True   \n",
       "6094094            unconfirmed  Christopher             True   \n",
       "6094647            unconfirmed      Rebecca            False   \n",
       "\n",
       "        cancellation_policy        room type  Construction year   price  \\\n",
       "id                                                                        \n",
       "1001254              strict     Private room             2020.0   966.0   \n",
       "1002102            moderate  Entire home/apt             2007.0   142.0   \n",
       "1002403            flexible     Private room             2005.0   620.0   \n",
       "1003689            moderate  Entire home/apt             2009.0   204.0   \n",
       "1004098            flexible  Entire home/apt             2013.0   577.0   \n",
       "...                     ...              ...                ...     ...   \n",
       "6092437            flexible     Private room             2003.0   844.0   \n",
       "6092990            moderate     Private room             2016.0   837.0   \n",
       "6093542            moderate     Private room             2009.0   988.0   \n",
       "6094094              strict  Entire home/apt             2015.0   546.0   \n",
       "6094647            flexible  Entire home/apt             2010.0  1032.0   \n",
       "\n",
       "         service fee  minimum nights number of reviews  availability 365  \\\n",
       "id                                                                         \n",
       "1001254          193            10.0               9.0             286.0   \n",
       "1002102           28            30.0              45.0             228.0   \n",
       "1002403          124             3.0               0.0             352.0   \n",
       "1003689           41            10.0               9.0             289.0   \n",
       "1004098          115             3.0              74.0             374.0   \n",
       "...              ...             ...               ...               ...   \n",
       "6092437          169             1.0               0.0             227.0   \n",
       "6092990          167             1.0               1.0             395.0   \n",
       "6093542          198             3.0               0.0             342.0   \n",
       "6094094          109             2.0               5.0             386.0   \n",
       "6094647          206             1.0               0.0              69.0   \n",
       "\n",
       "                                               house_rules license  \\\n",
       "id                                                                   \n",
       "1001254  Clean up and treat the home the way you'd like...     NaN   \n",
       "1002102  Pet friendly but please confirm with me if the...     NaN   \n",
       "1002403  I encourage you to use my kitchen, cooking and...     NaN   \n",
       "1003689  Please no smoking in the house, porch or on th...     NaN   \n",
       "1004098                  No smoking, please, and no drugs.     NaN   \n",
       "...                                                    ...     ...   \n",
       "6092437  No Smoking No Parties or Events of any kind Pl...     NaN   \n",
       "6092990  House rules: Guests agree to the following ter...     NaN   \n",
       "6093542                                                NaN     NaN   \n",
       "6094094                                                NaN     NaN   \n",
       "6094647                                                NaN     NaN   \n",
       "\n",
       "                                  area  \n",
       "id                                      \n",
       "1001254            Brooklyn Kensington  \n",
       "1002102              Manhattan Midtown  \n",
       "1002403               Manhattan Harlem  \n",
       "1003689          Manhattan East Harlem  \n",
       "1004098          Manhattan Murray Hill  \n",
       "...                                ...  \n",
       "6092437          Brooklyn Williamsburg  \n",
       "6092990  Manhattan Morningside Heights  \n",
       "6093542            Brooklyn Park Slope  \n",
       "6094094        Queens Long Island City  \n",
       "6094647      Manhattan Upper West Side  \n",
       "\n",
       "[102349 rows x 16 columns]"
      ]
     },
     "execution_count": 63,
     "metadata": {},
     "output_type": "execute_result"
    }
   ],
   "source": [
    "updated_df"
   ]
  },
  {
   "cell_type": "markdown",
   "id": "721b96fa",
   "metadata": {
    "papermill": {
     "duration": 0.032443,
     "end_time": "2024-07-15T05:37:43.137235",
     "exception": false,
     "start_time": "2024-07-15T05:37:43.104792",
     "status": "completed"
    },
    "tags": []
   },
   "source": [
    "**If house rules is null we keep it as no rules**"
   ]
  },
  {
   "cell_type": "code",
   "execution_count": 64,
   "id": "3fe790ba",
   "metadata": {
    "execution": {
     "iopub.execute_input": "2024-07-15T05:37:43.191052Z",
     "iopub.status.busy": "2024-07-15T05:37:43.190688Z",
     "iopub.status.idle": "2024-07-15T05:37:43.208438Z",
     "shell.execute_reply": "2024-07-15T05:37:43.207462Z"
    },
    "papermill": {
     "duration": 0.047294,
     "end_time": "2024-07-15T05:37:43.211019",
     "exception": false,
     "start_time": "2024-07-15T05:37:43.163725",
     "status": "completed"
    },
    "tags": []
   },
   "outputs": [],
   "source": [
    "updated_df['house_rules'] = updated_df['house_rules'].fillna('no rules')"
   ]
  },
  {
   "cell_type": "code",
   "execution_count": 65,
   "id": "e888736c",
   "metadata": {
    "execution": {
     "iopub.execute_input": "2024-07-15T05:37:43.265504Z",
     "iopub.status.busy": "2024-07-15T05:37:43.265123Z",
     "iopub.status.idle": "2024-07-15T05:37:43.330029Z",
     "shell.execute_reply": "2024-07-15T05:37:43.328983Z"
    },
    "papermill": {
     "duration": 0.093815,
     "end_time": "2024-07-15T05:37:43.332459",
     "exception": false,
     "start_time": "2024-07-15T05:37:43.238644",
     "status": "completed"
    },
    "tags": []
   },
   "outputs": [
    {
     "data": {
      "text/plain": [
       "name                           0\n",
       "host id                        0\n",
       "host_identity_verified         0\n",
       "host name                      0\n",
       "instant_bookable               0\n",
       "cancellation_policy            0\n",
       "room type                      0\n",
       "Construction year              0\n",
       "price                          0\n",
       "service fee                    0\n",
       "minimum nights                 0\n",
       "number of reviews              0\n",
       "availability 365               0\n",
       "house_rules                    0\n",
       "license                   102347\n",
       "area                          43\n",
       "dtype: int64"
      ]
     },
     "execution_count": 65,
     "metadata": {},
     "output_type": "execute_result"
    }
   ],
   "source": [
    "updated_df.isna().sum()"
   ]
  },
  {
   "cell_type": "code",
   "execution_count": 66,
   "id": "b8b83bb0",
   "metadata": {
    "execution": {
     "iopub.execute_input": "2024-07-15T05:37:43.385977Z",
     "iopub.status.busy": "2024-07-15T05:37:43.385591Z",
     "iopub.status.idle": "2024-07-15T05:37:43.396369Z",
     "shell.execute_reply": "2024-07-15T05:37:43.395251Z"
    },
    "papermill": {
     "duration": 0.039948,
     "end_time": "2024-07-15T05:37:43.398821",
     "exception": false,
     "start_time": "2024-07-15T05:37:43.358873",
     "status": "completed"
    },
    "tags": []
   },
   "outputs": [
    {
     "data": {
      "text/plain": [
       "array([nan, '41662/AL'], dtype=object)"
      ]
     },
     "execution_count": 66,
     "metadata": {},
     "output_type": "execute_result"
    }
   ],
   "source": [
    "updated_df['license'].unique()"
   ]
  },
  {
   "cell_type": "markdown",
   "id": "95c60fa9",
   "metadata": {
    "papermill": {
     "duration": 0.027052,
     "end_time": "2024-07-15T05:37:43.451939",
     "exception": false,
     "start_time": "2024-07-15T05:37:43.424887",
     "status": "completed"
    },
    "tags": []
   },
   "source": [
    "**There is only 1 type of license and majority are null so we are droping this column**"
   ]
  },
  {
   "cell_type": "code",
   "execution_count": 67,
   "id": "7ad7d242",
   "metadata": {
    "execution": {
     "iopub.execute_input": "2024-07-15T05:37:43.508750Z",
     "iopub.status.busy": "2024-07-15T05:37:43.508393Z",
     "iopub.status.idle": "2024-07-15T05:37:43.565955Z",
     "shell.execute_reply": "2024-07-15T05:37:43.564590Z"
    },
    "papermill": {
     "duration": 0.08866,
     "end_time": "2024-07-15T05:37:43.568661",
     "exception": false,
     "start_time": "2024-07-15T05:37:43.480001",
     "status": "completed"
    },
    "tags": []
   },
   "outputs": [],
   "source": [
    "updated_df.drop(columns = ['license'],inplace = True)"
   ]
  },
  {
   "cell_type": "code",
   "execution_count": 68,
   "id": "60f719f9",
   "metadata": {
    "execution": {
     "iopub.execute_input": "2024-07-15T05:37:43.624768Z",
     "iopub.status.busy": "2024-07-15T05:37:43.624406Z",
     "iopub.status.idle": "2024-07-15T05:37:43.680439Z",
     "shell.execute_reply": "2024-07-15T05:37:43.679374Z"
    },
    "papermill": {
     "duration": 0.086614,
     "end_time": "2024-07-15T05:37:43.682713",
     "exception": false,
     "start_time": "2024-07-15T05:37:43.596099",
     "status": "completed"
    },
    "tags": []
   },
   "outputs": [
    {
     "data": {
      "text/plain": [
       "name                       0\n",
       "host id                    0\n",
       "host_identity_verified     0\n",
       "host name                  0\n",
       "instant_bookable           0\n",
       "cancellation_policy        0\n",
       "room type                  0\n",
       "Construction year          0\n",
       "price                      0\n",
       "service fee                0\n",
       "minimum nights             0\n",
       "number of reviews          0\n",
       "availability 365           0\n",
       "house_rules                0\n",
       "area                      43\n",
       "dtype: int64"
      ]
     },
     "execution_count": 68,
     "metadata": {},
     "output_type": "execute_result"
    }
   ],
   "source": [
    "updated_df.isna().sum()"
   ]
  },
  {
   "cell_type": "markdown",
   "id": "ded93302",
   "metadata": {
    "papermill": {
     "duration": 0.027344,
     "end_time": "2024-07-15T05:37:43.737040",
     "exception": false,
     "start_time": "2024-07-15T05:37:43.709696",
     "status": "completed"
    },
    "tags": []
   },
   "source": [
    "**We keep null address as unknown**"
   ]
  },
  {
   "cell_type": "code",
   "execution_count": 69,
   "id": "1a95105a",
   "metadata": {
    "execution": {
     "iopub.execute_input": "2024-07-15T05:37:43.793320Z",
     "iopub.status.busy": "2024-07-15T05:37:43.792944Z",
     "iopub.status.idle": "2024-07-15T05:37:43.810473Z",
     "shell.execute_reply": "2024-07-15T05:37:43.809181Z"
    },
    "papermill": {
     "duration": 0.04903,
     "end_time": "2024-07-15T05:37:43.812980",
     "exception": false,
     "start_time": "2024-07-15T05:37:43.763950",
     "status": "completed"
    },
    "tags": []
   },
   "outputs": [],
   "source": [
    "updated_df['area'] = updated_df['area'].fillna('Unknown')"
   ]
  },
  {
   "cell_type": "code",
   "execution_count": 70,
   "id": "b35f7376",
   "metadata": {
    "execution": {
     "iopub.execute_input": "2024-07-15T05:37:43.868216Z",
     "iopub.status.busy": "2024-07-15T05:37:43.867869Z",
     "iopub.status.idle": "2024-07-15T05:37:43.923527Z",
     "shell.execute_reply": "2024-07-15T05:37:43.922397Z"
    },
    "papermill": {
     "duration": 0.086101,
     "end_time": "2024-07-15T05:37:43.926282",
     "exception": false,
     "start_time": "2024-07-15T05:37:43.840181",
     "status": "completed"
    },
    "tags": []
   },
   "outputs": [
    {
     "data": {
      "text/plain": [
       "name                      0\n",
       "host id                   0\n",
       "host_identity_verified    0\n",
       "host name                 0\n",
       "instant_bookable          0\n",
       "cancellation_policy       0\n",
       "room type                 0\n",
       "Construction year         0\n",
       "price                     0\n",
       "service fee               0\n",
       "minimum nights            0\n",
       "number of reviews         0\n",
       "availability 365          0\n",
       "house_rules               0\n",
       "area                      0\n",
       "dtype: int64"
      ]
     },
     "execution_count": 70,
     "metadata": {},
     "output_type": "execute_result"
    }
   ],
   "source": [
    "updated_df.isna().sum()"
   ]
  },
  {
   "cell_type": "markdown",
   "id": "572a8738",
   "metadata": {
    "papermill": {
     "duration": 0.026591,
     "end_time": "2024-07-15T05:37:43.980076",
     "exception": false,
     "start_time": "2024-07-15T05:37:43.953485",
     "status": "completed"
    },
    "tags": []
   },
   "source": [
    "**Analysis on the cleaned data**"
   ]
  },
  {
   "cell_type": "code",
   "execution_count": null,
   "id": "97201e3d",
   "metadata": {
    "papermill": {
     "duration": 0.025233,
     "end_time": "2024-07-15T05:37:44.030901",
     "exception": false,
     "start_time": "2024-07-15T05:37:44.005668",
     "status": "completed"
    },
    "tags": []
   },
   "outputs": [],
   "source": []
  }
 ],
 "metadata": {
  "kaggle": {
   "accelerator": "none",
   "dataSources": [
    {
     "datasetId": 2380415,
     "sourceId": 4016336,
     "sourceType": "datasetVersion"
    }
   ],
   "dockerImageVersionId": 30746,
   "isGpuEnabled": false,
   "isInternetEnabled": false,
   "language": "python",
   "sourceType": "notebook"
  },
  "kernelspec": {
   "display_name": "Python 3",
   "language": "python",
   "name": "python3"
  },
  "language_info": {
   "codemirror_mode": {
    "name": "ipython",
    "version": 3
   },
   "file_extension": ".py",
   "mimetype": "text/x-python",
   "name": "python",
   "nbconvert_exporter": "python",
   "pygments_lexer": "ipython3",
   "version": "3.10.13"
  },
  "papermill": {
   "default_parameters": {},
   "duration": 62.122541,
   "end_time": "2024-07-15T05:37:44.681821",
   "environment_variables": {},
   "exception": null,
   "input_path": "__notebook__.ipynb",
   "output_path": "__notebook__.ipynb",
   "parameters": {},
   "start_time": "2024-07-15T05:36:42.559280",
   "version": "2.5.0"
  }
 },
 "nbformat": 4,
 "nbformat_minor": 5
}
